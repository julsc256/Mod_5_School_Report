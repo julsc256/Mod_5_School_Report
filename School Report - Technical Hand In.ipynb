{
 "cells": [
  {
   "cell_type": "markdown",
   "metadata": {},
   "source": [
    "# Mod 5 Project Submission\n",
    "- Student Name: Juliette Cabrera\n",
    "- Student pace: Part-Time\n",
    "- Scheduled project review date/time: \n",
    "- Instructor name: Matt Sparr\n",
    "- Blog post URL: "
   ]
  },
  {
   "cell_type": "markdown",
   "metadata": {},
   "source": [
    "# The Question:\n",
    "- The objective is to use the 2006-2007 school report to build a model that can predict a passing or failing grade of a school and interpret the results to find the factors which influence the grade."
   ]
  },
  {
   "cell_type": "markdown",
   "metadata": {},
   "source": [
    "# The Process:\n",
    "Supervised learning - Classification - allows us to tell if something belongs to one class, or the other.  In this particular project, we're doing a multiclass classification problem because we're determining if the school will get a passing or failing grade.\n",
    "\n",
    "## Data Used:\n",
    "- Used the 2006-2007 School Report from NYC OpenData \n",
    "- Used https://www.schooldigger.com/go/NY/search.aspx (found in **Webscrape** notebook) to webscrape to find additional features:\n",
    "    - Enrollment totals\n",
    "    - Teacher-Student Ratio\n",
    "    - Percent students who have free/reduced lunch \n",
    "\n",
    "## Workflow:\n",
    "- Data cleaning \n",
    "    - includes encoding categorical columns\n",
    "- EDA (exploratory data analysis)\n",
    "    - Data visualization\n",
    "- Compare model performance:\n",
    "    - KNN (K-Nearest Neighbor)     \n",
    "    - Decision Tree\n",
    "    - Random Forest\n",
    "    - Gradient Boosting\n",
    "    - Ada Boost\n",
    "    - XGBoost\n",
    "- Interpret the findings\n",
    "- Test models with new data (2007 - 2008 School Report)"
   ]
  },
  {
   "cell_type": "markdown",
   "metadata": {},
   "source": [
    "# 1. Import all the necessary libraries, data set, and define functions that will be needed."
   ]
  },
  {
   "cell_type": "code",
   "execution_count": 1,
   "metadata": {},
   "outputs": [],
   "source": [
    "import pandas as pd\n",
    "import numpy as np\n",
    "import warnings\n",
    "warnings.filterwarnings('ignore')\n",
    "\n",
    "import seaborn as sns\n",
    "import matplotlib as mpl\n",
    "import matplotlib.pyplot as plt\n",
    "\n",
    "import sklearn\n",
    "from sklearn import metrics\n",
    "from sklearn.model_selection import train_test_split, GridSearchCV\n",
    "from sklearn.tree import DecisionTreeClassifier, export_graphviz\n",
    "from sklearn.metrics import accuracy_score, precision_score, f1_score, recall_score, classification_report\n",
    "from sklearn.metrics import roc_curve, auc, roc_auc_score\n",
    "from sklearn.preprocessing import OneHotEncoder, StandardScaler\n",
    "from IPython.display import Image\n",
    "from pydotplus import graph_from_dot_data\n",
    "\n",
    "from sklearn.neighbors import KNeighborsClassifier\n",
    "from sklearn.ensemble import RandomForestClassifier, AdaBoostClassifier, GradientBoostingClassifier\n",
    "\n",
    "from sklearn.metrics import confusion_matrix, plot_confusion_matrix\n",
    "\n",
    "from sklearn.decomposition import PCA\n",
    "\n",
    "def print_metrics(labels, preds):\n",
    "    print('Precision Score: {}'.format(precision_score(labels, preds, average='weighted', zero_division='warn')))\n",
    "    print('Recall Score: {}'.format(recall_score(labels, preds, average='weighted')))\n",
    "    print('Accuracy Score: {}'.format(accuracy_score(labels, preds)))\n",
    "    print('F1 Score: {}'.format(f1_score(labels, preds, average='weighted')))\n",
    "\n",
    "from imblearn.over_sampling import SMOTE\n",
    "from xgboost import XGBClassifier"
   ]
  },
  {
   "cell_type": "markdown",
   "metadata": {},
   "source": [
    "# 2. Data Cleaning"
   ]
  },
  {
   "cell_type": "code",
   "execution_count": 2,
   "metadata": {},
   "outputs": [
    {
     "data": {
      "text/html": [
       "<div>\n",
       "<style scoped>\n",
       "    .dataframe tbody tr th:only-of-type {\n",
       "        vertical-align: middle;\n",
       "    }\n",
       "\n",
       "    .dataframe tbody tr th {\n",
       "        vertical-align: top;\n",
       "    }\n",
       "\n",
       "    .dataframe thead th {\n",
       "        text-align: right;\n",
       "    }\n",
       "</style>\n",
       "<table border=\"1\" class=\"dataframe\">\n",
       "  <thead>\n",
       "    <tr style=\"text-align: right;\">\n",
       "      <th></th>\n",
       "      <th>Unnamed: 0</th>\n",
       "      <th>SCHOOL</th>\n",
       "      <th>SCHOOL LEVEL*</th>\n",
       "      <th>PEER INDEX*</th>\n",
       "      <th>GRADE</th>\n",
       "      <th>OVERALL SCORE</th>\n",
       "      <th>ENVIRONMENT CATEGORY SCORE</th>\n",
       "      <th>PERFORMANCE CATEGORY SCORE</th>\n",
       "      <th>PROGRESS CATEGORY SCORE</th>\n",
       "      <th>ADDITIONAL CREDIT</th>\n",
       "      <th>QUALITY REVIEW SCORE</th>\n",
       "      <th>Enrollment</th>\n",
       "      <th>Student-Teacher Ratio</th>\n",
       "      <th>Free-Reduced Lunch</th>\n",
       "    </tr>\n",
       "  </thead>\n",
       "  <tbody>\n",
       "    <tr>\n",
       "      <td>0</td>\n",
       "      <td>0</td>\n",
       "      <td>BARD HIGH SCHOOL EARLY COLLEGE</td>\n",
       "      <td>High School</td>\n",
       "      <td>3.77</td>\n",
       "      <td>B</td>\n",
       "      <td>57.80</td>\n",
       "      <td>0.715</td>\n",
       "      <td>0.607</td>\n",
       "      <td>0.524</td>\n",
       "      <td>0.00</td>\n",
       "      <td>Well-Developed</td>\n",
       "      <td>589</td>\n",
       "      <td>17.3</td>\n",
       "      <td>43.5</td>\n",
       "    </tr>\n",
       "    <tr>\n",
       "      <td>1</td>\n",
       "      <td>1</td>\n",
       "      <td>CHILDREN'S WORKSHOP SCHOOL</td>\n",
       "      <td>Elementary School</td>\n",
       "      <td>39.10</td>\n",
       "      <td>B</td>\n",
       "      <td>56.81</td>\n",
       "      <td>0.508</td>\n",
       "      <td>0.462</td>\n",
       "      <td>0.615</td>\n",
       "      <td>1.50</td>\n",
       "      <td>Proficient</td>\n",
       "      <td>318</td>\n",
       "      <td>16.7</td>\n",
       "      <td>45.3</td>\n",
       "    </tr>\n",
       "    <tr>\n",
       "      <td>2</td>\n",
       "      <td>2</td>\n",
       "      <td>EARTH SCHOOL</td>\n",
       "      <td>Elementary School</td>\n",
       "      <td>41.67</td>\n",
       "      <td>B</td>\n",
       "      <td>55.18</td>\n",
       "      <td>0.985</td>\n",
       "      <td>0.446</td>\n",
       "      <td>0.492</td>\n",
       "      <td>0.00</td>\n",
       "      <td>Well-Developed</td>\n",
       "      <td>349</td>\n",
       "      <td>12.0</td>\n",
       "      <td>52.4</td>\n",
       "    </tr>\n",
       "    <tr>\n",
       "      <td>3</td>\n",
       "      <td>3</td>\n",
       "      <td>EAST SIDE COMMUNITY HIGH SCHOOL</td>\n",
       "      <td>High School</td>\n",
       "      <td>2.66</td>\n",
       "      <td>A</td>\n",
       "      <td>71.33</td>\n",
       "      <td>0.788</td>\n",
       "      <td>0.640</td>\n",
       "      <td>0.624</td>\n",
       "      <td>6.00</td>\n",
       "      <td>Well-Developed</td>\n",
       "      <td>678</td>\n",
       "      <td>13.8</td>\n",
       "      <td>65.3</td>\n",
       "    </tr>\n",
       "    <tr>\n",
       "      <td>4</td>\n",
       "      <td>4</td>\n",
       "      <td>MARTA VALLE SECONDARY SCHOOL</td>\n",
       "      <td>High School</td>\n",
       "      <td>2.63</td>\n",
       "      <td>C</td>\n",
       "      <td>36.00</td>\n",
       "      <td>0.250</td>\n",
       "      <td>0.387</td>\n",
       "      <td>0.375</td>\n",
       "      <td>0.00</td>\n",
       "      <td>Undeveloped</td>\n",
       "      <td>149</td>\n",
       "      <td>12.4</td>\n",
       "      <td>93.3</td>\n",
       "    </tr>\n",
       "    <tr>\n",
       "      <td>5</td>\n",
       "      <td>5</td>\n",
       "      <td>MARTA VALLE SECONDARY SCHOOL</td>\n",
       "      <td>Middle School</td>\n",
       "      <td>2.89</td>\n",
       "      <td>D</td>\n",
       "      <td>34.90</td>\n",
       "      <td>0.297</td>\n",
       "      <td>0.513</td>\n",
       "      <td>0.274</td>\n",
       "      <td>0.00</td>\n",
       "      <td>Undeveloped</td>\n",
       "      <td>303</td>\n",
       "      <td>13.7</td>\n",
       "      <td>43.9</td>\n",
       "    </tr>\n",
       "    <tr>\n",
       "      <td>6</td>\n",
       "      <td>6</td>\n",
       "      <td>NEIGHBORHOOD SCHOOL</td>\n",
       "      <td>Elementary School</td>\n",
       "      <td>37.76</td>\n",
       "      <td>B</td>\n",
       "      <td>53.08</td>\n",
       "      <td>0.821</td>\n",
       "      <td>0.429</td>\n",
       "      <td>0.507</td>\n",
       "      <td>0.00</td>\n",
       "      <td>Proficient</td>\n",
       "      <td>1729</td>\n",
       "      <td>18.7</td>\n",
       "      <td>23.5</td>\n",
       "    </tr>\n",
       "    <tr>\n",
       "      <td>7</td>\n",
       "      <td>7</td>\n",
       "      <td>NEW EXPLORATIONS INTO SCIENCE, TECHNOLOGY AND ...</td>\n",
       "      <td>High School</td>\n",
       "      <td>3.62</td>\n",
       "      <td>A</td>\n",
       "      <td>84.74</td>\n",
       "      <td>0.611</td>\n",
       "      <td>1.021</td>\n",
       "      <td>0.817</td>\n",
       "      <td>0.00</td>\n",
       "      <td>Undeveloped</td>\n",
       "      <td>201</td>\n",
       "      <td>11.1</td>\n",
       "      <td>82.6</td>\n",
       "    </tr>\n",
       "    <tr>\n",
       "      <td>8</td>\n",
       "      <td>8</td>\n",
       "      <td>PS 015 ROBERTO CLEMENTE</td>\n",
       "      <td>Elementary School</td>\n",
       "      <td>75.60</td>\n",
       "      <td>B</td>\n",
       "      <td>52.31</td>\n",
       "      <td>0.278</td>\n",
       "      <td>0.231</td>\n",
       "      <td>0.694</td>\n",
       "      <td>3.00</td>\n",
       "      <td>Undeveloped</td>\n",
       "      <td>379</td>\n",
       "      <td>14.5</td>\n",
       "      <td>61.5</td>\n",
       "    </tr>\n",
       "    <tr>\n",
       "      <td>9</td>\n",
       "      <td>9</td>\n",
       "      <td>PS 019 ASHER LEVY</td>\n",
       "      <td>Elementary School</td>\n",
       "      <td>59.25</td>\n",
       "      <td>B</td>\n",
       "      <td>51.24</td>\n",
       "      <td>0.510</td>\n",
       "      <td>0.466</td>\n",
       "      <td>0.511</td>\n",
       "      <td>1.50</td>\n",
       "      <td>Proficient</td>\n",
       "      <td>293</td>\n",
       "      <td>9.1</td>\n",
       "      <td>91.1</td>\n",
       "    </tr>\n",
       "    <tr>\n",
       "      <td>10</td>\n",
       "      <td>10</td>\n",
       "      <td>PS 020 ANNA SILVER</td>\n",
       "      <td>Elementary School</td>\n",
       "      <td>69.78</td>\n",
       "      <td>B</td>\n",
       "      <td>52.59</td>\n",
       "      <td>0.568</td>\n",
       "      <td>0.682</td>\n",
       "      <td>0.402</td>\n",
       "      <td>1.50</td>\n",
       "      <td>Well-Developed</td>\n",
       "      <td>371</td>\n",
       "      <td>11.9</td>\n",
       "      <td>87.6</td>\n",
       "    </tr>\n",
       "    <tr>\n",
       "      <td>11</td>\n",
       "      <td>11</td>\n",
       "      <td>PS 034 FRANKLIN D ROOSEVELT</td>\n",
       "      <td>K-8 School</td>\n",
       "      <td>71.90</td>\n",
       "      <td>C</td>\n",
       "      <td>47.02</td>\n",
       "      <td>0.409</td>\n",
       "      <td>0.366</td>\n",
       "      <td>0.530</td>\n",
       "      <td>0.75</td>\n",
       "      <td>Proficient</td>\n",
       "      <td>344</td>\n",
       "      <td>9.8</td>\n",
       "      <td>97.4</td>\n",
       "    </tr>\n",
       "    <tr>\n",
       "      <td>12</td>\n",
       "      <td>12</td>\n",
       "      <td>PS 063 WILLIAM MCKINLEY</td>\n",
       "      <td>Elementary School</td>\n",
       "      <td>62.17</td>\n",
       "      <td>C</td>\n",
       "      <td>44.66</td>\n",
       "      <td>0.199</td>\n",
       "      <td>0.511</td>\n",
       "      <td>0.479</td>\n",
       "      <td>0.00</td>\n",
       "      <td>Proficient</td>\n",
       "      <td>191</td>\n",
       "      <td>9.5</td>\n",
       "      <td>84.8</td>\n",
       "    </tr>\n",
       "    <tr>\n",
       "      <td>13</td>\n",
       "      <td>13</td>\n",
       "      <td>PS 064 ROBERT SIMON</td>\n",
       "      <td>Elementary School</td>\n",
       "      <td>71.90</td>\n",
       "      <td>C</td>\n",
       "      <td>48.43</td>\n",
       "      <td>0.561</td>\n",
       "      <td>0.586</td>\n",
       "      <td>0.408</td>\n",
       "      <td>0.00</td>\n",
       "      <td>Well-Developed</td>\n",
       "      <td>682</td>\n",
       "      <td>13.3</td>\n",
       "      <td>67.9</td>\n",
       "    </tr>\n",
       "    <tr>\n",
       "      <td>14</td>\n",
       "      <td>14</td>\n",
       "      <td>PS 110 FLORENCE NIGHTINGALE</td>\n",
       "      <td>Elementary School</td>\n",
       "      <td>54.96</td>\n",
       "      <td>B</td>\n",
       "      <td>51.17</td>\n",
       "      <td>0.818</td>\n",
       "      <td>0.644</td>\n",
       "      <td>0.315</td>\n",
       "      <td>2.25</td>\n",
       "      <td>Proficient</td>\n",
       "      <td>431</td>\n",
       "      <td>11.6</td>\n",
       "      <td>91.6</td>\n",
       "    </tr>\n",
       "    <tr>\n",
       "      <td>15</td>\n",
       "      <td>15</td>\n",
       "      <td>PS 134 HENRIETTA SZOLD</td>\n",
       "      <td>Elementary School</td>\n",
       "      <td>66.49</td>\n",
       "      <td>B</td>\n",
       "      <td>54.21</td>\n",
       "      <td>0.338</td>\n",
       "      <td>0.550</td>\n",
       "      <td>0.566</td>\n",
       "      <td>1.50</td>\n",
       "      <td>Well-Developed</td>\n",
       "      <td>258</td>\n",
       "      <td>7.1</td>\n",
       "      <td>76.7</td>\n",
       "    </tr>\n",
       "    <tr>\n",
       "      <td>16</td>\n",
       "      <td>16</td>\n",
       "      <td>PS 140 NATHAN STRAUS</td>\n",
       "      <td>K-8 School</td>\n",
       "      <td>73.18</td>\n",
       "      <td>B</td>\n",
       "      <td>56.14</td>\n",
       "      <td>0.588</td>\n",
       "      <td>0.441</td>\n",
       "      <td>0.593</td>\n",
       "      <td>1.50</td>\n",
       "      <td>Proficient</td>\n",
       "      <td>494</td>\n",
       "      <td>13.7</td>\n",
       "      <td>72.7</td>\n",
       "    </tr>\n",
       "  </tbody>\n",
       "</table>\n",
       "</div>"
      ],
      "text/plain": [
       "    Unnamed: 0                                             SCHOOL  \\\n",
       "0            0                     BARD HIGH SCHOOL EARLY COLLEGE   \n",
       "1            1                         CHILDREN'S WORKSHOP SCHOOL   \n",
       "2            2                                       EARTH SCHOOL   \n",
       "3            3                    EAST SIDE COMMUNITY HIGH SCHOOL   \n",
       "4            4                       MARTA VALLE SECONDARY SCHOOL   \n",
       "5            5                       MARTA VALLE SECONDARY SCHOOL   \n",
       "6            6                                NEIGHBORHOOD SCHOOL   \n",
       "7            7  NEW EXPLORATIONS INTO SCIENCE, TECHNOLOGY AND ...   \n",
       "8            8                            PS 015 ROBERTO CLEMENTE   \n",
       "9            9                                  PS 019 ASHER LEVY   \n",
       "10          10                                 PS 020 ANNA SILVER   \n",
       "11          11                        PS 034 FRANKLIN D ROOSEVELT   \n",
       "12          12                            PS 063 WILLIAM MCKINLEY   \n",
       "13          13                                PS 064 ROBERT SIMON   \n",
       "14          14                        PS 110 FLORENCE NIGHTINGALE   \n",
       "15          15                             PS 134 HENRIETTA SZOLD   \n",
       "16          16                               PS 140 NATHAN STRAUS   \n",
       "\n",
       "        SCHOOL LEVEL*  PEER INDEX*  GRADE  OVERALL SCORE  \\\n",
       "0         High School         3.77      B          57.80   \n",
       "1   Elementary School        39.10      B          56.81   \n",
       "2   Elementary School        41.67      B          55.18   \n",
       "3         High School         2.66      A          71.33   \n",
       "4         High School         2.63      C          36.00   \n",
       "5       Middle School         2.89      D          34.90   \n",
       "6   Elementary School        37.76      B          53.08   \n",
       "7         High School         3.62      A          84.74   \n",
       "8   Elementary School        75.60      B          52.31   \n",
       "9   Elementary School        59.25      B          51.24   \n",
       "10  Elementary School        69.78      B          52.59   \n",
       "11         K-8 School        71.90      C          47.02   \n",
       "12  Elementary School        62.17      C          44.66   \n",
       "13  Elementary School        71.90      C          48.43   \n",
       "14  Elementary School        54.96      B          51.17   \n",
       "15  Elementary School        66.49      B          54.21   \n",
       "16         K-8 School        73.18      B          56.14   \n",
       "\n",
       "    ENVIRONMENT CATEGORY SCORE  PERFORMANCE CATEGORY SCORE  \\\n",
       "0                        0.715                       0.607   \n",
       "1                        0.508                       0.462   \n",
       "2                        0.985                       0.446   \n",
       "3                        0.788                       0.640   \n",
       "4                        0.250                       0.387   \n",
       "5                        0.297                       0.513   \n",
       "6                        0.821                       0.429   \n",
       "7                        0.611                       1.021   \n",
       "8                        0.278                       0.231   \n",
       "9                        0.510                       0.466   \n",
       "10                       0.568                       0.682   \n",
       "11                       0.409                       0.366   \n",
       "12                       0.199                       0.511   \n",
       "13                       0.561                       0.586   \n",
       "14                       0.818                       0.644   \n",
       "15                       0.338                       0.550   \n",
       "16                       0.588                       0.441   \n",
       "\n",
       "    PROGRESS CATEGORY SCORE  ADDITIONAL CREDIT QUALITY REVIEW SCORE  \\\n",
       "0                     0.524               0.00       Well-Developed   \n",
       "1                     0.615               1.50           Proficient   \n",
       "2                     0.492               0.00       Well-Developed   \n",
       "3                     0.624               6.00       Well-Developed   \n",
       "4                     0.375               0.00          Undeveloped   \n",
       "5                     0.274               0.00          Undeveloped   \n",
       "6                     0.507               0.00           Proficient   \n",
       "7                     0.817               0.00          Undeveloped   \n",
       "8                     0.694               3.00          Undeveloped   \n",
       "9                     0.511               1.50           Proficient   \n",
       "10                    0.402               1.50       Well-Developed   \n",
       "11                    0.530               0.75           Proficient   \n",
       "12                    0.479               0.00           Proficient   \n",
       "13                    0.408               0.00       Well-Developed   \n",
       "14                    0.315               2.25           Proficient   \n",
       "15                    0.566               1.50       Well-Developed   \n",
       "16                    0.593               1.50           Proficient   \n",
       "\n",
       "   Enrollment  Student-Teacher Ratio  Free-Reduced Lunch  \n",
       "0         589                   17.3                43.5  \n",
       "1         318                   16.7                45.3  \n",
       "2         349                   12.0                52.4  \n",
       "3         678                   13.8                65.3  \n",
       "4         149                   12.4                93.3  \n",
       "5         303                   13.7                43.9  \n",
       "6        1729                   18.7                23.5  \n",
       "7         201                   11.1                82.6  \n",
       "8         379                   14.5                61.5  \n",
       "9         293                    9.1                91.1  \n",
       "10        371                   11.9                87.6  \n",
       "11        344                    9.8                97.4  \n",
       "12        191                    9.5                84.8  \n",
       "13        682                   13.3                67.9  \n",
       "14        431                   11.6                91.6  \n",
       "15        258                    7.1                76.7  \n",
       "16        494                   13.7                72.7  "
      ]
     },
     "execution_count": 2,
     "metadata": {},
     "output_type": "execute_result"
    }
   ],
   "source": [
    "school_report = pd.read_csv('clean_data.csv')\n",
    "school_report.head(17)"
   ]
  },
  {
   "cell_type": "markdown",
   "metadata": {},
   "source": [
    "#### Rename columns:\n",
    "- Fix columns names that are in a different format"
   ]
  },
  {
   "cell_type": "code",
   "execution_count": 3,
   "metadata": {},
   "outputs": [],
   "source": [
    "school_report.rename(columns = {' PEER INDEX* ': 'PEER INDEX'}, inplace=True)\n",
    "school_report.rename(columns = {'SCHOOL LEVEL*': 'SCHOOL LEVEL'}, inplace=True)"
   ]
  },
  {
   "cell_type": "markdown",
   "metadata": {},
   "source": [
    "#### Encode columns:\n",
    "- Encode categorical columns in order to clean and normalize the raw dataset."
   ]
  },
  {
   "cell_type": "code",
   "execution_count": 4,
   "metadata": {},
   "outputs": [],
   "source": [
    "school_report['SCHOOL LEVEL'] = school_report['SCHOOL LEVEL'].map({'Elementary School': 0,\n",
    "                                                                    'K-8 School': 1, 'Middle School': 2,\n",
    "                                                                    'High School': 3, 'Transfer School': 4})\n",
    "school_report['GRADE'] = school_report['GRADE'].map({'A': 0, 'B': 1, 'C': 2, 'D': 3, 'F': 4})\n",
    "school_report['QUALITY REVIEW SCORE'] = school_report['QUALITY REVIEW SCORE'].map({'Undeveloped': 0, 'Well-Developed': 1, 'Proficient': 2})"
   ]
  },
  {
   "cell_type": "markdown",
   "metadata": {},
   "source": [
    "#### Drop unneccessary columns"
   ]
  },
  {
   "cell_type": "code",
   "execution_count": 5,
   "metadata": {},
   "outputs": [],
   "source": [
    "school_report.drop(['Unnamed: 0', 'SCHOOL'],  axis=1, inplace=True)"
   ]
  },
  {
   "cell_type": "markdown",
   "metadata": {},
   "source": [
    "#### Check the ```.info()```\n",
    "- ```df.info()``` shows that there is no missing values, but it shows that PEER INDEX and Enrollment have object types."
   ]
  },
  {
   "cell_type": "code",
   "execution_count": 6,
   "metadata": {},
   "outputs": [
    {
     "name": "stdout",
     "output_type": "stream",
     "text": [
      "<class 'pandas.core.frame.DataFrame'>\n",
      "RangeIndex: 1044 entries, 0 to 1043\n",
      "Data columns (total 12 columns):\n",
      "SCHOOL LEVEL                  1044 non-null int64\n",
      "PEER INDEX                    1044 non-null object\n",
      "GRADE                         1044 non-null int64\n",
      "OVERALL SCORE                 1044 non-null float64\n",
      "ENVIRONMENT CATEGORY SCORE    1044 non-null float64\n",
      "PERFORMANCE CATEGORY SCORE    1044 non-null float64\n",
      "PROGRESS CATEGORY SCORE       1044 non-null float64\n",
      "ADDITIONAL CREDIT             1044 non-null float64\n",
      "QUALITY REVIEW SCORE          1044 non-null int64\n",
      "Enrollment                    1044 non-null object\n",
      "Student-Teacher Ratio         1044 non-null float64\n",
      "Free-Reduced Lunch            1044 non-null float64\n",
      "dtypes: float64(7), int64(3), object(2)\n",
      "memory usage: 98.0+ KB\n"
     ]
    }
   ],
   "source": [
    "school_report.info() "
   ]
  },
  {
   "cell_type": "markdown",
   "metadata": {},
   "source": [
    "#### Check ```.describe()``` \n",
    "- In the process of checking describe, notice that PEER INDEX and Enrollment do not show, because they are considered 'objects', even though they are numbers.  \n",
    "- Check their individual columns describe."
   ]
  },
  {
   "cell_type": "code",
   "execution_count": 7,
   "metadata": {},
   "outputs": [
    {
     "data": {
      "text/html": [
       "<div>\n",
       "<style scoped>\n",
       "    .dataframe tbody tr th:only-of-type {\n",
       "        vertical-align: middle;\n",
       "    }\n",
       "\n",
       "    .dataframe tbody tr th {\n",
       "        vertical-align: top;\n",
       "    }\n",
       "\n",
       "    .dataframe thead th {\n",
       "        text-align: right;\n",
       "    }\n",
       "</style>\n",
       "<table border=\"1\" class=\"dataframe\">\n",
       "  <thead>\n",
       "    <tr style=\"text-align: right;\">\n",
       "      <th></th>\n",
       "      <th>SCHOOL LEVEL</th>\n",
       "      <th>GRADE</th>\n",
       "      <th>OVERALL SCORE</th>\n",
       "      <th>ENVIRONMENT CATEGORY SCORE</th>\n",
       "      <th>PERFORMANCE CATEGORY SCORE</th>\n",
       "      <th>PROGRESS CATEGORY SCORE</th>\n",
       "      <th>ADDITIONAL CREDIT</th>\n",
       "      <th>QUALITY REVIEW SCORE</th>\n",
       "      <th>Student-Teacher Ratio</th>\n",
       "      <th>Free-Reduced Lunch</th>\n",
       "    </tr>\n",
       "  </thead>\n",
       "  <tbody>\n",
       "    <tr>\n",
       "      <td>count</td>\n",
       "      <td>1044.000000</td>\n",
       "      <td>1044.000000</td>\n",
       "      <td>1044.000000</td>\n",
       "      <td>1044.000000</td>\n",
       "      <td>1044.000000</td>\n",
       "      <td>1044.00000</td>\n",
       "      <td>1044.000000</td>\n",
       "      <td>1044.000000</td>\n",
       "      <td>1044.000000</td>\n",
       "      <td>1044.000000</td>\n",
       "    </tr>\n",
       "    <tr>\n",
       "      <td>mean</td>\n",
       "      <td>1.070881</td>\n",
       "      <td>1.230843</td>\n",
       "      <td>55.101374</td>\n",
       "      <td>0.512489</td>\n",
       "      <td>0.564418</td>\n",
       "      <td>0.50880</td>\n",
       "      <td>2.496648</td>\n",
       "      <td>1.484674</td>\n",
       "      <td>14.074330</td>\n",
       "      <td>76.083429</td>\n",
       "    </tr>\n",
       "    <tr>\n",
       "      <td>std</td>\n",
       "      <td>1.234202</td>\n",
       "      <td>1.006864</td>\n",
       "      <td>13.826718</td>\n",
       "      <td>0.179826</td>\n",
       "      <td>0.183776</td>\n",
       "      <td>0.17774</td>\n",
       "      <td>2.601808</td>\n",
       "      <td>0.612083</td>\n",
       "      <td>2.697126</td>\n",
       "      <td>21.016228</td>\n",
       "    </tr>\n",
       "    <tr>\n",
       "      <td>min</td>\n",
       "      <td>0.000000</td>\n",
       "      <td>0.000000</td>\n",
       "      <td>8.154000</td>\n",
       "      <td>-0.084000</td>\n",
       "      <td>-0.109000</td>\n",
       "      <td>-0.25200</td>\n",
       "      <td>0.000000</td>\n",
       "      <td>0.000000</td>\n",
       "      <td>4.700000</td>\n",
       "      <td>5.600000</td>\n",
       "    </tr>\n",
       "    <tr>\n",
       "      <td>25%</td>\n",
       "      <td>0.000000</td>\n",
       "      <td>1.000000</td>\n",
       "      <td>45.760000</td>\n",
       "      <td>0.383000</td>\n",
       "      <td>0.440000</td>\n",
       "      <td>0.39600</td>\n",
       "      <td>0.000000</td>\n",
       "      <td>1.000000</td>\n",
       "      <td>12.375000</td>\n",
       "      <td>69.300000</td>\n",
       "    </tr>\n",
       "    <tr>\n",
       "      <td>50%</td>\n",
       "      <td>0.000000</td>\n",
       "      <td>1.000000</td>\n",
       "      <td>55.185000</td>\n",
       "      <td>0.505500</td>\n",
       "      <td>0.567000</td>\n",
       "      <td>0.51400</td>\n",
       "      <td>1.500000</td>\n",
       "      <td>2.000000</td>\n",
       "      <td>14.100000</td>\n",
       "      <td>82.300000</td>\n",
       "    </tr>\n",
       "    <tr>\n",
       "      <td>75%</td>\n",
       "      <td>2.000000</td>\n",
       "      <td>2.000000</td>\n",
       "      <td>64.395000</td>\n",
       "      <td>0.646000</td>\n",
       "      <td>0.682000</td>\n",
       "      <td>0.62325</td>\n",
       "      <td>3.750000</td>\n",
       "      <td>2.000000</td>\n",
       "      <td>15.625000</td>\n",
       "      <td>91.300000</td>\n",
       "    </tr>\n",
       "    <tr>\n",
       "      <td>max</td>\n",
       "      <td>4.000000</td>\n",
       "      <td>4.000000</td>\n",
       "      <td>104.400000</td>\n",
       "      <td>1.035000</td>\n",
       "      <td>1.135000</td>\n",
       "      <td>1.14800</td>\n",
       "      <td>12.000000</td>\n",
       "      <td>2.000000</td>\n",
       "      <td>24.100000</td>\n",
       "      <td>100.000000</td>\n",
       "    </tr>\n",
       "  </tbody>\n",
       "</table>\n",
       "</div>"
      ],
      "text/plain": [
       "       SCHOOL LEVEL        GRADE  OVERALL SCORE  ENVIRONMENT CATEGORY SCORE  \\\n",
       "count   1044.000000  1044.000000    1044.000000                 1044.000000   \n",
       "mean       1.070881     1.230843      55.101374                    0.512489   \n",
       "std        1.234202     1.006864      13.826718                    0.179826   \n",
       "min        0.000000     0.000000       8.154000                   -0.084000   \n",
       "25%        0.000000     1.000000      45.760000                    0.383000   \n",
       "50%        0.000000     1.000000      55.185000                    0.505500   \n",
       "75%        2.000000     2.000000      64.395000                    0.646000   \n",
       "max        4.000000     4.000000     104.400000                    1.035000   \n",
       "\n",
       "       PERFORMANCE CATEGORY SCORE  PROGRESS CATEGORY SCORE  ADDITIONAL CREDIT  \\\n",
       "count                 1044.000000               1044.00000        1044.000000   \n",
       "mean                     0.564418                  0.50880           2.496648   \n",
       "std                      0.183776                  0.17774           2.601808   \n",
       "min                     -0.109000                 -0.25200           0.000000   \n",
       "25%                      0.440000                  0.39600           0.000000   \n",
       "50%                      0.567000                  0.51400           1.500000   \n",
       "75%                      0.682000                  0.62325           3.750000   \n",
       "max                      1.135000                  1.14800          12.000000   \n",
       "\n",
       "       QUALITY REVIEW SCORE  Student-Teacher Ratio  Free-Reduced Lunch  \n",
       "count           1044.000000            1044.000000         1044.000000  \n",
       "mean               1.484674              14.074330           76.083429  \n",
       "std                0.612083               2.697126           21.016228  \n",
       "min                0.000000               4.700000            5.600000  \n",
       "25%                1.000000              12.375000           69.300000  \n",
       "50%                2.000000              14.100000           82.300000  \n",
       "75%                2.000000              15.625000           91.300000  \n",
       "max                2.000000              24.100000          100.000000  "
      ]
     },
     "metadata": {},
     "output_type": "display_data"
    },
    {
     "data": {
      "text/plain": [
       "count     1044\n",
       "unique     735\n",
       "top        NA \n",
       "freq        13\n",
       "Name: PEER INDEX, dtype: object"
      ]
     },
     "metadata": {},
     "output_type": "display_data"
    },
    {
     "data": {
      "text/plain": [
       "count     1044\n",
       "unique     680\n",
       "top        496\n",
       "freq         6\n",
       "Name: Enrollment, dtype: object"
      ]
     },
     "metadata": {},
     "output_type": "display_data"
    }
   ],
   "source": [
    "display(school_report.describe()) \n",
    "display(school_report['PEER INDEX'].describe())\n",
    "display(school_report['Enrollment'].describe())"
   ]
  },
  {
   "cell_type": "markdown",
   "metadata": {},
   "source": [
    "#### Making changes:\n",
    "- Through ```df['column'].describe()```, notice that the top is NA, in the data, the dataset was not put in 'NaN', instead it is a string, and since it's label as type object, it does not show as missing.\n",
    "    - Replace all NA's with NaN \n",
    "- Enrollment has numbers as well, but it has commas, therefore, need to get rid of the commas, to make them integers."
   ]
  },
  {
   "cell_type": "code",
   "execution_count": 8,
   "metadata": {},
   "outputs": [],
   "source": [
    "school_report['PEER INDEX'].replace(' NA ', np.nan, inplace=True)"
   ]
  },
  {
   "cell_type": "code",
   "execution_count": 9,
   "metadata": {},
   "outputs": [],
   "source": [
    "school_report['Enrollment'] = school_report['Enrollment'].map(lambda x: x.replace(',', ''))"
   ]
  },
  {
   "cell_type": "markdown",
   "metadata": {},
   "source": [
    "#### Change types to their appropriate types:\n",
    "- PEER INDEX are floats\n",
    "- Enrollment are integers"
   ]
  },
  {
   "cell_type": "code",
   "execution_count": 10,
   "metadata": {},
   "outputs": [],
   "source": [
    "school_report['PEER INDEX'] = school_report['PEER INDEX'].astype(float)\n",
    "school_report['Enrollment'] = school_report['Enrollment'].astype(int)"
   ]
  },
  {
   "cell_type": "markdown",
   "metadata": {},
   "source": [
    "#### Fill in the missing values in PEER INDEX with the mean."
   ]
  },
  {
   "cell_type": "code",
   "execution_count": 11,
   "metadata": {},
   "outputs": [],
   "source": [
    "school_report['PEER INDEX'].fillna(value=school_report['PEER INDEX'].mean(), inplace=True)"
   ]
  },
  {
   "cell_type": "code",
   "execution_count": 12,
   "metadata": {},
   "outputs": [
    {
     "name": "stdout",
     "output_type": "stream",
     "text": [
      "<class 'pandas.core.frame.DataFrame'>\n",
      "RangeIndex: 1044 entries, 0 to 1043\n",
      "Data columns (total 12 columns):\n",
      "SCHOOL LEVEL                  1044 non-null int64\n",
      "PEER INDEX                    1044 non-null float64\n",
      "GRADE                         1044 non-null int64\n",
      "OVERALL SCORE                 1044 non-null float64\n",
      "ENVIRONMENT CATEGORY SCORE    1044 non-null float64\n",
      "PERFORMANCE CATEGORY SCORE    1044 non-null float64\n",
      "PROGRESS CATEGORY SCORE       1044 non-null float64\n",
      "ADDITIONAL CREDIT             1044 non-null float64\n",
      "QUALITY REVIEW SCORE          1044 non-null int64\n",
      "Enrollment                    1044 non-null int64\n",
      "Student-Teacher Ratio         1044 non-null float64\n",
      "Free-Reduced Lunch            1044 non-null float64\n",
      "dtypes: float64(8), int64(4)\n",
      "memory usage: 98.0 KB\n"
     ]
    },
    {
     "data": {
      "text/plain": [
       "None"
      ]
     },
     "metadata": {},
     "output_type": "display_data"
    },
    {
     "data": {
      "text/html": [
       "<div>\n",
       "<style scoped>\n",
       "    .dataframe tbody tr th:only-of-type {\n",
       "        vertical-align: middle;\n",
       "    }\n",
       "\n",
       "    .dataframe tbody tr th {\n",
       "        vertical-align: top;\n",
       "    }\n",
       "\n",
       "    .dataframe thead th {\n",
       "        text-align: right;\n",
       "    }\n",
       "</style>\n",
       "<table border=\"1\" class=\"dataframe\">\n",
       "  <thead>\n",
       "    <tr style=\"text-align: right;\">\n",
       "      <th></th>\n",
       "      <th>SCHOOL LEVEL</th>\n",
       "      <th>PEER INDEX</th>\n",
       "      <th>GRADE</th>\n",
       "      <th>OVERALL SCORE</th>\n",
       "      <th>ENVIRONMENT CATEGORY SCORE</th>\n",
       "      <th>PERFORMANCE CATEGORY SCORE</th>\n",
       "      <th>PROGRESS CATEGORY SCORE</th>\n",
       "      <th>ADDITIONAL CREDIT</th>\n",
       "      <th>QUALITY REVIEW SCORE</th>\n",
       "      <th>Enrollment</th>\n",
       "      <th>Student-Teacher Ratio</th>\n",
       "      <th>Free-Reduced Lunch</th>\n",
       "    </tr>\n",
       "  </thead>\n",
       "  <tbody>\n",
       "    <tr>\n",
       "      <td>count</td>\n",
       "      <td>1044.000000</td>\n",
       "      <td>1044.000000</td>\n",
       "      <td>1044.000000</td>\n",
       "      <td>1044.000000</td>\n",
       "      <td>1044.000000</td>\n",
       "      <td>1044.000000</td>\n",
       "      <td>1044.00000</td>\n",
       "      <td>1044.000000</td>\n",
       "      <td>1044.000000</td>\n",
       "      <td>1044.000000</td>\n",
       "      <td>1044.000000</td>\n",
       "      <td>1044.000000</td>\n",
       "    </tr>\n",
       "    <tr>\n",
       "      <td>mean</td>\n",
       "      <td>1.070881</td>\n",
       "      <td>37.301038</td>\n",
       "      <td>1.230843</td>\n",
       "      <td>55.101374</td>\n",
       "      <td>0.512489</td>\n",
       "      <td>0.564418</td>\n",
       "      <td>0.50880</td>\n",
       "      <td>2.496648</td>\n",
       "      <td>1.484674</td>\n",
       "      <td>712.674330</td>\n",
       "      <td>14.074330</td>\n",
       "      <td>76.083429</td>\n",
       "    </tr>\n",
       "    <tr>\n",
       "      <td>std</td>\n",
       "      <td>1.234202</td>\n",
       "      <td>31.166913</td>\n",
       "      <td>1.006864</td>\n",
       "      <td>13.826718</td>\n",
       "      <td>0.179826</td>\n",
       "      <td>0.183776</td>\n",
       "      <td>0.17774</td>\n",
       "      <td>2.601808</td>\n",
       "      <td>0.612083</td>\n",
       "      <td>562.876438</td>\n",
       "      <td>2.697126</td>\n",
       "      <td>21.016228</td>\n",
       "    </tr>\n",
       "    <tr>\n",
       "      <td>min</td>\n",
       "      <td>0.000000</td>\n",
       "      <td>1.720000</td>\n",
       "      <td>0.000000</td>\n",
       "      <td>8.154000</td>\n",
       "      <td>-0.084000</td>\n",
       "      <td>-0.109000</td>\n",
       "      <td>-0.25200</td>\n",
       "      <td>0.000000</td>\n",
       "      <td>0.000000</td>\n",
       "      <td>62.000000</td>\n",
       "      <td>4.700000</td>\n",
       "      <td>5.600000</td>\n",
       "    </tr>\n",
       "    <tr>\n",
       "      <td>25%</td>\n",
       "      <td>0.000000</td>\n",
       "      <td>3.170000</td>\n",
       "      <td>1.000000</td>\n",
       "      <td>45.760000</td>\n",
       "      <td>0.383000</td>\n",
       "      <td>0.440000</td>\n",
       "      <td>0.39600</td>\n",
       "      <td>0.000000</td>\n",
       "      <td>1.000000</td>\n",
       "      <td>393.000000</td>\n",
       "      <td>12.375000</td>\n",
       "      <td>69.300000</td>\n",
       "    </tr>\n",
       "    <tr>\n",
       "      <td>50%</td>\n",
       "      <td>0.000000</td>\n",
       "      <td>37.565000</td>\n",
       "      <td>1.000000</td>\n",
       "      <td>55.185000</td>\n",
       "      <td>0.505500</td>\n",
       "      <td>0.567000</td>\n",
       "      <td>0.51400</td>\n",
       "      <td>1.500000</td>\n",
       "      <td>2.000000</td>\n",
       "      <td>569.500000</td>\n",
       "      <td>14.100000</td>\n",
       "      <td>82.300000</td>\n",
       "    </tr>\n",
       "    <tr>\n",
       "      <td>75%</td>\n",
       "      <td>2.000000</td>\n",
       "      <td>70.370000</td>\n",
       "      <td>2.000000</td>\n",
       "      <td>64.395000</td>\n",
       "      <td>0.646000</td>\n",
       "      <td>0.682000</td>\n",
       "      <td>0.62325</td>\n",
       "      <td>3.750000</td>\n",
       "      <td>2.000000</td>\n",
       "      <td>862.500000</td>\n",
       "      <td>15.625000</td>\n",
       "      <td>91.300000</td>\n",
       "    </tr>\n",
       "    <tr>\n",
       "      <td>max</td>\n",
       "      <td>4.000000</td>\n",
       "      <td>85.510000</td>\n",
       "      <td>4.000000</td>\n",
       "      <td>104.400000</td>\n",
       "      <td>1.035000</td>\n",
       "      <td>1.135000</td>\n",
       "      <td>1.14800</td>\n",
       "      <td>12.000000</td>\n",
       "      <td>2.000000</td>\n",
       "      <td>5839.000000</td>\n",
       "      <td>24.100000</td>\n",
       "      <td>100.000000</td>\n",
       "    </tr>\n",
       "  </tbody>\n",
       "</table>\n",
       "</div>"
      ],
      "text/plain": [
       "       SCHOOL LEVEL   PEER INDEX        GRADE  OVERALL SCORE  \\\n",
       "count   1044.000000  1044.000000  1044.000000    1044.000000   \n",
       "mean       1.070881    37.301038     1.230843      55.101374   \n",
       "std        1.234202    31.166913     1.006864      13.826718   \n",
       "min        0.000000     1.720000     0.000000       8.154000   \n",
       "25%        0.000000     3.170000     1.000000      45.760000   \n",
       "50%        0.000000    37.565000     1.000000      55.185000   \n",
       "75%        2.000000    70.370000     2.000000      64.395000   \n",
       "max        4.000000    85.510000     4.000000     104.400000   \n",
       "\n",
       "       ENVIRONMENT CATEGORY SCORE  PERFORMANCE CATEGORY SCORE  \\\n",
       "count                 1044.000000                 1044.000000   \n",
       "mean                     0.512489                    0.564418   \n",
       "std                      0.179826                    0.183776   \n",
       "min                     -0.084000                   -0.109000   \n",
       "25%                      0.383000                    0.440000   \n",
       "50%                      0.505500                    0.567000   \n",
       "75%                      0.646000                    0.682000   \n",
       "max                      1.035000                    1.135000   \n",
       "\n",
       "       PROGRESS CATEGORY SCORE  ADDITIONAL CREDIT  QUALITY REVIEW SCORE  \\\n",
       "count               1044.00000        1044.000000           1044.000000   \n",
       "mean                   0.50880           2.496648              1.484674   \n",
       "std                    0.17774           2.601808              0.612083   \n",
       "min                   -0.25200           0.000000              0.000000   \n",
       "25%                    0.39600           0.000000              1.000000   \n",
       "50%                    0.51400           1.500000              2.000000   \n",
       "75%                    0.62325           3.750000              2.000000   \n",
       "max                    1.14800          12.000000              2.000000   \n",
       "\n",
       "        Enrollment  Student-Teacher Ratio  Free-Reduced Lunch  \n",
       "count  1044.000000            1044.000000         1044.000000  \n",
       "mean    712.674330              14.074330           76.083429  \n",
       "std     562.876438               2.697126           21.016228  \n",
       "min      62.000000               4.700000            5.600000  \n",
       "25%     393.000000              12.375000           69.300000  \n",
       "50%     569.500000              14.100000           82.300000  \n",
       "75%     862.500000              15.625000           91.300000  \n",
       "max    5839.000000              24.100000          100.000000  "
      ]
     },
     "metadata": {},
     "output_type": "display_data"
    }
   ],
   "source": [
    "display(school_report.info())\n",
    "display(school_report.describe())"
   ]
  },
  {
   "cell_type": "markdown",
   "metadata": {},
   "source": [
    "#### Pass/Fail Classification\n",
    "- Separating the GRADE column between a passing grade and failing grade and making a column in the dataset.\n",
    "    - A passing grade is a grade of A or B, depicted as a 1.\n",
    "    - A failing grade is a grade of C, D, or F depicted as a 0."
   ]
  },
  {
   "cell_type": "code",
   "execution_count": 13,
   "metadata": {},
   "outputs": [],
   "source": [
    "def grade(x):\n",
    "    if x == 0:\n",
    "        return 1\n",
    "    if x == 1:\n",
    "        return 1\n",
    "    else:\n",
    "        return 0\n",
    "    \n",
    "school_report['Pass/Fail'] = school_report['GRADE'].apply(grade)"
   ]
  },
  {
   "cell_type": "markdown",
   "metadata": {},
   "source": [
    "#### Rename columns:\n",
    "- Change the target (Pass/Fail) column to target for train/test split for later.\n",
    "\n",
    "#### Drop columns:\n",
    "- Drop the GRADE column.\n",
    "    - The GRADE column needs to drop because the pass/fail column is based off of the grade column and will make the models inaccurate, because the only important feature would be GRADE because it is based off of it."
   ]
  },
  {
   "cell_type": "code",
   "execution_count": 14,
   "metadata": {},
   "outputs": [],
   "source": [
    "school_report.rename(columns = {'Pass/Fail':'target'}, inplace = True) \n",
    "school_report.drop(['GRADE'], axis=1, inplace=True)"
   ]
  },
  {
   "cell_type": "code",
   "execution_count": 15,
   "metadata": {},
   "outputs": [
    {
     "data": {
      "text/html": [
       "<div>\n",
       "<style scoped>\n",
       "    .dataframe tbody tr th:only-of-type {\n",
       "        vertical-align: middle;\n",
       "    }\n",
       "\n",
       "    .dataframe tbody tr th {\n",
       "        vertical-align: top;\n",
       "    }\n",
       "\n",
       "    .dataframe thead th {\n",
       "        text-align: right;\n",
       "    }\n",
       "</style>\n",
       "<table border=\"1\" class=\"dataframe\">\n",
       "  <thead>\n",
       "    <tr style=\"text-align: right;\">\n",
       "      <th></th>\n",
       "      <th>SCHOOL LEVEL</th>\n",
       "      <th>PEER INDEX</th>\n",
       "      <th>OVERALL SCORE</th>\n",
       "      <th>ENVIRONMENT CATEGORY SCORE</th>\n",
       "      <th>PERFORMANCE CATEGORY SCORE</th>\n",
       "      <th>PROGRESS CATEGORY SCORE</th>\n",
       "      <th>ADDITIONAL CREDIT</th>\n",
       "      <th>QUALITY REVIEW SCORE</th>\n",
       "      <th>Enrollment</th>\n",
       "      <th>Student-Teacher Ratio</th>\n",
       "      <th>Free-Reduced Lunch</th>\n",
       "      <th>target</th>\n",
       "    </tr>\n",
       "  </thead>\n",
       "  <tbody>\n",
       "    <tr>\n",
       "      <td>0</td>\n",
       "      <td>3</td>\n",
       "      <td>3.77</td>\n",
       "      <td>57.80</td>\n",
       "      <td>0.715</td>\n",
       "      <td>0.607</td>\n",
       "      <td>0.524</td>\n",
       "      <td>0.0</td>\n",
       "      <td>1</td>\n",
       "      <td>589</td>\n",
       "      <td>17.3</td>\n",
       "      <td>43.5</td>\n",
       "      <td>1</td>\n",
       "    </tr>\n",
       "    <tr>\n",
       "      <td>1</td>\n",
       "      <td>0</td>\n",
       "      <td>39.10</td>\n",
       "      <td>56.81</td>\n",
       "      <td>0.508</td>\n",
       "      <td>0.462</td>\n",
       "      <td>0.615</td>\n",
       "      <td>1.5</td>\n",
       "      <td>2</td>\n",
       "      <td>318</td>\n",
       "      <td>16.7</td>\n",
       "      <td>45.3</td>\n",
       "      <td>1</td>\n",
       "    </tr>\n",
       "    <tr>\n",
       "      <td>2</td>\n",
       "      <td>0</td>\n",
       "      <td>41.67</td>\n",
       "      <td>55.18</td>\n",
       "      <td>0.985</td>\n",
       "      <td>0.446</td>\n",
       "      <td>0.492</td>\n",
       "      <td>0.0</td>\n",
       "      <td>1</td>\n",
       "      <td>349</td>\n",
       "      <td>12.0</td>\n",
       "      <td>52.4</td>\n",
       "      <td>1</td>\n",
       "    </tr>\n",
       "    <tr>\n",
       "      <td>3</td>\n",
       "      <td>3</td>\n",
       "      <td>2.66</td>\n",
       "      <td>71.33</td>\n",
       "      <td>0.788</td>\n",
       "      <td>0.640</td>\n",
       "      <td>0.624</td>\n",
       "      <td>6.0</td>\n",
       "      <td>1</td>\n",
       "      <td>678</td>\n",
       "      <td>13.8</td>\n",
       "      <td>65.3</td>\n",
       "      <td>1</td>\n",
       "    </tr>\n",
       "    <tr>\n",
       "      <td>4</td>\n",
       "      <td>3</td>\n",
       "      <td>2.63</td>\n",
       "      <td>36.00</td>\n",
       "      <td>0.250</td>\n",
       "      <td>0.387</td>\n",
       "      <td>0.375</td>\n",
       "      <td>0.0</td>\n",
       "      <td>0</td>\n",
       "      <td>149</td>\n",
       "      <td>12.4</td>\n",
       "      <td>93.3</td>\n",
       "      <td>0</td>\n",
       "    </tr>\n",
       "  </tbody>\n",
       "</table>\n",
       "</div>"
      ],
      "text/plain": [
       "   SCHOOL LEVEL  PEER INDEX  OVERALL SCORE  ENVIRONMENT CATEGORY SCORE  \\\n",
       "0             3        3.77          57.80                       0.715   \n",
       "1             0       39.10          56.81                       0.508   \n",
       "2             0       41.67          55.18                       0.985   \n",
       "3             3        2.66          71.33                       0.788   \n",
       "4             3        2.63          36.00                       0.250   \n",
       "\n",
       "   PERFORMANCE CATEGORY SCORE  PROGRESS CATEGORY SCORE  ADDITIONAL CREDIT  \\\n",
       "0                       0.607                    0.524                0.0   \n",
       "1                       0.462                    0.615                1.5   \n",
       "2                       0.446                    0.492                0.0   \n",
       "3                       0.640                    0.624                6.0   \n",
       "4                       0.387                    0.375                0.0   \n",
       "\n",
       "   QUALITY REVIEW SCORE  Enrollment  Student-Teacher Ratio  \\\n",
       "0                     1         589                   17.3   \n",
       "1                     2         318                   16.7   \n",
       "2                     1         349                   12.0   \n",
       "3                     1         678                   13.8   \n",
       "4                     0         149                   12.4   \n",
       "\n",
       "   Free-Reduced Lunch  target  \n",
       "0                43.5       1  \n",
       "1                45.3       1  \n",
       "2                52.4       1  \n",
       "3                65.3       1  \n",
       "4                93.3       0  "
      ]
     },
     "execution_count": 15,
     "metadata": {},
     "output_type": "execute_result"
    }
   ],
   "source": [
    "school_report.head()"
   ]
  },
  {
   "cell_type": "markdown",
   "metadata": {},
   "source": [
    "# EDA: Visualize the Data"
   ]
  },
  {
   "cell_type": "markdown",
   "metadata": {},
   "source": [
    "#### Checking the distribution of the dataset.\n",
    "- Clearly see that Quality Review Score, School Level and our tagert are categorical.\n",
    "- Additional Credit and Enrollment are positively skewed while Free-Reduced Lunch is negatively skewed.\n",
    "- All other features look normal."
   ]
  },
  {
   "cell_type": "code",
   "execution_count": 16,
   "metadata": {},
   "outputs": [
    {
     "data": {
      "image/png": "[encoded data removed]",
      "text/plain": [
       "<Figure size 1440x1080 with 12 Axes>"
      ]
     },
     "metadata": {
      "needs_background": "light"
     },
     "output_type": "display_data"
    }
   ],
   "source": [
    "school_report.hist(figsize=(20,15));"
   ]
  },
  {
   "cell_type": "markdown",
   "metadata": {},
   "source": [
    "#### Outliers"
   ]
  },
  {
   "cell_type": "markdown",
   "metadata": {},
   "source": [
    "- What is meaningful here is that, in order for a school to get a quality review of \"Proficient\" doesn't neccessarily mean that they're scores will be higher.  A proficient score averages a score that is less than a well developed school, though well developed is not the highest quality review score available.  \n",
    "- This also shows the outliers in the two (well-developed and proficient) while undeveloped scores between the range of the other two."
   ]
  },
  {
   "cell_type": "code",
   "execution_count": 17,
   "metadata": {},
   "outputs": [
    {
     "data": {
      "image/png": "[encoded data removed]",
      "text/plain": [
       "<Figure size 720x504 with 1 Axes>"
      ]
     },
     "metadata": {
      "needs_background": "light"
     },
     "output_type": "display_data"
    }
   ],
   "source": [
    "plt.figure(figsize = (10,7))\n",
    "sns.boxplot(x = 'QUALITY REVIEW SCORE', y = 'OVERALL SCORE', \n",
    "            data = school_report, palette = 'GnBu_d').set_title('Score by Quality')\n",
    "plt.show()"
   ]
  },
  {
   "cell_type": "markdown",
   "metadata": {},
   "source": [
    "#### Countplot\n",
    "- Most of the data collected come from elementry schools. \n",
    "- Barely no information on transfer schools."
   ]
  },
  {
   "cell_type": "code",
   "execution_count": 18,
   "metadata": {},
   "outputs": [
    {
     "data": {
      "image/png": "[encoded data removed]",
      "text/plain": [
       "<Figure size 432x288 with 1 Axes>"
      ]
     },
     "metadata": {
      "needs_background": "light"
     },
     "output_type": "display_data"
    }
   ],
   "source": [
    "sns.countplot(x='SCHOOL LEVEL', data=school_report)\n",
    "positions = (0, 1, 2, 3, 4)\n",
    "labels = ('Elementry', 'K-8', 'Middle', 'High', 'Transfer')\n",
    "plt.xticks(positions, labels);\n",
    "plt.title('Number of School Levels');"
   ]
  },
  {
   "cell_type": "markdown",
   "metadata": {},
   "source": [
    "#### Countplot\n",
    "- Looking at the amount of each target that is in the dataset.\n",
    "    - This shows that there is an imbalance between the different classes in the dataset. "
   ]
  },
  {
   "cell_type": "code",
   "execution_count": 19,
   "metadata": {},
   "outputs": [
    {
     "data": {
      "image/png": "[encoded data removed]",
      "text/plain": [
       "<Figure size 432x288 with 1 Axes>"
      ]
     },
     "metadata": {
      "needs_background": "light"
     },
     "output_type": "display_data"
    }
   ],
   "source": [
    "sns.countplot(x='target', data=school_report)\n",
    "positions = (0, 1)\n",
    "labels = ('Fail', 'Pass')\n",
    "plt.xticks(positions, labels);\n",
    "plt.title('Number of Each Target');"
   ]
  },
  {
   "cell_type": "markdown",
   "metadata": {},
   "source": [
    "# Compare Models"
   ]
  },
  {
   "cell_type": "markdown",
   "metadata": {},
   "source": [
    "#### SMOTE:\n",
    "Since there was an imbalance between the classes, the method SMOTE can be used to help with the imbalance.  \n",
    "   - SMOTE stands for Synthetic Minority Oversampling. Rather then oversampling the minority class with replacement (which simply adds duplicate cases to the dataset), the algorithm generates new sample data by creating 'synthetic' examples that are combinations of the closest minority class cases. \n",
    "\n",
    "#### Splitting the data:\n",
    "1. Separate the data into it's features (X) and the the target (y).\n",
    "2. Create training and test sets.  \n",
    "    - ```test_size = .20``` is a fair split where 80% of the data is training the set and 20% is the testing set.\n",
    "    - Use a ```random_state = 6 ``` to get the same result if trying this project out.\n",
    "3. Normalize the data by using ```StandardScaler``` to make sure that all of the data is represented in the same scale.\n",
    "4. Convert the train data into a DataFrame to view the scaled data - notice how the scaler also scaled the encoded columns, this does not have a negative effect on the model, because each value has been replaced with a corresponding decimal value, but it still only contains those 3 or 4 values.  The overall information content of each column has not changed."
   ]
  },
  {
   "cell_type": "code",
   "execution_count": 20,
   "metadata": {},
   "outputs": [],
   "source": [
    "X = school_report.drop(['target'], axis = 1)\n",
    "y = school_report['target']"
   ]
  },
  {
   "cell_type": "code",
   "execution_count": 21,
   "metadata": {},
   "outputs": [],
   "source": [
    "X_train, X_test, y_train, y_test = train_test_split(X, y, test_size = .20, random_state = 6)"
   ]
  },
  {
   "cell_type": "code",
   "execution_count": 22,
   "metadata": {},
   "outputs": [
    {
     "name": "stdout",
     "output_type": "stream",
     "text": [
      "Original class distribution: \n",
      "\n",
      "1    687\n",
      "0    357\n",
      "Name: target, dtype: int64\n",
      "-----------------------------------------\n",
      "Synthetic sample class distribution: \n",
      "\n",
      "1    554\n",
      "0    554\n",
      "dtype: int64\n"
     ]
    }
   ],
   "source": [
    "print('Original class distribution: \\n')\n",
    "print(y.value_counts())\n",
    "smote = SMOTE()\n",
    "X_train_resampled, y_train_resampled = smote.fit_sample(X_train, y_train) \n",
    "print('-----------------------------------------')\n",
    "print('Synthetic sample class distribution: \\n')\n",
    "print(pd.Series(y_train_resampled).value_counts()) "
   ]
  },
  {
   "cell_type": "code",
   "execution_count": 23,
   "metadata": {},
   "outputs": [],
   "source": [
    "scaler = StandardScaler()\n",
    "scaled_X_train = scaler.fit_transform(X_train_resampled)\n",
    "scaled_X_test = scaler.transform(X_test)"
   ]
  },
  {
   "cell_type": "code",
   "execution_count": 24,
   "metadata": {},
   "outputs": [
    {
     "data": {
      "text/html": [
       "<div>\n",
       "<style scoped>\n",
       "    .dataframe tbody tr th:only-of-type {\n",
       "        vertical-align: middle;\n",
       "    }\n",
       "\n",
       "    .dataframe tbody tr th {\n",
       "        vertical-align: top;\n",
       "    }\n",
       "\n",
       "    .dataframe thead th {\n",
       "        text-align: right;\n",
       "    }\n",
       "</style>\n",
       "<table border=\"1\" class=\"dataframe\">\n",
       "  <thead>\n",
       "    <tr style=\"text-align: right;\">\n",
       "      <th></th>\n",
       "      <th>SCHOOL LEVEL</th>\n",
       "      <th>PEER INDEX</th>\n",
       "      <th>OVERALL SCORE</th>\n",
       "      <th>ENVIRONMENT CATEGORY SCORE</th>\n",
       "      <th>PERFORMANCE CATEGORY SCORE</th>\n",
       "      <th>PROGRESS CATEGORY SCORE</th>\n",
       "      <th>ADDITIONAL CREDIT</th>\n",
       "      <th>QUALITY REVIEW SCORE</th>\n",
       "      <th>Enrollment</th>\n",
       "      <th>Student-Teacher Ratio</th>\n",
       "      <th>Free-Reduced Lunch</th>\n",
       "    </tr>\n",
       "  </thead>\n",
       "  <tbody>\n",
       "    <tr>\n",
       "      <td>0</td>\n",
       "      <td>-0.843756</td>\n",
       "      <td>0.428988</td>\n",
       "      <td>0.409503</td>\n",
       "      <td>-0.188022</td>\n",
       "      <td>-0.152232</td>\n",
       "      <td>0.384135</td>\n",
       "      <td>1.282216</td>\n",
       "      <td>-0.855969</td>\n",
       "      <td>-0.237803</td>\n",
       "      <td>-0.243692</td>\n",
       "      <td>-1.951856</td>\n",
       "    </tr>\n",
       "    <tr>\n",
       "      <td>1</td>\n",
       "      <td>0.815539</td>\n",
       "      <td>-1.129071</td>\n",
       "      <td>0.282434</td>\n",
       "      <td>-1.129738</td>\n",
       "      <td>0.263578</td>\n",
       "      <td>0.305259</td>\n",
       "      <td>0.971641</td>\n",
       "      <td>-0.855969</td>\n",
       "      <td>-0.460658</td>\n",
       "      <td>-0.399310</td>\n",
       "      <td>1.027400</td>\n",
       "    </tr>\n",
       "    <tr>\n",
       "      <td>2</td>\n",
       "      <td>-0.843756</td>\n",
       "      <td>1.332996</td>\n",
       "      <td>-1.043021</td>\n",
       "      <td>-0.288709</td>\n",
       "      <td>0.115481</td>\n",
       "      <td>-1.232835</td>\n",
       "      <td>-0.891809</td>\n",
       "      <td>-2.554941</td>\n",
       "      <td>-0.533662</td>\n",
       "      <td>0.417682</td>\n",
       "      <td>0.949256</td>\n",
       "    </tr>\n",
       "    <tr>\n",
       "      <td>3</td>\n",
       "      <td>-0.014108</td>\n",
       "      <td>0.195375</td>\n",
       "      <td>0.514663</td>\n",
       "      <td>-1.029051</td>\n",
       "      <td>-0.214889</td>\n",
       "      <td>0.632033</td>\n",
       "      <td>1.903367</td>\n",
       "      <td>0.843003</td>\n",
       "      <td>-0.675828</td>\n",
       "      <td>-2.928094</td>\n",
       "      <td>-0.608749</td>\n",
       "    </tr>\n",
       "    <tr>\n",
       "      <td>4</td>\n",
       "      <td>-0.843756</td>\n",
       "      <td>1.075669</td>\n",
       "      <td>0.239348</td>\n",
       "      <td>-0.697378</td>\n",
       "      <td>1.340128</td>\n",
       "      <td>-0.291950</td>\n",
       "      <td>0.350491</td>\n",
       "      <td>0.843003</td>\n",
       "      <td>0.096479</td>\n",
       "      <td>-0.049170</td>\n",
       "      <td>-1.102035</td>\n",
       "    </tr>\n",
       "  </tbody>\n",
       "</table>\n",
       "</div>"
      ],
      "text/plain": [
       "   SCHOOL LEVEL  PEER INDEX  OVERALL SCORE  ENVIRONMENT CATEGORY SCORE  \\\n",
       "0     -0.843756    0.428988       0.409503                   -0.188022   \n",
       "1      0.815539   -1.129071       0.282434                   -1.129738   \n",
       "2     -0.843756    1.332996      -1.043021                   -0.288709   \n",
       "3     -0.014108    0.195375       0.514663                   -1.029051   \n",
       "4     -0.843756    1.075669       0.239348                   -0.697378   \n",
       "\n",
       "   PERFORMANCE CATEGORY SCORE  PROGRESS CATEGORY SCORE  ADDITIONAL CREDIT  \\\n",
       "0                   -0.152232                 0.384135           1.282216   \n",
       "1                    0.263578                 0.305259           0.971641   \n",
       "2                    0.115481                -1.232835          -0.891809   \n",
       "3                   -0.214889                 0.632033           1.903367   \n",
       "4                    1.340128                -0.291950           0.350491   \n",
       "\n",
       "   QUALITY REVIEW SCORE  Enrollment  Student-Teacher Ratio  Free-Reduced Lunch  \n",
       "0             -0.855969   -0.237803              -0.243692           -1.951856  \n",
       "1             -0.855969   -0.460658              -0.399310            1.027400  \n",
       "2             -2.554941   -0.533662               0.417682            0.949256  \n",
       "3              0.843003   -0.675828              -2.928094           -0.608749  \n",
       "4              0.843003    0.096479              -0.049170           -1.102035  "
      ]
     },
     "execution_count": 24,
     "metadata": {},
     "output_type": "execute_result"
    }
   ],
   "source": [
    "scaled_df_train = pd.DataFrame(scaled_X_train, columns=X_train.columns)\n",
    "scaled_df_train.head()"
   ]
  },
  {
   "cell_type": "markdown",
   "metadata": {},
   "source": [
    "## 1. KNN (K-Nearest Neigbhors) model\n",
    "   - K-NN algorithm is a classification algorithm that uses nearby points in order to generate a prediction.   It classifies new cases based on a similarity measure using distance metrics.  The idea is that objects that are more alike are more likely to be the same class, the smaller the distance between two points, the more similar they are.  By treating each column in the dataset as a separate dimension and plotting them, the distance between them  can be measured.  KNN takes a point that needs a class prediction for and finds the distance between that point and all the points that fall into that distance(K-nearest points).  Then, it votes on the points and the higher number of classes win.\n",
    "\n",
    "#### What to do?\n",
    "\n",
    "1. Instantiate KNeighborsClassifer\n",
    "2. Fit the classifier \n",
    "    - (```scaled _X_train```, ```y_train```)\n",
    "3. Predict on the test set\n",
    "    - ```scaled_X_test```\n",
    "4. Plot the confusion matrix: The diagonal represents where the predicted label is equal to the true label.  The off-diagonal elements are those that are mislabled by the classifier.  The higher the diagonal values of the matrix the better, indicating many correct perdictions."
   ]
  },
  {
   "cell_type": "code",
   "execution_count": 25,
   "metadata": {},
   "outputs": [],
   "source": [
    "KNN_clf = KNeighborsClassifier()\n",
    "KNN_clf.fit(scaled_X_train, y_train_resampled)\n",
    "KNN_preds = KNN_clf.predict(scaled_X_test)"
   ]
  },
  {
   "cell_type": "code",
   "execution_count": 26,
   "metadata": {},
   "outputs": [
    {
     "name": "stdout",
     "output_type": "stream",
     "text": [
      "Precision Score: 0.914518051922632\n",
      "Recall Score: 0.9138755980861244\n",
      "Accuracy Score: 0.9138755980861244\n",
      "F1 Score: 0.9141086186540732\n"
     ]
    }
   ],
   "source": [
    "print_metrics(y_test, KNN_preds)"
   ]
  },
  {
   "cell_type": "markdown",
   "metadata": {},
   "source": [
    "- Precision Score is .9049 which says that the ratio of not labeling negatives as positives is 90%.\n",
    "- Recall Score is .9043 which says that the ratio of having all positives is 90%.\n",
    "- Accurary Score is .9043 which says that the percent of correct predictions is 90%.\n",
    "- F1 score is .9045 which says that the average of precision and recall is 90%."
   ]
  },
  {
   "cell_type": "code",
   "execution_count": 27,
   "metadata": {},
   "outputs": [
    {
     "data": {
      "image/png": "[encoded data removed]",
      "text/plain": [
       "<Figure size 432x288 with 2 Axes>"
      ]
     },
     "metadata": {
      "needs_background": "light"
     },
     "output_type": "display_data"
    }
   ],
   "source": [
    "plot_confusion_matrix(KNN_clf, scaled_X_test, y_test);"
   ]
  },
  {
   "cell_type": "markdown",
   "metadata": {},
   "source": [
    "- The confusion matrix shows that there are still a few elements that are mislabeled in this model."
   ]
  },
  {
   "cell_type": "markdown",
   "metadata": {},
   "source": [
    "#### Improve the model, if possible."
   ]
  },
  {
   "cell_type": "code",
   "execution_count": 28,
   "metadata": {},
   "outputs": [],
   "source": [
    "def find_best_k(X_train, y_train, X_test, y_test, min_k=1, max_k=25):\n",
    "    best_k = 0\n",
    "    best_score = 0\n",
    "    for i in range(min_k, max_k+1, 2):\n",
    "        knn = KNeighborsClassifier(n_neighbors=i)\n",
    "        knn.fit(X_train, y_train)\n",
    "        predictions = knn.predict(X_test)\n",
    "        f1_scores = f1_score(y_test, predictions, average='weighted')\n",
    "        if f1_scores > best_score:\n",
    "            best_score = f1_scores\n",
    "            best_k = i\n",
    "        print('Best Value for k:', best_k)\n",
    "        print('F1 score achieved:', best_score)"
   ]
  },
  {
   "cell_type": "code",
   "execution_count": 29,
   "metadata": {},
   "outputs": [
    {
     "name": "stdout",
     "output_type": "stream",
     "text": [
      "Best Value for k: 1\n",
      "F1 score achieved: 0.885478158205431\n",
      "Best Value for k: 3\n",
      "F1 score achieved: 0.9048025765583018\n",
      "Best Value for k: 5\n",
      "F1 score achieved: 0.9141086186540732\n",
      "Best Value for k: 7\n",
      "F1 score achieved: 0.9333618035908111\n",
      "Best Value for k: 7\n",
      "F1 score achieved: 0.9333618035908111\n",
      "Best Value for k: 7\n",
      "F1 score achieved: 0.9333618035908111\n",
      "Best Value for k: 7\n",
      "F1 score achieved: 0.9333618035908111\n",
      "Best Value for k: 7\n",
      "F1 score achieved: 0.9333618035908111\n",
      "Best Value for k: 7\n",
      "F1 score achieved: 0.9333618035908111\n",
      "Best Value for k: 7\n",
      "F1 score achieved: 0.9333618035908111\n",
      "Best Value for k: 7\n",
      "F1 score achieved: 0.9333618035908111\n",
      "Best Value for k: 7\n",
      "F1 score achieved: 0.9333618035908111\n",
      "Best Value for k: 7\n",
      "F1 score achieved: 0.9333618035908111\n"
     ]
    }
   ],
   "source": [
    "find_best_k(scaled_X_train, y_train_resampled, scaled_X_test, y_test)"
   ]
  },
  {
   "cell_type": "markdown",
   "metadata": {},
   "source": [
    "- The best value for k that will give a better F1 score, is 9 with an F1 score of 93%."
   ]
  },
  {
   "cell_type": "markdown",
   "metadata": {},
   "source": [
    "- Run the KNN model again with the best k of 9, shows an improved Accuracy Score by 3%."
   ]
  },
  {
   "cell_type": "code",
   "execution_count": 30,
   "metadata": {},
   "outputs": [],
   "source": [
    "KNN_clf_improved = KNeighborsClassifier(n_neighbors = 9)\n",
    "KNN_clf_improved.fit(scaled_X_train, y_train_resampled)\n",
    "KNN_preds_improved = KNN_clf_improved.predict(scaled_X_test)"
   ]
  },
  {
   "cell_type": "code",
   "execution_count": 31,
   "metadata": {},
   "outputs": [
    {
     "name": "stdout",
     "output_type": "stream",
     "text": [
      "Precision Score: 0.9201086302617784\n",
      "Recall Score: 0.9138755980861244\n",
      "Accuracy Score: 0.9138755980861244\n",
      "F1 Score: 0.9148516414141414\n"
     ]
    }
   ],
   "source": [
    "print_metrics(y_test, KNN_preds_improved)"
   ]
  },
  {
   "cell_type": "code",
   "execution_count": 32,
   "metadata": {},
   "outputs": [
    {
     "data": {
      "image/png": "[encoded data removed]",
      "text/plain": [
       "<Figure size 432x288 with 2 Axes>"
      ]
     },
     "metadata": {
      "needs_background": "light"
     },
     "output_type": "display_data"
    }
   ],
   "source": [
    "plot_confusion_matrix(KNN_clf_improved, scaled_X_test, y_test);"
   ]
  },
  {
   "cell_type": "markdown",
   "metadata": {},
   "source": [
    "### KNN: Data for Dataframe"
   ]
  },
  {
   "cell_type": "markdown",
   "metadata": {},
   "source": [
    "#### KNN Training Info from improved model"
   ]
  },
  {
   "cell_type": "code",
   "execution_count": 33,
   "metadata": {},
   "outputs": [
    {
     "name": "stdout",
     "output_type": "stream",
     "text": [
      "Train F1 score: 95.35\n",
      "Train Accuracy Score: 95.49\n",
      "Train Precision Score: 98.28\n"
     ]
    }
   ],
   "source": [
    "KNN_f1_train = round(f1_score(y_train_resampled, KNN_clf_improved.predict(scaled_X_train))*100, 2)\n",
    "print('Train F1 score:', KNN_f1_train)\n",
    "KNN_acc_train = round(accuracy_score(y_train_resampled, KNN_clf_improved.predict(scaled_X_train))*100, 2)\n",
    "print('Train Accuracy Score:', KNN_acc_train)\n",
    "KNN_prec_train = round(precision_score(y_train_resampled, KNN_clf_improved.predict(scaled_X_train))*100, 2)\n",
    "print('Train Precision Score:', KNN_prec_train)"
   ]
  },
  {
   "cell_type": "markdown",
   "metadata": {},
   "source": [
    "#### KNN Test Info from improved model"
   ]
  },
  {
   "cell_type": "code",
   "execution_count": 34,
   "metadata": {},
   "outputs": [
    {
     "name": "stdout",
     "output_type": "stream",
     "text": [
      "Test F1 score: 92.97\n",
      "Test Accuracy Score: 91.39\n",
      "Test Precision Score: 96.75\n"
     ]
    }
   ],
   "source": [
    "KNN_f1_test = round(f1_score(y_test, KNN_preds_improved)*100, 2)\n",
    "print('Test F1 score:', KNN_f1_test)\n",
    "KNN_acc_test = round(accuracy_score(y_test, KNN_preds_improved)*100, 2)\n",
    "print('Test Accuracy Score:', KNN_acc_test)\n",
    "KNN_prec_test = round(precision_score(y_test, KNN_preds_improved)*100, 2)\n",
    "print('Test Precision Score:', KNN_prec_test)"
   ]
  },
  {
   "cell_type": "markdown",
   "metadata": {},
   "source": [
    "## 2. Decision Tree Model\n",
    "   - A decision tree is a DAG type of classifier where each internal node represents a choice between a number of alternatives and each leaf node represents a classification. An unknown (or test) instance is routed down the tree according to the values of the attributes in the successive nodes. When the instance reaches a leaf, it is classified according to the label assigned to the corresponded leaf.\n",
    "\n",
    "\n",
    "#### What to do?\n",
    "\n",
    "1. Instantiate DecisionTreeClassifier with ```random_state = 6``` to keep it the same.\n",
    "2. Fit the classifier \n",
    "    - (```scaled _X_train```, ```y_train```)\n",
    "3. Predict on the test set\n",
    "    - ```scaled_X_test```\n",
    "4. Possibility: Can make a plot the DOT data graph.\n",
    "5. Check predictive performance.\n",
    "6. Plot the confusion matrix: The diagonal represents where the predicted label is equal to the true label.  The off-diagonal elements are those that are mislabled by the classifier.  The higher the diagonal values of the matrix the better, indicating many correct perdictions."
   ]
  },
  {
   "cell_type": "code",
   "execution_count": 35,
   "metadata": {},
   "outputs": [],
   "source": [
    "dt_clf = DecisionTreeClassifier(random_state = 6)\n",
    "dt_clf.fit(scaled_X_train, y_train_resampled)\n",
    "dt_preds = dt_clf.predict(scaled_X_test)"
   ]
  },
  {
   "cell_type": "code",
   "execution_count": 36,
   "metadata": {},
   "outputs": [
    {
     "data": {
      "text/plain": [
       "0.981203007518797"
      ]
     },
     "execution_count": 36,
     "metadata": {},
     "output_type": "execute_result"
    }
   ],
   "source": [
    "false_positive_rate, true_positive_rate, thresholds = roc_curve(y_test, dt_preds)\n",
    "roc_auc = auc(false_positive_rate, true_positive_rate)\n",
    "roc_auc"
   ]
  },
  {
   "cell_type": "code",
   "execution_count": 37,
   "metadata": {},
   "outputs": [
    {
     "name": "stdout",
     "output_type": "stream",
     "text": [
      "Precision Score: 0.9775533108866442\n",
      "Recall Score: 0.9760765550239234\n",
      "Accuracy Score: 0.9760765550239234\n",
      "F1 Score: 0.9762283498281741\n"
     ]
    }
   ],
   "source": [
    "print_metrics(y_test, dt_preds)"
   ]
  },
  {
   "cell_type": "markdown",
   "metadata": {},
   "source": [
    "- Precision Score is .986 which says that the ratio of not labeling negatives as positives is 99%.\n",
    "- Recall Score is .986 which says that the ratio of having all positives is 99%.\n",
    "- Accurary Score is .986 which says that the percent of correct predictions is 99%.\n",
    "- F1 score is .986 which says that the average of precision and recall is 99%."
   ]
  },
  {
   "cell_type": "code",
   "execution_count": 38,
   "metadata": {},
   "outputs": [
    {
     "data": {
      "image/png": "[encoded data removed]",
      "text/plain": [
       "<IPython.core.display.Image object>"
      ]
     },
     "execution_count": 38,
     "metadata": {},
     "output_type": "execute_result"
    }
   ],
   "source": [
    "dot_data = export_graphviz(dt_clf, out_file=None, feature_names=scaled_df_train.columns,\n",
    "                          class_names=np.unique(y).astype('str'), filled=True, rounded=True, \n",
    "                           special_characters=True)\n",
    "graph = graph_from_dot_data(dot_data)\n",
    "Image(graph.create_png())"
   ]
  },
  {
   "cell_type": "code",
   "execution_count": 39,
   "metadata": {},
   "outputs": [
    {
     "data": {
      "image/png": "[encoded data removed]",
      "text/plain": [
       "<Figure size 432x288 with 2 Axes>"
      ]
     },
     "metadata": {
      "needs_background": "light"
     },
     "output_type": "display_data"
    }
   ],
   "source": [
    "plot_confusion_matrix(dt_clf, scaled_X_test, y_test);"
   ]
  },
  {
   "cell_type": "markdown",
   "metadata": {},
   "source": [
    "#### Hyperparameter Tuning the model"
   ]
  },
  {
   "cell_type": "code",
   "execution_count": 40,
   "metadata": {},
   "outputs": [
    {
     "name": "stdout",
     "output_type": "stream",
     "text": [
      "Best parameters: {'criterion': 'entropy', 'max_depth': 5, 'max_features': 9, 'min_samples_leaf': 1, 'min_samples_split': 2}\n"
     ]
    }
   ],
   "source": [
    "param_grid={'max_depth':range(1,32) ,\n",
    "            'max_features': range(1,11),\n",
    "            'criterion': ['gini', 'entropy'],\n",
    "            'min_samples_split': range(2, 5) ,\n",
    "            'min_samples_leaf': range(1, 2, 5)}\n",
    "dt_grid = DecisionTreeClassifier(random_state = 6)\n",
    "dt_gsv = GridSearchCV(dt_grid, param_grid, cv = 5, scoring = 'roc_auc', n_jobs = -1)\n",
    "dt_gsv.fit(scaled_X_train, y_train_resampled)\n",
    "\n",
    "print(\"Best parameters:\", dt_gsv.best_params_)"
   ]
  },
  {
   "cell_type": "code",
   "execution_count": 41,
   "metadata": {},
   "outputs": [
    {
     "data": {
      "text/plain": [
       "0.9661654135338346"
      ]
     },
     "execution_count": 41,
     "metadata": {},
     "output_type": "execute_result"
    }
   ],
   "source": [
    "dt = DecisionTreeClassifier(criterion='entropy',\n",
    "                           max_features=9,\n",
    "                           max_depth=4,\n",
    "                           min_samples_split=2,\n",
    "                           min_samples_leaf=1, \n",
    "                           random_state=6)\n",
    "dt.fit(scaled_X_train, y_train_resampled)\n",
    "false_positive_rate, true_positive_rate, thresholds = roc_curve(y_test,  dt.predict(scaled_X_test))\n",
    "roc_auc = auc(false_positive_rate, true_positive_rate)\n",
    "roc_auc"
   ]
  },
  {
   "cell_type": "markdown",
   "metadata": {},
   "source": [
    "#### The original model was better fit for this data using the parameters:"
   ]
  },
  {
   "cell_type": "code",
   "execution_count": 42,
   "metadata": {},
   "outputs": [
    {
     "data": {
      "text/plain": [
       "<bound method BaseEstimator.get_params of DecisionTreeClassifier(ccp_alpha=0.0, class_weight=None, criterion='gini',\n",
       "                       max_depth=None, max_features=None, max_leaf_nodes=None,\n",
       "                       min_impurity_decrease=0.0, min_impurity_split=None,\n",
       "                       min_samples_leaf=1, min_samples_split=2,\n",
       "                       min_weight_fraction_leaf=0.0, presort='deprecated',\n",
       "                       random_state=6, splitter='best')>"
      ]
     },
     "execution_count": 42,
     "metadata": {},
     "output_type": "execute_result"
    }
   ],
   "source": [
    "dt_clf.get_params"
   ]
  },
  {
   "cell_type": "markdown",
   "metadata": {},
   "source": [
    "### dt: Data for Dataframe"
   ]
  },
  {
   "cell_type": "markdown",
   "metadata": {},
   "source": [
    "#### Decision Tree Training Info without hyperparameter tuning"
   ]
  },
  {
   "cell_type": "code",
   "execution_count": 43,
   "metadata": {},
   "outputs": [
    {
     "name": "stdout",
     "output_type": "stream",
     "text": [
      "Train F1 score: 100.0\n",
      "Train Accuracy Score: 100.0\n",
      "Train Precision Score: 100.0\n"
     ]
    }
   ],
   "source": [
    "dt_f1_train = round(f1_score(y_train_resampled, dt_clf.predict(scaled_X_train))*100, 2)\n",
    "print('Train F1 score:', dt_f1_train)\n",
    "dt_acc_train = round(accuracy_score(y_train_resampled, dt_clf.predict(scaled_X_train))*100, 2)\n",
    "print('Train Accuracy Score:', dt_acc_train)\n",
    "dt_prec_train = round(precision_score(y_train_resampled, dt_clf.predict(scaled_X_train))*100, 2)\n",
    "print('Train Precision Score:', dt_prec_train)"
   ]
  },
  {
   "cell_type": "markdown",
   "metadata": {},
   "source": [
    "#### Decision Tree Test Info without hyperparameter tuning"
   ]
  },
  {
   "cell_type": "code",
   "execution_count": 44,
   "metadata": {},
   "outputs": [
    {
     "name": "stdout",
     "output_type": "stream",
     "text": [
      "Test F1 score: 98.08\n",
      "Test Accuracy Score: 97.61\n",
      "Train Precision Score: 100.0\n"
     ]
    }
   ],
   "source": [
    "dt_f1_test = round(f1_score(y_test, dt_preds)*100, 2)\n",
    "print('Test F1 score:', dt_f1_test)\n",
    "dt_acc_test = round(accuracy_score(y_test, dt_preds)*100, 2)\n",
    "print('Test Accuracy Score:', dt_acc_test)\n",
    "dt_prec_test = round(precision_score(y_test, dt_preds)*100, 2)\n",
    "print('Train Precision Score:', dt_prec_test)"
   ]
  },
  {
   "cell_type": "markdown",
   "metadata": {},
   "source": [
    "## 3. Random Forest\n",
    "   - Random Forest is an ensemble method (bringing together multiple models) for decision trees that takes advantage of bagging (obtain a portion of the data by sampling with replacement) and the subspace sampling (randomly select a subset of features to use as predictors for each node when training a decision tree, instead of using all predictors available at each node) method to create a \"forest\" of decision trees.  The random forest algorithm does not search for the most important feature while splitting a node, it searches for the best feature among a random subset of features. This results in a wide diversity that generally results in a better model.\n",
    "\n",
    "#### What to do?\n",
    "1. Instantiate RandomForestClassifier with ```random_state = 6```.\n",
    "2. Fit the classifier\n",
    "    - (```scaled X_train```, ```y_train_resampled```)\n",
    "3. Predict on the test set\n",
    "    - ```scaled_X_test```\n",
    "4. Check predictive performance. Use the model to predict labels on both the training and test set.\n",
    "5. Calculate the percision, recall, accuracy and f1-score.\n",
    "6. Plot the confusion matrix: The diagonal represents where the predicted label is equal to the true label. The off-diagonal elements are those that are mislabled by the classifier. The higher the diagonal values of the matrix the better, indicating many correct perdictions."
   ]
  },
  {
   "cell_type": "code",
   "execution_count": 45,
   "metadata": {},
   "outputs": [],
   "source": [
    "random_clf = RandomForestClassifier(random_state = 6)\n",
    "random_clf.fit(scaled_X_train, y_train_resampled)\n",
    "random_preds = random_clf.predict(scaled_X_test)"
   ]
  },
  {
   "cell_type": "code",
   "execution_count": 46,
   "metadata": {},
   "outputs": [
    {
     "name": "stdout",
     "output_type": "stream",
     "text": [
      "Precision Score: 0.9733924611973392\n",
      "Recall Score: 0.9712918660287081\n",
      "Accuracy Score: 0.9712918660287081\n",
      "F1 Score: 0.971505709480393\n"
     ]
    }
   ],
   "source": [
    "print_metrics(y_test, random_preds)"
   ]
  },
  {
   "cell_type": "code",
   "execution_count": 47,
   "metadata": {},
   "outputs": [
    {
     "data": {
      "image/png": "[encoded data removed]",
      "text/plain": [
       "<Figure size 432x288 with 2 Axes>"
      ]
     },
     "metadata": {
      "needs_background": "light"
     },
     "output_type": "display_data"
    }
   ],
   "source": [
    "plot_confusion_matrix(random_clf, scaled_X_test, y_test);"
   ]
  },
  {
   "cell_type": "markdown",
   "metadata": {},
   "source": [
    "### Random: Data for Dataframe"
   ]
  },
  {
   "cell_type": "markdown",
   "metadata": {},
   "source": [
    "#### Random Forest Training Info "
   ]
  },
  {
   "cell_type": "code",
   "execution_count": 48,
   "metadata": {},
   "outputs": [
    {
     "name": "stdout",
     "output_type": "stream",
     "text": [
      "Train F1 score: 100.0\n",
      "Train Accuracy Score: 100.0\n",
      "Train Precision Score: 100.0\n"
     ]
    }
   ],
   "source": [
    "random_f1_train = round(f1_score(y_train_resampled, random_clf.predict(scaled_X_train))*100, 2)\n",
    "print('Train F1 score:', random_f1_train)\n",
    "random_acc_train = round(accuracy_score(y_train_resampled, random_clf.predict(scaled_X_train))*100, 2)\n",
    "print('Train Accuracy Score:', random_acc_train)\n",
    "random_prec_train = round(precision_score(y_train_resampled, random_clf.predict(scaled_X_train))*100, 2)\n",
    "print('Train Precision Score:', random_prec_train)"
   ]
  },
  {
   "cell_type": "markdown",
   "metadata": {},
   "source": [
    "#### Random Forest Test Info "
   ]
  },
  {
   "cell_type": "code",
   "execution_count": 49,
   "metadata": {},
   "outputs": [
    {
     "name": "stdout",
     "output_type": "stream",
     "text": [
      "Test F1 score: 97.69\n",
      "Test Accuracy Score: 97.13\n",
      "Train Precision Score: 100.0\n"
     ]
    }
   ],
   "source": [
    "random_f1_test = round(f1_score(y_test, random_preds)*100, 2)\n",
    "print('Test F1 score:', random_f1_test)\n",
    "random_acc_test = round(accuracy_score(y_test, random_preds)*100, 2)\n",
    "print('Test Accuracy Score:', random_acc_test)\n",
    "random_prec_test = round(precision_score(y_test, random_preds)*100, 2)\n",
    "print('Train Precision Score:', random_prec_test)"
   ]
  },
  {
   "cell_type": "markdown",
   "metadata": {},
   "source": [
    "## 4. Gradient Boosting\n",
    "   - Gradient boosting takes a sequential approach for getting predictions by predicting the error from previous trees. \n",
    "\n",
    "#### What to do?\n",
    "\n",
    "1. Instantiate GradientBoostingClassifier with ```random_state = 6``` to keep it the same.\n",
    "2. Fit the classifier \n",
    "    - (scaled _X_train, y_train_resampled)\n",
    "3. Predict on the test set\n",
    "    - scaled_X_test\n",
    "4. Check predictive performance.  Use the model to predict labels on both the training and test set.\n",
    "5. Calculate the accuracy and f1-score for each model.\n",
    "6. Plot the confusion matrix: The diagonal represents where the predicted label is equal to the true label.  The off-diagonal elements are those that are mislabled by the classifier.  The higher the diagonal values of the matrix the better, indicating many correct perdictions."
   ]
  },
  {
   "cell_type": "code",
   "execution_count": 50,
   "metadata": {},
   "outputs": [],
   "source": [
    "gbt_clf = GradientBoostingClassifier(random_state = 6)\n",
    "gbt_clf.fit(scaled_X_train, y_train_resampled)\n",
    "gbt_preds = gbt_clf.predict(scaled_X_test)"
   ]
  },
  {
   "cell_type": "code",
   "execution_count": 51,
   "metadata": {},
   "outputs": [
    {
     "name": "stdout",
     "output_type": "stream",
     "text": [
      "Precision Score: 0.9775533108866442\n",
      "Recall Score: 0.9760765550239234\n",
      "Accuracy Score: 0.9760765550239234\n",
      "F1 Score: 0.9762283498281741\n"
     ]
    }
   ],
   "source": [
    "print_metrics(y_test, gbt_preds)"
   ]
  },
  {
   "cell_type": "code",
   "execution_count": 52,
   "metadata": {},
   "outputs": [
    {
     "data": {
      "image/png": "[encoded data removed]",
      "text/plain": [
       "<Figure size 432x288 with 2 Axes>"
      ]
     },
     "metadata": {
      "needs_background": "light"
     },
     "output_type": "display_data"
    }
   ],
   "source": [
    "plot_confusion_matrix(gbt_clf, scaled_X_test, y_test);"
   ]
  },
  {
   "cell_type": "markdown",
   "metadata": {},
   "source": [
    "### GBT: Data for Dataframe "
   ]
  },
  {
   "cell_type": "markdown",
   "metadata": {},
   "source": [
    "#### Gradient Boosting Training Info "
   ]
  },
  {
   "cell_type": "code",
   "execution_count": 53,
   "metadata": {},
   "outputs": [
    {
     "name": "stdout",
     "output_type": "stream",
     "text": [
      "Train F1 score: 100.0\n",
      "Train Accuracy Score: 100.0\n",
      "Train Precision Score: 100.0\n"
     ]
    }
   ],
   "source": [
    "gbt_f1_train = round(f1_score(y_train_resampled, gbt_clf.predict(scaled_X_train))*100, 2)\n",
    "print('Train F1 score:', gbt_f1_train)\n",
    "gbt_acc_train = round(accuracy_score(y_train_resampled, gbt_clf.predict(scaled_X_train))*100, 2)\n",
    "print('Train Accuracy Score:', gbt_acc_train)\n",
    "gbt_prec_train = round(precision_score(y_train_resampled, gbt_clf.predict(scaled_X_train))*100, 2)\n",
    "print('Train Precision Score:', gbt_prec_train)"
   ]
  },
  {
   "cell_type": "markdown",
   "metadata": {},
   "source": [
    "#### Gradient Boosting Test Info "
   ]
  },
  {
   "cell_type": "code",
   "execution_count": 54,
   "metadata": {},
   "outputs": [
    {
     "name": "stdout",
     "output_type": "stream",
     "text": [
      "Test F1 score: 98.08\n",
      "Test Accuracy Score: 97.61\n",
      "Train Precision Score: 100.0\n"
     ]
    }
   ],
   "source": [
    "gbt_f1_test = round(f1_score(y_test, gbt_preds)*100, 2)\n",
    "print('Test F1 score:', gbt_f1_test)\n",
    "gbt_acc_test = round(accuracy_score(y_test, gbt_preds)*100, 2)\n",
    "print('Test Accuracy Score:', gbt_acc_test)\n",
    "gbt_prec_test = round(precision_score(y_test, gbt_preds)*100, 2)\n",
    "print('Train Precision Score:', gbt_prec_test)"
   ]
  },
  {
   "cell_type": "markdown",
   "metadata": {},
   "source": [
    "## 5. Adaboost (Adapative Boosting)\n",
    "   -  Adaboost creates new classifiers by continually influencing the distribution of the data sampled to train each successive learner.  Weak leaners are trained on a subsample of the data.  As the learners learn, it uses the information gained from previous learners, to train the next learner. \n",
    "\n",
    "#### What to do?\n",
    "\n",
    "1. Instantiate AdaBoostClassifier with ```random_state = 6``` to keep it the same.\n",
    "2. Fit the classifier \n",
    "    - (```scaled _X_train```, ```y_train_resampled```)\n",
    "3. Predict on the test set\n",
    "    - ```scaled_X_test```\n",
    "4. Check predictive performance.  Use the model to predict labels on both the training and test set.\n",
    "5. Calculate the percision, recall, accuracy and f1-score.\n",
    "6. Plot the confusion matrix: The diagonal represents where the predicted label is equal to the true label.  The off-diagonal elements are those that are mislabled by the classifier.  The higher the diagonal values of the matrix the better, indicating many correct perdictions."
   ]
  },
  {
   "cell_type": "code",
   "execution_count": 55,
   "metadata": {},
   "outputs": [],
   "source": [
    "adaboost_clf = AdaBoostClassifier(random_state = 6)\n",
    "adaboost_clf.fit(scaled_X_train, y_train_resampled)\n",
    "adaboost_preds = adaboost_clf.predict(scaled_X_test)"
   ]
  },
  {
   "cell_type": "code",
   "execution_count": 56,
   "metadata": {},
   "outputs": [
    {
     "name": "stdout",
     "output_type": "stream",
     "text": [
      "Precision Score: 0.9766929273258387\n",
      "Recall Score: 0.9760765550239234\n",
      "Accuracy Score: 0.9760765550239234\n",
      "F1 Score: 0.9761716267297034\n"
     ]
    }
   ],
   "source": [
    "print_metrics(y_test, adaboost_preds)"
   ]
  },
  {
   "cell_type": "code",
   "execution_count": 57,
   "metadata": {
    "scrolled": true
   },
   "outputs": [
    {
     "data": {
      "image/png": "[encoded data removed]",
      "text/plain": [
       "<Figure size 432x288 with 2 Axes>"
      ]
     },
     "metadata": {
      "needs_background": "light"
     },
     "output_type": "display_data"
    }
   ],
   "source": [
    "plot_confusion_matrix(adaboost_clf, scaled_X_test, y_test);"
   ]
  },
  {
   "cell_type": "markdown",
   "metadata": {},
   "source": [
    "### Ada: Data for Dataframe"
   ]
  },
  {
   "cell_type": "markdown",
   "metadata": {},
   "source": [
    "#### AdaBoost Training Info "
   ]
  },
  {
   "cell_type": "code",
   "execution_count": 58,
   "metadata": {},
   "outputs": [
    {
     "name": "stdout",
     "output_type": "stream",
     "text": [
      "Train F1 score: 100.0\n",
      "Train Accuracy Score: 100.0\n",
      "Train Precision Score: 100.0\n"
     ]
    }
   ],
   "source": [
    "adaboost_f1_train = round(f1_score(y_train_resampled, adaboost_clf.predict(scaled_X_train))*100, 2)\n",
    "print('Train F1 score:', adaboost_f1_train)\n",
    "adaboost_acc_train = round(accuracy_score(y_train_resampled, adaboost_clf.predict(scaled_X_train))*100, 2)\n",
    "print('Train Accuracy Score:', adaboost_acc_train)\n",
    "adaboost_prec_train = round(precision_score(y_train_resampled, adaboost_clf.predict(scaled_X_train))*100, 2)\n",
    "print('Train Precision Score:', adaboost_prec_train)"
   ]
  },
  {
   "cell_type": "markdown",
   "metadata": {},
   "source": [
    "#### AdaBoost Test Info "
   ]
  },
  {
   "cell_type": "code",
   "execution_count": 59,
   "metadata": {},
   "outputs": [
    {
     "name": "stdout",
     "output_type": "stream",
     "text": [
      "Test F1 score: 98.1\n",
      "Test Accuracy Score: 97.61\n",
      "Train Precision Score: 99.23\n"
     ]
    }
   ],
   "source": [
    "adaboost_f1_test = round(f1_score(y_test, adaboost_preds)*100, 2)\n",
    "print('Test F1 score:', adaboost_f1_test)\n",
    "adaboost_acc_test = round(accuracy_score(y_test, adaboost_preds)*100, 2)\n",
    "print('Test Accuracy Score:', adaboost_acc_test)\n",
    "adaboost_prec_test = round(precision_score(y_test, adaboost_preds)*100, 2)\n",
    "print('Train Precision Score:', adaboost_prec_test)"
   ]
  },
  {
   "cell_type": "markdown",
   "metadata": {},
   "source": [
    "## 6. XGBoost (eXtreme Gradient Boosting)\n",
    "- XGBoost provides a parallel tree boosting. \n",
    "\n",
    "1. Instantiate XGBClassifier with ```random_state = 6``` to keep it the same.\n",
    "2. Fit the classifier \n",
    "    - (scaled _X_train, y_train_resampled)\n",
    "3. Predict on the test set\n",
    "    - scaled_X_test\n",
    "4. Check predictive performance.  Use the model to predict labels on both the training and test set.\n",
    "5. Calculate the percision, recall, accuracy and f1-score.\n",
    "6. Plot the confusion matrix: The diagonal represents where the predicted label is equal to the true label.  The off-diagonal elements are those that are mislabled by the classifier.  The higher the diagonal values of the matrix the better, indicating many correct perdictions."
   ]
  },
  {
   "cell_type": "code",
   "execution_count": 60,
   "metadata": {},
   "outputs": [],
   "source": [
    "xgboost_clf = XGBClassifier(random_state = 6)\n",
    "xgboost_clf.fit(scaled_X_train, y_train_resampled)\n",
    "xgboost_preds = xgboost_clf.predict(scaled_X_test)"
   ]
  },
  {
   "cell_type": "code",
   "execution_count": 61,
   "metadata": {},
   "outputs": [
    {
     "name": "stdout",
     "output_type": "stream",
     "text": [
      "Precision Score: 0.9811562483318208\n",
      "Recall Score: 0.9808612440191388\n",
      "Accuracy Score: 0.9808612440191388\n",
      "F1 Score: 0.9809130263675717\n"
     ]
    }
   ],
   "source": [
    "print_metrics(y_test, xgboost_preds)"
   ]
  },
  {
   "cell_type": "code",
   "execution_count": 62,
   "metadata": {
    "scrolled": true
   },
   "outputs": [
    {
     "data": {
      "image/png": "[encoded data removed]",
      "text/plain": [
       "<Figure size 432x288 with 2 Axes>"
      ]
     },
     "metadata": {
      "needs_background": "light"
     },
     "output_type": "display_data"
    }
   ],
   "source": [
    "plot_confusion_matrix(xgboost_clf, scaled_X_test, y_test);"
   ]
  },
  {
   "cell_type": "markdown",
   "metadata": {},
   "source": [
    "### XGBoost: Data for Dataframe"
   ]
  },
  {
   "cell_type": "markdown",
   "metadata": {},
   "source": [
    "#### XGBoost Training Info "
   ]
  },
  {
   "cell_type": "code",
   "execution_count": 63,
   "metadata": {},
   "outputs": [
    {
     "name": "stdout",
     "output_type": "stream",
     "text": [
      "Train F1 score: 100.0\n",
      "Train Accuracy Score: 100.0\n",
      "Train Precision Score: 100.0\n"
     ]
    }
   ],
   "source": [
    "xgboost_f1_train = round(f1_score(y_train_resampled, xgboost_clf.predict(scaled_X_train))*100, 2)\n",
    "print('Train F1 score:', xgboost_f1_train)\n",
    "xgboost_acc_train = round(accuracy_score(y_train_resampled, xgboost_clf.predict(scaled_X_train))*100, 2)\n",
    "print('Train Accuracy Score:', xgboost_acc_train)\n",
    "xgboost_prec_train = round(precision_score(y_train_resampled, xgboost_clf.predict(scaled_X_train))*100, 2)\n",
    "print('Train Precision Score:', xgboost_prec_train)"
   ]
  },
  {
   "cell_type": "markdown",
   "metadata": {},
   "source": [
    "#### XGBoost Test Info "
   ]
  },
  {
   "cell_type": "code",
   "execution_count": 64,
   "metadata": {},
   "outputs": [
    {
     "name": "stdout",
     "output_type": "stream",
     "text": [
      "Test F1 score: 98.48\n",
      "Test Accuracy Score: 98.09\n",
      "Train Precision Score: 99.24\n"
     ]
    }
   ],
   "source": [
    "xgboost_f1_test = round(f1_score(y_test, xgboost_preds)*100, 2)\n",
    "print('Test F1 score:', xgboost_f1_test)\n",
    "xgboost_acc_test = round(accuracy_score(y_test, xgboost_preds)*100, 2)\n",
    "print('Test Accuracy Score:', xgboost_acc_test)\n",
    "xgboost_prec_test = round(precision_score(y_test, xgboost_preds)*100, 2)\n",
    "print('Train Precision Score:', xgboost_prec_test)"
   ]
  },
  {
   "cell_type": "markdown",
   "metadata": {},
   "source": [
    "# DataFrame of all the models with their scores"
   ]
  },
  {
   "cell_type": "code",
   "execution_count": 65,
   "metadata": {},
   "outputs": [
    {
     "data": {
      "text/html": [
       "<div>\n",
       "<style scoped>\n",
       "    .dataframe tbody tr th:only-of-type {\n",
       "        vertical-align: middle;\n",
       "    }\n",
       "\n",
       "    .dataframe tbody tr th {\n",
       "        vertical-align: top;\n",
       "    }\n",
       "\n",
       "    .dataframe thead th {\n",
       "        text-align: right;\n",
       "    }\n",
       "</style>\n",
       "<table border=\"1\" class=\"dataframe\">\n",
       "  <thead>\n",
       "    <tr style=\"text-align: right;\">\n",
       "      <th></th>\n",
       "      <th>Model</th>\n",
       "      <th>Train Accuracy Score</th>\n",
       "      <th>Train F1 Score</th>\n",
       "      <th>Test Accuracy Score</th>\n",
       "      <th>Test F1 Score</th>\n",
       "    </tr>\n",
       "  </thead>\n",
       "  <tbody>\n",
       "    <tr>\n",
       "      <td>5</td>\n",
       "      <td>XGBoost</td>\n",
       "      <td>100.00</td>\n",
       "      <td>100.00</td>\n",
       "      <td>98.09</td>\n",
       "      <td>98.48</td>\n",
       "    </tr>\n",
       "    <tr>\n",
       "      <td>1</td>\n",
       "      <td>Decision Tree</td>\n",
       "      <td>100.00</td>\n",
       "      <td>100.00</td>\n",
       "      <td>97.61</td>\n",
       "      <td>98.08</td>\n",
       "    </tr>\n",
       "    <tr>\n",
       "      <td>3</td>\n",
       "      <td>Gadrient Boosting</td>\n",
       "      <td>100.00</td>\n",
       "      <td>100.00</td>\n",
       "      <td>97.61</td>\n",
       "      <td>98.08</td>\n",
       "    </tr>\n",
       "    <tr>\n",
       "      <td>4</td>\n",
       "      <td>AdaBoost</td>\n",
       "      <td>100.00</td>\n",
       "      <td>100.00</td>\n",
       "      <td>97.61</td>\n",
       "      <td>98.10</td>\n",
       "    </tr>\n",
       "    <tr>\n",
       "      <td>2</td>\n",
       "      <td>Random Forest</td>\n",
       "      <td>100.00</td>\n",
       "      <td>100.00</td>\n",
       "      <td>97.13</td>\n",
       "      <td>97.69</td>\n",
       "    </tr>\n",
       "    <tr>\n",
       "      <td>0</td>\n",
       "      <td>KNN</td>\n",
       "      <td>95.49</td>\n",
       "      <td>95.35</td>\n",
       "      <td>91.39</td>\n",
       "      <td>92.97</td>\n",
       "    </tr>\n",
       "  </tbody>\n",
       "</table>\n",
       "</div>"
      ],
      "text/plain": [
       "               Model  Train Accuracy Score  Train F1 Score  \\\n",
       "5            XGBoost                100.00          100.00   \n",
       "1      Decision Tree                100.00          100.00   \n",
       "3  Gadrient Boosting                100.00          100.00   \n",
       "4           AdaBoost                100.00          100.00   \n",
       "2      Random Forest                100.00          100.00   \n",
       "0                KNN                 95.49           95.35   \n",
       "\n",
       "   Test Accuracy Score  Test F1 Score  \n",
       "5                98.09          98.48  \n",
       "1                97.61          98.08  \n",
       "3                97.61          98.08  \n",
       "4                97.61          98.10  \n",
       "2                97.13          97.69  \n",
       "0                91.39          92.97  "
      ]
     },
     "execution_count": 65,
     "metadata": {},
     "output_type": "execute_result"
    }
   ],
   "source": [
    "data = {'Model': ['KNN', 'Decision Tree', 'Random Forest', 'Gadrient Boosting', 'AdaBoost', 'XGBoost'],\n",
    "         'Train Accuracy Score': [KNN_acc_train, dt_acc_train, random_acc_train, gbt_acc_train, adaboost_acc_train, \n",
    "                                  xgboost_acc_train],\n",
    "         'Train F1 Score': [KNN_f1_train, dt_f1_train, random_f1_train, gbt_f1_train, adaboost_f1_train, xgboost_f1_train],\n",
    "         'Test Accuracy Score': [KNN_acc_test, dt_acc_test, random_acc_test, gbt_acc_test, adaboost_acc_test, \n",
    "                                  xgboost_acc_test],\n",
    "         'Test F1 Score': [KNN_f1_test, dt_f1_test, random_f1_test, gbt_f1_test, adaboost_f1_test, xgboost_f1_test]}\n",
    "model_performance = pd.DataFrame(data)\n",
    "model_performance.sort_values(by='Test Accuracy Score', ascending=False)"
   ]
  },
  {
   "cell_type": "markdown",
   "metadata": {},
   "source": [
    "#### The importance of Feature Importance:\n",
    "- The decision tree model shows that the OVERALL SCORE was the most useful in the construction of the model, followed by SCHOOL LEVEL, PEER INDEX, and ENVIRONMENT CATEGORY SCORE.  The rest of the features played no part in making the Decision Tree model, that scored the highest accuracy score of all the models.\n",
    "- The XGBoost model did not use Student-Teacher Ratio in the construction of the model, and heavily depended on OVERALL SCORE in it's construction.\n",
    "- The other models (Random Forest, Gradiant Boost, and AdaBoost, all used parts of all features to construct their models -- Using OVERALL SCORE as their main contributor.\n",
    "- The best models to use to help model future input are: Random Forest or AdaBoost, because they use more of their features to make decisions.\n"
   ]
  },
  {
   "cell_type": "code",
   "execution_count": 66,
   "metadata": {
    "scrolled": true
   },
   "outputs": [
    {
     "data": {
      "text/html": [
       "<div>\n",
       "<style scoped>\n",
       "    .dataframe tbody tr th:only-of-type {\n",
       "        vertical-align: middle;\n",
       "    }\n",
       "\n",
       "    .dataframe tbody tr th {\n",
       "        vertical-align: top;\n",
       "    }\n",
       "\n",
       "    .dataframe thead th {\n",
       "        text-align: right;\n",
       "    }\n",
       "</style>\n",
       "<table border=\"1\" class=\"dataframe\">\n",
       "  <thead>\n",
       "    <tr style=\"text-align: right;\">\n",
       "      <th></th>\n",
       "      <th>Feature</th>\n",
       "      <th>Decision Tree</th>\n",
       "      <th>Random Forest</th>\n",
       "      <th>Gradient Boost</th>\n",
       "      <th>AdaBoost</th>\n",
       "      <th>XGBoost</th>\n",
       "    </tr>\n",
       "  </thead>\n",
       "  <tbody>\n",
       "    <tr>\n",
       "      <td>0</td>\n",
       "      <td>SCHOOL LEVEL</td>\n",
       "      <td>0.012603</td>\n",
       "      <td>0.009370</td>\n",
       "      <td>1.328636e-02</td>\n",
       "      <td>0.24</td>\n",
       "      <td>0.042740</td>\n",
       "    </tr>\n",
       "    <tr>\n",
       "      <td>1</td>\n",
       "      <td>PEER INDEX</td>\n",
       "      <td>0.002751</td>\n",
       "      <td>0.009745</td>\n",
       "      <td>6.239144e-04</td>\n",
       "      <td>0.04</td>\n",
       "      <td>0.009667</td>\n",
       "    </tr>\n",
       "    <tr>\n",
       "      <td>2</td>\n",
       "      <td>OVERALL SCORE</td>\n",
       "      <td>0.981537</td>\n",
       "      <td>0.541709</td>\n",
       "      <td>9.823390e-01</td>\n",
       "      <td>0.24</td>\n",
       "      <td>0.886153</td>\n",
       "    </tr>\n",
       "    <tr>\n",
       "      <td>3</td>\n",
       "      <td>ENVIRONMENT CATEGORY SCORE</td>\n",
       "      <td>0.002407</td>\n",
       "      <td>0.036756</td>\n",
       "      <td>1.200288e-04</td>\n",
       "      <td>0.04</td>\n",
       "      <td>0.004024</td>\n",
       "    </tr>\n",
       "    <tr>\n",
       "      <td>4</td>\n",
       "      <td>PERFORMANCE CATEGORY SCORE</td>\n",
       "      <td>0.000000</td>\n",
       "      <td>0.073268</td>\n",
       "      <td>2.450652e-04</td>\n",
       "      <td>0.02</td>\n",
       "      <td>0.008019</td>\n",
       "    </tr>\n",
       "    <tr>\n",
       "      <td>5</td>\n",
       "      <td>PROGRESS CATEGORY SCORE</td>\n",
       "      <td>0.000000</td>\n",
       "      <td>0.255478</td>\n",
       "      <td>1.567591e-03</td>\n",
       "      <td>0.08</td>\n",
       "      <td>0.007616</td>\n",
       "    </tr>\n",
       "    <tr>\n",
       "      <td>6</td>\n",
       "      <td>ADDITIONAL CREDIT</td>\n",
       "      <td>0.000702</td>\n",
       "      <td>0.045921</td>\n",
       "      <td>1.011957e-03</td>\n",
       "      <td>0.00</td>\n",
       "      <td>0.003104</td>\n",
       "    </tr>\n",
       "    <tr>\n",
       "      <td>7</td>\n",
       "      <td>QUALITY REVIEW SCORE</td>\n",
       "      <td>0.000000</td>\n",
       "      <td>0.005132</td>\n",
       "      <td>4.795710e-08</td>\n",
       "      <td>0.06</td>\n",
       "      <td>0.010486</td>\n",
       "    </tr>\n",
       "    <tr>\n",
       "      <td>8</td>\n",
       "      <td>Enrollment</td>\n",
       "      <td>0.000000</td>\n",
       "      <td>0.008612</td>\n",
       "      <td>4.718239e-04</td>\n",
       "      <td>0.04</td>\n",
       "      <td>0.016349</td>\n",
       "    </tr>\n",
       "    <tr>\n",
       "      <td>9</td>\n",
       "      <td>Student-Teacher Ratio</td>\n",
       "      <td>0.000000</td>\n",
       "      <td>0.007158</td>\n",
       "      <td>1.194404e-04</td>\n",
       "      <td>0.08</td>\n",
       "      <td>0.008230</td>\n",
       "    </tr>\n",
       "    <tr>\n",
       "      <td>10</td>\n",
       "      <td>Free-Reduced Lunch</td>\n",
       "      <td>0.000000</td>\n",
       "      <td>0.006851</td>\n",
       "      <td>2.147992e-04</td>\n",
       "      <td>0.16</td>\n",
       "      <td>0.003611</td>\n",
       "    </tr>\n",
       "  </tbody>\n",
       "</table>\n",
       "</div>"
      ],
      "text/plain": [
       "                       Feature  Decision Tree  Random Forest  Gradient Boost  \\\n",
       "0                 SCHOOL LEVEL       0.012603       0.009370    1.328636e-02   \n",
       "1                   PEER INDEX       0.002751       0.009745    6.239144e-04   \n",
       "2                OVERALL SCORE       0.981537       0.541709    9.823390e-01   \n",
       "3   ENVIRONMENT CATEGORY SCORE       0.002407       0.036756    1.200288e-04   \n",
       "4   PERFORMANCE CATEGORY SCORE       0.000000       0.073268    2.450652e-04   \n",
       "5      PROGRESS CATEGORY SCORE       0.000000       0.255478    1.567591e-03   \n",
       "6            ADDITIONAL CREDIT       0.000702       0.045921    1.011957e-03   \n",
       "7         QUALITY REVIEW SCORE       0.000000       0.005132    4.795710e-08   \n",
       "8                   Enrollment       0.000000       0.008612    4.718239e-04   \n",
       "9        Student-Teacher Ratio       0.000000       0.007158    1.194404e-04   \n",
       "10          Free-Reduced Lunch       0.000000       0.006851    2.147992e-04   \n",
       "\n",
       "    AdaBoost   XGBoost  \n",
       "0       0.24  0.042740  \n",
       "1       0.04  0.009667  \n",
       "2       0.24  0.886153  \n",
       "3       0.04  0.004024  \n",
       "4       0.02  0.008019  \n",
       "5       0.08  0.007616  \n",
       "6       0.00  0.003104  \n",
       "7       0.06  0.010486  \n",
       "8       0.04  0.016349  \n",
       "9       0.08  0.008230  \n",
       "10      0.16  0.003611  "
      ]
     },
     "execution_count": 66,
     "metadata": {},
     "output_type": "execute_result"
    }
   ],
   "source": [
    "feature_df = pd.DataFrame()\n",
    "feature_df['Feature'] = school_report.drop('target',axis=1).columns\n",
    "feature_df['Decision Tree'] = dt_clf.feature_importances_\n",
    "feature_df['Random Forest'] = random_clf.feature_importances_\n",
    "feature_df['Gradient Boost'] = gbt_clf.feature_importances_\n",
    "feature_df['AdaBoost'] = adaboost_clf.feature_importances_\n",
    "feature_df['XGBoost'] = xgboost_clf.feature_importances_\n",
    "feature_df"
   ]
  },
  {
   "cell_type": "markdown",
   "metadata": {},
   "source": [
    "# Testing the Model with 2007-2008 Data"
   ]
  },
  {
   "cell_type": "code",
   "execution_count": 67,
   "metadata": {},
   "outputs": [],
   "source": [
    "model_names = ['KNN', 'Decision Tree', 'Random Forest', 'Gradient Boost', 'AdaBoost', 'XGBoost']\n",
    "models = [KNN_clf_improved, dt_clf, random_clf, gbt_clf, adaboost_clf, xgboost_clf]"
   ]
  },
  {
   "cell_type": "code",
   "execution_count": 68,
   "metadata": {},
   "outputs": [],
   "source": [
    "new_data = pd.read_csv('2007-2008_Sample_Data.csv')"
   ]
  },
  {
   "cell_type": "code",
   "execution_count": 69,
   "metadata": {},
   "outputs": [
    {
     "data": {
      "text/html": [
       "<div>\n",
       "<style scoped>\n",
       "    .dataframe tbody tr th:only-of-type {\n",
       "        vertical-align: middle;\n",
       "    }\n",
       "\n",
       "    .dataframe tbody tr th {\n",
       "        vertical-align: top;\n",
       "    }\n",
       "\n",
       "    .dataframe thead th {\n",
       "        text-align: right;\n",
       "    }\n",
       "</style>\n",
       "<table border=\"1\" class=\"dataframe\">\n",
       "  <thead>\n",
       "    <tr style=\"text-align: right;\">\n",
       "      <th></th>\n",
       "      <th>Unnamed: 0</th>\n",
       "      <th>SCHOOL</th>\n",
       "      <th>SCHOOL LEVEL</th>\n",
       "      <th>PEER INDEX</th>\n",
       "      <th>OVERALL SCORE</th>\n",
       "      <th>ENVIRONMENT CATEGORY SCORE</th>\n",
       "      <th>PERFORMANCE CATEGORY SCORE</th>\n",
       "      <th>PROGRESS CATEGORY SCORE</th>\n",
       "      <th>ADDITIONAL CREDIT</th>\n",
       "      <th>2007-08 QUALITY REVIEW SCORE</th>\n",
       "      <th>Enrollment</th>\n",
       "      <th>Student-Teacher Ratio</th>\n",
       "      <th>Free-Reduced Lunch</th>\n",
       "      <th>Pass/Fail</th>\n",
       "    </tr>\n",
       "  </thead>\n",
       "  <tbody>\n",
       "    <tr>\n",
       "      <td>0</td>\n",
       "      <td>0</td>\n",
       "      <td>BARD HIGH SCHOOL EARLY COLLEGE</td>\n",
       "      <td>3</td>\n",
       "      <td>3.79</td>\n",
       "      <td>57.8</td>\n",
       "      <td>10.9</td>\n",
       "      <td>15.9</td>\n",
       "      <td>31.0</td>\n",
       "      <td>0.00</td>\n",
       "      <td>2</td>\n",
       "      <td>614</td>\n",
       "      <td>4.9</td>\n",
       "      <td>44</td>\n",
       "      <td>1</td>\n",
       "    </tr>\n",
       "    <tr>\n",
       "      <td>1</td>\n",
       "      <td>1</td>\n",
       "      <td>P.S. 140 NATHAN STRAUS</td>\n",
       "      <td>1</td>\n",
       "      <td>62.46</td>\n",
       "      <td>64.8</td>\n",
       "      <td>9.0</td>\n",
       "      <td>15.3</td>\n",
       "      <td>36.0</td>\n",
       "      <td>4.50</td>\n",
       "      <td>2</td>\n",
       "      <td>318</td>\n",
       "      <td>9.2</td>\n",
       "      <td>72</td>\n",
       "      <td>1</td>\n",
       "    </tr>\n",
       "    <tr>\n",
       "      <td>2</td>\n",
       "      <td>2</td>\n",
       "      <td>EARTH SCHOOL</td>\n",
       "      <td>0</td>\n",
       "      <td>34.68</td>\n",
       "      <td>62.4</td>\n",
       "      <td>11.9</td>\n",
       "      <td>9.8</td>\n",
       "      <td>36.9</td>\n",
       "      <td>3.75</td>\n",
       "      <td>1</td>\n",
       "      <td>344</td>\n",
       "      <td>7.3</td>\n",
       "      <td>48</td>\n",
       "      <td>1</td>\n",
       "    </tr>\n",
       "    <tr>\n",
       "      <td>3</td>\n",
       "      <td>4</td>\n",
       "      <td>EAST SIDE COMMUNITY HIGH SCHOOL</td>\n",
       "      <td>3</td>\n",
       "      <td>2.27</td>\n",
       "      <td>68.3</td>\n",
       "      <td>13.0</td>\n",
       "      <td>19.9</td>\n",
       "      <td>33.4</td>\n",
       "      <td>2.00</td>\n",
       "      <td>1</td>\n",
       "      <td>675</td>\n",
       "      <td>6.4</td>\n",
       "      <td>67</td>\n",
       "      <td>1</td>\n",
       "    </tr>\n",
       "    <tr>\n",
       "      <td>4</td>\n",
       "      <td>6</td>\n",
       "      <td>MARTA VALLE SECONDARY SCHOOL</td>\n",
       "      <td>3</td>\n",
       "      <td>2.08</td>\n",
       "      <td>52.6</td>\n",
       "      <td>5.3</td>\n",
       "      <td>8.8</td>\n",
       "      <td>35.5</td>\n",
       "      <td>3.00</td>\n",
       "      <td>2</td>\n",
       "      <td>95</td>\n",
       "      <td>15.8</td>\n",
       "      <td>90</td>\n",
       "      <td>1</td>\n",
       "    </tr>\n",
       "    <tr>\n",
       "      <td>5</td>\n",
       "      <td>7</td>\n",
       "      <td>NEIGHBORHOOD SCHOOL</td>\n",
       "      <td>0</td>\n",
       "      <td>33.34</td>\n",
       "      <td>32.1</td>\n",
       "      <td>12.2</td>\n",
       "      <td>9.6</td>\n",
       "      <td>9.5</td>\n",
       "      <td>0.75</td>\n",
       "      <td>1</td>\n",
       "      <td>310</td>\n",
       "      <td>7.1</td>\n",
       "      <td>39</td>\n",
       "      <td>0</td>\n",
       "    </tr>\n",
       "    <tr>\n",
       "      <td>6</td>\n",
       "      <td>8</td>\n",
       "      <td>P.S. 015 ROBERTO CLEMENTE</td>\n",
       "      <td>0</td>\n",
       "      <td>63.28</td>\n",
       "      <td>31.9</td>\n",
       "      <td>5.8</td>\n",
       "      <td>8.0</td>\n",
       "      <td>18.1</td>\n",
       "      <td>0.00</td>\n",
       "      <td>2</td>\n",
       "      <td>190</td>\n",
       "      <td>11.0</td>\n",
       "      <td>83</td>\n",
       "      <td>0</td>\n",
       "    </tr>\n",
       "    <tr>\n",
       "      <td>7</td>\n",
       "      <td>9</td>\n",
       "      <td>P.S. 019 ASHER LEVY</td>\n",
       "      <td>0</td>\n",
       "      <td>50.39</td>\n",
       "      <td>50.8</td>\n",
       "      <td>9.0</td>\n",
       "      <td>11.4</td>\n",
       "      <td>30.4</td>\n",
       "      <td>0.00</td>\n",
       "      <td>1</td>\n",
       "      <td>241</td>\n",
       "      <td>15.4</td>\n",
       "      <td>75</td>\n",
       "      <td>1</td>\n",
       "    </tr>\n",
       "    <tr>\n",
       "      <td>8</td>\n",
       "      <td>10</td>\n",
       "      <td>P.S. 020 ANNA SILVER</td>\n",
       "      <td>0</td>\n",
       "      <td>57.37</td>\n",
       "      <td>69.7</td>\n",
       "      <td>9.7</td>\n",
       "      <td>20.0</td>\n",
       "      <td>37.7</td>\n",
       "      <td>2.25</td>\n",
       "      <td>1</td>\n",
       "      <td>476</td>\n",
       "      <td>7.7</td>\n",
       "      <td>56</td>\n",
       "      <td>1</td>\n",
       "    </tr>\n",
       "    <tr>\n",
       "      <td>9</td>\n",
       "      <td>11</td>\n",
       "      <td>P.S. 034 FRANKLIN D. ROOSEVELT</td>\n",
       "      <td>1</td>\n",
       "      <td>58.96</td>\n",
       "      <td>59.8</td>\n",
       "      <td>4.5</td>\n",
       "      <td>10.6</td>\n",
       "      <td>37.9</td>\n",
       "      <td>6.75</td>\n",
       "      <td>1</td>\n",
       "      <td>293</td>\n",
       "      <td>13.7</td>\n",
       "      <td>98</td>\n",
       "      <td>1</td>\n",
       "    </tr>\n",
       "    <tr>\n",
       "      <td>10</td>\n",
       "      <td>12</td>\n",
       "      <td>P.S. 063 WILLIAM MCKINLEY</td>\n",
       "      <td>0</td>\n",
       "      <td>53.00</td>\n",
       "      <td>26.5</td>\n",
       "      <td>7.6</td>\n",
       "      <td>11.3</td>\n",
       "      <td>7.6</td>\n",
       "      <td>0.00</td>\n",
       "      <td>2</td>\n",
       "      <td>1859</td>\n",
       "      <td>4.7</td>\n",
       "      <td>73</td>\n",
       "      <td>0</td>\n",
       "    </tr>\n",
       "    <tr>\n",
       "      <td>11</td>\n",
       "      <td>13</td>\n",
       "      <td>P.S. 064 ROBERT SIMON</td>\n",
       "      <td>0</td>\n",
       "      <td>60.63</td>\n",
       "      <td>79.7</td>\n",
       "      <td>12.1</td>\n",
       "      <td>18.9</td>\n",
       "      <td>46.4</td>\n",
       "      <td>2.25</td>\n",
       "      <td>1</td>\n",
       "      <td>236</td>\n",
       "      <td>11.9</td>\n",
       "      <td>95</td>\n",
       "      <td>1</td>\n",
       "    </tr>\n",
       "    <tr>\n",
       "      <td>12</td>\n",
       "      <td>14</td>\n",
       "      <td>P.S. 110 FLORENCE NIGHTINGALE</td>\n",
       "      <td>0</td>\n",
       "      <td>42.56</td>\n",
       "      <td>41.2</td>\n",
       "      <td>9.4</td>\n",
       "      <td>16.9</td>\n",
       "      <td>13.4</td>\n",
       "      <td>1.50</td>\n",
       "      <td>1</td>\n",
       "      <td>396</td>\n",
       "      <td>7.0</td>\n",
       "      <td>56</td>\n",
       "      <td>0</td>\n",
       "    </tr>\n",
       "    <tr>\n",
       "      <td>13</td>\n",
       "      <td>15</td>\n",
       "      <td>P.S. 134 HENRIETTA SZOLD</td>\n",
       "      <td>0</td>\n",
       "      <td>54.03</td>\n",
       "      <td>53.0</td>\n",
       "      <td>5.8</td>\n",
       "      <td>14.4</td>\n",
       "      <td>31.3</td>\n",
       "      <td>1.50</td>\n",
       "      <td>2</td>\n",
       "      <td>254</td>\n",
       "      <td>14.9</td>\n",
       "      <td>89</td>\n",
       "      <td>1</td>\n",
       "    </tr>\n",
       "  </tbody>\n",
       "</table>\n",
       "</div>"
      ],
      "text/plain": [
       "    Unnamed: 0                           SCHOOL  SCHOOL LEVEL  PEER INDEX  \\\n",
       "0            0   BARD HIGH SCHOOL EARLY COLLEGE             3        3.79   \n",
       "1            1           P.S. 140 NATHAN STRAUS             1       62.46   \n",
       "2            2                     EARTH SCHOOL             0       34.68   \n",
       "3            4  EAST SIDE COMMUNITY HIGH SCHOOL             3        2.27   \n",
       "4            6     MARTA VALLE SECONDARY SCHOOL             3        2.08   \n",
       "5            7              NEIGHBORHOOD SCHOOL             0       33.34   \n",
       "6            8        P.S. 015 ROBERTO CLEMENTE             0       63.28   \n",
       "7            9              P.S. 019 ASHER LEVY             0       50.39   \n",
       "8           10             P.S. 020 ANNA SILVER             0       57.37   \n",
       "9           11   P.S. 034 FRANKLIN D. ROOSEVELT             1       58.96   \n",
       "10          12        P.S. 063 WILLIAM MCKINLEY             0       53.00   \n",
       "11          13            P.S. 064 ROBERT SIMON             0       60.63   \n",
       "12          14    P.S. 110 FLORENCE NIGHTINGALE             0       42.56   \n",
       "13          15         P.S. 134 HENRIETTA SZOLD             0       54.03   \n",
       "\n",
       "    OVERALL SCORE  ENVIRONMENT CATEGORY SCORE  PERFORMANCE CATEGORY SCORE  \\\n",
       "0            57.8                        10.9                        15.9   \n",
       "1            64.8                         9.0                        15.3   \n",
       "2            62.4                        11.9                         9.8   \n",
       "3            68.3                        13.0                        19.9   \n",
       "4            52.6                         5.3                         8.8   \n",
       "5            32.1                        12.2                         9.6   \n",
       "6            31.9                         5.8                         8.0   \n",
       "7            50.8                         9.0                        11.4   \n",
       "8            69.7                         9.7                        20.0   \n",
       "9            59.8                         4.5                        10.6   \n",
       "10           26.5                         7.6                        11.3   \n",
       "11           79.7                        12.1                        18.9   \n",
       "12           41.2                         9.4                        16.9   \n",
       "13           53.0                         5.8                        14.4   \n",
       "\n",
       "    PROGRESS CATEGORY SCORE  ADDITIONAL CREDIT  2007-08 QUALITY REVIEW SCORE  \\\n",
       "0                      31.0               0.00                             2   \n",
       "1                      36.0               4.50                             2   \n",
       "2                      36.9               3.75                             1   \n",
       "3                      33.4               2.00                             1   \n",
       "4                      35.5               3.00                             2   \n",
       "5                       9.5               0.75                             1   \n",
       "6                      18.1               0.00                             2   \n",
       "7                      30.4               0.00                             1   \n",
       "8                      37.7               2.25                             1   \n",
       "9                      37.9               6.75                             1   \n",
       "10                      7.6               0.00                             2   \n",
       "11                     46.4               2.25                             1   \n",
       "12                     13.4               1.50                             1   \n",
       "13                     31.3               1.50                             2   \n",
       "\n",
       "    Enrollment  Student-Teacher Ratio  Free-Reduced Lunch  Pass/Fail  \n",
       "0          614                    4.9                  44          1  \n",
       "1          318                    9.2                  72          1  \n",
       "2          344                    7.3                  48          1  \n",
       "3          675                    6.4                  67          1  \n",
       "4           95                   15.8                  90          1  \n",
       "5          310                    7.1                  39          0  \n",
       "6          190                   11.0                  83          0  \n",
       "7          241                   15.4                  75          1  \n",
       "8          476                    7.7                  56          1  \n",
       "9          293                   13.7                  98          1  \n",
       "10        1859                    4.7                  73          0  \n",
       "11         236                   11.9                  95          1  \n",
       "12         396                    7.0                  56          0  \n",
       "13         254                   14.9                  89          1  "
      ]
     },
     "execution_count": 69,
     "metadata": {},
     "output_type": "execute_result"
    }
   ],
   "source": [
    "new_data"
   ]
  },
  {
   "cell_type": "code",
   "execution_count": 70,
   "metadata": {},
   "outputs": [],
   "source": [
    "new_data_2008 = new_data.drop(['Unnamed: 0', 'SCHOOL'], axis=1)"
   ]
  },
  {
   "cell_type": "code",
   "execution_count": 71,
   "metadata": {},
   "outputs": [
    {
     "data": {
      "text/html": [
       "<div>\n",
       "<style scoped>\n",
       "    .dataframe tbody tr th:only-of-type {\n",
       "        vertical-align: middle;\n",
       "    }\n",
       "\n",
       "    .dataframe tbody tr th {\n",
       "        vertical-align: top;\n",
       "    }\n",
       "\n",
       "    .dataframe thead th {\n",
       "        text-align: right;\n",
       "    }\n",
       "</style>\n",
       "<table border=\"1\" class=\"dataframe\">\n",
       "  <thead>\n",
       "    <tr style=\"text-align: right;\">\n",
       "      <th></th>\n",
       "      <th>SCHOOL LEVEL</th>\n",
       "      <th>PEER INDEX</th>\n",
       "      <th>OVERALL SCORE</th>\n",
       "      <th>ENVIRONMENT CATEGORY SCORE</th>\n",
       "      <th>PERFORMANCE CATEGORY SCORE</th>\n",
       "      <th>PROGRESS CATEGORY SCORE</th>\n",
       "      <th>ADDITIONAL CREDIT</th>\n",
       "      <th>2007-08 QUALITY REVIEW SCORE</th>\n",
       "      <th>Enrollment</th>\n",
       "      <th>Student-Teacher Ratio</th>\n",
       "      <th>Free-Reduced Lunch</th>\n",
       "      <th>Pass/Fail</th>\n",
       "    </tr>\n",
       "  </thead>\n",
       "  <tbody>\n",
       "    <tr>\n",
       "      <td>0</td>\n",
       "      <td>3</td>\n",
       "      <td>3.79</td>\n",
       "      <td>57.8</td>\n",
       "      <td>10.9</td>\n",
       "      <td>15.9</td>\n",
       "      <td>31.0</td>\n",
       "      <td>0.00</td>\n",
       "      <td>2</td>\n",
       "      <td>614</td>\n",
       "      <td>4.9</td>\n",
       "      <td>44</td>\n",
       "      <td>1</td>\n",
       "    </tr>\n",
       "    <tr>\n",
       "      <td>1</td>\n",
       "      <td>1</td>\n",
       "      <td>62.46</td>\n",
       "      <td>64.8</td>\n",
       "      <td>9.0</td>\n",
       "      <td>15.3</td>\n",
       "      <td>36.0</td>\n",
       "      <td>4.50</td>\n",
       "      <td>2</td>\n",
       "      <td>318</td>\n",
       "      <td>9.2</td>\n",
       "      <td>72</td>\n",
       "      <td>1</td>\n",
       "    </tr>\n",
       "    <tr>\n",
       "      <td>2</td>\n",
       "      <td>0</td>\n",
       "      <td>34.68</td>\n",
       "      <td>62.4</td>\n",
       "      <td>11.9</td>\n",
       "      <td>9.8</td>\n",
       "      <td>36.9</td>\n",
       "      <td>3.75</td>\n",
       "      <td>1</td>\n",
       "      <td>344</td>\n",
       "      <td>7.3</td>\n",
       "      <td>48</td>\n",
       "      <td>1</td>\n",
       "    </tr>\n",
       "    <tr>\n",
       "      <td>3</td>\n",
       "      <td>3</td>\n",
       "      <td>2.27</td>\n",
       "      <td>68.3</td>\n",
       "      <td>13.0</td>\n",
       "      <td>19.9</td>\n",
       "      <td>33.4</td>\n",
       "      <td>2.00</td>\n",
       "      <td>1</td>\n",
       "      <td>675</td>\n",
       "      <td>6.4</td>\n",
       "      <td>67</td>\n",
       "      <td>1</td>\n",
       "    </tr>\n",
       "    <tr>\n",
       "      <td>4</td>\n",
       "      <td>3</td>\n",
       "      <td>2.08</td>\n",
       "      <td>52.6</td>\n",
       "      <td>5.3</td>\n",
       "      <td>8.8</td>\n",
       "      <td>35.5</td>\n",
       "      <td>3.00</td>\n",
       "      <td>2</td>\n",
       "      <td>95</td>\n",
       "      <td>15.8</td>\n",
       "      <td>90</td>\n",
       "      <td>1</td>\n",
       "    </tr>\n",
       "    <tr>\n",
       "      <td>5</td>\n",
       "      <td>0</td>\n",
       "      <td>33.34</td>\n",
       "      <td>32.1</td>\n",
       "      <td>12.2</td>\n",
       "      <td>9.6</td>\n",
       "      <td>9.5</td>\n",
       "      <td>0.75</td>\n",
       "      <td>1</td>\n",
       "      <td>310</td>\n",
       "      <td>7.1</td>\n",
       "      <td>39</td>\n",
       "      <td>0</td>\n",
       "    </tr>\n",
       "    <tr>\n",
       "      <td>6</td>\n",
       "      <td>0</td>\n",
       "      <td>63.28</td>\n",
       "      <td>31.9</td>\n",
       "      <td>5.8</td>\n",
       "      <td>8.0</td>\n",
       "      <td>18.1</td>\n",
       "      <td>0.00</td>\n",
       "      <td>2</td>\n",
       "      <td>190</td>\n",
       "      <td>11.0</td>\n",
       "      <td>83</td>\n",
       "      <td>0</td>\n",
       "    </tr>\n",
       "    <tr>\n",
       "      <td>7</td>\n",
       "      <td>0</td>\n",
       "      <td>50.39</td>\n",
       "      <td>50.8</td>\n",
       "      <td>9.0</td>\n",
       "      <td>11.4</td>\n",
       "      <td>30.4</td>\n",
       "      <td>0.00</td>\n",
       "      <td>1</td>\n",
       "      <td>241</td>\n",
       "      <td>15.4</td>\n",
       "      <td>75</td>\n",
       "      <td>1</td>\n",
       "    </tr>\n",
       "    <tr>\n",
       "      <td>8</td>\n",
       "      <td>0</td>\n",
       "      <td>57.37</td>\n",
       "      <td>69.7</td>\n",
       "      <td>9.7</td>\n",
       "      <td>20.0</td>\n",
       "      <td>37.7</td>\n",
       "      <td>2.25</td>\n",
       "      <td>1</td>\n",
       "      <td>476</td>\n",
       "      <td>7.7</td>\n",
       "      <td>56</td>\n",
       "      <td>1</td>\n",
       "    </tr>\n",
       "    <tr>\n",
       "      <td>9</td>\n",
       "      <td>1</td>\n",
       "      <td>58.96</td>\n",
       "      <td>59.8</td>\n",
       "      <td>4.5</td>\n",
       "      <td>10.6</td>\n",
       "      <td>37.9</td>\n",
       "      <td>6.75</td>\n",
       "      <td>1</td>\n",
       "      <td>293</td>\n",
       "      <td>13.7</td>\n",
       "      <td>98</td>\n",
       "      <td>1</td>\n",
       "    </tr>\n",
       "    <tr>\n",
       "      <td>10</td>\n",
       "      <td>0</td>\n",
       "      <td>53.00</td>\n",
       "      <td>26.5</td>\n",
       "      <td>7.6</td>\n",
       "      <td>11.3</td>\n",
       "      <td>7.6</td>\n",
       "      <td>0.00</td>\n",
       "      <td>2</td>\n",
       "      <td>1859</td>\n",
       "      <td>4.7</td>\n",
       "      <td>73</td>\n",
       "      <td>0</td>\n",
       "    </tr>\n",
       "    <tr>\n",
       "      <td>11</td>\n",
       "      <td>0</td>\n",
       "      <td>60.63</td>\n",
       "      <td>79.7</td>\n",
       "      <td>12.1</td>\n",
       "      <td>18.9</td>\n",
       "      <td>46.4</td>\n",
       "      <td>2.25</td>\n",
       "      <td>1</td>\n",
       "      <td>236</td>\n",
       "      <td>11.9</td>\n",
       "      <td>95</td>\n",
       "      <td>1</td>\n",
       "    </tr>\n",
       "    <tr>\n",
       "      <td>12</td>\n",
       "      <td>0</td>\n",
       "      <td>42.56</td>\n",
       "      <td>41.2</td>\n",
       "      <td>9.4</td>\n",
       "      <td>16.9</td>\n",
       "      <td>13.4</td>\n",
       "      <td>1.50</td>\n",
       "      <td>1</td>\n",
       "      <td>396</td>\n",
       "      <td>7.0</td>\n",
       "      <td>56</td>\n",
       "      <td>0</td>\n",
       "    </tr>\n",
       "    <tr>\n",
       "      <td>13</td>\n",
       "      <td>0</td>\n",
       "      <td>54.03</td>\n",
       "      <td>53.0</td>\n",
       "      <td>5.8</td>\n",
       "      <td>14.4</td>\n",
       "      <td>31.3</td>\n",
       "      <td>1.50</td>\n",
       "      <td>2</td>\n",
       "      <td>254</td>\n",
       "      <td>14.9</td>\n",
       "      <td>89</td>\n",
       "      <td>1</td>\n",
       "    </tr>\n",
       "  </tbody>\n",
       "</table>\n",
       "</div>"
      ],
      "text/plain": [
       "    SCHOOL LEVEL  PEER INDEX  OVERALL SCORE  ENVIRONMENT CATEGORY SCORE  \\\n",
       "0              3        3.79           57.8                        10.9   \n",
       "1              1       62.46           64.8                         9.0   \n",
       "2              0       34.68           62.4                        11.9   \n",
       "3              3        2.27           68.3                        13.0   \n",
       "4              3        2.08           52.6                         5.3   \n",
       "5              0       33.34           32.1                        12.2   \n",
       "6              0       63.28           31.9                         5.8   \n",
       "7              0       50.39           50.8                         9.0   \n",
       "8              0       57.37           69.7                         9.7   \n",
       "9              1       58.96           59.8                         4.5   \n",
       "10             0       53.00           26.5                         7.6   \n",
       "11             0       60.63           79.7                        12.1   \n",
       "12             0       42.56           41.2                         9.4   \n",
       "13             0       54.03           53.0                         5.8   \n",
       "\n",
       "    PERFORMANCE CATEGORY SCORE  PROGRESS CATEGORY SCORE  ADDITIONAL CREDIT  \\\n",
       "0                         15.9                     31.0               0.00   \n",
       "1                         15.3                     36.0               4.50   \n",
       "2                          9.8                     36.9               3.75   \n",
       "3                         19.9                     33.4               2.00   \n",
       "4                          8.8                     35.5               3.00   \n",
       "5                          9.6                      9.5               0.75   \n",
       "6                          8.0                     18.1               0.00   \n",
       "7                         11.4                     30.4               0.00   \n",
       "8                         20.0                     37.7               2.25   \n",
       "9                         10.6                     37.9               6.75   \n",
       "10                        11.3                      7.6               0.00   \n",
       "11                        18.9                     46.4               2.25   \n",
       "12                        16.9                     13.4               1.50   \n",
       "13                        14.4                     31.3               1.50   \n",
       "\n",
       "    2007-08 QUALITY REVIEW SCORE  Enrollment  Student-Teacher Ratio  \\\n",
       "0                              2         614                    4.9   \n",
       "1                              2         318                    9.2   \n",
       "2                              1         344                    7.3   \n",
       "3                              1         675                    6.4   \n",
       "4                              2          95                   15.8   \n",
       "5                              1         310                    7.1   \n",
       "6                              2         190                   11.0   \n",
       "7                              1         241                   15.4   \n",
       "8                              1         476                    7.7   \n",
       "9                              1         293                   13.7   \n",
       "10                             2        1859                    4.7   \n",
       "11                             1         236                   11.9   \n",
       "12                             1         396                    7.0   \n",
       "13                             2         254                   14.9   \n",
       "\n",
       "    Free-Reduced Lunch  Pass/Fail  \n",
       "0                   44          1  \n",
       "1                   72          1  \n",
       "2                   48          1  \n",
       "3                   67          1  \n",
       "4                   90          1  \n",
       "5                   39          0  \n",
       "6                   83          0  \n",
       "7                   75          1  \n",
       "8                   56          1  \n",
       "9                   98          1  \n",
       "10                  73          0  \n",
       "11                  95          1  \n",
       "12                  56          0  \n",
       "13                  89          1  "
      ]
     },
     "execution_count": 71,
     "metadata": {},
     "output_type": "execute_result"
    }
   ],
   "source": [
    "new_data_2008"
   ]
  },
  {
   "cell_type": "code",
   "execution_count": 72,
   "metadata": {},
   "outputs": [],
   "source": [
    "scaler = StandardScaler()\n",
    "X_new = scaler.fit_transform(new_data_2008.drop('Pass/Fail', axis=1))\n",
    "y_new = new_data_2008['Pass/Fail']"
   ]
  },
  {
   "cell_type": "code",
   "execution_count": 74,
   "metadata": {},
   "outputs": [
    {
     "name": "stdout",
     "output_type": "stream",
     "text": [
      "KNN\n",
      "Yes\n",
      "Decision Tree\n",
      "Yes\n",
      "Random Forest\n",
      "Yes\n",
      "Gradient Boost\n",
      "Yes\n",
      "AdaBoost\n",
      "Yes\n",
      "XGBoost\n",
      "Yes\n"
     ]
    }
   ],
   "source": [
    "d0 = scaler.transform(np.array([3, 3.79, 57.8, 10.9, 15.9, 31.0, 0.00, 2, 614, 4.9, 44]).reshape(1,-1))\n",
    "for model, name in zip(models, model_names):\n",
    "    print(name)\n",
    "    print('Yes' if model.predict(d0)[0]==1 else 'No')"
   ]
  },
  {
   "cell_type": "code",
   "execution_count": 75,
   "metadata": {},
   "outputs": [
    {
     "name": "stdout",
     "output_type": "stream",
     "text": [
      "KNN\n",
      "Yes\n",
      "Decision Tree\n",
      "Yes\n",
      "Random Forest\n",
      "Yes\n",
      "Gradient Boost\n",
      "Yes\n",
      "AdaBoost\n",
      "Yes\n",
      "XGBoost\n",
      "Yes\n"
     ]
    }
   ],
   "source": [
    "d1 = scaler.transform(np.array([1, 62.46, 64.8, 9.0, 15.3, 36.0, 4.50, 2, 318, 9.2, 72]).reshape(1,-1))\n",
    "for model, name in zip(models, model_names):\n",
    "    print(name)\n",
    "    print('Yes' if model.predict(d1)[0]==1 else 'No')"
   ]
  },
  {
   "cell_type": "code",
   "execution_count": 76,
   "metadata": {},
   "outputs": [
    {
     "name": "stdout",
     "output_type": "stream",
     "text": [
      "KNN\n",
      "Yes\n",
      "Decision Tree\n",
      "Yes\n",
      "Random Forest\n",
      "Yes\n",
      "Gradient Boost\n",
      "Yes\n",
      "AdaBoost\n",
      "Yes\n",
      "XGBoost\n",
      "Yes\n"
     ]
    }
   ],
   "source": [
    "d2 = scaler.transform(np.array([0, 34.68, 62.4, 11.9, 9.8, 36.9, 3.75, 1, 344, 7.3, 48]).reshape(1,-1))\n",
    "for model, name in zip(models, model_names):\n",
    "    print(name)\n",
    "    print('Yes' if model.predict(d2)[0]==1 else 'No')"
   ]
  },
  {
   "cell_type": "code",
   "execution_count": 77,
   "metadata": {},
   "outputs": [
    {
     "name": "stdout",
     "output_type": "stream",
     "text": [
      "KNN\n",
      "Yes\n",
      "Decision Tree\n",
      "Yes\n",
      "Random Forest\n",
      "Yes\n",
      "Gradient Boost\n",
      "Yes\n",
      "AdaBoost\n",
      "Yes\n",
      "XGBoost\n",
      "Yes\n"
     ]
    }
   ],
   "source": [
    "d3 = scaler.transform(np.array([3, 2.27, 68.3, 13.0, 19.9, 33.4, 2.00, 1, 675, 6.4, 67]).reshape(1,-1))\n",
    "for model, name in zip(models, model_names):\n",
    "    print(name)\n",
    "    print('Yes' if model.predict(d3)[0]==1 else 'No')"
   ]
  },
  {
   "cell_type": "code",
   "execution_count": 78,
   "metadata": {},
   "outputs": [
    {
     "name": "stdout",
     "output_type": "stream",
     "text": [
      "KNN\n",
      "No\n",
      "Decision Tree\n",
      "Yes\n",
      "Random Forest\n",
      "Yes\n",
      "Gradient Boost\n",
      "Yes\n",
      "AdaBoost\n",
      "Yes\n",
      "XGBoost\n",
      "Yes\n"
     ]
    }
   ],
   "source": [
    "d4 = scaler.transform(np.array([3, 2.08, 52.6, 5.3, 8.8, 35.5, 3.00, 2, 95, 15.8, 90]).reshape(1,-1))\n",
    "for model, name in zip(models, model_names):\n",
    "    print(name)\n",
    "    print('Yes' if model.predict(d4)[0]==1 else 'No')"
   ]
  },
  {
   "cell_type": "code",
   "execution_count": 79,
   "metadata": {},
   "outputs": [
    {
     "name": "stdout",
     "output_type": "stream",
     "text": [
      "KNN\n",
      "No\n",
      "Decision Tree\n",
      "No\n",
      "Random Forest\n",
      "No\n",
      "Gradient Boost\n",
      "No\n",
      "AdaBoost\n",
      "No\n",
      "XGBoost\n",
      "No\n"
     ]
    }
   ],
   "source": [
    "d5 = scaler.transform(np.array([0, 33.34, 32.1, 12.2, 9.6, 9.5, 0.75, 1, 310, 7.1, 39]).reshape(1,-1))\n",
    "for model, name in zip(models, model_names):\n",
    "    print(name)\n",
    "    print('Yes' if model.predict(d5)[0]==1 else 'No')"
   ]
  },
  {
   "cell_type": "code",
   "execution_count": 80,
   "metadata": {},
   "outputs": [
    {
     "name": "stdout",
     "output_type": "stream",
     "text": [
      "KNN\n",
      "No\n",
      "Decision Tree\n",
      "No\n",
      "Random Forest\n",
      "No\n",
      "Gradient Boost\n",
      "No\n",
      "AdaBoost\n",
      "No\n",
      "XGBoost\n",
      "No\n"
     ]
    }
   ],
   "source": [
    "d6 = scaler.transform(np.array([0, 63.28, 31.9, 5.8, 8.0, 18.1, 0.00, 2, 190, 11.0, 83]).reshape(1,-1))\n",
    "for model, name in zip(models, model_names):\n",
    "    print(name)\n",
    "    print('Yes' if model.predict(d6)[0]==1 else 'No')"
   ]
  },
  {
   "cell_type": "code",
   "execution_count": 81,
   "metadata": {},
   "outputs": [
    {
     "name": "stdout",
     "output_type": "stream",
     "text": [
      "KNN\n",
      "No\n",
      "Decision Tree\n",
      "No\n",
      "Random Forest\n",
      "No\n",
      "Gradient Boost\n",
      "No\n",
      "AdaBoost\n",
      "No\n",
      "XGBoost\n",
      "No\n"
     ]
    }
   ],
   "source": [
    "d7 = scaler.transform(np.array([0, 50.39, 50.8, 9.0, 11.4, 30.4, 0.00, 1, 241, 15.4, 75]).reshape(1,-1))\n",
    "for model, name in zip(models, model_names):\n",
    "    print(name)\n",
    "    print('Yes' if model.predict(d7)[0]==1 else 'No')"
   ]
  },
  {
   "cell_type": "code",
   "execution_count": 82,
   "metadata": {},
   "outputs": [
    {
     "name": "stdout",
     "output_type": "stream",
     "text": [
      "KNN\n",
      "Yes\n",
      "Decision Tree\n",
      "Yes\n",
      "Random Forest\n",
      "Yes\n",
      "Gradient Boost\n",
      "Yes\n",
      "AdaBoost\n",
      "Yes\n",
      "XGBoost\n",
      "Yes\n"
     ]
    }
   ],
   "source": [
    "d8 = scaler.transform(np.array([0, 57.37, 69.7, 9.7, 20.0, 37.7, 2.25, 1, 476, 7.7, 56]).reshape(1,-1))\n",
    "for model, name in zip(models, model_names):\n",
    "    print(name)\n",
    "    print('Yes' if model.predict(d8)[0]==1 else 'No')"
   ]
  },
  {
   "cell_type": "code",
   "execution_count": 83,
   "metadata": {},
   "outputs": [
    {
     "name": "stdout",
     "output_type": "stream",
     "text": [
      "KNN\n",
      "Yes\n",
      "Decision Tree\n",
      "Yes\n",
      "Random Forest\n",
      "Yes\n",
      "Gradient Boost\n",
      "Yes\n",
      "AdaBoost\n",
      "Yes\n",
      "XGBoost\n",
      "Yes\n"
     ]
    }
   ],
   "source": [
    "d9 = scaler.transform(np.array([1, 58.96, 59.8, 4.5, 10.6, 37.9, 6.75, 1, 293, 13.7, 98]).reshape(1,-1))\n",
    "for model, name in zip(models, model_names):\n",
    "    print(name)\n",
    "    print('Yes' if model.predict(d9)[0]==1 else 'No')"
   ]
  },
  {
   "cell_type": "code",
   "execution_count": 84,
   "metadata": {},
   "outputs": [
    {
     "name": "stdout",
     "output_type": "stream",
     "text": [
      "KNN\n",
      "No\n",
      "Decision Tree\n",
      "No\n",
      "Random Forest\n",
      "No\n",
      "Gradient Boost\n",
      "No\n",
      "AdaBoost\n",
      "No\n",
      "XGBoost\n",
      "No\n"
     ]
    }
   ],
   "source": [
    "d10 = scaler.transform(np.array([0, 53.00, 26.5, 7.6, 11.3, 7.6, 0.00, 2, 1859, 4.7, 73]).reshape(1,-1))\n",
    "for model, name in zip(models, model_names):\n",
    "    print(name)\n",
    "    print('Yes' if model.predict(d10)[0]==1 else 'No')"
   ]
  },
  {
   "cell_type": "code",
   "execution_count": 85,
   "metadata": {},
   "outputs": [
    {
     "name": "stdout",
     "output_type": "stream",
     "text": [
      "KNN\n",
      "Yes\n",
      "Decision Tree\n",
      "Yes\n",
      "Random Forest\n",
      "Yes\n",
      "Gradient Boost\n",
      "Yes\n",
      "AdaBoost\n",
      "Yes\n",
      "XGBoost\n",
      "Yes\n"
     ]
    }
   ],
   "source": [
    "d11 = scaler.transform(np.array([0, 60.63, 79.7, 12.1, 18.9, 46.4, 2.25, 1, 236, 11.9, 95]).reshape(1,-1))\n",
    "for model, name in zip(models, model_names):\n",
    "    print(name)\n",
    "    print('Yes' if model.predict(d11)[0]==1 else 'No')"
   ]
  },
  {
   "cell_type": "code",
   "execution_count": 86,
   "metadata": {},
   "outputs": [
    {
     "name": "stdout",
     "output_type": "stream",
     "text": [
      "KNN\n",
      "No\n",
      "Decision Tree\n",
      "No\n",
      "Random Forest\n",
      "No\n",
      "Gradient Boost\n",
      "No\n",
      "AdaBoost\n",
      "No\n",
      "XGBoost\n",
      "No\n"
     ]
    }
   ],
   "source": [
    "d12 = scaler.transform(np.array([0, 42.56, 41.2, 9.4, 16.9, 13.4, 1.50, 1, 396, 7.0, 56]).reshape(1,-1))\n",
    "for model, name in zip(models, model_names):\n",
    "    print(name)\n",
    "    print('Yes' if model.predict(d12)[0]==1 else 'No')"
   ]
  },
  {
   "cell_type": "code",
   "execution_count": 87,
   "metadata": {},
   "outputs": [
    {
     "name": "stdout",
     "output_type": "stream",
     "text": [
      "KNN\n",
      "Yes\n",
      "Decision Tree\n",
      "Yes\n",
      "Random Forest\n",
      "Yes\n",
      "Gradient Boost\n",
      "Yes\n",
      "AdaBoost\n",
      "Yes\n",
      "XGBoost\n",
      "Yes\n"
     ]
    }
   ],
   "source": [
    "d13 = scaler.transform(np.array([0, 54.03, 53.0, 5.8, 14.4, 31.3, 1.50, 2, 254, 14.9, 89]).reshape(1,-1))\n",
    "for model, name in zip(models, model_names):\n",
    "    print(name)\n",
    "    print('Yes' if model.predict(d13)[0]==1 else 'No')"
   ]
  },
  {
   "cell_type": "code",
   "execution_count": 88,
   "metadata": {},
   "outputs": [],
   "source": [
    "new_data['KNN Model Results'] = [1, 1, 1, 1, 0, 0, 0, 0, 1, 1, 0, 1, 0, 1]\n",
    "new_data['Decision Tree Model Results'] = [1, 1, 1, 1, 1, 0, 0, 0, 1, 1, 0, 1, 0, 1]\n",
    "new_data['Random Forest Model Results'] = [1, 1, 1, 1, 1, 0, 0, 0, 1, 1, 0, 1, 0, 1]\n",
    "new_data['Gradient Boost Model Results'] = [1, 1, 1, 1, 1, 0, 0, 0, 1, 1, 0, 1, 0, 1]\n",
    "new_data['AdaBoost Model Results'] = [1, 1, 1, 1, 1, 0, 0, 0, 1, 1, 0, 1, 0, 1]\n",
    "new_data['XGBoost Model Results'] = [1, 1, 1, 1, 1, 0, 0, 0, 1, 1, 0, 1, 0, 1]"
   ]
  },
  {
   "cell_type": "code",
   "execution_count": 89,
   "metadata": {},
   "outputs": [],
   "source": [
    "new_data.drop(['Unnamed: 0'], axis=1, inplace=True)"
   ]
  },
  {
   "cell_type": "code",
   "execution_count": 90,
   "metadata": {},
   "outputs": [
    {
     "data": {
      "text/html": [
       "<div>\n",
       "<style scoped>\n",
       "    .dataframe tbody tr th:only-of-type {\n",
       "        vertical-align: middle;\n",
       "    }\n",
       "\n",
       "    .dataframe tbody tr th {\n",
       "        vertical-align: top;\n",
       "    }\n",
       "\n",
       "    .dataframe thead th {\n",
       "        text-align: right;\n",
       "    }\n",
       "</style>\n",
       "<table border=\"1\" class=\"dataframe\">\n",
       "  <thead>\n",
       "    <tr style=\"text-align: right;\">\n",
       "      <th></th>\n",
       "      <th>SCHOOL</th>\n",
       "      <th>SCHOOL LEVEL</th>\n",
       "      <th>PEER INDEX</th>\n",
       "      <th>OVERALL SCORE</th>\n",
       "      <th>ENVIRONMENT CATEGORY SCORE</th>\n",
       "      <th>PERFORMANCE CATEGORY SCORE</th>\n",
       "      <th>PROGRESS CATEGORY SCORE</th>\n",
       "      <th>ADDITIONAL CREDIT</th>\n",
       "      <th>2007-08 QUALITY REVIEW SCORE</th>\n",
       "      <th>Enrollment</th>\n",
       "      <th>Student-Teacher Ratio</th>\n",
       "      <th>Free-Reduced Lunch</th>\n",
       "      <th>Pass/Fail</th>\n",
       "      <th>KNN Model Results</th>\n",
       "      <th>Decision Tree Model Results</th>\n",
       "      <th>Random Forest Model Results</th>\n",
       "      <th>Gradient Boost Model Results</th>\n",
       "      <th>AdaBoost Model Results</th>\n",
       "      <th>XGBoost Model Results</th>\n",
       "    </tr>\n",
       "  </thead>\n",
       "  <tbody>\n",
       "    <tr>\n",
       "      <td>0</td>\n",
       "      <td>BARD HIGH SCHOOL EARLY COLLEGE</td>\n",
       "      <td>3</td>\n",
       "      <td>3.79</td>\n",
       "      <td>57.8</td>\n",
       "      <td>10.9</td>\n",
       "      <td>15.9</td>\n",
       "      <td>31.0</td>\n",
       "      <td>0.00</td>\n",
       "      <td>2</td>\n",
       "      <td>614</td>\n",
       "      <td>4.9</td>\n",
       "      <td>44</td>\n",
       "      <td>1</td>\n",
       "      <td>1</td>\n",
       "      <td>1</td>\n",
       "      <td>1</td>\n",
       "      <td>1</td>\n",
       "      <td>1</td>\n",
       "      <td>1</td>\n",
       "    </tr>\n",
       "    <tr>\n",
       "      <td>1</td>\n",
       "      <td>P.S. 140 NATHAN STRAUS</td>\n",
       "      <td>1</td>\n",
       "      <td>62.46</td>\n",
       "      <td>64.8</td>\n",
       "      <td>9.0</td>\n",
       "      <td>15.3</td>\n",
       "      <td>36.0</td>\n",
       "      <td>4.50</td>\n",
       "      <td>2</td>\n",
       "      <td>318</td>\n",
       "      <td>9.2</td>\n",
       "      <td>72</td>\n",
       "      <td>1</td>\n",
       "      <td>1</td>\n",
       "      <td>1</td>\n",
       "      <td>1</td>\n",
       "      <td>1</td>\n",
       "      <td>1</td>\n",
       "      <td>1</td>\n",
       "    </tr>\n",
       "    <tr>\n",
       "      <td>2</td>\n",
       "      <td>EARTH SCHOOL</td>\n",
       "      <td>0</td>\n",
       "      <td>34.68</td>\n",
       "      <td>62.4</td>\n",
       "      <td>11.9</td>\n",
       "      <td>9.8</td>\n",
       "      <td>36.9</td>\n",
       "      <td>3.75</td>\n",
       "      <td>1</td>\n",
       "      <td>344</td>\n",
       "      <td>7.3</td>\n",
       "      <td>48</td>\n",
       "      <td>1</td>\n",
       "      <td>1</td>\n",
       "      <td>1</td>\n",
       "      <td>1</td>\n",
       "      <td>1</td>\n",
       "      <td>1</td>\n",
       "      <td>1</td>\n",
       "    </tr>\n",
       "    <tr>\n",
       "      <td>3</td>\n",
       "      <td>EAST SIDE COMMUNITY HIGH SCHOOL</td>\n",
       "      <td>3</td>\n",
       "      <td>2.27</td>\n",
       "      <td>68.3</td>\n",
       "      <td>13.0</td>\n",
       "      <td>19.9</td>\n",
       "      <td>33.4</td>\n",
       "      <td>2.00</td>\n",
       "      <td>1</td>\n",
       "      <td>675</td>\n",
       "      <td>6.4</td>\n",
       "      <td>67</td>\n",
       "      <td>1</td>\n",
       "      <td>1</td>\n",
       "      <td>1</td>\n",
       "      <td>1</td>\n",
       "      <td>1</td>\n",
       "      <td>1</td>\n",
       "      <td>1</td>\n",
       "    </tr>\n",
       "    <tr>\n",
       "      <td>4</td>\n",
       "      <td>MARTA VALLE SECONDARY SCHOOL</td>\n",
       "      <td>3</td>\n",
       "      <td>2.08</td>\n",
       "      <td>52.6</td>\n",
       "      <td>5.3</td>\n",
       "      <td>8.8</td>\n",
       "      <td>35.5</td>\n",
       "      <td>3.00</td>\n",
       "      <td>2</td>\n",
       "      <td>95</td>\n",
       "      <td>15.8</td>\n",
       "      <td>90</td>\n",
       "      <td>1</td>\n",
       "      <td>0</td>\n",
       "      <td>1</td>\n",
       "      <td>1</td>\n",
       "      <td>1</td>\n",
       "      <td>1</td>\n",
       "      <td>1</td>\n",
       "    </tr>\n",
       "    <tr>\n",
       "      <td>5</td>\n",
       "      <td>NEIGHBORHOOD SCHOOL</td>\n",
       "      <td>0</td>\n",
       "      <td>33.34</td>\n",
       "      <td>32.1</td>\n",
       "      <td>12.2</td>\n",
       "      <td>9.6</td>\n",
       "      <td>9.5</td>\n",
       "      <td>0.75</td>\n",
       "      <td>1</td>\n",
       "      <td>310</td>\n",
       "      <td>7.1</td>\n",
       "      <td>39</td>\n",
       "      <td>0</td>\n",
       "      <td>0</td>\n",
       "      <td>0</td>\n",
       "      <td>0</td>\n",
       "      <td>0</td>\n",
       "      <td>0</td>\n",
       "      <td>0</td>\n",
       "    </tr>\n",
       "    <tr>\n",
       "      <td>6</td>\n",
       "      <td>P.S. 015 ROBERTO CLEMENTE</td>\n",
       "      <td>0</td>\n",
       "      <td>63.28</td>\n",
       "      <td>31.9</td>\n",
       "      <td>5.8</td>\n",
       "      <td>8.0</td>\n",
       "      <td>18.1</td>\n",
       "      <td>0.00</td>\n",
       "      <td>2</td>\n",
       "      <td>190</td>\n",
       "      <td>11.0</td>\n",
       "      <td>83</td>\n",
       "      <td>0</td>\n",
       "      <td>0</td>\n",
       "      <td>0</td>\n",
       "      <td>0</td>\n",
       "      <td>0</td>\n",
       "      <td>0</td>\n",
       "      <td>0</td>\n",
       "    </tr>\n",
       "    <tr>\n",
       "      <td>7</td>\n",
       "      <td>P.S. 019 ASHER LEVY</td>\n",
       "      <td>0</td>\n",
       "      <td>50.39</td>\n",
       "      <td>50.8</td>\n",
       "      <td>9.0</td>\n",
       "      <td>11.4</td>\n",
       "      <td>30.4</td>\n",
       "      <td>0.00</td>\n",
       "      <td>1</td>\n",
       "      <td>241</td>\n",
       "      <td>15.4</td>\n",
       "      <td>75</td>\n",
       "      <td>1</td>\n",
       "      <td>0</td>\n",
       "      <td>0</td>\n",
       "      <td>0</td>\n",
       "      <td>0</td>\n",
       "      <td>0</td>\n",
       "      <td>0</td>\n",
       "    </tr>\n",
       "    <tr>\n",
       "      <td>8</td>\n",
       "      <td>P.S. 020 ANNA SILVER</td>\n",
       "      <td>0</td>\n",
       "      <td>57.37</td>\n",
       "      <td>69.7</td>\n",
       "      <td>9.7</td>\n",
       "      <td>20.0</td>\n",
       "      <td>37.7</td>\n",
       "      <td>2.25</td>\n",
       "      <td>1</td>\n",
       "      <td>476</td>\n",
       "      <td>7.7</td>\n",
       "      <td>56</td>\n",
       "      <td>1</td>\n",
       "      <td>1</td>\n",
       "      <td>1</td>\n",
       "      <td>1</td>\n",
       "      <td>1</td>\n",
       "      <td>1</td>\n",
       "      <td>1</td>\n",
       "    </tr>\n",
       "    <tr>\n",
       "      <td>9</td>\n",
       "      <td>P.S. 034 FRANKLIN D. ROOSEVELT</td>\n",
       "      <td>1</td>\n",
       "      <td>58.96</td>\n",
       "      <td>59.8</td>\n",
       "      <td>4.5</td>\n",
       "      <td>10.6</td>\n",
       "      <td>37.9</td>\n",
       "      <td>6.75</td>\n",
       "      <td>1</td>\n",
       "      <td>293</td>\n",
       "      <td>13.7</td>\n",
       "      <td>98</td>\n",
       "      <td>1</td>\n",
       "      <td>1</td>\n",
       "      <td>1</td>\n",
       "      <td>1</td>\n",
       "      <td>1</td>\n",
       "      <td>1</td>\n",
       "      <td>1</td>\n",
       "    </tr>\n",
       "    <tr>\n",
       "      <td>10</td>\n",
       "      <td>P.S. 063 WILLIAM MCKINLEY</td>\n",
       "      <td>0</td>\n",
       "      <td>53.00</td>\n",
       "      <td>26.5</td>\n",
       "      <td>7.6</td>\n",
       "      <td>11.3</td>\n",
       "      <td>7.6</td>\n",
       "      <td>0.00</td>\n",
       "      <td>2</td>\n",
       "      <td>1859</td>\n",
       "      <td>4.7</td>\n",
       "      <td>73</td>\n",
       "      <td>0</td>\n",
       "      <td>0</td>\n",
       "      <td>0</td>\n",
       "      <td>0</td>\n",
       "      <td>0</td>\n",
       "      <td>0</td>\n",
       "      <td>0</td>\n",
       "    </tr>\n",
       "    <tr>\n",
       "      <td>11</td>\n",
       "      <td>P.S. 064 ROBERT SIMON</td>\n",
       "      <td>0</td>\n",
       "      <td>60.63</td>\n",
       "      <td>79.7</td>\n",
       "      <td>12.1</td>\n",
       "      <td>18.9</td>\n",
       "      <td>46.4</td>\n",
       "      <td>2.25</td>\n",
       "      <td>1</td>\n",
       "      <td>236</td>\n",
       "      <td>11.9</td>\n",
       "      <td>95</td>\n",
       "      <td>1</td>\n",
       "      <td>1</td>\n",
       "      <td>1</td>\n",
       "      <td>1</td>\n",
       "      <td>1</td>\n",
       "      <td>1</td>\n",
       "      <td>1</td>\n",
       "    </tr>\n",
       "    <tr>\n",
       "      <td>12</td>\n",
       "      <td>P.S. 110 FLORENCE NIGHTINGALE</td>\n",
       "      <td>0</td>\n",
       "      <td>42.56</td>\n",
       "      <td>41.2</td>\n",
       "      <td>9.4</td>\n",
       "      <td>16.9</td>\n",
       "      <td>13.4</td>\n",
       "      <td>1.50</td>\n",
       "      <td>1</td>\n",
       "      <td>396</td>\n",
       "      <td>7.0</td>\n",
       "      <td>56</td>\n",
       "      <td>0</td>\n",
       "      <td>0</td>\n",
       "      <td>0</td>\n",
       "      <td>0</td>\n",
       "      <td>0</td>\n",
       "      <td>0</td>\n",
       "      <td>0</td>\n",
       "    </tr>\n",
       "    <tr>\n",
       "      <td>13</td>\n",
       "      <td>P.S. 134 HENRIETTA SZOLD</td>\n",
       "      <td>0</td>\n",
       "      <td>54.03</td>\n",
       "      <td>53.0</td>\n",
       "      <td>5.8</td>\n",
       "      <td>14.4</td>\n",
       "      <td>31.3</td>\n",
       "      <td>1.50</td>\n",
       "      <td>2</td>\n",
       "      <td>254</td>\n",
       "      <td>14.9</td>\n",
       "      <td>89</td>\n",
       "      <td>1</td>\n",
       "      <td>1</td>\n",
       "      <td>1</td>\n",
       "      <td>1</td>\n",
       "      <td>1</td>\n",
       "      <td>1</td>\n",
       "      <td>1</td>\n",
       "    </tr>\n",
       "  </tbody>\n",
       "</table>\n",
       "</div>"
      ],
      "text/plain": [
       "                             SCHOOL  SCHOOL LEVEL  PEER INDEX  OVERALL SCORE  \\\n",
       "0    BARD HIGH SCHOOL EARLY COLLEGE             3        3.79           57.8   \n",
       "1            P.S. 140 NATHAN STRAUS             1       62.46           64.8   \n",
       "2                      EARTH SCHOOL             0       34.68           62.4   \n",
       "3   EAST SIDE COMMUNITY HIGH SCHOOL             3        2.27           68.3   \n",
       "4      MARTA VALLE SECONDARY SCHOOL             3        2.08           52.6   \n",
       "5               NEIGHBORHOOD SCHOOL             0       33.34           32.1   \n",
       "6         P.S. 015 ROBERTO CLEMENTE             0       63.28           31.9   \n",
       "7               P.S. 019 ASHER LEVY             0       50.39           50.8   \n",
       "8              P.S. 020 ANNA SILVER             0       57.37           69.7   \n",
       "9    P.S. 034 FRANKLIN D. ROOSEVELT             1       58.96           59.8   \n",
       "10        P.S. 063 WILLIAM MCKINLEY             0       53.00           26.5   \n",
       "11            P.S. 064 ROBERT SIMON             0       60.63           79.7   \n",
       "12    P.S. 110 FLORENCE NIGHTINGALE             0       42.56           41.2   \n",
       "13         P.S. 134 HENRIETTA SZOLD             0       54.03           53.0   \n",
       "\n",
       "    ENVIRONMENT CATEGORY SCORE  PERFORMANCE CATEGORY SCORE  \\\n",
       "0                         10.9                        15.9   \n",
       "1                          9.0                        15.3   \n",
       "2                         11.9                         9.8   \n",
       "3                         13.0                        19.9   \n",
       "4                          5.3                         8.8   \n",
       "5                         12.2                         9.6   \n",
       "6                          5.8                         8.0   \n",
       "7                          9.0                        11.4   \n",
       "8                          9.7                        20.0   \n",
       "9                          4.5                        10.6   \n",
       "10                         7.6                        11.3   \n",
       "11                        12.1                        18.9   \n",
       "12                         9.4                        16.9   \n",
       "13                         5.8                        14.4   \n",
       "\n",
       "    PROGRESS CATEGORY SCORE  ADDITIONAL CREDIT  2007-08 QUALITY REVIEW SCORE  \\\n",
       "0                      31.0               0.00                             2   \n",
       "1                      36.0               4.50                             2   \n",
       "2                      36.9               3.75                             1   \n",
       "3                      33.4               2.00                             1   \n",
       "4                      35.5               3.00                             2   \n",
       "5                       9.5               0.75                             1   \n",
       "6                      18.1               0.00                             2   \n",
       "7                      30.4               0.00                             1   \n",
       "8                      37.7               2.25                             1   \n",
       "9                      37.9               6.75                             1   \n",
       "10                      7.6               0.00                             2   \n",
       "11                     46.4               2.25                             1   \n",
       "12                     13.4               1.50                             1   \n",
       "13                     31.3               1.50                             2   \n",
       "\n",
       "    Enrollment  Student-Teacher Ratio  Free-Reduced Lunch  Pass/Fail  \\\n",
       "0          614                    4.9                  44          1   \n",
       "1          318                    9.2                  72          1   \n",
       "2          344                    7.3                  48          1   \n",
       "3          675                    6.4                  67          1   \n",
       "4           95                   15.8                  90          1   \n",
       "5          310                    7.1                  39          0   \n",
       "6          190                   11.0                  83          0   \n",
       "7          241                   15.4                  75          1   \n",
       "8          476                    7.7                  56          1   \n",
       "9          293                   13.7                  98          1   \n",
       "10        1859                    4.7                  73          0   \n",
       "11         236                   11.9                  95          1   \n",
       "12         396                    7.0                  56          0   \n",
       "13         254                   14.9                  89          1   \n",
       "\n",
       "    KNN Model Results  Decision Tree Model Results  \\\n",
       "0                   1                            1   \n",
       "1                   1                            1   \n",
       "2                   1                            1   \n",
       "3                   1                            1   \n",
       "4                   0                            1   \n",
       "5                   0                            0   \n",
       "6                   0                            0   \n",
       "7                   0                            0   \n",
       "8                   1                            1   \n",
       "9                   1                            1   \n",
       "10                  0                            0   \n",
       "11                  1                            1   \n",
       "12                  0                            0   \n",
       "13                  1                            1   \n",
       "\n",
       "    Random Forest Model Results  Gradient Boost Model Results  \\\n",
       "0                             1                             1   \n",
       "1                             1                             1   \n",
       "2                             1                             1   \n",
       "3                             1                             1   \n",
       "4                             1                             1   \n",
       "5                             0                             0   \n",
       "6                             0                             0   \n",
       "7                             0                             0   \n",
       "8                             1                             1   \n",
       "9                             1                             1   \n",
       "10                            0                             0   \n",
       "11                            1                             1   \n",
       "12                            0                             0   \n",
       "13                            1                             1   \n",
       "\n",
       "    AdaBoost Model Results  XGBoost Model Results  \n",
       "0                        1                      1  \n",
       "1                        1                      1  \n",
       "2                        1                      1  \n",
       "3                        1                      1  \n",
       "4                        1                      1  \n",
       "5                        0                      0  \n",
       "6                        0                      0  \n",
       "7                        0                      0  \n",
       "8                        1                      1  \n",
       "9                        1                      1  \n",
       "10                       0                      0  \n",
       "11                       1                      1  \n",
       "12                       0                      0  \n",
       "13                       1                      1  "
      ]
     },
     "execution_count": 90,
     "metadata": {},
     "output_type": "execute_result"
    }
   ],
   "source": [
    "new_data"
   ]
  },
  {
   "cell_type": "markdown",
   "metadata": {},
   "source": [
    "# Final Results"
   ]
  },
  {
   "cell_type": "markdown",
   "metadata": {},
   "source": [
    "- After testing the models, the only model that showed any discrepancies, was the KNN model, showing a fail, when its true value was passing.  There was one school, where all the models showed it was a failing school, when in fact it had passed.\n",
    "    - In conclusion, any of the models except for KNN could be a good model to use in order to predict if a school would pass or fail with the given features."
   ]
  },
  {
   "cell_type": "markdown",
   "metadata": {},
   "source": [
    "# Future Work"
   ]
  },
  {
   "cell_type": "markdown",
   "metadata": {},
   "source": [
    "- Gather more information in order to add more features to the data that will help give a better overview of what is happening. \n",
    "    - Gather more information on other school levels in order to have more balance.\n",
    "    - Important things to look for are state test scores, number of teachers, and school budget.\n",
    "    - Other features that will help scoring a school is the percent of boys vs. girls, the percent of different ethnicities, and attendance rate for both teachers and students.\n",
    "- Use the information gathered to see where schools flourish and use that in order to help with real-estate and businesses. \n",
    "- Use the information to help district allocate coaches and support to schools that need help in order to improve their scores."
   ]
  }
 ],
 "metadata": {
  "kernelspec": {
   "display_name": "Python [conda env:learn-env] *",
   "language": "python",
   "name": "conda-env-learn-env-py"
  },
  "language_info": {
   "codemirror_mode": {
    "name": "ipython",
    "version": 3
   },
   "file_extension": ".py",
   "mimetype": "text/x-python",
   "name": "python",
   "nbconvert_exporter": "python",
   "pygments_lexer": "ipython3",
   "version": "3.6.9"
  }
 },
 "nbformat": 4,
 "nbformat_minor": 2
}
