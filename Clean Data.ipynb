{
 "cells": [
  {
   "cell_type": "code",
   "execution_count": 1,
   "metadata": {},
   "outputs": [],
   "source": [
    "import pandas as pd\n",
    "df_school = pd.read_csv('2006-2007_School_Progress_Report.csv')\n",
    "df_web = pd.read_csv('district_data.csv')"
   ]
  },
  {
   "cell_type": "code",
   "execution_count": 2,
   "metadata": {},
   "outputs": [],
   "source": [
    "df_web.drop(['Unnamed: 0'], axis=1, inplace=True)"
   ]
  },
  {
   "cell_type": "code",
   "execution_count": 3,
   "metadata": {},
   "outputs": [],
   "source": [
    "df_school.at[98, 'DISTRICT'] = '5'\n",
    "df_school.at[527, 'DISTRICT'] = '7'\n",
    "df_school.at[443, 'DISTRICT'] = '7'\n",
    "df_school.at[515, 'DISTRICT'] = '8'\n",
    "df_school.at[405, 'DISTRICT'] = '9'\n",
    "df_school.at[528, 'DISTRICT'] = '9'\n",
    "df_web.at[416, 'DISTRICT'] = '10'\n",
    "df_web.at[417, 'DISTRICT'] = '10'\n",
    "df_school.at[520, 'DISTRICT']='9'\n",
    "df_school.at[526, 'DISTRICT'] = '9'\n",
    "df_web.at[414, 'DISTRICT'] = '12'\n",
    "df_school.at[1246, 'DISTRICT'] = '12'\n",
    "df_web.at[1022, 'DISTRICT'] = '12'\n",
    "df_school.at[1236, 'DISTRICT'] = '13'\n",
    "df_school.at[1237, 'DISTRICT'] = '17'\n",
    "df_school.at[1001, 'DISTRICT'] = '19'\n",
    "df_web.at[1487, 'DISTRICT'] = '23'\n",
    "df_school.at[1244, 'DISTRICT'] = '25'\n",
    "df_school.at[1222, 'DISTRICT'] = '26'\n",
    "df_school.at[1245, 'DISTRICT'] = '31'"
   ]
  },
  {
   "cell_type": "markdown",
   "metadata": {},
   "source": [
    "### District 1"
   ]
  },
  {
   "cell_type": "code",
   "execution_count": 4,
   "metadata": {},
   "outputs": [
    {
     "data": {
      "text/plain": [
       "29"
      ]
     },
     "execution_count": 4,
     "metadata": {},
     "output_type": "execute_result"
    }
   ],
   "source": [
    "len(df_school[df_school['DISTRICT']==1])"
   ]
  },
  {
   "cell_type": "code",
   "execution_count": 5,
   "metadata": {},
   "outputs": [
    {
     "data": {
      "text/plain": [
       "28"
      ]
     },
     "execution_count": 5,
     "metadata": {},
     "output_type": "execute_result"
    }
   ],
   "source": [
    "len(df_web[df_web['DISTRICT']==1])"
   ]
  },
  {
   "cell_type": "code",
   "execution_count": 6,
   "metadata": {},
   "outputs": [],
   "source": [
    "# drop index 13, 25, 8, 14, 21\n",
    "df_school.drop(index=[13,25,8,14, 21], inplace=True)"
   ]
  },
  {
   "cell_type": "code",
   "execution_count": 7,
   "metadata": {},
   "outputs": [],
   "source": [
    "# drop index 12, 18, 27, 0\n",
    "df_web.drop(index=[12,18, 27, 0], inplace=True)"
   ]
  },
  {
   "cell_type": "code",
   "execution_count": 8,
   "metadata": {},
   "outputs": [],
   "source": [
    "# Source: to change a value in the \n",
    "# edureka.co/community/43220/how-to-change-update-cell-value-in-python-pandas-dataframe\n",
    "# change index 7 in df_web to PS063 WILLIAM MCKINLEY\n",
    "# change index 19 in df_web to THE EAST VILLAGE COMMUNITY SCHOOL\n",
    "df_web.at[7,'School Name']= 'PS063 WILLIAM MCKINLEY'\n",
    "df_web.at[19, 'School Name']= 'THE EAST VILLAGE COMMUNITY SCHOOL'\n",
    "df_school.at[1240, 'DISTRICT']='2'"
   ]
  },
  {
   "cell_type": "code",
   "execution_count": 9,
   "metadata": {},
   "outputs": [
    {
     "data": {
      "text/plain": [
       "24"
      ]
     },
     "execution_count": 9,
     "metadata": {},
     "output_type": "execute_result"
    }
   ],
   "source": [
    "len(df_web[df_web['DISTRICT']==1].sort_values(by=['School Name']))"
   ]
  },
  {
   "cell_type": "code",
   "execution_count": 10,
   "metadata": {},
   "outputs": [
    {
     "data": {
      "text/plain": [
       "24"
      ]
     },
     "execution_count": 10,
     "metadata": {},
     "output_type": "execute_result"
    }
   ],
   "source": [
    "len(df_school[df_school['DISTRICT']==1].sort_values(by=['SCHOOL']))"
   ]
  },
  {
   "cell_type": "code",
   "execution_count": 11,
   "metadata": {},
   "outputs": [],
   "source": [
    "school_d1 = df_school[df_school['DISTRICT']==1].sort_values(by=['SCHOOL'])\n",
    "web_d1 = df_web[df_web['DISTRICT']==1].sort_values(by=['School Name'])"
   ]
  },
  {
   "cell_type": "code",
   "execution_count": 12,
   "metadata": {},
   "outputs": [],
   "source": [
    "school_d1.reset_index(inplace=True)"
   ]
  },
  {
   "cell_type": "code",
   "execution_count": 13,
   "metadata": {},
   "outputs": [],
   "source": [
    "web_d1.reset_index(inplace=True)"
   ]
  },
  {
   "cell_type": "code",
   "execution_count": 14,
   "metadata": {},
   "outputs": [],
   "source": [
    "all_d1 = pd.concat([school_d1, web_d1], axis=1)"
   ]
  },
  {
   "cell_type": "code",
   "execution_count": 15,
   "metadata": {},
   "outputs": [
    {
     "data": {
      "text/plain": [
       "24"
      ]
     },
     "execution_count": 15,
     "metadata": {},
     "output_type": "execute_result"
    }
   ],
   "source": [
    "# fix later\n",
    "len(all_d1)"
   ]
  },
  {
   "cell_type": "code",
   "execution_count": 428,
   "metadata": {},
   "outputs": [
    {
     "data": {
      "text/html": [
       "<div>\n",
       "<style scoped>\n",
       "    .dataframe tbody tr th:only-of-type {\n",
       "        vertical-align: middle;\n",
       "    }\n",
       "\n",
       "    .dataframe tbody tr th {\n",
       "        vertical-align: top;\n",
       "    }\n",
       "\n",
       "    .dataframe thead th {\n",
       "        text-align: right;\n",
       "    }\n",
       "</style>\n",
       "<table border=\"1\" class=\"dataframe\">\n",
       "  <thead>\n",
       "    <tr style=\"text-align: right;\">\n",
       "      <th></th>\n",
       "      <th>index</th>\n",
       "      <th>DBN</th>\n",
       "      <th>DISTRICT</th>\n",
       "      <th>SCHOOL</th>\n",
       "      <th>SCHOOL SUPPORT ORGANIZATION/NETWORK</th>\n",
       "      <th>PROGRESS REPORT TYPE</th>\n",
       "      <th>SCHOOL LEVEL*</th>\n",
       "      <th>PEER INDEX*</th>\n",
       "      <th>GRADE</th>\n",
       "      <th>OVERALL SCORE</th>\n",
       "      <th>...</th>\n",
       "      <th>PERFORMANCE CATEGORY SCORE</th>\n",
       "      <th>PROGRESS CATEGORY SCORE</th>\n",
       "      <th>ADDITIONAL CREDIT</th>\n",
       "      <th>QUALITY REVIEW SCORE</th>\n",
       "      <th>index</th>\n",
       "      <th>School Name</th>\n",
       "      <th>Enrollment</th>\n",
       "      <th>Student-Teacher Ratio</th>\n",
       "      <th>Free-Reduced Lunch</th>\n",
       "      <th>DISTRICT</th>\n",
       "    </tr>\n",
       "  </thead>\n",
       "  <tbody>\n",
       "    <tr>\n",
       "      <td>0</td>\n",
       "      <td>27</td>\n",
       "      <td>01M696</td>\n",
       "      <td>1</td>\n",
       "      <td>BARD HIGH SCHOOL EARLY COLLEGE</td>\n",
       "      <td>ESO12</td>\n",
       "      <td>HS</td>\n",
       "      <td>High School</td>\n",
       "      <td>3.77</td>\n",
       "      <td>B</td>\n",
       "      <td>57.8</td>\n",
       "      <td>...</td>\n",
       "      <td>0.607</td>\n",
       "      <td>0.524</td>\n",
       "      <td>0</td>\n",
       "      <td>Well-Developed</td>\n",
       "      <td>25</td>\n",
       "      <td>Bard High School Early College</td>\n",
       "      <td>589</td>\n",
       "      <td>17.3</td>\n",
       "      <td>43.5%</td>\n",
       "      <td>1</td>\n",
       "    </tr>\n",
       "  </tbody>\n",
       "</table>\n",
       "<p>1 rows × 21 columns</p>\n",
       "</div>"
      ],
      "text/plain": [
       "  index     DBN DISTRICT                          SCHOOL  \\\n",
       "0    27  01M696        1  BARD HIGH SCHOOL EARLY COLLEGE   \n",
       "\n",
       "  SCHOOL SUPPORT ORGANIZATION/NETWORK PROGRESS REPORT TYPE SCHOOL LEVEL*  \\\n",
       "0                               ESO12                   HS   High School   \n",
       "\n",
       "   PEER INDEX*  GRADE OVERALL SCORE  ... PERFORMANCE CATEGORY SCORE  \\\n",
       "0         3.77      B          57.8  ...                      0.607   \n",
       "\n",
       "  PROGRESS CATEGORY SCORE ADDITIONAL CREDIT QUALITY REVIEW SCORE index  \\\n",
       "0                   0.524                 0       Well-Developed    25   \n",
       "\n",
       "                      School Name Enrollment Student-Teacher Ratio  \\\n",
       "0  Bard High School Early College        589                  17.3   \n",
       "\n",
       "   Free-Reduced Lunch DISTRICT  \n",
       "0               43.5%        1  \n",
       "\n",
       "[1 rows x 21 columns]"
      ]
     },
     "execution_count": 428,
     "metadata": {},
     "output_type": "execute_result"
    }
   ],
   "source": [
    "all_d1.head(1)\n",
    "# drop column - school name, index (both), DBN, school support, progress report type, District (both)"
   ]
  },
  {
   "cell_type": "code",
   "execution_count": 430,
   "metadata": {},
   "outputs": [],
   "source": [
    "all_d1.drop(columns=['School Name', 'index', 'DBN', 'SCHOOL SUPPORT ORGANIZATION/NETWORK', \n",
    "                    'PROGRESS REPORT TYPE', 'DISTRICT'], inplace=True)"
   ]
  },
  {
   "cell_type": "markdown",
   "metadata": {},
   "source": [
    "### District 2"
   ]
  },
  {
   "cell_type": "code",
   "execution_count": 16,
   "metadata": {},
   "outputs": [
    {
     "data": {
      "text/plain": [
       "85"
      ]
     },
     "execution_count": 16,
     "metadata": {},
     "output_type": "execute_result"
    }
   ],
   "source": [
    "len(df_school[df_school['DISTRICT']==2])"
   ]
  },
  {
   "cell_type": "code",
   "execution_count": 17,
   "metadata": {},
   "outputs": [
    {
     "data": {
      "text/plain": [
       "119"
      ]
     },
     "execution_count": 17,
     "metadata": {},
     "output_type": "execute_result"
    }
   ],
   "source": [
    "len(df_web[df_web['DISTRICT']==2])"
   ]
  },
  {
   "cell_type": "code",
   "execution_count": 18,
   "metadata": {},
   "outputs": [],
   "source": [
    "school_d2 = df_school[df_school['DISTRICT']==2].sort_values(by=['SCHOOL'])\n",
    "web_d2 = df_web[df_web['DISTRICT']==2].sort_values(by=['School Name'])"
   ]
  },
  {
   "cell_type": "code",
   "execution_count": 19,
   "metadata": {},
   "outputs": [],
   "source": [
    "school_d2.reset_index(inplace=True)\n",
    "web_d2.reset_index(inplace=True)"
   ]
  },
  {
   "cell_type": "code",
   "execution_count": 20,
   "metadata": {},
   "outputs": [],
   "source": [
    "# school_d2[0:40]\n",
    "# drop index 1, 5, 7, 11, 21, 27, 37, 40, 45, 75, 84"
   ]
  },
  {
   "cell_type": "code",
   "execution_count": 21,
   "metadata": {},
   "outputs": [],
   "source": [
    "# web_d2[0:40]\n",
    "# change index 2 to 47 THE AMERICAN SIGN LANGUAGE AND ENGLISH DUAL LAN\n",
    "# change index 0 to THE 47 AMERICAN SIGN LANGUAGE & ENGLISH LOWER SCHO\n",
    "# change index 28 to THE HIGH SCHOOL OF FASHION INDUSTRIES\n",
    "# change index 56 to M S 131\n",
    "# change index 55 to MS 255 SALK SCHOOL OF SCIENCE\n",
    "# change index 39 to JHS 104 SIMON BARUCH\n",
    "# change index 40 to JHS 167 ROBERT F WAGNER\n",
    "# change index 63 to NYC LAB MS FOR COLLABORATIVE STUDIES\n",
    "# change index 68 to PS 001 ALFRED E SMITH\n",
    "# change index 79 to PS 002 MEYER LONDON\n",
    "# change index 83 to PS 003 CHARRETTE SCHOOL\n",
    "# change index 91 to PS 006 LILLIE D. BLAKE\n",
    "# change index 69 to PS 011 WILLIAM T HARRIS\n",
    "# change index 84 to PS 033 CHELSEA PREP\n",
    "# change index 85 to PS 040 AUGUSTUS ST-GAUDENS\n",
    "# change index 86 to PS 041 GREENWICH VILLAGE\n",
    "# change index 87 to PS 042 BENJAMIN ALTMAN\n",
    "# change index 88 to PS 051 ELIAS HOWE\n",
    "# change index 90 to PS 059 BEEKMAN HILL INTL\n",
    "# change index 70 to PS 111 ADOLPH S OCHS\n",
    "# change index 71 to PS 116 MARY LINDLEY MURRAY\n",
    "# change index 72 to PS 124 YUNG WING\n",
    "# change index 73 to PS 126 JACOB AUGUST RIIS\n",
    "# change index 74 to PS 130 HERNANDO DESOTO\n",
    "# change index 75 to PS 150\n",
    "# change index 76 to PS 158 BAYARD TAYLOR\n",
    "# change index 77 to PS 183 ROBERT L STEVENSON\n",
    "# change index 78 to PS 198 ISADOR E IDA STRAUS\n",
    "# change index 80 to PS 212 MIDTOWN WEST\n",
    "# change index 94 to PS 217/IS 217 ROOSEVELT IS.\n",
    "# change index 81 to PS 234 INDEPENDENCE SCHOOL\n",
    "# change index 82 to PS 290 MANHATTAN NEW SCHOOL\n",
    "# change index 92 to PS 77 LOWER LAB SCHOOL\n",
    "# change index 93 to PS 89\n",
    "\n",
    "# drop index 1, 6,7, 9, 10, 11, 15, 16, 17, 18, 19, 20, 22, 26, 29, 30, 34, 37, 38, 45, 46\n",
    "# 47, 49, 51, 56, 58, 61, 65, 66, 89, 95, 98, 101, 102, 103, 106, 109, 110, 111, 112, 113,\n",
    "# 114, 115, 117, 118"
   ]
  },
  {
   "cell_type": "code",
   "execution_count": 22,
   "metadata": {},
   "outputs": [],
   "source": [
    "web_d2.at[2,'School Name']= '47 THE AMERICAN SIGN LANGUAGE AND ENGLISH DUAL LAN'\n",
    "web_d2.at[0, 'School Name']= 'THE 47 AMERICAN SIGN LANGUAGE & ENGLISH LOWER SCHO'\n",
    "web_d2.at[28, 'School Name']= 'THE HIGH SCHOOL OF FASHION INDUSTRIES'\n",
    "web_d2.at[56, 'School Name']= 'M S 131'\n",
    "web_d2.at[55, 'School Name']= 'MS 255 SALK SCHOOL OF SCIENCE'\n",
    "web_d2.at[39, 'School Name']= 'JHS 104 SIMON BARUCH'\n",
    "web_d2.at[40, 'School Name']='JHS 167 ROBERT F WAGNER'\n",
    "web_d2.at[63, 'School Name']='NYC LAB MS FOR COLLABORATIVE STUDIES'\n",
    "web_d2.at[68, 'School Name']= 'PS 001 ALFRED E SMITH'\n",
    "web_d2.at[79, 'School Name']='PS 002 MEYER LONDON'\n",
    "web_d2.at[83, 'School Name']='PS 003 CHARRETTE SCHOOL'\n",
    "web_d2.at[91, 'School Name']= 'PS 006 LILLIE D. BLAKE'\n",
    "web_d2.at[69, 'School Name']='PS 011 WILLIAM T HARRIS'\n",
    "web_d2.at[84, 'School Name']='PS 033 CHELSEA PREP'\n",
    "web_d2.at[85, 'School Name']='PS 040 AUGUSTUS ST-GAUDENS'\n",
    "web_d2.at[86, 'School Name']='PS 041 GREENWICH VILLAGE'\n",
    "web_d2.at[87, 'School Name']='PS 042 BENJAMIN ALTMAN'\n",
    "web_d2.at[88, 'School Name']='PS 051 ELIAS HOWE'\n",
    "web_d2.at[90, 'School Name']='PS 059 BEEKMAN HILL INTL'\n",
    "web_d2.at[70, 'School Name']='PS 111 ADOLPH S OCHS'\n",
    "web_d2.at[71, 'School Name']='PS 116 MARY LINDLEY MURRAY'\n",
    "web_d2.at[72, 'School Name']='PS 124 YUNG WING'\n",
    "web_d2.at[73, 'School Name']='PS 126 JACOB AUGUST RIIS'\n",
    "web_d2.at[74, 'School Name']='PS 130 HERNANDO DESOTO'\n",
    "web_d2.at[75, 'School Name']='PS 150'\n",
    "web_d2.at[76, 'School Name']='PS 158 BAYARD TAYLOR'\n",
    "web_d2.at[77, 'School Name']='PS 183 ROBERT L STEVENSON'\n",
    "web_d2.at[78, 'School Name']='PS 198 ISADOR E IDA STRAUS'\n",
    "web_d2.at[80, 'School Name']='PS 212 MIDTOWN WEST'\n",
    "web_d2.at[94, 'School Name']='PS 217/IS 217 ROOSEVELT IS.'\n",
    "web_d2.at[81, 'School Name']='PS 234 INDEPENDENCE SCHOOL'\n",
    "web_d2.at[82, 'School Name']='PS 290 MANHATTAN NEW SCHOOL'\n",
    "web_d2.at[92, 'School Name']='PS 77 LOWER LAB SCHOOL'\n",
    "web_d2.at[93, 'School Name']='PS 89'"
   ]
  },
  {
   "cell_type": "code",
   "execution_count": 23,
   "metadata": {},
   "outputs": [],
   "source": [
    "school_d2.drop(index=[1, 5, 7, 11, 21, 27, 37, 40, 45, 75, 84], inplace=True)\n",
    "web_d2.drop(index=[1, 6,7, 9, 10, 11, 15, 16, 17, 18, 19, 20, 22, 26, 29, 30, 34, 37, 38, 45, 46, 47, 49, 51, 56, 58, 61, 65, 66, 89, 95, 98, 101, 102, 103, 106, 109, 110, 111, 112, 113,\n",
    "114, 115, 117, 118], inplace=True)"
   ]
  },
  {
   "cell_type": "code",
   "execution_count": 24,
   "metadata": {},
   "outputs": [],
   "source": [
    "school_d2.sort_values(by=['SCHOOL'], inplace=True)\n",
    "web_d2.sort_values(by=['School Name'], inplace=True)"
   ]
  },
  {
   "cell_type": "code",
   "execution_count": 25,
   "metadata": {},
   "outputs": [],
   "source": [
    "school_d2.reset_index(inplace=True)\n",
    "web_d2.reset_index(inplace=True)"
   ]
  },
  {
   "cell_type": "code",
   "execution_count": 26,
   "metadata": {},
   "outputs": [
    {
     "name": "stdout",
     "output_type": "stream",
     "text": [
      "74\n",
      "74\n"
     ]
    }
   ],
   "source": [
    "print(len(school_d2))\n",
    "print(len(web_d2))"
   ]
  },
  {
   "cell_type": "code",
   "execution_count": 27,
   "metadata": {},
   "outputs": [],
   "source": [
    "all_d2 = pd.concat([school_d2, web_d2], axis=1)"
   ]
  },
  {
   "cell_type": "code",
   "execution_count": 28,
   "metadata": {},
   "outputs": [
    {
     "data": {
      "text/plain": [
       "74"
      ]
     },
     "execution_count": 28,
     "metadata": {},
     "output_type": "execute_result"
    }
   ],
   "source": [
    "# fix later\n",
    "len(all_d2)"
   ]
  },
  {
   "cell_type": "code",
   "execution_count": 431,
   "metadata": {
    "scrolled": true
   },
   "outputs": [
    {
     "data": {
      "text/html": [
       "<div>\n",
       "<style scoped>\n",
       "    .dataframe tbody tr th:only-of-type {\n",
       "        vertical-align: middle;\n",
       "    }\n",
       "\n",
       "    .dataframe tbody tr th {\n",
       "        vertical-align: top;\n",
       "    }\n",
       "\n",
       "    .dataframe thead th {\n",
       "        text-align: right;\n",
       "    }\n",
       "</style>\n",
       "<table border=\"1\" class=\"dataframe\">\n",
       "  <thead>\n",
       "    <tr style=\"text-align: right;\">\n",
       "      <th></th>\n",
       "      <th>level_0</th>\n",
       "      <th>index</th>\n",
       "      <th>DBN</th>\n",
       "      <th>DISTRICT</th>\n",
       "      <th>SCHOOL</th>\n",
       "      <th>SCHOOL SUPPORT ORGANIZATION/NETWORK</th>\n",
       "      <th>PROGRESS REPORT TYPE</th>\n",
       "      <th>SCHOOL LEVEL*</th>\n",
       "      <th>PEER INDEX*</th>\n",
       "      <th>GRADE</th>\n",
       "      <th>...</th>\n",
       "      <th>PROGRESS CATEGORY SCORE</th>\n",
       "      <th>ADDITIONAL CREDIT</th>\n",
       "      <th>QUALITY REVIEW SCORE</th>\n",
       "      <th>level_0</th>\n",
       "      <th>index</th>\n",
       "      <th>School Name</th>\n",
       "      <th>Enrollment</th>\n",
       "      <th>Student-Teacher Ratio</th>\n",
       "      <th>Free-Reduced Lunch</th>\n",
       "      <th>DISTRICT</th>\n",
       "    </tr>\n",
       "  </thead>\n",
       "  <tbody>\n",
       "    <tr>\n",
       "      <td>0</td>\n",
       "      <td>0</td>\n",
       "      <td>39</td>\n",
       "      <td>02M047</td>\n",
       "      <td>2</td>\n",
       "      <td>47 THE AMERICAN SIGN LANGUAGE AND ENGLISH DUAL...</td>\n",
       "      <td>ESO4</td>\n",
       "      <td>HS</td>\n",
       "      <td>High School</td>\n",
       "      <td>2.24</td>\n",
       "      <td>F</td>\n",
       "      <td>...</td>\n",
       "      <td>0.279</td>\n",
       "      <td>3</td>\n",
       "      <td>Proficient</td>\n",
       "      <td>2</td>\n",
       "      <td>91</td>\n",
       "      <td>47 THE AMERICAN SIGN LANGUAGE AND ENGLISH DUAL...</td>\n",
       "      <td>170</td>\n",
       "      <td>10.3</td>\n",
       "      <td>88.8%</td>\n",
       "      <td>2</td>\n",
       "    </tr>\n",
       "  </tbody>\n",
       "</table>\n",
       "<p>1 rows × 23 columns</p>\n",
       "</div>"
      ],
      "text/plain": [
       "  level_0 index     DBN DISTRICT  \\\n",
       "0       0    39  02M047        2   \n",
       "\n",
       "                                              SCHOOL  \\\n",
       "0  47 THE AMERICAN SIGN LANGUAGE AND ENGLISH DUAL...   \n",
       "\n",
       "  SCHOOL SUPPORT ORGANIZATION/NETWORK PROGRESS REPORT TYPE SCHOOL LEVEL*  \\\n",
       "0                                ESO4                   HS   High School   \n",
       "\n",
       "   PEER INDEX*  GRADE  ... PROGRESS CATEGORY SCORE ADDITIONAL CREDIT  \\\n",
       "0         2.24      F  ...                   0.279                 3   \n",
       "\n",
       "  QUALITY REVIEW SCORE level_0 index  \\\n",
       "0           Proficient       2    91   \n",
       "\n",
       "                                         School Name  Enrollment  \\\n",
       "0  47 THE AMERICAN SIGN LANGUAGE AND ENGLISH DUAL...         170   \n",
       "\n",
       "   Student-Teacher Ratio Free-Reduced Lunch DISTRICT  \n",
       "0                   10.3              88.8%        2  \n",
       "\n",
       "[1 rows x 23 columns]"
      ]
     },
     "execution_count": 431,
     "metadata": {},
     "output_type": "execute_result"
    }
   ],
   "source": [
    "all_d2.head(1)"
   ]
  },
  {
   "cell_type": "code",
   "execution_count": 433,
   "metadata": {},
   "outputs": [],
   "source": [
    "all_d2.drop(columns=['School Name', 'index', 'DBN', 'SCHOOL SUPPORT ORGANIZATION/NETWORK', \n",
    "                    'PROGRESS REPORT TYPE', 'DISTRICT', 'level_0'], inplace=True)"
   ]
  },
  {
   "cell_type": "markdown",
   "metadata": {},
   "source": [
    "### District 3"
   ]
  },
  {
   "cell_type": "code",
   "execution_count": 29,
   "metadata": {},
   "outputs": [
    {
     "name": "stdout",
     "output_type": "stream",
     "text": [
      "39\n",
      "44\n"
     ]
    }
   ],
   "source": [
    "print(len(df_school[df_school['DISTRICT']==3]))\n",
    "print(len(df_web[df_web['DISTRICT']==3]))"
   ]
  },
  {
   "cell_type": "code",
   "execution_count": 30,
   "metadata": {},
   "outputs": [],
   "source": [
    "school_d3 = df_school[df_school['DISTRICT']==3].sort_values(by=['SCHOOL'])\n",
    "web_d3 = df_web[df_web['DISTRICT']==3].sort_values(by=['School Name'])"
   ]
  },
  {
   "cell_type": "code",
   "execution_count": 31,
   "metadata": {},
   "outputs": [],
   "source": [
    "school_d3.reset_index(inplace=True)\n",
    "web_d3.reset_index(inplace=True)"
   ]
  },
  {
   "cell_type": "code",
   "execution_count": 32,
   "metadata": {},
   "outputs": [],
   "source": [
    "# school_d3\n",
    "# drop 3, 7, 9, 14, 17, 30, 32, 33, 35, 37"
   ]
  },
  {
   "cell_type": "code",
   "execution_count": 33,
   "metadata": {},
   "outputs": [],
   "source": [
    "# web_d3['School Name'].iloc[18]\n",
    "# change index 0 to THE ANDERSON SCHOOL\n",
    "# change index 2 to MS 258 COMMUNITY ACTION SCHL.\n",
    "# change index 11 to JHS 054 B00KER T.WASHINGTON\n",
    "# change index 16 to MS 243 CENTER SCHOOL\n",
    "# change index 17 to MS 245M THE COMPUTER SCHOOL\n",
    "# change index 18 to MS 247M DUAL LANGUAGE MID. SCH\n",
    "# change index 19 to MS 250 WEST SIDE COLLAB. M.S.\n",
    "# change index 35 to PS 009 SARAH\n",
    "# change index 31 to PS 075 EMILY DICKINSON\n",
    "# change index 32 to PS 076 A. PHILIP RANDOLPH\n",
    "# change index 33 to PS 084 LILLIAN WEBER\n",
    "# change index 34 to PS 087 WILLIAM SHERMAN\n",
    "# change index 21 to PS 145, THE BLOOMINGDALE SCHOOL\n",
    "# change index 22 to PS 149 SOJOURNER TRUTH\n",
    "# change index 23 to PS 163 ALFRED E SMITH\n",
    "# change index 24 to PS 165 ROBERT E SIMON\n",
    "# change index 25 to PS 166 THE RICHARD RODGERS SCHOOL OF THE ARTS AND\n",
    "# change index 26 to PS 180 HUGO NEWMAN\n",
    "# change index 27 to PS 199 JESSIE ISADOR STRAUS\n",
    "# change index 29 to PS 333 MANHATTAN SCHOOL FOR CHILDREN\n",
    "# change index 28 to PS242M G. P. BROWN COMP. SCHL.\n",
    "# drop 5, 10, 12, 13, 15, 30, 36, 37, 38, 39, 40, 42, 43"
   ]
  },
  {
   "cell_type": "code",
   "execution_count": 34,
   "metadata": {},
   "outputs": [],
   "source": [
    "web_d3.at[0, 'School Name']='THE ANDERSON SCHOOL'\n",
    "web_d3.at[2, 'School Name']='MS 258 COMMUNITY ACTION SCHL.'\n",
    "web_d3.at[11, 'School Name']='JHS 054 B00KER T.WASHINGTON'\n",
    "web_d3.at[16, 'School Name']='MS 243 CENTER SCHOOL'\n",
    "web_d3.at[17, 'School Name']='MS 245M THE COMPUTER SCHOOL'\n",
    "web_d3.at[18, 'School Name']='MS 247M DUAL LANGUAGE MID. SCH'\n",
    "web_d3.at[19, 'School Name']='MS 250 WEST SIDE COLLAB. M.S.'\n",
    "web_d3.at[35, 'School Name']='PS 009 SARAH'\n",
    "web_d3.at[31, 'School Name']='PS 075 EMILY DICKINSON'\n",
    "web_d3.at[32, 'School Name']='PS 076 A. PHILIP RANDOLPH'\n",
    "web_d3.at[33, 'School Name']='PS 084 LILLIAN WEBER'\n",
    "web_d3.at[34, 'School Name']='PS 087 WILLIAM SHERMAN'\n",
    "web_d3.at[21, 'School Name']='PS 145, THE BLOOMINGDALE SCHOOL'\n",
    "web_d3.at[22, 'School Name']='PS 149 SOJOURNER TRUTH'\n",
    "web_d3.at[23, 'School Name']='PS 163 ALFRED E SMITH'\n",
    "web_d3.at[24, 'School Name']='PS 165 ROBERT E SIMON'\n",
    "web_d3.at[25, 'School Name']='PS 166 THE RICHARD RODGERS SCHOOL OF THE ARTS AND SCIENCE'\n",
    "web_d3.at[26, 'School Name']='PS 180 HUGO NEWMAN'\n",
    "web_d3.at[27, 'School Name']='PS 199 JESSIE ISADOR STRAUS'\n",
    "web_d3.at[29, 'School Name']='PS 199 JESSIE ISADOR STRAUS'\n",
    "web_d3.at[28, 'School Name']='PS242M G. P. BROWN COMP. SCHL.'\n",
    "web_d3.at[13, 'School Name']='MANHATTAN/HUNTER SCIENCE HIGH SCHOOL'\n",
    "web_d3.at[14, 'School Name']='MOTT HALL II'\n",
    "web_d3.at[27, 'School Name']='PS 333 MANHATTAN SCHOOL FOR CHILDREN'"
   ]
  },
  {
   "cell_type": "code",
   "execution_count": 35,
   "metadata": {},
   "outputs": [],
   "source": [
    "school_d3.drop(index=[3, 7, 9, 14, 17, 30, 32, 33, 35, 37], inplace=True)\n",
    "web_d3.drop(index=[4, 5, 10, 12, 13, 15, 28, 30, 36, 37, 38, 39, 40, 42, 43], inplace=True)"
   ]
  },
  {
   "cell_type": "code",
   "execution_count": 36,
   "metadata": {},
   "outputs": [],
   "source": [
    "school_d3.sort_values(by=['SCHOOL'], inplace=True)\n",
    "web_d3.sort_values(by=['School Name'], inplace=True)"
   ]
  },
  {
   "cell_type": "code",
   "execution_count": 37,
   "metadata": {},
   "outputs": [],
   "source": [
    "school_d3.reset_index(inplace=True)\n",
    "web_d3.reset_index(inplace=True)"
   ]
  },
  {
   "cell_type": "code",
   "execution_count": 38,
   "metadata": {},
   "outputs": [],
   "source": [
    "# web_d3\n",
    "# drop 4\n",
    "# change index 13 to MANHATTAN/HUNTER SCIENCE HIGH SCHOOL\n",
    "# change index 14 to MOTT HALL II\n",
    "# change index 27 to PS 333 MANHATTAN SCHOOL FOR CHILDREN"
   ]
  },
  {
   "cell_type": "code",
   "execution_count": 39,
   "metadata": {},
   "outputs": [
    {
     "name": "stdout",
     "output_type": "stream",
     "text": [
      "29\n",
      "29\n"
     ]
    }
   ],
   "source": [
    "print(len(school_d3))\n",
    "print(len(web_d3))"
   ]
  },
  {
   "cell_type": "code",
   "execution_count": 40,
   "metadata": {},
   "outputs": [],
   "source": [
    "all_d3 = pd.concat([school_d3, web_d3], axis=1)"
   ]
  },
  {
   "cell_type": "code",
   "execution_count": 41,
   "metadata": {},
   "outputs": [
    {
     "data": {
      "text/plain": [
       "29"
      ]
     },
     "execution_count": 41,
     "metadata": {},
     "output_type": "execute_result"
    }
   ],
   "source": [
    "# fix later\n",
    "len(all_d3)"
   ]
  },
  {
   "cell_type": "code",
   "execution_count": 434,
   "metadata": {
    "scrolled": true
   },
   "outputs": [
    {
     "data": {
      "text/html": [
       "<div>\n",
       "<style scoped>\n",
       "    .dataframe tbody tr th:only-of-type {\n",
       "        vertical-align: middle;\n",
       "    }\n",
       "\n",
       "    .dataframe tbody tr th {\n",
       "        vertical-align: top;\n",
       "    }\n",
       "\n",
       "    .dataframe thead th {\n",
       "        text-align: right;\n",
       "    }\n",
       "</style>\n",
       "<table border=\"1\" class=\"dataframe\">\n",
       "  <thead>\n",
       "    <tr style=\"text-align: right;\">\n",
       "      <th></th>\n",
       "      <th>level_0</th>\n",
       "      <th>index</th>\n",
       "      <th>DBN</th>\n",
       "      <th>DISTRICT</th>\n",
       "      <th>SCHOOL</th>\n",
       "      <th>SCHOOL SUPPORT ORGANIZATION/NETWORK</th>\n",
       "      <th>PROGRESS REPORT TYPE</th>\n",
       "      <th>SCHOOL LEVEL*</th>\n",
       "      <th>PEER INDEX*</th>\n",
       "      <th>GRADE</th>\n",
       "      <th>...</th>\n",
       "      <th>PROGRESS CATEGORY SCORE</th>\n",
       "      <th>ADDITIONAL CREDIT</th>\n",
       "      <th>QUALITY REVIEW SCORE</th>\n",
       "      <th>level_0</th>\n",
       "      <th>index</th>\n",
       "      <th>School Name</th>\n",
       "      <th>Enrollment</th>\n",
       "      <th>Student-Teacher Ratio</th>\n",
       "      <th>Free-Reduced Lunch</th>\n",
       "      <th>DISTRICT</th>\n",
       "    </tr>\n",
       "  </thead>\n",
       "  <tbody>\n",
       "    <tr>\n",
       "      <td>0</td>\n",
       "      <td>0</td>\n",
       "      <td>144</td>\n",
       "      <td>03M479</td>\n",
       "      <td>3</td>\n",
       "      <td>BEACON HIGH SCHOOL</td>\n",
       "      <td>ESO2</td>\n",
       "      <td>HS</td>\n",
       "      <td>High School</td>\n",
       "      <td>3.44</td>\n",
       "      <td>B</td>\n",
       "      <td>...</td>\n",
       "      <td>0.532</td>\n",
       "      <td>3</td>\n",
       "      <td>Well-Developed</td>\n",
       "      <td>1</td>\n",
       "      <td>147</td>\n",
       "      <td>Beacon High School</td>\n",
       "      <td>1,380</td>\n",
       "      <td>22.5</td>\n",
       "      <td>25.3%</td>\n",
       "      <td>3</td>\n",
       "    </tr>\n",
       "  </tbody>\n",
       "</table>\n",
       "<p>1 rows × 23 columns</p>\n",
       "</div>"
      ],
      "text/plain": [
       "  level_0 index     DBN DISTRICT              SCHOOL  \\\n",
       "0       0   144  03M479        3  BEACON HIGH SCHOOL   \n",
       "\n",
       "  SCHOOL SUPPORT ORGANIZATION/NETWORK PROGRESS REPORT TYPE SCHOOL LEVEL*  \\\n",
       "0                                ESO2                   HS   High School   \n",
       "\n",
       "   PEER INDEX*  GRADE  ... PROGRESS CATEGORY SCORE ADDITIONAL CREDIT  \\\n",
       "0         3.44      B  ...                   0.532                 3   \n",
       "\n",
       "  QUALITY REVIEW SCORE level_0 index         School Name  Enrollment  \\\n",
       "0       Well-Developed       1   147  Beacon High School       1,380   \n",
       "\n",
       "   Student-Teacher Ratio Free-Reduced Lunch DISTRICT  \n",
       "0                   22.5              25.3%        3  \n",
       "\n",
       "[1 rows x 23 columns]"
      ]
     },
     "execution_count": 434,
     "metadata": {},
     "output_type": "execute_result"
    }
   ],
   "source": [
    "all_d3.head(1)"
   ]
  },
  {
   "cell_type": "code",
   "execution_count": 435,
   "metadata": {},
   "outputs": [],
   "source": [
    "all_d3.drop(columns=['School Name', 'index', 'DBN', 'SCHOOL SUPPORT ORGANIZATION/NETWORK', \n",
    "                    'PROGRESS REPORT TYPE', 'DISTRICT', 'level_0'], inplace=True)"
   ]
  },
  {
   "cell_type": "markdown",
   "metadata": {},
   "source": [
    "### District 4"
   ]
  },
  {
   "cell_type": "code",
   "execution_count": 42,
   "metadata": {},
   "outputs": [
    {
     "name": "stdout",
     "output_type": "stream",
     "text": [
      "32\n",
      "28\n"
     ]
    }
   ],
   "source": [
    "print(len(df_school[df_school['DISTRICT']==4]))\n",
    "print(len(df_web[df_web['DISTRICT']==4]))"
   ]
  },
  {
   "cell_type": "code",
   "execution_count": 43,
   "metadata": {},
   "outputs": [],
   "source": [
    "school_d4 = df_school[df_school['DISTRICT']==4].sort_values(by=['SCHOOL'])\n",
    "web_d4 = df_web[df_web['DISTRICT']==4].sort_values(by=['School Name'])"
   ]
  },
  {
   "cell_type": "code",
   "execution_count": 44,
   "metadata": {},
   "outputs": [],
   "source": [
    "school_d4.reset_index(inplace=True)\n",
    "web_d4.reset_index(inplace=True)"
   ]
  },
  {
   "cell_type": "code",
   "execution_count": 45,
   "metadata": {},
   "outputs": [],
   "source": [
    "# school_d4\n",
    "# drop 0, 1, 29, 7, 8, 30, 14, 13"
   ]
  },
  {
   "cell_type": "code",
   "execution_count": 46,
   "metadata": {},
   "outputs": [],
   "source": [
    "# web_d4\n",
    "# change index 0 to THE BILINGUAL BICULTURAL SCHL\n",
    "# change index 1 to CENTRAL PARK EAST SECONDARY HIGH SCHOOL\n",
    "# change index 5 to THE HERITAGE SCHOOL\n",
    "# change index 9 to MANHATTAN CENTER FOR SCIENCE AND MATHEMATICS\n",
    "# change index 10 to MS 224 MANH. E.SCHOOL. ARTS&ACAD\n",
    "# change index 13 to PS 102 JACQUES CARTIER\n",
    "# change index 14 to PS 108 ASSMBLY ANGELO DEL TORO\n",
    "# change index 19 to PS 206 JOSE CELSO BABOSA\n",
    "# change index 16 to PS 146 ANN M SHORT\n",
    "# change index 17 to PS 155 WILLIAM PACA\n",
    "# change index 18 to PS 171 PATRICK HENRY\n",
    "# change index 20 to PS 38 ROBERTO CLEMENTE\n",
    "# change index 21 to PS 007 SAMUEL STERN\n",
    "# change index 22 to PS 083 LUIS MUNOZ RIVERA\n",
    "# change index 23 to PS 096 JOSEPH LANZETTA\n",
    "# drop 4, 8, 11, 15, 24"
   ]
  },
  {
   "cell_type": "code",
   "execution_count": 47,
   "metadata": {},
   "outputs": [],
   "source": [
    "web_d4.at[0, 'School Name']= 'THE BILINGUAL BICULTURAL SCHL'\n",
    "web_d4.at[1, 'School Name']='CENTRAL PARK EAST SECONDARY HIGH SCHOOL'\n",
    "web_d4.at[5, 'School Name']='THE HERITAGE SCHOOL'\n",
    "web_d4.at[9, 'School Name']='MANHATTAN CENTER FOR SCIENCE AND MATHEMATICS'\n",
    "web_d4.at[10, 'School Name']='MS 224 MANH. E.SCHOOL. ARTS&ACAD'\n",
    "web_d4.at[13, 'School Name']='PS 102 JACQUES CARTIER'\n",
    "web_d4.at[14, 'School Name']='PS 108 ASSMBLY ANGELO DEL TORO'\n",
    "web_d4.at[19, 'School Name']='PS 206 JOSE CELSO BABOSA'\n",
    "web_d4.at[16, 'School Name']='PS 146 ANN M SHORT'\n",
    "web_d4.at[17, 'School Name']='PS 155 WILLIAM PACA'\n",
    "web_d4.at[18, 'School Name']='PS 171 PATRICK HENRY'\n",
    "web_d4.at[20, 'School Name']='PS 38 ROBERTO CLEMENTE'\n",
    "web_d4.at[21, 'School Name']='PS 007 SAMUEL STERN'\n",
    "web_d4.at[22, 'School Name']='PS 083 LUIS MUNOZ RIVERA'\n",
    "web_d4.at[23, 'School Name']='PS 096 JOSEPH LANZETTA'"
   ]
  },
  {
   "cell_type": "code",
   "execution_count": 48,
   "metadata": {},
   "outputs": [],
   "source": [
    "school_d4.drop(index=[0, 1, 29, 7, 8, 30, 14, 13], inplace=True)\n",
    "web_d4.drop(index=[4, 8, 11, 15, 24], inplace=True)"
   ]
  },
  {
   "cell_type": "code",
   "execution_count": 49,
   "metadata": {},
   "outputs": [],
   "source": [
    "school_d4.sort_values(by=['SCHOOL'], inplace=True)"
   ]
  },
  {
   "cell_type": "code",
   "execution_count": 50,
   "metadata": {},
   "outputs": [],
   "source": [
    "web_d4.sort_values(by=['School Name'], inplace=True)"
   ]
  },
  {
   "cell_type": "code",
   "execution_count": 51,
   "metadata": {},
   "outputs": [],
   "source": [
    "web_d4.at[2, 'School Name']='CENTRAL PARK EAST I'\n",
    "web_d4.at[3, 'School Name']='CENTRAL PARK EAST II'\n",
    "web_d4.at[12, 'School Name']= 'PARK EAST HIGH SCHOOL'\n",
    "web_d4.at[26, 'School Name']= 'TAG YOUNG SCHOLARS'"
   ]
  },
  {
   "cell_type": "code",
   "execution_count": 52,
   "metadata": {},
   "outputs": [],
   "source": [
    "school_d4.drop(index=17, inplace=True)"
   ]
  },
  {
   "cell_type": "code",
   "execution_count": 53,
   "metadata": {},
   "outputs": [],
   "source": [
    "school_d4.sort_values(by=['SCHOOL'], inplace=True)\n",
    "web_d4.sort_values(by=['School Name'], inplace=True)"
   ]
  },
  {
   "cell_type": "code",
   "execution_count": 54,
   "metadata": {},
   "outputs": [],
   "source": [
    "school_d4.reset_index(inplace=True)\n",
    "web_d4.reset_index(inplace=True)"
   ]
  },
  {
   "cell_type": "code",
   "execution_count": 55,
   "metadata": {},
   "outputs": [
    {
     "name": "stdout",
     "output_type": "stream",
     "text": [
      "23\n",
      "23\n"
     ]
    }
   ],
   "source": [
    "print(len(school_d4))\n",
    "print(len(web_d4))"
   ]
  },
  {
   "cell_type": "code",
   "execution_count": 56,
   "metadata": {},
   "outputs": [],
   "source": [
    "all_d4 = pd.concat([school_d4, web_d4], axis=1)"
   ]
  },
  {
   "cell_type": "code",
   "execution_count": 57,
   "metadata": {},
   "outputs": [
    {
     "data": {
      "text/plain": [
       "23"
      ]
     },
     "execution_count": 57,
     "metadata": {},
     "output_type": "execute_result"
    }
   ],
   "source": [
    "# fix later\n",
    "len(all_d4)"
   ]
  },
  {
   "cell_type": "code",
   "execution_count": 436,
   "metadata": {
    "scrolled": true
   },
   "outputs": [
    {
     "data": {
      "text/html": [
       "<div>\n",
       "<style scoped>\n",
       "    .dataframe tbody tr th:only-of-type {\n",
       "        vertical-align: middle;\n",
       "    }\n",
       "\n",
       "    .dataframe tbody tr th {\n",
       "        vertical-align: top;\n",
       "    }\n",
       "\n",
       "    .dataframe thead th {\n",
       "        text-align: right;\n",
       "    }\n",
       "</style>\n",
       "<table border=\"1\" class=\"dataframe\">\n",
       "  <thead>\n",
       "    <tr style=\"text-align: right;\">\n",
       "      <th></th>\n",
       "      <th>level_0</th>\n",
       "      <th>index</th>\n",
       "      <th>DBN</th>\n",
       "      <th>DISTRICT</th>\n",
       "      <th>SCHOOL</th>\n",
       "      <th>SCHOOL SUPPORT ORGANIZATION/NETWORK</th>\n",
       "      <th>PROGRESS REPORT TYPE</th>\n",
       "      <th>SCHOOL LEVEL*</th>\n",
       "      <th>PEER INDEX*</th>\n",
       "      <th>GRADE</th>\n",
       "      <th>...</th>\n",
       "      <th>PROGRESS CATEGORY SCORE</th>\n",
       "      <th>ADDITIONAL CREDIT</th>\n",
       "      <th>QUALITY REVIEW SCORE</th>\n",
       "      <th>level_0</th>\n",
       "      <th>index</th>\n",
       "      <th>School Name</th>\n",
       "      <th>Enrollment</th>\n",
       "      <th>Student-Teacher Ratio</th>\n",
       "      <th>Free-Reduced Lunch</th>\n",
       "      <th>DISTRICT</th>\n",
       "    </tr>\n",
       "  </thead>\n",
       "  <tbody>\n",
       "    <tr>\n",
       "      <td>0</td>\n",
       "      <td>2</td>\n",
       "      <td>176</td>\n",
       "      <td>04M497</td>\n",
       "      <td>4</td>\n",
       "      <td>CENTRAL PARK EAST I</td>\n",
       "      <td>ESO3</td>\n",
       "      <td>ESMS</td>\n",
       "      <td>Elementary School</td>\n",
       "      <td>49.80</td>\n",
       "      <td>D</td>\n",
       "      <td>...</td>\n",
       "      <td>0.538</td>\n",
       "      <td>0</td>\n",
       "      <td>Proficient</td>\n",
       "      <td>2</td>\n",
       "      <td>213</td>\n",
       "      <td>CENTRAL PARK EAST I</td>\n",
       "      <td>200</td>\n",
       "      <td>14.2</td>\n",
       "      <td>42%</td>\n",
       "      <td>4</td>\n",
       "    </tr>\n",
       "  </tbody>\n",
       "</table>\n",
       "<p>1 rows × 23 columns</p>\n",
       "</div>"
      ],
      "text/plain": [
       "  level_0 index     DBN DISTRICT               SCHOOL  \\\n",
       "0       2   176  04M497        4  CENTRAL PARK EAST I   \n",
       "\n",
       "  SCHOOL SUPPORT ORGANIZATION/NETWORK PROGRESS REPORT TYPE      SCHOOL LEVEL*  \\\n",
       "0                                ESO3                 ESMS  Elementary School   \n",
       "\n",
       "   PEER INDEX*  GRADE  ... PROGRESS CATEGORY SCORE ADDITIONAL CREDIT  \\\n",
       "0        49.80      D  ...                   0.538                 0   \n",
       "\n",
       "  QUALITY REVIEW SCORE level_0 index          School Name  Enrollment  \\\n",
       "0           Proficient       2   213  CENTRAL PARK EAST I         200   \n",
       "\n",
       "   Student-Teacher Ratio Free-Reduced Lunch DISTRICT  \n",
       "0                   14.2                42%        4  \n",
       "\n",
       "[1 rows x 23 columns]"
      ]
     },
     "execution_count": 436,
     "metadata": {},
     "output_type": "execute_result"
    }
   ],
   "source": [
    "all_d4.head(1)"
   ]
  },
  {
   "cell_type": "code",
   "execution_count": 437,
   "metadata": {},
   "outputs": [],
   "source": [
    "all_d4.drop(columns=['School Name', 'index', 'DBN', 'SCHOOL SUPPORT ORGANIZATION/NETWORK', \n",
    "                    'PROGRESS REPORT TYPE', 'DISTRICT', 'level_0'], inplace=True)"
   ]
  },
  {
   "cell_type": "markdown",
   "metadata": {},
   "source": [
    "### District 5"
   ]
  },
  {
   "cell_type": "code",
   "execution_count": 58,
   "metadata": {},
   "outputs": [
    {
     "name": "stdout",
     "output_type": "stream",
     "text": [
      "25\n",
      "27\n"
     ]
    }
   ],
   "source": [
    "print(len(df_school[df_school['DISTRICT']==5]))\n",
    "print(len(df_web[df_web['DISTRICT']==5]))"
   ]
  },
  {
   "cell_type": "code",
   "execution_count": 59,
   "metadata": {},
   "outputs": [],
   "source": [
    "school_d5 = df_school[df_school['DISTRICT']==5].sort_values(by=['SCHOOL'])\n",
    "web_d5 = df_web[df_web['DISTRICT']==5].sort_values(by=['School Name'])"
   ]
  },
  {
   "cell_type": "code",
   "execution_count": 60,
   "metadata": {},
   "outputs": [],
   "source": [
    "school_d5.reset_index(inplace=True)\n",
    "web_d5.reset_index(inplace=True)"
   ]
  },
  {
   "cell_type": "code",
   "execution_count": 61,
   "metadata": {},
   "outputs": [],
   "source": [
    "# school_d5\n",
    "# change index 23 to Thurgood Marshall Academy For Learning & Social Change\n",
    "# change index 24 to Thurgood Marshall Academy Lower School\n",
    "# drop 0, 1, 2, 4, 5, 6, 7, 8"
   ]
  },
  {
   "cell_type": "code",
   "execution_count": 62,
   "metadata": {},
   "outputs": [],
   "source": [
    "# web_d5\n",
    "# change index 7 to PS 123 MAHALIA JACKSON\n",
    "# change index 8 to PS 125 RALPH BUNCHE\n",
    "# change index 9 to PS 129 JOHN H FINLEY\n",
    "# change index 10 to PS 133 FRED R MOORE\n",
    "# change index 11 to PS 154 HARRIET TUBMAN\n",
    "# change index 12 to PS 161 PEDRO ALBIZU CAMPOS\n",
    "# change index 13 to PS 175 HENRY H GARNET\n",
    "# change index 14 to PS 194 COUNTEE CULLEN\n",
    "# change index 15 to PS 197 JOHN B RUSSWURM\n",
    "# change index 16 to PS 200- THE JAMES McCUNE SMITH SCHOOL\n",
    "# change index 17 to PS 030 HERNANDEZ/HUGHES\n",
    "# change index 19 to PS 046 ARTHUR TAPPAN\n",
    "# change index 20 to PS 092 MARY MCLEOD BETHUNE\n",
    "# drop 0, 1, 3, 4, 5, 18, 21, 24, 25, 26"
   ]
  },
  {
   "cell_type": "code",
   "execution_count": 63,
   "metadata": {},
   "outputs": [],
   "source": [
    "school_d5.at[23, 'SCHOOL'] = 'Thurgood Marshall Academy For Learning & Social Change'\n",
    "school_d5.at[24, 'SCHOOL'] = 'Thurgood Marshall Academy Lower School'\n",
    "web_d5.at[7, 'School Name']= 'PS 123 MAHALIA JACKSON'\n",
    "web_d5.at[8, 'School Name']= 'PS 125 RALPH BUNCHE'\n",
    "web_d5.at[9, 'School Name']= 'PS 129 JOHN H FINLEY'\n",
    "web_d5.at[10, 'School Name']= 'PS 133 FRED R MOORE'\n",
    "web_d5.at[11, 'School Name']= 'PS 154 HARRIET TUBMAN'\n",
    "web_d5.at[12, 'School Name']= 'PS 161 PEDRO ALBIZU CAMPOS'\n",
    "web_d5.at[13, 'School Name']= 'PS 175 HENRY H GARNET'\n",
    "web_d5.at[14, 'School Name']= 'PS 194 COUNTEE CULLEN'\n",
    "web_d5.at[15, 'School Name']= 'PS 197 JOHN B RUSSWURM'\n",
    "web_d5.at[16, 'School Name']= 'PS 200- THE JAMES McCUNE SMITH SCHOOL'\n",
    "web_d5.at[17, 'School Name']= 'PS 030 HERNANDEZ/HUGHES'\n",
    "web_d5.at[19, 'School Name']= 'PS 046 ARTHUR TAPPAN'\n",
    "web_d5.at[20, 'School Name']= 'PS 092 MARY MCLEOD BETHUNE'"
   ]
  },
  {
   "cell_type": "code",
   "execution_count": 64,
   "metadata": {},
   "outputs": [],
   "source": [
    "school_d5.drop(index=[0, 1, 2, 4, 5, 6, 7, 8], inplace=True)\n",
    "web_d5.drop(index=[0, 1, 3, 4, 5, 18, 21, 24, 25, 26], inplace=True)"
   ]
  },
  {
   "cell_type": "code",
   "execution_count": 65,
   "metadata": {},
   "outputs": [],
   "source": [
    "school_d5.sort_values(by=['SCHOOL'], inplace=True)\n",
    "web_d5.sort_values(by=['School Name'], inplace=True)"
   ]
  },
  {
   "cell_type": "code",
   "execution_count": 66,
   "metadata": {},
   "outputs": [],
   "source": [
    "school_d5.reset_index(inplace=True)\n",
    "web_d5.reset_index(inplace=True)"
   ]
  },
  {
   "cell_type": "code",
   "execution_count": 67,
   "metadata": {},
   "outputs": [
    {
     "name": "stdout",
     "output_type": "stream",
     "text": [
      "17\n",
      "17\n"
     ]
    }
   ],
   "source": [
    "print(len(school_d5))\n",
    "print(len(web_d5))"
   ]
  },
  {
   "cell_type": "code",
   "execution_count": 68,
   "metadata": {},
   "outputs": [],
   "source": [
    "all_d5 = pd.concat([school_d5, web_d5], axis=1)"
   ]
  },
  {
   "cell_type": "code",
   "execution_count": 69,
   "metadata": {},
   "outputs": [
    {
     "data": {
      "text/plain": [
       "17"
      ]
     },
     "execution_count": 69,
     "metadata": {},
     "output_type": "execute_result"
    }
   ],
   "source": [
    "len(all_d5)"
   ]
  },
  {
   "cell_type": "code",
   "execution_count": 438,
   "metadata": {},
   "outputs": [
    {
     "data": {
      "text/html": [
       "<div>\n",
       "<style scoped>\n",
       "    .dataframe tbody tr th:only-of-type {\n",
       "        vertical-align: middle;\n",
       "    }\n",
       "\n",
       "    .dataframe tbody tr th {\n",
       "        vertical-align: top;\n",
       "    }\n",
       "\n",
       "    .dataframe thead th {\n",
       "        text-align: right;\n",
       "    }\n",
       "</style>\n",
       "<table border=\"1\" class=\"dataframe\">\n",
       "  <thead>\n",
       "    <tr style=\"text-align: right;\">\n",
       "      <th></th>\n",
       "      <th>level_0</th>\n",
       "      <th>index</th>\n",
       "      <th>DBN</th>\n",
       "      <th>DISTRICT</th>\n",
       "      <th>SCHOOL</th>\n",
       "      <th>SCHOOL SUPPORT ORGANIZATION/NETWORK</th>\n",
       "      <th>PROGRESS REPORT TYPE</th>\n",
       "      <th>SCHOOL LEVEL*</th>\n",
       "      <th>PEER INDEX*</th>\n",
       "      <th>GRADE</th>\n",
       "      <th>...</th>\n",
       "      <th>PROGRESS CATEGORY SCORE</th>\n",
       "      <th>ADDITIONAL CREDIT</th>\n",
       "      <th>QUALITY REVIEW SCORE</th>\n",
       "      <th>level_0</th>\n",
       "      <th>index</th>\n",
       "      <th>School Name</th>\n",
       "      <th>Enrollment</th>\n",
       "      <th>Student-Teacher Ratio</th>\n",
       "      <th>Free-Reduced Lunch</th>\n",
       "      <th>DISTRICT</th>\n",
       "    </tr>\n",
       "  </thead>\n",
       "  <tbody>\n",
       "    <tr>\n",
       "      <td>0</td>\n",
       "      <td>3</td>\n",
       "      <td>205</td>\n",
       "      <td>05M499</td>\n",
       "      <td>5</td>\n",
       "      <td>FREDERICK DOUGLASS ACADEMY</td>\n",
       "      <td>LLSO1</td>\n",
       "      <td>HS</td>\n",
       "      <td>High School</td>\n",
       "      <td>3.12</td>\n",
       "      <td>B</td>\n",
       "      <td>...</td>\n",
       "      <td>0.524</td>\n",
       "      <td>0</td>\n",
       "      <td>Well-Developed</td>\n",
       "      <td>2</td>\n",
       "      <td>219</td>\n",
       "      <td>Frederick Douglass Academy</td>\n",
       "      <td>1,360</td>\n",
       "      <td>18.2</td>\n",
       "      <td>76.4%</td>\n",
       "      <td>5</td>\n",
       "    </tr>\n",
       "  </tbody>\n",
       "</table>\n",
       "<p>1 rows × 23 columns</p>\n",
       "</div>"
      ],
      "text/plain": [
       "  level_0 index     DBN DISTRICT                      SCHOOL  \\\n",
       "0       3   205  05M499        5  FREDERICK DOUGLASS ACADEMY   \n",
       "\n",
       "  SCHOOL SUPPORT ORGANIZATION/NETWORK PROGRESS REPORT TYPE SCHOOL LEVEL*  \\\n",
       "0                               LLSO1                   HS   High School   \n",
       "\n",
       "   PEER INDEX*  GRADE  ... PROGRESS CATEGORY SCORE ADDITIONAL CREDIT  \\\n",
       "0         3.12      B  ...                   0.524                 0   \n",
       "\n",
       "  QUALITY REVIEW SCORE level_0 index                 School Name  Enrollment  \\\n",
       "0       Well-Developed       2   219  Frederick Douglass Academy       1,360   \n",
       "\n",
       "   Student-Teacher Ratio Free-Reduced Lunch DISTRICT  \n",
       "0                   18.2              76.4%        5  \n",
       "\n",
       "[1 rows x 23 columns]"
      ]
     },
     "execution_count": 438,
     "metadata": {},
     "output_type": "execute_result"
    }
   ],
   "source": [
    "all_d5.head(1)"
   ]
  },
  {
   "cell_type": "code",
   "execution_count": 439,
   "metadata": {},
   "outputs": [],
   "source": [
    "all_d5.drop(columns=['School Name', 'index', 'DBN', 'SCHOOL SUPPORT ORGANIZATION/NETWORK', \n",
    "                    'PROGRESS REPORT TYPE', 'DISTRICT', 'level_0'], inplace=True)"
   ]
  },
  {
   "cell_type": "markdown",
   "metadata": {},
   "source": [
    "### District 6"
   ]
  },
  {
   "cell_type": "code",
   "execution_count": 70,
   "metadata": {},
   "outputs": [
    {
     "name": "stdout",
     "output_type": "stream",
     "text": [
      "41\n",
      "46\n"
     ]
    }
   ],
   "source": [
    "print(len(df_school[df_school['DISTRICT']==6]))\n",
    "print(len(df_web[df_web['DISTRICT']==6]))"
   ]
  },
  {
   "cell_type": "code",
   "execution_count": 71,
   "metadata": {},
   "outputs": [],
   "source": [
    "school_d6 = df_school[df_school['DISTRICT']==6].sort_values(by=['SCHOOL'])\n",
    "web_d6 = df_web[df_web['DISTRICT']==6].sort_values(by=['School Name'])"
   ]
  },
  {
   "cell_type": "code",
   "execution_count": 72,
   "metadata": {},
   "outputs": [],
   "source": [
    "school_d6.reset_index(inplace=True)\n",
    "web_d6.reset_index(inplace=True)"
   ]
  },
  {
   "cell_type": "code",
   "execution_count": 73,
   "metadata": {},
   "outputs": [],
   "source": [
    "# school_d6\n",
    "# drop 6, 8, 10, 17, 19, 20, 22, 40"
   ]
  },
  {
   "cell_type": "code",
   "execution_count": 74,
   "metadata": {},
   "outputs": [],
   "source": [
    "# web_d6\n",
    "# change 23 to I S 223 MOTT HALL\n",
    "# change 18 to I.S. 528 BEA FULLER RODGERS SCHOOL\n",
    "# change 17 to JHS 052 INWOOD\n",
    "# change 19 to JHS 143 ELEANOR ROOSEVELT\n",
    "# change 20 to MS 319 - MARIA TERESA\n",
    "# change 22 to MS 324 - PATRIA\n",
    "# change 37 to PS 004 DUKE ELLINGTON\n",
    "# change 39 to PS 005 ELLEN LURIE\n",
    "# change 40 to PS 008 LUIS BELLIARD\n",
    "# change 33 to PS 018 PARK TERRACE\n",
    "# change 36 to PS 028 WRIGHT BROTHERS\n",
    "# change 38 to PS 048 PO MICHAEL J. BUCZEK\n",
    "# change 41 to PS 098 SHORAC KAPPOCK\n",
    "# change 27 to PS 115 ALEXANDER HUMBOLDT\n",
    "# change 28 to PS 128 AUDUBON\n",
    "# change 29 to PS 132 JUAN PABLO DUARTE\n",
    "# change 30 to PS 152 DYCKMAN VALLEY\n",
    "# change 31 to PS 153 ADAM CLAYTON POWELL\n",
    "# change 32 to PS 173\n",
    "# change 42 to PS 187 HUDSON CLIFFS\n",
    "# change 34 to PS 189\n",
    "# change 35 to PS 192 JACOB H SCHIFF\n",
    "# change 43 to PS 210, 21ST CENT ACAD\n",
    "\n",
    "# drop 2, 4, 5, 6, 7, 9, 10, 12, 13, 25, 26, 44, 45"
   ]
  },
  {
   "cell_type": "code",
   "execution_count": 75,
   "metadata": {},
   "outputs": [],
   "source": [
    "web_d6.at[23, 'School Name']='I S 223 MOTT HALL'\n",
    "web_d6.at[18, 'School Name']='I.S. 528 BEA FULLER RODGERS SCHOOL'\n",
    "web_d6.at[17, 'School Name']='JHS 052 INWOOD'\n",
    "web_d6.at[19, 'School Name']='JHS 143 ELEANOR ROOSEVELT'\n",
    "web_d6.at[20, 'School Name']='MS 319 - MARIA TERESA'\n",
    "web_d6.at[22, 'School Name']='MS 324 - PATRIA'\n",
    "web_d6.at[37, 'School Name']='PS 004 DUKE ELLINGTON'\n",
    "web_d6.at[39, 'School Name']='PS 005 ELLEN LURIE'\n",
    "web_d6.at[40, 'School Name']='PS 008 LUIS BELLIARD'\n",
    "web_d6.at[33, 'School Name']='PS 018 PARK TERRACE'\n",
    "web_d6.at[36, 'School Name']='PS 028 WRIGHT BROTHERS'\n",
    "web_d6.at[38, 'School Name']='PS 048 PO MICHAEL J. BUCZEK'\n",
    "web_d6.at[41, 'School Name']='PS 098 SHORAC KAPPOCK'\n",
    "web_d6.at[27, 'School Name']='PS 115 ALEXANDER HUMBOLDT'\n",
    "web_d6.at[28, 'School Name']='PS 128 AUDUBON'\n",
    "web_d6.at[29, 'School Name']='PS 132 JUAN PABLO DUARTE'\n",
    "web_d6.at[30, 'School Name']='PS 152 DYCKMAN VALLEY'\n",
    "web_d6.at[31, 'School Name']='PS 153 ADAM CLAYTON POWELL'\n",
    "web_d6.at[32, 'School Name']='PS 173'\n",
    "web_d6.at[42, 'School Name']='PS 187 HUDSON CLIFFS'\n",
    "web_d6.at[34, 'School Name']='PS 189'\n",
    "web_d6.at[35, 'School Name']='PS 192 JACOB H SCHIFF'\n",
    "web_d6.at[43, 'School Name']='PS 210, 21ST CENT ACAD'"
   ]
  },
  {
   "cell_type": "code",
   "execution_count": 76,
   "metadata": {},
   "outputs": [],
   "source": [
    "school_d6.drop(index=[6, 8, 10, 17, 19, 20, 22, 40], inplace=True)\n",
    "web_d6.drop(index=[2, 4, 5, 6, 7, 9, 10, 12, 13, 25, 26, 44, 45], inplace=True)"
   ]
  },
  {
   "cell_type": "code",
   "execution_count": 77,
   "metadata": {},
   "outputs": [],
   "source": [
    "school_d6.sort_values(by=['SCHOOL'], inplace=True)\n",
    "web_d6.sort_values(by=['School Name'], inplace=True)"
   ]
  },
  {
   "cell_type": "code",
   "execution_count": 78,
   "metadata": {},
   "outputs": [],
   "source": [
    "school_d6.reset_index(inplace=True)\n",
    "web_d6.reset_index(inplace=True)"
   ]
  },
  {
   "cell_type": "code",
   "execution_count": 79,
   "metadata": {},
   "outputs": [
    {
     "name": "stdout",
     "output_type": "stream",
     "text": [
      "33\n",
      "33\n"
     ]
    }
   ],
   "source": [
    "print(len(school_d6))\n",
    "print(len(web_d6))"
   ]
  },
  {
   "cell_type": "code",
   "execution_count": 80,
   "metadata": {},
   "outputs": [],
   "source": [
    "all_d6 = pd.concat([school_d6, web_d6], axis=1)"
   ]
  },
  {
   "cell_type": "code",
   "execution_count": 81,
   "metadata": {},
   "outputs": [
    {
     "data": {
      "text/plain": [
       "33"
      ]
     },
     "execution_count": 81,
     "metadata": {},
     "output_type": "execute_result"
    }
   ],
   "source": [
    "len(all_d6)"
   ]
  },
  {
   "cell_type": "code",
   "execution_count": 440,
   "metadata": {},
   "outputs": [
    {
     "data": {
      "text/html": [
       "<div>\n",
       "<style scoped>\n",
       "    .dataframe tbody tr th:only-of-type {\n",
       "        vertical-align: middle;\n",
       "    }\n",
       "\n",
       "    .dataframe tbody tr th {\n",
       "        vertical-align: top;\n",
       "    }\n",
       "\n",
       "    .dataframe thead th {\n",
       "        text-align: right;\n",
       "    }\n",
       "</style>\n",
       "<table border=\"1\" class=\"dataframe\">\n",
       "  <thead>\n",
       "    <tr style=\"text-align: right;\">\n",
       "      <th></th>\n",
       "      <th>level_0</th>\n",
       "      <th>index</th>\n",
       "      <th>DBN</th>\n",
       "      <th>DISTRICT</th>\n",
       "      <th>SCHOOL</th>\n",
       "      <th>SCHOOL SUPPORT ORGANIZATION/NETWORK</th>\n",
       "      <th>PROGRESS REPORT TYPE</th>\n",
       "      <th>SCHOOL LEVEL*</th>\n",
       "      <th>PEER INDEX*</th>\n",
       "      <th>GRADE</th>\n",
       "      <th>...</th>\n",
       "      <th>PROGRESS CATEGORY SCORE</th>\n",
       "      <th>ADDITIONAL CREDIT</th>\n",
       "      <th>QUALITY REVIEW SCORE</th>\n",
       "      <th>level_0</th>\n",
       "      <th>index</th>\n",
       "      <th>School Name</th>\n",
       "      <th>Enrollment</th>\n",
       "      <th>Student-Teacher Ratio</th>\n",
       "      <th>Free-Reduced Lunch</th>\n",
       "      <th>DISTRICT</th>\n",
       "    </tr>\n",
       "  </thead>\n",
       "  <tbody>\n",
       "    <tr>\n",
       "      <td>0</td>\n",
       "      <td>0</td>\n",
       "      <td>248</td>\n",
       "      <td>06M540</td>\n",
       "      <td>6</td>\n",
       "      <td>A. PHILIP RANDOLPH CAMPUS HIGH SCHOOL</td>\n",
       "      <td>LLSO1</td>\n",
       "      <td>HS</td>\n",
       "      <td>High School</td>\n",
       "      <td>2.89</td>\n",
       "      <td>B</td>\n",
       "      <td>...</td>\n",
       "      <td>0.485</td>\n",
       "      <td>1.5</td>\n",
       "      <td>Proficient</td>\n",
       "      <td>0</td>\n",
       "      <td>270</td>\n",
       "      <td>A Philip Randolph Campus High School</td>\n",
       "      <td>1,379</td>\n",
       "      <td>17.9</td>\n",
       "      <td>85.9%</td>\n",
       "      <td>6</td>\n",
       "    </tr>\n",
       "  </tbody>\n",
       "</table>\n",
       "<p>1 rows × 23 columns</p>\n",
       "</div>"
      ],
      "text/plain": [
       "  level_0 index     DBN DISTRICT                                 SCHOOL  \\\n",
       "0       0   248  06M540        6  A. PHILIP RANDOLPH CAMPUS HIGH SCHOOL   \n",
       "\n",
       "  SCHOOL SUPPORT ORGANIZATION/NETWORK PROGRESS REPORT TYPE SCHOOL LEVEL*  \\\n",
       "0                               LLSO1                   HS   High School   \n",
       "\n",
       "   PEER INDEX*  GRADE  ... PROGRESS CATEGORY SCORE ADDITIONAL CREDIT  \\\n",
       "0         2.89      B  ...                   0.485               1.5   \n",
       "\n",
       "  QUALITY REVIEW SCORE level_0 index                           School Name  \\\n",
       "0           Proficient       0   270  A Philip Randolph Campus High School   \n",
       "\n",
       "   Enrollment  Student-Teacher Ratio Free-Reduced Lunch DISTRICT  \n",
       "0       1,379                   17.9              85.9%        6  \n",
       "\n",
       "[1 rows x 23 columns]"
      ]
     },
     "execution_count": 440,
     "metadata": {},
     "output_type": "execute_result"
    }
   ],
   "source": [
    "all_d6.head(1)"
   ]
  },
  {
   "cell_type": "code",
   "execution_count": 441,
   "metadata": {},
   "outputs": [],
   "source": [
    "all_d6.drop(columns=['School Name', 'index', 'DBN', 'SCHOOL SUPPORT ORGANIZATION/NETWORK', \n",
    "                    'PROGRESS REPORT TYPE', 'DISTRICT', 'level_0'], inplace=True)"
   ]
  },
  {
   "cell_type": "markdown",
   "metadata": {},
   "source": [
    "### District 7"
   ]
  },
  {
   "cell_type": "code",
   "execution_count": 82,
   "metadata": {},
   "outputs": [
    {
     "name": "stdout",
     "output_type": "stream",
     "text": [
      "39\n",
      "40\n"
     ]
    }
   ],
   "source": [
    "print(len(df_school[df_school['DISTRICT']==7]))\n",
    "print(len(df_web[df_web['DISTRICT']==7]))"
   ]
  },
  {
   "cell_type": "code",
   "execution_count": 83,
   "metadata": {},
   "outputs": [],
   "source": [
    "school_d7 = df_school[df_school['DISTRICT']==7].sort_values(by=['SCHOOL'])\n",
    "web_d7 = df_web[df_web['DISTRICT']==7].sort_values(by=['School Name'])"
   ]
  },
  {
   "cell_type": "code",
   "execution_count": 84,
   "metadata": {},
   "outputs": [],
   "source": [
    "school_d7.reset_index(inplace=True)\n",
    "web_d7.reset_index(inplace=True)"
   ]
  },
  {
   "cell_type": "code",
   "execution_count": 85,
   "metadata": {},
   "outputs": [],
   "source": [
    "# school_d7\n",
    "# drop 6, 9, 11, 13, 15, 26, 30, 34, 37"
   ]
  },
  {
   "cell_type": "code",
   "execution_count": 86,
   "metadata": {},
   "outputs": [],
   "source": [
    "# web_d7\n",
    "# change 38 to BRONX ACADEMY OF LETTERS\n",
    "# change 15 to JHS 151 LOU GEHRIG\n",
    "# change 16 to MS 223/THE LABORATORY SCHOOL OF FINANCE AND TECHNO\n",
    "# change 32 to P.S./I.S. 224\n",
    "# change 19 to PS 001 COURTLANDT SCHOOL\n",
    "# change 30 to PS 005 PORT MORRIS\n",
    "# change 24 to PS 018 JOHN PETER ZENGER\n",
    "# change 25 to PS 025 BILINGUAL SCHOOL\n",
    "# chaneg 27 to PS 030 WILTON\n",
    "# change 28 to PS 043 JONAS BRONCK\n",
    "# change 29 to PS 049 WILLIS AVE\n",
    "# change 31 to PS 065 MOTHER HALE ACADEMY\n",
    "# change 20 to PS 154 JONATHAN D HYATT\n",
    "# change 21 to PS 157 GROVE HILL\n",
    "# change 22 to PS 161 PONCE DE LEON\n",
    "# change 23 to PS 179\n",
    "# change 26 to PS 277\n",
    "# change 33 to PS/MS 029 MELROSE SCHOOL\n",
    "# change 34 to PS/MS 031 THE WILLIAM LLOYD GARRISON\n",
    "# \n",
    "# drop 3, 4, 6, 8, 10, 12, 17, 39"
   ]
  },
  {
   "cell_type": "code",
   "execution_count": 87,
   "metadata": {},
   "outputs": [],
   "source": [
    "web_d7.at[38, 'School Name'] = 'BRONX ACADEMY OF LETTERS'\n",
    "web_d7.at[15, 'School Name'] = 'JHS 151 LOU GEHRIG'\n",
    "web_d7.at[16, 'School Name'] = 'MS 223/THE LABORATORY SCHOOL OF FINANCE AND TECHNO'\n",
    "web_d7.at[32, 'School Name'] = 'P.S./I.S. 224'\n",
    "web_d7.at[19, 'School Name'] = 'PS 001 COURTLANDT SCHOOL'\n",
    "web_d7.at[30, 'School Name'] = 'PS 005 PORT MORRIS'\n",
    "web_d7.at[24, 'School Name'] = 'PS 018 JOHN PETER ZENGER'\n",
    "web_d7.at[25, 'School Name'] = 'PS 025 BILINGUAL SCHOOL'\n",
    "web_d7.at[27, 'School Name'] = 'PS 030 WILTON'\n",
    "web_d7.at[28, 'School Name'] = 'PS 043 JONAS BRONCK'\n",
    "web_d7.at[29, 'School Name'] = 'PS 049 WILLIS AVE'\n",
    "web_d7.at[31, 'School Name'] = 'PS 065 MOTHER HALE ACADEMY'\n",
    "web_d7.at[20, 'School Name'] = 'PS 154 JONATHAN D HYATT'\n",
    "web_d7.at[21, 'School Name'] = 'PS 157 GROVE HILL'\n",
    "web_d7.at[22, 'School Name'] = 'PS 161 PONCE DE LEON'\n",
    "web_d7.at[23, 'School Name'] = 'PS 179'\n",
    "web_d7.at[26, 'School Name'] = 'PS 277'\n",
    "web_d7.at[33, 'School Name'] = 'PS/MS 029 MELROSE SCHOOL'\n",
    "web_d7.at[34, 'School Name'] = 'PS/MS 031 THE WILLIAM LLOYD GARRISON'"
   ]
  },
  {
   "cell_type": "code",
   "execution_count": 88,
   "metadata": {},
   "outputs": [],
   "source": [
    "school_d7.drop(index=[6, 9, 11, 13, 15, 26, 30, 34, 37], inplace=True)\n",
    "web_d7.drop(index=[3, 4, 6, 8, 10, 12, 17, 39], inplace=True)"
   ]
  },
  {
   "cell_type": "code",
   "execution_count": 89,
   "metadata": {},
   "outputs": [],
   "source": [
    "school_d7.sort_values(by=['SCHOOL'], inplace=True)\n",
    "web_d7.sort_values(by=['School Name'], inplace=True)"
   ]
  },
  {
   "cell_type": "code",
   "execution_count": 90,
   "metadata": {},
   "outputs": [],
   "source": [
    "web_d7.drop(index=[13, 14], inplace=True)\n",
    "# drop 13, 14"
   ]
  },
  {
   "cell_type": "code",
   "execution_count": 91,
   "metadata": {},
   "outputs": [],
   "source": [
    "school_d7.sort_values(by=['SCHOOL'], inplace=True)\n",
    "web_d7.sort_values(by=['School Name'], inplace=True)"
   ]
  },
  {
   "cell_type": "code",
   "execution_count": 92,
   "metadata": {},
   "outputs": [],
   "source": [
    "school_d7.reset_index(inplace=True)\n",
    "web_d7.reset_index(inplace=True)"
   ]
  },
  {
   "cell_type": "code",
   "execution_count": 93,
   "metadata": {},
   "outputs": [
    {
     "name": "stdout",
     "output_type": "stream",
     "text": [
      "30\n",
      "30\n"
     ]
    }
   ],
   "source": [
    "print(len(school_d7))\n",
    "print(len(web_d7))"
   ]
  },
  {
   "cell_type": "code",
   "execution_count": 94,
   "metadata": {},
   "outputs": [],
   "source": [
    "all_d7 = pd.concat([school_d7, web_d7], axis=1)"
   ]
  },
  {
   "cell_type": "code",
   "execution_count": 95,
   "metadata": {},
   "outputs": [
    {
     "data": {
      "text/plain": [
       "30"
      ]
     },
     "execution_count": 95,
     "metadata": {},
     "output_type": "execute_result"
    }
   ],
   "source": [
    "len(all_d7)"
   ]
  },
  {
   "cell_type": "code",
   "execution_count": 442,
   "metadata": {},
   "outputs": [
    {
     "data": {
      "text/html": [
       "<div>\n",
       "<style scoped>\n",
       "    .dataframe tbody tr th:only-of-type {\n",
       "        vertical-align: middle;\n",
       "    }\n",
       "\n",
       "    .dataframe tbody tr th {\n",
       "        vertical-align: top;\n",
       "    }\n",
       "\n",
       "    .dataframe thead th {\n",
       "        text-align: right;\n",
       "    }\n",
       "</style>\n",
       "<table border=\"1\" class=\"dataframe\">\n",
       "  <thead>\n",
       "    <tr style=\"text-align: right;\">\n",
       "      <th></th>\n",
       "      <th>level_0</th>\n",
       "      <th>index</th>\n",
       "      <th>DBN</th>\n",
       "      <th>DISTRICT</th>\n",
       "      <th>SCHOOL</th>\n",
       "      <th>SCHOOL SUPPORT ORGANIZATION/NETWORK</th>\n",
       "      <th>PROGRESS REPORT TYPE</th>\n",
       "      <th>SCHOOL LEVEL*</th>\n",
       "      <th>PEER INDEX*</th>\n",
       "      <th>GRADE</th>\n",
       "      <th>...</th>\n",
       "      <th>PROGRESS CATEGORY SCORE</th>\n",
       "      <th>ADDITIONAL CREDIT</th>\n",
       "      <th>QUALITY REVIEW SCORE</th>\n",
       "      <th>level_0</th>\n",
       "      <th>index</th>\n",
       "      <th>School Name</th>\n",
       "      <th>Enrollment</th>\n",
       "      <th>Student-Teacher Ratio</th>\n",
       "      <th>Free-Reduced Lunch</th>\n",
       "      <th>DISTRICT</th>\n",
       "    </tr>\n",
       "  </thead>\n",
       "  <tbody>\n",
       "    <tr>\n",
       "      <td>0</td>\n",
       "      <td>0</td>\n",
       "      <td>276</td>\n",
       "      <td>07X343</td>\n",
       "      <td>7</td>\n",
       "      <td>ACADEMY OF APPLIED MATHEMATICS AND TECHNOLOGY</td>\n",
       "      <td>ESO1</td>\n",
       "      <td>ESMS</td>\n",
       "      <td>Middle School</td>\n",
       "      <td>2.76</td>\n",
       "      <td>A</td>\n",
       "      <td>...</td>\n",
       "      <td>0.738</td>\n",
       "      <td>6</td>\n",
       "      <td>Proficient</td>\n",
       "      <td>0</td>\n",
       "      <td>323</td>\n",
       "      <td>Academy Of Applied Mathematics And Technology</td>\n",
       "      <td>301</td>\n",
       "      <td>15.0</td>\n",
       "      <td>96.3%</td>\n",
       "      <td>7</td>\n",
       "    </tr>\n",
       "  </tbody>\n",
       "</table>\n",
       "<p>1 rows × 23 columns</p>\n",
       "</div>"
      ],
      "text/plain": [
       "  level_0 index     DBN DISTRICT  \\\n",
       "0       0   276  07X343        7   \n",
       "\n",
       "                                          SCHOOL  \\\n",
       "0  ACADEMY OF APPLIED MATHEMATICS AND TECHNOLOGY   \n",
       "\n",
       "  SCHOOL SUPPORT ORGANIZATION/NETWORK PROGRESS REPORT TYPE  SCHOOL LEVEL*  \\\n",
       "0                                ESO1                 ESMS  Middle School   \n",
       "\n",
       "   PEER INDEX*  GRADE  ... PROGRESS CATEGORY SCORE ADDITIONAL CREDIT  \\\n",
       "0         2.76      A  ...                   0.738                 6   \n",
       "\n",
       "  QUALITY REVIEW SCORE level_0 index  \\\n",
       "0           Proficient       0   323   \n",
       "\n",
       "                                     School Name  Enrollment  \\\n",
       "0  Academy Of Applied Mathematics And Technology         301   \n",
       "\n",
       "   Student-Teacher Ratio Free-Reduced Lunch DISTRICT  \n",
       "0                   15.0              96.3%        7  \n",
       "\n",
       "[1 rows x 23 columns]"
      ]
     },
     "execution_count": 442,
     "metadata": {},
     "output_type": "execute_result"
    }
   ],
   "source": [
    "all_d7.head(1)"
   ]
  },
  {
   "cell_type": "code",
   "execution_count": 443,
   "metadata": {},
   "outputs": [],
   "source": [
    "all_d7.drop(columns=['School Name', 'index', 'DBN', 'SCHOOL SUPPORT ORGANIZATION/NETWORK', \n",
    "                    'PROGRESS REPORT TYPE', 'DISTRICT', 'level_0'], inplace=True)"
   ]
  },
  {
   "cell_type": "markdown",
   "metadata": {},
   "source": [
    "### District 8"
   ]
  },
  {
   "cell_type": "code",
   "execution_count": 96,
   "metadata": {},
   "outputs": [
    {
     "name": "stdout",
     "output_type": "stream",
     "text": [
      "39\n",
      "52\n"
     ]
    }
   ],
   "source": [
    "print(len(df_school[df_school['DISTRICT']==8]))\n",
    "print(len(df_web[df_web['DISTRICT']==8]))"
   ]
  },
  {
   "cell_type": "code",
   "execution_count": 97,
   "metadata": {},
   "outputs": [],
   "source": [
    "school_d8 = df_school[df_school['DISTRICT']==8].sort_values(by=['SCHOOL'])\n",
    "web_d8 = df_web[df_web['DISTRICT']==8].sort_values(by=['School Name'])"
   ]
  },
  {
   "cell_type": "code",
   "execution_count": 98,
   "metadata": {},
   "outputs": [],
   "source": [
    "school_d8.reset_index(inplace=True)\n",
    "web_d8.reset_index(inplace=True)"
   ]
  },
  {
   "cell_type": "code",
   "execution_count": 99,
   "metadata": {},
   "outputs": [],
   "source": [
    "# school_d8\n",
    "# drop 0, 1, 3, 5, 11, 14, 15, 20, 27, 36, 38, 7"
   ]
  },
  {
   "cell_type": "code",
   "execution_count": 100,
   "metadata": {},
   "outputs": [],
   "source": [
    "# web_d8\n",
    "# change 13 to HERBERT LEHMAN HIGH SCHOOL\n",
    "# change 15 to JHS 123 JAMES M. KIERNAN\n",
    "# change 16 to JHS 131 ALBERT EINSTEIN\n",
    "# change 19 to MS 101X P.O. EDWARD R. BYRNE\n",
    "# change 22 to MILLENNIUM ART ACADEMY\n",
    "# change 20 to MS 301 PAUL L. DUNBAR MS\n",
    "# change 21 to MS 302 LUISA DESSUS CRUZ MS\n",
    "# change 29 to PS 014 SEN JOHN CALANDRA\n",
    "# change 35 to PS 036 UNIONPORT\n",
    "# change 36 to PS 048 JOSEPH R DRAKE\n",
    "# change 38 to PS 062 INOCENSIO CASANOVA\n",
    "# change 40 to PS 071 ROSE E SCALA\n",
    "# change 41 to PS 072 DR WILLIAM DORNEY\n",
    "# change 42 to PS 075\n",
    "# change 43 to PS 093 ALBERT G. OLIVER\n",
    "# change 25 to PS 100 ISSAC CLASON\n",
    "# change 26 to PS 107\n",
    "# change 27 to PS 130 ABRAM STEVENS HEWITT\n",
    "# change 28 to PS 138 SAMUEL RANDALL\n",
    "# change 30 to PS 140 EAGLE\n",
    "# change 31 to PS 146 EDWARD COLLINS\n",
    "# change 32 to PS 152 EVERGREEN\n",
    "# change 33 to PS 182\n",
    "# change 34 to PS 304 EARLY CHILDHOOD SCHOOL\n",
    "# change 45 to THE SCHOOL FOR INQUIRY AND SOCIAL JUSTICE\n",
    "# drop 0, 1, 2, 3, 4, 5, 6, 7, 8, 9, 11, 12, 14, 17, 18, 46, 47, 48, 49, 50, 51, 23, 24, 37, 39"
   ]
  },
  {
   "cell_type": "code",
   "execution_count": 101,
   "metadata": {},
   "outputs": [],
   "source": [
    "index = [13, 15, 16, 19, 22, 20, 21, 29, 35, 36, 38, 40, 41, 42, 43, 25, 26, 27, 28, 30, 31, 32, 33, 34, 45]\n",
    "schools = ['HERBERT LEHMAN HIGH SCHOOL', 'JHS 123 JAMES M. KIERNAN', 'JHS 131 ALBERT EINSTEIN', 'MS 101X P.O. EDWARD R. BYRNE',\n",
    "          'MILLENNIUM ART ACADEMY', 'MS 301 PAUL L. DUNBAR MS', 'MS 302 LUISA DESSUS CRUZ MS', 'PS 014 SEN JOHN CALANDRA',\n",
    "          'PS 036 UNIONPORT', 'PS 048 JOSEPH R DRAKE', 'PS 062 INOCENSIO CASANOVA', 'PS 071 ROSE E SCALA', 'PS 072 DR WILLIAM DORNEY',\n",
    "          'PS 075', 'PS 093 ALBERT G. OLIVER', 'PS 100 ISSAC CLASON', 'PS 107', 'PS 130 ABRAM STEVENS HEWITT', 'PS 138 SAMUEL RANDALL',\n",
    "          'PS 140 EAGLE', 'PS 146 EDWARD COLLINS', 'PS 152 EVERGREEN', 'PS 182', 'PS 304 EARLY CHILDHOOD SCHOOL',\n",
    "          'THE SCHOOL FOR INQUIRY AND SOCIAL JUSTICE']\n",
    "for i,j in zip(index,schools):\n",
    "    web_d8.at[i, 'School Name'] = j"
   ]
  },
  {
   "cell_type": "code",
   "execution_count": 102,
   "metadata": {},
   "outputs": [],
   "source": [
    "school_d8.drop(index=[0, 1, 3, 5, 11, 14, 15, 20, 27, 36, 38, 7], inplace=True)\n",
    "web_d8.drop(index=[0, 1, 2, 3, 4, 5, 6, 7, 8, 9, 11, 12, 14, 17, 18, 46, 47, 48, 49, 50, 51,\n",
    "                  23, 24, 37, 39], inplace=True)"
   ]
  },
  {
   "cell_type": "code",
   "execution_count": 103,
   "metadata": {},
   "outputs": [],
   "source": [
    "school_d8.sort_values(by=['SCHOOL'], inplace=True)\n",
    "web_d8.sort_values(by=['School Name'], inplace=True)"
   ]
  },
  {
   "cell_type": "code",
   "execution_count": 104,
   "metadata": {},
   "outputs": [],
   "source": [
    "school_d8.reset_index(inplace=True)\n",
    "web_d8.reset_index(inplace=True)"
   ]
  },
  {
   "cell_type": "code",
   "execution_count": 105,
   "metadata": {},
   "outputs": [
    {
     "name": "stdout",
     "output_type": "stream",
     "text": [
      "27\n",
      "27\n"
     ]
    }
   ],
   "source": [
    "print(len(school_d8))\n",
    "print(len(web_d8))"
   ]
  },
  {
   "cell_type": "code",
   "execution_count": 106,
   "metadata": {},
   "outputs": [],
   "source": [
    "all_d8 = pd.concat([school_d8, web_d8], axis=1)"
   ]
  },
  {
   "cell_type": "code",
   "execution_count": 107,
   "metadata": {},
   "outputs": [
    {
     "data": {
      "text/plain": [
       "27"
      ]
     },
     "execution_count": 107,
     "metadata": {},
     "output_type": "execute_result"
    }
   ],
   "source": [
    "len(all_d8)"
   ]
  },
  {
   "cell_type": "code",
   "execution_count": 444,
   "metadata": {},
   "outputs": [
    {
     "data": {
      "text/html": [
       "<div>\n",
       "<style scoped>\n",
       "    .dataframe tbody tr th:only-of-type {\n",
       "        vertical-align: middle;\n",
       "    }\n",
       "\n",
       "    .dataframe tbody tr th {\n",
       "        vertical-align: top;\n",
       "    }\n",
       "\n",
       "    .dataframe thead th {\n",
       "        text-align: right;\n",
       "    }\n",
       "</style>\n",
       "<table border=\"1\" class=\"dataframe\">\n",
       "  <thead>\n",
       "    <tr style=\"text-align: right;\">\n",
       "      <th></th>\n",
       "      <th>level_0</th>\n",
       "      <th>index</th>\n",
       "      <th>DBN</th>\n",
       "      <th>DISTRICT</th>\n",
       "      <th>SCHOOL</th>\n",
       "      <th>SCHOOL SUPPORT ORGANIZATION/NETWORK</th>\n",
       "      <th>PROGRESS REPORT TYPE</th>\n",
       "      <th>SCHOOL LEVEL*</th>\n",
       "      <th>PEER INDEX*</th>\n",
       "      <th>GRADE</th>\n",
       "      <th>...</th>\n",
       "      <th>PROGRESS CATEGORY SCORE</th>\n",
       "      <th>ADDITIONAL CREDIT</th>\n",
       "      <th>QUALITY REVIEW SCORE</th>\n",
       "      <th>level_0</th>\n",
       "      <th>index</th>\n",
       "      <th>School Name</th>\n",
       "      <th>Enrollment</th>\n",
       "      <th>Student-Teacher Ratio</th>\n",
       "      <th>Free-Reduced Lunch</th>\n",
       "      <th>DISTRICT</th>\n",
       "    </tr>\n",
       "  </thead>\n",
       "  <tbody>\n",
       "    <tr>\n",
       "      <td>0</td>\n",
       "      <td>2</td>\n",
       "      <td>515</td>\n",
       "      <td>12X269</td>\n",
       "      <td>8</td>\n",
       "      <td>BRONX STUDIO SCHOOL FOR WRITERS AND ARTISTS</td>\n",
       "      <td>ESO13</td>\n",
       "      <td>ESMS</td>\n",
       "      <td>Middle School</td>\n",
       "      <td>3.03</td>\n",
       "      <td>B</td>\n",
       "      <td>...</td>\n",
       "      <td>0.549</td>\n",
       "      <td>0</td>\n",
       "      <td>Well-Developed</td>\n",
       "      <td>10</td>\n",
       "      <td>359</td>\n",
       "      <td>Bronx Studio School For Writers And Artists</td>\n",
       "      <td>644</td>\n",
       "      <td>13.4</td>\n",
       "      <td>85.4%</td>\n",
       "      <td>8</td>\n",
       "    </tr>\n",
       "  </tbody>\n",
       "</table>\n",
       "<p>1 rows × 23 columns</p>\n",
       "</div>"
      ],
      "text/plain": [
       "  level_0 index     DBN DISTRICT                                       SCHOOL  \\\n",
       "0       2   515  12X269        8  BRONX STUDIO SCHOOL FOR WRITERS AND ARTISTS   \n",
       "\n",
       "  SCHOOL SUPPORT ORGANIZATION/NETWORK PROGRESS REPORT TYPE  SCHOOL LEVEL*  \\\n",
       "0                               ESO13                 ESMS  Middle School   \n",
       "\n",
       "   PEER INDEX*  GRADE  ... PROGRESS CATEGORY SCORE ADDITIONAL CREDIT  \\\n",
       "0         3.03      B  ...                   0.549                 0   \n",
       "\n",
       "  QUALITY REVIEW SCORE level_0 index  \\\n",
       "0       Well-Developed      10   359   \n",
       "\n",
       "                                   School Name  Enrollment  \\\n",
       "0  Bronx Studio School For Writers And Artists         644   \n",
       "\n",
       "   Student-Teacher Ratio Free-Reduced Lunch DISTRICT  \n",
       "0                   13.4              85.4%        8  \n",
       "\n",
       "[1 rows x 23 columns]"
      ]
     },
     "execution_count": 444,
     "metadata": {},
     "output_type": "execute_result"
    }
   ],
   "source": [
    "all_d8.head(1)"
   ]
  },
  {
   "cell_type": "code",
   "execution_count": 445,
   "metadata": {},
   "outputs": [],
   "source": [
    "all_d8.drop(columns=['School Name', 'index', 'DBN', 'SCHOOL SUPPORT ORGANIZATION/NETWORK', \n",
    "                    'PROGRESS REPORT TYPE', 'DISTRICT', 'level_0'], inplace=True)"
   ]
  },
  {
   "cell_type": "markdown",
   "metadata": {},
   "source": [
    "### District 9"
   ]
  },
  {
   "cell_type": "code",
   "execution_count": 108,
   "metadata": {},
   "outputs": [
    {
     "name": "stdout",
     "output_type": "stream",
     "text": [
      "49\n",
      "64\n"
     ]
    }
   ],
   "source": [
    "print(len(df_school[df_school['DISTRICT']==9]))\n",
    "print(len(df_web[df_web['DISTRICT']==9]))"
   ]
  },
  {
   "cell_type": "code",
   "execution_count": 109,
   "metadata": {},
   "outputs": [],
   "source": [
    "school_d9 = df_school[df_school['DISTRICT']==9].sort_values(by=['SCHOOL'])\n",
    "web_d9 = df_web[df_web['DISTRICT']==9].sort_values(by=['School Name'])"
   ]
  },
  {
   "cell_type": "code",
   "execution_count": 110,
   "metadata": {},
   "outputs": [],
   "source": [
    "school_d9.reset_index(inplace=True)\n",
    "web_d9.reset_index(inplace=True)"
   ]
  },
  {
   "cell_type": "code",
   "execution_count": 111,
   "metadata": {},
   "outputs": [],
   "source": [
    "# school_d9\n",
    "# drop 1, 16, 17, 24, 33, 36, 44, 47"
   ]
  },
  {
   "cell_type": "code",
   "execution_count": 112,
   "metadata": {},
   "outputs": [],
   "source": [
    "# web_d9[0:44]\n",
    "# change 19 to I S 229 ROLAND PATTERSON\n",
    "# change 17 to I.S.117 JOSEPH H WADE\n",
    "# change 18 to IS 219 NEW VENTURE SCHOOL\n",
    "# change 20 to IS 232\n",
    "# change 21 to IS 303 LEADERSHIP & COMM. SER\n",
    "# change 22 to IS 313 SCHL OF LEADERSHIP DEV.\n",
    "# change 23 to IS 339 SCHOOL OF COMM. TECH.\n",
    "# change 24 to JHS 022 JORDAN L MOTT\n",
    "# change 42 to P.S. 199X THE SHAKESPEARE SCHOOL\n",
    "# change 55 to P/IS 218 R HERNANDEZ DUAL LANG\n",
    "# change 35 to PS 011 HIGHBRIDGE\n",
    "# change 45 to PS 028 MOUNT HOPE\n",
    "# change 46 to PS 035 FRANZ SIEGEL\n",
    "# change 47 to PS 042 CLAREMONT\n",
    "# change 48 to PS 053 BASHEER QUISIM\n",
    "# change 50 to PS 058\n",
    "# change 51 to PS 063 AUTHOR'S ACADEMY\n",
    "# change 52 to PS 070 MAX SCHOENFELD\n",
    "# change 53 to PS 073 BRONX\n",
    "# change 34 to PS 109 SEDGWICK\n",
    "# change 36 to PS 110 THEODORE SCHOENFELD\n",
    "# change 37 to PS 114 LUIS LLORENS TORRES CHL\n",
    "# change 38 to PS 126 DR MARJORIE H DUNBAR\n",
    "# change 39 to PS 132 GARRET A MORGAN\n",
    "# change 40 to PS 163 ARTHUR A SCHOMBURG\n",
    "# change 43 to PS 204 MORRIS HEIGHTS\n",
    "# change 56 to PSMS 004 CROTONA PARK WEST\n",
    "# change 49 to PS 055 BENJAMIN FRANKLIN\n",
    "# change 60 to THE URBAN ASSEMBLY SCHOOL FOR APPLIED MATH AND SCI\n",
    "# drop 0, 1, 2, 3, 7, 9, 10, 12, 14, 16, 26, 28, 30, 31, 32, 41, 44, 54, 58, 59, 61, 62, 63"
   ]
  },
  {
   "cell_type": "code",
   "execution_count": 113,
   "metadata": {},
   "outputs": [],
   "source": [
    "index_9 = [19, 17, 18, 20, 21, 22, 23, 24, 42, 55, 35, 45, 46, 47, 48, 50, 51, 52, 53, 34, 36, 37, 38, 39, 40, 43,\n",
    "          56, 49, 60]\n",
    "schools_9 = ['I S 229 ROLAND PATTERSON', 'I.S.117 JOSEPH H WADE', 'IS 219 NEW VENTURE SCHOOL','IS 232',\n",
    "            'IS 303 LEADERSHIP & COMM. SER', 'IS 313 SCHL OF LEADERSHIP DEV.', 'IS 339 SCHOOL OF COMM. TECH.',\n",
    "            'JHS 022 JORDAN L MOTT', 'P.S. 199X THE SHAKESPEARE SCHOOL', 'P/IS 218 R HERNANDEZ DUAL LANG', \n",
    "            'PS 011 HIGHBRIDGE', 'PS 028 MOUNT HOPE', 'PS 035 FRANZ SIEGEL', 'PS 042 CLAREMONT', 'PS 053 BASHEER QUISIM',\n",
    "            'PS 058', 'PS 063 AUTHORS ACADEMY', 'PS 070 MAX SCHOENFELD', 'PS 073 BRONX', 'PS 109 SEDGWICK', \n",
    "            'PS 110 THEODORE SCHOENFELD', 'PS 114 LUIS LLORENS TORRES CHL', 'PS 126 DR MARJORIE H DUNBAR', 'PS 132 GARRET A MORGAN',\n",
    "            'PS 163 ARTHUR A SCHOMBURG', 'PS 204 MORRIS HEIGHTS', 'PSMS 004 CROTONA PARK WEST',\n",
    "            'PS 055 BENJAMIN FRANKLIN', 'THE URBAN ASSEMBLY SCHOOL FOR APPLIED MATH AND SCI']\n",
    "for i,j in zip(index_9, schools_9):\n",
    "    web_d9.at[i, 'School Name'] = j"
   ]
  },
  {
   "cell_type": "code",
   "execution_count": 114,
   "metadata": {},
   "outputs": [],
   "source": [
    "school_d9.drop(index=[1, 16, 17, 24, 33, 36, 44, 47], inplace=True)\n",
    "web_d9.drop(index=[0, 1, 2, 3, 7, 9, 10, 12, 14, 16, 26, 28, 30, 31, 32, 41, 44, 54, 58, 59, 61, 62, 63], inplace=True)"
   ]
  },
  {
   "cell_type": "code",
   "execution_count": 115,
   "metadata": {},
   "outputs": [],
   "source": [
    "school_d9.sort_values(by=['SCHOOL'], inplace=True)\n",
    "web_d9.sort_values(by=['School Name'], inplace=True)"
   ]
  },
  {
   "cell_type": "code",
   "execution_count": 116,
   "metadata": {},
   "outputs": [],
   "source": [
    "school_d9.reset_index(inplace=True)\n",
    "web_d9.reset_index(inplace=True)"
   ]
  },
  {
   "cell_type": "code",
   "execution_count": 117,
   "metadata": {},
   "outputs": [
    {
     "name": "stdout",
     "output_type": "stream",
     "text": [
      "41\n",
      "41\n"
     ]
    }
   ],
   "source": [
    "print(len(school_d9))\n",
    "print(len(web_d9))"
   ]
  },
  {
   "cell_type": "code",
   "execution_count": 118,
   "metadata": {},
   "outputs": [],
   "source": [
    "all_d9 = pd.concat([school_d9, web_d9], axis=1)"
   ]
  },
  {
   "cell_type": "code",
   "execution_count": 119,
   "metadata": {},
   "outputs": [
    {
     "data": {
      "text/plain": [
       "41"
      ]
     },
     "execution_count": 119,
     "metadata": {},
     "output_type": "execute_result"
    }
   ],
   "source": [
    "len(all_d9)"
   ]
  },
  {
   "cell_type": "code",
   "execution_count": 446,
   "metadata": {
    "scrolled": true
   },
   "outputs": [
    {
     "data": {
      "text/html": [
       "<div>\n",
       "<style scoped>\n",
       "    .dataframe tbody tr th:only-of-type {\n",
       "        vertical-align: middle;\n",
       "    }\n",
       "\n",
       "    .dataframe tbody tr th {\n",
       "        vertical-align: top;\n",
       "    }\n",
       "\n",
       "    .dataframe thead th {\n",
       "        text-align: right;\n",
       "    }\n",
       "</style>\n",
       "<table border=\"1\" class=\"dataframe\">\n",
       "  <thead>\n",
       "    <tr style=\"text-align: right;\">\n",
       "      <th></th>\n",
       "      <th>level_0</th>\n",
       "      <th>index</th>\n",
       "      <th>DBN</th>\n",
       "      <th>DISTRICT</th>\n",
       "      <th>SCHOOL</th>\n",
       "      <th>SCHOOL SUPPORT ORGANIZATION/NETWORK</th>\n",
       "      <th>PROGRESS REPORT TYPE</th>\n",
       "      <th>SCHOOL LEVEL*</th>\n",
       "      <th>PEER INDEX*</th>\n",
       "      <th>GRADE</th>\n",
       "      <th>...</th>\n",
       "      <th>PROGRESS CATEGORY SCORE</th>\n",
       "      <th>ADDITIONAL CREDIT</th>\n",
       "      <th>QUALITY REVIEW SCORE</th>\n",
       "      <th>level_0</th>\n",
       "      <th>index</th>\n",
       "      <th>School Name</th>\n",
       "      <th>Enrollment</th>\n",
       "      <th>Student-Teacher Ratio</th>\n",
       "      <th>Free-Reduced Lunch</th>\n",
       "      <th>DISTRICT</th>\n",
       "    </tr>\n",
       "  </thead>\n",
       "  <tbody>\n",
       "    <tr>\n",
       "      <td>0</td>\n",
       "      <td>0</td>\n",
       "      <td>370</td>\n",
       "      <td>09X525</td>\n",
       "      <td>9</td>\n",
       "      <td>BRONX LEADERSHIP ACADEMY HIGH SCHOOL</td>\n",
       "      <td>ESO17</td>\n",
       "      <td>HS</td>\n",
       "      <td>High School</td>\n",
       "      <td>2.62</td>\n",
       "      <td>B</td>\n",
       "      <td>...</td>\n",
       "      <td>0.516</td>\n",
       "      <td>1.5</td>\n",
       "      <td>Proficient</td>\n",
       "      <td>4</td>\n",
       "      <td>385</td>\n",
       "      <td>Bronx Leadership Academy High School</td>\n",
       "      <td>574</td>\n",
       "      <td>14.0</td>\n",
       "      <td>87.3%</td>\n",
       "      <td>9</td>\n",
       "    </tr>\n",
       "  </tbody>\n",
       "</table>\n",
       "<p>1 rows × 23 columns</p>\n",
       "</div>"
      ],
      "text/plain": [
       "  level_0 index     DBN DISTRICT                                SCHOOL  \\\n",
       "0       0   370  09X525        9  BRONX LEADERSHIP ACADEMY HIGH SCHOOL   \n",
       "\n",
       "  SCHOOL SUPPORT ORGANIZATION/NETWORK PROGRESS REPORT TYPE SCHOOL LEVEL*  \\\n",
       "0                               ESO17                   HS   High School   \n",
       "\n",
       "   PEER INDEX*  GRADE  ... PROGRESS CATEGORY SCORE ADDITIONAL CREDIT  \\\n",
       "0         2.62      B  ...                   0.516               1.5   \n",
       "\n",
       "  QUALITY REVIEW SCORE level_0 index                           School Name  \\\n",
       "0           Proficient       4   385  Bronx Leadership Academy High School   \n",
       "\n",
       "   Enrollment  Student-Teacher Ratio Free-Reduced Lunch DISTRICT  \n",
       "0         574                   14.0              87.3%        9  \n",
       "\n",
       "[1 rows x 23 columns]"
      ]
     },
     "execution_count": 446,
     "metadata": {},
     "output_type": "execute_result"
    }
   ],
   "source": [
    "all_d9.head(1)"
   ]
  },
  {
   "cell_type": "code",
   "execution_count": 447,
   "metadata": {},
   "outputs": [],
   "source": [
    "all_d9.drop(columns=['School Name', 'index', 'DBN', 'SCHOOL SUPPORT ORGANIZATION/NETWORK', \n",
    "                    'PROGRESS REPORT TYPE', 'DISTRICT', 'level_0'], inplace=True)"
   ]
  },
  {
   "cell_type": "markdown",
   "metadata": {},
   "source": [
    "### District 10"
   ]
  },
  {
   "cell_type": "code",
   "execution_count": 120,
   "metadata": {},
   "outputs": [
    {
     "name": "stdout",
     "output_type": "stream",
     "text": [
      "75\n",
      "87\n"
     ]
    }
   ],
   "source": [
    "print(len(df_school[df_school['DISTRICT']==10]))\n",
    "print(len(df_web[df_web['DISTRICT']==10]))"
   ]
  },
  {
   "cell_type": "code",
   "execution_count": 121,
   "metadata": {},
   "outputs": [],
   "source": [
    "school_d10 = df_school[df_school['DISTRICT']==10].sort_values(by=['SCHOOL'])\n",
    "web_d10 = df_web[df_web['DISTRICT']==10].sort_values(by=['School Name'])"
   ]
  },
  {
   "cell_type": "code",
   "execution_count": 122,
   "metadata": {},
   "outputs": [],
   "source": [
    "school_d10.reset_index(inplace=True)\n",
    "web_d10.reset_index(inplace=True)"
   ]
  },
  {
   "cell_type": "code",
   "execution_count": 123,
   "metadata": {},
   "outputs": [],
   "source": [
    "# school_d10[0:44]\n",
    "# drop 4, 11, 14, 19, 22, 25, 27, 30, 31, 32, 67, 69"
   ]
  },
  {
   "cell_type": "code",
   "execution_count": 124,
   "metadata": {},
   "outputs": [],
   "source": [
    "# school_d10[44:75]"
   ]
  },
  {
   "cell_type": "code",
   "execution_count": 125,
   "metadata": {},
   "outputs": [],
   "source": [
    "# web_d10[0:44]\n",
    "# change 12 to BRONX HIGH SCHOOL OF SCIENCE\n",
    "# change 25 to FORDHAM LEADERSHIP ACADEMY FOR BUSINESS AND TECHNO\n",
    "# change 32 to I.S. 254\n",
    "# change 29 to IN-TECH ACADEMY (MS/HS 368)\n",
    "# change 31 to IS 206 ANN MERSEREAU\n",
    "# change 35 to JHS 080 THE MOSHOLU PARKWAY\n",
    "# change 34 to JHS 118 WILLIAM W NILES\n",
    "# change 41 to MS 390\n",
    "# change 70 to PS 008 ISSAC VARIAN\n",
    "# change 52 to PS 024 SPUYTEN DUYVIL\n",
    "# change 60 to PS 032 BELMONT\n",
    "# change 61 to PS 033 TIMOTHY DWIGHT\n",
    "# change 64 to PS 037 MULTIPLE INTELLIGENCE S\n",
    "# change 66 to PS 046 EDGAR ALLAN POE\n",
    "# change 67 to PS 051 BRONX NEW SCHOOL\n",
    "# change 68 to PS 056 NORWOOD HEIGHTS\n",
    "# change 69 to PS 059 THE COMM SCHOOL OF TEC\n",
    "# change 17 to PS 079 CRESTON\n",
    "# change 71 to PS 081 ROBERT J. CHRISTEN\n",
    "# change 72 to PS 085 GREAT EXPECTATIONS\n",
    "# change 73 to PS 086 KINGSBRIDGE HEIGHTS\n",
    "# change 75 to PS 091 BRONX\n",
    "# change 76 to PS 094 KINGS COLLEGE SCHOOL\n",
    "# change 77 to PS 095 SHEILA MENCHER\n",
    "# change 46 to PS 159 LUIS MUNOZ MARIN BILING\n",
    "# change 79 to PS 20 P.O.GEORGE J. WERDAN III\n",
    "# change 54 to PS 279 CAPT MANUEL RIVERA, JR\n",
    "# change 80 to PS 280 MOSHOLU PARKWAY\n",
    "# change 56 to PS 3 RAUL JULIA MICRO SOCIETY\n",
    "# change 78 to PS/IS 54\n",
    "# change 81 to RIVERDALE/KINGSBRIDGE ACADEMY (MS/HS 141)\n",
    "# change 74 to RYER AVENUE ELEMENTARY SCHOOL\n",
    "# change 40 to THE MARIE CURIE HIGH SCHOOL FOR MEDICINE, NURSING\n",
    "# change 43 to THE NEW SCHOOL FOR LEADERSHIP AND JOURNALISM\n",
    "# change 85 to WEST BRONX ACADEMY FOR THE FUTURE\n",
    "# change 16 to THE CELIA CRUZ BRONX HIGH SCHOOL OF MUSIC\n",
    "# change 30 to INTERNATIONAL SCHOOL OF LIBERAL ARTS\n",
    "# change 39 to MARBLE HILL HIGH SCHOOL FOR INTERNATIONAL STUDIES\n",
    "# change 45 to PS 015 INST FOR ENVIRO. LRNG.\n",
    "# drop 0, 1, 2, 3, 5, 6, 8, 14, 17, 18, 21, 22, 23, 26, 86, 82, 51, 44, 42, 37, 36, 38"
   ]
  },
  {
   "cell_type": "code",
   "execution_count": 126,
   "metadata": {},
   "outputs": [],
   "source": [
    "# web_d10[44:87]"
   ]
  },
  {
   "cell_type": "code",
   "execution_count": 127,
   "metadata": {},
   "outputs": [],
   "source": [
    "index_10 = [12, 25, 32, 29, 31, 35, 34, 41, 70, 52, 60, 61, 64, 66, 67, 68, 69, 17, 71, 72, 73, 75, 76, 77,\n",
    "           46, 79, 54, 80, 56, 78, 81, 74, 40, 43, 85, 16, 30, 39, 45]\n",
    "school_10 = ['BRONX HIGH SCHOOL OF SCIENCE', 'FORDHAM LEADERSHIP ACADEMY FOR BUSINESS AND TECHNO',\n",
    "            'I.S. 254', 'IN-TECH ACADEMY (MS/HS 368)', 'IS 206 ANN MERSEREAU', 'JHS 080 THE MOSHOLU PARKWAY',\n",
    "            'JHS 118 WILLIAM W NILES', 'MS 390', 'PS 008 ISSAC VARIAN', 'PS 024 SPUYTEN DUYVIL', \n",
    "            'PS 032 BELMONT', 'PS 033 TIMOTHY DWIGHT', 'PS 037 MULTIPLE INTELLIGENCE S', 'PS 046 EDGAR ALLAN POE',\n",
    "            'PS 051 BRONX NEW SCHOOL', 'PS 056 NORWOOD HEIGHTS', 'PS 059 THE COMM SCHOOL OF TEC', 'PS 079 CRESTON',\n",
    "            'PS 081 ROBERT J. CHRISTEN', 'PS 085 GREAT EXPECTATIONS', 'PS 086 KINGSBRIDGE HEIGHTS',\n",
    "            'PS 091 BRONX', 'PS 094 KINGS COLLEGE SCHOOL', 'PS 095 SHEILA MENCHER', 'PS 159 LUIS MUNOZ MARIN BILING',\n",
    "            'PS 20 P.O.GEORGE J. WERDAN III', 'PS 279 CAPT MANUEL RIVERA, JR', 'PS 280 MOSHOLU PARKWAY', \n",
    "            'PS 3 RAUL JULIA MICRO SOCIETY', 'PS/IS 54', 'RIVERDALE/KINGSBRIDGE ACADEMY (MS/HS 141)', \n",
    "            'RYER AVENUE ELEMENTARY SCHOOL', 'THE MARIE CURIE HIGH SCHOOL FOR MEDICINE, NURSING', \n",
    "            'THE NEW SCHOOL FOR LEADERSHIP AND JOURNALISM', 'WEST BRONX ACADEMY FOR THE FUTURE', \n",
    "            'THE CELIA CRUZ BRONX HIGH SCHOOL OF MUSIC', 'INTERNATIONAL SCHOOL OF LIBERAL ARTS',\n",
    "            'MARBLE HILL HIGH SCHOOL FOR INTERNATIONAL STUDIES', 'PS 015 INST FOR ENVIRO. LRNG.']\n",
    "for i,j in zip(index_10, school_10):\n",
    "    web_d10.at[i, 'School Name']= j"
   ]
  },
  {
   "cell_type": "code",
   "execution_count": 128,
   "metadata": {},
   "outputs": [],
   "source": [
    "school_d10.drop(index=[4, 11, 14, 19, 22, 25, 27, 30, 31, 32, 67, 69], inplace=True)\n",
    "web_d10.drop(index=[0, 1, 2, 3, 5, 6, 8, 14, 18, 21, 22, 23, 26, 86, 82, 51, 44, 42, 37,\n",
    "                   36, 38], inplace=True)"
   ]
  },
  {
   "cell_type": "code",
   "execution_count": 129,
   "metadata": {},
   "outputs": [],
   "source": [
    "school_d10.sort_values(by=['SCHOOL'], inplace=True)\n",
    "web_d10.sort_values(by=['School Name'], inplace=True)"
   ]
  },
  {
   "cell_type": "code",
   "execution_count": 130,
   "metadata": {},
   "outputs": [
    {
     "name": "stdout",
     "output_type": "stream",
     "text": [
      "63\n",
      "66\n"
     ]
    }
   ],
   "source": [
    "print(len(school_d10))\n",
    "print(len(web_d10))"
   ]
  },
  {
   "cell_type": "code",
   "execution_count": 131,
   "metadata": {},
   "outputs": [],
   "source": [
    "# web_d10[0:44]\n",
    "# change 4 to BELMONT PREPARATORY HIGH SCHOOL\n",
    "# change 7 to BRONX DANCE ACADEMY SCHOOL\n",
    "# change 9 to BRONX HIGH SCHOOL FOR LAW AND COMMUNITY SERVICE\n",
    "# change 10 to BRONX HIGH SCHOOL FOR MEDICAL SCIENCE\n",
    "# change 11 to BRONX HIGH SCHOOL OF BUSINESS\n",
    "# change 13 to BRONX SCHOOL OF LAW AND FINANCE\n",
    "# change 15 to BRONX THEATRE HIGH SCHOOL\n",
    "# change 24 to FORDHAM HIGH SCHOOL FOR THE ARTS\n",
    "# change 47 to PS 205 FIORELLO LAGUARDIA\n",
    "# change 50 to PS 226\n",
    "# change 53 to PS 246 POE CENTER\n",
    "# change 55 to PS 291\n",
    "# change 57 to PS 306\n",
    "# change 58 to PS 310 MARBLE HILL\n",
    "# change 59 to PS 315 LAB SCHOOL\n",
    "# change 62 to PS 340\n",
    "# change 63 to PS 360\n",
    "# change 65 to PS 396\n",
    "# change 83 to THEATRE ARTS PRODUCTION COMPANY SCHOOL\n",
    "# change 84 to JHS 045 THOMAS C. GIORDANO\n",
    "# drop 48, 49, 50"
   ]
  },
  {
   "cell_type": "code",
   "execution_count": 132,
   "metadata": {},
   "outputs": [],
   "source": [
    "index_d10_2 = [4, 7, 9, 10, 11, 13, 15, 24, 47, 50, 53, 55, 57, 58, 59, 62, 63, 65, 83, 84]\n",
    "school_d10_2 = ['BELMONT PREPARATORY HIGH SCHOOL', 'BRONX DANCE ACADEMY SCHOOL', \n",
    "               'BRONX HIGH SCHOOL FOR LAW AND COMMUNITY SERVICE', 'BRONX HIGH SCHOOL FOR MEDICAL SCIENCE',\n",
    "               'BRONX HIGH SCHOOL OF BUSINESS', 'BRONX SCHOOL OF LAW AND FINANCE', 'BRONX THEATRE HIGH SCHOOL',\n",
    "               'FORDHAM HIGH SCHOOL FOR THE ARTS', 'PS 205 FIORELLO LAGUARDIA', 'PS 226', 'PS 246 POE CENTER',\n",
    "               'PS 291', 'PS 306', 'PS 310 MARBLE HILL', 'PS 315 LAB SCHOOL', 'PS 340', 'PS 360', \n",
    "               'PS 396', 'THEATRE ARTS PRODUCTION COMPANY SCHOOL', 'JHS 045 THOMAS C. GIORDANO']\n",
    "for i,j in zip(index_d10_2, school_d10_2):\n",
    "    web_d10.at[i, 'School Name'] = j"
   ]
  },
  {
   "cell_type": "code",
   "execution_count": 133,
   "metadata": {},
   "outputs": [],
   "source": [
    "web_d10.drop(index=[48, 49, 50], inplace=True)"
   ]
  },
  {
   "cell_type": "code",
   "execution_count": 134,
   "metadata": {},
   "outputs": [],
   "source": [
    "school_d10.reset_index(inplace=True)\n",
    "web_d10.reset_index(inplace=True)"
   ]
  },
  {
   "cell_type": "code",
   "execution_count": 135,
   "metadata": {},
   "outputs": [],
   "source": [
    "school_d10.sort_values(by=['SCHOOL'], inplace=True)\n",
    "web_d10.sort_values(by=['School Name'], inplace=True)"
   ]
  },
  {
   "cell_type": "code",
   "execution_count": 136,
   "metadata": {},
   "outputs": [
    {
     "name": "stdout",
     "output_type": "stream",
     "text": [
      "63\n",
      "63\n"
     ]
    }
   ],
   "source": [
    "print(len(school_d10))\n",
    "print(len(web_d10))"
   ]
  },
  {
   "cell_type": "code",
   "execution_count": 137,
   "metadata": {},
   "outputs": [],
   "source": [
    "all_d10 = pd.concat([school_d10, web_d10], axis=1)"
   ]
  },
  {
   "cell_type": "code",
   "execution_count": 138,
   "metadata": {},
   "outputs": [
    {
     "data": {
      "text/plain": [
       "63"
      ]
     },
     "execution_count": 138,
     "metadata": {},
     "output_type": "execute_result"
    }
   ],
   "source": [
    "len(all_d10)"
   ]
  },
  {
   "cell_type": "code",
   "execution_count": 448,
   "metadata": {
    "scrolled": true
   },
   "outputs": [
    {
     "data": {
      "text/html": [
       "<div>\n",
       "<style scoped>\n",
       "    .dataframe tbody tr th:only-of-type {\n",
       "        vertical-align: middle;\n",
       "    }\n",
       "\n",
       "    .dataframe tbody tr th {\n",
       "        vertical-align: top;\n",
       "    }\n",
       "\n",
       "    .dataframe thead th {\n",
       "        text-align: right;\n",
       "    }\n",
       "</style>\n",
       "<table border=\"1\" class=\"dataframe\">\n",
       "  <thead>\n",
       "    <tr style=\"text-align: right;\">\n",
       "      <th></th>\n",
       "      <th>level_0</th>\n",
       "      <th>index</th>\n",
       "      <th>DBN</th>\n",
       "      <th>DISTRICT</th>\n",
       "      <th>SCHOOL</th>\n",
       "      <th>SCHOOL SUPPORT ORGANIZATION/NETWORK</th>\n",
       "      <th>PROGRESS REPORT TYPE</th>\n",
       "      <th>SCHOOL LEVEL*</th>\n",
       "      <th>PEER INDEX*</th>\n",
       "      <th>GRADE</th>\n",
       "      <th>...</th>\n",
       "      <th>PROGRESS CATEGORY SCORE</th>\n",
       "      <th>ADDITIONAL CREDIT</th>\n",
       "      <th>QUALITY REVIEW SCORE</th>\n",
       "      <th>level_0</th>\n",
       "      <th>index</th>\n",
       "      <th>School Name</th>\n",
       "      <th>Enrollment</th>\n",
       "      <th>Student-Teacher Ratio</th>\n",
       "      <th>Free-Reduced Lunch</th>\n",
       "      <th>DISTRICT</th>\n",
       "    </tr>\n",
       "  </thead>\n",
       "  <tbody>\n",
       "    <tr>\n",
       "      <td>0</td>\n",
       "      <td>0</td>\n",
       "      <td>434</td>\n",
       "      <td>10X434</td>\n",
       "      <td>10</td>\n",
       "      <td>BELMONT PREPARATORY HIGH SCHOOL</td>\n",
       "      <td>LLSO1</td>\n",
       "      <td>HS</td>\n",
       "      <td>High School</td>\n",
       "      <td>2.34</td>\n",
       "      <td>C</td>\n",
       "      <td>...</td>\n",
       "      <td>0.46</td>\n",
       "      <td>3</td>\n",
       "      <td>Proficient</td>\n",
       "      <td>12</td>\n",
       "      <td>459</td>\n",
       "      <td>BRONX HIGH SCHOOL OF SCIENCE</td>\n",
       "      <td>2,997</td>\n",
       "      <td>22.3</td>\n",
       "      <td>45.6%</td>\n",
       "      <td>10</td>\n",
       "    </tr>\n",
       "  </tbody>\n",
       "</table>\n",
       "<p>1 rows × 23 columns</p>\n",
       "</div>"
      ],
      "text/plain": [
       "  level_0 index     DBN DISTRICT                           SCHOOL  \\\n",
       "0       0   434  10X434       10  BELMONT PREPARATORY HIGH SCHOOL   \n",
       "\n",
       "  SCHOOL SUPPORT ORGANIZATION/NETWORK PROGRESS REPORT TYPE SCHOOL LEVEL*  \\\n",
       "0                               LLSO1                   HS   High School   \n",
       "\n",
       "   PEER INDEX*  GRADE  ... PROGRESS CATEGORY SCORE ADDITIONAL CREDIT  \\\n",
       "0         2.34      C  ...                    0.46                 3   \n",
       "\n",
       "  QUALITY REVIEW SCORE level_0 index                   School Name  \\\n",
       "0           Proficient      12   459  BRONX HIGH SCHOOL OF SCIENCE   \n",
       "\n",
       "   Enrollment  Student-Teacher Ratio Free-Reduced Lunch DISTRICT  \n",
       "0       2,997                   22.3              45.6%       10  \n",
       "\n",
       "[1 rows x 23 columns]"
      ]
     },
     "execution_count": 448,
     "metadata": {},
     "output_type": "execute_result"
    }
   ],
   "source": [
    "all_d10.head(1)"
   ]
  },
  {
   "cell_type": "code",
   "execution_count": 449,
   "metadata": {},
   "outputs": [],
   "source": [
    "all_d10.drop(columns=['School Name', 'index', 'DBN', 'SCHOOL SUPPORT ORGANIZATION/NETWORK', \n",
    "                    'PROGRESS REPORT TYPE', 'DISTRICT', 'level_0'], inplace=True)"
   ]
  },
  {
   "cell_type": "markdown",
   "metadata": {},
   "source": [
    "### District 11"
   ]
  },
  {
   "cell_type": "code",
   "execution_count": 139,
   "metadata": {},
   "outputs": [
    {
     "name": "stdout",
     "output_type": "stream",
     "text": [
      "42\n",
      "62\n"
     ]
    }
   ],
   "source": [
    "print(len(df_school[df_school['DISTRICT']==11]))\n",
    "print(len(df_web[df_web['DISTRICT']==11]))"
   ]
  },
  {
   "cell_type": "code",
   "execution_count": 140,
   "metadata": {},
   "outputs": [],
   "source": [
    "school_d11 = df_school[df_school['DISTRICT']==11].sort_values(by=['SCHOOL'])\n",
    "web_d11 = df_web[df_web['DISTRICT']==11].sort_values(by=['School Name'])"
   ]
  },
  {
   "cell_type": "code",
   "execution_count": 141,
   "metadata": {},
   "outputs": [],
   "source": [
    "school_d11.reset_index(inplace=True)\n",
    "web_d11.reset_index(inplace=True)"
   ]
  },
  {
   "cell_type": "code",
   "execution_count": 142,
   "metadata": {},
   "outputs": [],
   "source": [
    "# school_d11\n",
    "# drop 4, 6, 7, 13, 40, 41, "
   ]
  },
  {
   "cell_type": "code",
   "execution_count": 143,
   "metadata": {},
   "outputs": [],
   "source": [
    "# web_d11[0:44]\n",
    "# change 22 to I S 181 PABLO CASALS\n",
    "# change 23 to JHS 127 THE CASTLE HILL\n",
    "# change 24 to JHS 144 MICHELANGELO\n",
    "# change 28 to I S 180 DANIEL HALE WILLIAMS\n",
    "# change 35 to PS 103 HECTOR FONTANEZ\n",
    "# change 36 to PS 105 SEN ABRAHAM BERNSTEIN\n",
    "# change 37 to PS 106 PARKCHESTER\n",
    "# change 38 to PS 108 PHILIP J ABINANTI\n",
    "# change 39 to PS 111 SETON FALLS\n",
    "# change 40 to PS 112 BRONXWOOD\n",
    "# change 41 to PS 121 THROOP\n",
    "# change 44 to PS 160 WALT DISNEY\n",
    "# change 45 to PS 175 CITY ISLAND\n",
    "# change 46 to PS 178 DR SELMAN WAXMAN\n",
    "# change 42 to PS. 153 HELLEN KELLER\n",
    "# change 56 to PS 096 RICHARD RODGERS\n",
    "# change 55 to PS 089 BRONX\n",
    "# change 54 to PS 087 BRONX\n",
    "# change 57 to PS 097 BRONX\n",
    "# change 50 to PS 068 BRONX\n",
    "# change 49 to PS 041 GUN HILL RD\n",
    "# change 58 to P.S./I.S. 194\n",
    "# change 43 to PS 016 WAKEFIELD\n",
    "# change 47 to PS 019 JUDITH K. WEISS\n",
    "# change 48 to PS 021 PHILLIP H SHERIDAN\n",
    "# change 51 to PS 076 THE BENNINGTON SCHOOL\n",
    "# change 52 to PS 078 ANNE HUTCHINSON\n",
    "# change 53 to PS 083 DONALD HERTZ\n",
    "# drop 0, 2, 3, 6, 7, 8, 10, 11, 12, 13, 14, 16, 17, 20, 21, 25, 26, 27, 29, 30, 31, 32, \n",
    "# 33, 59, 60, 61"
   ]
  },
  {
   "cell_type": "code",
   "execution_count": 144,
   "metadata": {},
   "outputs": [],
   "source": [
    "index_11 = [22, 23, 24, 28, 35, 36, 37, 38, 39, 40, 41, 44, 45, 46, 42, 56, 55, 54, 57, 50,\n",
    "           49, 58, 43, 47, 48, 51, 52, 53]\n",
    "school_11 = ['I S 181 PABLO CASALS', 'JHS 127 THE CASTLE HILL', 'JHS 144 MICHELANGELO',\n",
    "            'I S 180 DANIEL HALE WILLIAMS', 'PS 103 HECTOR FONTANEZ', 'PS 105 SEN ABRAHAM BERNSTEIN',\n",
    "            'PS 106 PARKCHESTER', 'PS 108 PHILIP J ABINANTI', 'PS 111 SETON FALLS', 'PS 112 BRONXWOOD',\n",
    "            'PS 121 THROOP', 'PS 160 WALT DISNEY', 'PS 175 CITY ISLAND', 'PS 178 DR SELMAN WAXMAN',\n",
    "            'PS. 153 HELLEN KELLER', 'PS 096 RICHARD RODGERS', 'PS 089 BRONX', 'PS 087 BRONX',\n",
    "            'PS 097 BRONX', 'PS 068 BRONX', 'PS 041 GUN HILL RD', 'P.S./I.S. 194', 'PS 016 WAKEFIELD',\n",
    "            'PS 019 JUDITH K. WEISS', 'PS 021 PHILLIP H SHERIDAN', 'PS 076 THE BENNINGTON SCHOOL',\n",
    "            'PS 078 ANNE HUTCHINSON', 'PS 083 DONALD HERTZ']\n",
    "for i,j in zip(index_11, school_11):\n",
    "    web_d11.at[i, 'School Name'] = j"
   ]
  },
  {
   "cell_type": "code",
   "execution_count": 145,
   "metadata": {},
   "outputs": [],
   "source": [
    "school_d11.drop(index=[4, 6, 7, 13, 40, 41], inplace=True)\n",
    "web_d11.drop(index=[0, 2, 3, 6, 7, 8, 10, 11, 12, 13, 14, 16, 17, 20, 21, 25, 26, 27, 29, 30, 31, 32, \n",
    "                    33, 59, 60, 61], inplace=True)"
   ]
  },
  {
   "cell_type": "code",
   "execution_count": 146,
   "metadata": {},
   "outputs": [
    {
     "name": "stdout",
     "output_type": "stream",
     "text": [
      "36\n",
      "36\n"
     ]
    }
   ],
   "source": [
    "print(len(school_d11))\n",
    "print(len(web_d11))"
   ]
  },
  {
   "cell_type": "code",
   "execution_count": 147,
   "metadata": {},
   "outputs": [],
   "source": [
    "school_d11.reset_index(inplace=True)\n",
    "web_d11.reset_index(inplace=True)"
   ]
  },
  {
   "cell_type": "code",
   "execution_count": 148,
   "metadata": {},
   "outputs": [],
   "source": [
    "school_d11.sort_values(by=['SCHOOL'], inplace=True)\n",
    "web_d11.sort_values(by=['School Name'], inplace=True)"
   ]
  },
  {
   "cell_type": "code",
   "execution_count": 149,
   "metadata": {},
   "outputs": [],
   "source": [
    "all_d11 = pd.concat([school_d11, web_d11], axis=1)"
   ]
  },
  {
   "cell_type": "code",
   "execution_count": 150,
   "metadata": {},
   "outputs": [
    {
     "data": {
      "text/plain": [
       "36"
      ]
     },
     "execution_count": 150,
     "metadata": {},
     "output_type": "execute_result"
    }
   ],
   "source": [
    "len(all_d11)"
   ]
  },
  {
   "cell_type": "code",
   "execution_count": 450,
   "metadata": {},
   "outputs": [
    {
     "data": {
      "text/html": [
       "<div>\n",
       "<style scoped>\n",
       "    .dataframe tbody tr th:only-of-type {\n",
       "        vertical-align: middle;\n",
       "    }\n",
       "\n",
       "    .dataframe tbody tr th {\n",
       "        vertical-align: top;\n",
       "    }\n",
       "\n",
       "    .dataframe thead th {\n",
       "        text-align: right;\n",
       "    }\n",
       "</style>\n",
       "<table border=\"1\" class=\"dataframe\">\n",
       "  <thead>\n",
       "    <tr style=\"text-align: right;\">\n",
       "      <th></th>\n",
       "      <th>level_0</th>\n",
       "      <th>index</th>\n",
       "      <th>DBN</th>\n",
       "      <th>DISTRICT</th>\n",
       "      <th>SCHOOL</th>\n",
       "      <th>SCHOOL SUPPORT ORGANIZATION/NETWORK</th>\n",
       "      <th>PROGRESS REPORT TYPE</th>\n",
       "      <th>SCHOOL LEVEL*</th>\n",
       "      <th>PEER INDEX*</th>\n",
       "      <th>GRADE</th>\n",
       "      <th>...</th>\n",
       "      <th>PROGRESS CATEGORY SCORE</th>\n",
       "      <th>ADDITIONAL CREDIT</th>\n",
       "      <th>QUALITY REVIEW SCORE</th>\n",
       "      <th>level_0</th>\n",
       "      <th>index</th>\n",
       "      <th>School Name</th>\n",
       "      <th>Enrollment</th>\n",
       "      <th>Student-Teacher Ratio</th>\n",
       "      <th>Free-Reduced Lunch</th>\n",
       "      <th>DISTRICT</th>\n",
       "    </tr>\n",
       "  </thead>\n",
       "  <tbody>\n",
       "    <tr>\n",
       "      <td>0</td>\n",
       "      <td>0</td>\n",
       "      <td>481</td>\n",
       "      <td>11X299</td>\n",
       "      <td>11</td>\n",
       "      <td>ASTOR COLLEGIATE ACADEMY</td>\n",
       "      <td>LLSO2</td>\n",
       "      <td>HS</td>\n",
       "      <td>High School</td>\n",
       "      <td>2.64</td>\n",
       "      <td>A</td>\n",
       "      <td>...</td>\n",
       "      <td>0.4</td>\n",
       "      <td>7.5</td>\n",
       "      <td>Proficient</td>\n",
       "      <td>1</td>\n",
       "      <td>575</td>\n",
       "      <td>Astor Collegiate Academy</td>\n",
       "      <td>470</td>\n",
       "      <td>15.6</td>\n",
       "      <td>74.3%</td>\n",
       "      <td>11</td>\n",
       "    </tr>\n",
       "  </tbody>\n",
       "</table>\n",
       "<p>1 rows × 23 columns</p>\n",
       "</div>"
      ],
      "text/plain": [
       "  level_0 index     DBN DISTRICT                    SCHOOL  \\\n",
       "0       0   481  11X299       11  ASTOR COLLEGIATE ACADEMY   \n",
       "\n",
       "  SCHOOL SUPPORT ORGANIZATION/NETWORK PROGRESS REPORT TYPE SCHOOL LEVEL*  \\\n",
       "0                               LLSO2                   HS   High School   \n",
       "\n",
       "   PEER INDEX*  GRADE  ... PROGRESS CATEGORY SCORE ADDITIONAL CREDIT  \\\n",
       "0         2.64      A  ...                     0.4               7.5   \n",
       "\n",
       "  QUALITY REVIEW SCORE level_0 index               School Name  Enrollment  \\\n",
       "0           Proficient       1   575  Astor Collegiate Academy         470   \n",
       "\n",
       "   Student-Teacher Ratio Free-Reduced Lunch DISTRICT  \n",
       "0                   15.6              74.3%       11  \n",
       "\n",
       "[1 rows x 23 columns]"
      ]
     },
     "execution_count": 450,
     "metadata": {},
     "output_type": "execute_result"
    }
   ],
   "source": [
    "all_d11.head(1)"
   ]
  },
  {
   "cell_type": "code",
   "execution_count": 451,
   "metadata": {},
   "outputs": [],
   "source": [
    "all_d11.drop(columns=['School Name', 'index', 'DBN', 'SCHOOL SUPPORT ORGANIZATION/NETWORK', \n",
    "                    'PROGRESS REPORT TYPE', 'DISTRICT', 'level_0'], inplace=True)"
   ]
  },
  {
   "cell_type": "markdown",
   "metadata": {},
   "source": [
    "### District 12"
   ]
  },
  {
   "cell_type": "code",
   "execution_count": 151,
   "metadata": {},
   "outputs": [
    {
     "name": "stdout",
     "output_type": "stream",
     "text": [
      "43\n",
      "48\n"
     ]
    }
   ],
   "source": [
    "print(len(df_school[df_school['DISTRICT']==12]))\n",
    "print(len(df_web[df_web['DISTRICT']==12]))"
   ]
  },
  {
   "cell_type": "code",
   "execution_count": 152,
   "metadata": {},
   "outputs": [],
   "source": [
    "school_d12 = df_school[df_school['DISTRICT']==12].sort_values(by=['SCHOOL'])\n",
    "web_d12 = df_web[df_web['DISTRICT']==12].sort_values(by=['School Name'])"
   ]
  },
  {
   "cell_type": "code",
   "execution_count": 153,
   "metadata": {},
   "outputs": [],
   "source": [
    "school_d12.reset_index(inplace=True)\n",
    "web_d12.reset_index(inplace=True)"
   ]
  },
  {
   "cell_type": "code",
   "execution_count": 154,
   "metadata": {},
   "outputs": [],
   "source": [
    "# school_d12\n",
    "# drop 0, 6, 2, 17, 18, 20, 24, 29, 30 "
   ]
  },
  {
   "cell_type": "code",
   "execution_count": 155,
   "metadata": {},
   "outputs": [],
   "source": [
    "# web_d12\n",
    "# change 12 to IS 190\n",
    "# change 19 to IS 318 MATH SCI &TECH THRU ART\n",
    "# change 20 to JHS 098 HERMAN RIDDER\n",
    "# change 21 to KAPPA III\n",
    "# change 24 to PS 129 TWIN PARKS UPPER\n",
    "# change 39 to PS 006 WEST FARMS\n",
    "# change 35 to PS 044 DAVID C FARRAGUT\n",
    "# change 36 to PS 047 JOHN RANDOLPH\n",
    "# change 38 to PS 057 CRESCENT\n",
    "# change 40 to PS 061 FRANCISCO OLLER\n",
    "# change 41 to PS 066 SCH OF HIGHER EXPECTAT\n",
    "# change 42 to PS 067 MOHEGAN SCHOOL\n",
    "# change 27 to PS 134 GEORGE F BRISTOW\n",
    "# change 28 to PS 150 CHARLES JAMES FOX\n",
    "# change 29 to PS 195\n",
    "# change 30 to PS 196\n",
    "# change 31 to PS 198\n",
    "# change 32 to PS 211\n",
    "# change 33 to PS 212\n",
    "# change 34 to PS 214\n",
    "# change 45 to THE SCHOOL OF SCIENCE AND APPLIED LEARNING\n",
    "# drop 1, 2, 3, 4, 9, 11, 13, 14, 22, 23, 26, 37, 43, 46"
   ]
  },
  {
   "cell_type": "code",
   "execution_count": 156,
   "metadata": {},
   "outputs": [],
   "source": [
    "index_12 = [12, 19, 20, 21, 24, 39, 35, 36, 38, 40, 41, 42, 27, 28, 29, 30, 31, 32, 33,\n",
    "           34, 45]\n",
    "school_12 = ['IS 190', 'IS 318 MATH SCI &TECH THRU ART', 'JHS 098 HERMAN RIDDER', 'KAPPA III',\n",
    "            'PS 129 TWIN PARKS UPPER', 'PS 006 WEST FARMS', 'PS 044 DAVID C FARRAGUT', \n",
    "            'PS 047 JOHN RANDOLPH', 'PS 057 CRESCENT', 'PS 061 FRANCISCO OLLER', \n",
    "            'PS 066 SCH OF HIGHER EXPECTAT', 'PS 067 MOHEGAN SCHOOL', 'PS 134 GEORGE F BRISTOW',\n",
    "            'PS 150 CHARLES JAMES FOX', 'PS 195', 'PS 196', 'PS 198', 'PS 211', 'PS 212', 'PS 214',\n",
    "            'THE SCHOOL OF SCIENCE AND APPLIED LEARNING']\n",
    "for i,j in zip(index_12, school_12):\n",
    "    web_d12.at[i, 'School Name'] = j"
   ]
  },
  {
   "cell_type": "code",
   "execution_count": 157,
   "metadata": {},
   "outputs": [],
   "source": [
    "school_d12.drop(index=[0, 6, 2, 17, 18, 20, 24, 29, 30], inplace=True)\n",
    "web_d12.drop(index=[1, 2, 3, 4, 9, 11, 13, 14, 22, 23, 26, 37, 43, 46], inplace=True)"
   ]
  },
  {
   "cell_type": "code",
   "execution_count": 158,
   "metadata": {},
   "outputs": [
    {
     "name": "stdout",
     "output_type": "stream",
     "text": [
      "34\n",
      "34\n"
     ]
    }
   ],
   "source": [
    "print(len(school_d12))\n",
    "print(len(web_d12))"
   ]
  },
  {
   "cell_type": "code",
   "execution_count": 159,
   "metadata": {},
   "outputs": [],
   "source": [
    "school_d12.reset_index(inplace=True)\n",
    "web_d12.reset_index(inplace=True)"
   ]
  },
  {
   "cell_type": "code",
   "execution_count": 160,
   "metadata": {},
   "outputs": [],
   "source": [
    "school_d12.sort_values(by=['SCHOOL'], inplace=True)\n",
    "web_d12.sort_values(by=['School Name'], inplace=True)"
   ]
  },
  {
   "cell_type": "code",
   "execution_count": 161,
   "metadata": {},
   "outputs": [],
   "source": [
    "all_d12 = pd.concat([school_d12, web_d12], axis=1)"
   ]
  },
  {
   "cell_type": "code",
   "execution_count": 162,
   "metadata": {},
   "outputs": [
    {
     "data": {
      "text/plain": [
       "34"
      ]
     },
     "execution_count": 162,
     "metadata": {},
     "output_type": "execute_result"
    }
   ],
   "source": [
    "len(all_d12)"
   ]
  },
  {
   "cell_type": "code",
   "execution_count": 452,
   "metadata": {},
   "outputs": [
    {
     "data": {
      "text/html": [
       "<div>\n",
       "<style scoped>\n",
       "    .dataframe tbody tr th:only-of-type {\n",
       "        vertical-align: middle;\n",
       "    }\n",
       "\n",
       "    .dataframe tbody tr th {\n",
       "        vertical-align: top;\n",
       "    }\n",
       "\n",
       "    .dataframe thead th {\n",
       "        text-align: right;\n",
       "    }\n",
       "</style>\n",
       "<table border=\"1\" class=\"dataframe\">\n",
       "  <thead>\n",
       "    <tr style=\"text-align: right;\">\n",
       "      <th></th>\n",
       "      <th>level_0</th>\n",
       "      <th>index</th>\n",
       "      <th>DBN</th>\n",
       "      <th>DISTRICT</th>\n",
       "      <th>SCHOOL</th>\n",
       "      <th>SCHOOL SUPPORT ORGANIZATION/NETWORK</th>\n",
       "      <th>PROGRESS REPORT TYPE</th>\n",
       "      <th>SCHOOL LEVEL*</th>\n",
       "      <th>PEER INDEX*</th>\n",
       "      <th>GRADE</th>\n",
       "      <th>...</th>\n",
       "      <th>PROGRESS CATEGORY SCORE</th>\n",
       "      <th>ADDITIONAL CREDIT</th>\n",
       "      <th>QUALITY REVIEW SCORE</th>\n",
       "      <th>level_0</th>\n",
       "      <th>index</th>\n",
       "      <th>School Name</th>\n",
       "      <th>Enrollment</th>\n",
       "      <th>Student-Teacher Ratio</th>\n",
       "      <th>Free-Reduced Lunch</th>\n",
       "      <th>DISTRICT</th>\n",
       "    </tr>\n",
       "  </thead>\n",
       "  <tbody>\n",
       "    <tr>\n",
       "      <td>0</td>\n",
       "      <td>1</td>\n",
       "      <td>524</td>\n",
       "      <td>12X341</td>\n",
       "      <td>12</td>\n",
       "      <td>ACCION ACADEMY</td>\n",
       "      <td>ESO7</td>\n",
       "      <td>ESMS</td>\n",
       "      <td>Middle School</td>\n",
       "      <td>3.04</td>\n",
       "      <td>B</td>\n",
       "      <td>...</td>\n",
       "      <td>0.607</td>\n",
       "      <td>3</td>\n",
       "      <td>Undeveloped</td>\n",
       "      <td>0</td>\n",
       "      <td>626</td>\n",
       "      <td>Accion Academy</td>\n",
       "      <td>152</td>\n",
       "      <td>13.8</td>\n",
       "      <td>91.4%</td>\n",
       "      <td>12</td>\n",
       "    </tr>\n",
       "  </tbody>\n",
       "</table>\n",
       "<p>1 rows × 23 columns</p>\n",
       "</div>"
      ],
      "text/plain": [
       "  level_0 index     DBN DISTRICT          SCHOOL  \\\n",
       "0       1   524  12X341       12  ACCION ACADEMY   \n",
       "\n",
       "  SCHOOL SUPPORT ORGANIZATION/NETWORK PROGRESS REPORT TYPE  SCHOOL LEVEL*  \\\n",
       "0                                ESO7                 ESMS  Middle School   \n",
       "\n",
       "   PEER INDEX*  GRADE  ... PROGRESS CATEGORY SCORE ADDITIONAL CREDIT  \\\n",
       "0         3.04      B  ...                   0.607                 3   \n",
       "\n",
       "  QUALITY REVIEW SCORE level_0 index     School Name  Enrollment  \\\n",
       "0          Undeveloped       0   626  Accion Academy         152   \n",
       "\n",
       "   Student-Teacher Ratio Free-Reduced Lunch DISTRICT  \n",
       "0                   13.8              91.4%       12  \n",
       "\n",
       "[1 rows x 23 columns]"
      ]
     },
     "execution_count": 452,
     "metadata": {},
     "output_type": "execute_result"
    }
   ],
   "source": [
    "all_d12.head(1)"
   ]
  },
  {
   "cell_type": "code",
   "execution_count": 453,
   "metadata": {},
   "outputs": [],
   "source": [
    "all_d12.drop(columns=['School Name', 'index', 'DBN', 'SCHOOL SUPPORT ORGANIZATION/NETWORK', \n",
    "                    'PROGRESS REPORT TYPE', 'DISTRICT', 'level_0'], inplace=True)"
   ]
  },
  {
   "cell_type": "markdown",
   "metadata": {},
   "source": [
    "### District 13"
   ]
  },
  {
   "cell_type": "code",
   "execution_count": 163,
   "metadata": {},
   "outputs": [
    {
     "name": "stdout",
     "output_type": "stream",
     "text": [
      "36\n",
      "40\n"
     ]
    }
   ],
   "source": [
    "print(len(df_school[df_school['DISTRICT']==13]))\n",
    "print(len(df_web[df_web['DISTRICT']==13]))"
   ]
  },
  {
   "cell_type": "code",
   "execution_count": 164,
   "metadata": {},
   "outputs": [],
   "source": [
    "school_d13 = df_school[df_school['DISTRICT']==13].sort_values(by=['SCHOOL'])\n",
    "web_d13 = df_web[df_web['DISTRICT']==13].sort_values(by=['School Name'])"
   ]
  },
  {
   "cell_type": "code",
   "execution_count": 165,
   "metadata": {},
   "outputs": [],
   "source": [
    "school_d13.reset_index(inplace=True)\n",
    "web_d13.reset_index(inplace=True)"
   ]
  },
  {
   "cell_type": "code",
   "execution_count": 166,
   "metadata": {},
   "outputs": [],
   "source": [
    "# school_d13\n",
    "# drop 0, 10, 6, 12, 32, 33, 35"
   ]
  },
  {
   "cell_type": "code",
   "execution_count": 167,
   "metadata": {},
   "outputs": [],
   "source": [
    "# web_d13\n",
    "# change 11 to JHS 265 SUSAN S. MCKINNEY\n",
    "# change 14 to JHS 113/OLD 294 EDMONDS CNTR\n",
    "# change 15 to MS 266 PARK PLACE COMM. MS\n",
    "# change 23 to PS 003 THE BEDFORD VILLAGE\n",
    "# change 16 to PS 011 PURVIS J BEHAN\n",
    "# change 17 to PS 133 WILLIAM A BUTLER\n",
    "# change 18 to PS 020 CLINTON HILL\n",
    "# change 19 to PS 256 BENJAMIN BANNEKER\n",
    "# change 20 to PS 270 JOHANN DEKALB\n",
    "# change 21 to PS 282 PARK SLOPE\n",
    "# change 22 to PS 287 BAILEY K ASHFORD\n",
    "# change 24 to PS 305 DR PETER RAY\n",
    "# change 25 to PS 307 DANIEL HALE WILLIAMS\n",
    "# change 26 to PS 044 MARCUS GARVEY\n",
    "# change 27 to PS 046 EDWARD C BLUM\n",
    "# change 28 to PS 054 SAMUEL C BARNES\n",
    "# change 29 to PS 056 LEWIS H LATIMER\n",
    "# change 30 to PS 067 CHARLES A DORSEY\n",
    "# change 31 to PS 008 ROBERT FULTON\n",
    "# change 32 to PS 009 TEUNIS G BERGEN\n",
    "# change 33 to PS 093 WILLIAM H PRESCOTT\n",
    "# drop 0, 4, 5, 8, 9, 10, 12, 36, 37, 38, 39"
   ]
  },
  {
   "cell_type": "code",
   "execution_count": 168,
   "metadata": {},
   "outputs": [],
   "source": [
    "index_13 = [11, 14, 15, 23, 16, 17, 18, 19, 20, 21, 22, 24, 25, 26, 27, 28, 29, 30, 31, 32, 33]\n",
    "school_13 = ['JHS 265 SUSAN S. MCKINNEY', 'JHS 113/OLD 294 EDMONDS CNTR', 'MS 266 PARK PLACE COMM. MS', \n",
    "            'PS 003 THE BEDFORD VILLAGE', 'PS 011 PURVIS J BEHAN', 'PS 133 WILLIAM A BUTLER', \n",
    "            'PS 020 CLINTON HILL', 'PS 256 BENJAMIN BANNEKER', 'PS 270 JOHANN DEKALB', 'PS 282 PARK SLOPE',\n",
    "            'PS 287 BAILEY K ASHFORD', 'PS 305 DR PETER RAY', 'PS 307 DANIEL HALE WILLIAMS', \n",
    "            'PS 044 MARCUS GARVEY','PS 046 EDWARD C BLUM', 'PS 054 SAMUEL C BARNES', 'PS 056 LEWIS H LATIMER', \n",
    "            'PS 067 CHARLES A DORSEY', 'PS 008 ROBERT FULTON', 'PS 009 TEUNIS G BERGEN', \n",
    "            'PS 093 WILLIAM H PRESCOTT']\n",
    "for i,j in zip(index_13, school_13):\n",
    "    web_d13.at[i, 'School Name'] = j"
   ]
  },
  {
   "cell_type": "code",
   "execution_count": 169,
   "metadata": {},
   "outputs": [],
   "source": [
    "school_d13.drop(index=[0, 10, 6, 12, 32, 33, 35], inplace=True)\n",
    "web_d13.drop(index=[0, 4, 5, 8, 9, 10, 12, 36, 37, 38, 39], inplace=True)"
   ]
  },
  {
   "cell_type": "code",
   "execution_count": 170,
   "metadata": {},
   "outputs": [
    {
     "name": "stdout",
     "output_type": "stream",
     "text": [
      "29\n",
      "29\n"
     ]
    }
   ],
   "source": [
    "print(len(school_d13))\n",
    "print(len(web_d13))"
   ]
  },
  {
   "cell_type": "code",
   "execution_count": 171,
   "metadata": {},
   "outputs": [],
   "source": [
    "school_d13.reset_index(inplace=True)\n",
    "web_d13.reset_index(inplace=True)"
   ]
  },
  {
   "cell_type": "code",
   "execution_count": 172,
   "metadata": {},
   "outputs": [],
   "source": [
    "school_d13.sort_values(by=['SCHOOL'], inplace=True)\n",
    "web_d13.sort_values(by=['School Name'], inplace=True)"
   ]
  },
  {
   "cell_type": "code",
   "execution_count": 173,
   "metadata": {},
   "outputs": [],
   "source": [
    "all_d13 = pd.concat([school_d13, web_d13], axis=1)"
   ]
  },
  {
   "cell_type": "code",
   "execution_count": 174,
   "metadata": {},
   "outputs": [
    {
     "data": {
      "text/plain": [
       "29"
      ]
     },
     "execution_count": 174,
     "metadata": {},
     "output_type": "execute_result"
    }
   ],
   "source": [
    "len(all_d13)"
   ]
  },
  {
   "cell_type": "code",
   "execution_count": 454,
   "metadata": {},
   "outputs": [
    {
     "data": {
      "text/html": [
       "<div>\n",
       "<style scoped>\n",
       "    .dataframe tbody tr th:only-of-type {\n",
       "        vertical-align: middle;\n",
       "    }\n",
       "\n",
       "    .dataframe tbody tr th {\n",
       "        vertical-align: top;\n",
       "    }\n",
       "\n",
       "    .dataframe thead th {\n",
       "        text-align: right;\n",
       "    }\n",
       "</style>\n",
       "<table border=\"1\" class=\"dataframe\">\n",
       "  <thead>\n",
       "    <tr style=\"text-align: right;\">\n",
       "      <th></th>\n",
       "      <th>level_0</th>\n",
       "      <th>index</th>\n",
       "      <th>DBN</th>\n",
       "      <th>DISTRICT</th>\n",
       "      <th>SCHOOL</th>\n",
       "      <th>SCHOOL SUPPORT ORGANIZATION/NETWORK</th>\n",
       "      <th>PROGRESS REPORT TYPE</th>\n",
       "      <th>SCHOOL LEVEL*</th>\n",
       "      <th>PEER INDEX*</th>\n",
       "      <th>GRADE</th>\n",
       "      <th>...</th>\n",
       "      <th>PROGRESS CATEGORY SCORE</th>\n",
       "      <th>ADDITIONAL CREDIT</th>\n",
       "      <th>QUALITY REVIEW SCORE</th>\n",
       "      <th>level_0</th>\n",
       "      <th>index</th>\n",
       "      <th>School Name</th>\n",
       "      <th>Enrollment</th>\n",
       "      <th>Student-Teacher Ratio</th>\n",
       "      <th>Free-Reduced Lunch</th>\n",
       "      <th>DISTRICT</th>\n",
       "    </tr>\n",
       "  </thead>\n",
       "  <tbody>\n",
       "    <tr>\n",
       "      <td>0</td>\n",
       "      <td>1</td>\n",
       "      <td>568</td>\n",
       "      <td>13K595</td>\n",
       "      <td>13</td>\n",
       "      <td>BEDFORD ACADEMY HIGH SCHOOL</td>\n",
       "      <td>ESO8</td>\n",
       "      <td>HS</td>\n",
       "      <td>High School</td>\n",
       "      <td>3.03</td>\n",
       "      <td>A</td>\n",
       "      <td>...</td>\n",
       "      <td>1.113</td>\n",
       "      <td>0</td>\n",
       "      <td>Well-Developed</td>\n",
       "      <td>1</td>\n",
       "      <td>671</td>\n",
       "      <td>Bedford Academy High School</td>\n",
       "      <td>368</td>\n",
       "      <td>16.7</td>\n",
       "      <td>73.4%</td>\n",
       "      <td>13</td>\n",
       "    </tr>\n",
       "  </tbody>\n",
       "</table>\n",
       "<p>1 rows × 23 columns</p>\n",
       "</div>"
      ],
      "text/plain": [
       "  level_0 index     DBN DISTRICT                       SCHOOL  \\\n",
       "0       1   568  13K595       13  BEDFORD ACADEMY HIGH SCHOOL   \n",
       "\n",
       "  SCHOOL SUPPORT ORGANIZATION/NETWORK PROGRESS REPORT TYPE SCHOOL LEVEL*  \\\n",
       "0                                ESO8                   HS   High School   \n",
       "\n",
       "   PEER INDEX*  GRADE  ... PROGRESS CATEGORY SCORE ADDITIONAL CREDIT  \\\n",
       "0         3.03      A  ...                   1.113                 0   \n",
       "\n",
       "  QUALITY REVIEW SCORE level_0 index                  School Name  Enrollment  \\\n",
       "0       Well-Developed       1   671  Bedford Academy High School         368   \n",
       "\n",
       "   Student-Teacher Ratio Free-Reduced Lunch DISTRICT  \n",
       "0                   16.7              73.4%       13  \n",
       "\n",
       "[1 rows x 23 columns]"
      ]
     },
     "execution_count": 454,
     "metadata": {},
     "output_type": "execute_result"
    }
   ],
   "source": [
    "all_d13.head(1)"
   ]
  },
  {
   "cell_type": "code",
   "execution_count": 455,
   "metadata": {},
   "outputs": [],
   "source": [
    "all_d13.drop(columns=['School Name', 'index', 'DBN', 'SCHOOL SUPPORT ORGANIZATION/NETWORK', \n",
    "                    'PROGRESS REPORT TYPE', 'DISTRICT', 'level_0'], inplace=True)"
   ]
  },
  {
   "cell_type": "markdown",
   "metadata": {},
   "source": [
    "### District 14"
   ]
  },
  {
   "cell_type": "code",
   "execution_count": 175,
   "metadata": {},
   "outputs": [
    {
     "name": "stdout",
     "output_type": "stream",
     "text": [
      "31\n",
      "38\n"
     ]
    }
   ],
   "source": [
    "print(len(df_school[df_school['DISTRICT']==14]))\n",
    "print(len(df_web[df_web['DISTRICT']==14]))"
   ]
  },
  {
   "cell_type": "code",
   "execution_count": 176,
   "metadata": {},
   "outputs": [],
   "source": [
    "school_d14 = df_school[df_school['DISTRICT']==14].sort_values(by=['SCHOOL'])\n",
    "web_d14 = df_web[df_web['DISTRICT']==14].sort_values(by=['School Name'])"
   ]
  },
  {
   "cell_type": "code",
   "execution_count": 177,
   "metadata": {},
   "outputs": [],
   "source": [
    "school_d14.reset_index(inplace=True)\n",
    "web_d14.reset_index(inplace=True)"
   ]
  },
  {
   "cell_type": "code",
   "execution_count": 178,
   "metadata": {},
   "outputs": [],
   "source": [
    "# school_d14\n",
    "# drop 29, 30, 12, "
   ]
  },
  {
   "cell_type": "code",
   "execution_count": 179,
   "metadata": {},
   "outputs": [],
   "source": [
    "# web_d14\n",
    "# change 7 to THE HIGH SCHOOL FOR ENTERPRISE, BUSINESS, AND TECH\n",
    "# change 8 to JHS 318 EUGENIO MARIA DEHOSTOS\n",
    "# change 9 to JHS 126 JOHN ERICSSON\n",
    "# change 11 to JHS 050 JOHN D WELLS\n",
    "# change 13 to MS 582\n",
    "# change 15 to PS 110 THE MONITOR\n",
    "# change 16 to PS 120 CARLOS TAPIA\n",
    "# change 17 to PS 132 CONSELYA\n",
    "# change 18 to PS 147 ISSAC REMSEN\n",
    "# change 19 to PS 016 LEONARD DUNKLY\n",
    "# change 20 to PS 017 HENRY D WOODWORTH\n",
    "# change 21 to PS 018 EDWARD BUSH\n",
    "# change 22 to PS 196 TEN EYCK\n",
    "# change 23 to PS 023 CARTER C WOODSON\n",
    "# change 24 to PS 250 GEORGE H LINDSAY\n",
    "# change 25 to PS 257 JOHN F HYLAN\n",
    "# change 26 to PS 297 ABRAHAM STOCKTON\n",
    "# change 27 to PS 031 SAMUEL F DUPONT\n",
    "# change 29 to PS 034 OLIVER H PERRY\n",
    "# change 30 to PS 380 JOHN WAYNE ELEM.\n",
    "# change 31 to PS 059 WILLIAM FLOYD\n",
    "# change 32 to PS 084 JOSE DE DIEGO\n",
    "# change 33 to PS 157 BENJAMIN FRANKLIN\n",
    "# drop 1, 2, 3, 5, 12, 28, 34, 35, 36, 37"
   ]
  },
  {
   "cell_type": "code",
   "execution_count": 180,
   "metadata": {},
   "outputs": [],
   "source": [
    "index_14 = [7, 8, 9, 11, 13, 15, 16, 17, 18, 19, 20, 21, 22, 23, 24, 25, 26, 27, 29, 30, 31, 32, 33]\n",
    "school_14 = ['THE HIGH SCHOOL FOR ENTERPRISE, BUSINESS, AND TECH', 'JHS 318 EUGENIO MARIA DEHOSTOS', \n",
    "            'JHS 126 JOHN ERICSSON', 'JHS 050 JOHN D WELLS', 'MS 582', 'PS 110 THE MONITOR', \n",
    "            'PS 120 CARLOS TAPIA', 'PS 132 CONSELYA', 'PS 147 ISSAC REMSEN', 'PS 016 LEONARD DUNKLY',\n",
    "            'PS 017 HENRY D WOODWORTH', 'PS 018 EDWARD BUSH', 'PS 196 TEN EYCK', 'PS 023 CARTER C WOODSON',\n",
    "            'PS 250 GEORGE H LINDSAY', 'PS 257 JOHN F HYLAN', 'PS 297 ABRAHAM STOCKTON', 'PS 031 SAMUEL F DUPONT',\n",
    "            'PS 034 OLIVER H PERRY', 'PS 380 JOHN WAYNE ELEM.', 'PS 059 WILLIAM FLOYD', 'PS 084 JOSE DE DIEGO', \n",
    "            'PS 157 BENJAMIN FRANKLIN']\n",
    "for i,j in zip(index_14, school_14):\n",
    "    web_d14.at[i, 'School Name'] = j"
   ]
  },
  {
   "cell_type": "code",
   "execution_count": 181,
   "metadata": {},
   "outputs": [],
   "source": [
    "school_d14.drop(index=[29, 30, 12], inplace=True)\n",
    "web_d14.drop(index=[1, 2, 3, 5, 12, 28, 34, 35, 36, 37], inplace=True)"
   ]
  },
  {
   "cell_type": "code",
   "execution_count": 182,
   "metadata": {},
   "outputs": [
    {
     "name": "stdout",
     "output_type": "stream",
     "text": [
      "28\n",
      "28\n"
     ]
    }
   ],
   "source": [
    "print(len(school_d14))\n",
    "print(len(web_d14))"
   ]
  },
  {
   "cell_type": "code",
   "execution_count": 183,
   "metadata": {},
   "outputs": [],
   "source": [
    "school_d14.reset_index(inplace=True)\n",
    "web_d14.reset_index(inplace=True)"
   ]
  },
  {
   "cell_type": "code",
   "execution_count": 184,
   "metadata": {},
   "outputs": [],
   "source": [
    "school_d14.sort_values(by=['SCHOOL'], inplace=True)\n",
    "web_d14.sort_values(by=['School Name'], inplace=True)"
   ]
  },
  {
   "cell_type": "code",
   "execution_count": 185,
   "metadata": {},
   "outputs": [],
   "source": [
    "all_d14 = pd.concat([school_d14, web_d14], axis=1)"
   ]
  },
  {
   "cell_type": "code",
   "execution_count": 186,
   "metadata": {},
   "outputs": [
    {
     "data": {
      "text/plain": [
       "28"
      ]
     },
     "execution_count": 186,
     "metadata": {},
     "output_type": "execute_result"
    }
   ],
   "source": [
    "len(all_d14)"
   ]
  },
  {
   "cell_type": "code",
   "execution_count": 456,
   "metadata": {},
   "outputs": [
    {
     "data": {
      "text/html": [
       "<div>\n",
       "<style scoped>\n",
       "    .dataframe tbody tr th:only-of-type {\n",
       "        vertical-align: middle;\n",
       "    }\n",
       "\n",
       "    .dataframe tbody tr th {\n",
       "        vertical-align: top;\n",
       "    }\n",
       "\n",
       "    .dataframe thead th {\n",
       "        text-align: right;\n",
       "    }\n",
       "</style>\n",
       "<table border=\"1\" class=\"dataframe\">\n",
       "  <thead>\n",
       "    <tr style=\"text-align: right;\">\n",
       "      <th></th>\n",
       "      <th>level_0</th>\n",
       "      <th>index</th>\n",
       "      <th>DBN</th>\n",
       "      <th>DISTRICT</th>\n",
       "      <th>SCHOOL</th>\n",
       "      <th>SCHOOL SUPPORT ORGANIZATION/NETWORK</th>\n",
       "      <th>PROGRESS REPORT TYPE</th>\n",
       "      <th>SCHOOL LEVEL*</th>\n",
       "      <th>PEER INDEX*</th>\n",
       "      <th>GRADE</th>\n",
       "      <th>...</th>\n",
       "      <th>PROGRESS CATEGORY SCORE</th>\n",
       "      <th>ADDITIONAL CREDIT</th>\n",
       "      <th>QUALITY REVIEW SCORE</th>\n",
       "      <th>level_0</th>\n",
       "      <th>index</th>\n",
       "      <th>School Name</th>\n",
       "      <th>Enrollment</th>\n",
       "      <th>Student-Teacher Ratio</th>\n",
       "      <th>Free-Reduced Lunch</th>\n",
       "      <th>DISTRICT</th>\n",
       "    </tr>\n",
       "  </thead>\n",
       "  <tbody>\n",
       "    <tr>\n",
       "      <td>0</td>\n",
       "      <td>0</td>\n",
       "      <td>600</td>\n",
       "      <td>14K610</td>\n",
       "      <td>14</td>\n",
       "      <td>AUTOMOTIVE HIGH SCHOOL</td>\n",
       "      <td>ESO9</td>\n",
       "      <td>HS</td>\n",
       "      <td>High School</td>\n",
       "      <td>2.41</td>\n",
       "      <td>F</td>\n",
       "      <td>...</td>\n",
       "      <td>0.291</td>\n",
       "      <td>0</td>\n",
       "      <td>Proficient</td>\n",
       "      <td>0</td>\n",
       "      <td>685</td>\n",
       "      <td>Automotive High School</td>\n",
       "      <td>404</td>\n",
       "      <td>10.9</td>\n",
       "      <td>80.4%</td>\n",
       "      <td>14</td>\n",
       "    </tr>\n",
       "  </tbody>\n",
       "</table>\n",
       "<p>1 rows × 23 columns</p>\n",
       "</div>"
      ],
      "text/plain": [
       "  level_0 index     DBN DISTRICT                  SCHOOL  \\\n",
       "0       0   600  14K610       14  AUTOMOTIVE HIGH SCHOOL   \n",
       "\n",
       "  SCHOOL SUPPORT ORGANIZATION/NETWORK PROGRESS REPORT TYPE SCHOOL LEVEL*  \\\n",
       "0                                ESO9                   HS   High School   \n",
       "\n",
       "   PEER INDEX*  GRADE  ... PROGRESS CATEGORY SCORE ADDITIONAL CREDIT  \\\n",
       "0         2.41      F  ...                   0.291                 0   \n",
       "\n",
       "  QUALITY REVIEW SCORE level_0 index             School Name  Enrollment  \\\n",
       "0           Proficient       0   685  Automotive High School         404   \n",
       "\n",
       "   Student-Teacher Ratio Free-Reduced Lunch DISTRICT  \n",
       "0                   10.9              80.4%       14  \n",
       "\n",
       "[1 rows x 23 columns]"
      ]
     },
     "execution_count": 456,
     "metadata": {},
     "output_type": "execute_result"
    }
   ],
   "source": [
    "all_d14.head(1)"
   ]
  },
  {
   "cell_type": "code",
   "execution_count": 457,
   "metadata": {},
   "outputs": [],
   "source": [
    "all_d14.drop(columns=['School Name', 'index', 'DBN', 'SCHOOL SUPPORT ORGANIZATION/NETWORK', \n",
    "                    'PROGRESS REPORT TYPE', 'DISTRICT', 'level_0'], inplace=True)"
   ]
  },
  {
   "cell_type": "markdown",
   "metadata": {},
   "source": [
    "### District 15"
   ]
  },
  {
   "cell_type": "code",
   "execution_count": 187,
   "metadata": {},
   "outputs": [
    {
     "name": "stdout",
     "output_type": "stream",
     "text": [
      "46\n",
      "47\n"
     ]
    }
   ],
   "source": [
    "print(len(df_school[df_school['DISTRICT']==15]))\n",
    "print(len(df_web[df_web['DISTRICT']==15]))"
   ]
  },
  {
   "cell_type": "code",
   "execution_count": 188,
   "metadata": {},
   "outputs": [],
   "source": [
    "school_d15 = df_school[df_school['DISTRICT']==15].sort_values(by=['SCHOOL'])\n",
    "web_d15 = df_web[df_web['DISTRICT']==15].sort_values(by=['School Name'])"
   ]
  },
  {
   "cell_type": "code",
   "execution_count": 189,
   "metadata": {},
   "outputs": [],
   "source": [
    "school_d15.reset_index(inplace=True)\n",
    "web_d15.reset_index(inplace=True)"
   ]
  },
  {
   "cell_type": "code",
   "execution_count": 190,
   "metadata": {},
   "outputs": [],
   "source": [
    "# school_d15\n",
    "# drop 0, 1, 3, 4, 10, 11, 13, 36, 37, 39, 40, 41, 42"
   ]
  },
  {
   "cell_type": "code",
   "execution_count": 191,
   "metadata": {},
   "outputs": [],
   "source": [
    "# web_d15\n",
    "# change 1 to BROOKLYN SECONDARY SCHOOL FOR COLLABORATIVE STUDIES\n",
    "# change 4 to PS 146\n",
    "# change 7 to IS 136 CHARLES O DEWEY\n",
    "# change 9 to JHS 088 PETER ROUGET\n",
    "# change 11 to MAGNET SCH. OF MATH, SCI. AND DESIGN TECHNOLOGY\n",
    "# change 15 to MS 51 WILLIAM ALEXANDER\n",
    "# change 20 to PS 001 THE BERGEN\n",
    "# change 25 to PS 015 PATRICK F. DALY\n",
    "# change 29 to PS 024\n",
    "# change 31 to PS 029 JOHN M HARRIGAN\n",
    "# change 33 to PS 032 SAMUELS MILLS SPROLE\n",
    "# change 35 to PS 038 THE PACIFIC\n",
    "# change 36 to PS 039 HENRY BRISTOW\n",
    "# change 37 to PS 058 THE CARROLL\n",
    "# change 38 to PS 094 THE HENRY LONGFELLOW\n",
    "# change 21 to PS 107 JOHN W KIMBALL\n",
    "# change 22 to PS 124 SILAS B DUTCHER\n",
    "# change 23 to PS 130 THE PARKSIDE\n",
    "# change 24 to PS 131 BROOKLYN\n",
    "# change 26 to PS 169 SUNSET PARK\n",
    "# change 27 to PS 172 BEACON SCH OF EXCELLEN\n",
    "# change 28 to PS 230 DORIS L COHEN\n",
    "# change 30 to PS 261 PHILIP LIVINGSTON\n",
    "# change 32 to PS 295\n",
    "# change 34 to PS 321 WILLIAM PENN\n",
    "# change 0 to SCHOOL FOR INTERNATIONAL STUDIES\n",
    "# change 12 to THE MATH & SCIENCE EXPLORATORY SCHOOL\n",
    "# drop 1, 2, 6, 8, 10, 13, 14, 16, 17, 19, 39, 42, 43, 45, 46 "
   ]
  },
  {
   "cell_type": "code",
   "execution_count": 192,
   "metadata": {},
   "outputs": [],
   "source": [
    "index_15 = [1, 4, 7, 9, 11, 15, 20, 25, 29, 31, 33, 35, 36, 37, 38, 21, 22, 23, 24, 26, 27, 28, 30, 32, 34, 0,\n",
    "           12]\n",
    "school_15 = ['BROOKLYN SECONDARY SCHOOL FOR COLLABORATIVE STUDIES', 'PS 146', 'IS 136 CHARLES O DEWEY', \n",
    "            'JHS 088 PETER ROUGET', 'MAGNET SCH. OF MATH, SCI. AND DESIGN TECHNOLOGY', 'MS 51 WILLIAM ALEXANDER',\n",
    "            'PS 001 THE BERGEN', 'PS 015 PATRICK F. DALY', 'PS 024', 'PS 029 JOHN M HARRIGAN',\n",
    "            'PS 032 SAMUELS MILLS SPROLE', 'PS 038 THE PACIFIC', 'PS 039 HENRY BRISTOW', 'PS 058 THE CARROLL', \n",
    "            'PS 094 THE HENRY LONGFELLOW', 'PS 107 JOHN W KIMBALL', 'PS 124 SILAS B DUTCHER', \n",
    "            'PS 130 THE PARKSIDE', 'PS 131 BROOKLYN', 'PS 169 SUNSET PARK', 'PS 172 BEACON SCH OF EXCELLEN',\n",
    "            'PS 230 DORIS L COHEN', 'PS 261 PHILIP LIVINGSTON', 'PS 295', 'PS 321 WILLIAM PENN', \n",
    "            'SCHOOL FOR INTERNATIONAL STUDIES', 'THE MATH & SCIENCE EXPLORATORY SCHOOL']\n",
    "for i,j in zip(index_15, school_15):\n",
    "    web_d15.at[i, 'School Name'] = j"
   ]
  },
  {
   "cell_type": "code",
   "execution_count": 193,
   "metadata": {},
   "outputs": [],
   "source": [
    "school_d15.drop(index=[0, 1, 3, 4, 10, 11, 13, 36, 37, 39, 40, 41, 42], inplace=True)\n",
    "web_d15.drop(index=[2, 6, 8, 10, 13, 14, 16, 17, 19, 39, 42, 43, 45, 46], inplace=True)"
   ]
  },
  {
   "cell_type": "code",
   "execution_count": 194,
   "metadata": {},
   "outputs": [
    {
     "name": "stdout",
     "output_type": "stream",
     "text": [
      "33\n",
      "33\n"
     ]
    }
   ],
   "source": [
    "print(len(school_d15))\n",
    "print(len(web_d15))"
   ]
  },
  {
   "cell_type": "code",
   "execution_count": 195,
   "metadata": {},
   "outputs": [],
   "source": [
    "school_d15.reset_index(inplace=True)\n",
    "web_d15.reset_index(inplace=True)"
   ]
  },
  {
   "cell_type": "code",
   "execution_count": 196,
   "metadata": {},
   "outputs": [],
   "source": [
    "school_d15.sort_values(by=['SCHOOL'], inplace=True)\n",
    "web_d15.sort_values(by=['School Name'], inplace=True)"
   ]
  },
  {
   "cell_type": "code",
   "execution_count": 197,
   "metadata": {},
   "outputs": [],
   "source": [
    "all_d15 = pd.concat([school_d15, web_d15], axis=1)"
   ]
  },
  {
   "cell_type": "code",
   "execution_count": 198,
   "metadata": {
    "scrolled": true
   },
   "outputs": [
    {
     "data": {
      "text/plain": [
       "33"
      ]
     },
     "execution_count": 198,
     "metadata": {},
     "output_type": "execute_result"
    }
   ],
   "source": [
    "len(all_d15)"
   ]
  },
  {
   "cell_type": "code",
   "execution_count": 458,
   "metadata": {
    "scrolled": true
   },
   "outputs": [
    {
     "data": {
      "text/html": [
       "<div>\n",
       "<style scoped>\n",
       "    .dataframe tbody tr th:only-of-type {\n",
       "        vertical-align: middle;\n",
       "    }\n",
       "\n",
       "    .dataframe tbody tr th {\n",
       "        vertical-align: top;\n",
       "    }\n",
       "\n",
       "    .dataframe thead th {\n",
       "        text-align: right;\n",
       "    }\n",
       "</style>\n",
       "<table border=\"1\" class=\"dataframe\">\n",
       "  <thead>\n",
       "    <tr style=\"text-align: right;\">\n",
       "      <th></th>\n",
       "      <th>level_0</th>\n",
       "      <th>index</th>\n",
       "      <th>DBN</th>\n",
       "      <th>DISTRICT</th>\n",
       "      <th>SCHOOL</th>\n",
       "      <th>SCHOOL SUPPORT ORGANIZATION/NETWORK</th>\n",
       "      <th>PROGRESS REPORT TYPE</th>\n",
       "      <th>SCHOOL LEVEL*</th>\n",
       "      <th>PEER INDEX*</th>\n",
       "      <th>GRADE</th>\n",
       "      <th>...</th>\n",
       "      <th>PROGRESS CATEGORY SCORE</th>\n",
       "      <th>ADDITIONAL CREDIT</th>\n",
       "      <th>QUALITY REVIEW SCORE</th>\n",
       "      <th>level_0</th>\n",
       "      <th>index</th>\n",
       "      <th>School Name</th>\n",
       "      <th>Enrollment</th>\n",
       "      <th>Student-Teacher Ratio</th>\n",
       "      <th>Free-Reduced Lunch</th>\n",
       "      <th>DISTRICT</th>\n",
       "    </tr>\n",
       "  </thead>\n",
       "  <tbody>\n",
       "    <tr>\n",
       "      <td>0</td>\n",
       "      <td>2</td>\n",
       "      <td>645</td>\n",
       "      <td>15K656</td>\n",
       "      <td>15</td>\n",
       "      <td>BROOKLYN HIGH SCHOOL OF THE ARTS</td>\n",
       "      <td>ESO12</td>\n",
       "      <td>HS</td>\n",
       "      <td>High School</td>\n",
       "      <td>2.90</td>\n",
       "      <td>C</td>\n",
       "      <td>...</td>\n",
       "      <td>0.257</td>\n",
       "      <td>6</td>\n",
       "      <td>Well-Developed</td>\n",
       "      <td>0</td>\n",
       "      <td>750</td>\n",
       "      <td>SCHOOL FOR INTERNATIONAL STUDIES</td>\n",
       "      <td>633</td>\n",
       "      <td>14.3</td>\n",
       "      <td>57.5%</td>\n",
       "      <td>15</td>\n",
       "    </tr>\n",
       "  </tbody>\n",
       "</table>\n",
       "<p>1 rows × 23 columns</p>\n",
       "</div>"
      ],
      "text/plain": [
       "  level_0 index     DBN DISTRICT                            SCHOOL  \\\n",
       "0       2   645  15K656       15  BROOKLYN HIGH SCHOOL OF THE ARTS   \n",
       "\n",
       "  SCHOOL SUPPORT ORGANIZATION/NETWORK PROGRESS REPORT TYPE SCHOOL LEVEL*  \\\n",
       "0                               ESO12                   HS   High School   \n",
       "\n",
       "   PEER INDEX*  GRADE  ... PROGRESS CATEGORY SCORE ADDITIONAL CREDIT  \\\n",
       "0         2.90      C  ...                   0.257                 6   \n",
       "\n",
       "  QUALITY REVIEW SCORE level_0 index                       School Name  \\\n",
       "0       Well-Developed       0   750  SCHOOL FOR INTERNATIONAL STUDIES   \n",
       "\n",
       "   Enrollment  Student-Teacher Ratio Free-Reduced Lunch DISTRICT  \n",
       "0         633                   14.3              57.5%       15  \n",
       "\n",
       "[1 rows x 23 columns]"
      ]
     },
     "execution_count": 458,
     "metadata": {},
     "output_type": "execute_result"
    }
   ],
   "source": [
    "all_d15.head(1)"
   ]
  },
  {
   "cell_type": "code",
   "execution_count": 459,
   "metadata": {},
   "outputs": [],
   "source": [
    "all_d15.drop(columns=['School Name', 'index', 'DBN', 'SCHOOL SUPPORT ORGANIZATION/NETWORK', \n",
    "                    'PROGRESS REPORT TYPE', 'DISTRICT', 'level_0'], inplace=True)"
   ]
  },
  {
   "cell_type": "markdown",
   "metadata": {},
   "source": [
    "### District 16"
   ]
  },
  {
   "cell_type": "code",
   "execution_count": 199,
   "metadata": {},
   "outputs": [
    {
     "name": "stdout",
     "output_type": "stream",
     "text": [
      "20\n",
      "24\n"
     ]
    }
   ],
   "source": [
    "print(len(df_school[df_school['DISTRICT']==16]))\n",
    "print(len(df_web[df_web['DISTRICT']==16]))"
   ]
  },
  {
   "cell_type": "code",
   "execution_count": 200,
   "metadata": {},
   "outputs": [],
   "source": [
    "school_d16 = df_school[df_school['DISTRICT']==16].sort_values(by=['SCHOOL'])\n",
    "web_d16 = df_web[df_web['DISTRICT']==16].sort_values(by=['School Name'])"
   ]
  },
  {
   "cell_type": "code",
   "execution_count": 201,
   "metadata": {},
   "outputs": [],
   "source": [
    "school_d16.reset_index(inplace=True)\n",
    "web_d16.reset_index(inplace=True)"
   ]
  },
  {
   "cell_type": "code",
   "execution_count": 202,
   "metadata": {},
   "outputs": [],
   "source": [
    "# school_d16\n",
    "# drop 1, 4, 15, 19"
   ]
  },
  {
   "cell_type": "code",
   "execution_count": 203,
   "metadata": {},
   "outputs": [],
   "source": [
    "# web_d16\n",
    "# change 6 to JHS 057 WHITELAW REID\n",
    "# change 8 to MS 267 MATH, SCIENCE & TECH.\n",
    "# change 9 to PS 035 STEPHEN DECATUR\n",
    "# change 11 to PS 021 CRISPUS ATTUCKS\n",
    "# change 12 to PS 243 WEEKSVILLE\n",
    "# change 13 to PS 025 EUBIE BLAKE SCHOOL\n",
    "# change 14 to PS 026 JESSE OWENS\n",
    "# change 15 to PS 262 EL HAJJ MALIK SHABAZZ\n",
    "# change 16 to PS 028 THE WARREN\n",
    "# change 17 to PS 308 CLARA CARDWELL\n",
    "# change 18 to PS 309 GEORGE E WIBECAN\n",
    "# change 19 to PS 335 GRANVILLE T WOODS\n",
    "# change 20 to PS 040 GEORGE W CARVER\n",
    "# change 21 to PS 005 DR. RONALD MCNAIR\n",
    "# change 22 to PS 081 THADDEUS STEVENS\n",
    "# drop 1, 2, 3, 4, 5, 7, 10, 23"
   ]
  },
  {
   "cell_type": "code",
   "execution_count": 204,
   "metadata": {},
   "outputs": [],
   "source": [
    "index_16 = [6, 8, 9, 11, 12, 13, 14, 15, 16, 17, 18, 19, 20, 21, 22]\n",
    "school_16 = ['JHS 057 WHITELAW REID', 'MS 267 MATH, SCIENCE & TECH.', 'PS 035 STEPHEN DECATUR', 'PS 021 CRISPUS ATTUCKS',\n",
    "            'PS 243 WEEKSVILLE', 'PS 025 EUBIE BLAKE SCHOOL', 'PS 026 JESSE OWENS', 'PS 262 EL HAJJ MALIK SHABAZZ', \n",
    "            'PS 028 THE WARREN', 'PS 308 CLARA CARDWELL', 'PS 309 GEORGE E WIBECAN', 'PS 335 GRANVILLE T WOODS',\n",
    "            'PS 040 GEORGE W CARVER', 'PS 005 DR. RONALD MCNAIR', 'PS 081 THADDEUS STEVENS']\n",
    "for i,j in zip(index_16, school_16):\n",
    "    web_d16.at[i, 'School Name'] = j"
   ]
  },
  {
   "cell_type": "code",
   "execution_count": 205,
   "metadata": {},
   "outputs": [],
   "source": [
    "school_d16.drop(index=[1, 4, 15, 19], inplace=True)\n",
    "web_d16.drop(index=[1, 2, 3, 4, 5, 7, 10, 23], inplace=True)"
   ]
  },
  {
   "cell_type": "code",
   "execution_count": 206,
   "metadata": {},
   "outputs": [
    {
     "name": "stdout",
     "output_type": "stream",
     "text": [
      "16\n",
      "16\n"
     ]
    }
   ],
   "source": [
    "print(len(school_d16))\n",
    "print(len(web_d16))"
   ]
  },
  {
   "cell_type": "code",
   "execution_count": 207,
   "metadata": {},
   "outputs": [],
   "source": [
    "school_d16.reset_index(inplace=True)\n",
    "web_d16.reset_index(inplace=True)"
   ]
  },
  {
   "cell_type": "code",
   "execution_count": 208,
   "metadata": {},
   "outputs": [],
   "source": [
    "school_d16.sort_values(by=['SCHOOL'], inplace=True)\n",
    "web_d16.sort_values(by=['School Name'], inplace=True)"
   ]
  },
  {
   "cell_type": "code",
   "execution_count": 209,
   "metadata": {},
   "outputs": [],
   "source": [
    "all_d16 = pd.concat([school_d16, web_d16], axis=1)"
   ]
  },
  {
   "cell_type": "code",
   "execution_count": 210,
   "metadata": {},
   "outputs": [
    {
     "data": {
      "text/plain": [
       "16"
      ]
     },
     "execution_count": 210,
     "metadata": {},
     "output_type": "execute_result"
    }
   ],
   "source": [
    "len(all_d16)"
   ]
  },
  {
   "cell_type": "code",
   "execution_count": 460,
   "metadata": {},
   "outputs": [
    {
     "data": {
      "text/html": [
       "<div>\n",
       "<style scoped>\n",
       "    .dataframe tbody tr th:only-of-type {\n",
       "        vertical-align: middle;\n",
       "    }\n",
       "\n",
       "    .dataframe tbody tr th {\n",
       "        vertical-align: top;\n",
       "    }\n",
       "\n",
       "    .dataframe thead th {\n",
       "        text-align: right;\n",
       "    }\n",
       "</style>\n",
       "<table border=\"1\" class=\"dataframe\">\n",
       "  <thead>\n",
       "    <tr style=\"text-align: right;\">\n",
       "      <th></th>\n",
       "      <th>level_0</th>\n",
       "      <th>index</th>\n",
       "      <th>DBN</th>\n",
       "      <th>DISTRICT</th>\n",
       "      <th>SCHOOL</th>\n",
       "      <th>SCHOOL SUPPORT ORGANIZATION/NETWORK</th>\n",
       "      <th>PROGRESS REPORT TYPE</th>\n",
       "      <th>SCHOOL LEVEL*</th>\n",
       "      <th>PEER INDEX*</th>\n",
       "      <th>GRADE</th>\n",
       "      <th>...</th>\n",
       "      <th>PROGRESS CATEGORY SCORE</th>\n",
       "      <th>ADDITIONAL CREDIT</th>\n",
       "      <th>QUALITY REVIEW SCORE</th>\n",
       "      <th>level_0</th>\n",
       "      <th>index</th>\n",
       "      <th>School Name</th>\n",
       "      <th>Enrollment</th>\n",
       "      <th>Student-Teacher Ratio</th>\n",
       "      <th>Free-Reduced Lunch</th>\n",
       "      <th>DISTRICT</th>\n",
       "    </tr>\n",
       "  </thead>\n",
       "  <tbody>\n",
       "    <tr>\n",
       "      <td>0</td>\n",
       "      <td>0</td>\n",
       "      <td>666</td>\n",
       "      <td>16K455</td>\n",
       "      <td>16</td>\n",
       "      <td>BOYS AND GIRLS HIGH SCHOOL</td>\n",
       "      <td>CLSO7</td>\n",
       "      <td>HS</td>\n",
       "      <td>High School</td>\n",
       "      <td>2.44</td>\n",
       "      <td>C</td>\n",
       "      <td>...</td>\n",
       "      <td>0.512</td>\n",
       "      <td>0</td>\n",
       "      <td>Proficient</td>\n",
       "      <td>0</td>\n",
       "      <td>769</td>\n",
       "      <td>Boys And Girls High School</td>\n",
       "      <td>412</td>\n",
       "      <td>13.7</td>\n",
       "      <td>79.6%</td>\n",
       "      <td>16</td>\n",
       "    </tr>\n",
       "  </tbody>\n",
       "</table>\n",
       "<p>1 rows × 23 columns</p>\n",
       "</div>"
      ],
      "text/plain": [
       "  level_0 index     DBN DISTRICT                      SCHOOL  \\\n",
       "0       0   666  16K455       16  BOYS AND GIRLS HIGH SCHOOL   \n",
       "\n",
       "  SCHOOL SUPPORT ORGANIZATION/NETWORK PROGRESS REPORT TYPE SCHOOL LEVEL*  \\\n",
       "0                               CLSO7                   HS   High School   \n",
       "\n",
       "   PEER INDEX*  GRADE  ... PROGRESS CATEGORY SCORE ADDITIONAL CREDIT  \\\n",
       "0         2.44      C  ...                   0.512                 0   \n",
       "\n",
       "  QUALITY REVIEW SCORE level_0 index                 School Name  Enrollment  \\\n",
       "0           Proficient       0   769  Boys And Girls High School         412   \n",
       "\n",
       "   Student-Teacher Ratio Free-Reduced Lunch DISTRICT  \n",
       "0                   13.7              79.6%       16  \n",
       "\n",
       "[1 rows x 23 columns]"
      ]
     },
     "execution_count": 460,
     "metadata": {},
     "output_type": "execute_result"
    }
   ],
   "source": [
    "all_d16.head(1)"
   ]
  },
  {
   "cell_type": "code",
   "execution_count": 461,
   "metadata": {},
   "outputs": [],
   "source": [
    "all_d16.drop(columns=['School Name', 'index', 'DBN', 'SCHOOL SUPPORT ORGANIZATION/NETWORK', \n",
    "                    'PROGRESS REPORT TYPE', 'DISTRICT', 'level_0'], inplace=True)"
   ]
  },
  {
   "cell_type": "markdown",
   "metadata": {},
   "source": [
    "### District 17"
   ]
  },
  {
   "cell_type": "code",
   "execution_count": 211,
   "metadata": {},
   "outputs": [
    {
     "name": "stdout",
     "output_type": "stream",
     "text": [
      "42\n",
      "48\n"
     ]
    }
   ],
   "source": [
    "print(len(df_school[df_school['DISTRICT']==17]))\n",
    "print(len(df_web[df_web['DISTRICT']==17]))"
   ]
  },
  {
   "cell_type": "code",
   "execution_count": 212,
   "metadata": {},
   "outputs": [],
   "source": [
    "school_d17 = df_school[df_school['DISTRICT']==17].sort_values(by=['SCHOOL'])\n",
    "web_d17 = df_web[df_web['DISTRICT']==17].sort_values(by=['School Name'])"
   ]
  },
  {
   "cell_type": "code",
   "execution_count": 213,
   "metadata": {},
   "outputs": [],
   "source": [
    "school_d17.reset_index(inplace=True)\n",
    "web_d17.reset_index(inplace=True)"
   ]
  },
  {
   "cell_type": "code",
   "execution_count": 214,
   "metadata": {},
   "outputs": [],
   "source": [
    "# school_d17\n",
    "# drop 7, 10, 13, 14, 15, 17, 18, 19, 20, 25, 37, 41"
   ]
  },
  {
   "cell_type": "code",
   "execution_count": 215,
   "metadata": {},
   "outputs": [],
   "source": [
    "# web_d17\n",
    "# change 15 to HIGH SCHOOL FOR PUBLIC SERVICE: HEROES OF TOMORROW\n",
    "# change 17 to IS 340\n",
    "# change 19 to IS 246 WALT WHITMAN\n",
    "# change 18 to MEDGAR EVERS PREPARATORY SCHOOL AT MEDGAR EVERS CO\n",
    "# change 20 to MS 394K\n",
    "# change 21 to M S 061 GLADSTONE H. ATWELL\n",
    "# change 31 to PS 191 PAUL ROBESON\n",
    "# change 27 to PS 138 BROOKLYN\n",
    "# change 28 to PS 161 THE CROWN\n",
    "# change 29 to PS 181 BROOKLYN\n",
    "# change 30 to PS 189 LINCOLN TERRACE\n",
    "# change 32 to PS 221 TOSSAINT L'OUVERTURE\n",
    "# change 33 to PS 241 EMMA L JOHNSTON\n",
    "# change 35 to PS 289 GEORGE V BROWER\n",
    "# change 36 to PS 316 ELIJAH STROUD\n",
    "# change 37 to PS 375 JACKIE-ROBINSON SCHOOL\n",
    "# change 38 to PS 397 FOSTER-LAURIE\n",
    "# change 39 to PS 398 WALTER WEAVER\n",
    "# change 40 to PS 399 STANLEY EUGENE CLARK\n",
    "# change 42 to PS 091 THE ALBANY AVE. SCHOOL\n",
    "# change 43 to PS 092 ADRIAN HEGEMAN\n",
    "# change 45 to THE SCHOOL FOR HUMAN RIGHTS\n",
    "# change 46 to THE SCHOOL OF INTEGRATED LEARNING\n",
    "# change 47 to SCIENCE,TECHNOLOGY AND RESEARCH EARLY COLLEGE HIGH\n",
    "# drop 0, 1, 2, 4, 5, 9, 12, 13, 14, 16, 22, 23, 24, 25, 26, 34, 41, 44"
   ]
  },
  {
   "cell_type": "code",
   "execution_count": 216,
   "metadata": {},
   "outputs": [],
   "source": [
    "index_17 = [15, 17, 19, 18, 20, 21, 31, 27, 28, 29, 30, 32, 33, 35, 36, 37, 38, 39, 40, 42, 43, 45, 46, 47]\n",
    "school_17 = ['HIGH SCHOOL FOR PUBLIC SERVICE: HEROES OF TOMORROW', 'IS 340', 'IS 246 WALT WHITMAN',\n",
    "            'MEDGAR EVERS PREPARATORY SCHOOL AT MEDGAR EVERS CO', 'MS 394K', 'M S 061 GLADSTONE H. ATWELL', \n",
    "            'PS 191 PAUL ROBESON', 'PS 138 BROOKLYN', 'PS 161 THE CROWN', 'PS 181 BROOKLYN', \n",
    "            'PS 189 LINCOLN TERRACE', 'PS 221 TOSSAINT LOUVERTURE', 'PS 241 EMMA L JOHNSTON', \n",
    "            'PS 289 GEORGE V BROWER', 'PS 316 ELIJAH STROUD', 'PS 375 JACKIE-ROBINSON SCHOOL', \n",
    "            'PS 397 FOSTER-LAURIE', 'PS 398 WALTER WEAVER', 'PS 399 STANLEY EUGENE CLARK', \n",
    "            'PS 091 THE ALBANY AVE. SCHOOL', 'PS 092 ADRIAN HEGEMAN', 'THE SCHOOL FOR HUMAN RIGHTS',\n",
    "            'THE SCHOOL OF INTEGRATED LEARNING', 'SCIENCE,TECHNOLOGY AND RESEARCH EARLY COLLEGE HIGH']\n",
    "for i,j in zip(index_17, school_17):\n",
    "    web_d17.at[i, 'School Name'] = j"
   ]
  },
  {
   "cell_type": "code",
   "execution_count": 217,
   "metadata": {},
   "outputs": [],
   "source": [
    "school_d17.drop(index=[7, 10, 13, 14, 15, 17, 18, 19, 20, 25, 37, 41], inplace=True)\n",
    "web_d17.drop(index=[0, 1, 2, 4, 5, 9, 12, 13, 14, 16, 22, 23, 24, 25, 26, 34, 41, 44], inplace=True)"
   ]
  },
  {
   "cell_type": "code",
   "execution_count": 218,
   "metadata": {},
   "outputs": [
    {
     "name": "stdout",
     "output_type": "stream",
     "text": [
      "30\n",
      "30\n"
     ]
    }
   ],
   "source": [
    "print(len(school_d17))\n",
    "print(len(web_d17))"
   ]
  },
  {
   "cell_type": "code",
   "execution_count": 219,
   "metadata": {},
   "outputs": [],
   "source": [
    "school_d17.reset_index(inplace=True)\n",
    "web_d17.reset_index(inplace=True)"
   ]
  },
  {
   "cell_type": "code",
   "execution_count": 220,
   "metadata": {},
   "outputs": [],
   "source": [
    "school_d17.sort_values(by=['SCHOOL'], inplace=True)\n",
    "web_d17.sort_values(by=['School Name'], inplace=True)"
   ]
  },
  {
   "cell_type": "code",
   "execution_count": 221,
   "metadata": {},
   "outputs": [],
   "source": [
    "all_d17 = pd.concat([school_d17, web_d17], axis=1)"
   ]
  },
  {
   "cell_type": "code",
   "execution_count": 222,
   "metadata": {},
   "outputs": [
    {
     "data": {
      "text/plain": [
       "30"
      ]
     },
     "execution_count": 222,
     "metadata": {},
     "output_type": "execute_result"
    }
   ],
   "source": [
    "len(all_d17)"
   ]
  },
  {
   "cell_type": "code",
   "execution_count": 462,
   "metadata": {},
   "outputs": [
    {
     "data": {
      "text/html": [
       "<div>\n",
       "<style scoped>\n",
       "    .dataframe tbody tr th:only-of-type {\n",
       "        vertical-align: middle;\n",
       "    }\n",
       "\n",
       "    .dataframe tbody tr th {\n",
       "        vertical-align: top;\n",
       "    }\n",
       "\n",
       "    .dataframe thead th {\n",
       "        text-align: right;\n",
       "    }\n",
       "</style>\n",
       "<table border=\"1\" class=\"dataframe\">\n",
       "  <thead>\n",
       "    <tr style=\"text-align: right;\">\n",
       "      <th></th>\n",
       "      <th>level_0</th>\n",
       "      <th>index</th>\n",
       "      <th>DBN</th>\n",
       "      <th>DISTRICT</th>\n",
       "      <th>SCHOOL</th>\n",
       "      <th>SCHOOL SUPPORT ORGANIZATION/NETWORK</th>\n",
       "      <th>PROGRESS REPORT TYPE</th>\n",
       "      <th>SCHOOL LEVEL*</th>\n",
       "      <th>PEER INDEX*</th>\n",
       "      <th>GRADE</th>\n",
       "      <th>...</th>\n",
       "      <th>PROGRESS CATEGORY SCORE</th>\n",
       "      <th>ADDITIONAL CREDIT</th>\n",
       "      <th>QUALITY REVIEW SCORE</th>\n",
       "      <th>level_0</th>\n",
       "      <th>index</th>\n",
       "      <th>School Name</th>\n",
       "      <th>Enrollment</th>\n",
       "      <th>Student-Teacher Ratio</th>\n",
       "      <th>Free-Reduced Lunch</th>\n",
       "      <th>DISTRICT</th>\n",
       "    </tr>\n",
       "  </thead>\n",
       "  <tbody>\n",
       "    <tr>\n",
       "      <td>0</td>\n",
       "      <td>0</td>\n",
       "      <td>703</td>\n",
       "      <td>17K547</td>\n",
       "      <td>17</td>\n",
       "      <td>BROOKLYN ACADEMY OF SCIENCE AND THE ENVIRONMENT</td>\n",
       "      <td>New Visions1</td>\n",
       "      <td>HS</td>\n",
       "      <td>High School</td>\n",
       "      <td>2.73</td>\n",
       "      <td>B</td>\n",
       "      <td>...</td>\n",
       "      <td>0.548</td>\n",
       "      <td>3</td>\n",
       "      <td>Proficient</td>\n",
       "      <td>3</td>\n",
       "      <td>821</td>\n",
       "      <td>Brooklyn Academy Of Science And The Environment</td>\n",
       "      <td>368</td>\n",
       "      <td>16.7</td>\n",
       "      <td>82.3%</td>\n",
       "      <td>17</td>\n",
       "    </tr>\n",
       "  </tbody>\n",
       "</table>\n",
       "<p>1 rows × 23 columns</p>\n",
       "</div>"
      ],
      "text/plain": [
       "  level_0 index     DBN DISTRICT  \\\n",
       "0       0   703  17K547       17   \n",
       "\n",
       "                                            SCHOOL  \\\n",
       "0  BROOKLYN ACADEMY OF SCIENCE AND THE ENVIRONMENT   \n",
       "\n",
       "  SCHOOL SUPPORT ORGANIZATION/NETWORK PROGRESS REPORT TYPE SCHOOL LEVEL*  \\\n",
       "0                        New Visions1                   HS   High School   \n",
       "\n",
       "   PEER INDEX*  GRADE  ... PROGRESS CATEGORY SCORE ADDITIONAL CREDIT  \\\n",
       "0         2.73      B  ...                   0.548                 3   \n",
       "\n",
       "  QUALITY REVIEW SCORE level_0 index  \\\n",
       "0           Proficient       3   821   \n",
       "\n",
       "                                       School Name  Enrollment  \\\n",
       "0  Brooklyn Academy Of Science And The Environment         368   \n",
       "\n",
       "   Student-Teacher Ratio Free-Reduced Lunch DISTRICT  \n",
       "0                   16.7              82.3%       17  \n",
       "\n",
       "[1 rows x 23 columns]"
      ]
     },
     "execution_count": 462,
     "metadata": {},
     "output_type": "execute_result"
    }
   ],
   "source": [
    "all_d17.head(1)"
   ]
  },
  {
   "cell_type": "code",
   "execution_count": 463,
   "metadata": {},
   "outputs": [],
   "source": [
    "all_d17.drop(columns=['School Name', 'index', 'DBN', 'SCHOOL SUPPORT ORGANIZATION/NETWORK', \n",
    "                    'PROGRESS REPORT TYPE', 'DISTRICT', 'level_0'], inplace=True)"
   ]
  },
  {
   "cell_type": "markdown",
   "metadata": {},
   "source": [
    "### District 18"
   ]
  },
  {
   "cell_type": "code",
   "execution_count": 223,
   "metadata": {},
   "outputs": [
    {
     "name": "stdout",
     "output_type": "stream",
     "text": [
      "17\n",
      "33\n"
     ]
    }
   ],
   "source": [
    "print(len(df_school[df_school['DISTRICT']==18]))\n",
    "print(len(df_web[df_web['DISTRICT']==18]))"
   ]
  },
  {
   "cell_type": "code",
   "execution_count": 224,
   "metadata": {},
   "outputs": [],
   "source": [
    "school_d18 = df_school[df_school['DISTRICT']==18].sort_values(by=['SCHOOL'])\n",
    "web_d18 = df_web[df_web['DISTRICT']==18].sort_values(by=['School Name'])"
   ]
  },
  {
   "cell_type": "code",
   "execution_count": 225,
   "metadata": {},
   "outputs": [],
   "source": [
    "school_d18.reset_index(inplace=True)\n",
    "web_d18.reset_index(inplace=True)"
   ]
  },
  {
   "cell_type": "code",
   "execution_count": 226,
   "metadata": {},
   "outputs": [],
   "source": [
    "# school_d18\n",
    "# drop 0, 11"
   ]
  },
  {
   "cell_type": "code",
   "execution_count": 227,
   "metadata": {},
   "outputs": [],
   "source": [
    "# web_d18\n",
    "# change 10 to IS 211 JOHN WILSON\n",
    "# change 11 to IS 285 MEYER LEVIN\n",
    "# change 12 to IS 068 ISAAC BILDERSEE\n",
    "# change 17 to PS 114 RYDER ELEMENTARY\n",
    "# change 18 to PS 115 DANIEL MUCATEL SCHOOL\n",
    "# change 19 to PS 135 SHELDON A. BROOKNER\n",
    "# change 20 to PS 208 ELSA EBELING\n",
    "# change 21 to PS 219 KENNEDY-KING\n",
    "# change 22 to PS 233 LANGSTON HUGHES\n",
    "# change 24 to PS 244 RICHARD R. GREEN\n",
    "# change 25 to PS 268 EMMA LAZARUS\n",
    "# change 26 to PS 272 CURTIS ESTABROOK\n",
    "# change 27 to PS 276 LOUIS MARSHALL\n",
    "# change 28 to PS 279 HERMAN SCHREIBER\n",
    "# change 29 to P.S. 66\n",
    "# drop 0, 1, 2, 3, 4, 5, 6, 7, 8, 9, 13, 14, 15, 16, 23, 30, 31, 32"
   ]
  },
  {
   "cell_type": "code",
   "execution_count": 228,
   "metadata": {},
   "outputs": [],
   "source": [
    "index_18 = [10, 11, 12, 17, 18, 19, 20, 21, 22, 24, 25, 26, 27, 28, 29]\n",
    "school_18 = ['IS 211 JOHN WILSON', 'IS 285 MEYER LEVIN', 'IS 068 ISAAC BILDERSEE', 'PS 114 RYDER ELEMENTARY',\n",
    "            'PS 115 DANIEL MUCATEL SCHOOL', 'PS 135 SHELDON A. BROOKNER', 'PS 208 ELSA EBELING', \n",
    "            'PS 219 KENNEDY-KING', 'PS 233 LANGSTON HUGHES', 'PS 244 RICHARD R. GREEN', 'PS 268 EMMA LAZARUS',\n",
    "            'PS 272 CURTIS ESTABROOK', 'PS 276 LOUIS MARSHALL', 'PS 279 HERMAN SCHREIBER', 'P.S. 66']\n",
    "for i,j in zip(index_18, school_18):\n",
    "    web_d18.at[i, 'School Name'] = j"
   ]
  },
  {
   "cell_type": "code",
   "execution_count": 229,
   "metadata": {},
   "outputs": [],
   "source": [
    "school_d18.drop(index=[0, 11], inplace=True)\n",
    "web_d18.drop(index=[0, 1, 2, 3, 4, 5, 6, 7, 8, 9, 13, 14, 15, 16, 23, 30, 31, 32], inplace=True)"
   ]
  },
  {
   "cell_type": "code",
   "execution_count": 230,
   "metadata": {},
   "outputs": [
    {
     "name": "stdout",
     "output_type": "stream",
     "text": [
      "15\n",
      "15\n"
     ]
    }
   ],
   "source": [
    "print(len(school_d18))\n",
    "print(len(web_d18))"
   ]
  },
  {
   "cell_type": "code",
   "execution_count": 231,
   "metadata": {},
   "outputs": [],
   "source": [
    "school_d18.reset_index(inplace=True)\n",
    "web_d18.reset_index(inplace=True)"
   ]
  },
  {
   "cell_type": "code",
   "execution_count": 232,
   "metadata": {},
   "outputs": [],
   "source": [
    "school_d18.sort_values(by=['SCHOOL'], inplace=True)\n",
    "web_d18.sort_values(by=['School Name'], inplace=True)"
   ]
  },
  {
   "cell_type": "code",
   "execution_count": 233,
   "metadata": {},
   "outputs": [],
   "source": [
    "all_d18 = pd.concat([school_d18, web_d18], axis=1)"
   ]
  },
  {
   "cell_type": "code",
   "execution_count": 234,
   "metadata": {
    "scrolled": true
   },
   "outputs": [
    {
     "data": {
      "text/plain": [
       "15"
      ]
     },
     "execution_count": 234,
     "metadata": {},
     "output_type": "execute_result"
    }
   ],
   "source": [
    "len(all_d18)"
   ]
  },
  {
   "cell_type": "code",
   "execution_count": 464,
   "metadata": {},
   "outputs": [
    {
     "data": {
      "text/html": [
       "<div>\n",
       "<style scoped>\n",
       "    .dataframe tbody tr th:only-of-type {\n",
       "        vertical-align: middle;\n",
       "    }\n",
       "\n",
       "    .dataframe tbody tr th {\n",
       "        vertical-align: top;\n",
       "    }\n",
       "\n",
       "    .dataframe thead th {\n",
       "        text-align: right;\n",
       "    }\n",
       "</style>\n",
       "<table border=\"1\" class=\"dataframe\">\n",
       "  <thead>\n",
       "    <tr style=\"text-align: right;\">\n",
       "      <th></th>\n",
       "      <th>level_0</th>\n",
       "      <th>index</th>\n",
       "      <th>DBN</th>\n",
       "      <th>DISTRICT</th>\n",
       "      <th>SCHOOL</th>\n",
       "      <th>SCHOOL SUPPORT ORGANIZATION/NETWORK</th>\n",
       "      <th>PROGRESS REPORT TYPE</th>\n",
       "      <th>SCHOOL LEVEL*</th>\n",
       "      <th>PEER INDEX*</th>\n",
       "      <th>GRADE</th>\n",
       "      <th>...</th>\n",
       "      <th>PROGRESS CATEGORY SCORE</th>\n",
       "      <th>ADDITIONAL CREDIT</th>\n",
       "      <th>QUALITY REVIEW SCORE</th>\n",
       "      <th>level_0</th>\n",
       "      <th>index</th>\n",
       "      <th>School Name</th>\n",
       "      <th>Enrollment</th>\n",
       "      <th>Student-Teacher Ratio</th>\n",
       "      <th>Free-Reduced Lunch</th>\n",
       "      <th>DISTRICT</th>\n",
       "    </tr>\n",
       "  </thead>\n",
       "  <tbody>\n",
       "    <tr>\n",
       "      <td>0</td>\n",
       "      <td>1</td>\n",
       "      <td>711</td>\n",
       "      <td>18K068</td>\n",
       "      <td>18</td>\n",
       "      <td>IS 068 ISAAC BILDERSEE</td>\n",
       "      <td>ICI3</td>\n",
       "      <td>ESMS</td>\n",
       "      <td>Middle School</td>\n",
       "      <td>2.95</td>\n",
       "      <td>C</td>\n",
       "      <td>...</td>\n",
       "      <td>0.443</td>\n",
       "      <td>3</td>\n",
       "      <td>Proficient</td>\n",
       "      <td>10</td>\n",
       "      <td>846</td>\n",
       "      <td>IS 211 JOHN WILSON</td>\n",
       "      <td>521</td>\n",
       "      <td>15.3</td>\n",
       "      <td>83.9%</td>\n",
       "      <td>18</td>\n",
       "    </tr>\n",
       "  </tbody>\n",
       "</table>\n",
       "<p>1 rows × 23 columns</p>\n",
       "</div>"
      ],
      "text/plain": [
       "  level_0 index     DBN DISTRICT                  SCHOOL  \\\n",
       "0       1   711  18K068       18  IS 068 ISAAC BILDERSEE   \n",
       "\n",
       "  SCHOOL SUPPORT ORGANIZATION/NETWORK PROGRESS REPORT TYPE  SCHOOL LEVEL*  \\\n",
       "0                                ICI3                 ESMS  Middle School   \n",
       "\n",
       "   PEER INDEX*  GRADE  ... PROGRESS CATEGORY SCORE ADDITIONAL CREDIT  \\\n",
       "0         2.95      C  ...                   0.443                 3   \n",
       "\n",
       "  QUALITY REVIEW SCORE level_0 index         School Name  Enrollment  \\\n",
       "0           Proficient      10   846  IS 211 JOHN WILSON         521   \n",
       "\n",
       "   Student-Teacher Ratio Free-Reduced Lunch DISTRICT  \n",
       "0                   15.3              83.9%       18  \n",
       "\n",
       "[1 rows x 23 columns]"
      ]
     },
     "execution_count": 464,
     "metadata": {},
     "output_type": "execute_result"
    }
   ],
   "source": [
    "all_d18.head(1)"
   ]
  },
  {
   "cell_type": "code",
   "execution_count": 465,
   "metadata": {},
   "outputs": [],
   "source": [
    "all_d18.drop(columns=['School Name', 'index', 'DBN', 'SCHOOL SUPPORT ORGANIZATION/NETWORK', \n",
    "                    'PROGRESS REPORT TYPE', 'DISTRICT', 'level_0'], inplace=True)"
   ]
  },
  {
   "cell_type": "markdown",
   "metadata": {},
   "source": [
    "### District 19"
   ]
  },
  {
   "cell_type": "code",
   "execution_count": 235,
   "metadata": {},
   "outputs": [
    {
     "name": "stdout",
     "output_type": "stream",
     "text": [
      "35\n",
      "48\n"
     ]
    }
   ],
   "source": [
    "print(len(df_school[df_school['DISTRICT']==19]))\n",
    "print(len(df_web[df_web['DISTRICT']==19]))"
   ]
  },
  {
   "cell_type": "code",
   "execution_count": 236,
   "metadata": {},
   "outputs": [],
   "source": [
    "school_d19 = df_school[df_school['DISTRICT']==19].sort_values(by=['SCHOOL'])\n",
    "web_d19 = df_web[df_web['DISTRICT']==19].sort_values(by=['School Name'])"
   ]
  },
  {
   "cell_type": "code",
   "execution_count": 237,
   "metadata": {},
   "outputs": [],
   "source": [
    "school_d19.reset_index(inplace=True)\n",
    "web_d19.reset_index(inplace=True)"
   ]
  },
  {
   "cell_type": "code",
   "execution_count": 238,
   "metadata": {},
   "outputs": [],
   "source": [
    "# school_d19\n",
    "# drop 1, 2, 3, 6, 9, 12, 13, 19, 25"
   ]
  },
  {
   "cell_type": "code",
   "execution_count": 239,
   "metadata": {},
   "outputs": [],
   "source": [
    "# web_d19\n",
    "# change 13 to I S 171 ABRAHAM LINCOLN\n",
    "# change 14 to I S 364 GATEWAY\n",
    "# change 15 to JHS 218 JAMES P SINNOTT\n",
    "# change 16 to JHS 292 MARGARET S DOUGLAS\n",
    "# change 20 to PS 108 SAL ABBRACCIAMENTO\n",
    "# change 21 to PS 013 ROBERTO CLEMENTE\n",
    "# change 22 to PS 149 DANNY KAYE\n",
    "# change 23 to PS 158 WARWICK\n",
    "# change 24 to PS 159 ISAAC PITKIN\n",
    "# change 25 to PS 190 SHEFFIELD\n",
    "# change 26 to PS 202 ERNEST S JENKYNS\n",
    "# change 27 to PS 213 NEW LOTS\n",
    "# change 28 to PS 214 MICHAEL FRIEDSAM\n",
    "# change 29 to PS 224 HALE A WOODRUFF\n",
    "# change 30 to PS 273 WORTMAN\n",
    "# change 31 to PS 290 JUAN MOREL CAMPOS\n",
    "# change 32 to PS 306 ETHAN ALLEN\n",
    "# change 33 to PS 328 PHYLLIS WHEATLEY\n",
    "# change 34 to PS 345 PATROLMAN ROBERT BOLDEN\n",
    "# change 35 to PS 346 ABE STARK\n",
    "# change 36 to PS 65\n",
    "# change 37 to PS 007 ABRAHAM LINCOLN\n",
    "# change 38 to PS 089 CYPRESS HILLS\n",
    "# change 42 to TRANSIT TECH CAREER AND TECHNICAL EDUCATION HIGH S\n",
    "# change 46 to W. H. MAXWELL CAREER AND TECHNICAL EDUCATION HIGH\n",
    "# drop 0, 1, 2, 3, 4, 5, 6, 8, 9, 10, 11, 12, 17, 18, 19, 39, 40, 41,  43, 44, 45, 47"
   ]
  },
  {
   "cell_type": "code",
   "execution_count": 240,
   "metadata": {},
   "outputs": [],
   "source": [
    "index_19 = [13, 14, 15, 16, 20, 21, 22, 23, 24, 25, 26, 27, 28, 29, 30, 31, 32, 33, 34, 35, 36, 37, 38, 42, 46]\n",
    "school_19 = ['I S 171 ABRAHAM LINCOLN', 'I S 364 GATEWAY', 'JHS 218 JAMES P SINNOTT', \n",
    "             'JHS 292 MARGARET S DOUGLAS', 'PS 108 SAL ABBRACCIAMENTO', 'PS 013 ROBERTO CLEMENTE', \n",
    "             'PS 149 DANNY KAYE', 'PS 158 WARWICK', 'PS 159 ISAAC PITKIN', 'PS 190 SHEFFIELD', \n",
    "             'PS 202 ERNEST S JENKYNS', 'PS 213 NEW LOTS', 'PS 214 MICHAEL FRIEDSAM', 'PS 224 HALE A WOODRUFF',\n",
    "             'PS 273 WORTMAN', 'PS 290 JUAN MOREL CAMPOS', 'PS 306 ETHAN ALLEN', 'PS 328 PHYLLIS WHEATLEY', \n",
    "             'PS 345 PATROLMAN ROBERT BOLDEN', 'PS 346 ABE STARK', 'PS 65', 'PS 007 ABRAHAM LINCOLN', \n",
    "             'PS 089 CYPRESS HILLS', 'TRANSIT TECH CAREER AND TECHNICAL EDUCATION HIGH S', \n",
    "             'W. H. MAXWELL CAREER AND TECHNICAL EDUCATION HIGH']\n",
    "for i,j in zip(index_19, school_19):\n",
    "    web_d19.at[i, 'School Name'] = j"
   ]
  },
  {
   "cell_type": "code",
   "execution_count": 241,
   "metadata": {},
   "outputs": [],
   "source": [
    "school_d19.drop(index=[1, 2, 3, 6, 9, 12, 13, 19, 25], inplace=True)\n",
    "web_d19.drop(index=[0, 1, 2, 3, 4, 5, 6, 8, 9, 10, 11, 12, 17, 18, 19, 39, 40, 41,  43, 44, 45, 47], inplace=True)"
   ]
  },
  {
   "cell_type": "code",
   "execution_count": 242,
   "metadata": {},
   "outputs": [
    {
     "name": "stdout",
     "output_type": "stream",
     "text": [
      "26\n",
      "26\n"
     ]
    }
   ],
   "source": [
    "print(len(school_d19))\n",
    "print(len(web_d19))"
   ]
  },
  {
   "cell_type": "code",
   "execution_count": 243,
   "metadata": {},
   "outputs": [],
   "source": [
    "school_d19.reset_index(inplace=True)\n",
    "web_d19.reset_index(inplace=True)"
   ]
  },
  {
   "cell_type": "code",
   "execution_count": 244,
   "metadata": {},
   "outputs": [],
   "source": [
    "school_d19.sort_values(by=['SCHOOL'], inplace=True)\n",
    "web_d19.sort_values(by=['School Name'], inplace=True)"
   ]
  },
  {
   "cell_type": "code",
   "execution_count": 245,
   "metadata": {},
   "outputs": [],
   "source": [
    "all_d19 = pd.concat([school_d19, web_d19], axis=1)"
   ]
  },
  {
   "cell_type": "code",
   "execution_count": 246,
   "metadata": {},
   "outputs": [
    {
     "data": {
      "text/plain": [
       "26"
      ]
     },
     "execution_count": 246,
     "metadata": {},
     "output_type": "execute_result"
    }
   ],
   "source": [
    "len(all_d19)"
   ]
  },
  {
   "cell_type": "code",
   "execution_count": 466,
   "metadata": {},
   "outputs": [
    {
     "data": {
      "text/html": [
       "<div>\n",
       "<style scoped>\n",
       "    .dataframe tbody tr th:only-of-type {\n",
       "        vertical-align: middle;\n",
       "    }\n",
       "\n",
       "    .dataframe tbody tr th {\n",
       "        vertical-align: top;\n",
       "    }\n",
       "\n",
       "    .dataframe thead th {\n",
       "        text-align: right;\n",
       "    }\n",
       "</style>\n",
       "<table border=\"1\" class=\"dataframe\">\n",
       "  <thead>\n",
       "    <tr style=\"text-align: right;\">\n",
       "      <th></th>\n",
       "      <th>level_0</th>\n",
       "      <th>index</th>\n",
       "      <th>DBN</th>\n",
       "      <th>DISTRICT</th>\n",
       "      <th>SCHOOL</th>\n",
       "      <th>SCHOOL SUPPORT ORGANIZATION/NETWORK</th>\n",
       "      <th>PROGRESS REPORT TYPE</th>\n",
       "      <th>SCHOOL LEVEL*</th>\n",
       "      <th>PEER INDEX*</th>\n",
       "      <th>GRADE</th>\n",
       "      <th>...</th>\n",
       "      <th>PROGRESS CATEGORY SCORE</th>\n",
       "      <th>ADDITIONAL CREDIT</th>\n",
       "      <th>QUALITY REVIEW SCORE</th>\n",
       "      <th>level_0</th>\n",
       "      <th>index</th>\n",
       "      <th>School Name</th>\n",
       "      <th>Enrollment</th>\n",
       "      <th>Student-Teacher Ratio</th>\n",
       "      <th>Free-Reduced Lunch</th>\n",
       "      <th>DISTRICT</th>\n",
       "    </tr>\n",
       "  </thead>\n",
       "  <tbody>\n",
       "    <tr>\n",
       "      <td>0</td>\n",
       "      <td>0</td>\n",
       "      <td>755</td>\n",
       "      <td>19K409</td>\n",
       "      <td>19</td>\n",
       "      <td>EAST NEW YORK FAMILY ACADEMY</td>\n",
       "      <td>ESO9</td>\n",
       "      <td>ESMS</td>\n",
       "      <td>Middle School</td>\n",
       "      <td>3.49</td>\n",
       "      <td>A</td>\n",
       "      <td>...</td>\n",
       "      <td>0.538</td>\n",
       "      <td>0</td>\n",
       "      <td>Well-Developed</td>\n",
       "      <td>7</td>\n",
       "      <td>874</td>\n",
       "      <td>East New York Family Academy</td>\n",
       "      <td>501</td>\n",
       "      <td>12.0</td>\n",
       "      <td>87.6%</td>\n",
       "      <td>19</td>\n",
       "    </tr>\n",
       "  </tbody>\n",
       "</table>\n",
       "<p>1 rows × 23 columns</p>\n",
       "</div>"
      ],
      "text/plain": [
       "  level_0 index     DBN DISTRICT                        SCHOOL  \\\n",
       "0       0   755  19K409       19  EAST NEW YORK FAMILY ACADEMY   \n",
       "\n",
       "  SCHOOL SUPPORT ORGANIZATION/NETWORK PROGRESS REPORT TYPE  SCHOOL LEVEL*  \\\n",
       "0                                ESO9                 ESMS  Middle School   \n",
       "\n",
       "   PEER INDEX*  GRADE  ... PROGRESS CATEGORY SCORE ADDITIONAL CREDIT  \\\n",
       "0         3.49      A  ...                   0.538                 0   \n",
       "\n",
       "  QUALITY REVIEW SCORE level_0 index                   School Name  \\\n",
       "0       Well-Developed       7   874  East New York Family Academy   \n",
       "\n",
       "   Enrollment  Student-Teacher Ratio Free-Reduced Lunch DISTRICT  \n",
       "0         501                   12.0              87.6%       19  \n",
       "\n",
       "[1 rows x 23 columns]"
      ]
     },
     "execution_count": 466,
     "metadata": {},
     "output_type": "execute_result"
    }
   ],
   "source": [
    "all_d19.head(1)"
   ]
  },
  {
   "cell_type": "code",
   "execution_count": 467,
   "metadata": {},
   "outputs": [],
   "source": [
    "all_d19.drop(columns=['School Name', 'index', 'DBN', 'SCHOOL SUPPORT ORGANIZATION/NETWORK', \n",
    "                    'PROGRESS REPORT TYPE', 'DISTRICT', 'level_0'], inplace=True)"
   ]
  },
  {
   "cell_type": "markdown",
   "metadata": {},
   "source": [
    "### District 20"
   ]
  },
  {
   "cell_type": "code",
   "execution_count": 247,
   "metadata": {},
   "outputs": [
    {
     "name": "stdout",
     "output_type": "stream",
     "text": [
      "34\n",
      "43\n"
     ]
    }
   ],
   "source": [
    "print(len(df_school[df_school['DISTRICT']==20]))\n",
    "print(len(df_web[df_web['DISTRICT']==20]))"
   ]
  },
  {
   "cell_type": "code",
   "execution_count": 248,
   "metadata": {},
   "outputs": [],
   "source": [
    "school_d20 = df_school[df_school['DISTRICT']==20].sort_values(by=['SCHOOL'])\n",
    "web_d20 = df_web[df_web['DISTRICT']==20].sort_values(by=['School Name'])"
   ]
  },
  {
   "cell_type": "code",
   "execution_count": 249,
   "metadata": {},
   "outputs": [],
   "source": [
    "school_d20.reset_index(inplace=True)\n",
    "web_d20.reset_index(inplace=True)"
   ]
  },
  {
   "cell_type": "code",
   "execution_count": 250,
   "metadata": {},
   "outputs": [],
   "source": [
    "# school_d20\n",
    "# drop 21, 24 "
   ]
  },
  {
   "cell_type": "code",
   "execution_count": 251,
   "metadata": {},
   "outputs": [],
   "source": [
    "# web_d20\n",
    "# change 5 to I S 187\n",
    "# change 6 to JHS 201 THE DYKER HEIGHTS\n",
    "# change 7 to JHS 220 JOHN J PERSHING\n",
    "# change 8 to JHS 223 THE MONTAUK\n",
    "# change 9 to JHS 227 EDWARD B SHALLOW\n",
    "# change 10 to JHS 259 WILLIAM MCKINLEY\n",
    "# change 11 to JHS 062 THE DITMAS\n",
    "# change 13 to PS 102 THE BAYVIEW\n",
    "# change 14 to PS 105 THE BLYTHEBOURNE\n",
    "# change 15 to PS 112 LEFFERTS PARK\n",
    "# change 16 to PS 127 MCKINLEY PARK\n",
    "# change 17 to PS 160 William T. Sampson\n",
    "# change 18 to PS 163 BATH BEACH\n",
    "# change 19 to PS 164 CAESAR RODNEY\n",
    "# change 20 to PS 176 OVINGTON\n",
    "# change 21 to PS 179 KENSINGTON\n",
    "# change 22 to PS 185 WALTER KASSENBROCK\n",
    "# change 23 to PS 186 DR. IRVING A GLADSTONE\n",
    "# change 24 to PS 192 BROOKLYN\n",
    "# change 25 to PS 200 BENSON SCHOOL\n",
    "# change 26 to PS 204 VINCE LOMBARDI\n",
    "# change 27 to PS 205 CLARION\n",
    "# change 28 to PS 229 DYKER\n",
    "# change 29 to PS 247 BROOKLYN\n",
    "# change 31 to PS 048 MAPELTON\n",
    "# change 34 to PS 69 Vincent D. Grippo School\n",
    "# change 36 to PS / IS 104 THE FORT HAMILTON SCHOOL\n",
    "# change 37 to IS 30 MARY WHITE OVINGTON\n",
    "# drop 0, 1, 30, 32, 33, 35, 38, 39, 40 ,41, 42"
   ]
  },
  {
   "cell_type": "code",
   "execution_count": 252,
   "metadata": {},
   "outputs": [],
   "source": [
    "index_20 = [5, 6, 7, 8, 9, 10, 11, 13, 14, 15, 16, 17, 18, 19, 20, 21, 22, 23, 24, 25, 26, 27, 28, 29, 31, 34, 36,\n",
    "           37]\n",
    "school_20 = ['I S 187', 'JHS 201 THE DYKER HEIGHTS', 'JHS 220 JOHN J PERSHING', 'JHS 223 THE MONTAUK', \n",
    "            'JHS 227 EDWARD B SHALLOW', 'JHS 259 WILLIAM MCKINLEY', 'JHS 062 THE DITMAS',\n",
    "            'PS 102 THE BAYVIEW', 'PS 105 THE BLYTHEBOURNE', 'PS 112 LEFFERTS PARK', 'PS 127 MCKINLEY PARK', \n",
    "            'PS 160 William T. Sampson', 'PS 163 BATH BEACH', 'PS 164 CAESAR RODNEY', 'PS 176 OVINGTON', \n",
    "            'PS 179 KENSINGTON', 'PS 185 WALTER KASSENBROCK', 'PS 186 DR. IRVING A GLADSTONE', \n",
    "            'PS 192 BROOKLYN', 'PS 200 BENSON SCHOOL', 'PS 204 VINCE LOMBARDI', 'PS 205 CLARION', \n",
    "            'PS 229 DYKER', 'PS 247 BROOKLYN', 'PS 048 MAPELTON', 'PS 69 Vincent D. Grippo School',\n",
    "            'PS / IS 104 THE FORT HAMILTON SCHOOL', 'IS 30 MARY WHITE OVINGTON']\n",
    "for i,j in zip(index_20, school_20):\n",
    "    web_d20.at[i, 'School Name'] = j"
   ]
  },
  {
   "cell_type": "code",
   "execution_count": 253,
   "metadata": {},
   "outputs": [],
   "source": [
    "school_d20.drop(index=[21, 24], inplace=True)\n",
    "web_d20.drop(index=[0, 1, 30, 32, 33, 35, 38, 39, 40 ,41, 42], inplace=True)"
   ]
  },
  {
   "cell_type": "code",
   "execution_count": 254,
   "metadata": {},
   "outputs": [
    {
     "name": "stdout",
     "output_type": "stream",
     "text": [
      "32\n",
      "32\n"
     ]
    }
   ],
   "source": [
    "print(len(school_d20))\n",
    "print(len(web_d20))"
   ]
  },
  {
   "cell_type": "code",
   "execution_count": 255,
   "metadata": {},
   "outputs": [],
   "source": [
    "school_d20.reset_index(inplace=True)\n",
    "web_d20.reset_index(inplace=True)"
   ]
  },
  {
   "cell_type": "code",
   "execution_count": 256,
   "metadata": {},
   "outputs": [],
   "source": [
    "school_d20.sort_values(by=['SCHOOL'], inplace=True)\n",
    "web_d20.sort_values(by=['School Name'], inplace=True)"
   ]
  },
  {
   "cell_type": "code",
   "execution_count": 257,
   "metadata": {},
   "outputs": [],
   "source": [
    "all_d20 = pd.concat([school_d20, web_d20], axis=1)"
   ]
  },
  {
   "cell_type": "code",
   "execution_count": 258,
   "metadata": {},
   "outputs": [
    {
     "data": {
      "text/plain": [
       "32"
      ]
     },
     "execution_count": 258,
     "metadata": {},
     "output_type": "execute_result"
    }
   ],
   "source": [
    "len(all_d20)"
   ]
  },
  {
   "cell_type": "code",
   "execution_count": 468,
   "metadata": {},
   "outputs": [
    {
     "data": {
      "text/html": [
       "<div>\n",
       "<style scoped>\n",
       "    .dataframe tbody tr th:only-of-type {\n",
       "        vertical-align: middle;\n",
       "    }\n",
       "\n",
       "    .dataframe tbody tr th {\n",
       "        vertical-align: top;\n",
       "    }\n",
       "\n",
       "    .dataframe thead th {\n",
       "        text-align: right;\n",
       "    }\n",
       "</style>\n",
       "<table border=\"1\" class=\"dataframe\">\n",
       "  <thead>\n",
       "    <tr style=\"text-align: right;\">\n",
       "      <th></th>\n",
       "      <th>level_0</th>\n",
       "      <th>index</th>\n",
       "      <th>DBN</th>\n",
       "      <th>DISTRICT</th>\n",
       "      <th>SCHOOL</th>\n",
       "      <th>SCHOOL SUPPORT ORGANIZATION/NETWORK</th>\n",
       "      <th>PROGRESS REPORT TYPE</th>\n",
       "      <th>SCHOOL LEVEL*</th>\n",
       "      <th>PEER INDEX*</th>\n",
       "      <th>GRADE</th>\n",
       "      <th>...</th>\n",
       "      <th>PROGRESS CATEGORY SCORE</th>\n",
       "      <th>ADDITIONAL CREDIT</th>\n",
       "      <th>QUALITY REVIEW SCORE</th>\n",
       "      <th>level_0</th>\n",
       "      <th>index</th>\n",
       "      <th>School Name</th>\n",
       "      <th>Enrollment</th>\n",
       "      <th>Student-Teacher Ratio</th>\n",
       "      <th>Free-Reduced Lunch</th>\n",
       "      <th>DISTRICT</th>\n",
       "    </tr>\n",
       "  </thead>\n",
       "  <tbody>\n",
       "    <tr>\n",
       "      <td>0</td>\n",
       "      <td>0</td>\n",
       "      <td>792</td>\n",
       "      <td>20K490</td>\n",
       "      <td>20</td>\n",
       "      <td>FORT HAMILTON HIGH SCHOOL</td>\n",
       "      <td>ESO6</td>\n",
       "      <td>HS</td>\n",
       "      <td>High School</td>\n",
       "      <td>2.78</td>\n",
       "      <td>B</td>\n",
       "      <td>...</td>\n",
       "      <td>0.683</td>\n",
       "      <td>1.5</td>\n",
       "      <td>Well-Developed</td>\n",
       "      <td>2</td>\n",
       "      <td>925</td>\n",
       "      <td>Fort Hamilton High School</td>\n",
       "      <td>4,580</td>\n",
       "      <td>20.3</td>\n",
       "      <td>72.1%</td>\n",
       "      <td>20</td>\n",
       "    </tr>\n",
       "  </tbody>\n",
       "</table>\n",
       "<p>1 rows × 23 columns</p>\n",
       "</div>"
      ],
      "text/plain": [
       "  level_0 index     DBN DISTRICT                     SCHOOL  \\\n",
       "0       0   792  20K490       20  FORT HAMILTON HIGH SCHOOL   \n",
       "\n",
       "  SCHOOL SUPPORT ORGANIZATION/NETWORK PROGRESS REPORT TYPE SCHOOL LEVEL*  \\\n",
       "0                                ESO6                   HS   High School   \n",
       "\n",
       "   PEER INDEX*  GRADE  ... PROGRESS CATEGORY SCORE ADDITIONAL CREDIT  \\\n",
       "0         2.78      B  ...                   0.683               1.5   \n",
       "\n",
       "  QUALITY REVIEW SCORE level_0 index                School Name  Enrollment  \\\n",
       "0       Well-Developed       2   925  Fort Hamilton High School       4,580   \n",
       "\n",
       "   Student-Teacher Ratio Free-Reduced Lunch DISTRICT  \n",
       "0                   20.3              72.1%       20  \n",
       "\n",
       "[1 rows x 23 columns]"
      ]
     },
     "execution_count": 468,
     "metadata": {},
     "output_type": "execute_result"
    }
   ],
   "source": [
    "all_d20.head(1)"
   ]
  },
  {
   "cell_type": "code",
   "execution_count": 469,
   "metadata": {},
   "outputs": [],
   "source": [
    "all_d20.drop(columns=['School Name', 'index', 'DBN', 'SCHOOL SUPPORT ORGANIZATION/NETWORK', \n",
    "                    'PROGRESS REPORT TYPE', 'DISTRICT', 'level_0'], inplace=True)"
   ]
  },
  {
   "cell_type": "markdown",
   "metadata": {},
   "source": [
    "### District 21"
   ]
  },
  {
   "cell_type": "code",
   "execution_count": 259,
   "metadata": {},
   "outputs": [
    {
     "name": "stdout",
     "output_type": "stream",
     "text": [
      "34\n",
      "40\n"
     ]
    }
   ],
   "source": [
    "print(len(df_school[df_school['DISTRICT']==21]))\n",
    "print(len(df_web[df_web['DISTRICT']==21]))"
   ]
  },
  {
   "cell_type": "code",
   "execution_count": 260,
   "metadata": {},
   "outputs": [],
   "source": [
    "school_d21 = df_school[df_school['DISTRICT']==21].sort_values(by=['SCHOOL'])\n",
    "web_d21 = df_web[df_web['DISTRICT']==21].sort_values(by=['School Name'])"
   ]
  },
  {
   "cell_type": "code",
   "execution_count": 261,
   "metadata": {},
   "outputs": [],
   "source": [
    "school_d21.reset_index(inplace=True)\n",
    "web_d21.reset_index(inplace=True)"
   ]
  },
  {
   "cell_type": "code",
   "execution_count": 262,
   "metadata": {},
   "outputs": [],
   "source": [
    "# school_d21\n",
    "# drop 2"
   ]
  },
  {
   "cell_type": "code",
   "execution_count": 263,
   "metadata": {},
   "outputs": [],
   "source": [
    "# web_d21\n",
    "# change 6 to IS 228 DAVID A BOODY\n",
    "# change 7 to IS 281 JOSEPH B CAVALLARO\n",
    "# change 8 to IS 303 Herbert S. Eisenberg\n",
    "# change 9 to IS 096 SETH LOW\n",
    "# change 10 to IS 98 BAY ACADEMY\n",
    "# change 15 to Mark Twain I.S. 239 for the Gifted & Talented\n",
    "# change 16 to PS 100 THE CONEY ISLAND SCHOOL\n",
    "# change 17 to PS 101 THE VERRAZANO\n",
    "# change 18 to PS 121 NELSON A ROCKEFELLER\n",
    "# change 19 to PS 128 BENSONHURST\n",
    "# change 20 to PS 153 HOMECREST\n",
    "# change 21 to PS 177 THE MARLBORO\n",
    "# change 22 to PS 188 MICHAEL E BERDY\n",
    "# change 23 to PS 199 FREDERICK WACHTEL\n",
    "# change 24 to PS 209 MARGARET MEAD\n",
    "# change 25 to PS 212 LADY DEBORAH MOODY\n",
    "# change 26 to P.S. 215 MORRIS H. WEISS\n",
    "# change 27 to PS 216 ARTURO TOSCANINI\n",
    "# change 28 to P.S. 225 THE EILEEN E ZAGLIN\n",
    "# change 29 to PS 226 ALFRED DE B.MASON\n",
    "# change 30 to PS 238 Anne Sullivan\n",
    "# change 31 to PS 253\n",
    "# change 32 to PS 288 THE SHIRLEY TANYHILL\n",
    "# change 33 to PS 329 SURFSIDE\n",
    "# change 34 to PS 90 EDNA COHEN \n",
    "# change 35 to PS 095 THE GRAVESEND\n",
    "# change 36 to PS 97 The Highlawn\n",
    "# change 37 to PS 099 ISAAC ASIMOV\n",
    "# change 39 to WILLIAM E. GRADY CAREER AND TECHNICAL EDUCATION HI\n",
    "# drop 3, 4, 5, 12, 13, 14, 36, 38"
   ]
  },
  {
   "cell_type": "code",
   "execution_count": 264,
   "metadata": {},
   "outputs": [],
   "source": [
    "index_21 = [6, 7, 8, 9, 10, 15, 16, 17, 18, 19, 20, 21, 22, 24, 25, 26, 27, 28, 29, 30, 31, 32, 33, 34, 35, 36,\n",
    "              37, 39]\n",
    "school_21 = ['IS 228 DAVID A BOODY', 'IS 281 JOSEPH B CAVALLARO', 'IS 303 Herbert S. Eisenberg', \n",
    "             'IS 096 SETH LOW', 'IS 98 BAY ACADEMY', 'Mark Twain I.S. 239 for the Gifted & Talented', \n",
    "             'PS 100 THE CONEY ISLAND SCHOOL', 'PS 101 THE VERRAZANO', 'PS 121 NELSON A ROCKEFELLER', \n",
    "             'PS 128 BENSONHURST', 'PS 153 HOMECREST', 'PS 177 THE MARLBORO', 'PS 188 MICHAEL E BERDY', \n",
    "             'PS 199 FREDERICK WACHTEL', 'PS 209 MARGARET MEAD', 'PS 212 LADY DEBORAH MOODY', \n",
    "             'P.S. 215 MORRIS H. WEISS', 'PS 216 ARTURO TOSCANINI', 'P.S. 225 THE EILEEN E ZAGLIN',\n",
    "             'PS 226 ALFRED DE B.MASON', 'PS 238 Anne Sullivan', 'PS 253', 'PS 288 THE SHIRLEY TANYHILL',\n",
    "             'PS 329 SURFSIDE', 'PS 90 EDNA COHEN ', 'PS 095 THE GRAVESEND',\n",
    "             'PS 97 The Highlawn', 'PS 099 ISAAC ASIMOV', 'WILLIAM E. GRADY CAREER AND TECHNICAL EDUCATION HI']\n",
    "for i,j in zip(index_21, school_21):\n",
    "    web_d21.at[i, 'School Name'] = j"
   ]
  },
  {
   "cell_type": "code",
   "execution_count": 265,
   "metadata": {},
   "outputs": [],
   "source": [
    "school_d21.drop(index=2, inplace=True)\n",
    "web_d21.drop(index=[3, 4, 5, 12, 13, 14, 38], inplace=True)"
   ]
  },
  {
   "cell_type": "code",
   "execution_count": 266,
   "metadata": {},
   "outputs": [
    {
     "name": "stdout",
     "output_type": "stream",
     "text": [
      "33\n",
      "33\n"
     ]
    }
   ],
   "source": [
    "print(len(school_d21))\n",
    "print(len(web_d21))"
   ]
  },
  {
   "cell_type": "code",
   "execution_count": 267,
   "metadata": {},
   "outputs": [],
   "source": [
    "school_d21.reset_index(inplace=True)\n",
    "web_d21.reset_index(inplace=True)"
   ]
  },
  {
   "cell_type": "code",
   "execution_count": 268,
   "metadata": {},
   "outputs": [],
   "source": [
    "school_d21.sort_values(by=['SCHOOL'], inplace=True)\n",
    "web_d21.sort_values(by=['School Name'], inplace=True)"
   ]
  },
  {
   "cell_type": "code",
   "execution_count": 269,
   "metadata": {},
   "outputs": [],
   "source": [
    "all_d21 = pd.concat([school_d21, web_d21], axis=1)"
   ]
  },
  {
   "cell_type": "code",
   "execution_count": 270,
   "metadata": {},
   "outputs": [
    {
     "data": {
      "text/plain": [
       "33"
      ]
     },
     "execution_count": 270,
     "metadata": {},
     "output_type": "execute_result"
    }
   ],
   "source": [
    "len(all_d21)"
   ]
  },
  {
   "cell_type": "code",
   "execution_count": 470,
   "metadata": {},
   "outputs": [
    {
     "data": {
      "text/html": [
       "<div>\n",
       "<style scoped>\n",
       "    .dataframe tbody tr th:only-of-type {\n",
       "        vertical-align: middle;\n",
       "    }\n",
       "\n",
       "    .dataframe tbody tr th {\n",
       "        vertical-align: top;\n",
       "    }\n",
       "\n",
       "    .dataframe thead th {\n",
       "        text-align: right;\n",
       "    }\n",
       "</style>\n",
       "<table border=\"1\" class=\"dataframe\">\n",
       "  <thead>\n",
       "    <tr style=\"text-align: right;\">\n",
       "      <th></th>\n",
       "      <th>level_0</th>\n",
       "      <th>index</th>\n",
       "      <th>DBN</th>\n",
       "      <th>DISTRICT</th>\n",
       "      <th>SCHOOL</th>\n",
       "      <th>SCHOOL SUPPORT ORGANIZATION/NETWORK</th>\n",
       "      <th>PROGRESS REPORT TYPE</th>\n",
       "      <th>SCHOOL LEVEL*</th>\n",
       "      <th>PEER INDEX*</th>\n",
       "      <th>GRADE</th>\n",
       "      <th>...</th>\n",
       "      <th>PROGRESS CATEGORY SCORE</th>\n",
       "      <th>ADDITIONAL CREDIT</th>\n",
       "      <th>QUALITY REVIEW SCORE</th>\n",
       "      <th>level_0</th>\n",
       "      <th>index</th>\n",
       "      <th>School Name</th>\n",
       "      <th>Enrollment</th>\n",
       "      <th>Student-Teacher Ratio</th>\n",
       "      <th>Free-Reduced Lunch</th>\n",
       "      <th>DISTRICT</th>\n",
       "    </tr>\n",
       "  </thead>\n",
       "  <tbody>\n",
       "    <tr>\n",
       "      <td>0</td>\n",
       "      <td>0</td>\n",
       "      <td>822</td>\n",
       "      <td>21K410</td>\n",
       "      <td>21</td>\n",
       "      <td>ABRAHAM LINCOLN HIGH SCHOOL</td>\n",
       "      <td>CLSO2</td>\n",
       "      <td>HS</td>\n",
       "      <td>High School</td>\n",
       "      <td>2.69</td>\n",
       "      <td>C</td>\n",
       "      <td>...</td>\n",
       "      <td>0.491</td>\n",
       "      <td>1.5</td>\n",
       "      <td>Proficient</td>\n",
       "      <td>0</td>\n",
       "      <td>965</td>\n",
       "      <td>Abraham Lincoln High School</td>\n",
       "      <td>1,946</td>\n",
       "      <td>16.6</td>\n",
       "      <td>78.6%</td>\n",
       "      <td>21</td>\n",
       "    </tr>\n",
       "  </tbody>\n",
       "</table>\n",
       "<p>1 rows × 23 columns</p>\n",
       "</div>"
      ],
      "text/plain": [
       "  level_0 index     DBN DISTRICT                       SCHOOL  \\\n",
       "0       0   822  21K410       21  ABRAHAM LINCOLN HIGH SCHOOL   \n",
       "\n",
       "  SCHOOL SUPPORT ORGANIZATION/NETWORK PROGRESS REPORT TYPE SCHOOL LEVEL*  \\\n",
       "0                               CLSO2                   HS   High School   \n",
       "\n",
       "   PEER INDEX*  GRADE  ... PROGRESS CATEGORY SCORE ADDITIONAL CREDIT  \\\n",
       "0         2.69      C  ...                   0.491               1.5   \n",
       "\n",
       "  QUALITY REVIEW SCORE level_0 index                  School Name  Enrollment  \\\n",
       "0           Proficient       0   965  Abraham Lincoln High School       1,946   \n",
       "\n",
       "   Student-Teacher Ratio Free-Reduced Lunch DISTRICT  \n",
       "0                   16.6              78.6%       21  \n",
       "\n",
       "[1 rows x 23 columns]"
      ]
     },
     "execution_count": 470,
     "metadata": {},
     "output_type": "execute_result"
    }
   ],
   "source": [
    "all_d21.head(1)"
   ]
  },
  {
   "cell_type": "code",
   "execution_count": 471,
   "metadata": {},
   "outputs": [],
   "source": [
    "all_d21.drop(columns=['School Name', 'index', 'DBN', 'SCHOOL SUPPORT ORGANIZATION/NETWORK', \n",
    "                    'PROGRESS REPORT TYPE', 'DISTRICT', 'level_0'], inplace=True)"
   ]
  },
  {
   "cell_type": "markdown",
   "metadata": {},
   "source": [
    "### District 22"
   ]
  },
  {
   "cell_type": "code",
   "execution_count": 271,
   "metadata": {},
   "outputs": [
    {
     "name": "stdout",
     "output_type": "stream",
     "text": [
      "37\n",
      "39\n"
     ]
    }
   ],
   "source": [
    "print(len(df_school[df_school['DISTRICT']==22]))\n",
    "print(len(df_web[df_web['DISTRICT']==22]))"
   ]
  },
  {
   "cell_type": "code",
   "execution_count": 272,
   "metadata": {},
   "outputs": [],
   "source": [
    "school_d22 = df_school[df_school['DISTRICT']==22].sort_values(by=['SCHOOL'])\n",
    "web_d22 = df_web[df_web['DISTRICT']==22].sort_values(by=['School Name'])"
   ]
  },
  {
   "cell_type": "code",
   "execution_count": 273,
   "metadata": {},
   "outputs": [],
   "source": [
    "school_d22.reset_index(inplace=True)\n",
    "web_d22.reset_index(inplace=True)"
   ]
  },
  {
   "cell_type": "code",
   "execution_count": 274,
   "metadata": {},
   "outputs": [],
   "source": [
    "# school_d22\n",
    "# drop 2, 21, 32, 36"
   ]
  },
  {
   "cell_type": "code",
   "execution_count": 275,
   "metadata": {},
   "outputs": [],
   "source": [
    "# web_d22\n",
    "# change 2 to I. S. 381\n",
    "# change 4 to JHS 014 SHELL BANK\n",
    "# change 5 to JHS 234 ARTHUR W CUNNINGHAM\n",
    "# change 6 to JHS 278 MARINE PARK\n",
    "# change 7 to JHS 078 ROY H MANN\n",
    "# change 13 to PS 109\n",
    "# change 14 to PS 119 AMERSFORT\n",
    "# change 15 to K134\n",
    "# change 16 to PS 139 ALEXINE A. FENTY\n",
    "# change 17 to PS 193 GIL HODGES\n",
    "# change 18 to PS 194 RAOUL WALLENBERG\n",
    "# change 19 to PS 195 MANHATTAN BEACH\n",
    "# change 20 to PS 197 BROOKLYN\n",
    "# change 21 to PS 203 FLOYD BENNETT\n",
    "# change 22 to PS 206 JOSEPH F LAMB\n",
    "# change 23 to PS 207 ELIZABETH G. LEARY\n",
    "# change 24 to PS 217 COLONEL DAVID MARCUS SCHOOL\n",
    "# change 25 to PS 222 KATHERINE R SNYDER\n",
    "# change 26 to PS 236 MILL BASIN\n",
    "# change 27 to PS 245\n",
    "# change 28 to PS 251 PAEDERGAT\n",
    "# change 29 to PS 254 DAG HAMMARSKJOLD\n",
    "# change 30 to PS 255 BARBARA REING SCHOOL\n",
    "# change 31 to PS 277 GERRITSEN BEACH\n",
    "# change 32 to PS 312 BERGEN BEACH\n",
    "# change 33 to P.S. 315 DIST 22.\n",
    "# change 36 to PS 052 SHEEPSHEAD BAY\n",
    "# change 38 to SCHOOL OF SCIENCE & TECHNOLOGY\n",
    "# drop 9, 11, 12, 34, 35, 37"
   ]
  },
  {
   "cell_type": "code",
   "execution_count": 276,
   "metadata": {},
   "outputs": [],
   "source": [
    "index_22 = [2, 4, 5, 6, 7, 13, 14, 15, 16, 17, 18, 19, 20, 21, 22, 23, 24, 25, 26, 27, 28, 29, 30, 31, 32, 33, 36, 38]\n",
    "school_22 = ['I. S. 381', 'JHS 014 SHELL BANK', 'JHS 234 ARTHUR W CUNNINGHAM', 'JHS 278 MARINE PARK',\n",
    "            'JHS 078 ROY H MANN', 'PS 109', 'PS 119 AMERSFORT', 'K134', 'PS 139 ALEXINE A. FENTY', \n",
    "            'PS 193 GIL HODGES', 'PS 194 RAOUL WALLENBERG', 'PS 195 MANHATTAN BEACH', 'PS 197 BROOKLYN', \n",
    "            'PS 203 FLOYD BENNETT', 'PS 206 JOSEPH F LAMB', ' PS 207 ELIZABETH G. LEARY', \n",
    "            'PS 217 COLONEL DAVID MARCUS SCHOOL', 'PS 222 KATHERINE R SNYDER', 'PS 236 MILL BASIN', 'PS 245',\n",
    "            'PS 251 PAEDERGAT', 'PS 254 DAG HAMMARSKJOLD', 'PS 255 BARBARA REING SCHOOL', \n",
    "            'PS 277 GERRITSEN BEACH', 'PS 312 BERGEN BEACH', 'P.S. 315 DIST 22.', 'PS 052 SHEEPSHEAD BAY', \n",
    "            'SCHOOL OF SCIENCE & TECHNOLOGY']\n",
    "for i,j in zip(index_22, school_22):\n",
    "    web_d22.at[i, 'School Name'] = j"
   ]
  },
  {
   "cell_type": "code",
   "execution_count": 277,
   "metadata": {},
   "outputs": [],
   "source": [
    "school_d22.drop(index=[2, 21, 32, 36], inplace=True)\n",
    "web_d22.drop(index=[9, 11, 12, 34, 35, 37], inplace=True)"
   ]
  },
  {
   "cell_type": "code",
   "execution_count": 278,
   "metadata": {},
   "outputs": [
    {
     "name": "stdout",
     "output_type": "stream",
     "text": [
      "33\n",
      "33\n"
     ]
    }
   ],
   "source": [
    "print(len(school_d22))\n",
    "print(len(web_d22))"
   ]
  },
  {
   "cell_type": "code",
   "execution_count": 279,
   "metadata": {},
   "outputs": [],
   "source": [
    "school_d22.reset_index(inplace=True)\n",
    "web_d22.reset_index(inplace=True)"
   ]
  },
  {
   "cell_type": "code",
   "execution_count": 280,
   "metadata": {},
   "outputs": [],
   "source": [
    "school_d22.sort_values(by=['SCHOOL'], inplace=True)\n",
    "web_d22.sort_values(by=['School Name'], inplace=True)"
   ]
  },
  {
   "cell_type": "code",
   "execution_count": 281,
   "metadata": {},
   "outputs": [],
   "source": [
    "all_d22 = pd.concat([school_d22, web_d22], axis=1)"
   ]
  },
  {
   "cell_type": "code",
   "execution_count": 282,
   "metadata": {},
   "outputs": [
    {
     "data": {
      "text/plain": [
       "33"
      ]
     },
     "execution_count": 282,
     "metadata": {},
     "output_type": "execute_result"
    }
   ],
   "source": [
    "len(all_d22)"
   ]
  },
  {
   "cell_type": "code",
   "execution_count": 472,
   "metadata": {},
   "outputs": [
    {
     "data": {
      "text/html": [
       "<div>\n",
       "<style scoped>\n",
       "    .dataframe tbody tr th:only-of-type {\n",
       "        vertical-align: middle;\n",
       "    }\n",
       "\n",
       "    .dataframe tbody tr th {\n",
       "        vertical-align: top;\n",
       "    }\n",
       "\n",
       "    .dataframe thead th {\n",
       "        text-align: right;\n",
       "    }\n",
       "</style>\n",
       "<table border=\"1\" class=\"dataframe\">\n",
       "  <thead>\n",
       "    <tr style=\"text-align: right;\">\n",
       "      <th></th>\n",
       "      <th>level_0</th>\n",
       "      <th>index</th>\n",
       "      <th>DBN</th>\n",
       "      <th>DISTRICT</th>\n",
       "      <th>SCHOOL</th>\n",
       "      <th>SCHOOL SUPPORT ORGANIZATION/NETWORK</th>\n",
       "      <th>PROGRESS REPORT TYPE</th>\n",
       "      <th>SCHOOL LEVEL*</th>\n",
       "      <th>PEER INDEX*</th>\n",
       "      <th>GRADE</th>\n",
       "      <th>...</th>\n",
       "      <th>PROGRESS CATEGORY SCORE</th>\n",
       "      <th>ADDITIONAL CREDIT</th>\n",
       "      <th>QUALITY REVIEW SCORE</th>\n",
       "      <th>level_0</th>\n",
       "      <th>index</th>\n",
       "      <th>School Name</th>\n",
       "      <th>Enrollment</th>\n",
       "      <th>Student-Teacher Ratio</th>\n",
       "      <th>Free-Reduced Lunch</th>\n",
       "      <th>DISTRICT</th>\n",
       "    </tr>\n",
       "  </thead>\n",
       "  <tbody>\n",
       "    <tr>\n",
       "      <td>0</td>\n",
       "      <td>0</td>\n",
       "      <td>849</td>\n",
       "      <td>22K240</td>\n",
       "      <td>22</td>\n",
       "      <td>ANDRIES HUDDE</td>\n",
       "      <td>ICI3</td>\n",
       "      <td>ESMS</td>\n",
       "      <td>Middle School</td>\n",
       "      <td>3.47</td>\n",
       "      <td>B</td>\n",
       "      <td>...</td>\n",
       "      <td>0.532</td>\n",
       "      <td>9</td>\n",
       "      <td>Undeveloped</td>\n",
       "      <td>0</td>\n",
       "      <td>1029</td>\n",
       "      <td>Andries Hudde</td>\n",
       "      <td>753</td>\n",
       "      <td>15.4</td>\n",
       "      <td>84.7%</td>\n",
       "      <td>22</td>\n",
       "    </tr>\n",
       "  </tbody>\n",
       "</table>\n",
       "<p>1 rows × 23 columns</p>\n",
       "</div>"
      ],
      "text/plain": [
       "  level_0 index     DBN DISTRICT         SCHOOL  \\\n",
       "0       0   849  22K240       22  ANDRIES HUDDE   \n",
       "\n",
       "  SCHOOL SUPPORT ORGANIZATION/NETWORK PROGRESS REPORT TYPE  SCHOOL LEVEL*  \\\n",
       "0                                ICI3                 ESMS  Middle School   \n",
       "\n",
       "   PEER INDEX*  GRADE  ... PROGRESS CATEGORY SCORE ADDITIONAL CREDIT  \\\n",
       "0         3.47      B  ...                   0.532                 9   \n",
       "\n",
       "  QUALITY REVIEW SCORE level_0 index    School Name  Enrollment  \\\n",
       "0          Undeveloped       0  1029  Andries Hudde         753   \n",
       "\n",
       "   Student-Teacher Ratio Free-Reduced Lunch DISTRICT  \n",
       "0                   15.4              84.7%       22  \n",
       "\n",
       "[1 rows x 23 columns]"
      ]
     },
     "execution_count": 472,
     "metadata": {},
     "output_type": "execute_result"
    }
   ],
   "source": [
    "all_d22.head(1)"
   ]
  },
  {
   "cell_type": "code",
   "execution_count": 473,
   "metadata": {},
   "outputs": [],
   "source": [
    "all_d22.drop(columns=['School Name', 'index', 'DBN', 'SCHOOL SUPPORT ORGANIZATION/NETWORK', \n",
    "                    'PROGRESS REPORT TYPE', 'DISTRICT', 'level_0'], inplace=True)"
   ]
  },
  {
   "cell_type": "markdown",
   "metadata": {},
   "source": [
    "### District 23"
   ]
  },
  {
   "cell_type": "code",
   "execution_count": 283,
   "metadata": {},
   "outputs": [
    {
     "name": "stdout",
     "output_type": "stream",
     "text": [
      "22\n",
      "30\n"
     ]
    }
   ],
   "source": [
    "print(len(df_school[df_school['DISTRICT']==23]))\n",
    "print(len(df_web[df_web['DISTRICT']==23]))"
   ]
  },
  {
   "cell_type": "code",
   "execution_count": 284,
   "metadata": {},
   "outputs": [],
   "source": [
    "school_d23 = df_school[df_school['DISTRICT']==23].sort_values(by=['SCHOOL'])\n",
    "web_d23 = df_web[df_web['DISTRICT']==23].sort_values(by=['School Name'])"
   ]
  },
  {
   "cell_type": "code",
   "execution_count": 285,
   "metadata": {},
   "outputs": [],
   "source": [
    "school_d23.reset_index(inplace=True)\n",
    "web_d23.reset_index(inplace=True)"
   ]
  },
  {
   "cell_type": "code",
   "execution_count": 286,
   "metadata": {},
   "outputs": [],
   "source": [
    "# school_d23\n",
    "# drop 6, 13, 15, 18, 20"
   ]
  },
  {
   "cell_type": "code",
   "execution_count": 287,
   "metadata": {},
   "outputs": [],
   "source": [
    "# web_d23\n",
    "# change 8 to EBC/ENY HIGH SCHOOL FOR PUBLIC SAFETY & LAW\n",
    "# change 11 to IS 392\n",
    "# change 12 to KAPPA V\n",
    "# change 16 to PS 150 CHRISTOPHER\n",
    "# change 17 to PS 156 WAVERLY\n",
    "# change 18 to PS 165 IDA POSNER\n",
    "# change 19 to PS 178 ST.CLAIR MCKELWAY\n",
    "# change 20 to PS 184 NEWPORT\n",
    "# change 21 to PS 298 DR. BETTY SHABAZZ\n",
    "# change 22 to PS 327 DR. ROSE B. ENGLISH\n",
    "# change 23 to PS 041 FRANCIS WHITE\n",
    "# change 24 to PS 137 RACHEL JEAN MITCHELL\n",
    "# change 25 to PS 155 NICHOLAS HERKIMER\n",
    "# change 26 to PS/IS 323\n",
    "# drop 0, 2, 3, 4, 5, 6, 7, 9, 10, 13, 14, 27, 28"
   ]
  },
  {
   "cell_type": "code",
   "execution_count": 288,
   "metadata": {},
   "outputs": [],
   "source": [
    "index_23 = [8, 11, 12, 16, 17, 18, 19, 20, 21, 22, 23, 24, 25, 26]\n",
    "school_23 = ['EBC/ENY HIGH SCHOOL FOR PUBLIC SAFETY & LAW', 'IS 392', 'KAPPA V', 'PS 150 CHRISTOPHER', \n",
    "            'PS 156 WAVERLY', 'PS 165 IDA POSNER', 'PS 178 ST.CLAIR MCKELWAY', 'PS 184 NEWPORT', \n",
    "            'PS 298 DR. BETTY SHABAZZ', 'PS 327 DR. ROSE B. ENGLISH', 'PS 041 FRANCIS WHITE', \n",
    "            'PS 137 RACHEL JEAN MITCHELL', 'PS 155 NICHOLAS HERKIMER', 'PS/IS 323']\n",
    "for i,j in zip(index_23, school_23):\n",
    "    web_d23.at[i, 'School Name'] = j"
   ]
  },
  {
   "cell_type": "code",
   "execution_count": 289,
   "metadata": {},
   "outputs": [],
   "source": [
    "school_d23.drop(index=[6, 13, 15, 18, 20], inplace=True)\n",
    "web_d23.drop(index=[0, 2, 3, 4, 5, 6, 7, 9, 10, 13, 14, 27, 28], inplace=True)"
   ]
  },
  {
   "cell_type": "code",
   "execution_count": 290,
   "metadata": {},
   "outputs": [
    {
     "name": "stdout",
     "output_type": "stream",
     "text": [
      "17\n",
      "17\n"
     ]
    }
   ],
   "source": [
    "print(len(school_d23))\n",
    "print(len(web_d23))"
   ]
  },
  {
   "cell_type": "code",
   "execution_count": 291,
   "metadata": {},
   "outputs": [],
   "source": [
    "school_d23.reset_index(inplace=True)\n",
    "web_d23.reset_index(inplace=True)"
   ]
  },
  {
   "cell_type": "code",
   "execution_count": 292,
   "metadata": {},
   "outputs": [],
   "source": [
    "school_d23.sort_values(by=['SCHOOL'], inplace=True)\n",
    "web_d23.sort_values(by=['School Name'], inplace=True)"
   ]
  },
  {
   "cell_type": "code",
   "execution_count": 293,
   "metadata": {},
   "outputs": [],
   "source": [
    "all_d23 = pd.concat([school_d23, web_d23], axis=1)"
   ]
  },
  {
   "cell_type": "code",
   "execution_count": 294,
   "metadata": {},
   "outputs": [
    {
     "data": {
      "text/plain": [
       "17"
      ]
     },
     "execution_count": 294,
     "metadata": {},
     "output_type": "execute_result"
    }
   ],
   "source": [
    "len(all_d23)"
   ]
  },
  {
   "cell_type": "code",
   "execution_count": 474,
   "metadata": {},
   "outputs": [
    {
     "data": {
      "text/html": [
       "<div>\n",
       "<style scoped>\n",
       "    .dataframe tbody tr th:only-of-type {\n",
       "        vertical-align: middle;\n",
       "    }\n",
       "\n",
       "    .dataframe tbody tr th {\n",
       "        vertical-align: top;\n",
       "    }\n",
       "\n",
       "    .dataframe thead th {\n",
       "        text-align: right;\n",
       "    }\n",
       "</style>\n",
       "<table border=\"1\" class=\"dataframe\">\n",
       "  <thead>\n",
       "    <tr style=\"text-align: right;\">\n",
       "      <th></th>\n",
       "      <th>level_0</th>\n",
       "      <th>index</th>\n",
       "      <th>DBN</th>\n",
       "      <th>DISTRICT</th>\n",
       "      <th>SCHOOL</th>\n",
       "      <th>SCHOOL SUPPORT ORGANIZATION/NETWORK</th>\n",
       "      <th>PROGRESS REPORT TYPE</th>\n",
       "      <th>SCHOOL LEVEL*</th>\n",
       "      <th>PEER INDEX*</th>\n",
       "      <th>GRADE</th>\n",
       "      <th>...</th>\n",
       "      <th>PROGRESS CATEGORY SCORE</th>\n",
       "      <th>ADDITIONAL CREDIT</th>\n",
       "      <th>QUALITY REVIEW SCORE</th>\n",
       "      <th>level_0</th>\n",
       "      <th>index</th>\n",
       "      <th>School Name</th>\n",
       "      <th>Enrollment</th>\n",
       "      <th>Student-Teacher Ratio</th>\n",
       "      <th>Free-Reduced Lunch</th>\n",
       "      <th>DISTRICT</th>\n",
       "    </tr>\n",
       "  </thead>\n",
       "  <tbody>\n",
       "    <tr>\n",
       "      <td>0</td>\n",
       "      <td>0</td>\n",
       "      <td>881</td>\n",
       "      <td>23K493</td>\n",
       "      <td>23</td>\n",
       "      <td>BROOKLYN COLLEGIATE: A COLLEGE BOARD SCHOOL</td>\n",
       "      <td>KNLSO3</td>\n",
       "      <td>ESMS</td>\n",
       "      <td>Middle School</td>\n",
       "      <td>3.41</td>\n",
       "      <td>D</td>\n",
       "      <td>...</td>\n",
       "      <td>0.221</td>\n",
       "      <td>1.5</td>\n",
       "      <td>Proficient</td>\n",
       "      <td>1</td>\n",
       "      <td>1059</td>\n",
       "      <td>Brooklyn Collegiate: A College Board School</td>\n",
       "      <td>266</td>\n",
       "      <td>12.2</td>\n",
       "      <td>95.1%</td>\n",
       "      <td>23</td>\n",
       "    </tr>\n",
       "  </tbody>\n",
       "</table>\n",
       "<p>1 rows × 23 columns</p>\n",
       "</div>"
      ],
      "text/plain": [
       "  level_0 index     DBN DISTRICT                                       SCHOOL  \\\n",
       "0       0   881  23K493       23  BROOKLYN COLLEGIATE: A COLLEGE BOARD SCHOOL   \n",
       "\n",
       "  SCHOOL SUPPORT ORGANIZATION/NETWORK PROGRESS REPORT TYPE  SCHOOL LEVEL*  \\\n",
       "0                              KNLSO3                 ESMS  Middle School   \n",
       "\n",
       "   PEER INDEX*  GRADE  ... PROGRESS CATEGORY SCORE ADDITIONAL CREDIT  \\\n",
       "0         3.41      D  ...                   0.221               1.5   \n",
       "\n",
       "  QUALITY REVIEW SCORE level_0 index  \\\n",
       "0           Proficient       1  1059   \n",
       "\n",
       "                                   School Name  Enrollment  \\\n",
       "0  Brooklyn Collegiate: A College Board School         266   \n",
       "\n",
       "   Student-Teacher Ratio Free-Reduced Lunch DISTRICT  \n",
       "0                   12.2              95.1%       23  \n",
       "\n",
       "[1 rows x 23 columns]"
      ]
     },
     "execution_count": 474,
     "metadata": {},
     "output_type": "execute_result"
    }
   ],
   "source": [
    "all_d23.head(1)"
   ]
  },
  {
   "cell_type": "code",
   "execution_count": 475,
   "metadata": {},
   "outputs": [],
   "source": [
    "all_d23.drop(columns=['School Name', 'index', 'DBN', 'SCHOOL SUPPORT ORGANIZATION/NETWORK', \n",
    "                    'PROGRESS REPORT TYPE', 'DISTRICT', 'level_0'], inplace=True)"
   ]
  },
  {
   "cell_type": "markdown",
   "metadata": {},
   "source": [
    "### District 24"
   ]
  },
  {
   "cell_type": "code",
   "execution_count": 295,
   "metadata": {},
   "outputs": [
    {
     "name": "stdout",
     "output_type": "stream",
     "text": [
      "39\n",
      "56\n"
     ]
    }
   ],
   "source": [
    "print(len(df_school[df_school['DISTRICT']==24]))\n",
    "print(len(df_web[df_web['DISTRICT']==24]))"
   ]
  },
  {
   "cell_type": "code",
   "execution_count": 296,
   "metadata": {},
   "outputs": [],
   "source": [
    "school_d24 = df_school[df_school['DISTRICT']==24].sort_values(by=['SCHOOL'])\n",
    "web_d24 = df_web[df_web['DISTRICT']==24].sort_values(by=['School Name'])"
   ]
  },
  {
   "cell_type": "code",
   "execution_count": 297,
   "metadata": {},
   "outputs": [],
   "source": [
    "school_d24.reset_index(inplace=True)\n",
    "web_d24.reset_index(inplace=True)"
   ]
  },
  {
   "cell_type": "code",
   "execution_count": 298,
   "metadata": {},
   "outputs": [],
   "source": [
    "# school_d24\n",
    "# drop 0, 29, 37"
   ]
  },
  {
   "cell_type": "code",
   "execution_count": 299,
   "metadata": {},
   "outputs": [],
   "source": [
    "# web_d24\n",
    "# change 14 to IS 119 THE GLENDALE\n",
    "# change 15 to IS 125 THOM J MCCANN WOODSIDE\n",
    "# change 16 to I.S. 5 - THE WALTER CROWLEY INTERMEDIATE SCHOOL\n",
    "# change 17 to IS 061 LEONARDO DA VINCI\n",
    "# change 18 to I.S. 73 - THE FRANK SANSIVIERI INTERMEDIATE SCHOOL\n",
    "# change 19 to IS 077\n",
    "# change 20 to IS 093 RIDGEWOOD\n",
    "# change 27 to PS 102 BAYVIEW\n",
    "# change 29 to PS 012 JAMES B COLGATE\n",
    "# change 30 to PS 128 JUNIPER VALLEY\n",
    "# change 31 to PS 013 CLEMENT C MOORE\n",
    "# change 32 to PS 014 FAIRVIEW\n",
    "# change 33 to PS 143 LOUIS ARMSTRONG\n",
    "# change 34 to PS 153 MASPETH ELEM\n",
    "# change 35 to P.S.16Q\n",
    "# change 36 to PS 019 MARINO JEANTET\n",
    "# change 37 to PS 199 MAURICE A FITZGERALD\n",
    "# change 38 to PS 229 EMANUEL KAPLAN\n",
    "# change 39 to P.S. 239\n",
    "# change 41 to PS 049 DOROTHY BONAWIT KOLE\n",
    "# change 42 to PS 58 - SCHOOL OF HEROES\n",
    "# change 43 to PS 068 CAMBRIDGE\n",
    "# change 45 to PS 071 FOREST\n",
    "# change 46 to PS 081 JEAN PAUL RICHTER\n",
    "# change 47 to PS 088 SENECA\n",
    "# change 48 to PS 089 ELMHURST\n",
    "# change 49 to PS 091 RICHARD ARKWRIGHT\n",
    "# change 51 to PS 087 MIDDLE VILLAGE\n",
    "# change 52 to QUEENS VOCATIONAL AND TECHNICAL HIGH SCHOOL\n",
    "# change 53 to ROBERT F.WAGNER, JR. SECONDARY SCHOOL FOR ARTS AND\n",
    "# drop 0, 1, 3, 4, 5, 6, 7, 9, 11, 13, 21, 22, 25, 26, 28, 40, 44, 50, 52, 54, 55"
   ]
  },
  {
   "cell_type": "code",
   "execution_count": 300,
   "metadata": {},
   "outputs": [],
   "source": [
    "index_24 = [14, 15, 16, 17, 18, 19, 20, 27, 29, 30, 31, 32, 33, 34, 35, 36, 37, 38, 39, 41, 42, 43, 45, 46, 47,\n",
    "           48, 49, 51, 52, 53]\n",
    "school_24 = ['IS 119 THE GLENDALE', 'IS 125 THOM J MCCANN WOODSIDE', \n",
    "            'I.S. 5 - THE WALTER CROWLEY INTERMEDIATE SCHOOL', 'IS 061 LEONARDO DA VINCI', \n",
    "            'I.S. 73 - THE FRANK SANSIVIERI INTERMEDIATE SCHOOL', 'IS 077', 'IS 093 RIDGEWOOD', \n",
    "            'PS 102 BAYVIEW', 'PS 012 JAMES B COLGATE', 'PS 128 JUNIPER VALLEY', 'PS 013 CLEMENT C MOORE', \n",
    "            'PS 014 FAIRVIEW', 'PS 143 LOUIS ARMSTRONG', 'PS 153 MASPETH ELEM', 'P.S.16Q', \n",
    "            'PS 019 MARINO JEANTET', 'PS 199 MAURICE A FITZGERALD', 'PS 229 EMANUEL KAPLAN', \n",
    "            'P.S. 239', 'PS 049 DOROTHY BONAWIT KOLE', 'PS 58 - SCHOOL OF HEROES', 'PS 068 CAMBRIDGE',\n",
    "            'PS 071 FOREST', 'PS 081 JEAN PAUL RICHTER', 'PS 088 SENECA', 'PS 089 ELMHURST',\n",
    "            'PS 091 RICHARD ARKWRIGHT', 'PS 087 MIDDLE VILLAGE', 'QUEENS VOCATIONAL AND TECHNICAL HIGH SCHOOL',\n",
    "            'ROBERT F.WAGNER, JR. SECONDARY SCHOOL FOR ARTS AND']\n",
    "for i,j in zip(index_24, school_24):\n",
    "    web_d24.at[i, 'School Name'] = j"
   ]
  },
  {
   "cell_type": "code",
   "execution_count": 301,
   "metadata": {},
   "outputs": [],
   "source": [
    "school_d24.drop(index=[0, 29, 37], inplace=True)\n",
    "web_d24.drop(index=[0, 1, 3, 4, 5, 6, 7, 9, 11, 13, 21, 22, 25, 26, 28, 40, 44, 50, 54, 55], inplace=True)"
   ]
  },
  {
   "cell_type": "code",
   "execution_count": 302,
   "metadata": {},
   "outputs": [
    {
     "name": "stdout",
     "output_type": "stream",
     "text": [
      "36\n",
      "36\n"
     ]
    }
   ],
   "source": [
    "print(len(school_d24))\n",
    "print(len(web_d24))"
   ]
  },
  {
   "cell_type": "code",
   "execution_count": 303,
   "metadata": {},
   "outputs": [],
   "source": [
    "school_d24.reset_index(inplace=True)\n",
    "web_d24.reset_index(inplace=True)"
   ]
  },
  {
   "cell_type": "code",
   "execution_count": 304,
   "metadata": {},
   "outputs": [],
   "source": [
    "school_d24.sort_values(by=['SCHOOL'], inplace=True)\n",
    "web_d24.sort_values(by=['School Name'], inplace=True)"
   ]
  },
  {
   "cell_type": "code",
   "execution_count": 305,
   "metadata": {},
   "outputs": [],
   "source": [
    "all_d24 = pd.concat([school_d24, web_d24], axis=1)"
   ]
  },
  {
   "cell_type": "code",
   "execution_count": 306,
   "metadata": {},
   "outputs": [
    {
     "data": {
      "text/plain": [
       "36"
      ]
     },
     "execution_count": 306,
     "metadata": {},
     "output_type": "execute_result"
    }
   ],
   "source": [
    "len(all_d24)"
   ]
  },
  {
   "cell_type": "code",
   "execution_count": 476,
   "metadata": {},
   "outputs": [
    {
     "data": {
      "text/html": [
       "<div>\n",
       "<style scoped>\n",
       "    .dataframe tbody tr th:only-of-type {\n",
       "        vertical-align: middle;\n",
       "    }\n",
       "\n",
       "    .dataframe tbody tr th {\n",
       "        vertical-align: top;\n",
       "    }\n",
       "\n",
       "    .dataframe thead th {\n",
       "        text-align: right;\n",
       "    }\n",
       "</style>\n",
       "<table border=\"1\" class=\"dataframe\">\n",
       "  <thead>\n",
       "    <tr style=\"text-align: right;\">\n",
       "      <th></th>\n",
       "      <th>level_0</th>\n",
       "      <th>index</th>\n",
       "      <th>DBN</th>\n",
       "      <th>DISTRICT</th>\n",
       "      <th>SCHOOL</th>\n",
       "      <th>SCHOOL SUPPORT ORGANIZATION/NETWORK</th>\n",
       "      <th>PROGRESS REPORT TYPE</th>\n",
       "      <th>SCHOOL LEVEL*</th>\n",
       "      <th>PEER INDEX*</th>\n",
       "      <th>GRADE</th>\n",
       "      <th>...</th>\n",
       "      <th>PROGRESS CATEGORY SCORE</th>\n",
       "      <th>ADDITIONAL CREDIT</th>\n",
       "      <th>QUALITY REVIEW SCORE</th>\n",
       "      <th>level_0</th>\n",
       "      <th>index</th>\n",
       "      <th>School Name</th>\n",
       "      <th>Enrollment</th>\n",
       "      <th>Student-Teacher Ratio</th>\n",
       "      <th>Free-Reduced Lunch</th>\n",
       "      <th>DISTRICT</th>\n",
       "    </tr>\n",
       "  </thead>\n",
       "  <tbody>\n",
       "    <tr>\n",
       "      <td>0</td>\n",
       "      <td>1</td>\n",
       "      <td>924</td>\n",
       "      <td>24Q610</td>\n",
       "      <td>24</td>\n",
       "      <td>AVIATION CAREER &amp; TECHNICAL EDUCATION HIGH SCHOOL</td>\n",
       "      <td>ICI2</td>\n",
       "      <td>HS</td>\n",
       "      <td>High School</td>\n",
       "      <td>2.97</td>\n",
       "      <td>A</td>\n",
       "      <td>...</td>\n",
       "      <td>0.645</td>\n",
       "      <td>6</td>\n",
       "      <td>Well-Developed</td>\n",
       "      <td>2</td>\n",
       "      <td>1076</td>\n",
       "      <td>Aviation Career And Technical Education High S...</td>\n",
       "      <td>2,087</td>\n",
       "      <td>17.3</td>\n",
       "      <td>63.3%</td>\n",
       "      <td>24</td>\n",
       "    </tr>\n",
       "  </tbody>\n",
       "</table>\n",
       "<p>1 rows × 23 columns</p>\n",
       "</div>"
      ],
      "text/plain": [
       "  level_0 index     DBN DISTRICT  \\\n",
       "0       1   924  24Q610       24   \n",
       "\n",
       "                                              SCHOOL  \\\n",
       "0  AVIATION CAREER & TECHNICAL EDUCATION HIGH SCHOOL   \n",
       "\n",
       "  SCHOOL SUPPORT ORGANIZATION/NETWORK PROGRESS REPORT TYPE SCHOOL LEVEL*  \\\n",
       "0                                ICI2                   HS   High School   \n",
       "\n",
       "   PEER INDEX*  GRADE  ... PROGRESS CATEGORY SCORE ADDITIONAL CREDIT  \\\n",
       "0         2.97      A  ...                   0.645                 6   \n",
       "\n",
       "  QUALITY REVIEW SCORE level_0 index  \\\n",
       "0       Well-Developed       2  1076   \n",
       "\n",
       "                                         School Name  Enrollment  \\\n",
       "0  Aviation Career And Technical Education High S...       2,087   \n",
       "\n",
       "   Student-Teacher Ratio Free-Reduced Lunch DISTRICT  \n",
       "0                   17.3              63.3%       24  \n",
       "\n",
       "[1 rows x 23 columns]"
      ]
     },
     "execution_count": 476,
     "metadata": {},
     "output_type": "execute_result"
    }
   ],
   "source": [
    "all_d24.head(1)"
   ]
  },
  {
   "cell_type": "code",
   "execution_count": 477,
   "metadata": {},
   "outputs": [],
   "source": [
    "all_d24.drop(columns=['School Name', 'index', 'DBN', 'SCHOOL SUPPORT ORGANIZATION/NETWORK', \n",
    "                    'PROGRESS REPORT TYPE', 'DISTRICT', 'level_0'], inplace=True)"
   ]
  },
  {
   "cell_type": "markdown",
   "metadata": {},
   "source": [
    "### District 25"
   ]
  },
  {
   "cell_type": "code",
   "execution_count": 307,
   "metadata": {},
   "outputs": [
    {
     "name": "stdout",
     "output_type": "stream",
     "text": [
      "35\n",
      "45\n"
     ]
    }
   ],
   "source": [
    "print(len(df_school[df_school['DISTRICT']==25]))\n",
    "print(len(df_web[df_web['DISTRICT']==25]))"
   ]
  },
  {
   "cell_type": "code",
   "execution_count": 308,
   "metadata": {},
   "outputs": [],
   "source": [
    "school_d25 = df_school[df_school['DISTRICT']==25].sort_values(by=['SCHOOL'])\n",
    "web_d25 = df_web[df_web['DISTRICT']==25].sort_values(by=['School Name'])"
   ]
  },
  {
   "cell_type": "code",
   "execution_count": 309,
   "metadata": {},
   "outputs": [],
   "source": [
    "school_d25.reset_index(inplace=True)\n",
    "web_d25.reset_index(inplace=True)"
   ]
  },
  {
   "cell_type": "code",
   "execution_count": 310,
   "metadata": {},
   "outputs": [],
   "source": [
    "# school_d25\n",
    "# drop 26, "
   ]
  },
  {
   "cell_type": "code",
   "execution_count": 311,
   "metadata": {},
   "outputs": [],
   "source": [
    "# web_d25\n",
    "# change 5 to IS 237\n",
    "# change 6 to I S 025 ADRIEN BLOCK\n",
    "# change 7 to I S 250 THE ROBERT F. KENNEDY COMMUNITY MIDDLE SCHOOL\n",
    "# change 9 to JHS 185 EDWARD BLEEKER\n",
    "# change 10 to JHS 189 DANIEL CARTER BEARD\n",
    "# change 11 to JHS 194 WILLIAM CARR\n",
    "# change 13 to PS 107 THOMAS A DOOLEY\n",
    "# change 14 to PS 120 QUEENS\n",
    "# change 15 to PS 129 PATRICIA LARKIN\n",
    "# change 17 to PS 154 QUEENS\n",
    "# change 18 to PS 163 FLUSHING HEIGHTS\n",
    "# change 19 to PS 164 QUEENS VALLEY\n",
    "# change 20 to PS 165 EDITH K. BERGTRAUM\n",
    "# change 21 to PS 169 BAY TERRACE\n",
    "# change 22 to PS 184 FLUSHING MANOR\n",
    "# change 23 to PS 193 ALFRED J KENNEDY\n",
    "# change 24 to PS 020 JOHN BOWNE\n",
    "# change 26 to PS 209 CLEARVIEW GARDENS\n",
    "# change 27 to PS 021 EDWARD HART\n",
    "# change 28 to PS 214 CADWALLADER COLDEN\n",
    "# change 29 to PS 219 PAUL KLAPPER\n",
    "# change 30 to PS 022 THOMAS JEFFERSON\n",
    "# change 31 to PS 024 ANDREW JACKSON\n",
    "# change 33 to PS 029 QUEENS\n",
    "# change 34 to PS 032 STATE STREET\n",
    "# change 35 to PS 079 FRANCIS LEWIS\n",
    "# change 36 to PS 200 POMONOK\n",
    "# change 40 to THE QUEENS SCHOOL OF INQUIRY\n",
    "# drop 0, 1, 2, 4, 12, 16, 25, 32, 39, 43, 44 "
   ]
  },
  {
   "cell_type": "code",
   "execution_count": 312,
   "metadata": {},
   "outputs": [],
   "source": [
    "index_25 = [5, 6, 7, 9, 10, 11, 13, 14, 15, 17, 18, 19, 20, 21, 22, 24, 26, 27, 28, 29, 30, 31, 33, 34, 35, 36, 40]\n",
    "school_25 = ['IS 237', 'I S 025 ADRIEN BLOCK', 'I S 250 THE ROBERT F. KENNEDY COMMUNITY MIDDLE SCHOOL',\n",
    "            'JHS 185 EDWARD BLEEKER', 'JHS 189 DANIEL CARTER BEARD', 'JHS 194 WILLIAM CARR', \n",
    "            'PS 107 THOMAS A DOOLEY', 'PS 120 QUEENS', 'PS 129 PATRICIA LARKIN', 'PS 154 QUEENS', \n",
    "            'PS 163 FLUSHING HEIGHTS', 'PS 164 QUEENS VALLEY', 'PS 165 EDITH K. BERGTRAUM', \n",
    "            'PS 169 BAY TERRACE', 'PS 184 FLUSHING MANOR', 'PS 193 ALFRED J KENNEDY', 'PS 020 JOHN BOWNE', \n",
    "            'PS 209 CLEARVIEW GARDENS', 'PS 021 EDWARD HART', 'PS 214 CADWALLADER COLDEN', 'PS 219 PAUL KLAPPER',\n",
    "            'PS 022 THOMAS JEFFERSON', 'PS 024 ANDREW JACKSON', 'PS 029 QUEENS', 'PS 032 STATE STREET', \n",
    "            'PS 079 FRANCIS LEWIS', 'PS 200 POMONOK', 'THE QUEENS SCHOOL OF INQUIRY']\n",
    "for i,j in zip(index_25, school_25):\n",
    "    web_d25.at[i, 'School Name'] = j"
   ]
  },
  {
   "cell_type": "code",
   "execution_count": 313,
   "metadata": {},
   "outputs": [],
   "source": [
    "school_d25.drop(index=26, inplace=True)\n",
    "web_d25.drop(index=[0, 1, 2, 4, 12, 16, 25, 32, 39, 43, 44], inplace=True)"
   ]
  },
  {
   "cell_type": "code",
   "execution_count": 314,
   "metadata": {},
   "outputs": [
    {
     "name": "stdout",
     "output_type": "stream",
     "text": [
      "34\n",
      "34\n"
     ]
    }
   ],
   "source": [
    "print(len(school_d25))\n",
    "print(len(web_d25))"
   ]
  },
  {
   "cell_type": "code",
   "execution_count": 315,
   "metadata": {},
   "outputs": [],
   "source": [
    "school_d25.reset_index(inplace=True)\n",
    "web_d25.reset_index(inplace=True)"
   ]
  },
  {
   "cell_type": "code",
   "execution_count": 316,
   "metadata": {},
   "outputs": [],
   "source": [
    "school_d25.sort_values(by=['SCHOOL'], inplace=True)\n",
    "web_d25.sort_values(by=['School Name'], inplace=True)"
   ]
  },
  {
   "cell_type": "code",
   "execution_count": 317,
   "metadata": {},
   "outputs": [],
   "source": [
    "all_d25 = pd.concat([school_d25, web_d25], axis=1)"
   ]
  },
  {
   "cell_type": "code",
   "execution_count": 318,
   "metadata": {},
   "outputs": [
    {
     "data": {
      "text/plain": [
       "34"
      ]
     },
     "execution_count": 318,
     "metadata": {},
     "output_type": "execute_result"
    }
   ],
   "source": [
    "len(all_d25)"
   ]
  },
  {
   "cell_type": "code",
   "execution_count": 478,
   "metadata": {},
   "outputs": [
    {
     "data": {
      "text/html": [
       "<div>\n",
       "<style scoped>\n",
       "    .dataframe tbody tr th:only-of-type {\n",
       "        vertical-align: middle;\n",
       "    }\n",
       "\n",
       "    .dataframe tbody tr th {\n",
       "        vertical-align: top;\n",
       "    }\n",
       "\n",
       "    .dataframe thead th {\n",
       "        text-align: right;\n",
       "    }\n",
       "</style>\n",
       "<table border=\"1\" class=\"dataframe\">\n",
       "  <thead>\n",
       "    <tr style=\"text-align: right;\">\n",
       "      <th></th>\n",
       "      <th>level_0</th>\n",
       "      <th>index</th>\n",
       "      <th>DBN</th>\n",
       "      <th>DISTRICT</th>\n",
       "      <th>SCHOOL</th>\n",
       "      <th>SCHOOL SUPPORT ORGANIZATION/NETWORK</th>\n",
       "      <th>PROGRESS REPORT TYPE</th>\n",
       "      <th>SCHOOL LEVEL*</th>\n",
       "      <th>PEER INDEX*</th>\n",
       "      <th>GRADE</th>\n",
       "      <th>...</th>\n",
       "      <th>PROGRESS CATEGORY SCORE</th>\n",
       "      <th>ADDITIONAL CREDIT</th>\n",
       "      <th>QUALITY REVIEW SCORE</th>\n",
       "      <th>level_0</th>\n",
       "      <th>index</th>\n",
       "      <th>School Name</th>\n",
       "      <th>Enrollment</th>\n",
       "      <th>Student-Teacher Ratio</th>\n",
       "      <th>Free-Reduced Lunch</th>\n",
       "      <th>DISTRICT</th>\n",
       "    </tr>\n",
       "  </thead>\n",
       "  <tbody>\n",
       "    <tr>\n",
       "      <td>0</td>\n",
       "      <td>0</td>\n",
       "      <td>956</td>\n",
       "      <td>25Q460</td>\n",
       "      <td>25</td>\n",
       "      <td>FLUSHING HIGH SCHOOL</td>\n",
       "      <td>ICI14</td>\n",
       "      <td>HS</td>\n",
       "      <td>High School</td>\n",
       "      <td>2.52</td>\n",
       "      <td>C</td>\n",
       "      <td>...</td>\n",
       "      <td>0.469</td>\n",
       "      <td>0</td>\n",
       "      <td>Proficient</td>\n",
       "      <td>3</td>\n",
       "      <td>1132</td>\n",
       "      <td>Flushing High School</td>\n",
       "      <td>1,678</td>\n",
       "      <td>15.2</td>\n",
       "      <td>74.4%</td>\n",
       "      <td>25</td>\n",
       "    </tr>\n",
       "  </tbody>\n",
       "</table>\n",
       "<p>1 rows × 23 columns</p>\n",
       "</div>"
      ],
      "text/plain": [
       "  level_0 index     DBN DISTRICT                SCHOOL  \\\n",
       "0       0   956  25Q460       25  FLUSHING HIGH SCHOOL   \n",
       "\n",
       "  SCHOOL SUPPORT ORGANIZATION/NETWORK PROGRESS REPORT TYPE SCHOOL LEVEL*  \\\n",
       "0                               ICI14                   HS   High School   \n",
       "\n",
       "   PEER INDEX*  GRADE  ... PROGRESS CATEGORY SCORE ADDITIONAL CREDIT  \\\n",
       "0         2.52      C  ...                   0.469                 0   \n",
       "\n",
       "  QUALITY REVIEW SCORE level_0 index           School Name  Enrollment  \\\n",
       "0           Proficient       3  1132  Flushing High School       1,678   \n",
       "\n",
       "   Student-Teacher Ratio Free-Reduced Lunch DISTRICT  \n",
       "0                   15.2              74.4%       25  \n",
       "\n",
       "[1 rows x 23 columns]"
      ]
     },
     "execution_count": 478,
     "metadata": {},
     "output_type": "execute_result"
    }
   ],
   "source": [
    "all_d25.head(1)"
   ]
  },
  {
   "cell_type": "code",
   "execution_count": 479,
   "metadata": {},
   "outputs": [],
   "source": [
    "all_d25.drop(columns=['School Name', 'index', 'DBN', 'SCHOOL SUPPORT ORGANIZATION/NETWORK', \n",
    "                    'PROGRESS REPORT TYPE', 'DISTRICT', 'level_0'], inplace=True)"
   ]
  },
  {
   "cell_type": "markdown",
   "metadata": {},
   "source": [
    "### District 26"
   ]
  },
  {
   "cell_type": "code",
   "execution_count": 319,
   "metadata": {},
   "outputs": [
    {
     "name": "stdout",
     "output_type": "stream",
     "text": [
      "32\n",
      "33\n"
     ]
    }
   ],
   "source": [
    "print(len(df_school[df_school['DISTRICT']==26]))\n",
    "print(len(df_web[df_web['DISTRICT']==26]))"
   ]
  },
  {
   "cell_type": "code",
   "execution_count": 320,
   "metadata": {},
   "outputs": [],
   "source": [
    "school_d26 = df_school[df_school['DISTRICT']==26].sort_values(by=['SCHOOL'])\n",
    "web_d26 = df_web[df_web['DISTRICT']==26].sort_values(by=['School Name'])"
   ]
  },
  {
   "cell_type": "code",
   "execution_count": 321,
   "metadata": {},
   "outputs": [],
   "source": [
    "school_d26.reset_index(inplace=True)\n",
    "web_d26.reset_index(inplace=True)"
   ]
  },
  {
   "cell_type": "code",
   "execution_count": 322,
   "metadata": {},
   "outputs": [],
   "source": [
    "# school_d26\n",
    "# drop 17"
   ]
  },
  {
   "cell_type": "code",
   "execution_count": 323,
   "metadata": {},
   "outputs": [],
   "source": [
    "# web_d26\n",
    "# change 6 to JHS 216 GEORGE J RYAN\n",
    "# change 7 to JHS 067 LOUIS PASTEUR\n",
    "# change 8 to JHS 074 NATHANIEL HAWTHORNE\n",
    "# change 10 to MS 158 MARIE CURIE\n",
    "# change 11 to PS 133 QUEENS\n",
    "# change 12 to PS 159\n",
    "# change 13 to PS 162 JOHN GOLDEN\n",
    "# change 14 to PS 173 FRESH MEADOWS\n",
    "# change 15 to PS 018 WINCHESTER\n",
    "# change 16 to PS 186 CASTLEWOOD\n",
    "# change 17 to PS 188 KINGSBURY\n",
    "# change 18 to PS 191 MAYFLOWER\n",
    "# change 19 to PS 203 OAKLAND GARDENS\n",
    "# change 20 to PS 205 ALEXANDER GRAHAM BELL\n",
    "# change 21 to PS 213 The Carl Ullman School\n",
    "# change 22 to PS 221 NORTH HILLS\n",
    "# change 23 to PS 026 RUFUS KING\n",
    "# change 24 to PS 031 BAYSIDE\n",
    "# change 25 to PS 376\n",
    "# change 26 to PS 041 CROCHERON\n",
    "# change 27 to PS 046 ALLEY POND\n",
    "# change 28 to PS 094 DAVID D PORTER\n",
    "# change 29 to PS 098 THE DOUGLASTON SCHOOL\n",
    "# change 30 to PS 178 HOLLISWOOD\n",
    "# change 31 to P.S./I.S. 266\n",
    "# drop 2, 5"
   ]
  },
  {
   "cell_type": "code",
   "execution_count": 324,
   "metadata": {},
   "outputs": [],
   "source": [
    "index_26 = [6, 7, 8, 10, 11, 12, 13, 14, 15, 16, 17, 18, 19, 20, 21, 22, 23, 24, 25, 26, 27, 28, 29, 30, 31]\n",
    "school_26 = ['JHS 216 GEORGE J RYAN', 'JHS 067 LOUIS PASTEUR', 'JHS 074 NATHANIEL HAWTHORNE', \n",
    "            'MS 158 MARIE CURIE', 'PS 133 QUEENS', 'PS 159', 'PS 162 JOHN GOLDEN', 'PS 173 FRESH MEADOWS', \n",
    "            'PS 018 WINCHESTER', 'PS 186 CASTLEWOOD', 'PS 188 KINGSBURY', 'PS 191 MAYFLOWER', \n",
    "            'PS 203 OAKLAND GARDENS', 'PS 205 ALEXANDER GRAHAM BELL', 'PS 213 The Carl Ullman School',\n",
    "            'PS 221 NORTH HILLS', 'PS 026 RUFUS KING', 'PS 031 BAYSIDE', 'PS 376', 'PS 041 CROCHERON',\n",
    "            'PS 046 ALLEY POND', 'PS 094 DAVID D PORTER', 'PS 098 THE DOUGLASTON SCHOOL', 'PS 178 HOLLISWOOD',\n",
    "            'P.S./I.S. 266']\n",
    "for i,j in zip(index_26, school_26):\n",
    "    web_d26.at[i, 'School Name'] = j"
   ]
  },
  {
   "cell_type": "code",
   "execution_count": 325,
   "metadata": {},
   "outputs": [],
   "source": [
    "school_d26.drop(index=17, inplace=True)\n",
    "web_d26.drop(index=[2, 5], inplace=True)"
   ]
  },
  {
   "cell_type": "code",
   "execution_count": 326,
   "metadata": {},
   "outputs": [
    {
     "name": "stdout",
     "output_type": "stream",
     "text": [
      "31\n",
      "31\n"
     ]
    }
   ],
   "source": [
    "print(len(school_d26))\n",
    "print(len(web_d26))"
   ]
  },
  {
   "cell_type": "code",
   "execution_count": 327,
   "metadata": {},
   "outputs": [],
   "source": [
    "school_d26.reset_index(inplace=True)\n",
    "web_d26.reset_index(inplace=True)"
   ]
  },
  {
   "cell_type": "code",
   "execution_count": 328,
   "metadata": {},
   "outputs": [],
   "source": [
    "school_d26.sort_values(by=['SCHOOL'], inplace=True)\n",
    "web_d26.sort_values(by=['School Name'], inplace=True)"
   ]
  },
  {
   "cell_type": "code",
   "execution_count": 329,
   "metadata": {},
   "outputs": [],
   "source": [
    "all_d26 = pd.concat([school_d26, web_d26], axis=1)"
   ]
  },
  {
   "cell_type": "code",
   "execution_count": 330,
   "metadata": {},
   "outputs": [
    {
     "data": {
      "text/plain": [
       "31"
      ]
     },
     "execution_count": 330,
     "metadata": {},
     "output_type": "execute_result"
    }
   ],
   "source": [
    "len(all_d26)"
   ]
  },
  {
   "cell_type": "code",
   "execution_count": 480,
   "metadata": {},
   "outputs": [
    {
     "data": {
      "text/html": [
       "<div>\n",
       "<style scoped>\n",
       "    .dataframe tbody tr th:only-of-type {\n",
       "        vertical-align: middle;\n",
       "    }\n",
       "\n",
       "    .dataframe tbody tr th {\n",
       "        vertical-align: top;\n",
       "    }\n",
       "\n",
       "    .dataframe thead th {\n",
       "        text-align: right;\n",
       "    }\n",
       "</style>\n",
       "<table border=\"1\" class=\"dataframe\">\n",
       "  <thead>\n",
       "    <tr style=\"text-align: right;\">\n",
       "      <th></th>\n",
       "      <th>level_0</th>\n",
       "      <th>index</th>\n",
       "      <th>DBN</th>\n",
       "      <th>DISTRICT</th>\n",
       "      <th>SCHOOL</th>\n",
       "      <th>SCHOOL SUPPORT ORGANIZATION/NETWORK</th>\n",
       "      <th>PROGRESS REPORT TYPE</th>\n",
       "      <th>SCHOOL LEVEL*</th>\n",
       "      <th>PEER INDEX*</th>\n",
       "      <th>GRADE</th>\n",
       "      <th>...</th>\n",
       "      <th>PROGRESS CATEGORY SCORE</th>\n",
       "      <th>ADDITIONAL CREDIT</th>\n",
       "      <th>QUALITY REVIEW SCORE</th>\n",
       "      <th>level_0</th>\n",
       "      <th>index</th>\n",
       "      <th>School Name</th>\n",
       "      <th>Enrollment</th>\n",
       "      <th>Student-Teacher Ratio</th>\n",
       "      <th>Free-Reduced Lunch</th>\n",
       "      <th>DISTRICT</th>\n",
       "    </tr>\n",
       "  </thead>\n",
       "  <tbody>\n",
       "    <tr>\n",
       "      <td>0</td>\n",
       "      <td>0</td>\n",
       "      <td>989</td>\n",
       "      <td>26Q495</td>\n",
       "      <td>26</td>\n",
       "      <td>BAYSIDE HIGH SCHOOL</td>\n",
       "      <td>ICI14</td>\n",
       "      <td>HS</td>\n",
       "      <td>High School</td>\n",
       "      <td>3.15</td>\n",
       "      <td>B</td>\n",
       "      <td>...</td>\n",
       "      <td>0.619</td>\n",
       "      <td>1.5</td>\n",
       "      <td>Proficient</td>\n",
       "      <td>0</td>\n",
       "      <td>1175</td>\n",
       "      <td>Bayside High School</td>\n",
       "      <td>3,038</td>\n",
       "      <td>18.8</td>\n",
       "      <td>74%</td>\n",
       "      <td>26</td>\n",
       "    </tr>\n",
       "  </tbody>\n",
       "</table>\n",
       "<p>1 rows × 23 columns</p>\n",
       "</div>"
      ],
      "text/plain": [
       "  level_0 index     DBN DISTRICT               SCHOOL  \\\n",
       "0       0   989  26Q495       26  BAYSIDE HIGH SCHOOL   \n",
       "\n",
       "  SCHOOL SUPPORT ORGANIZATION/NETWORK PROGRESS REPORT TYPE SCHOOL LEVEL*  \\\n",
       "0                               ICI14                   HS   High School   \n",
       "\n",
       "   PEER INDEX*  GRADE  ... PROGRESS CATEGORY SCORE ADDITIONAL CREDIT  \\\n",
       "0         3.15      B  ...                   0.619               1.5   \n",
       "\n",
       "  QUALITY REVIEW SCORE level_0 index          School Name  Enrollment  \\\n",
       "0           Proficient       0  1175  Bayside High School       3,038   \n",
       "\n",
       "   Student-Teacher Ratio Free-Reduced Lunch DISTRICT  \n",
       "0                   18.8                74%       26  \n",
       "\n",
       "[1 rows x 23 columns]"
      ]
     },
     "execution_count": 480,
     "metadata": {},
     "output_type": "execute_result"
    }
   ],
   "source": [
    "all_d26.head(1)"
   ]
  },
  {
   "cell_type": "code",
   "execution_count": 481,
   "metadata": {},
   "outputs": [],
   "source": [
    "all_d26.drop(columns=['School Name', 'index', 'DBN', 'SCHOOL SUPPORT ORGANIZATION/NETWORK', \n",
    "                    'PROGRESS REPORT TYPE', 'DISTRICT', 'level_0'], inplace=True)"
   ]
  },
  {
   "cell_type": "markdown",
   "metadata": {},
   "source": [
    "### District 27"
   ]
  },
  {
   "cell_type": "code",
   "execution_count": 331,
   "metadata": {},
   "outputs": [
    {
     "name": "stdout",
     "output_type": "stream",
     "text": [
      "44\n",
      "63\n"
     ]
    }
   ],
   "source": [
    "print(len(df_school[df_school['DISTRICT']==27]))\n",
    "print(len(df_web[df_web['DISTRICT']==27]))"
   ]
  },
  {
   "cell_type": "code",
   "execution_count": 332,
   "metadata": {},
   "outputs": [],
   "source": [
    "school_d27 = df_school[df_school['DISTRICT']==27].sort_values(by=['SCHOOL'])\n",
    "web_d27 = df_web[df_web['DISTRICT']==27].sort_values(by=['School Name'])"
   ]
  },
  {
   "cell_type": "code",
   "execution_count": 333,
   "metadata": {},
   "outputs": [],
   "source": [
    "school_d27.reset_index(inplace=True)\n",
    "web_d27.reset_index(inplace=True)"
   ]
  },
  {
   "cell_type": "code",
   "execution_count": 334,
   "metadata": {},
   "outputs": [],
   "source": [
    "# school_d27\n",
    "# drop 1, 3, 26, 35, 37, "
   ]
  },
  {
   "cell_type": "code",
   "execution_count": 335,
   "metadata": {},
   "outputs": [],
   "source": [
    "# web_d27[0:44]\n",
    "# change 11 to JHS 202 ROBERT H GODDARD\n",
    "# change 12 to JHS 210 ELIZABETH BLACKWELL\n",
    "# change 13 to JHS 226 VIRGIL I GRISSOM\n",
    "# change 16 to MS 137 AMERICA'S SCHL OF HEROES\n",
    "# change 17 to I S 053 BRIAN PICCOLO\n",
    "# change 19 to PS 100 GLEN MORRIS\n",
    "# change 20 to PS 104 THE BAYS WATER\n",
    "# change 21 to PS 105 THE BAY SCHOOL\n",
    "# change 22 to PS 108 CAPT. VINCENT G. FOWLER\n",
    "# change 23 to PS 123\n",
    "# change 24 to PS 124 OSMOND A CHURCH\n",
    "# change 25 to PS 146 HOWARD BEACH\n",
    "# change 26 to PS 155\n",
    "# change 27 to PS 183 DR. RICHARD R. GREEN\n",
    "# change 28 to PS 197 THE OCEAN SCHOOL\n",
    "# change 29 to PS 207 ROCKWOOD PARK\n",
    "# change 30 to PS 223 LYNDON B JOHNSON\n",
    "# change 31 to PS 232 LINDENWOOD\n",
    "# change 32 to PS 253\n",
    "# change 33 to PS 254\n",
    "# change 36 to PS 043\n",
    "# change 37 to PS 045 CLARENCE WITHERSPOON\n",
    "# change 38 to PS 047 CHRIS GALAS\n",
    "# change 40 to PS 056 HARRY EICHLER\n",
    "# change 41 to PS 060 WOODHAVEN\n",
    "# change 42 to PS 062 CHESTER PARK\n",
    "# change 43 to PS 063 OLD SOUTH\n",
    "# change 44 to PS 064 JOSEPH P. ADDABBO\n",
    "# change 46 to PS 066 JACQUELINE KENNEDY ONASSIS\n",
    "# change 47 to PS 090 HORACE MANN\n",
    "# change 48 to PS 096\n",
    "# change 49 to PS 097 FOREST PARK\n",
    "# change 50 to PS/MS 114 BELLE HARBOR\n",
    "# change 51 to PS 042 R VERNAM\n",
    "# change 57 to THE SCHOLARS' ACADEMY\n",
    "# drop 0, 1, 2, 5, 6, 7, 8, 9, 14, 15, 18, 34, 35, 39, 45, 52, 54, 55, 56, 58, 59, 60, 61, 62"
   ]
  },
  {
   "cell_type": "code",
   "execution_count": 336,
   "metadata": {},
   "outputs": [],
   "source": [
    "index_27 = [11, 12, 13, 16, 17, 19, 20, 21, 22, 23, 24, 25, 26, 27, 28, 29, 30, 31, 32, 33, 36, 37, 38, 40, 41, 42,\n",
    "           43, 44, 46, 47, 48, 49, 50, 51, 57]\n",
    "school_27 = ['JHS 202 ROBERT H GODDARD', 'JHS 210 ELIZABETH BLACKWELL', 'JHS 226 VIRGIL I GRISSOM',\n",
    "            'MS 137 AMERICAS SCHL OF HEROES', 'I S 053 BRIAN PICCOLO', 'PS 100 GLEN MORRIS', \n",
    "            'PS 104 THE BAYS WATER', 'PS 105 THE BAY SCHOOL', 'PS 108 CAPT. VINCENT G. FOWLER', \n",
    "            'PS 123', 'PS 124 OSMOND A CHURCH', 'PS 146 HOWARD BEACH', 'PS 155', 'PS 183 DR. RICHARD R. GREEN',\n",
    "            'PS 197 THE OCEAN SCHOOL', 'PS 207 ROCKWOOD PARK', 'PS 223 LYNDON B JOHNSON', 'PS 232 LINDENWOOD', \n",
    "            'PS 253', 'PS 254', 'PS 043', 'PS 045 CLARENCE WITHERSPOON', 'PS 047 CHRIS GALAS', 'PS 056 HARRY EICHLER',\n",
    "            'PS 060 WOODHAVEN', 'PS 062 CHESTER PARK', 'PS 063 OLD SOUTH', 'PS 064 JOSEPH P. ADDABBO', \n",
    "            'PS 066 JACQUELINE KENNEDY ONASSIS', 'PS 090 HORACE MANN', 'PS 096', 'PS 097 FOREST PARK', \n",
    "            'PS/MS 114 BELLE HARBOR', 'PS 042 R VERNAM', 'THE SCHOLARS ACADEMY']\n",
    "for i,j in zip(index_27, school_27):\n",
    "    web_d27.at[i, 'School Name'] = j"
   ]
  },
  {
   "cell_type": "code",
   "execution_count": 337,
   "metadata": {},
   "outputs": [],
   "source": [
    "school_d27.drop(index=[1, 3, 26, 35, 37], inplace=True)\n",
    "web_d27.drop(index=[0, 1, 2, 5, 6, 7, 8, 9, 14, 15, 18, 34, 35, 39, 45, 52, 54, 55, 56, 58, 59, 60, 61, 62], \n",
    "            inplace=True)"
   ]
  },
  {
   "cell_type": "code",
   "execution_count": 338,
   "metadata": {},
   "outputs": [
    {
     "name": "stdout",
     "output_type": "stream",
     "text": [
      "39\n",
      "39\n"
     ]
    }
   ],
   "source": [
    "print(len(school_d27))\n",
    "print(len(web_d27))"
   ]
  },
  {
   "cell_type": "code",
   "execution_count": 339,
   "metadata": {},
   "outputs": [],
   "source": [
    "school_d27.reset_index(inplace=True)\n",
    "web_d27.reset_index(inplace=True)"
   ]
  },
  {
   "cell_type": "code",
   "execution_count": 340,
   "metadata": {},
   "outputs": [],
   "source": [
    "school_d27.sort_values(by=['SCHOOL'], inplace=True)\n",
    "web_d27.sort_values(by=['School Name'], inplace=True)"
   ]
  },
  {
   "cell_type": "code",
   "execution_count": 341,
   "metadata": {},
   "outputs": [],
   "source": [
    "all_d27 = pd.concat([school_d27, web_d27], axis=1)"
   ]
  },
  {
   "cell_type": "code",
   "execution_count": 342,
   "metadata": {},
   "outputs": [
    {
     "data": {
      "text/plain": [
       "39"
      ]
     },
     "execution_count": 342,
     "metadata": {},
     "output_type": "execute_result"
    }
   ],
   "source": [
    "len(all_d27)"
   ]
  },
  {
   "cell_type": "code",
   "execution_count": 482,
   "metadata": {},
   "outputs": [
    {
     "data": {
      "text/html": [
       "<div>\n",
       "<style scoped>\n",
       "    .dataframe tbody tr th:only-of-type {\n",
       "        vertical-align: middle;\n",
       "    }\n",
       "\n",
       "    .dataframe tbody tr th {\n",
       "        vertical-align: top;\n",
       "    }\n",
       "\n",
       "    .dataframe thead th {\n",
       "        text-align: right;\n",
       "    }\n",
       "</style>\n",
       "<table border=\"1\" class=\"dataframe\">\n",
       "  <thead>\n",
       "    <tr style=\"text-align: right;\">\n",
       "      <th></th>\n",
       "      <th>level_0</th>\n",
       "      <th>index</th>\n",
       "      <th>DBN</th>\n",
       "      <th>DISTRICT</th>\n",
       "      <th>SCHOOL</th>\n",
       "      <th>SCHOOL SUPPORT ORGANIZATION/NETWORK</th>\n",
       "      <th>PROGRESS REPORT TYPE</th>\n",
       "      <th>SCHOOL LEVEL*</th>\n",
       "      <th>PEER INDEX*</th>\n",
       "      <th>GRADE</th>\n",
       "      <th>...</th>\n",
       "      <th>PROGRESS CATEGORY SCORE</th>\n",
       "      <th>ADDITIONAL CREDIT</th>\n",
       "      <th>QUALITY REVIEW SCORE</th>\n",
       "      <th>level_0</th>\n",
       "      <th>index</th>\n",
       "      <th>School Name</th>\n",
       "      <th>Enrollment</th>\n",
       "      <th>Student-Teacher Ratio</th>\n",
       "      <th>Free-Reduced Lunch</th>\n",
       "      <th>DISTRICT</th>\n",
       "    </tr>\n",
       "  </thead>\n",
       "  <tbody>\n",
       "    <tr>\n",
       "      <td>0</td>\n",
       "      <td>0</td>\n",
       "      <td>1031</td>\n",
       "      <td>27Q400</td>\n",
       "      <td>27</td>\n",
       "      <td>AUGUST MARTIN HIGH SCHOOL</td>\n",
       "      <td>KNLSO3</td>\n",
       "      <td>HS</td>\n",
       "      <td>High School</td>\n",
       "      <td>2.47</td>\n",
       "      <td>D</td>\n",
       "      <td>...</td>\n",
       "      <td>0.295</td>\n",
       "      <td>1.5</td>\n",
       "      <td>Well-Developed</td>\n",
       "      <td>3</td>\n",
       "      <td>1209</td>\n",
       "      <td>August Martin High School</td>\n",
       "      <td>328</td>\n",
       "      <td>13.1</td>\n",
       "      <td>86.3%</td>\n",
       "      <td>27</td>\n",
       "    </tr>\n",
       "  </tbody>\n",
       "</table>\n",
       "<p>1 rows × 23 columns</p>\n",
       "</div>"
      ],
      "text/plain": [
       "  level_0 index     DBN DISTRICT                     SCHOOL  \\\n",
       "0       0  1031  27Q400       27  AUGUST MARTIN HIGH SCHOOL   \n",
       "\n",
       "  SCHOOL SUPPORT ORGANIZATION/NETWORK PROGRESS REPORT TYPE SCHOOL LEVEL*  \\\n",
       "0                              KNLSO3                   HS   High School   \n",
       "\n",
       "   PEER INDEX*  GRADE  ... PROGRESS CATEGORY SCORE ADDITIONAL CREDIT  \\\n",
       "0         2.47      D  ...                   0.295               1.5   \n",
       "\n",
       "  QUALITY REVIEW SCORE level_0 index                School Name  Enrollment  \\\n",
       "0       Well-Developed       3  1209  August Martin High School         328   \n",
       "\n",
       "   Student-Teacher Ratio Free-Reduced Lunch DISTRICT  \n",
       "0                   13.1              86.3%       27  \n",
       "\n",
       "[1 rows x 23 columns]"
      ]
     },
     "execution_count": 482,
     "metadata": {},
     "output_type": "execute_result"
    }
   ],
   "source": [
    "all_d27.head(1)"
   ]
  },
  {
   "cell_type": "code",
   "execution_count": 483,
   "metadata": {},
   "outputs": [],
   "source": [
    "all_d27.drop(columns=['School Name', 'index', 'DBN', 'SCHOOL SUPPORT ORGANIZATION/NETWORK', \n",
    "                    'PROGRESS REPORT TYPE', 'DISTRICT', 'level_0'], inplace=True)"
   ]
  },
  {
   "cell_type": "markdown",
   "metadata": {},
   "source": [
    "### District 28"
   ]
  },
  {
   "cell_type": "code",
   "execution_count": 343,
   "metadata": {},
   "outputs": [
    {
     "name": "stdout",
     "output_type": "stream",
     "text": [
      "37\n",
      "50\n"
     ]
    }
   ],
   "source": [
    "print(len(df_school[df_school['DISTRICT']==28]))\n",
    "print(len(df_web[df_web['DISTRICT']==28]))"
   ]
  },
  {
   "cell_type": "code",
   "execution_count": 344,
   "metadata": {},
   "outputs": [],
   "source": [
    "school_d28 = df_school[df_school['DISTRICT']==28].sort_values(by=['SCHOOL'])\n",
    "web_d28 = df_web[df_web['DISTRICT']==28].sort_values(by=['School Name'])"
   ]
  },
  {
   "cell_type": "code",
   "execution_count": 345,
   "metadata": {},
   "outputs": [],
   "source": [
    "school_d28.reset_index(inplace=True)\n",
    "web_d28.reset_index(inplace=True)"
   ]
  },
  {
   "cell_type": "code",
   "execution_count": 346,
   "metadata": {},
   "outputs": [],
   "source": [
    "# school_d28\n",
    "# drop 3, 9, 32"
   ]
  },
  {
   "cell_type": "code",
   "execution_count": 347,
   "metadata": {},
   "outputs": [],
   "source": [
    "# web_d28\n",
    "# change 1 to JHS 072 CATH. & COUNT BASIE\n",
    "# change 11 to JHS 157 STEPHEN A HALSEY\n",
    "# change 12 to JHS 190 RUSSELL SAGE\n",
    "# change 13 to JHS 217 ROBERT A VAN WYCK\n",
    "# change 14 to JHS 008 RICHARD S GROSSLEY\n",
    "# change 17 to PS 101 SCHOOL IN THE GARDENS\n",
    "# change 18 to PS 117 J.KELD/BRIARWOOD SCH\n",
    "# change 19 to PS 121 QUEENS\n",
    "# change 20 to PS 139 REGO PARK\n",
    "# change 21 to PS 140 EDWARD K ELLINGTON\n",
    "# change 22 to PS 144 COL JEROMUS REMSEN\n",
    "# change 23 to PS 160 WALTER FRANCIS BISHOP\n",
    "# change 24 to PS 161 ARTHUR ASHE SCHOOL\n",
    "# change 25 to PS 174 WILLIAM SIDNEY MOUNT\n",
    "# change 26 to PS 175 THE LYNN GROSS DISCOVERY SCHOOL\n",
    "# change 28 to PS 196 GRAND CENTRAL PKWY\n",
    "# change 29 to PS 206 HORACE HARDING\n",
    "# change 30 to PS 220 EDWARD MANDEL\n",
    "# change 31 to PS 040 SAMUEL HUNTINGTON\n",
    "# change 32 to PS 048 WILLIAM WORDSWORTH\n",
    "# change 33 to PS 050 TALFOURD LAWN ELEMENTARY SCHOOL\n",
    "# change 34 to PS 054 HILLSIDE\n",
    "# change 35 to PS 055 MAURE\n",
    "# change 36 to PS 080 THURGOOD MARSHALL MAGNET\n",
    "# change 37 to PS 082 HAMMOND\n",
    "# change 38 to PS 086 QUEENS\n",
    "# change 39 to PS 099 KEW GARDENS\n",
    "# change 42 to QUEENS GATEWAY TO HEALTH SCIENCES SECONDARY SCHOOL\n",
    "# change 47 to THOMAS A. EDISON CAREER AND TECHNICAL EDUCATION HI\n",
    "# change 49 to YOUNG WOMEN'S LEADERSHIP SCHOOL QUEENS\n",
    "# drop 0, 2, 4, 7, 8, 9, 10, 15, 16, 27, 40, 43, 44, 45, 46, 48"
   ]
  },
  {
   "cell_type": "code",
   "execution_count": 348,
   "metadata": {},
   "outputs": [],
   "source": [
    "index_28 = [1, 11, 12, 13, 14, 17, 18, 19, 20, 21, 22, 23, 24, 25, 26, 28, 29, 30, 31, 34, 35, 36, 37, 38, 39, 42,\n",
    "           47, 49]\n",
    "school_28 = ['JHS 072 CATH. & COUNT BASIE', 'JHS 157 STEPHEN A HALSEY', 'JHS 190 RUSSELL SAGE', \n",
    "            'JHS 217 ROBERT A VAN WYCK', 'JHS 008 RICHARD S GROSSLEY', 'PS 101 SCHOOL IN THE GARDENS', \n",
    "            'PS 117 J.KELD/BRIARWOOD SCH', 'PS 121 QUEENS', 'PS 139 REGO PARK', 'PS 140 EDWARD K ELLINGTON', \n",
    "            'PS 144 COL JEROMUS REMSEN', 'PS 160 WALTER FRANCIS BISHOP', 'PS 161 ARTHUR ASHE SCHOOL', \n",
    "            'PS 174 WILLIAM SIDNEY MOUNT', 'PS 175 THE LYNN GROSS DISCOVERY SCHOOL', 'PS 196 GRAND CENTRAL PKWY',\n",
    "            'PS 206 HORACE HARDING', 'PS 220 EDWARD MANDEL', 'PS 040 SAMUEL HUNTINGTON', 'PS 048 WILLIAM WORDSWORTH',\n",
    "            'PS 050 TALFOURD LAWN ELEMENTARY SCHOOL', 'PS 054 HILLSIDE', 'PS 055 MAURE', 'PS 080 THURGOOD MARSHALL MAGNET',\n",
    "            'pS 082 HAMMOND', 'PS 086 QUEENS', 'PS 099 KEW GARDENS', 'QUEENS GATEWAY TO HEALTH SCIENCES SECONDARY SCHOOL',\n",
    "            'THOMAS A. EDISON CAREER AND TECHNICAL EDUCATION HI', 'YOUNG WOMENS LEADERSHIP SCHOOL QUEENS']\n",
    "for i,j in zip(index_28, school_28):\n",
    "    web_d28.at[i, 'School Name'] = j"
   ]
  },
  {
   "cell_type": "code",
   "execution_count": 349,
   "metadata": {},
   "outputs": [],
   "source": [
    "school_d28.drop(index=[3, 9, 32], inplace=True)\n",
    "web_d28.drop(index=[0, 2, 4, 7, 8, 9, 10, 15, 16, 27, 40, 43, 44, 45, 46, 48], inplace=True)"
   ]
  },
  {
   "cell_type": "code",
   "execution_count": 350,
   "metadata": {},
   "outputs": [
    {
     "name": "stdout",
     "output_type": "stream",
     "text": [
      "34\n",
      "34\n"
     ]
    }
   ],
   "source": [
    "print(len(school_d28))\n",
    "print(len(web_d28))"
   ]
  },
  {
   "cell_type": "code",
   "execution_count": 351,
   "metadata": {},
   "outputs": [],
   "source": [
    "school_d28.reset_index(inplace=True)\n",
    "web_d28.reset_index(inplace=True)"
   ]
  },
  {
   "cell_type": "code",
   "execution_count": 352,
   "metadata": {},
   "outputs": [],
   "source": [
    "school_d28.sort_values(by=['SCHOOL'], inplace=True)\n",
    "web_d28.sort_values(by=['School Name'], inplace=True)"
   ]
  },
  {
   "cell_type": "code",
   "execution_count": 353,
   "metadata": {},
   "outputs": [],
   "source": [
    "all_d28 = pd.concat([school_d28, web_d28], axis=1)"
   ]
  },
  {
   "cell_type": "code",
   "execution_count": 354,
   "metadata": {},
   "outputs": [
    {
     "data": {
      "text/plain": [
       "34"
      ]
     },
     "execution_count": 354,
     "metadata": {},
     "output_type": "execute_result"
    }
   ],
   "source": [
    "len(all_d28)"
   ]
  },
  {
   "cell_type": "code",
   "execution_count": 484,
   "metadata": {},
   "outputs": [
    {
     "data": {
      "text/html": [
       "<div>\n",
       "<style scoped>\n",
       "    .dataframe tbody tr th:only-of-type {\n",
       "        vertical-align: middle;\n",
       "    }\n",
       "\n",
       "    .dataframe tbody tr th {\n",
       "        vertical-align: top;\n",
       "    }\n",
       "\n",
       "    .dataframe thead th {\n",
       "        text-align: right;\n",
       "    }\n",
       "</style>\n",
       "<table border=\"1\" class=\"dataframe\">\n",
       "  <thead>\n",
       "    <tr style=\"text-align: right;\">\n",
       "      <th></th>\n",
       "      <th>level_0</th>\n",
       "      <th>index</th>\n",
       "      <th>DBN</th>\n",
       "      <th>DISTRICT</th>\n",
       "      <th>SCHOOL</th>\n",
       "      <th>SCHOOL SUPPORT ORGANIZATION/NETWORK</th>\n",
       "      <th>PROGRESS REPORT TYPE</th>\n",
       "      <th>SCHOOL LEVEL*</th>\n",
       "      <th>PEER INDEX*</th>\n",
       "      <th>GRADE</th>\n",
       "      <th>...</th>\n",
       "      <th>PROGRESS CATEGORY SCORE</th>\n",
       "      <th>ADDITIONAL CREDIT</th>\n",
       "      <th>QUALITY REVIEW SCORE</th>\n",
       "      <th>level_0</th>\n",
       "      <th>index</th>\n",
       "      <th>School Name</th>\n",
       "      <th>Enrollment</th>\n",
       "      <th>Student-Teacher Ratio</th>\n",
       "      <th>Free-Reduced Lunch</th>\n",
       "      <th>DISTRICT</th>\n",
       "    </tr>\n",
       "  </thead>\n",
       "  <tbody>\n",
       "    <tr>\n",
       "      <td>0</td>\n",
       "      <td>0</td>\n",
       "      <td>1064</td>\n",
       "      <td>28Q440</td>\n",
       "      <td>28</td>\n",
       "      <td>FOREST HILLS HIGH SCHOOL</td>\n",
       "      <td>ICI2</td>\n",
       "      <td>HS</td>\n",
       "      <td>High School</td>\n",
       "      <td>2.95</td>\n",
       "      <td>B</td>\n",
       "      <td>...</td>\n",
       "      <td>0.587</td>\n",
       "      <td>4.5</td>\n",
       "      <td>Proficient</td>\n",
       "      <td>1</td>\n",
       "      <td>1279</td>\n",
       "      <td>JHS 072 CATH. &amp; COUNT BASIE</td>\n",
       "      <td>378</td>\n",
       "      <td>11.1</td>\n",
       "      <td>81.7%</td>\n",
       "      <td>28</td>\n",
       "    </tr>\n",
       "  </tbody>\n",
       "</table>\n",
       "<p>1 rows × 23 columns</p>\n",
       "</div>"
      ],
      "text/plain": [
       "  level_0 index     DBN DISTRICT                    SCHOOL  \\\n",
       "0       0  1064  28Q440       28  FOREST HILLS HIGH SCHOOL   \n",
       "\n",
       "  SCHOOL SUPPORT ORGANIZATION/NETWORK PROGRESS REPORT TYPE SCHOOL LEVEL*  \\\n",
       "0                                ICI2                   HS   High School   \n",
       "\n",
       "   PEER INDEX*  GRADE  ... PROGRESS CATEGORY SCORE ADDITIONAL CREDIT  \\\n",
       "0         2.95      B  ...                   0.587               4.5   \n",
       "\n",
       "  QUALITY REVIEW SCORE level_0 index                  School Name  Enrollment  \\\n",
       "0           Proficient       1  1279  JHS 072 CATH. & COUNT BASIE         378   \n",
       "\n",
       "   Student-Teacher Ratio Free-Reduced Lunch DISTRICT  \n",
       "0                   11.1              81.7%       28  \n",
       "\n",
       "[1 rows x 23 columns]"
      ]
     },
     "execution_count": 484,
     "metadata": {},
     "output_type": "execute_result"
    }
   ],
   "source": [
    "all_d28.head(1)"
   ]
  },
  {
   "cell_type": "code",
   "execution_count": 485,
   "metadata": {},
   "outputs": [],
   "source": [
    "all_d28.drop(columns=['School Name', 'index', 'DBN', 'SCHOOL SUPPORT ORGANIZATION/NETWORK', \n",
    "                    'PROGRESS REPORT TYPE', 'DISTRICT', 'level_0'], inplace=True)"
   ]
  },
  {
   "cell_type": "markdown",
   "metadata": {},
   "source": [
    "### District 29"
   ]
  },
  {
   "cell_type": "code",
   "execution_count": 355,
   "metadata": {},
   "outputs": [
    {
     "name": "stdout",
     "output_type": "stream",
     "text": [
      "36\n",
      "46\n"
     ]
    }
   ],
   "source": [
    "print(len(df_school[df_school['DISTRICT']==29]))\n",
    "print(len(df_web[df_web['DISTRICT']==29]))"
   ]
  },
  {
   "cell_type": "code",
   "execution_count": 356,
   "metadata": {},
   "outputs": [],
   "source": [
    "school_d29 = df_school[df_school['DISTRICT']==29].sort_values(by=['SCHOOL'])\n",
    "web_d29 = df_web[df_web['DISTRICT']==29].sort_values(by=['School Name'])"
   ]
  },
  {
   "cell_type": "code",
   "execution_count": 357,
   "metadata": {},
   "outputs": [],
   "source": [
    "school_d29.reset_index(inplace=True)\n",
    "web_d29.reset_index(inplace=True)"
   ]
  },
  {
   "cell_type": "code",
   "execution_count": 358,
   "metadata": {},
   "outputs": [],
   "source": [
    "# school_d29\n",
    "# drop 0, 7, 9, 13, "
   ]
  },
  {
   "cell_type": "code",
   "execution_count": 359,
   "metadata": {},
   "outputs": [],
   "source": [
    "# web_d29\n",
    "# change 0 to THE BELLAIRE SCHOOL\n",
    "# change 10 to HUMANITIES & ARTS MAGNET HIGH SCHOOL\n",
    "# change 12 to IS 192 THE LINDEN\n",
    "# change 13 to I S 238 SUSAN B ANTHONY\n",
    "# change 14 to I S 059 SPRINGFIELD GARDENS\n",
    "# change 16 to MATHEMATICS, SCIENCE RESEARCH AND TECHNOLOGY MAGNET\n",
    "# change 19 to PS 118 LORRAINE HANSBERRY\n",
    "# change 20 to PS 131 ABIGAIL ADAMS\n",
    "# change 21 to PS 132 RALPH BUNCHE\n",
    "# change 22 to PS 134 HOLLIS\n",
    "# change 23 to PS 136 ROY WILKINS\n",
    "# change 24 to PS 015 JACKIE ROBINSON\n",
    "# change 25 to PS 156 LAURELTON\n",
    "# change 26 to PS 176 CAMBRIA HEIGHTS\n",
    "# change 27 to PS 181 BROOKFIELD\n",
    "# change 28 to PS 195 WILLIAM HABERLE\n",
    "# change 30 to PS 033 EDWARD M. FUNK\n",
    "# change 31 to PS 034 JOHN HARVARD\n",
    "# change 32 to PS 035 NATHANIEL WOODHULL\n",
    "# change 33 to PS 036 ST ALBANS SCHOOL\n",
    "# change 35 to PS 038 ROSEDALE\n",
    "# change 36 to PS 052 QUEENS\n",
    "# change 37 to PS 095 EASTWOOD\n",
    "# change 38 to PS 116 WILLIAM C. HUGHLEY\n",
    "# change 39 to P.S./I.S. 208\n",
    "# change 40 to P.S. 268\n",
    "# change 42 to PS 138 SUNRISE\n",
    "# change 43 to PS 147 RONALD MCNAIR\n",
    "# drop 1, 2, 3, 4, 6, 7, 9, 11, 18, 29, 34, 41, 44, 45"
   ]
  },
  {
   "cell_type": "code",
   "execution_count": 360,
   "metadata": {},
   "outputs": [],
   "source": [
    "index_29 = [0, 10, 12, 13, 14, 16, 19, 20, 21, 22, 23, 24, 25, 26, 27, 28, 30, 31, 32, 33, 35, 36, 37, 38, 39,\n",
    "           40, 42, 43]\n",
    "school_29 = ['THE BELLAIRE SCHOOL', 'HUMANITIES & ARTS MAGNET HIGH SCHOOL', 'IS 192 THE LINDEN', \n",
    "            'I S 238 SUSAN B ANTHONY', 'I S 059 SPRINGFIELD GARDENS', \n",
    "            'MATHEMATICS, SCIENCE RESEARCH AND TECHNOLOGY MAGNET',\n",
    "            'PS 118 LORRAINE HANSBERRY', 'PS 131 ABIGAIL ADAMS', 'PS 132 RALPH BUNCHE', 'PS 134 HOLLIS',\n",
    "            'PS 136 ROY WILKINS', 'PS 015 JACKIE ROBINSON', 'PS 156 LAURELTON', 'PS 176 CAMBRIA HEIGHTS',\n",
    "            'PS 181 BROOKFIELD', 'PS 195 WILLIAM HABERLE', 'PS 033 EDWARD M. FUNK', 'PS 034 JOHN HARVARD', \n",
    "            'PS 035 NATHANIEL WOODHULL', 'PS 036 ST ALBANS SCHOOL', 'PS 038 ROSEDALE', 'PS 052 QUEENS',\n",
    "            'PS 095 EASTWOOD', 'PS 116 WILLIAM C. HUGHLEY', 'P.S./I.S. 208', 'P.S. 268', 'PS 138 SUNRISE',\n",
    "            'PS 147 RONALD MCNAIR']\n",
    "for i,j in zip(index_29, school_29):\n",
    "    web_d29.at[i, 'School Name'] = j"
   ]
  },
  {
   "cell_type": "code",
   "execution_count": 361,
   "metadata": {},
   "outputs": [],
   "source": [
    "school_d29.drop(index=[0, 7, 9, 13], inplace=True)\n",
    "web_d29.drop(index=[1, 2, 3, 4, 6, 7, 9, 11, 18, 29, 34, 41, 44, 45], inplace=True)"
   ]
  },
  {
   "cell_type": "code",
   "execution_count": 362,
   "metadata": {},
   "outputs": [
    {
     "name": "stdout",
     "output_type": "stream",
     "text": [
      "32\n",
      "32\n"
     ]
    }
   ],
   "source": [
    "print(len(school_d29))\n",
    "print(len(web_d29))"
   ]
  },
  {
   "cell_type": "code",
   "execution_count": 363,
   "metadata": {},
   "outputs": [],
   "source": [
    "school_d29.reset_index(inplace=True)\n",
    "web_d29.reset_index(inplace=True)"
   ]
  },
  {
   "cell_type": "code",
   "execution_count": 364,
   "metadata": {},
   "outputs": [],
   "source": [
    "school_d29.sort_values(by=['SCHOOL'], inplace=True)\n",
    "web_d29.sort_values(by=['School Name'], inplace=True)"
   ]
  },
  {
   "cell_type": "code",
   "execution_count": 365,
   "metadata": {},
   "outputs": [],
   "source": [
    "all_d29 = pd.concat([school_d29, web_d29], axis=1)"
   ]
  },
  {
   "cell_type": "code",
   "execution_count": 366,
   "metadata": {},
   "outputs": [
    {
     "data": {
      "text/plain": [
       "32"
      ]
     },
     "execution_count": 366,
     "metadata": {},
     "output_type": "execute_result"
    }
   ],
   "source": [
    "len(all_d29)"
   ]
  },
  {
   "cell_type": "code",
   "execution_count": 486,
   "metadata": {},
   "outputs": [
    {
     "data": {
      "text/html": [
       "<div>\n",
       "<style scoped>\n",
       "    .dataframe tbody tr th:only-of-type {\n",
       "        vertical-align: middle;\n",
       "    }\n",
       "\n",
       "    .dataframe tbody tr th {\n",
       "        vertical-align: top;\n",
       "    }\n",
       "\n",
       "    .dataframe thead th {\n",
       "        text-align: right;\n",
       "    }\n",
       "</style>\n",
       "<table border=\"1\" class=\"dataframe\">\n",
       "  <thead>\n",
       "    <tr style=\"text-align: right;\">\n",
       "      <th></th>\n",
       "      <th>level_0</th>\n",
       "      <th>index</th>\n",
       "      <th>DBN</th>\n",
       "      <th>DISTRICT</th>\n",
       "      <th>SCHOOL</th>\n",
       "      <th>SCHOOL SUPPORT ORGANIZATION/NETWORK</th>\n",
       "      <th>PROGRESS REPORT TYPE</th>\n",
       "      <th>SCHOOL LEVEL*</th>\n",
       "      <th>PEER INDEX*</th>\n",
       "      <th>GRADE</th>\n",
       "      <th>...</th>\n",
       "      <th>PROGRESS CATEGORY SCORE</th>\n",
       "      <th>ADDITIONAL CREDIT</th>\n",
       "      <th>QUALITY REVIEW SCORE</th>\n",
       "      <th>level_0</th>\n",
       "      <th>index</th>\n",
       "      <th>School Name</th>\n",
       "      <th>Enrollment</th>\n",
       "      <th>Student-Teacher Ratio</th>\n",
       "      <th>Free-Reduced Lunch</th>\n",
       "      <th>DISTRICT</th>\n",
       "    </tr>\n",
       "  </thead>\n",
       "  <tbody>\n",
       "    <tr>\n",
       "      <td>0</td>\n",
       "      <td>1</td>\n",
       "      <td>1078</td>\n",
       "      <td>29Q037</td>\n",
       "      <td>29</td>\n",
       "      <td>CYNTHIA JENKINS SCHOOL</td>\n",
       "      <td>ESO21</td>\n",
       "      <td>ESMS</td>\n",
       "      <td>Elementary School</td>\n",
       "      <td>66.76</td>\n",
       "      <td>B</td>\n",
       "      <td>...</td>\n",
       "      <td>0.767</td>\n",
       "      <td>4.5</td>\n",
       "      <td>Proficient</td>\n",
       "      <td>0</td>\n",
       "      <td>1340</td>\n",
       "      <td>THE BELLAIRE SCHOOL</td>\n",
       "      <td>989</td>\n",
       "      <td>16.2</td>\n",
       "      <td>57.4%</td>\n",
       "      <td>29</td>\n",
       "    </tr>\n",
       "  </tbody>\n",
       "</table>\n",
       "<p>1 rows × 23 columns</p>\n",
       "</div>"
      ],
      "text/plain": [
       "  level_0 index     DBN DISTRICT                  SCHOOL  \\\n",
       "0       1  1078  29Q037       29  CYNTHIA JENKINS SCHOOL   \n",
       "\n",
       "  SCHOOL SUPPORT ORGANIZATION/NETWORK PROGRESS REPORT TYPE      SCHOOL LEVEL*  \\\n",
       "0                               ESO21                 ESMS  Elementary School   \n",
       "\n",
       "   PEER INDEX*  GRADE  ... PROGRESS CATEGORY SCORE ADDITIONAL CREDIT  \\\n",
       "0        66.76      B  ...                   0.767               4.5   \n",
       "\n",
       "  QUALITY REVIEW SCORE level_0 index          School Name  Enrollment  \\\n",
       "0           Proficient       0  1340  THE BELLAIRE SCHOOL         989   \n",
       "\n",
       "   Student-Teacher Ratio Free-Reduced Lunch DISTRICT  \n",
       "0                   16.2              57.4%       29  \n",
       "\n",
       "[1 rows x 23 columns]"
      ]
     },
     "execution_count": 486,
     "metadata": {},
     "output_type": "execute_result"
    }
   ],
   "source": [
    "all_d29.head(1)"
   ]
  },
  {
   "cell_type": "code",
   "execution_count": 487,
   "metadata": {},
   "outputs": [],
   "source": [
    "all_d29.drop(columns=['School Name', 'index', 'DBN', 'SCHOOL SUPPORT ORGANIZATION/NETWORK', \n",
    "                    'PROGRESS REPORT TYPE', 'DISTRICT', 'level_0'], inplace=True)"
   ]
  },
  {
   "cell_type": "markdown",
   "metadata": {},
   "source": [
    "### District 30"
   ]
  },
  {
   "cell_type": "code",
   "execution_count": 367,
   "metadata": {},
   "outputs": [
    {
     "name": "stdout",
     "output_type": "stream",
     "text": [
      "38\n",
      "48\n"
     ]
    }
   ],
   "source": [
    "print(len(df_school[df_school['DISTRICT']==30]))\n",
    "print(len(df_web[df_web['DISTRICT']==30]))"
   ]
  },
  {
   "cell_type": "code",
   "execution_count": 368,
   "metadata": {},
   "outputs": [],
   "source": [
    "school_d30 = df_school[df_school['DISTRICT']==30].sort_values(by=['SCHOOL'])\n",
    "web_d30 = df_web[df_web['DISTRICT']==30].sort_values(by=['School Name'])"
   ]
  },
  {
   "cell_type": "code",
   "execution_count": 369,
   "metadata": {},
   "outputs": [],
   "source": [
    "school_d30.reset_index(inplace=True)\n",
    "web_d30.reset_index(inplace=True)"
   ]
  },
  {
   "cell_type": "code",
   "execution_count": 370,
   "metadata": {},
   "outputs": [],
   "source": [
    "# school_d30\n",
    "# drop 2, "
   ]
  },
  {
   "cell_type": "code",
   "execution_count": 371,
   "metadata": {},
   "outputs": [],
   "source": [
    "# web_d30\n",
    "# change 11 to IS 010 HORACE GREELEY\n",
    "# change 12 to IS 141 THE STEINWAY\n",
    "# change 13 to IS 145 JOSEPH PULITZER\n",
    "# change 14 to IS 204 OLIVER W HOLMES\n",
    "# change 15 to I S 227 LOUIS ARMSTRONG\n",
    "# change 16 to INTERMEDIATE SCHOOL 230\n",
    "# change 20 to PS 011 KATHRYN PHELAN\n",
    "# change 21 to PS 111 JACOB BLACKWELL\n",
    "# change 22 to PS 112 DUTCH KILLS\n",
    "# change 23 to PS 122 MAMIE FAY\n",
    "# change 24 to PS 127 AEROSPACE SCIENCE MAGNE\n",
    "# change 25 to PS 148 QUEENS\n",
    "# change 26 to PS 149 CHRISTA MCAULIFFE\n",
    "# change 27 to PS 150 QUEENS\n",
    "# change 28 to PS 151 MARY D. CARTER\n",
    "# change 29 to PS 152 GWENDOLYN ALLEYNE\n",
    "# change 30 to PS 166 HENRY GRADSTEIN\n",
    "# change 31 to PS 017 HENRY DAVID THOREAU\n",
    "# change 32 to PS 171 PETER G VAN ALST\n",
    "# change 33 to PS 002 ALFRED ZIMBERG\n",
    "# change 34 to PS 212\n",
    "# change 36 to P.S. 234\n",
    "# change 38 to PS 069 JACKSON HEIGHTS\n",
    "# change 39 to PS 070 QUEENS\n",
    "# change 40 to PS 076 WILLIAM HALLET\n",
    "# change 41 to PS 084 STEINWAY\n",
    "# change 42 to PS 085 JUDGE CHARLES VALLONE\n",
    "# change 43 to PS 092 HARRY T STEWART SR.\n",
    "# change 44 to PS 078\n",
    "# drop 0, 1, 2, 6, 7, 9, 17, 35, 37, 46, 47"
   ]
  },
  {
   "cell_type": "code",
   "execution_count": 372,
   "metadata": {},
   "outputs": [],
   "source": [
    "index_30 = [11, 12, 13, 14, 15, 16, 20, 21, 22, 23, 24, 25, 26, 27, 28, 29, 30, 31, 32, 33, 34, 36, 38, 39, 40, \n",
    "           41, 42, 43, 44]\n",
    "school_30 = ['IS 010 HORACE GREELEY', 'IS 141 THE STEINWAY', 'IS 145 JOSEPH PULITZER', 'IS 204 OLIVER W HOLMES',\n",
    "            'I S 227 LOUIS ARMSTRONG', 'INTERMEDIATE SCHOOL 230', 'PS 011 KATHRYN PHELAN', \n",
    "            'PS 111 JACOB BLACKWELL', 'PS 112 DUTCH KILLS', 'PS 122 MAMIE FAY', 'PS 127 AEROSPACE SCIENCE MAGNET',\n",
    "            'PS 148 QUEENS', 'PS 149 CHRISTA MCAULIFFE', 'PS 150 QUEENS', 'PS 151 MARY D. CARTER', \n",
    "            'PS 152 GWENDOLYN ALLEYNE', 'PS 166 HENRY GRADSTEIN', 'PS 017 HENRY DAVID THOREAU', \n",
    "            'PS 171 PETER G VAN ALST', 'PS 002 ALFRED ZIMBERG', 'PS 212', 'P.S. 234', 'PS 069 JACKSON HEIGHTS',\n",
    "            'PS 070 QUEENS', 'PS 076 WILLIAM HALLET', 'PS 084 STEINWAY', 'PS 085 JUDGE CHARLES VALLONE',\n",
    "            'PS 092 HARRY T STEWART SR.', 'PS 078']\n",
    "for i,j in zip(index_30, school_30):\n",
    "    web_d30.at[i, 'School Name'] = j"
   ]
  },
  {
   "cell_type": "code",
   "execution_count": 373,
   "metadata": {},
   "outputs": [],
   "source": [
    "school_d30.drop(index=2, inplace=True)\n",
    "web_d30.drop(index=[0, 1, 2, 6, 7, 9, 17, 35, 37, 46, 47], inplace=True)"
   ]
  },
  {
   "cell_type": "code",
   "execution_count": 374,
   "metadata": {},
   "outputs": [
    {
     "name": "stdout",
     "output_type": "stream",
     "text": [
      "37\n",
      "37\n"
     ]
    }
   ],
   "source": [
    "print(len(school_d30))\n",
    "print(len(web_d30))"
   ]
  },
  {
   "cell_type": "code",
   "execution_count": 375,
   "metadata": {},
   "outputs": [],
   "source": [
    "school_d30.reset_index(inplace=True)\n",
    "web_d30.reset_index(inplace=True)"
   ]
  },
  {
   "cell_type": "code",
   "execution_count": 376,
   "metadata": {},
   "outputs": [],
   "source": [
    "school_d30.sort_values(by=['SCHOOL'], inplace=True)\n",
    "web_d30.sort_values(by=['School Name'], inplace=True)"
   ]
  },
  {
   "cell_type": "code",
   "execution_count": 377,
   "metadata": {},
   "outputs": [],
   "source": [
    "all_d30 = pd.concat([school_d30, web_d30], axis=1)"
   ]
  },
  {
   "cell_type": "code",
   "execution_count": 378,
   "metadata": {},
   "outputs": [
    {
     "data": {
      "text/plain": [
       "37"
      ]
     },
     "execution_count": 378,
     "metadata": {},
     "output_type": "execute_result"
    }
   ],
   "source": [
    "len(all_d30)"
   ]
  },
  {
   "cell_type": "code",
   "execution_count": 488,
   "metadata": {},
   "outputs": [
    {
     "data": {
      "text/html": [
       "<div>\n",
       "<style scoped>\n",
       "    .dataframe tbody tr th:only-of-type {\n",
       "        vertical-align: middle;\n",
       "    }\n",
       "\n",
       "    .dataframe tbody tr th {\n",
       "        vertical-align: top;\n",
       "    }\n",
       "\n",
       "    .dataframe thead th {\n",
       "        text-align: right;\n",
       "    }\n",
       "</style>\n",
       "<table border=\"1\" class=\"dataframe\">\n",
       "  <thead>\n",
       "    <tr style=\"text-align: right;\">\n",
       "      <th></th>\n",
       "      <th>level_0</th>\n",
       "      <th>index</th>\n",
       "      <th>DBN</th>\n",
       "      <th>DISTRICT</th>\n",
       "      <th>SCHOOL</th>\n",
       "      <th>SCHOOL SUPPORT ORGANIZATION/NETWORK</th>\n",
       "      <th>PROGRESS REPORT TYPE</th>\n",
       "      <th>SCHOOL LEVEL*</th>\n",
       "      <th>PEER INDEX*</th>\n",
       "      <th>GRADE</th>\n",
       "      <th>...</th>\n",
       "      <th>PROGRESS CATEGORY SCORE</th>\n",
       "      <th>ADDITIONAL CREDIT</th>\n",
       "      <th>QUALITY REVIEW SCORE</th>\n",
       "      <th>level_0</th>\n",
       "      <th>index</th>\n",
       "      <th>School Name</th>\n",
       "      <th>Enrollment</th>\n",
       "      <th>Student-Teacher Ratio</th>\n",
       "      <th>Free-Reduced Lunch</th>\n",
       "      <th>DISTRICT</th>\n",
       "    </tr>\n",
       "  </thead>\n",
       "  <tbody>\n",
       "    <tr>\n",
       "      <td>0</td>\n",
       "      <td>0</td>\n",
       "      <td>1144</td>\n",
       "      <td>30Q575</td>\n",
       "      <td>30</td>\n",
       "      <td>ACADEMY OF AMERICAN STUDIES</td>\n",
       "      <td>ICI16</td>\n",
       "      <td>HS</td>\n",
       "      <td>High School</td>\n",
       "      <td>3.13</td>\n",
       "      <td>B</td>\n",
       "      <td>...</td>\n",
       "      <td>0.538</td>\n",
       "      <td>0</td>\n",
       "      <td>Well-Developed</td>\n",
       "      <td>3</td>\n",
       "      <td>1391</td>\n",
       "      <td>Academy Of American Studies</td>\n",
       "      <td>1,016</td>\n",
       "      <td>20.6</td>\n",
       "      <td>68.5%</td>\n",
       "      <td>30</td>\n",
       "    </tr>\n",
       "  </tbody>\n",
       "</table>\n",
       "<p>1 rows × 23 columns</p>\n",
       "</div>"
      ],
      "text/plain": [
       "  level_0 index     DBN DISTRICT                       SCHOOL  \\\n",
       "0       0  1144  30Q575       30  ACADEMY OF AMERICAN STUDIES   \n",
       "\n",
       "  SCHOOL SUPPORT ORGANIZATION/NETWORK PROGRESS REPORT TYPE SCHOOL LEVEL*  \\\n",
       "0                               ICI16                   HS   High School   \n",
       "\n",
       "   PEER INDEX*  GRADE  ... PROGRESS CATEGORY SCORE ADDITIONAL CREDIT  \\\n",
       "0         3.13      B  ...                   0.538                 0   \n",
       "\n",
       "  QUALITY REVIEW SCORE level_0 index                  School Name  Enrollment  \\\n",
       "0       Well-Developed       3  1391  Academy Of American Studies       1,016   \n",
       "\n",
       "   Student-Teacher Ratio Free-Reduced Lunch DISTRICT  \n",
       "0                   20.6              68.5%       30  \n",
       "\n",
       "[1 rows x 23 columns]"
      ]
     },
     "execution_count": 488,
     "metadata": {},
     "output_type": "execute_result"
    }
   ],
   "source": [
    "all_d30.head(1)"
   ]
  },
  {
   "cell_type": "code",
   "execution_count": 489,
   "metadata": {},
   "outputs": [],
   "source": [
    "all_d30.drop(columns=['School Name', 'index', 'DBN', 'SCHOOL SUPPORT ORGANIZATION/NETWORK', \n",
    "                    'PROGRESS REPORT TYPE', 'DISTRICT', 'level_0'], inplace=True)"
   ]
  },
  {
   "cell_type": "markdown",
   "metadata": {},
   "source": [
    "### District 31"
   ]
  },
  {
   "cell_type": "code",
   "execution_count": 379,
   "metadata": {},
   "outputs": [
    {
     "name": "stdout",
     "output_type": "stream",
     "text": [
      "61\n",
      "72\n"
     ]
    }
   ],
   "source": [
    "print(len(df_school[df_school['DISTRICT']==31]))\n",
    "print(len(df_web[df_web['DISTRICT']==31]))"
   ]
  },
  {
   "cell_type": "code",
   "execution_count": 380,
   "metadata": {},
   "outputs": [],
   "source": [
    "school_d31 = df_school[df_school['DISTRICT']==31].sort_values(by=['SCHOOL'])\n",
    "web_d31 = df_web[df_web['DISTRICT']==31].sort_values(by=['School Name'])"
   ]
  },
  {
   "cell_type": "code",
   "execution_count": 381,
   "metadata": {},
   "outputs": [],
   "source": [
    "school_d31.reset_index(inplace=True)\n",
    "web_d31.reset_index(inplace=True)"
   ]
  },
  {
   "cell_type": "code",
   "execution_count": 382,
   "metadata": {},
   "outputs": [],
   "source": [
    "# school_d31[44:61]\n",
    "# drop 13, 21, 35, 43"
   ]
  },
  {
   "cell_type": "code",
   "execution_count": 390,
   "metadata": {},
   "outputs": [],
   "source": [
    "# web_d31[0:44]\n",
    "# change 8 to I S 002 GEORGE L EGBERT\n",
    "# change 9 to I S 024 MYRA S BARNES\n",
    "# change 10 to IS 027 ANNING S PRALL\n",
    "# change 11 to I S 034 TOTTENVILLE\n",
    "# change 12 to IS 49 Berta A. Dreyfus\n",
    "# change 13 to I S 051 EDWIN MARKHAM\n",
    "# change 14 to I S 061 WILLIAM A MORRIS\n",
    "# change 15 to IS 007 ELIAS BERNSTEIN\n",
    "# change 16 to IS 072 ROCCO LAURIE\n",
    "# change 17 to I S 075 FRANK D PAULO\n",
    "# change 20 to MICHAEL J. PETRIDES HIGH SCHOOL\n",
    "# change 25 to PS 001 TOTTENVILLE\n",
    "# change 26 to PS 11 Thomas Dongan School\n",
    "# change 27 to PS 013 M L LINDENMEYER\n",
    "# change 28 to PS 016 JOHN J DRISCOLL\n",
    "# change 29 to PS 018 JOHN G WHITTIER\n",
    "# change 30 to PS 019 THE CURTIS SCHOOL\n",
    "# change 31 to PS 020 PORT RICHMOND\n",
    "# change 32 to PS 21 MARGARET EMERY-ELM PARK\n",
    "# change 33 to PS 022 GRANITEVILLE\n",
    "# change 34 to PS 023 RICHMONDTOWN\n",
    "# change 35 to PS 026 THE CARTERET SCHOOL\n",
    "# change 36 to PS 029 BARDWELL\n",
    "# change 37 to PS 003 THE MARGARET GIOIOSA SCHOOL\n",
    "# change 38 to PS 030 WESTERLEIGH\n",
    "# change 39 to PS 031 WILLIAM T DAVIS\n",
    "# change 40 to PS 032 THE GIFFORD SCHOOL\n",
    "# change 41 to PS 35 The Clove Valley School\n",
    "# change 42 to PS 036 J C DRUMGOOLE\n",
    "# change 43 to PS 038 GEORGE CROMWELL\n",
    "# change 44 to PS 39 FRANCIS J MURPHY JR.\n",
    "# change 45 to PS 004 MAURICE WOLLIN\n",
    "# change 46 to PS 042 ELTINGVILLE\n",
    "# change 47 to PS 044 THOMAS C BROWN\n",
    "# change 48 to PS 045 JOHN TYLER\n",
    "# change 49 to PS 046 ALBERT V. MANISCALCO\n",
    "# change 50 to PS 048 WILLIAM C WILCOX\n",
    "# change 51 to PS 005 HUGUENOT\n",
    "# change 52 to PS 050 FRANK HANKINSON\n",
    "# change 53 to PS 052 JOHN C THOMPSON\n",
    "# change 54 to PS 054 CHARLES W LENG\n",
    "# change 55 to PS 055 HENRY M BOEHM\n",
    "# change 56 to PS 56 THE LOUIS DESARIO SCHOOL\n",
    "# change 57 to PS 057 HUBERT H HUMPHREY\n",
    "# change 58 to PS 6 CPL ALLAN F KIVLEHAN SCHL\n",
    "# change 59 to PS 060 ALICE AUSTEN\n",
    "# change 61 to PS 069 DANIEL D TOMPKINS\n",
    "# change 64 to PS 8 SHIRLEE SOLOMON\n",
    "# change 66 to S.S. COLUMBIA SCHOOL\n",
    "# drop 0, 2, 4, 5, 6, 7, 18, 19, 21, 24, 60, 62, 63, 67, 69"
   ]
  },
  {
   "cell_type": "code",
   "execution_count": 392,
   "metadata": {},
   "outputs": [],
   "source": [
    "index_31 = [8, 9, 10, 11, 12, 13, 14, 15, 16, 17, 20, 25, 26, 27, 28, 29, 30, 31, 32, 33, 34, 35, 36, 37, 38, 39,\n",
    "           40, 41, 42, 43, 44, 45, 46, 47, 48, 49, 50, 51, 52, 53, 54, 55, 56, 57, 58, 59, 61, 64, 66]\n",
    "school_31 = ['I S 002 GEORGE L EGBERT', 'I S 024 MYRA S BARNES', 'IS 027 ANNING S PRALL', \n",
    "            'I S 034 TOTTENVILLE', 'IS 49 Berta A. Dreyfus', 'I S 051 EDWIN MARKHAM', 'I S 061 WILLIAM A MORRIS',\n",
    "            'IS 007 ELIAS BERNSTEIN', 'IS 072 ROCCO LAURIE', 'I S 075 FRANK D PAULO', \n",
    "            'MICHAEL J. PETRIDES HIGH SCHOOL', 'PS 001 TOTTENVILLE', 'PS 11 Thomas Dongan School',\n",
    "            'PS 013 M L LINDENMEYER', 'PS 016 JOHN J DRISCOLL', 'PS 018 JOHN G WHITTIER', \n",
    "            'PS 019 THE CURTIS SCHOOL', 'PS 020 PORT RICHMOND', 'PS 21 MARGARET EMERY-ELM PARK', \n",
    "            'PS 022 GRANITEVILLE', 'PS 023 RICHMONDTOWN', 'PS 026 THE CARTERET SCHOOL', 'PS 029 BARDWELL',\n",
    "            'PS 003 THE MARGARET GIOIOSA SCHOOL', 'PS 030 WESTERLEIGH', 'PS 031 WILLIAM T DAVIS',\n",
    "            'PS 032 THE GIFFORD SCHOOL', 'PS 35 The Clove Valley School', 'PS 036 J C DRUMGOOLE',\n",
    "            'PS 038 GEORGE CROMWELL', 'PS 39 FRANCIS J MURPHY JR.', 'PS 004 MAURICE WOLLIN',\n",
    "            'PS 042 ELTINGVILLE', 'PS 044 THOMAS C BROWN', 'PS 045 JOHN TYLER', 'PS 046 ALBERT V. MANISCALCO',\n",
    "            'PS 048 WILLIAM C WILCOX', 'PS 005 HUGUENOT', 'PS 050 FRANK HANKINSON', 'PS 052 JOHN C THOMPSON',\n",
    "            'PS 054 CHARLES W LENG', 'PS 055 HENRY M BOEHM', 'PS 56 THE LOUIS DESARIO SCHOOL', \n",
    "            'PS 057 HUBERT H HUMPHREY', 'PS 6 CPL ALLAN F KIVLEHAN SCHL', 'PS 060 ALICE AUSTEN', \n",
    "            'PS 069 DANIEL D TOMPKINS', 'PS 8 SHIRLEE SOLOMON', 'S.S. COLUMBIA SCHOOL']\n",
    "for i,j in zip(index_31, school_31):\n",
    "    web_d31.at[i, 'School Name'] = j"
   ]
  },
  {
   "cell_type": "code",
   "execution_count": 393,
   "metadata": {},
   "outputs": [],
   "source": [
    "school_d31.drop(index=[13, 21, 35, 43], inplace=True)\n",
    "web_d31.drop(index=[0, 2, 4, 5, 6, 7, 18, 19, 21, 24, 60, 62, 63, 67, 69], inplace=True)"
   ]
  },
  {
   "cell_type": "code",
   "execution_count": 394,
   "metadata": {},
   "outputs": [
    {
     "name": "stdout",
     "output_type": "stream",
     "text": [
      "57\n",
      "57\n"
     ]
    }
   ],
   "source": [
    "print(len(school_d31))\n",
    "print(len(web_d31))"
   ]
  },
  {
   "cell_type": "code",
   "execution_count": 395,
   "metadata": {},
   "outputs": [],
   "source": [
    "school_d31.reset_index(inplace=True)\n",
    "web_d31.reset_index(inplace=True)"
   ]
  },
  {
   "cell_type": "code",
   "execution_count": 396,
   "metadata": {},
   "outputs": [],
   "source": [
    "school_d31.sort_values(by=['SCHOOL'], inplace=True)\n",
    "web_d31.sort_values(by=['School Name'], inplace=True)"
   ]
  },
  {
   "cell_type": "code",
   "execution_count": 397,
   "metadata": {},
   "outputs": [],
   "source": [
    "all_d31 = pd.concat([school_d31, web_d31], axis=1)"
   ]
  },
  {
   "cell_type": "code",
   "execution_count": 398,
   "metadata": {},
   "outputs": [
    {
     "data": {
      "text/plain": [
       "57"
      ]
     },
     "execution_count": 398,
     "metadata": {},
     "output_type": "execute_result"
    }
   ],
   "source": [
    "len(all_d31)"
   ]
  },
  {
   "cell_type": "code",
   "execution_count": 490,
   "metadata": {},
   "outputs": [
    {
     "data": {
      "text/html": [
       "<div>\n",
       "<style scoped>\n",
       "    .dataframe tbody tr th:only-of-type {\n",
       "        vertical-align: middle;\n",
       "    }\n",
       "\n",
       "    .dataframe tbody tr th {\n",
       "        vertical-align: top;\n",
       "    }\n",
       "\n",
       "    .dataframe thead th {\n",
       "        text-align: right;\n",
       "    }\n",
       "</style>\n",
       "<table border=\"1\" class=\"dataframe\">\n",
       "  <thead>\n",
       "    <tr style=\"text-align: right;\">\n",
       "      <th></th>\n",
       "      <th>level_0</th>\n",
       "      <th>index</th>\n",
       "      <th>DBN</th>\n",
       "      <th>DISTRICT</th>\n",
       "      <th>SCHOOL</th>\n",
       "      <th>SCHOOL SUPPORT ORGANIZATION/NETWORK</th>\n",
       "      <th>PROGRESS REPORT TYPE</th>\n",
       "      <th>SCHOOL LEVEL*</th>\n",
       "      <th>PEER INDEX*</th>\n",
       "      <th>GRADE</th>\n",
       "      <th>...</th>\n",
       "      <th>PROGRESS CATEGORY SCORE</th>\n",
       "      <th>ADDITIONAL CREDIT</th>\n",
       "      <th>QUALITY REVIEW SCORE</th>\n",
       "      <th>level_0</th>\n",
       "      <th>index</th>\n",
       "      <th>School Name</th>\n",
       "      <th>Enrollment</th>\n",
       "      <th>Student-Teacher Ratio</th>\n",
       "      <th>Free-Reduced Lunch</th>\n",
       "      <th>DISTRICT</th>\n",
       "    </tr>\n",
       "  </thead>\n",
       "  <tbody>\n",
       "    <tr>\n",
       "      <td>0</td>\n",
       "      <td>0</td>\n",
       "      <td>1245</td>\n",
       "      <td>79R470</td>\n",
       "      <td>31</td>\n",
       "      <td>CONCORD HIGH SCHOOL</td>\n",
       "      <td>ESO16</td>\n",
       "      <td>HS</td>\n",
       "      <td>Transfer School</td>\n",
       "      <td>NA</td>\n",
       "      <td>B</td>\n",
       "      <td>...</td>\n",
       "      <td>0.316</td>\n",
       "      <td>2.25</td>\n",
       "      <td>Proficient</td>\n",
       "      <td>1</td>\n",
       "      <td>1415</td>\n",
       "      <td>Concord High School</td>\n",
       "      <td>166</td>\n",
       "      <td>12.9</td>\n",
       "      <td>71.7%</td>\n",
       "      <td>31</td>\n",
       "    </tr>\n",
       "  </tbody>\n",
       "</table>\n",
       "<p>1 rows × 23 columns</p>\n",
       "</div>"
      ],
      "text/plain": [
       "  level_0 index     DBN DISTRICT               SCHOOL  \\\n",
       "0       0  1245  79R470       31  CONCORD HIGH SCHOOL   \n",
       "\n",
       "  SCHOOL SUPPORT ORGANIZATION/NETWORK PROGRESS REPORT TYPE    SCHOOL LEVEL*  \\\n",
       "0                               ESO16                   HS  Transfer School   \n",
       "\n",
       "   PEER INDEX*  GRADE  ... PROGRESS CATEGORY SCORE ADDITIONAL CREDIT  \\\n",
       "0           NA      B  ...                   0.316              2.25   \n",
       "\n",
       "  QUALITY REVIEW SCORE level_0 index          School Name  Enrollment  \\\n",
       "0           Proficient       1  1415  Concord High School         166   \n",
       "\n",
       "   Student-Teacher Ratio Free-Reduced Lunch DISTRICT  \n",
       "0                   12.9              71.7%       31  \n",
       "\n",
       "[1 rows x 23 columns]"
      ]
     },
     "execution_count": 490,
     "metadata": {},
     "output_type": "execute_result"
    }
   ],
   "source": [
    "all_d31.head(1)"
   ]
  },
  {
   "cell_type": "code",
   "execution_count": 491,
   "metadata": {},
   "outputs": [],
   "source": [
    "all_d31.drop(columns=['School Name', 'index', 'DBN', 'SCHOOL SUPPORT ORGANIZATION/NETWORK', \n",
    "                    'PROGRESS REPORT TYPE', 'DISTRICT', 'level_0'], inplace=True)"
   ]
  },
  {
   "cell_type": "markdown",
   "metadata": {},
   "source": [
    "### District 32"
   ]
  },
  {
   "cell_type": "code",
   "execution_count": 399,
   "metadata": {},
   "outputs": [
    {
     "name": "stdout",
     "output_type": "stream",
     "text": [
      "26\n",
      "26\n"
     ]
    }
   ],
   "source": [
    "print(len(df_school[df_school['DISTRICT']==32]))\n",
    "print(len(df_web[df_web['DISTRICT']==32]))"
   ]
  },
  {
   "cell_type": "code",
   "execution_count": 400,
   "metadata": {},
   "outputs": [],
   "source": [
    "school_d32 = df_school[df_school['DISTRICT']==32].sort_values(by=['SCHOOL'])\n",
    "web_d32 = df_web[df_web['DISTRICT']==32].sort_values(by=['School Name'])"
   ]
  },
  {
   "cell_type": "code",
   "execution_count": 401,
   "metadata": {},
   "outputs": [],
   "source": [
    "school_d32.reset_index(inplace=True)\n",
    "web_d32.reset_index(inplace=True)"
   ]
  },
  {
   "cell_type": "code",
   "execution_count": 415,
   "metadata": {},
   "outputs": [],
   "source": [
    "# school_d32\n",
    "# drop 2, 5, 6, 11, 13"
   ]
  },
  {
   "cell_type": "code",
   "execution_count": 416,
   "metadata": {},
   "outputs": [],
   "source": [
    "# web_d32\n",
    "# change 1 to ACADEMY OF URBAN PLANNING\n",
    "# change 8 to IS 347 SCHOOL OF HUMANITIES\n",
    "# change 9 to IS 349 MATH, SCIENCE & TECH.\n",
    "# change 10 to JHS 162 THE WILLOUGHBY\n",
    "# change 11 to JHS 291 ROLAND HAYES\n",
    "# change 12 to JHS 383 PHILLIPPA SCHUYLER\n",
    "# change 13 to PS 106 EDWARD EVERETT HALE\n",
    "# change 14 to PS 116 ELIZABETH L FARRELL\n",
    "# change 15 to PS 123 SUYDAM\n",
    "# change 16 to PS 145 ANDREW JACKSON\n",
    "# change 17 to PS 151 LYNDON B JOHNSON\n",
    "# change 18 to PS 274 KOSCIUSKO\n",
    "# change 19 to PS 299 THOMAS WARREN FIELD\n",
    "# change 21 to PS 377 ALEJANDRINA B DEGAUTIER\n",
    "# change 22 to PS 075 MAYDA CORTIELLA\n",
    "# change 23 to PS 086 THE IRVINGTON\n",
    "# change 24 to PS 384 FRANCES E CARTER\n",
    "# change 25 to PS 045 HORACE E GREENE\n",
    "# drop 0, 3, 4, 7, 20"
   ]
  },
  {
   "cell_type": "code",
   "execution_count": 417,
   "metadata": {},
   "outputs": [],
   "source": [
    "index_32 = [1, 8, 9, 10, 11, 12, 13, 14, 15, 16, 17, 18, 19, 21, 22, 23, 24, 25]\n",
    "school_32 = ['ACADEMY OF URBAN PLANNING', 'IS 347 SCHOOL OF HUMANITIES', 'IS 349 MATH, SCIENCE & TECH.', \n",
    "            'JHS 162 THE WILLOUGHBY', 'JHS 291 ROLAND HAYES', 'JHS 383 PHILLIPPA SCHUYLER', \n",
    "            'PS 106 EDWARD EVERETT HALE', 'PS 116 ELIZABETH L FARRELL', 'PS 123 SUYDAM', 'PS 145 ANDREW JACKSON',\n",
    "            'PS 151 LYNDON B JOHNSON', 'PS 274 KOSCIUSKO', 'PS 299 THOMAS WARREN FIELD', \n",
    "            'PS 377 ALEJANDRINA B DEGAUTIER', 'PS 075 MAYDA CORTIELLA', 'PS 086 THE IRVINGTON',\n",
    "            'PS 384 FRANCES E CARTER', 'PS 045 HORACE E GREENE']\n",
    "for i,j in zip(index_32, school_32):\n",
    "    web_d32.at[i, 'School Name'] = j"
   ]
  },
  {
   "cell_type": "code",
   "execution_count": 418,
   "metadata": {},
   "outputs": [],
   "source": [
    "school_d32.drop(index=[2, 5, 6, 11, 13], inplace=True)\n",
    "web_d32.drop(index=[0, 3, 4, 7, 20], inplace=True)"
   ]
  },
  {
   "cell_type": "code",
   "execution_count": 419,
   "metadata": {},
   "outputs": [
    {
     "name": "stdout",
     "output_type": "stream",
     "text": [
      "21\n",
      "21\n"
     ]
    }
   ],
   "source": [
    "print(len(school_d32))\n",
    "print(len(web_d32))"
   ]
  },
  {
   "cell_type": "code",
   "execution_count": 420,
   "metadata": {},
   "outputs": [],
   "source": [
    "school_d32.reset_index(inplace=True)\n",
    "web_d32.reset_index(inplace=True)"
   ]
  },
  {
   "cell_type": "code",
   "execution_count": 421,
   "metadata": {},
   "outputs": [],
   "source": [
    "school_d32.sort_values(by=['SCHOOL'], inplace=True)\n",
    "web_d32.sort_values(by=['School Name'], inplace=True)"
   ]
  },
  {
   "cell_type": "code",
   "execution_count": 422,
   "metadata": {},
   "outputs": [],
   "source": [
    "all_d32 = pd.concat([school_d32, web_d32], axis=1)"
   ]
  },
  {
   "cell_type": "code",
   "execution_count": 423,
   "metadata": {},
   "outputs": [
    {
     "data": {
      "text/plain": [
       "21"
      ]
     },
     "execution_count": 423,
     "metadata": {},
     "output_type": "execute_result"
    }
   ],
   "source": [
    "len(all_d32)"
   ]
  },
  {
   "cell_type": "code",
   "execution_count": 492,
   "metadata": {},
   "outputs": [
    {
     "data": {
      "text/html": [
       "<div>\n",
       "<style scoped>\n",
       "    .dataframe tbody tr th:only-of-type {\n",
       "        vertical-align: middle;\n",
       "    }\n",
       "\n",
       "    .dataframe tbody tr th {\n",
       "        vertical-align: top;\n",
       "    }\n",
       "\n",
       "    .dataframe thead th {\n",
       "        text-align: right;\n",
       "    }\n",
       "</style>\n",
       "<table border=\"1\" class=\"dataframe\">\n",
       "  <thead>\n",
       "    <tr style=\"text-align: right;\">\n",
       "      <th></th>\n",
       "      <th>level_0</th>\n",
       "      <th>index</th>\n",
       "      <th>DBN</th>\n",
       "      <th>DISTRICT</th>\n",
       "      <th>SCHOOL</th>\n",
       "      <th>SCHOOL SUPPORT ORGANIZATION/NETWORK</th>\n",
       "      <th>PROGRESS REPORT TYPE</th>\n",
       "      <th>SCHOOL LEVEL*</th>\n",
       "      <th>PEER INDEX*</th>\n",
       "      <th>GRADE</th>\n",
       "      <th>...</th>\n",
       "      <th>PROGRESS CATEGORY SCORE</th>\n",
       "      <th>ADDITIONAL CREDIT</th>\n",
       "      <th>QUALITY REVIEW SCORE</th>\n",
       "      <th>level_0</th>\n",
       "      <th>index</th>\n",
       "      <th>School Name</th>\n",
       "      <th>Enrollment</th>\n",
       "      <th>Student-Teacher Ratio</th>\n",
       "      <th>Free-Reduced Lunch</th>\n",
       "      <th>DISTRICT</th>\n",
       "    </tr>\n",
       "  </thead>\n",
       "  <tbody>\n",
       "    <tr>\n",
       "      <td>0</td>\n",
       "      <td>0</td>\n",
       "      <td>1229</td>\n",
       "      <td>32K552</td>\n",
       "      <td>32</td>\n",
       "      <td>ACADEMY OF URBAN PLANNING</td>\n",
       "      <td>ICI14</td>\n",
       "      <td>HS</td>\n",
       "      <td>High School</td>\n",
       "      <td>2.35</td>\n",
       "      <td>C</td>\n",
       "      <td>...</td>\n",
       "      <td>0.396</td>\n",
       "      <td>0</td>\n",
       "      <td>Undeveloped</td>\n",
       "      <td>1</td>\n",
       "      <td>1507</td>\n",
       "      <td>ACADEMY OF URBAN PLANNING</td>\n",
       "      <td>202</td>\n",
       "      <td>10.6</td>\n",
       "      <td>98%</td>\n",
       "      <td>32</td>\n",
       "    </tr>\n",
       "  </tbody>\n",
       "</table>\n",
       "<p>1 rows × 23 columns</p>\n",
       "</div>"
      ],
      "text/plain": [
       "  level_0 index     DBN DISTRICT                     SCHOOL  \\\n",
       "0       0  1229  32K552       32  ACADEMY OF URBAN PLANNING   \n",
       "\n",
       "  SCHOOL SUPPORT ORGANIZATION/NETWORK PROGRESS REPORT TYPE SCHOOL LEVEL*  \\\n",
       "0                               ICI14                   HS   High School   \n",
       "\n",
       "   PEER INDEX*  GRADE  ... PROGRESS CATEGORY SCORE ADDITIONAL CREDIT  \\\n",
       "0         2.35      C  ...                   0.396                 0   \n",
       "\n",
       "  QUALITY REVIEW SCORE level_0 index                School Name  Enrollment  \\\n",
       "0          Undeveloped       1  1507  ACADEMY OF URBAN PLANNING         202   \n",
       "\n",
       "   Student-Teacher Ratio Free-Reduced Lunch DISTRICT  \n",
       "0                   10.6                98%       32  \n",
       "\n",
       "[1 rows x 23 columns]"
      ]
     },
     "execution_count": 492,
     "metadata": {},
     "output_type": "execute_result"
    }
   ],
   "source": [
    "all_d32.head(1)"
   ]
  },
  {
   "cell_type": "code",
   "execution_count": 493,
   "metadata": {},
   "outputs": [],
   "source": [
    "all_d32.drop(columns=['School Name', 'index', 'DBN', 'SCHOOL SUPPORT ORGANIZATION/NETWORK', \n",
    "                    'PROGRESS REPORT TYPE', 'DISTRICT', 'level_0'], inplace=True)"
   ]
  },
  {
   "cell_type": "markdown",
   "metadata": {},
   "source": [
    "### Filtering to check if school's were in different places"
   ]
  },
  {
   "cell_type": "code",
   "execution_count": 413,
   "metadata": {
    "scrolled": true
   },
   "outputs": [
    {
     "data": {
      "text/html": [
       "<div>\n",
       "<style scoped>\n",
       "    .dataframe tbody tr th:only-of-type {\n",
       "        vertical-align: middle;\n",
       "    }\n",
       "\n",
       "    .dataframe tbody tr th {\n",
       "        vertical-align: top;\n",
       "    }\n",
       "\n",
       "    .dataframe thead th {\n",
       "        text-align: right;\n",
       "    }\n",
       "</style>\n",
       "<table border=\"1\" class=\"dataframe\">\n",
       "  <thead>\n",
       "    <tr style=\"text-align: right;\">\n",
       "      <th></th>\n",
       "      <th>DBN</th>\n",
       "      <th>DISTRICT</th>\n",
       "      <th>SCHOOL</th>\n",
       "      <th>SCHOOL SUPPORT ORGANIZATION/NETWORK</th>\n",
       "      <th>PROGRESS REPORT TYPE</th>\n",
       "      <th>SCHOOL LEVEL*</th>\n",
       "      <th>PEER INDEX*</th>\n",
       "      <th>GRADE</th>\n",
       "      <th>OVERALL SCORE</th>\n",
       "      <th>ENVIRONMENT CATEGORY SCORE</th>\n",
       "      <th>PERFORMANCE CATEGORY SCORE</th>\n",
       "      <th>PROGRESS CATEGORY SCORE</th>\n",
       "      <th>ADDITIONAL CREDIT</th>\n",
       "      <th>QUALITY REVIEW SCORE</th>\n",
       "    </tr>\n",
       "  </thead>\n",
       "  <tbody>\n",
       "    <tr>\n",
       "      <td>1003</td>\n",
       "      <td>27Q090</td>\n",
       "      <td>27</td>\n",
       "      <td>PS 090 HORACE MANN</td>\n",
       "      <td>KNLSO5</td>\n",
       "      <td>ESMS</td>\n",
       "      <td>Elementary School</td>\n",
       "      <td>55.79</td>\n",
       "      <td>C</td>\n",
       "      <td>47.63</td>\n",
       "      <td>0.534</td>\n",
       "      <td>0.739</td>\n",
       "      <td>0.304</td>\n",
       "      <td>0.75</td>\n",
       "      <td>Well-Developed</td>\n",
       "    </tr>\n",
       "    <tr>\n",
       "      <td>1061</td>\n",
       "      <td>28Q206</td>\n",
       "      <td>28</td>\n",
       "      <td>PS 206 HORACE HARDING</td>\n",
       "      <td>ICI19</td>\n",
       "      <td>ESMS</td>\n",
       "      <td>Elementary School</td>\n",
       "      <td>47.36</td>\n",
       "      <td>C</td>\n",
       "      <td>49.19</td>\n",
       "      <td>0.48</td>\n",
       "      <td>0.537</td>\n",
       "      <td>0.402</td>\n",
       "      <td>3.75</td>\n",
       "      <td>Well-Developed</td>\n",
       "    </tr>\n",
       "    <tr>\n",
       "      <td>1110</td>\n",
       "      <td>30Q010</td>\n",
       "      <td>30</td>\n",
       "      <td>IS 010 HORACE GREELEY</td>\n",
       "      <td>ICI13</td>\n",
       "      <td>ESMS</td>\n",
       "      <td>Middle School</td>\n",
       "      <td>3.22</td>\n",
       "      <td>A</td>\n",
       "      <td>71.53</td>\n",
       "      <td>0.634</td>\n",
       "      <td>0.56</td>\n",
       "      <td>0.713</td>\n",
       "      <td>6</td>\n",
       "      <td>Well-Developed</td>\n",
       "    </tr>\n",
       "    <tr>\n",
       "      <td>1207</td>\n",
       "      <td>32K045</td>\n",
       "      <td>32</td>\n",
       "      <td>PS 045 HORACE E GREENE</td>\n",
       "      <td>CLSO1</td>\n",
       "      <td>ESMS</td>\n",
       "      <td>Elementary School</td>\n",
       "      <td>78.17</td>\n",
       "      <td>A</td>\n",
       "      <td>77.85</td>\n",
       "      <td>0.545</td>\n",
       "      <td>0.69</td>\n",
       "      <td>0.768</td>\n",
       "      <td>6.75</td>\n",
       "      <td>Proficient</td>\n",
       "    </tr>\n",
       "  </tbody>\n",
       "</table>\n",
       "</div>"
      ],
      "text/plain": [
       "         DBN  DISTRICT                  SCHOOL  \\\n",
       "1003  27Q090        27      PS 090 HORACE MANN   \n",
       "1061  28Q206        28   PS 206 HORACE HARDING   \n",
       "1110  30Q010        30   IS 010 HORACE GREELEY   \n",
       "1207  32K045        32  PS 045 HORACE E GREENE   \n",
       "\n",
       "     SCHOOL SUPPORT ORGANIZATION/NETWORK PROGRESS REPORT TYPE  \\\n",
       "1003                              KNLSO5                 ESMS   \n",
       "1061                               ICI19                 ESMS   \n",
       "1110                               ICI13                 ESMS   \n",
       "1207                               CLSO1                 ESMS   \n",
       "\n",
       "          SCHOOL LEVEL*  PEER INDEX*  GRADE OVERALL SCORE  \\\n",
       "1003  Elementary School        55.79      C         47.63   \n",
       "1061  Elementary School        47.36      C         49.19   \n",
       "1110      Middle School         3.22      A         71.53   \n",
       "1207  Elementary School        78.17      A         77.85   \n",
       "\n",
       "     ENVIRONMENT CATEGORY SCORE PERFORMANCE CATEGORY SCORE  \\\n",
       "1003                      0.534                      0.739   \n",
       "1061                       0.48                      0.537   \n",
       "1110                      0.634                       0.56   \n",
       "1207                      0.545                       0.69   \n",
       "\n",
       "     PROGRESS CATEGORY SCORE ADDITIONAL CREDIT QUALITY REVIEW SCORE  \n",
       "1003                   0.304              0.75       Well-Developed  \n",
       "1061                   0.402              3.75       Well-Developed  \n",
       "1110                   0.713                 6       Well-Developed  \n",
       "1207                   0.768              6.75           Proficient  "
      ]
     },
     "execution_count": 413,
     "metadata": {},
     "output_type": "execute_result"
    }
   ],
   "source": [
    "df_school[df_school['SCHOOL'].str.contains('HORACE')]"
   ]
  },
  {
   "cell_type": "code",
   "execution_count": 414,
   "metadata": {},
   "outputs": [
    {
     "data": {
      "text/html": [
       "<div>\n",
       "<style scoped>\n",
       "    .dataframe tbody tr th:only-of-type {\n",
       "        vertical-align: middle;\n",
       "    }\n",
       "\n",
       "    .dataframe tbody tr th {\n",
       "        vertical-align: top;\n",
       "    }\n",
       "\n",
       "    .dataframe thead th {\n",
       "        text-align: right;\n",
       "    }\n",
       "</style>\n",
       "<table border=\"1\" class=\"dataframe\">\n",
       "  <thead>\n",
       "    <tr style=\"text-align: right;\">\n",
       "      <th></th>\n",
       "      <th>School Name</th>\n",
       "      <th>Enrollment</th>\n",
       "      <th>Student-Teacher Ratio</th>\n",
       "      <th>Free-Reduced Lunch</th>\n",
       "      <th>DISTRICT</th>\n",
       "    </tr>\n",
       "  </thead>\n",
       "  <tbody>\n",
       "    <tr>\n",
       "      <td>102</td>\n",
       "      <td>Urban Assembly New York Harbor School</td>\n",
       "      <td>532</td>\n",
       "      <td>14.7</td>\n",
       "      <td>53.8%</td>\n",
       "      <td>2</td>\n",
       "    </tr>\n",
       "  </tbody>\n",
       "</table>\n",
       "</div>"
      ],
      "text/plain": [
       "                               School Name Enrollment  Student-Teacher Ratio  \\\n",
       "102  Urban Assembly New York Harbor School        532                   14.7   \n",
       "\n",
       "    Free-Reduced Lunch  DISTRICT  \n",
       "102              53.8%         2  "
      ]
     },
     "execution_count": 414,
     "metadata": {},
     "output_type": "execute_result"
    }
   ],
   "source": [
    "df_web[df_web['School Name'].str.contains('New York')]"
   ]
  },
  {
   "cell_type": "markdown",
   "metadata": {},
   "source": [
    "### Concat all dataframes"
   ]
  },
  {
   "cell_type": "code",
   "execution_count": 495,
   "metadata": {},
   "outputs": [],
   "source": [
    "clean_data = pd.concat([all_d1, all_d2, all_d3, all_d4, all_d5, all_d6, all_d7, all_d8, all_d9,\n",
    "          all_d10, all_d11, all_d12, all_d13, all_d14, all_d15, all_d16, all_d17,\n",
    "          all_d18, all_d19, all_d20, all_d21, all_d22, all_d23, all_d24, all_d25,\n",
    "          all_d26, all_d27, all_d28, all_d29, all_d30, all_d31, all_d32], ignore_index=True)"
   ]
  },
  {
   "cell_type": "code",
   "execution_count": 498,
   "metadata": {},
   "outputs": [
    {
     "data": {
      "text/html": [
       "<div>\n",
       "<style scoped>\n",
       "    .dataframe tbody tr th:only-of-type {\n",
       "        vertical-align: middle;\n",
       "    }\n",
       "\n",
       "    .dataframe tbody tr th {\n",
       "        vertical-align: top;\n",
       "    }\n",
       "\n",
       "    .dataframe thead th {\n",
       "        text-align: right;\n",
       "    }\n",
       "</style>\n",
       "<table border=\"1\" class=\"dataframe\">\n",
       "  <thead>\n",
       "    <tr style=\"text-align: right;\">\n",
       "      <th></th>\n",
       "      <th>SCHOOL</th>\n",
       "      <th>SCHOOL LEVEL*</th>\n",
       "      <th>PEER INDEX*</th>\n",
       "      <th>GRADE</th>\n",
       "      <th>OVERALL SCORE</th>\n",
       "      <th>ENVIRONMENT CATEGORY SCORE</th>\n",
       "      <th>PERFORMANCE CATEGORY SCORE</th>\n",
       "      <th>PROGRESS CATEGORY SCORE</th>\n",
       "      <th>ADDITIONAL CREDIT</th>\n",
       "      <th>QUALITY REVIEW SCORE</th>\n",
       "      <th>Enrollment</th>\n",
       "      <th>Student-Teacher Ratio</th>\n",
       "      <th>Free-Reduced Lunch</th>\n",
       "    </tr>\n",
       "  </thead>\n",
       "  <tbody>\n",
       "    <tr>\n",
       "      <td>0</td>\n",
       "      <td>BARD HIGH SCHOOL EARLY COLLEGE</td>\n",
       "      <td>High School</td>\n",
       "      <td>3.77</td>\n",
       "      <td>B</td>\n",
       "      <td>57.8</td>\n",
       "      <td>0.715</td>\n",
       "      <td>0.607</td>\n",
       "      <td>0.524</td>\n",
       "      <td>0</td>\n",
       "      <td>Well-Developed</td>\n",
       "      <td>589</td>\n",
       "      <td>17.3</td>\n",
       "      <td>43.5%</td>\n",
       "    </tr>\n",
       "    <tr>\n",
       "      <td>1</td>\n",
       "      <td>CHILDREN'S WORKSHOP SCHOOL</td>\n",
       "      <td>Elementary School</td>\n",
       "      <td>39.10</td>\n",
       "      <td>B</td>\n",
       "      <td>56.81</td>\n",
       "      <td>0.508</td>\n",
       "      <td>0.462</td>\n",
       "      <td>0.615</td>\n",
       "      <td>1.5</td>\n",
       "      <td>Proficient</td>\n",
       "      <td>318</td>\n",
       "      <td>16.7</td>\n",
       "      <td>45.3%</td>\n",
       "    </tr>\n",
       "    <tr>\n",
       "      <td>2</td>\n",
       "      <td>EARTH SCHOOL</td>\n",
       "      <td>Elementary School</td>\n",
       "      <td>41.67</td>\n",
       "      <td>B</td>\n",
       "      <td>55.18</td>\n",
       "      <td>0.985</td>\n",
       "      <td>0.446</td>\n",
       "      <td>0.492</td>\n",
       "      <td>0</td>\n",
       "      <td>Well-Developed</td>\n",
       "      <td>349</td>\n",
       "      <td>12.0</td>\n",
       "      <td>52.4%</td>\n",
       "    </tr>\n",
       "    <tr>\n",
       "      <td>3</td>\n",
       "      <td>EAST SIDE COMMUNITY HIGH SCHOOL</td>\n",
       "      <td>High School</td>\n",
       "      <td>2.66</td>\n",
       "      <td>A</td>\n",
       "      <td>71.33</td>\n",
       "      <td>0.788</td>\n",
       "      <td>0.64</td>\n",
       "      <td>0.624</td>\n",
       "      <td>6</td>\n",
       "      <td>Well-Developed</td>\n",
       "      <td>678</td>\n",
       "      <td>13.8</td>\n",
       "      <td>65.3%</td>\n",
       "    </tr>\n",
       "    <tr>\n",
       "      <td>4</td>\n",
       "      <td>MARTA VALLE SECONDARY SCHOOL</td>\n",
       "      <td>High School</td>\n",
       "      <td>2.63</td>\n",
       "      <td>C</td>\n",
       "      <td>36.0</td>\n",
       "      <td>0.25</td>\n",
       "      <td>0.387</td>\n",
       "      <td>0.375</td>\n",
       "      <td>0</td>\n",
       "      <td>Undeveloped</td>\n",
       "      <td>149</td>\n",
       "      <td>12.4</td>\n",
       "      <td>93.3%</td>\n",
       "    </tr>\n",
       "  </tbody>\n",
       "</table>\n",
       "</div>"
      ],
      "text/plain": [
       "                            SCHOOL      SCHOOL LEVEL*  PEER INDEX*  GRADE  \\\n",
       "0   BARD HIGH SCHOOL EARLY COLLEGE        High School         3.77      B   \n",
       "1       CHILDREN'S WORKSHOP SCHOOL  Elementary School        39.10      B   \n",
       "2                     EARTH SCHOOL  Elementary School        41.67      B   \n",
       "3  EAST SIDE COMMUNITY HIGH SCHOOL        High School         2.66      A   \n",
       "4     MARTA VALLE SECONDARY SCHOOL        High School         2.63      C   \n",
       "\n",
       "  OVERALL SCORE ENVIRONMENT CATEGORY SCORE PERFORMANCE CATEGORY SCORE  \\\n",
       "0          57.8                      0.715                      0.607   \n",
       "1         56.81                      0.508                      0.462   \n",
       "2         55.18                      0.985                      0.446   \n",
       "3         71.33                      0.788                       0.64   \n",
       "4          36.0                       0.25                      0.387   \n",
       "\n",
       "  PROGRESS CATEGORY SCORE ADDITIONAL CREDIT QUALITY REVIEW SCORE Enrollment  \\\n",
       "0                   0.524                 0       Well-Developed        589   \n",
       "1                   0.615               1.5           Proficient        318   \n",
       "2                   0.492                 0       Well-Developed        349   \n",
       "3                   0.624                 6       Well-Developed        678   \n",
       "4                   0.375                 0          Undeveloped        149   \n",
       "\n",
       "   Student-Teacher Ratio Free-Reduced Lunch  \n",
       "0                   17.3              43.5%  \n",
       "1                   16.7              45.3%  \n",
       "2                   12.0              52.4%  \n",
       "3                   13.8              65.3%  \n",
       "4                   12.4              93.3%  "
      ]
     },
     "execution_count": 498,
     "metadata": {},
     "output_type": "execute_result"
    }
   ],
   "source": [
    "clean_data.head()"
   ]
  },
  {
   "cell_type": "code",
   "execution_count": 500,
   "metadata": {},
   "outputs": [],
   "source": [
    "# source: https://stackoverflow.com/questions/13682044/remove-unwanted-parts-from-strings-in-a-column\n",
    "clean_data['Free-Reduced Lunch'] = clean_data['Free-Reduced Lunch'].map(lambda x: x.strip('%'))"
   ]
  },
  {
   "cell_type": "code",
   "execution_count": 501,
   "metadata": {},
   "outputs": [
    {
     "data": {
      "text/html": [
       "<div>\n",
       "<style scoped>\n",
       "    .dataframe tbody tr th:only-of-type {\n",
       "        vertical-align: middle;\n",
       "    }\n",
       "\n",
       "    .dataframe tbody tr th {\n",
       "        vertical-align: top;\n",
       "    }\n",
       "\n",
       "    .dataframe thead th {\n",
       "        text-align: right;\n",
       "    }\n",
       "</style>\n",
       "<table border=\"1\" class=\"dataframe\">\n",
       "  <thead>\n",
       "    <tr style=\"text-align: right;\">\n",
       "      <th></th>\n",
       "      <th>SCHOOL</th>\n",
       "      <th>SCHOOL LEVEL*</th>\n",
       "      <th>PEER INDEX*</th>\n",
       "      <th>GRADE</th>\n",
       "      <th>OVERALL SCORE</th>\n",
       "      <th>ENVIRONMENT CATEGORY SCORE</th>\n",
       "      <th>PERFORMANCE CATEGORY SCORE</th>\n",
       "      <th>PROGRESS CATEGORY SCORE</th>\n",
       "      <th>ADDITIONAL CREDIT</th>\n",
       "      <th>QUALITY REVIEW SCORE</th>\n",
       "      <th>Enrollment</th>\n",
       "      <th>Student-Teacher Ratio</th>\n",
       "      <th>Free-Reduced Lunch</th>\n",
       "    </tr>\n",
       "  </thead>\n",
       "  <tbody>\n",
       "    <tr>\n",
       "      <td>0</td>\n",
       "      <td>BARD HIGH SCHOOL EARLY COLLEGE</td>\n",
       "      <td>High School</td>\n",
       "      <td>3.77</td>\n",
       "      <td>B</td>\n",
       "      <td>57.8</td>\n",
       "      <td>0.715</td>\n",
       "      <td>0.607</td>\n",
       "      <td>0.524</td>\n",
       "      <td>0</td>\n",
       "      <td>Well-Developed</td>\n",
       "      <td>589</td>\n",
       "      <td>17.3</td>\n",
       "      <td>43.5</td>\n",
       "    </tr>\n",
       "    <tr>\n",
       "      <td>1</td>\n",
       "      <td>CHILDREN'S WORKSHOP SCHOOL</td>\n",
       "      <td>Elementary School</td>\n",
       "      <td>39.10</td>\n",
       "      <td>B</td>\n",
       "      <td>56.81</td>\n",
       "      <td>0.508</td>\n",
       "      <td>0.462</td>\n",
       "      <td>0.615</td>\n",
       "      <td>1.5</td>\n",
       "      <td>Proficient</td>\n",
       "      <td>318</td>\n",
       "      <td>16.7</td>\n",
       "      <td>45.3</td>\n",
       "    </tr>\n",
       "    <tr>\n",
       "      <td>2</td>\n",
       "      <td>EARTH SCHOOL</td>\n",
       "      <td>Elementary School</td>\n",
       "      <td>41.67</td>\n",
       "      <td>B</td>\n",
       "      <td>55.18</td>\n",
       "      <td>0.985</td>\n",
       "      <td>0.446</td>\n",
       "      <td>0.492</td>\n",
       "      <td>0</td>\n",
       "      <td>Well-Developed</td>\n",
       "      <td>349</td>\n",
       "      <td>12.0</td>\n",
       "      <td>52.4</td>\n",
       "    </tr>\n",
       "    <tr>\n",
       "      <td>3</td>\n",
       "      <td>EAST SIDE COMMUNITY HIGH SCHOOL</td>\n",
       "      <td>High School</td>\n",
       "      <td>2.66</td>\n",
       "      <td>A</td>\n",
       "      <td>71.33</td>\n",
       "      <td>0.788</td>\n",
       "      <td>0.64</td>\n",
       "      <td>0.624</td>\n",
       "      <td>6</td>\n",
       "      <td>Well-Developed</td>\n",
       "      <td>678</td>\n",
       "      <td>13.8</td>\n",
       "      <td>65.3</td>\n",
       "    </tr>\n",
       "    <tr>\n",
       "      <td>4</td>\n",
       "      <td>MARTA VALLE SECONDARY SCHOOL</td>\n",
       "      <td>High School</td>\n",
       "      <td>2.63</td>\n",
       "      <td>C</td>\n",
       "      <td>36.0</td>\n",
       "      <td>0.25</td>\n",
       "      <td>0.387</td>\n",
       "      <td>0.375</td>\n",
       "      <td>0</td>\n",
       "      <td>Undeveloped</td>\n",
       "      <td>149</td>\n",
       "      <td>12.4</td>\n",
       "      <td>93.3</td>\n",
       "    </tr>\n",
       "  </tbody>\n",
       "</table>\n",
       "</div>"
      ],
      "text/plain": [
       "                            SCHOOL      SCHOOL LEVEL*  PEER INDEX*  GRADE  \\\n",
       "0   BARD HIGH SCHOOL EARLY COLLEGE        High School         3.77      B   \n",
       "1       CHILDREN'S WORKSHOP SCHOOL  Elementary School        39.10      B   \n",
       "2                     EARTH SCHOOL  Elementary School        41.67      B   \n",
       "3  EAST SIDE COMMUNITY HIGH SCHOOL        High School         2.66      A   \n",
       "4     MARTA VALLE SECONDARY SCHOOL        High School         2.63      C   \n",
       "\n",
       "  OVERALL SCORE ENVIRONMENT CATEGORY SCORE PERFORMANCE CATEGORY SCORE  \\\n",
       "0          57.8                      0.715                      0.607   \n",
       "1         56.81                      0.508                      0.462   \n",
       "2         55.18                      0.985                      0.446   \n",
       "3         71.33                      0.788                       0.64   \n",
       "4          36.0                       0.25                      0.387   \n",
       "\n",
       "  PROGRESS CATEGORY SCORE ADDITIONAL CREDIT QUALITY REVIEW SCORE Enrollment  \\\n",
       "0                   0.524                 0       Well-Developed        589   \n",
       "1                   0.615               1.5           Proficient        318   \n",
       "2                   0.492                 0       Well-Developed        349   \n",
       "3                   0.624                 6       Well-Developed        678   \n",
       "4                   0.375                 0          Undeveloped        149   \n",
       "\n",
       "   Student-Teacher Ratio Free-Reduced Lunch  \n",
       "0                   17.3               43.5  \n",
       "1                   16.7               45.3  \n",
       "2                   12.0               52.4  \n",
       "3                   13.8               65.3  \n",
       "4                   12.4               93.3  "
      ]
     },
     "execution_count": 501,
     "metadata": {},
     "output_type": "execute_result"
    }
   ],
   "source": [
    "clean_data.head()"
   ]
  },
  {
   "cell_type": "markdown",
   "metadata": {},
   "source": [
    "### Make data into csv file: https://pandas.pydata.org/pandas-docs/stable/reference/api/pandas.DataFrame.to_csv.html"
   ]
  },
  {
   "cell_type": "code",
   "execution_count": 502,
   "metadata": {},
   "outputs": [],
   "source": [
    "clean_data.to_csv('clean_data.csv')"
   ]
  },
  {
   "cell_type": "code",
   "execution_count": null,
   "metadata": {},
   "outputs": [],
   "source": []
  }
 ],
 "metadata": {
  "kernelspec": {
   "display_name": "Python 3",
   "language": "python",
   "name": "python3"
  },
  "language_info": {
   "codemirror_mode": {
    "name": "ipython",
    "version": 3
   },
   "file_extension": ".py",
   "mimetype": "text/x-python",
   "name": "python",
   "nbconvert_exporter": "python",
   "pygments_lexer": "ipython3",
   "version": "3.6.9"
  }
 },
 "nbformat": 4,
 "nbformat_minor": 2
}
