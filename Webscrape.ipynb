{
 "cells": [
  {
   "cell_type": "markdown",
   "metadata": {},
   "source": [
    "Needed districts:\n",
    "33, 79, 84\n",
    " \n",
    "https://www.schooldigger.com/go/NY/districtrank.aspx?y=2007\n",
    "\n",
    "<br>New York District 2: https://www.schooldigger.com/go/NY/district/00077/search.aspx<br>\n",
    "<br>New York District 10: https://www.schooldigger.com/go/NY/district/00087/search.aspx<br>\n",
    "<br>New York District 31: https://www.schooldigger.com/go/NY/district/00103/search.aspx<br>\n",
    "<br>New York District 9: https://www.schooldigger.com/go/NY/district/00086/search.aspx<br>\n",
    "<br>New York District 27: https://www.schooldigger.com/go/NY/district/00123/search.aspx<br>\n",
    "<br>New York District 11: https://www.schooldigger.com/go/NY/district/00088/search.aspx<br>\n",
    "<br>New York District 24: https://www.schooldigger.com/go/NY/district/00098/search.aspx<br>\n",
    "<br>New York District 8: https://www.schooldigger.com/go/NY/district/00085/search.aspx<br>\n",
    "<br>New York District 1: https://www.schooldigger.com/go/NY/district/00076/search.aspx<br>\n",
    "<br>New York District 26: https://www.schooldigger.com/go/NY/district/00099/search.aspx<br>\n",
    "<br>New York District 25: https://www.schooldigger.com/go/NY/district/00122/search.aspx<br>\n",
    "<br>New York District 22: https://www.schooldigger.com/go/NY/district/00153/search.aspx<br>\n",
    "<br>New York District 20: https://www.schooldigger.com/go/NY/district/00151/search.aspx<br>\n",
    "<br>New York District 28: https://www.schooldigger.com/go/NY/district/00100/search.aspx<br>\n",
    "<br>New York District 30: https://www.schooldigger.com/go/NY/district/00102/search.aspx<br>\n",
    "<br>New York District 3: https://www.schooldigger.com/go/NY/district/00078/search.aspx<br>\n",
    "<br>New York District 21: https://www.schooldigger.com/go/NY/district/00152/search.aspx<br>\n",
    "<br>New York District 15: https://www.schooldigger.com/go/NY/district/00092/search.aspx<br>\n",
    "<br>New York District 18: https://www.schooldigger.com/go/NY/district/00096/search.aspx<br>\n",
    "<br>New York District 29: https://www.schooldigger.com/go/NY/district/00101/search.aspx<br>\n",
    "<br>New York District 4: https://www.schooldigger.com/go/NY/district/00079/search.aspx<br>\n",
    "<br>New York District 13: https://www.schooldigger.com/go/NY/district/00091/search.aspx<br>\n",
    "<br>New York District 14: https://www.schooldigger.com/go/NY/district/00119/search.aspx<br>\n",
    "<br>New York District 23: https://www.schooldigger.com/go/NY/district/00121/search.aspx<br>\n",
    "<br>New York District 19: https://www.schooldigger.com/go/NY/district/00120/search.aspx<br>\n",
    "<br>New York District 17: https://www.schooldigger.com/go/NY/district/00095/search.aspx<br>\n",
    "<br>New York District 32: https://www.schooldigger.com/go/NY/district/00097/search.aspx<br>\n",
    "<br>New York District 5: https://www.schooldigger.com/go/NY/district/00081/search.aspx<br>\n",
    "<br>New York District 6: https://www.schooldigger.com/go/NY/district/00083/search.aspx<br>\n",
    "<br>New York District 16: https://www.schooldigger.com/go/NY/district/00094/search.aspx<br>\n",
    "<br>New York District 12: https://www.schooldigger.com/go/NY/district/00090/search.aspx<br>\n",
    "<br>New York District 7: https://www.schooldigger.com/go/NY/district/00084/search.aspx<br>"
   ]
  },
  {
   "cell_type": "code",
   "execution_count": 1,
   "metadata": {},
   "outputs": [],
   "source": [
    "import urllib.request\n",
    "from bs4 import BeautifulSoup\n",
    "import pandas as pd"
   ]
  },
  {
   "cell_type": "markdown",
   "metadata": {},
   "source": [
    "### **New York District 1**"
   ]
  },
  {
   "cell_type": "code",
   "execution_count": 2,
   "metadata": {},
   "outputs": [],
   "source": [
    "# get the url of the site that you need (multiple urls now because I found the different districts)\n",
    "url_schools_d1 = \"https://www.schooldigger.com/go/NY/district/00076/search.aspx\"\n",
    "#download the URL and extract the content to the variable html \n",
    "request_schools_d1 = urllib.request.Request(url_schools_d1)\n",
    "html_schools_d1 = urllib.request.urlopen(request_schools_d1).read()"
   ]
  },
  {
   "cell_type": "code",
   "execution_count": 3,
   "metadata": {},
   "outputs": [],
   "source": [
    "# this will only give me the school names\n",
    "\n",
    "#pass the HTML to Beautifulsoup.\n",
    "soup_d1 = BeautifulSoup(html_schools_d1,'html.parser')\n",
    "main_table_d1 = soup_d1.find(\"div\",attrs={'class':'bsRTable'})\n",
    "school_names_d1 = main_table_d1.find_all(\"span\", class_=\"sName\")"
   ]
  },
  {
   "cell_type": "code",
   "execution_count": 4,
   "metadata": {},
   "outputs": [],
   "source": [
    "schools_d1 = []\n",
    "for school in school_names_d1: \n",
    "    title = school.text\n",
    "    record = {\n",
    "        'School Name':title\n",
    "        }\n",
    "    schools_d1.append(record)\n",
    "# schools_d1\n",
    "# len(schools_d1)"
   ]
  },
  {
   "cell_type": "code",
   "execution_count": 39,
   "metadata": {},
   "outputs": [],
   "source": [
    "# Make school list to a dataframe\n",
    "d1_schools = pd.DataFrame(schools_d1)"
   ]
  },
  {
   "cell_type": "code",
   "execution_count": 6,
   "metadata": {
    "scrolled": true
   },
   "outputs": [
    {
     "name": "stdout",
     "output_type": "stream",
     "text": [
      "140\n"
     ]
    },
    {
     "data": {
      "text/plain": [
       "(34, 'https://www.schooldigger.com/go/NY/schools/0007600624/school.aspx')"
      ]
     },
     "execution_count": 6,
     "metadata": {},
     "output_type": "execute_result"
    }
   ],
   "source": [
    "# this gives me the links in the rows that go with the school names\n",
    "school_links_d1 = []\n",
    "link_list_d1 = main_table_d1.find_all('a',href=True)\n",
    "for data in link_list_d1:\n",
    "  link = data['href']\n",
    "  school_links_d1.append(link)\n",
    "print(len(school_links_d1))\n",
    "links_d1 = list(dict.fromkeys(school_links_d1)) # making a unique list from the dictionary of links\n",
    "len(links_d1), links_d1[0] # previewing size and first url"
   ]
  },
  {
   "cell_type": "code",
   "execution_count": 7,
   "metadata": {},
   "outputs": [],
   "source": [
    "# change the list to a dataframe to be able to filter out the links that I need and not the other links\n",
    "d1_links = pd.DataFrame(links_d1)"
   ]
  },
  {
   "cell_type": "code",
   "execution_count": 8,
   "metadata": {},
   "outputs": [],
   "source": [
    "links_needed_d1 = d1_links[d1_links[0].str.contains('https://www.schooldigger.com/go/NY/schools/')]"
   ]
  },
  {
   "cell_type": "code",
   "execution_count": 44,
   "metadata": {},
   "outputs": [
    {
     "data": {
      "text/plain": [
       "28"
      ]
     },
     "execution_count": 44,
     "metadata": {},
     "output_type": "execute_result"
    }
   ],
   "source": [
    "# this give me only the links as a list\n",
    "d1_list_links = links_needed_d1[0].values.tolist()\n",
    "len(d1_list_links)"
   ]
  },
  {
   "cell_type": "code",
   "execution_count": 167,
   "metadata": {},
   "outputs": [],
   "source": [
    "# split up the dataset to make it not time out\n",
    "extracted_records_d1 = []\n",
    "\n",
    "for each in d1_list_links:\n",
    "  # You can add a time sleep to pause between pulls\n",
    "\n",
    "\n",
    "  #download the URL and extract the content to the variable html \n",
    "  request_schools = urllib.request.Request(each)\n",
    "  html_schools = urllib.request.urlopen(request_schools).read()\n",
    "  soup = BeautifulSoup(html_schools,'html.parser')\n",
    "  table = soup.find_all('span', {'class':'bigOrange'})\n",
    "#   display(table)\n",
    "  enrollment_num = table[2]\n",
    "  ratio_num = table[1]\n",
    "  lunch_num = table[-1]\n",
    "  records = {\n",
    "        'Enrollment': enrollment_num.text,\n",
    "        'Student-Teacher Ratio': ratio_num.text,\n",
    "        'Free-Reduced Lunch': lunch_num.text\n",
    "        }\n",
    "  extracted_records_d1.append(records)"
   ]
  },
  {
   "cell_type": "code",
   "execution_count": 12,
   "metadata": {},
   "outputs": [
    {
     "name": "stdout",
     "output_type": "stream",
     "text": [
      "28\n",
      "28\n"
     ]
    }
   ],
   "source": [
    "# checking the lens of everything to make sure it's ok\n",
    "print(len(extracted_records_d1))\n",
    "print(len(d1_list_links))"
   ]
  },
  {
   "cell_type": "code",
   "execution_count": 13,
   "metadata": {},
   "outputs": [],
   "source": [
    "# make extracted_records_d1 to a dataframe\n",
    "d1_df = pd.DataFrame(extracted_records_d1)"
   ]
  },
  {
   "cell_type": "code",
   "execution_count": 27,
   "metadata": {},
   "outputs": [
    {
     "data": {
      "text/html": [
       "<div>\n",
       "<style scoped>\n",
       "    .dataframe tbody tr th:only-of-type {\n",
       "        vertical-align: middle;\n",
       "    }\n",
       "\n",
       "    .dataframe tbody tr th {\n",
       "        vertical-align: top;\n",
       "    }\n",
       "\n",
       "    .dataframe thead th {\n",
       "        text-align: right;\n",
       "    }\n",
       "</style>\n",
       "<table border=\"1\" class=\"dataframe\">\n",
       "  <thead>\n",
       "    <tr style=\"text-align: right;\">\n",
       "      <th></th>\n",
       "      <th>Enrollment</th>\n",
       "      <th>Student-Teacher Ratio</th>\n",
       "      <th>Free-Reduced Lunch</th>\n",
       "    </tr>\n",
       "  </thead>\n",
       "  <tbody>\n",
       "    <tr>\n",
       "      <td>0</td>\n",
       "      <td>500</td>\n",
       "      <td>15.6</td>\n",
       "      <td>76.8%</td>\n",
       "    </tr>\n",
       "  </tbody>\n",
       "</table>\n",
       "</div>"
      ],
      "text/plain": [
       "  Enrollment Student-Teacher Ratio Free-Reduced Lunch\n",
       "0        500                  15.6              76.8%"
      ]
     },
     "execution_count": 27,
     "metadata": {},
     "output_type": "execute_result"
    }
   ],
   "source": [
    "d1_df.head(1)\n",
    "# looking through the data - need to replace a few numbers with it's correct numbers"
   ]
  },
  {
   "cell_type": "code",
   "execution_count": 26,
   "metadata": {},
   "outputs": [
    {
     "data": {
      "text/html": [
       "<div>\n",
       "<style scoped>\n",
       "    .dataframe tbody tr th:only-of-type {\n",
       "        vertical-align: middle;\n",
       "    }\n",
       "\n",
       "    .dataframe tbody tr th {\n",
       "        vertical-align: top;\n",
       "    }\n",
       "\n",
       "    .dataframe thead th {\n",
       "        text-align: right;\n",
       "    }\n",
       "</style>\n",
       "<table border=\"1\" class=\"dataframe\">\n",
       "  <thead>\n",
       "    <tr style=\"text-align: right;\">\n",
       "      <th></th>\n",
       "      <th>School Name</th>\n",
       "    </tr>\n",
       "  </thead>\n",
       "  <tbody>\n",
       "    <tr>\n",
       "      <td>0</td>\n",
       "      <td>Lower East Side Preparatory High School</td>\n",
       "    </tr>\n",
       "  </tbody>\n",
       "</table>\n",
       "</div>"
      ],
      "text/plain": [
       "                               School Name\n",
       "0  Lower East Side Preparatory High School"
      ]
     },
     "execution_count": 26,
     "metadata": {},
     "output_type": "execute_result"
    }
   ],
   "source": [
    "# referencing the index with the website to make sure collecting correct numbers\n",
    "d1_schools.head(1)"
   ]
  },
  {
   "cell_type": "code",
   "execution_count": 20,
   "metadata": {},
   "outputs": [],
   "source": [
    "# source:\n",
    "# https://www.edureka.co/community/43220/how-to-change-update-cell-value-in-python-pandas-dataframe\n",
    "d1_df.at[1,'Enrollment'] = 678\n",
    "d1_df.at[1,'Student-Teacher Ratio'] = 13.8\n",
    "d1_df.at[17, 'Enrollment'] = 1729\n",
    "d1_df.at[17, 'Student-Teacher Ratio'] = 18.7\n",
    "d1_df.at[27, 'Enrollment'] = 189\n",
    "d1_df.at[27, 'Student-Teacher Ratio'] = 12.9"
   ]
  },
  {
   "cell_type": "code",
   "execution_count": 72,
   "metadata": {},
   "outputs": [
    {
     "data": {
      "text/html": [
       "<div>\n",
       "<style scoped>\n",
       "    .dataframe tbody tr th:only-of-type {\n",
       "        vertical-align: middle;\n",
       "    }\n",
       "\n",
       "    .dataframe tbody tr th {\n",
       "        vertical-align: top;\n",
       "    }\n",
       "\n",
       "    .dataframe thead th {\n",
       "        text-align: right;\n",
       "    }\n",
       "</style>\n",
       "<table border=\"1\" class=\"dataframe\">\n",
       "  <thead>\n",
       "    <tr style=\"text-align: right;\">\n",
       "      <th></th>\n",
       "      <th>Enrollment</th>\n",
       "      <th>Student-Teacher Ratio</th>\n",
       "      <th>Free-Reduced Lunch</th>\n",
       "    </tr>\n",
       "  </thead>\n",
       "  <tbody>\n",
       "    <tr>\n",
       "      <td>0</td>\n",
       "      <td>500</td>\n",
       "      <td>15.6</td>\n",
       "      <td>76.8%</td>\n",
       "    </tr>\n",
       "    <tr>\n",
       "      <td>1</td>\n",
       "      <td>678</td>\n",
       "      <td>13.8</td>\n",
       "      <td>65.3%</td>\n",
       "    </tr>\n",
       "  </tbody>\n",
       "</table>\n",
       "</div>"
      ],
      "text/plain": [
       "  Enrollment Student-Teacher Ratio Free-Reduced Lunch\n",
       "0        500                  15.6              76.8%\n",
       "1        678                  13.8              65.3%"
      ]
     },
     "execution_count": 72,
     "metadata": {},
     "output_type": "execute_result"
    }
   ],
   "source": [
    "d1_df.head(2)"
   ]
  },
  {
   "cell_type": "code",
   "execution_count": 22,
   "metadata": {},
   "outputs": [],
   "source": [
    "district_1 = pd.concat([d1_schools, d1_df], axis=1)"
   ]
  },
  {
   "cell_type": "code",
   "execution_count": 28,
   "metadata": {},
   "outputs": [
    {
     "data": {
      "text/html": [
       "<div>\n",
       "<style scoped>\n",
       "    .dataframe tbody tr th:only-of-type {\n",
       "        vertical-align: middle;\n",
       "    }\n",
       "\n",
       "    .dataframe tbody tr th {\n",
       "        vertical-align: top;\n",
       "    }\n",
       "\n",
       "    .dataframe thead th {\n",
       "        text-align: right;\n",
       "    }\n",
       "</style>\n",
       "<table border=\"1\" class=\"dataframe\">\n",
       "  <thead>\n",
       "    <tr style=\"text-align: right;\">\n",
       "      <th></th>\n",
       "      <th>School Name</th>\n",
       "      <th>Enrollment</th>\n",
       "      <th>Student-Teacher Ratio</th>\n",
       "      <th>Free-Reduced Lunch</th>\n",
       "    </tr>\n",
       "  </thead>\n",
       "  <tbody>\n",
       "    <tr>\n",
       "      <td>0</td>\n",
       "      <td>Lower East Side Preparatory High School</td>\n",
       "      <td>500</td>\n",
       "      <td>15.6</td>\n",
       "      <td>76.8%</td>\n",
       "    </tr>\n",
       "  </tbody>\n",
       "</table>\n",
       "</div>"
      ],
      "text/plain": [
       "                               School Name Enrollment Student-Teacher Ratio  \\\n",
       "0  Lower East Side Preparatory High School        500                  15.6   \n",
       "\n",
       "  Free-Reduced Lunch  \n",
       "0              76.8%  "
      ]
     },
     "execution_count": 28,
     "metadata": {},
     "output_type": "execute_result"
    }
   ],
   "source": [
    "district_1.head(1)"
   ]
  },
  {
   "cell_type": "code",
   "execution_count": 24,
   "metadata": {},
   "outputs": [],
   "source": [
    "# make df a csv file to be able to work with later\n",
    "# saving the dataframe \n",
    "district_1.to_csv('district_1.csv')"
   ]
  },
  {
   "cell_type": "markdown",
   "metadata": {},
   "source": [
    "### **New York District 2**"
   ]
  },
  {
   "cell_type": "code",
   "execution_count": 29,
   "metadata": {},
   "outputs": [],
   "source": [
    "# get the url of the site that you need (multiple urls now because I found the different districts)\n",
    "url_schools_d2 = \"https://www.schooldigger.com/go/NY/district/00077/search.aspx\"\n",
    "#download the URL and extract the content to the variable html \n",
    "request_schools_d2 = urllib.request.Request(url_schools_d2)\n",
    "html_schools_d2 = urllib.request.urlopen(request_schools_d2).read()"
   ]
  },
  {
   "cell_type": "code",
   "execution_count": 30,
   "metadata": {},
   "outputs": [],
   "source": [
    "# this will only give me the school names\n",
    "\n",
    "#pass the HTML to Beautifulsoup.\n",
    "soup_d2 = BeautifulSoup(html_schools_d2,'html.parser')\n",
    "main_table_d2 = soup_d2.find(\"div\",attrs={'class':'bsRTable'})\n",
    "school_names_d2 = main_table_d2.find_all(\"span\", class_=\"sName\")"
   ]
  },
  {
   "cell_type": "code",
   "execution_count": 33,
   "metadata": {},
   "outputs": [
    {
     "data": {
      "text/plain": [
       "119"
      ]
     },
     "execution_count": 33,
     "metadata": {},
     "output_type": "execute_result"
    }
   ],
   "source": [
    "schools_d2 = []\n",
    "for school in school_names_d2: \n",
    "    title = school.text\n",
    "    record = {\n",
    "        'School Name':title\n",
    "        }\n",
    "    schools_d2.append(record)\n",
    "# schools_d2\n",
    "len(schools_d2)"
   ]
  },
  {
   "cell_type": "code",
   "execution_count": 34,
   "metadata": {},
   "outputs": [],
   "source": [
    "# Make school list to a dataframe\n",
    "d2_schools = pd.DataFrame(schools_d2)"
   ]
  },
  {
   "cell_type": "code",
   "execution_count": 35,
   "metadata": {},
   "outputs": [
    {
     "name": "stdout",
     "output_type": "stream",
     "text": [
      "595\n"
     ]
    },
    {
     "data": {
      "text/plain": [
       "(145, 'https://www.schooldigger.com/go/NY/schools/0007700116/school.aspx')"
      ]
     },
     "execution_count": 35,
     "metadata": {},
     "output_type": "execute_result"
    }
   ],
   "source": [
    "# this gives me the links in the rows that go with the school names\n",
    "school_links_d2 = []\n",
    "link_list_d2 = main_table_d2.find_all('a',href=True)\n",
    "for data in link_list_d2:\n",
    "  link = data['href']\n",
    "  school_links_d2.append(link)\n",
    "print(len(school_links_d2))\n",
    "links_d2 = list(dict.fromkeys(school_links_d2)) # making a unique list from the dictionary of links\n",
    "len(links_d2), links_d2[0] # previewing size and first url"
   ]
  },
  {
   "cell_type": "code",
   "execution_count": 36,
   "metadata": {},
   "outputs": [],
   "source": [
    "# change the list to a dataframe to be able to filter out the links that I need and not the other links\n",
    "d2_links = pd.DataFrame(links_d2)"
   ]
  },
  {
   "cell_type": "code",
   "execution_count": 40,
   "metadata": {},
   "outputs": [],
   "source": [
    "links_needed_d2 = d2_links[d2_links[0].str.contains('https://www.schooldigger.com/go/NY/schools/')]"
   ]
  },
  {
   "cell_type": "code",
   "execution_count": 43,
   "metadata": {},
   "outputs": [
    {
     "data": {
      "text/plain": [
       "119"
      ]
     },
     "execution_count": 43,
     "metadata": {},
     "output_type": "execute_result"
    }
   ],
   "source": [
    "# this give me only the links as a list\n",
    "d2_list_links = links_needed_d2[0].values.tolist()\n",
    "len(d2_list_links)"
   ]
  },
  {
   "cell_type": "code",
   "execution_count": 168,
   "metadata": {},
   "outputs": [],
   "source": [
    "# split up the dataset to make it not time out\n",
    "extracted_records_d2 = []\n",
    "\n",
    "for each in d2_list_links:\n",
    "  # You can add a time sleep to pause between pulls\n",
    "\n",
    "\n",
    "  #download the URL and extract the content to the variable html \n",
    "  request_schools = urllib.request.Request(each)\n",
    "  html_schools = urllib.request.urlopen(request_schools).read()\n",
    "  soup = BeautifulSoup(html_schools,'html.parser')\n",
    "  table = soup.find_all('span', {'class':'bigOrange'})\n",
    "#   display(table)\n",
    "  enrollment_num = table[2]\n",
    "  ratio_num = table[1]\n",
    "  lunch_num = table[-1]\n",
    "  records = {\n",
    "        'Enrollment': enrollment_num.text,\n",
    "        'Student-Teacher Ratio': ratio_num.text,\n",
    "        'Free-Reduced Lunch': lunch_num.text\n",
    "        }\n",
    "  extracted_records_d2.append(records)"
   ]
  },
  {
   "cell_type": "code",
   "execution_count": 169,
   "metadata": {},
   "outputs": [
    {
     "name": "stdout",
     "output_type": "stream",
     "text": [
      "119\n",
      "119\n"
     ]
    }
   ],
   "source": [
    "# checking the lens of everything to make sure it's ok\n",
    "print(len(extracted_records_d2))\n",
    "print(len(d2_list_links))"
   ]
  },
  {
   "cell_type": "code",
   "execution_count": 65,
   "metadata": {},
   "outputs": [
    {
     "data": {
      "text/html": [
       "<div>\n",
       "<style scoped>\n",
       "    .dataframe tbody tr th:only-of-type {\n",
       "        vertical-align: middle;\n",
       "    }\n",
       "\n",
       "    .dataframe tbody tr th {\n",
       "        vertical-align: top;\n",
       "    }\n",
       "\n",
       "    .dataframe thead th {\n",
       "        text-align: right;\n",
       "    }\n",
       "</style>\n",
       "<table border=\"1\" class=\"dataframe\">\n",
       "  <thead>\n",
       "    <tr style=\"text-align: right;\">\n",
       "      <th></th>\n",
       "      <th>Enrollment</th>\n",
       "      <th>Student-Teacher Ratio</th>\n",
       "      <th>Free-Reduced Lunch</th>\n",
       "    </tr>\n",
       "  </thead>\n",
       "  <tbody>\n",
       "    <tr>\n",
       "      <td>0</td>\n",
       "      <td>1,201</td>\n",
       "      <td>17.4</td>\n",
       "      <td>81.1%</td>\n",
       "    </tr>\n",
       "  </tbody>\n",
       "</table>\n",
       "</div>"
      ],
      "text/plain": [
       "  Enrollment Student-Teacher Ratio Free-Reduced Lunch\n",
       "0      1,201                  17.4              81.1%"
      ]
     },
     "execution_count": 65,
     "metadata": {},
     "output_type": "execute_result"
    }
   ],
   "source": [
    "# make extracted_records_d1 to a dataframe\n",
    "d2_df = pd.DataFrame(extracted_records_d2)\n",
    "d2_df.head(1)\n",
    "# looking through the data - need to replace a few numbers with it's correct numbers"
   ]
  },
  {
   "cell_type": "code",
   "execution_count": 66,
   "metadata": {},
   "outputs": [
    {
     "data": {
      "text/html": [
       "<div>\n",
       "<style scoped>\n",
       "    .dataframe tbody tr th:only-of-type {\n",
       "        vertical-align: middle;\n",
       "    }\n",
       "\n",
       "    .dataframe tbody tr th {\n",
       "        vertical-align: top;\n",
       "    }\n",
       "\n",
       "    .dataframe thead th {\n",
       "        text-align: right;\n",
       "    }\n",
       "</style>\n",
       "<table border=\"1\" class=\"dataframe\">\n",
       "  <thead>\n",
       "    <tr style=\"text-align: right;\">\n",
       "      <th></th>\n",
       "      <th>School Name</th>\n",
       "    </tr>\n",
       "  </thead>\n",
       "  <tbody>\n",
       "    <tr>\n",
       "      <td>0</td>\n",
       "      <td>High School For Environmental Studies</td>\n",
       "    </tr>\n",
       "  </tbody>\n",
       "</table>\n",
       "</div>"
      ],
      "text/plain": [
       "                             School Name\n",
       "0  High School For Environmental Studies"
      ]
     },
     "execution_count": 66,
     "metadata": {},
     "output_type": "execute_result"
    }
   ],
   "source": [
    "d2_schools.head(1)"
   ]
  },
  {
   "cell_type": "code",
   "execution_count": 68,
   "metadata": {},
   "outputs": [],
   "source": [
    "# source:\n",
    "# https://www.edureka.co/community/43220/how-to-change-update-cell-value-in-python-pandas-dataframe\n",
    "d2_df.at[1,'Enrollment'] = 349\n",
    "d2_df.at[1,'Student-Teacher Ratio'] = 13.9\n",
    "d2_df.at[3, 'Enrollment'] = 451\n",
    "d2_df.at[3, 'Student-Teacher Ratio'] = 14.0\n",
    "d2_df.at[4, 'Enrollment'] = 335\n",
    "d2_df.at[4, 'Student-Teacher Ratio'] = 15.7\n",
    "d2_df.at[7, 'Enrollment'] = 540\n",
    "d2_df.at[7, 'Student-Teacher Ratio'] = 17.4\n",
    "d2_df.at[8, 'Enrollment'] = 291\n",
    "d2_df.at[8, 'Student-Teacher Ratio'] = 22.3\n",
    "d2_df.at[16, 'Enrollment'] = 491\n",
    "d2_df.at[16, 'Student-Teacher Ratio'] = 19.6\n",
    "d2_df.at[45, 'Enrollment'] = 744\n",
    "d2_df.at[45, 'Student-Teacher Ratio'] = 15.1\n",
    "d2_df.at[48, 'Enrollment'] = 233\n",
    "d2_df.at[48, 'Student-Teacher Ratio'] = 13.6\n",
    "d2_df.at[53, 'Enrollment'] = 162\n",
    "d2_df.at[53, 'Student-Teacher Ratio'] = 11.5\n",
    "d2_df.at[77, 'Enrollment'] = 338\n",
    "d2_df.at[77, 'Student-Teacher Ratio'] = 13.1\n",
    "d2_df.at[84, 'Enrollment'] = 331\n",
    "d2_df.at[84, 'Student-Teacher Ratio'] = 12.7\n",
    "d2_df.at[87, 'Enrollment'] = 239\n",
    "d2_df.at[87, 'Student-Teacher Ratio'] = 12.5\n",
    "d2_df.at[99, 'Enrollment'] = 349\n",
    "d2_df.at[99, 'Student-Teacher Ratio'] = 12.4\n",
    "d2_df.at[107, 'Enrollment'] = 494\n",
    "d2_df.at[107, 'Student-Teacher Ratio'] = 13.0\n",
    "d2_df.at[118, 'Enrollment'] = 56\n",
    "d2_df.at[118, 'Student-Teacher Ratio'] = 9.3"
   ]
  },
  {
   "cell_type": "code",
   "execution_count": 71,
   "metadata": {},
   "outputs": [
    {
     "data": {
      "text/html": [
       "<div>\n",
       "<style scoped>\n",
       "    .dataframe tbody tr th:only-of-type {\n",
       "        vertical-align: middle;\n",
       "    }\n",
       "\n",
       "    .dataframe tbody tr th {\n",
       "        vertical-align: top;\n",
       "    }\n",
       "\n",
       "    .dataframe thead th {\n",
       "        text-align: right;\n",
       "    }\n",
       "</style>\n",
       "<table border=\"1\" class=\"dataframe\">\n",
       "  <thead>\n",
       "    <tr style=\"text-align: right;\">\n",
       "      <th></th>\n",
       "      <th>Enrollment</th>\n",
       "      <th>Student-Teacher Ratio</th>\n",
       "      <th>Free-Reduced Lunch</th>\n",
       "    </tr>\n",
       "  </thead>\n",
       "  <tbody>\n",
       "    <tr>\n",
       "      <td>0</td>\n",
       "      <td>1,201</td>\n",
       "      <td>17.4</td>\n",
       "      <td>81.1%</td>\n",
       "    </tr>\n",
       "    <tr>\n",
       "      <td>1</td>\n",
       "      <td>349</td>\n",
       "      <td>13.9</td>\n",
       "      <td>87.7%</td>\n",
       "    </tr>\n",
       "  </tbody>\n",
       "</table>\n",
       "</div>"
      ],
      "text/plain": [
       "  Enrollment Student-Teacher Ratio Free-Reduced Lunch\n",
       "0      1,201                  17.4              81.1%\n",
       "1        349                  13.9              87.7%"
      ]
     },
     "execution_count": 71,
     "metadata": {},
     "output_type": "execute_result"
    }
   ],
   "source": [
    "d2_df.head(2)"
   ]
  },
  {
   "cell_type": "code",
   "execution_count": 74,
   "metadata": {},
   "outputs": [
    {
     "data": {
      "text/html": [
       "<div>\n",
       "<style scoped>\n",
       "    .dataframe tbody tr th:only-of-type {\n",
       "        vertical-align: middle;\n",
       "    }\n",
       "\n",
       "    .dataframe tbody tr th {\n",
       "        vertical-align: top;\n",
       "    }\n",
       "\n",
       "    .dataframe thead th {\n",
       "        text-align: right;\n",
       "    }\n",
       "</style>\n",
       "<table border=\"1\" class=\"dataframe\">\n",
       "  <thead>\n",
       "    <tr style=\"text-align: right;\">\n",
       "      <th></th>\n",
       "      <th>School Name</th>\n",
       "      <th>Enrollment</th>\n",
       "      <th>Student-Teacher Ratio</th>\n",
       "      <th>Free-Reduced Lunch</th>\n",
       "    </tr>\n",
       "  </thead>\n",
       "  <tbody>\n",
       "    <tr>\n",
       "      <td>0</td>\n",
       "      <td>High School For Environmental Studies</td>\n",
       "      <td>1,201</td>\n",
       "      <td>17.4</td>\n",
       "      <td>81.1%</td>\n",
       "    </tr>\n",
       "  </tbody>\n",
       "</table>\n",
       "</div>"
      ],
      "text/plain": [
       "                             School Name Enrollment Student-Teacher Ratio  \\\n",
       "0  High School For Environmental Studies      1,201                  17.4   \n",
       "\n",
       "  Free-Reduced Lunch  \n",
       "0              81.1%  "
      ]
     },
     "execution_count": 74,
     "metadata": {},
     "output_type": "execute_result"
    }
   ],
   "source": [
    "district_2 = pd.concat([d2_schools, d2_df], axis=1)\n",
    "district_2.head(1)"
   ]
  },
  {
   "cell_type": "code",
   "execution_count": 75,
   "metadata": {},
   "outputs": [],
   "source": [
    "# make df a csv file to be able to work with later\n",
    "# saving the dataframe \n",
    "district_2.to_csv('district_2.csv')"
   ]
  },
  {
   "cell_type": "markdown",
   "metadata": {},
   "source": [
    "### **New York District 3**"
   ]
  },
  {
   "cell_type": "code",
   "execution_count": 78,
   "metadata": {},
   "outputs": [],
   "source": [
    "# get the url of the site that you need (multiple urls now because I found the different districts)\n",
    "url_schools_d3 = \"https://www.schooldigger.com/go/NY/district/00078/search.aspx\"\n",
    "#download the URL and extract the content to the variable html \n",
    "request_schools_d3 = urllib.request.Request(url_schools_d3)\n",
    "html_schools_d3 = urllib.request.urlopen(request_schools_d3).read()"
   ]
  },
  {
   "cell_type": "code",
   "execution_count": 80,
   "metadata": {},
   "outputs": [],
   "source": [
    "# this will only give me the school names\n",
    "\n",
    "#pass the HTML to Beautifulsoup.\n",
    "soup_d3 = BeautifulSoup(html_schools_d3,'html.parser')\n",
    "main_table_d3 = soup_d3.find(\"div\",attrs={'class':'bsRTable'})\n",
    "school_names_d3 = main_table_d3.find_all(\"span\", class_=\"sName\")"
   ]
  },
  {
   "cell_type": "code",
   "execution_count": 81,
   "metadata": {},
   "outputs": [
    {
     "data": {
      "text/plain": [
       "44"
      ]
     },
     "execution_count": 81,
     "metadata": {},
     "output_type": "execute_result"
    }
   ],
   "source": [
    "schools_d3 = []\n",
    "for school in school_names_d3: \n",
    "    title = school.text\n",
    "    record = {\n",
    "        'School Name':title\n",
    "        }\n",
    "    schools_d3.append(record)\n",
    "# schools_d3\n",
    "len(schools_d3)"
   ]
  },
  {
   "cell_type": "code",
   "execution_count": 82,
   "metadata": {},
   "outputs": [],
   "source": [
    "# Make school list to a dataframe\n",
    "d3_schools = pd.DataFrame(schools_d3)"
   ]
  },
  {
   "cell_type": "code",
   "execution_count": 83,
   "metadata": {},
   "outputs": [
    {
     "name": "stdout",
     "output_type": "stream",
     "text": [
      "220\n"
     ]
    },
    {
     "data": {
      "text/plain": [
       "(53, 'https://www.schooldigger.com/go/NY/schools/0007800592/school.aspx')"
      ]
     },
     "execution_count": 83,
     "metadata": {},
     "output_type": "execute_result"
    }
   ],
   "source": [
    "# this gives me the links in the rows that go with the school names\n",
    "school_links_d3 = []\n",
    "link_list_d3 = main_table_d3.find_all('a',href=True)\n",
    "for data in link_list_d3:\n",
    "  link = data['href']\n",
    "  school_links_d3.append(link)\n",
    "print(len(school_links_d3))\n",
    "links_d3 = list(dict.fromkeys(school_links_d3)) # making a unique list from the dictionary of links\n",
    "len(links_d3), links_d3[0] # previewing size and first url"
   ]
  },
  {
   "cell_type": "code",
   "execution_count": 84,
   "metadata": {},
   "outputs": [],
   "source": [
    "# change the list to a dataframe to be able to filter out the links that I need and not the other links\n",
    "d3_links = pd.DataFrame(links_d3)"
   ]
  },
  {
   "cell_type": "code",
   "execution_count": 85,
   "metadata": {},
   "outputs": [],
   "source": [
    "links_needed_d3 = d3_links[d3_links[0].str.contains('https://www.schooldigger.com/go/NY/schools/')]"
   ]
  },
  {
   "cell_type": "code",
   "execution_count": 86,
   "metadata": {},
   "outputs": [
    {
     "data": {
      "text/plain": [
       "44"
      ]
     },
     "execution_count": 86,
     "metadata": {},
     "output_type": "execute_result"
    }
   ],
   "source": [
    "# this give me only the links as a list\n",
    "d3_list_links = links_needed_d3[0].values.tolist()\n",
    "len(d3_list_links)"
   ]
  },
  {
   "cell_type": "code",
   "execution_count": 170,
   "metadata": {},
   "outputs": [],
   "source": [
    "# split up the dataset to make it not time out\n",
    "extracted_records_d3 = []\n",
    "\n",
    "for each in d3_list_links:\n",
    "  # You can add a time sleep to pause between pulls\n",
    "\n",
    "\n",
    "  #download the URL and extract the content to the variable html \n",
    "  request_schools = urllib.request.Request(each)\n",
    "  html_schools = urllib.request.urlopen(request_schools).read()\n",
    "  soup = BeautifulSoup(html_schools,'html.parser')\n",
    "  table = soup.find_all('span', {'class':'bigOrange'})\n",
    "#   display(table)\n",
    "  enrollment_num = table[2]\n",
    "  ratio_num = table[1]\n",
    "  lunch_num = table[-1]\n",
    "  records = {\n",
    "        'Enrollment': enrollment_num.text,\n",
    "        'Student-Teacher Ratio': ratio_num.text,\n",
    "        'Free-Reduced Lunch': lunch_num.text\n",
    "        }\n",
    "  extracted_records_d3.append(records)"
   ]
  },
  {
   "cell_type": "code",
   "execution_count": 88,
   "metadata": {},
   "outputs": [
    {
     "name": "stdout",
     "output_type": "stream",
     "text": [
      "44\n",
      "44\n"
     ]
    }
   ],
   "source": [
    "# checking the lens of everything to make sure it's ok\n",
    "print(len(extracted_records_d3))\n",
    "print(len(d3_list_links))"
   ]
  },
  {
   "cell_type": "code",
   "execution_count": 93,
   "metadata": {},
   "outputs": [
    {
     "data": {
      "text/html": [
       "<div>\n",
       "<style scoped>\n",
       "    .dataframe tbody tr th:only-of-type {\n",
       "        vertical-align: middle;\n",
       "    }\n",
       "\n",
       "    .dataframe tbody tr th {\n",
       "        vertical-align: top;\n",
       "    }\n",
       "\n",
       "    .dataframe thead th {\n",
       "        text-align: right;\n",
       "    }\n",
       "</style>\n",
       "<table border=\"1\" class=\"dataframe\">\n",
       "  <thead>\n",
       "    <tr style=\"text-align: right;\">\n",
       "      <th></th>\n",
       "      <th>Enrollment</th>\n",
       "      <th>Student-Teacher Ratio</th>\n",
       "      <th>Free-Reduced Lunch</th>\n",
       "    </tr>\n",
       "  </thead>\n",
       "  <tbody>\n",
       "    <tr>\n",
       "      <td>0</td>\n",
       "      <td>1,380</td>\n",
       "      <td>22.5</td>\n",
       "      <td>25.3%</td>\n",
       "    </tr>\n",
       "  </tbody>\n",
       "</table>\n",
       "</div>"
      ],
      "text/plain": [
       "  Enrollment Student-Teacher Ratio Free-Reduced Lunch\n",
       "0      1,380                  22.5              25.3%"
      ]
     },
     "execution_count": 93,
     "metadata": {},
     "output_type": "execute_result"
    }
   ],
   "source": [
    "# make extracted_records_d1 to a dataframe\n",
    "d3_df = pd.DataFrame(extracted_records_d3)\n",
    "d3_df.head(1)\n",
    "# looking through the data - need to replace a few numbers with it's correct numbers"
   ]
  },
  {
   "cell_type": "code",
   "execution_count": 92,
   "metadata": {},
   "outputs": [
    {
     "data": {
      "text/html": [
       "<div>\n",
       "<style scoped>\n",
       "    .dataframe tbody tr th:only-of-type {\n",
       "        vertical-align: middle;\n",
       "    }\n",
       "\n",
       "    .dataframe tbody tr th {\n",
       "        vertical-align: top;\n",
       "    }\n",
       "\n",
       "    .dataframe thead th {\n",
       "        text-align: right;\n",
       "    }\n",
       "</style>\n",
       "<table border=\"1\" class=\"dataframe\">\n",
       "  <thead>\n",
       "    <tr style=\"text-align: right;\">\n",
       "      <th></th>\n",
       "      <th>School Name</th>\n",
       "    </tr>\n",
       "  </thead>\n",
       "  <tbody>\n",
       "    <tr>\n",
       "      <td>0</td>\n",
       "      <td>Beacon High School</td>\n",
       "    </tr>\n",
       "  </tbody>\n",
       "</table>\n",
       "</div>"
      ],
      "text/plain": [
       "          School Name\n",
       "0  Beacon High School"
      ]
     },
     "execution_count": 92,
     "metadata": {},
     "output_type": "execute_result"
    }
   ],
   "source": [
    "d3_schools.head(1)"
   ]
  },
  {
   "cell_type": "code",
   "execution_count": 138,
   "metadata": {},
   "outputs": [],
   "source": [
    "d3_df.at[36,'Enrollment'] = 313\n",
    "d3_df.at[36,'Student-Teacher Ratio'] = 13.0"
   ]
  },
  {
   "cell_type": "code",
   "execution_count": 139,
   "metadata": {},
   "outputs": [
    {
     "data": {
      "text/html": [
       "<div>\n",
       "<style scoped>\n",
       "    .dataframe tbody tr th:only-of-type {\n",
       "        vertical-align: middle;\n",
       "    }\n",
       "\n",
       "    .dataframe tbody tr th {\n",
       "        vertical-align: top;\n",
       "    }\n",
       "\n",
       "    .dataframe thead th {\n",
       "        text-align: right;\n",
       "    }\n",
       "</style>\n",
       "<table border=\"1\" class=\"dataframe\">\n",
       "  <thead>\n",
       "    <tr style=\"text-align: right;\">\n",
       "      <th></th>\n",
       "      <th>School Name</th>\n",
       "      <th>Enrollment</th>\n",
       "      <th>Student-Teacher Ratio</th>\n",
       "      <th>Free-Reduced Lunch</th>\n",
       "    </tr>\n",
       "  </thead>\n",
       "  <tbody>\n",
       "    <tr>\n",
       "      <td>0</td>\n",
       "      <td>Beacon High School</td>\n",
       "      <td>1,380</td>\n",
       "      <td>22.5</td>\n",
       "      <td>25.3%</td>\n",
       "    </tr>\n",
       "  </tbody>\n",
       "</table>\n",
       "</div>"
      ],
      "text/plain": [
       "          School Name Enrollment Student-Teacher Ratio Free-Reduced Lunch\n",
       "0  Beacon High School      1,380                  22.5              25.3%"
      ]
     },
     "execution_count": 139,
     "metadata": {},
     "output_type": "execute_result"
    }
   ],
   "source": [
    "district_3 = pd.concat([d3_schools, d3_df], axis=1)\n",
    "district_3.head(1)"
   ]
  },
  {
   "cell_type": "code",
   "execution_count": 140,
   "metadata": {},
   "outputs": [],
   "source": [
    "# make df a csv file to be able to work with later\n",
    "# saving the dataframe \n",
    "district_3.to_csv('district_3.csv')"
   ]
  },
  {
   "cell_type": "markdown",
   "metadata": {},
   "source": [
    "### **New York District 4**"
   ]
  },
  {
   "cell_type": "code",
   "execution_count": 100,
   "metadata": {},
   "outputs": [],
   "source": [
    "# get the url of the site that you need (multiple urls now because I found the different districts)\n",
    "url_schools_d4 = \"https://www.schooldigger.com/go/NY/district/00079/search.aspx\"\n",
    "#download the URL and extract the content to the variable html \n",
    "request_schools_d4 = urllib.request.Request(url_schools_d4)\n",
    "html_schools_d4 = urllib.request.urlopen(request_schools_d4).read()"
   ]
  },
  {
   "cell_type": "code",
   "execution_count": 101,
   "metadata": {},
   "outputs": [],
   "source": [
    "# this will only give me the school names\n",
    "\n",
    "#pass the HTML to Beautifulsoup.\n",
    "soup_d4 = BeautifulSoup(html_schools_d4,'html.parser')\n",
    "main_table_d4 = soup_d4.find(\"div\",attrs={'class':'bsRTable'})\n",
    "school_names_d4 = main_table_d4.find_all(\"span\", class_=\"sName\")"
   ]
  },
  {
   "cell_type": "code",
   "execution_count": 102,
   "metadata": {},
   "outputs": [
    {
     "data": {
      "text/plain": [
       "28"
      ]
     },
     "execution_count": 102,
     "metadata": {},
     "output_type": "execute_result"
    }
   ],
   "source": [
    "schools_d4 = []\n",
    "for school in school_names_d4: \n",
    "    title = school.text\n",
    "    record = {\n",
    "        'School Name':title\n",
    "        }\n",
    "    schools_d4.append(record)\n",
    "# schools_d4\n",
    "len(schools_d4)"
   ]
  },
  {
   "cell_type": "code",
   "execution_count": 103,
   "metadata": {},
   "outputs": [],
   "source": [
    "# Make school list to a dataframe\n",
    "d4_schools = pd.DataFrame(schools_d4)"
   ]
  },
  {
   "cell_type": "code",
   "execution_count": 104,
   "metadata": {},
   "outputs": [
    {
     "name": "stdout",
     "output_type": "stream",
     "text": [
      "140\n"
     ]
    },
    {
     "data": {
      "text/plain": [
       "(33, 'https://www.schooldigger.com/go/NY/schools/0007900593/school.aspx')"
      ]
     },
     "execution_count": 104,
     "metadata": {},
     "output_type": "execute_result"
    }
   ],
   "source": [
    "# this gives me the links in the rows that go with the school names\n",
    "school_links_d4 = []\n",
    "link_list_d4 = main_table_d4.find_all('a',href=True)\n",
    "for data in link_list_d4:\n",
    "  link = data['href']\n",
    "  school_links_d4.append(link)\n",
    "print(len(school_links_d4))\n",
    "links_d4 = list(dict.fromkeys(school_links_d4)) # making a unique list from the dictionary of links\n",
    "len(links_d4), links_d4[0] # previewing size and first url"
   ]
  },
  {
   "cell_type": "code",
   "execution_count": 105,
   "metadata": {},
   "outputs": [],
   "source": [
    "# change the list to a dataframe to be able to filter out the links that I need and not the other links\n",
    "d4_links = pd.DataFrame(links_d4)"
   ]
  },
  {
   "cell_type": "code",
   "execution_count": 106,
   "metadata": {},
   "outputs": [],
   "source": [
    "links_needed_d4 = d4_links[d4_links[0].str.contains('https://www.schooldigger.com/go/NY/schools/')]"
   ]
  },
  {
   "cell_type": "code",
   "execution_count": 107,
   "metadata": {},
   "outputs": [
    {
     "data": {
      "text/plain": [
       "28"
      ]
     },
     "execution_count": 107,
     "metadata": {},
     "output_type": "execute_result"
    }
   ],
   "source": [
    "# this give me only the links as a list\n",
    "d4_list_links = links_needed_d4[0].values.tolist()\n",
    "len(d4_list_links)"
   ]
  },
  {
   "cell_type": "code",
   "execution_count": 108,
   "metadata": {},
   "outputs": [],
   "source": [
    "# split up the dataset to make it not time out\n",
    "extracted_records_d4 = []\n",
    "\n",
    "for each in d4_list_links:\n",
    "  # You can add a time sleep to pause between pulls\n",
    "\n",
    "\n",
    "  #download the URL and extract the content to the variable html \n",
    "  request_schools = urllib.request.Request(each)\n",
    "  html_schools = urllib.request.urlopen(request_schools).read()\n",
    "  soup = BeautifulSoup(html_schools,'html.parser')\n",
    "  table = soup.find_all('span', {'class':'bigOrange'})\n",
    "#   display(table)\n",
    "  enrollment_num = table[2]\n",
    "  ratio_num = table[1]\n",
    "  lunch_num = table[-1]\n",
    "  records = {\n",
    "        'Enrollment': enrollment_num.text,\n",
    "        'Student-Teacher Ratio': ratio_num.text,\n",
    "        'Free-Reduced Lunch': lunch_num.text\n",
    "        }\n",
    "  extracted_records_d4.append(records)"
   ]
  },
  {
   "cell_type": "code",
   "execution_count": 109,
   "metadata": {},
   "outputs": [
    {
     "name": "stdout",
     "output_type": "stream",
     "text": [
      "28\n",
      "28\n"
     ]
    }
   ],
   "source": [
    "# checking the lens of everything to make sure it's ok\n",
    "print(len(extracted_records_d4))\n",
    "print(len(d4_list_links))"
   ]
  },
  {
   "cell_type": "code",
   "execution_count": 115,
   "metadata": {},
   "outputs": [
    {
     "data": {
      "text/html": [
       "<div>\n",
       "<style scoped>\n",
       "    .dataframe tbody tr th:only-of-type {\n",
       "        vertical-align: middle;\n",
       "    }\n",
       "\n",
       "    .dataframe tbody tr th {\n",
       "        vertical-align: top;\n",
       "    }\n",
       "\n",
       "    .dataframe thead th {\n",
       "        text-align: right;\n",
       "    }\n",
       "</style>\n",
       "<table border=\"1\" class=\"dataframe\">\n",
       "  <thead>\n",
       "    <tr style=\"text-align: right;\">\n",
       "      <th></th>\n",
       "      <th>Enrollment</th>\n",
       "      <th>Student-Teacher Ratio</th>\n",
       "      <th>Free-Reduced Lunch</th>\n",
       "    </tr>\n",
       "  </thead>\n",
       "  <tbody>\n",
       "    <tr>\n",
       "      <td>0</td>\n",
       "      <td>400</td>\n",
       "      <td>13.3</td>\n",
       "      <td>84.5%</td>\n",
       "    </tr>\n",
       "  </tbody>\n",
       "</table>\n",
       "</div>"
      ],
      "text/plain": [
       "  Enrollment Student-Teacher Ratio Free-Reduced Lunch\n",
       "0        400                  13.3              84.5%"
      ]
     },
     "execution_count": 115,
     "metadata": {},
     "output_type": "execute_result"
    }
   ],
   "source": [
    "# make extracted_records_d1 to a dataframe\n",
    "d4_df = pd.DataFrame(extracted_records_d4)\n",
    "d4_df.head(1)\n",
    "# looking through the data - need to replace a few numbers with it's correct numbers"
   ]
  },
  {
   "cell_type": "code",
   "execution_count": 116,
   "metadata": {},
   "outputs": [
    {
     "data": {
      "text/html": [
       "<div>\n",
       "<style scoped>\n",
       "    .dataframe tbody tr th:only-of-type {\n",
       "        vertical-align: middle;\n",
       "    }\n",
       "\n",
       "    .dataframe tbody tr th {\n",
       "        vertical-align: top;\n",
       "    }\n",
       "\n",
       "    .dataframe thead th {\n",
       "        text-align: right;\n",
       "    }\n",
       "</style>\n",
       "<table border=\"1\" class=\"dataframe\">\n",
       "  <thead>\n",
       "    <tr style=\"text-align: right;\">\n",
       "      <th></th>\n",
       "      <th>School Name</th>\n",
       "    </tr>\n",
       "  </thead>\n",
       "  <tbody>\n",
       "    <tr>\n",
       "      <td>0</td>\n",
       "      <td>Park East High School</td>\n",
       "    </tr>\n",
       "  </tbody>\n",
       "</table>\n",
       "</div>"
      ],
      "text/plain": [
       "             School Name\n",
       "0  Park East High School"
      ]
     },
     "execution_count": 116,
     "metadata": {},
     "output_type": "execute_result"
    }
   ],
   "source": [
    "d4_schools.head(1)"
   ]
  },
  {
   "cell_type": "code",
   "execution_count": 134,
   "metadata": {},
   "outputs": [],
   "source": [
    "d4_df.at[10,'Enrollment'] = 303\n",
    "d4_df.at[10,'Student-Teacher Ratio'] = 6.3"
   ]
  },
  {
   "cell_type": "code",
   "execution_count": 135,
   "metadata": {},
   "outputs": [
    {
     "data": {
      "text/html": [
       "<div>\n",
       "<style scoped>\n",
       "    .dataframe tbody tr th:only-of-type {\n",
       "        vertical-align: middle;\n",
       "    }\n",
       "\n",
       "    .dataframe tbody tr th {\n",
       "        vertical-align: top;\n",
       "    }\n",
       "\n",
       "    .dataframe thead th {\n",
       "        text-align: right;\n",
       "    }\n",
       "</style>\n",
       "<table border=\"1\" class=\"dataframe\">\n",
       "  <thead>\n",
       "    <tr style=\"text-align: right;\">\n",
       "      <th></th>\n",
       "      <th>Enrollment</th>\n",
       "      <th>Student-Teacher Ratio</th>\n",
       "      <th>Free-Reduced Lunch</th>\n",
       "    </tr>\n",
       "  </thead>\n",
       "  <tbody>\n",
       "    <tr>\n",
       "      <td>0</td>\n",
       "      <td>400</td>\n",
       "      <td>13.3</td>\n",
       "      <td>84.5%</td>\n",
       "    </tr>\n",
       "  </tbody>\n",
       "</table>\n",
       "</div>"
      ],
      "text/plain": [
       "  Enrollment Student-Teacher Ratio Free-Reduced Lunch\n",
       "0        400                  13.3              84.5%"
      ]
     },
     "execution_count": 135,
     "metadata": {},
     "output_type": "execute_result"
    }
   ],
   "source": [
    "d4_df.head(1)"
   ]
  },
  {
   "cell_type": "code",
   "execution_count": 136,
   "metadata": {},
   "outputs": [
    {
     "data": {
      "text/html": [
       "<div>\n",
       "<style scoped>\n",
       "    .dataframe tbody tr th:only-of-type {\n",
       "        vertical-align: middle;\n",
       "    }\n",
       "\n",
       "    .dataframe tbody tr th {\n",
       "        vertical-align: top;\n",
       "    }\n",
       "\n",
       "    .dataframe thead th {\n",
       "        text-align: right;\n",
       "    }\n",
       "</style>\n",
       "<table border=\"1\" class=\"dataframe\">\n",
       "  <thead>\n",
       "    <tr style=\"text-align: right;\">\n",
       "      <th></th>\n",
       "      <th>School Name</th>\n",
       "      <th>Enrollment</th>\n",
       "      <th>Student-Teacher Ratio</th>\n",
       "      <th>Free-Reduced Lunch</th>\n",
       "    </tr>\n",
       "  </thead>\n",
       "  <tbody>\n",
       "    <tr>\n",
       "      <td>0</td>\n",
       "      <td>Park East High School</td>\n",
       "      <td>400</td>\n",
       "      <td>13.3</td>\n",
       "      <td>84.5%</td>\n",
       "    </tr>\n",
       "  </tbody>\n",
       "</table>\n",
       "</div>"
      ],
      "text/plain": [
       "             School Name Enrollment Student-Teacher Ratio Free-Reduced Lunch\n",
       "0  Park East High School        400                  13.3              84.5%"
      ]
     },
     "execution_count": 136,
     "metadata": {},
     "output_type": "execute_result"
    }
   ],
   "source": [
    "district_4 = pd.concat([d4_schools, d4_df], axis=1)\n",
    "district_4.head(1)"
   ]
  },
  {
   "cell_type": "code",
   "execution_count": 137,
   "metadata": {},
   "outputs": [],
   "source": [
    "# make df a csv file to be able to work with later\n",
    "# saving the dataframe \n",
    "district_4.to_csv('district_4.csv')"
   ]
  },
  {
   "cell_type": "markdown",
   "metadata": {},
   "source": [
    "### **New York District 5**"
   ]
  },
  {
   "cell_type": "code",
   "execution_count": 121,
   "metadata": {},
   "outputs": [],
   "source": [
    "# get the url of the site that you need (multiple urls now because I found the different districts)\n",
    "url_schools_d5 = \"https://www.schooldigger.com/go/NY/district/00081/search.aspx\"\n",
    "#download the URL and extract the content to the variable html \n",
    "request_schools_d5 = urllib.request.Request(url_schools_d5)\n",
    "html_schools_d5 = urllib.request.urlopen(request_schools_d5).read()"
   ]
  },
  {
   "cell_type": "code",
   "execution_count": 122,
   "metadata": {},
   "outputs": [],
   "source": [
    "# this will only give me the school names\n",
    "\n",
    "#pass the HTML to Beautifulsoup.\n",
    "soup_d5 = BeautifulSoup(html_schools_d5,'html.parser')\n",
    "main_table_d5 = soup_d5.find(\"div\",attrs={'class':'bsRTable'})\n",
    "school_names_d5 = main_table_d5.find_all(\"span\", class_=\"sName\")"
   ]
  },
  {
   "cell_type": "code",
   "execution_count": 123,
   "metadata": {},
   "outputs": [
    {
     "data": {
      "text/plain": [
       "27"
      ]
     },
     "execution_count": 123,
     "metadata": {},
     "output_type": "execute_result"
    }
   ],
   "source": [
    "schools_d5 = []\n",
    "for school in school_names_d5: \n",
    "    title = school.text\n",
    "    record = {\n",
    "        'School Name':title\n",
    "        }\n",
    "    schools_d5.append(record)\n",
    "# schools_d5\n",
    "len(schools_d5)"
   ]
  },
  {
   "cell_type": "code",
   "execution_count": 124,
   "metadata": {},
   "outputs": [],
   "source": [
    "# Make school list to a dataframe\n",
    "d5_schools = pd.DataFrame(schools_d5)"
   ]
  },
  {
   "cell_type": "code",
   "execution_count": 125,
   "metadata": {},
   "outputs": [
    {
     "name": "stdout",
     "output_type": "stream",
     "text": [
      "135\n"
     ]
    },
    {
     "data": {
      "text/plain": [
       "(36, 'https://www.schooldigger.com/go/NY/schools/0008100701/school.aspx')"
      ]
     },
     "execution_count": 125,
     "metadata": {},
     "output_type": "execute_result"
    }
   ],
   "source": [
    "# this gives me the links in the rows that go with the school names\n",
    "school_links_d5 = []\n",
    "link_list_d5 = main_table_d5.find_all('a',href=True)\n",
    "for data in link_list_d5:\n",
    "  link = data['href']\n",
    "  school_links_d5.append(link)\n",
    "print(len(school_links_d5))\n",
    "links_d5 = list(dict.fromkeys(school_links_d5)) # making a unique list from the dictionary of links\n",
    "len(links_d5), links_d5[0] # previewing size and first url"
   ]
  },
  {
   "cell_type": "code",
   "execution_count": 126,
   "metadata": {},
   "outputs": [],
   "source": [
    "# change the list to a dataframe to be able to filter out the links that I need and not the other links\n",
    "d5_links = pd.DataFrame(links_d5)"
   ]
  },
  {
   "cell_type": "code",
   "execution_count": 127,
   "metadata": {},
   "outputs": [],
   "source": [
    "links_needed_d5 = d5_links[d5_links[0].str.contains('https://www.schooldigger.com/go/NY/schools/')]"
   ]
  },
  {
   "cell_type": "code",
   "execution_count": 128,
   "metadata": {},
   "outputs": [
    {
     "data": {
      "text/plain": [
       "27"
      ]
     },
     "execution_count": 128,
     "metadata": {},
     "output_type": "execute_result"
    }
   ],
   "source": [
    "# this give me only the links as a list\n",
    "d5_list_links = links_needed_d5[0].values.tolist()\n",
    "len(d5_list_links)"
   ]
  },
  {
   "cell_type": "code",
   "execution_count": 129,
   "metadata": {},
   "outputs": [],
   "source": [
    "# split up the dataset to make it not time out\n",
    "extracted_records_d5 = []\n",
    "\n",
    "for each in d5_list_links:\n",
    "  # You can add a time sleep to pause between pulls\n",
    "\n",
    "\n",
    "  #download the URL and extract the content to the variable html \n",
    "  request_schools = urllib.request.Request(each)\n",
    "  html_schools = urllib.request.urlopen(request_schools).read()\n",
    "  soup = BeautifulSoup(html_schools,'html.parser')\n",
    "  table = soup.find_all('span', {'class':'bigOrange'})\n",
    "#   display(table)\n",
    "  enrollment_num = table[2]\n",
    "  ratio_num = table[1]\n",
    "  lunch_num = table[-1]\n",
    "  records = {\n",
    "        'Enrollment': enrollment_num.text,\n",
    "        'Student-Teacher Ratio': ratio_num.text,\n",
    "        'Free-Reduced Lunch': lunch_num.text\n",
    "        }\n",
    "  extracted_records_d5.append(records)"
   ]
  },
  {
   "cell_type": "code",
   "execution_count": 130,
   "metadata": {},
   "outputs": [
    {
     "name": "stdout",
     "output_type": "stream",
     "text": [
      "27\n",
      "27\n"
     ]
    }
   ],
   "source": [
    "# checking the lens of everything to make sure it's ok\n",
    "print(len(extracted_records_d5))\n",
    "print(len(d5_list_links))"
   ]
  },
  {
   "cell_type": "code",
   "execution_count": 142,
   "metadata": {},
   "outputs": [
    {
     "data": {
      "text/html": [
       "<div>\n",
       "<style scoped>\n",
       "    .dataframe tbody tr th:only-of-type {\n",
       "        vertical-align: middle;\n",
       "    }\n",
       "\n",
       "    .dataframe tbody tr th {\n",
       "        vertical-align: top;\n",
       "    }\n",
       "\n",
       "    .dataframe thead th {\n",
       "        text-align: right;\n",
       "    }\n",
       "</style>\n",
       "<table border=\"1\" class=\"dataframe\">\n",
       "  <thead>\n",
       "    <tr style=\"text-align: right;\">\n",
       "      <th></th>\n",
       "      <th>Enrollment</th>\n",
       "      <th>Student-Teacher Ratio</th>\n",
       "      <th>Free-Reduced Lunch</th>\n",
       "    </tr>\n",
       "  </thead>\n",
       "  <tbody>\n",
       "    <tr>\n",
       "      <td>0</td>\n",
       "      <td>1,360</td>\n",
       "      <td>18.2</td>\n",
       "      <td>76.4%</td>\n",
       "    </tr>\n",
       "  </tbody>\n",
       "</table>\n",
       "</div>"
      ],
      "text/plain": [
       "  Enrollment Student-Teacher Ratio Free-Reduced Lunch\n",
       "0      1,360                  18.2              76.4%"
      ]
     },
     "execution_count": 142,
     "metadata": {},
     "output_type": "execute_result"
    }
   ],
   "source": [
    "# make extracted_records_d1 to a dataframe\n",
    "d5_df = pd.DataFrame(extracted_records_d5)\n",
    "d5_df.head(1)\n",
    "# looking through the data - need to replace a few numbers with it's correct numbers"
   ]
  },
  {
   "cell_type": "code",
   "execution_count": 143,
   "metadata": {},
   "outputs": [
    {
     "data": {
      "text/html": [
       "<div>\n",
       "<style scoped>\n",
       "    .dataframe tbody tr th:only-of-type {\n",
       "        vertical-align: middle;\n",
       "    }\n",
       "\n",
       "    .dataframe tbody tr th {\n",
       "        vertical-align: top;\n",
       "    }\n",
       "\n",
       "    .dataframe thead th {\n",
       "        text-align: right;\n",
       "    }\n",
       "</style>\n",
       "<table border=\"1\" class=\"dataframe\">\n",
       "  <thead>\n",
       "    <tr style=\"text-align: right;\">\n",
       "      <th></th>\n",
       "      <th>School Name</th>\n",
       "    </tr>\n",
       "  </thead>\n",
       "  <tbody>\n",
       "    <tr>\n",
       "      <td>0</td>\n",
       "      <td>Frederick Douglass Academy</td>\n",
       "    </tr>\n",
       "  </tbody>\n",
       "</table>\n",
       "</div>"
      ],
      "text/plain": [
       "                  School Name\n",
       "0  Frederick Douglass Academy"
      ]
     },
     "execution_count": 143,
     "metadata": {},
     "output_type": "execute_result"
    }
   ],
   "source": [
    "d5_schools.head(1)"
   ]
  },
  {
   "cell_type": "code",
   "execution_count": 145,
   "metadata": {},
   "outputs": [],
   "source": [
    "d5_df.at[25,'Enrollment'] = 320\n",
    "d5_df.at[25,'Student-Teacher Ratio'] = 10.3"
   ]
  },
  {
   "cell_type": "code",
   "execution_count": 147,
   "metadata": {},
   "outputs": [
    {
     "data": {
      "text/html": [
       "<div>\n",
       "<style scoped>\n",
       "    .dataframe tbody tr th:only-of-type {\n",
       "        vertical-align: middle;\n",
       "    }\n",
       "\n",
       "    .dataframe tbody tr th {\n",
       "        vertical-align: top;\n",
       "    }\n",
       "\n",
       "    .dataframe thead th {\n",
       "        text-align: right;\n",
       "    }\n",
       "</style>\n",
       "<table border=\"1\" class=\"dataframe\">\n",
       "  <thead>\n",
       "    <tr style=\"text-align: right;\">\n",
       "      <th></th>\n",
       "      <th>School Name</th>\n",
       "      <th>Enrollment</th>\n",
       "      <th>Student-Teacher Ratio</th>\n",
       "      <th>Free-Reduced Lunch</th>\n",
       "    </tr>\n",
       "  </thead>\n",
       "  <tbody>\n",
       "    <tr>\n",
       "      <td>0</td>\n",
       "      <td>Frederick Douglass Academy</td>\n",
       "      <td>1,360</td>\n",
       "      <td>18.2</td>\n",
       "      <td>76.4%</td>\n",
       "    </tr>\n",
       "  </tbody>\n",
       "</table>\n",
       "</div>"
      ],
      "text/plain": [
       "                  School Name Enrollment Student-Teacher Ratio  \\\n",
       "0  Frederick Douglass Academy      1,360                  18.2   \n",
       "\n",
       "  Free-Reduced Lunch  \n",
       "0              76.4%  "
      ]
     },
     "execution_count": 147,
     "metadata": {},
     "output_type": "execute_result"
    }
   ],
   "source": [
    "district_5 = pd.concat([d5_schools, d5_df], axis=1)\n",
    "district_5.head(1)"
   ]
  },
  {
   "cell_type": "code",
   "execution_count": 148,
   "metadata": {},
   "outputs": [],
   "source": [
    "# make df a csv file to be able to work with later\n",
    "# saving the dataframe \n",
    "district_5.to_csv('district_5.csv')"
   ]
  },
  {
   "cell_type": "markdown",
   "metadata": {},
   "source": [
    "### **New York District 6**"
   ]
  },
  {
   "cell_type": "code",
   "execution_count": 41,
   "metadata": {},
   "outputs": [],
   "source": [
    "# get the url of the site that you need (multiple urls now because I found the different districts)\n",
    "url_schools_d6 = \"https://www.schooldigger.com/go/NY/district/00083/search.aspx\"\n",
    "#download the URL and extract the content to the variable html \n",
    "request_schools_d6 = urllib.request.Request(url_schools_d6)\n",
    "html_schools_d6 = urllib.request.urlopen(request_schools_d6).read()"
   ]
  },
  {
   "cell_type": "code",
   "execution_count": 42,
   "metadata": {},
   "outputs": [],
   "source": [
    "# this will only give me the school names\n",
    "\n",
    "#pass the HTML to Beautifulsoup.\n",
    "soup_d6 = BeautifulSoup(html_schools_d6,'html.parser')\n",
    "main_table_d6 = soup_d6.find(\"div\",attrs={'class':'bsRTable'})\n",
    "school_names_d6 = main_table_d6.find_all(\"span\", class_=\"sName\")"
   ]
  },
  {
   "cell_type": "code",
   "execution_count": 43,
   "metadata": {},
   "outputs": [
    {
     "data": {
      "text/plain": [
       "46"
      ]
     },
     "execution_count": 43,
     "metadata": {},
     "output_type": "execute_result"
    }
   ],
   "source": [
    "schools_d6 = []\n",
    "for school in school_names_d6: \n",
    "    title = school.text\n",
    "    record = {\n",
    "        'School Name':title\n",
    "        }\n",
    "    schools_d6.append(record)\n",
    "# schools_d6\n",
    "len(schools_d6)"
   ]
  },
  {
   "cell_type": "code",
   "execution_count": 44,
   "metadata": {},
   "outputs": [],
   "source": [
    "# Make school list to a dataframe\n",
    "d6_schools = pd.DataFrame(schools_d6)"
   ]
  },
  {
   "cell_type": "code",
   "execution_count": 45,
   "metadata": {},
   "outputs": [
    {
     "name": "stdout",
     "output_type": "stream",
     "text": [
      "230\n"
     ]
    },
    {
     "data": {
      "text/plain": [
       "(55, 'https://www.schooldigger.com/go/NY/schools/0008300519/school.aspx')"
      ]
     },
     "execution_count": 45,
     "metadata": {},
     "output_type": "execute_result"
    }
   ],
   "source": [
    "# this gives me the links in the rows that go with the school names\n",
    "school_links_d6 = []\n",
    "link_list_d6 = main_table_d6.find_all('a',href=True)\n",
    "for data in link_list_d6:\n",
    "  link = data['href']\n",
    "  school_links_d6.append(link)\n",
    "print(len(school_links_d6))\n",
    "links_d6 = list(dict.fromkeys(school_links_d6)) # making a unique list from the dictionary of links\n",
    "len(links_d6), links_d6[0] # previewing size and first url"
   ]
  },
  {
   "cell_type": "code",
   "execution_count": 46,
   "metadata": {},
   "outputs": [],
   "source": [
    "# change the list to a dataframe to be able to filter out the links that I need and not the other links\n",
    "d6_links = pd.DataFrame(links_d6)"
   ]
  },
  {
   "cell_type": "code",
   "execution_count": 47,
   "metadata": {},
   "outputs": [],
   "source": [
    "links_needed_d6 = d6_links[d6_links[0].str.contains('https://www.schooldigger.com/go/NY/schools/')]"
   ]
  },
  {
   "cell_type": "code",
   "execution_count": 48,
   "metadata": {},
   "outputs": [
    {
     "data": {
      "text/plain": [
       "46"
      ]
     },
     "execution_count": 48,
     "metadata": {},
     "output_type": "execute_result"
    }
   ],
   "source": [
    "# this give me only the links as a list\n",
    "d6_list_links = links_needed_d6[0].values.tolist()\n",
    "len(d6_list_links)"
   ]
  },
  {
   "cell_type": "code",
   "execution_count": 49,
   "metadata": {},
   "outputs": [],
   "source": [
    "# split up the dataset to make it not time out\n",
    "extracted_records_d6 = []\n",
    "\n",
    "for each in d6_list_links:\n",
    "  # You can add a time sleep to pause between pulls\n",
    "\n",
    "\n",
    "  #download the URL and extract the content to the variable html \n",
    "  request_schools = urllib.request.Request(each)\n",
    "  html_schools = urllib.request.urlopen(request_schools).read()\n",
    "  soup = BeautifulSoup(html_schools,'html.parser')\n",
    "  table = soup.find_all('span', {'class':'bigOrange'})\n",
    "#   display(table)\n",
    "  enrollment_num = table[2]\n",
    "  ratio_num = table[1]\n",
    "  lunch_num = table[-1]\n",
    "  records = {\n",
    "        'Enrollment': enrollment_num.text,\n",
    "        'Student-Teacher Ratio': ratio_num.text,\n",
    "        'Free-Reduced Lunch': lunch_num.text\n",
    "        }\n",
    "  extracted_records_d6.append(records)"
   ]
  },
  {
   "cell_type": "code",
   "execution_count": 50,
   "metadata": {},
   "outputs": [
    {
     "name": "stdout",
     "output_type": "stream",
     "text": [
      "46\n",
      "46\n"
     ]
    }
   ],
   "source": [
    "# checking the lens of everything to make sure it's ok\n",
    "print(len(extracted_records_d6))\n",
    "print(len(d6_list_links))"
   ]
  },
  {
   "cell_type": "code",
   "execution_count": 51,
   "metadata": {},
   "outputs": [
    {
     "data": {
      "text/html": [
       "<div>\n",
       "<style scoped>\n",
       "    .dataframe tbody tr th:only-of-type {\n",
       "        vertical-align: middle;\n",
       "    }\n",
       "\n",
       "    .dataframe tbody tr th {\n",
       "        vertical-align: top;\n",
       "    }\n",
       "\n",
       "    .dataframe thead th {\n",
       "        text-align: right;\n",
       "    }\n",
       "</style>\n",
       "<table border=\"1\" class=\"dataframe\">\n",
       "  <thead>\n",
       "    <tr style=\"text-align: right;\">\n",
       "      <th></th>\n",
       "      <th>Enrollment</th>\n",
       "      <th>Student-Teacher Ratio</th>\n",
       "      <th>Free-Reduced Lunch</th>\n",
       "    </tr>\n",
       "  </thead>\n",
       "  <tbody>\n",
       "    <tr>\n",
       "      <td>0</td>\n",
       "      <td>593</td>\n",
       "      <td>13.4</td>\n",
       "      <td>85%</td>\n",
       "    </tr>\n",
       "  </tbody>\n",
       "</table>\n",
       "</div>"
      ],
      "text/plain": [
       "  Enrollment Student-Teacher Ratio Free-Reduced Lunch\n",
       "0        593                  13.4                85%"
      ]
     },
     "execution_count": 51,
     "metadata": {},
     "output_type": "execute_result"
    }
   ],
   "source": [
    "# make extracted_records_d1 to a dataframe\n",
    "d6_df = pd.DataFrame(extracted_records_d6)\n",
    "d6_df.head(1)\n",
    "# looking through the data - need to replace a few numbers with it's correct numbers"
   ]
  },
  {
   "cell_type": "code",
   "execution_count": 52,
   "metadata": {},
   "outputs": [
    {
     "data": {
      "text/html": [
       "<div>\n",
       "<style scoped>\n",
       "    .dataframe tbody tr th:only-of-type {\n",
       "        vertical-align: middle;\n",
       "    }\n",
       "\n",
       "    .dataframe tbody tr th {\n",
       "        vertical-align: top;\n",
       "    }\n",
       "\n",
       "    .dataframe thead th {\n",
       "        text-align: right;\n",
       "    }\n",
       "</style>\n",
       "<table border=\"1\" class=\"dataframe\">\n",
       "  <thead>\n",
       "    <tr style=\"text-align: right;\">\n",
       "      <th></th>\n",
       "      <th>School Name</th>\n",
       "    </tr>\n",
       "  </thead>\n",
       "  <tbody>\n",
       "    <tr>\n",
       "      <td>0</td>\n",
       "      <td>Ps 5 Ellen Lurie</td>\n",
       "    </tr>\n",
       "  </tbody>\n",
       "</table>\n",
       "</div>"
      ],
      "text/plain": [
       "        School Name\n",
       "0  Ps 5 Ellen Lurie"
      ]
     },
     "execution_count": 52,
     "metadata": {},
     "output_type": "execute_result"
    }
   ],
   "source": [
    "d6_schools.head(1)"
   ]
  },
  {
   "cell_type": "code",
   "execution_count": 53,
   "metadata": {},
   "outputs": [],
   "source": [
    "d6_df.at[38,'Enrollment'] = 820\n",
    "d6_df.at[38,'Student-Teacher Ratio'] = 12.8"
   ]
  },
  {
   "cell_type": "code",
   "execution_count": 54,
   "metadata": {},
   "outputs": [
    {
     "data": {
      "text/html": [
       "<div>\n",
       "<style scoped>\n",
       "    .dataframe tbody tr th:only-of-type {\n",
       "        vertical-align: middle;\n",
       "    }\n",
       "\n",
       "    .dataframe tbody tr th {\n",
       "        vertical-align: top;\n",
       "    }\n",
       "\n",
       "    .dataframe thead th {\n",
       "        text-align: right;\n",
       "    }\n",
       "</style>\n",
       "<table border=\"1\" class=\"dataframe\">\n",
       "  <thead>\n",
       "    <tr style=\"text-align: right;\">\n",
       "      <th></th>\n",
       "      <th>School Name</th>\n",
       "      <th>Enrollment</th>\n",
       "      <th>Student-Teacher Ratio</th>\n",
       "      <th>Free-Reduced Lunch</th>\n",
       "    </tr>\n",
       "  </thead>\n",
       "  <tbody>\n",
       "    <tr>\n",
       "      <td>0</td>\n",
       "      <td>Ps 5 Ellen Lurie</td>\n",
       "      <td>593</td>\n",
       "      <td>13.4</td>\n",
       "      <td>85%</td>\n",
       "    </tr>\n",
       "  </tbody>\n",
       "</table>\n",
       "</div>"
      ],
      "text/plain": [
       "        School Name Enrollment Student-Teacher Ratio Free-Reduced Lunch\n",
       "0  Ps 5 Ellen Lurie        593                  13.4                85%"
      ]
     },
     "execution_count": 54,
     "metadata": {},
     "output_type": "execute_result"
    }
   ],
   "source": [
    "district_6 = pd.concat([d6_schools, d6_df], axis=1)\n",
    "district_6.head(1)"
   ]
  },
  {
   "cell_type": "code",
   "execution_count": 55,
   "metadata": {},
   "outputs": [],
   "source": [
    "# make df a csv file to be able to work with later\n",
    "# saving the dataframe \n",
    "district_6.to_csv('district_6.csv')"
   ]
  },
  {
   "cell_type": "markdown",
   "metadata": {},
   "source": [
    "### **New York District 7** "
   ]
  },
  {
   "cell_type": "code",
   "execution_count": 3,
   "metadata": {},
   "outputs": [],
   "source": [
    "# get the url of the site that you need (multiple urls now because I found the different districts)\n",
    "url_schools_d7 = \"https://www.schooldigger.com/go/NY/district/00084/search.aspx\"\n",
    "#download the URL and extract the content to the variable html \n",
    "request_schools_d7 = urllib.request.Request(url_schools_d7)\n",
    "html_schools_d7 = urllib.request.urlopen(request_schools_d7).read()"
   ]
  },
  {
   "cell_type": "code",
   "execution_count": 4,
   "metadata": {},
   "outputs": [],
   "source": [
    "# this will only give me the school names\n",
    "\n",
    "#pass the HTML to Beautifulsoup.\n",
    "soup_d7 = BeautifulSoup(html_schools_d7,'html.parser')\n",
    "main_table_d7 = soup_d7.find(\"div\",attrs={'class':'bsRTable'})\n",
    "school_names_d7 = main_table_d7.find_all(\"span\", class_=\"sName\")"
   ]
  },
  {
   "cell_type": "code",
   "execution_count": 5,
   "metadata": {},
   "outputs": [
    {
     "data": {
      "text/plain": [
       "40"
      ]
     },
     "execution_count": 5,
     "metadata": {},
     "output_type": "execute_result"
    }
   ],
   "source": [
    "schools_d7 = []\n",
    "for school in school_names_d7: \n",
    "    title = school.text\n",
    "    record = {\n",
    "        'School Name':title\n",
    "        }\n",
    "    schools_d7.append(record)\n",
    "# schools_d7\n",
    "len(schools_d7)"
   ]
  },
  {
   "cell_type": "code",
   "execution_count": 6,
   "metadata": {},
   "outputs": [],
   "source": [
    "# Make school list to a dataframe\n",
    "d7_schools = pd.DataFrame(schools_d7)"
   ]
  },
  {
   "cell_type": "code",
   "execution_count": 7,
   "metadata": {},
   "outputs": [
    {
     "name": "stdout",
     "output_type": "stream",
     "text": [
      "200\n"
     ]
    },
    {
     "data": {
      "text/plain": [
       "(47, 'https://www.schooldigger.com/go/NY/schools/0008400749/school.aspx')"
      ]
     },
     "execution_count": 7,
     "metadata": {},
     "output_type": "execute_result"
    }
   ],
   "source": [
    "# this gives me the links in the rows that go with the school names\n",
    "school_links_d7 = []\n",
    "link_list_d7 = main_table_d7.find_all('a',href=True)\n",
    "for data in link_list_d7:\n",
    "  link = data['href']\n",
    "  school_links_d7.append(link)\n",
    "print(len(school_links_d7))\n",
    "links_d7 = list(dict.fromkeys(school_links_d7)) # making a unique list from the dictionary of links\n",
    "len(links_d7), links_d7[0] # previewing size and first url"
   ]
  },
  {
   "cell_type": "code",
   "execution_count": 9,
   "metadata": {},
   "outputs": [],
   "source": [
    "# change the list to a dataframe to be able to filter out the links that I need and not the other links\n",
    "d7_links = pd.DataFrame(links_d7)"
   ]
  },
  {
   "cell_type": "code",
   "execution_count": 10,
   "metadata": {},
   "outputs": [],
   "source": [
    "links_needed_d7 = d7_links[d7_links[0].str.contains('https://www.schooldigger.com/go/NY/schools/')]"
   ]
  },
  {
   "cell_type": "code",
   "execution_count": 11,
   "metadata": {},
   "outputs": [
    {
     "data": {
      "text/plain": [
       "40"
      ]
     },
     "execution_count": 11,
     "metadata": {},
     "output_type": "execute_result"
    }
   ],
   "source": [
    "# this give me only the links as a list\n",
    "d7_list_links = links_needed_d7[0].values.tolist()\n",
    "len(d7_list_links)"
   ]
  },
  {
   "cell_type": "code",
   "execution_count": 12,
   "metadata": {},
   "outputs": [],
   "source": [
    "# split up the dataset to make it not time out\n",
    "extracted_records_d7 = []\n",
    "\n",
    "for each in d7_list_links:\n",
    "  # You can add a time sleep to pause between pulls\n",
    "\n",
    "\n",
    "  #download the URL and extract the content to the variable html \n",
    "  request_schools = urllib.request.Request(each)\n",
    "  html_schools = urllib.request.urlopen(request_schools).read()\n",
    "  soup = BeautifulSoup(html_schools,'html.parser')\n",
    "  table = soup.find_all('span', {'class':'bigOrange'})\n",
    "#   display(table)\n",
    "  enrollment_num = table[2]\n",
    "  ratio_num = table[1]\n",
    "  lunch_num = table[-1]\n",
    "  records = {\n",
    "        'Enrollment': enrollment_num.text,\n",
    "        'Student-Teacher Ratio': ratio_num.text,\n",
    "        'Free-Reduced Lunch': lunch_num.text\n",
    "        }\n",
    "  extracted_records_d7.append(records)"
   ]
  },
  {
   "cell_type": "code",
   "execution_count": 13,
   "metadata": {},
   "outputs": [
    {
     "name": "stdout",
     "output_type": "stream",
     "text": [
      "40\n",
      "40\n"
     ]
    }
   ],
   "source": [
    "# checking the lens of everything to make sure it's ok\n",
    "print(len(extracted_records_d7))\n",
    "print(len(d7_list_links))"
   ]
  },
  {
   "cell_type": "code",
   "execution_count": 16,
   "metadata": {},
   "outputs": [
    {
     "data": {
      "text/html": [
       "<div>\n",
       "<style scoped>\n",
       "    .dataframe tbody tr th:only-of-type {\n",
       "        vertical-align: middle;\n",
       "    }\n",
       "\n",
       "    .dataframe tbody tr th {\n",
       "        vertical-align: top;\n",
       "    }\n",
       "\n",
       "    .dataframe thead th {\n",
       "        text-align: right;\n",
       "    }\n",
       "</style>\n",
       "<table border=\"1\" class=\"dataframe\">\n",
       "  <thead>\n",
       "    <tr style=\"text-align: right;\">\n",
       "      <th></th>\n",
       "      <th>Enrollment</th>\n",
       "      <th>Student-Teacher Ratio</th>\n",
       "      <th>Free-Reduced Lunch</th>\n",
       "    </tr>\n",
       "  </thead>\n",
       "  <tbody>\n",
       "    <tr>\n",
       "      <td>0</td>\n",
       "      <td>99.4%</td>\n",
       "      <td>486</td>\n",
       "      <td>87.2%</td>\n",
       "    </tr>\n",
       "  </tbody>\n",
       "</table>\n",
       "</div>"
      ],
      "text/plain": [
       "  Enrollment Student-Teacher Ratio Free-Reduced Lunch\n",
       "0      99.4%                   486              87.2%"
      ]
     },
     "execution_count": 16,
     "metadata": {},
     "output_type": "execute_result"
    }
   ],
   "source": [
    "# make extracted_records_d1 to a dataframe\n",
    "d7_df = pd.DataFrame(extracted_records_d7)\n",
    "d7_df.head(1)\n",
    "# looking through the data - need to replace a few numbers with it's correct numbers"
   ]
  },
  {
   "cell_type": "code",
   "execution_count": 17,
   "metadata": {},
   "outputs": [
    {
     "data": {
      "text/html": [
       "<div>\n",
       "<style scoped>\n",
       "    .dataframe tbody tr th:only-of-type {\n",
       "        vertical-align: middle;\n",
       "    }\n",
       "\n",
       "    .dataframe tbody tr th {\n",
       "        vertical-align: top;\n",
       "    }\n",
       "\n",
       "    .dataframe thead th {\n",
       "        text-align: right;\n",
       "    }\n",
       "</style>\n",
       "<table border=\"1\" class=\"dataframe\">\n",
       "  <thead>\n",
       "    <tr style=\"text-align: right;\">\n",
       "      <th></th>\n",
       "      <th>School Name</th>\n",
       "    </tr>\n",
       "  </thead>\n",
       "  <tbody>\n",
       "    <tr>\n",
       "      <td>0</td>\n",
       "      <td>University Heights Secondary School-Bronx Comm...</td>\n",
       "    </tr>\n",
       "  </tbody>\n",
       "</table>\n",
       "</div>"
      ],
      "text/plain": [
       "                                         School Name\n",
       "0  University Heights Secondary School-Bronx Comm..."
      ]
     },
     "execution_count": 17,
     "metadata": {},
     "output_type": "execute_result"
    }
   ],
   "source": [
    "d7_schools.head(1)"
   ]
  },
  {
   "cell_type": "code",
   "execution_count": 18,
   "metadata": {},
   "outputs": [],
   "source": [
    "d7_df.at[0,'Enrollment'] = 486\n",
    "d7_df.at[0,'Student-Teacher Ratio'] = 20.2\n",
    "d7_df.at[19,'Enrollment'] = 339\n",
    "d7_df.at[19,'Student-Teacher Ratio'] = 14.7\n",
    "d7_df.at[30,'Enrollment'] = 384\n",
    "d7_df.at[30,'Student-Teacher Ratio'] = 14.2"
   ]
  },
  {
   "cell_type": "code",
   "execution_count": 21,
   "metadata": {},
   "outputs": [
    {
     "data": {
      "text/html": [
       "<div>\n",
       "<style scoped>\n",
       "    .dataframe tbody tr th:only-of-type {\n",
       "        vertical-align: middle;\n",
       "    }\n",
       "\n",
       "    .dataframe tbody tr th {\n",
       "        vertical-align: top;\n",
       "    }\n",
       "\n",
       "    .dataframe thead th {\n",
       "        text-align: right;\n",
       "    }\n",
       "</style>\n",
       "<table border=\"1\" class=\"dataframe\">\n",
       "  <thead>\n",
       "    <tr style=\"text-align: right;\">\n",
       "      <th></th>\n",
       "      <th>School Name</th>\n",
       "      <th>Enrollment</th>\n",
       "      <th>Student-Teacher Ratio</th>\n",
       "      <th>Free-Reduced Lunch</th>\n",
       "    </tr>\n",
       "  </thead>\n",
       "  <tbody>\n",
       "    <tr>\n",
       "      <td>0</td>\n",
       "      <td>University Heights Secondary School-Bronx Comm...</td>\n",
       "      <td>486</td>\n",
       "      <td>20.2</td>\n",
       "      <td>87.2%</td>\n",
       "    </tr>\n",
       "  </tbody>\n",
       "</table>\n",
       "</div>"
      ],
      "text/plain": [
       "                                         School Name Enrollment  \\\n",
       "0  University Heights Secondary School-Bronx Comm...        486   \n",
       "\n",
       "  Student-Teacher Ratio Free-Reduced Lunch  \n",
       "0                  20.2              87.2%  "
      ]
     },
     "execution_count": 21,
     "metadata": {},
     "output_type": "execute_result"
    }
   ],
   "source": [
    "district_7 = pd.concat([d7_schools, d7_df], axis=1)\n",
    "district_7.head(1)"
   ]
  },
  {
   "cell_type": "code",
   "execution_count": 56,
   "metadata": {},
   "outputs": [],
   "source": [
    "# make df a csv file to be able to work with later\n",
    "# saving the dataframe \n",
    "district_7.to_csv('district_7.csv')"
   ]
  },
  {
   "cell_type": "markdown",
   "metadata": {},
   "source": [
    "### **New York District 8**"
   ]
  },
  {
   "cell_type": "code",
   "execution_count": 23,
   "metadata": {},
   "outputs": [],
   "source": [
    "# get the url of the site that you need (multiple urls now because I found the different districts)\n",
    "url_schools_d8 = \"https://www.schooldigger.com/go/NY/district/00085/search.aspx\"\n",
    "#download the URL and extract the content to the variable html \n",
    "request_schools_d8 = urllib.request.Request(url_schools_d8)\n",
    "html_schools_d8 = urllib.request.urlopen(request_schools_d8).read()"
   ]
  },
  {
   "cell_type": "code",
   "execution_count": 24,
   "metadata": {},
   "outputs": [],
   "source": [
    "# this will only give me the school names\n",
    "\n",
    "#pass the HTML to Beautifulsoup.\n",
    "soup_d8 = BeautifulSoup(html_schools_d8,'html.parser')\n",
    "main_table_d8 = soup_d8.find(\"div\",attrs={'class':'bsRTable'})\n",
    "school_names_d8 = main_table_d8.find_all(\"span\", class_=\"sName\")"
   ]
  },
  {
   "cell_type": "code",
   "execution_count": 25,
   "metadata": {},
   "outputs": [
    {
     "data": {
      "text/plain": [
       "52"
      ]
     },
     "execution_count": 25,
     "metadata": {},
     "output_type": "execute_result"
    }
   ],
   "source": [
    "schools_d8 = []\n",
    "for school in school_names_d8: \n",
    "    title = school.text\n",
    "    record = {\n",
    "        'School Name':title\n",
    "        }\n",
    "    schools_d8.append(record)\n",
    "# schools_d8\n",
    "len(schools_d8)"
   ]
  },
  {
   "cell_type": "code",
   "execution_count": 26,
   "metadata": {},
   "outputs": [],
   "source": [
    "# Make school list to a dataframe\n",
    "d8_schools = pd.DataFrame(schools_d8)"
   ]
  },
  {
   "cell_type": "code",
   "execution_count": 27,
   "metadata": {},
   "outputs": [
    {
     "name": "stdout",
     "output_type": "stream",
     "text": [
      "260\n"
     ]
    },
    {
     "data": {
      "text/plain": [
       "(63, 'https://www.schooldigger.com/go/NY/schools/0008501964/school.aspx')"
      ]
     },
     "execution_count": 27,
     "metadata": {},
     "output_type": "execute_result"
    }
   ],
   "source": [
    "# this gives me the links in the rows that go with the school names\n",
    "school_links_d8 = []\n",
    "link_list_d8 = main_table_d8.find_all('a',href=True)\n",
    "for data in link_list_d8:\n",
    "  link = data['href']\n",
    "  school_links_d8.append(link)\n",
    "print(len(school_links_d8))\n",
    "links_d8 = list(dict.fromkeys(school_links_d8)) # making a unique list from the dictionary of links\n",
    "len(links_d8), links_d8[0] # previewing size and first url"
   ]
  },
  {
   "cell_type": "code",
   "execution_count": 28,
   "metadata": {},
   "outputs": [],
   "source": [
    "# change the list to a dataframe to be able to filter out the links that I need and not the other links\n",
    "d8_links = pd.DataFrame(links_d8)"
   ]
  },
  {
   "cell_type": "code",
   "execution_count": 29,
   "metadata": {},
   "outputs": [],
   "source": [
    "links_needed_d8 = d8_links[d8_links[0].str.contains('https://www.schooldigger.com/go/NY/schools/')]"
   ]
  },
  {
   "cell_type": "code",
   "execution_count": 30,
   "metadata": {},
   "outputs": [
    {
     "data": {
      "text/plain": [
       "52"
      ]
     },
     "execution_count": 30,
     "metadata": {},
     "output_type": "execute_result"
    }
   ],
   "source": [
    "# this give me only the links as a list\n",
    "d8_list_links = links_needed_d8[0].values.tolist()\n",
    "len(d8_list_links)"
   ]
  },
  {
   "cell_type": "code",
   "execution_count": 31,
   "metadata": {},
   "outputs": [],
   "source": [
    "# split up the dataset to make it not time out\n",
    "extracted_records_d8 = []\n",
    "\n",
    "for each in d8_list_links:\n",
    "  # You can add a time sleep to pause between pulls\n",
    "\n",
    "\n",
    "  #download the URL and extract the content to the variable html \n",
    "  request_schools = urllib.request.Request(each)\n",
    "  html_schools = urllib.request.urlopen(request_schools).read()\n",
    "  soup = BeautifulSoup(html_schools,'html.parser')\n",
    "  table = soup.find_all('span', {'class':'bigOrange'})\n",
    "#   display(table)\n",
    "  enrollment_num = table[2]\n",
    "  ratio_num = table[1]\n",
    "  lunch_num = table[-1]\n",
    "  records = {\n",
    "        'Enrollment': enrollment_num.text,\n",
    "        'Student-Teacher Ratio': ratio_num.text,\n",
    "        'Free-Reduced Lunch': lunch_num.text\n",
    "        }\n",
    "  extracted_records_d8.append(records)"
   ]
  },
  {
   "cell_type": "code",
   "execution_count": 32,
   "metadata": {},
   "outputs": [
    {
     "name": "stdout",
     "output_type": "stream",
     "text": [
      "52\n",
      "52\n"
     ]
    }
   ],
   "source": [
    "# checking the lens of everything to make sure it's ok\n",
    "print(len(extracted_records_d8))\n",
    "print(len(d8_list_links))"
   ]
  },
  {
   "cell_type": "code",
   "execution_count": 37,
   "metadata": {},
   "outputs": [
    {
     "data": {
      "text/html": [
       "<div>\n",
       "<style scoped>\n",
       "    .dataframe tbody tr th:only-of-type {\n",
       "        vertical-align: middle;\n",
       "    }\n",
       "\n",
       "    .dataframe tbody tr th {\n",
       "        vertical-align: top;\n",
       "    }\n",
       "\n",
       "    .dataframe thead th {\n",
       "        text-align: right;\n",
       "    }\n",
       "</style>\n",
       "<table border=\"1\" class=\"dataframe\">\n",
       "  <thead>\n",
       "    <tr style=\"text-align: right;\">\n",
       "      <th></th>\n",
       "      <th>Enrollment</th>\n",
       "      <th>Student-Teacher Ratio</th>\n",
       "      <th>Free-Reduced Lunch</th>\n",
       "    </tr>\n",
       "  </thead>\n",
       "  <tbody>\n",
       "    <tr>\n",
       "      <td>0</td>\n",
       "      <td>725</td>\n",
       "      <td>12.0</td>\n",
       "      <td>81%</td>\n",
       "    </tr>\n",
       "  </tbody>\n",
       "</table>\n",
       "</div>"
      ],
      "text/plain": [
       "  Enrollment Student-Teacher Ratio Free-Reduced Lunch\n",
       "0        725                  12.0                81%"
      ]
     },
     "execution_count": 37,
     "metadata": {},
     "output_type": "execute_result"
    }
   ],
   "source": [
    "# make extracted_records_d1 to a dataframe\n",
    "d8_df = pd.DataFrame(extracted_records_d8)\n",
    "d8_df.head(1)\n",
    "# looking through the data - need to replace a few numbers with it's correct numbers"
   ]
  },
  {
   "cell_type": "code",
   "execution_count": 38,
   "metadata": {},
   "outputs": [
    {
     "data": {
      "text/html": [
       "<div>\n",
       "<style scoped>\n",
       "    .dataframe tbody tr th:only-of-type {\n",
       "        vertical-align: middle;\n",
       "    }\n",
       "\n",
       "    .dataframe tbody tr th {\n",
       "        vertical-align: top;\n",
       "    }\n",
       "\n",
       "    .dataframe thead th {\n",
       "        text-align: right;\n",
       "    }\n",
       "</style>\n",
       "<table border=\"1\" class=\"dataframe\">\n",
       "  <thead>\n",
       "    <tr style=\"text-align: right;\">\n",
       "      <th></th>\n",
       "      <th>School Name</th>\n",
       "    </tr>\n",
       "  </thead>\n",
       "  <tbody>\n",
       "    <tr>\n",
       "      <td>0</td>\n",
       "      <td>Herbert H Lehman High School</td>\n",
       "    </tr>\n",
       "  </tbody>\n",
       "</table>\n",
       "</div>"
      ],
      "text/plain": [
       "                    School Name\n",
       "0  Herbert H Lehman High School"
      ]
     },
     "execution_count": 38,
     "metadata": {},
     "output_type": "execute_result"
    }
   ],
   "source": [
    "d8_schools.head(1)"
   ]
  },
  {
   "cell_type": "code",
   "execution_count": 35,
   "metadata": {},
   "outputs": [],
   "source": [
    "d8_df.at[51,'Enrollment'] = 100\n",
    "d8_df.at[51,'Student-Teacher Ratio'] = 16.6"
   ]
  },
  {
   "cell_type": "code",
   "execution_count": 39,
   "metadata": {},
   "outputs": [
    {
     "data": {
      "text/html": [
       "<div>\n",
       "<style scoped>\n",
       "    .dataframe tbody tr th:only-of-type {\n",
       "        vertical-align: middle;\n",
       "    }\n",
       "\n",
       "    .dataframe tbody tr th {\n",
       "        vertical-align: top;\n",
       "    }\n",
       "\n",
       "    .dataframe thead th {\n",
       "        text-align: right;\n",
       "    }\n",
       "</style>\n",
       "<table border=\"1\" class=\"dataframe\">\n",
       "  <thead>\n",
       "    <tr style=\"text-align: right;\">\n",
       "      <th></th>\n",
       "      <th>School Name</th>\n",
       "      <th>Enrollment</th>\n",
       "      <th>Student-Teacher Ratio</th>\n",
       "      <th>Free-Reduced Lunch</th>\n",
       "    </tr>\n",
       "  </thead>\n",
       "  <tbody>\n",
       "    <tr>\n",
       "      <td>0</td>\n",
       "      <td>Herbert H Lehman High School</td>\n",
       "      <td>725</td>\n",
       "      <td>12.0</td>\n",
       "      <td>81%</td>\n",
       "    </tr>\n",
       "  </tbody>\n",
       "</table>\n",
       "</div>"
      ],
      "text/plain": [
       "                    School Name Enrollment Student-Teacher Ratio  \\\n",
       "0  Herbert H Lehman High School        725                  12.0   \n",
       "\n",
       "  Free-Reduced Lunch  \n",
       "0                81%  "
      ]
     },
     "execution_count": 39,
     "metadata": {},
     "output_type": "execute_result"
    }
   ],
   "source": [
    "district_8 = pd.concat([d8_schools, d8_df], axis=1)\n",
    "district_8.head(1)"
   ]
  },
  {
   "cell_type": "code",
   "execution_count": 58,
   "metadata": {},
   "outputs": [],
   "source": [
    "# make df a csv file to be able to work with later\n",
    "# saving the dataframe \n",
    "district_8.to_csv('district_8.csv')"
   ]
  },
  {
   "cell_type": "markdown",
   "metadata": {},
   "source": [
    "### **New York District 9**"
   ]
  },
  {
   "cell_type": "code",
   "execution_count": 59,
   "metadata": {},
   "outputs": [],
   "source": [
    "# get the url of the site that you need (multiple urls now because I found the different districts)\n",
    "url_schools_d9 = \"https://www.schooldigger.com/go/NY/district/00086/search.aspx\"\n",
    "#download the URL and extract the content to the variable html \n",
    "request_schools_d9 = urllib.request.Request(url_schools_d9)\n",
    "html_schools_d9 = urllib.request.urlopen(request_schools_d9).read()"
   ]
  },
  {
   "cell_type": "code",
   "execution_count": 60,
   "metadata": {},
   "outputs": [],
   "source": [
    "# this will only give me the school names\n",
    "\n",
    "#pass the HTML to Beautifulsoup.\n",
    "soup_d9 = BeautifulSoup(html_schools_d9,'html.parser')\n",
    "main_table_d9 = soup_d9.find(\"div\",attrs={'class':'bsRTable'})\n",
    "school_names_d9 = main_table_d9.find_all(\"span\", class_=\"sName\")"
   ]
  },
  {
   "cell_type": "code",
   "execution_count": 61,
   "metadata": {},
   "outputs": [
    {
     "data": {
      "text/plain": [
       "67"
      ]
     },
     "execution_count": 61,
     "metadata": {},
     "output_type": "execute_result"
    }
   ],
   "source": [
    "schools_d9 = []\n",
    "for school in school_names_d9: \n",
    "    title = school.text\n",
    "    record = {\n",
    "        'School Name':title\n",
    "        }\n",
    "    schools_d9.append(record)\n",
    "# schools_d9\n",
    "len(schools_d9)"
   ]
  },
  {
   "cell_type": "code",
   "execution_count": 62,
   "metadata": {},
   "outputs": [],
   "source": [
    "# Make school list to a dataframe\n",
    "d9_schools = pd.DataFrame(schools_d9)"
   ]
  },
  {
   "cell_type": "code",
   "execution_count": 63,
   "metadata": {},
   "outputs": [
    {
     "name": "stdout",
     "output_type": "stream",
     "text": [
      "335\n"
     ]
    },
    {
     "data": {
      "text/plain": [
       "(76, 'https://www.schooldigger.com/go/NY/schools/0008600728/school.aspx')"
      ]
     },
     "execution_count": 63,
     "metadata": {},
     "output_type": "execute_result"
    }
   ],
   "source": [
    "# this gives me the links in the rows that go with the school names\n",
    "school_links_d9 = []\n",
    "link_list_d9 = main_table_d9.find_all('a',href=True)\n",
    "for data in link_list_d9:\n",
    "  link = data['href']\n",
    "  school_links_d9.append(link)\n",
    "print(len(school_links_d9))\n",
    "links_d9 = list(dict.fromkeys(school_links_d9)) # making a unique list from the dictionary of links\n",
    "len(links_d9), links_d9[0] # previewing size and first url"
   ]
  },
  {
   "cell_type": "code",
   "execution_count": 64,
   "metadata": {},
   "outputs": [],
   "source": [
    "# change the list to a dataframe to be able to filter out the links that I need and not the other links\n",
    "d9_links = pd.DataFrame(links_d9)"
   ]
  },
  {
   "cell_type": "code",
   "execution_count": 65,
   "metadata": {},
   "outputs": [],
   "source": [
    "links_needed_d9 = d9_links[d9_links[0].str.contains('https://www.schooldigger.com/go/NY/schools/')]"
   ]
  },
  {
   "cell_type": "code",
   "execution_count": 66,
   "metadata": {},
   "outputs": [
    {
     "data": {
      "text/plain": [
       "67"
      ]
     },
     "execution_count": 66,
     "metadata": {},
     "output_type": "execute_result"
    }
   ],
   "source": [
    "# this give me only the links as a list\n",
    "d9_list_links = links_needed_d9[0].values.tolist()\n",
    "len(d9_list_links)"
   ]
  },
  {
   "cell_type": "code",
   "execution_count": 67,
   "metadata": {},
   "outputs": [],
   "source": [
    "# split up the dataset to make it not time out\n",
    "extracted_records_d9 = []\n",
    "\n",
    "for each in d9_list_links:\n",
    "  # You can add a time sleep to pause between pulls\n",
    "\n",
    "\n",
    "  #download the URL and extract the content to the variable html \n",
    "  request_schools = urllib.request.Request(each)\n",
    "  html_schools = urllib.request.urlopen(request_schools).read()\n",
    "  soup = BeautifulSoup(html_schools,'html.parser')\n",
    "  table = soup.find_all('span', {'class':'bigOrange'})\n",
    "#   display(table)\n",
    "  enrollment_num = table[2]\n",
    "  ratio_num = table[1]\n",
    "  lunch_num = table[-1]\n",
    "  records = {\n",
    "        'Enrollment': enrollment_num.text,\n",
    "        'Student-Teacher Ratio': ratio_num.text,\n",
    "        'Free-Reduced Lunch': lunch_num.text\n",
    "        }\n",
    "  extracted_records_d9.append(records)"
   ]
  },
  {
   "cell_type": "code",
   "execution_count": 68,
   "metadata": {},
   "outputs": [
    {
     "name": "stdout",
     "output_type": "stream",
     "text": [
      "67\n",
      "67\n"
     ]
    }
   ],
   "source": [
    "# checking the lens of everything to make sure it's ok\n",
    "print(len(extracted_records_d9))\n",
    "print(len(d9_list_links))"
   ]
  },
  {
   "cell_type": "code",
   "execution_count": 80,
   "metadata": {},
   "outputs": [
    {
     "data": {
      "text/html": [
       "<div>\n",
       "<style scoped>\n",
       "    .dataframe tbody tr th:only-of-type {\n",
       "        vertical-align: middle;\n",
       "    }\n",
       "\n",
       "    .dataframe tbody tr th {\n",
       "        vertical-align: top;\n",
       "    }\n",
       "\n",
       "    .dataframe thead th {\n",
       "        text-align: right;\n",
       "    }\n",
       "</style>\n",
       "<table border=\"1\" class=\"dataframe\">\n",
       "  <thead>\n",
       "    <tr style=\"text-align: right;\">\n",
       "      <th></th>\n",
       "      <th>Enrollment</th>\n",
       "      <th>Student-Teacher Ratio</th>\n",
       "      <th>Free-Reduced Lunch</th>\n",
       "    </tr>\n",
       "  </thead>\n",
       "  <tbody>\n",
       "    <tr>\n",
       "      <td>0</td>\n",
       "      <td>98.2%</td>\n",
       "      <td>266</td>\n",
       "      <td>87.6%</td>\n",
       "    </tr>\n",
       "  </tbody>\n",
       "</table>\n",
       "</div>"
      ],
      "text/plain": [
       "  Enrollment Student-Teacher Ratio Free-Reduced Lunch\n",
       "0      98.2%                   266              87.6%"
      ]
     },
     "execution_count": 80,
     "metadata": {},
     "output_type": "execute_result"
    }
   ],
   "source": [
    "# make extracted_records_d1 to a dataframe\n",
    "d9_df = pd.DataFrame(extracted_records_d9)\n",
    "d9_df.head(1)\n",
    "# looking through the data - need to replace a few numbers with it's correct numbers"
   ]
  },
  {
   "cell_type": "code",
   "execution_count": 77,
   "metadata": {},
   "outputs": [
    {
     "data": {
      "text/html": [
       "<div>\n",
       "<style scoped>\n",
       "    .dataframe tbody tr th:only-of-type {\n",
       "        vertical-align: middle;\n",
       "    }\n",
       "\n",
       "    .dataframe tbody tr th {\n",
       "        vertical-align: top;\n",
       "    }\n",
       "\n",
       "    .dataframe thead th {\n",
       "        text-align: right;\n",
       "    }\n",
       "</style>\n",
       "<table border=\"1\" class=\"dataframe\">\n",
       "  <thead>\n",
       "    <tr style=\"text-align: right;\">\n",
       "      <th></th>\n",
       "      <th>School Name</th>\n",
       "    </tr>\n",
       "  </thead>\n",
       "  <tbody>\n",
       "    <tr>\n",
       "      <td>0</td>\n",
       "      <td>Ps 170</td>\n",
       "    </tr>\n",
       "  </tbody>\n",
       "</table>\n",
       "</div>"
      ],
      "text/plain": [
       "  School Name\n",
       "0      Ps 170"
      ]
     },
     "execution_count": 77,
     "metadata": {},
     "output_type": "execute_result"
    }
   ],
   "source": [
    "d9_schools.head(1)"
   ]
  },
  {
   "cell_type": "code",
   "execution_count": 82,
   "metadata": {},
   "outputs": [],
   "source": [
    "d9_df.at[0,'Enrollment'] = 266\n",
    "d9_df.at[0,'Student-Teacher Ratio'] = 12.6\n",
    "d9_df.at[12,'Enrollment'] = 146\n",
    "d9_df.at[12,'Student-Teacher Ratio'] = 12.1\n",
    "d9_df.at[30,'Enrollment'] = 401\n",
    "d9_df.at[30,'Student-Teacher Ratio'] = 12.9\n",
    "d9_df.at[60,'Enrollment'] = 378\n",
    "d9_df.at[60,'Student-Teacher Ratio'] = 13.4"
   ]
  },
  {
   "cell_type": "code",
   "execution_count": 83,
   "metadata": {},
   "outputs": [
    {
     "data": {
      "text/html": [
       "<div>\n",
       "<style scoped>\n",
       "    .dataframe tbody tr th:only-of-type {\n",
       "        vertical-align: middle;\n",
       "    }\n",
       "\n",
       "    .dataframe tbody tr th {\n",
       "        vertical-align: top;\n",
       "    }\n",
       "\n",
       "    .dataframe thead th {\n",
       "        text-align: right;\n",
       "    }\n",
       "</style>\n",
       "<table border=\"1\" class=\"dataframe\">\n",
       "  <thead>\n",
       "    <tr style=\"text-align: right;\">\n",
       "      <th></th>\n",
       "      <th>School Name</th>\n",
       "      <th>Enrollment</th>\n",
       "      <th>Student-Teacher Ratio</th>\n",
       "      <th>Free-Reduced Lunch</th>\n",
       "    </tr>\n",
       "  </thead>\n",
       "  <tbody>\n",
       "    <tr>\n",
       "      <td>0</td>\n",
       "      <td>Ps 170</td>\n",
       "      <td>266</td>\n",
       "      <td>12.6</td>\n",
       "      <td>87.6%</td>\n",
       "    </tr>\n",
       "  </tbody>\n",
       "</table>\n",
       "</div>"
      ],
      "text/plain": [
       "  School Name Enrollment Student-Teacher Ratio Free-Reduced Lunch\n",
       "0      Ps 170        266                  12.6              87.6%"
      ]
     },
     "execution_count": 83,
     "metadata": {},
     "output_type": "execute_result"
    }
   ],
   "source": [
    "district_9 = pd.concat([d9_schools, d9_df], axis=1)\n",
    "district_9.head(1)"
   ]
  },
  {
   "cell_type": "code",
   "execution_count": 84,
   "metadata": {},
   "outputs": [],
   "source": [
    "# make df a csv file to be able to work with later\n",
    "# saving the dataframe \n",
    "district_9.to_csv('district_9.csv')"
   ]
  },
  {
   "cell_type": "markdown",
   "metadata": {},
   "source": [
    "### **New York District 10**"
   ]
  },
  {
   "cell_type": "code",
   "execution_count": 85,
   "metadata": {},
   "outputs": [],
   "source": [
    "# get the url of the site that you need (multiple urls now because I found the different districts)\n",
    "url_schools_d10 = \"https://www.schooldigger.com/go/NY/district/00087/search.aspx\"\n",
    "#download the URL and extract the content to the variable html \n",
    "request_schools_d10 = urllib.request.Request(url_schools_d10)\n",
    "html_schools_d10 = urllib.request.urlopen(request_schools_d10).read()"
   ]
  },
  {
   "cell_type": "code",
   "execution_count": 86,
   "metadata": {},
   "outputs": [],
   "source": [
    "# this will only give me the school names\n",
    "\n",
    "#pass the HTML to Beautifulsoup.\n",
    "soup_d10 = BeautifulSoup(html_schools_d10,'html.parser')\n",
    "main_table_d10 = soup_d10.find(\"div\",attrs={'class':'bsRTable'})\n",
    "school_names_d10 = main_table_d10.find_all(\"span\", class_=\"sName\")"
   ]
  },
  {
   "cell_type": "code",
   "execution_count": 87,
   "metadata": {},
   "outputs": [
    {
     "data": {
      "text/plain": [
       "85"
      ]
     },
     "execution_count": 87,
     "metadata": {},
     "output_type": "execute_result"
    }
   ],
   "source": [
    "schools_d10 = []\n",
    "for school in school_names_d10: \n",
    "    title = school.text\n",
    "    record = {\n",
    "        'School Name':title\n",
    "        }\n",
    "    schools_d10.append(record)\n",
    "# schools_d10\n",
    "len(schools_d10)"
   ]
  },
  {
   "cell_type": "code",
   "execution_count": 88,
   "metadata": {},
   "outputs": [],
   "source": [
    "# Make school list to a dataframe\n",
    "d10_schools = pd.DataFrame(schools_d10)"
   ]
  },
  {
   "cell_type": "code",
   "execution_count": 89,
   "metadata": {},
   "outputs": [
    {
     "name": "stdout",
     "output_type": "stream",
     "text": [
      "425\n"
     ]
    },
    {
     "data": {
      "text/plain": [
       "(97, 'https://www.schooldigger.com/go/NY/schools/0008700127/school.aspx')"
      ]
     },
     "execution_count": 89,
     "metadata": {},
     "output_type": "execute_result"
    }
   ],
   "source": [
    "# this gives me the links in the rows that go with the school names\n",
    "school_links_d10 = []\n",
    "link_list_d10 = main_table_d10.find_all('a',href=True)\n",
    "for data in link_list_d10:\n",
    "  link = data['href']\n",
    "  school_links_d10.append(link)\n",
    "print(len(school_links_d10))\n",
    "links_d10 = list(dict.fromkeys(school_links_d10)) # making a unique list from the dictionary of links\n",
    "len(links_d10), links_d10[0] # previewing size and first url"
   ]
  },
  {
   "cell_type": "code",
   "execution_count": 90,
   "metadata": {},
   "outputs": [],
   "source": [
    "# change the list to a dataframe to be able to filter out the links that I need and not the other links\n",
    "d10_links = pd.DataFrame(links_d10)"
   ]
  },
  {
   "cell_type": "code",
   "execution_count": 91,
   "metadata": {},
   "outputs": [],
   "source": [
    "links_needed_d10 = d10_links[d10_links[0].str.contains('https://www.schooldigger.com/go/NY/schools/')]"
   ]
  },
  {
   "cell_type": "code",
   "execution_count": 92,
   "metadata": {},
   "outputs": [
    {
     "data": {
      "text/plain": [
       "85"
      ]
     },
     "execution_count": 92,
     "metadata": {},
     "output_type": "execute_result"
    }
   ],
   "source": [
    "# this give me only the links as a list\n",
    "d10_list_links = links_needed_d10[0].values.tolist()\n",
    "len(d10_list_links)"
   ]
  },
  {
   "cell_type": "code",
   "execution_count": 93,
   "metadata": {},
   "outputs": [],
   "source": [
    "# split up the dataset to make it not time out\n",
    "extracted_records_d10 = []\n",
    "\n",
    "for each in d10_list_links:\n",
    "  # You can add a time sleep to pause between pulls\n",
    "\n",
    "\n",
    "  #download the URL and extract the content to the variable html \n",
    "  request_schools = urllib.request.Request(each)\n",
    "  html_schools = urllib.request.urlopen(request_schools).read()\n",
    "  soup = BeautifulSoup(html_schools,'html.parser')\n",
    "  table = soup.find_all('span', {'class':'bigOrange'})\n",
    "#   display(table)\n",
    "  enrollment_num = table[2]\n",
    "  ratio_num = table[1]\n",
    "  lunch_num = table[-1]\n",
    "  records = {\n",
    "        'Enrollment': enrollment_num.text,\n",
    "        'Student-Teacher Ratio': ratio_num.text,\n",
    "        'Free-Reduced Lunch': lunch_num.text\n",
    "        }\n",
    "  extracted_records_d10.append(records)"
   ]
  },
  {
   "cell_type": "code",
   "execution_count": 94,
   "metadata": {},
   "outputs": [
    {
     "name": "stdout",
     "output_type": "stream",
     "text": [
      "85\n",
      "85\n"
     ]
    }
   ],
   "source": [
    "# checking the lens of everything to make sure it's ok\n",
    "print(len(extracted_records_d10))\n",
    "print(len(d10_list_links))"
   ]
  },
  {
   "cell_type": "code",
   "execution_count": 101,
   "metadata": {},
   "outputs": [
    {
     "data": {
      "text/html": [
       "<div>\n",
       "<style scoped>\n",
       "    .dataframe tbody tr th:only-of-type {\n",
       "        vertical-align: middle;\n",
       "    }\n",
       "\n",
       "    .dataframe tbody tr th {\n",
       "        vertical-align: top;\n",
       "    }\n",
       "\n",
       "    .dataframe thead th {\n",
       "        text-align: right;\n",
       "    }\n",
       "</style>\n",
       "<table border=\"1\" class=\"dataframe\">\n",
       "  <thead>\n",
       "    <tr style=\"text-align: right;\">\n",
       "      <th></th>\n",
       "      <th>Enrollment</th>\n",
       "      <th>Student-Teacher Ratio</th>\n",
       "      <th>Free-Reduced Lunch</th>\n",
       "    </tr>\n",
       "  </thead>\n",
       "  <tbody>\n",
       "    <tr>\n",
       "      <td>0</td>\n",
       "      <td>219</td>\n",
       "      <td>13.6</td>\n",
       "      <td>89.5%</td>\n",
       "    </tr>\n",
       "  </tbody>\n",
       "</table>\n",
       "</div>"
      ],
      "text/plain": [
       "  Enrollment Student-Teacher Ratio Free-Reduced Lunch\n",
       "0        219                  13.6              89.5%"
      ]
     },
     "execution_count": 101,
     "metadata": {},
     "output_type": "execute_result"
    }
   ],
   "source": [
    "# make extracted_records_d1 to a dataframe\n",
    "d10_df = pd.DataFrame(extracted_records_d10)\n",
    "d10_df.head(1)\n",
    "# looking through the data - need to replace a few numbers with it's correct numbers"
   ]
  },
  {
   "cell_type": "code",
   "execution_count": 102,
   "metadata": {},
   "outputs": [
    {
     "data": {
      "text/html": [
       "<div>\n",
       "<style scoped>\n",
       "    .dataframe tbody tr th:only-of-type {\n",
       "        vertical-align: middle;\n",
       "    }\n",
       "\n",
       "    .dataframe tbody tr th {\n",
       "        vertical-align: top;\n",
       "    }\n",
       "\n",
       "    .dataframe thead th {\n",
       "        text-align: right;\n",
       "    }\n",
       "</style>\n",
       "<table border=\"1\" class=\"dataframe\">\n",
       "  <thead>\n",
       "    <tr style=\"text-align: right;\">\n",
       "      <th></th>\n",
       "      <th>School Name</th>\n",
       "    </tr>\n",
       "  </thead>\n",
       "  <tbody>\n",
       "    <tr>\n",
       "      <td>0</td>\n",
       "      <td>Ps 51 Bronx New School</td>\n",
       "    </tr>\n",
       "  </tbody>\n",
       "</table>\n",
       "</div>"
      ],
      "text/plain": [
       "              School Name\n",
       "0  Ps 51 Bronx New School"
      ]
     },
     "execution_count": 102,
     "metadata": {},
     "output_type": "execute_result"
    }
   ],
   "source": [
    "d10_schools.head(1)"
   ]
  },
  {
   "cell_type": "code",
   "execution_count": 103,
   "metadata": {},
   "outputs": [],
   "source": [
    "d10_df.at[3,'Enrollment'] = 259\n",
    "d10_df.at[3,'Student-Teacher Ratio'] = 11.7\n",
    "d10_df.at[40,'Enrollment'] = 307\n",
    "d10_df.at[40,'Student-Teacher Ratio'] = 14.6\n",
    "d10_df.at[72,'Enrollment'] = 329\n",
    "d10_df.at[72,'Student-Teacher Ratio'] = 14.9\n",
    "d10_df.at[76,'Enrollment'] = 535\n",
    "d10_df.at[76,'Student-Teacher Ratio'] = 14.0\n",
    "d10_df.at[79,'Enrollment'] = 333\n",
    "d10_df.at[79,'Student-Teacher Ratio'] = 13.3"
   ]
  },
  {
   "cell_type": "code",
   "execution_count": 109,
   "metadata": {},
   "outputs": [
    {
     "data": {
      "text/html": [
       "<div>\n",
       "<style scoped>\n",
       "    .dataframe tbody tr th:only-of-type {\n",
       "        vertical-align: middle;\n",
       "    }\n",
       "\n",
       "    .dataframe tbody tr th {\n",
       "        vertical-align: top;\n",
       "    }\n",
       "\n",
       "    .dataframe thead th {\n",
       "        text-align: right;\n",
       "    }\n",
       "</style>\n",
       "<table border=\"1\" class=\"dataframe\">\n",
       "  <thead>\n",
       "    <tr style=\"text-align: right;\">\n",
       "      <th></th>\n",
       "      <th>School Name</th>\n",
       "      <th>Enrollment</th>\n",
       "      <th>Student-Teacher Ratio</th>\n",
       "      <th>Free-Reduced Lunch</th>\n",
       "    </tr>\n",
       "  </thead>\n",
       "  <tbody>\n",
       "    <tr>\n",
       "      <td>0</td>\n",
       "      <td>Ps 51 Bronx New School</td>\n",
       "      <td>219</td>\n",
       "      <td>13.6</td>\n",
       "      <td>89.5%</td>\n",
       "    </tr>\n",
       "  </tbody>\n",
       "</table>\n",
       "</div>"
      ],
      "text/plain": [
       "              School Name Enrollment Student-Teacher Ratio Free-Reduced Lunch\n",
       "0  Ps 51 Bronx New School        219                  13.6              89.5%"
      ]
     },
     "execution_count": 109,
     "metadata": {},
     "output_type": "execute_result"
    }
   ],
   "source": [
    "district_10 = pd.concat([d10_schools, d10_df], axis=1)\n",
    "district_10.head(1)"
   ]
  },
  {
   "cell_type": "code",
   "execution_count": 110,
   "metadata": {},
   "outputs": [],
   "source": [
    "# make df a csv file to be able to work with later\n",
    "# saving the dataframe \n",
    "district_10.to_csv('district_10.csv')"
   ]
  },
  {
   "cell_type": "markdown",
   "metadata": {},
   "source": [
    "### **New York District 11**"
   ]
  },
  {
   "cell_type": "code",
   "execution_count": 2,
   "metadata": {},
   "outputs": [],
   "source": [
    "# get the url of the site that you need (multiple urls now because I found the different districts)\n",
    "url_schools_d11 = \"https://www.schooldigger.com/go/NY/district/00088/search.aspx\"\n",
    "#download the URL and extract the content to the variable html \n",
    "request_schools_d11 = urllib.request.Request(url_schools_d11)\n",
    "html_schools_d11 = urllib.request.urlopen(request_schools_d11).read()"
   ]
  },
  {
   "cell_type": "code",
   "execution_count": 4,
   "metadata": {},
   "outputs": [],
   "source": [
    "# this will only give me the school names\n",
    "\n",
    "#pass the HTML to Beautifulsoup.\n",
    "soup_d11 = BeautifulSoup(html_schools_d11,'html.parser')\n",
    "main_table_d11 = soup_d11.find(\"div\",attrs={'class':'bsRTable'})\n",
    "school_names_d11 = main_table_d11.find_all(\"span\", class_=\"sName\")"
   ]
  },
  {
   "cell_type": "code",
   "execution_count": 5,
   "metadata": {},
   "outputs": [
    {
     "data": {
      "text/plain": [
       "62"
      ]
     },
     "execution_count": 5,
     "metadata": {},
     "output_type": "execute_result"
    }
   ],
   "source": [
    "schools_d11 = []\n",
    "for school in school_names_d11: \n",
    "    title = school.text\n",
    "    record = {\n",
    "        'School Name':title\n",
    "        }\n",
    "    schools_d11.append(record)\n",
    "# schools_d11\n",
    "len(schools_d11)"
   ]
  },
  {
   "cell_type": "code",
   "execution_count": 6,
   "metadata": {},
   "outputs": [],
   "source": [
    "# Make school list to a dataframe\n",
    "d11_schools = pd.DataFrame(schools_d11)"
   ]
  },
  {
   "cell_type": "code",
   "execution_count": 7,
   "metadata": {},
   "outputs": [
    {
     "name": "stdout",
     "output_type": "stream",
     "text": [
      "310\n"
     ]
    },
    {
     "data": {
      "text/plain": [
       "(73, 'https://www.schooldigger.com/go/NY/schools/0008800158/school.aspx')"
      ]
     },
     "execution_count": 7,
     "metadata": {},
     "output_type": "execute_result"
    }
   ],
   "source": [
    "# this gives me the links in the rows that go with the school names\n",
    "school_links_d11 = []\n",
    "link_list_d11 = main_table_d11.find_all('a',href=True)\n",
    "for data in link_list_d11:\n",
    "  link = data['href']\n",
    "  school_links_d11.append(link)\n",
    "print(len(school_links_d11))\n",
    "links_d11 = list(dict.fromkeys(school_links_d11)) # making a unique list from the dictionary of links\n",
    "len(links_d11), links_d11[0] # previewing size and first url"
   ]
  },
  {
   "cell_type": "code",
   "execution_count": 8,
   "metadata": {},
   "outputs": [],
   "source": [
    "# change the list to a dataframe to be able to filter out the links that I need and not the other links\n",
    "d11_links = pd.DataFrame(links_d11)"
   ]
  },
  {
   "cell_type": "code",
   "execution_count": 9,
   "metadata": {},
   "outputs": [],
   "source": [
    "links_needed_d11 = d11_links[d11_links[0].str.contains('https://www.schooldigger.com/go/NY/schools/')]"
   ]
  },
  {
   "cell_type": "code",
   "execution_count": 10,
   "metadata": {},
   "outputs": [
    {
     "data": {
      "text/plain": [
       "62"
      ]
     },
     "execution_count": 10,
     "metadata": {},
     "output_type": "execute_result"
    }
   ],
   "source": [
    "# this give me only the links as a list\n",
    "d11_list_links = links_needed_d11[0].values.tolist()\n",
    "len(d11_list_links)"
   ]
  },
  {
   "cell_type": "code",
   "execution_count": 11,
   "metadata": {},
   "outputs": [],
   "source": [
    "# split up the dataset to make it not time out\n",
    "extracted_records_d11 = []\n",
    "\n",
    "for each in d11_list_links:\n",
    "  # You can add a time sleep to pause between pulls\n",
    "\n",
    "\n",
    "  #download the URL and extract the content to the variable html \n",
    "  request_schools = urllib.request.Request(each)\n",
    "  html_schools = urllib.request.urlopen(request_schools).read()\n",
    "  soup = BeautifulSoup(html_schools,'html.parser')\n",
    "  table = soup.find_all('span', {'class':'bigOrange'})\n",
    "#   display(table)\n",
    "  enrollment_num = table[2]\n",
    "  ratio_num = table[1]\n",
    "  lunch_num = table[-1]\n",
    "  records = {\n",
    "        'Enrollment': enrollment_num.text,\n",
    "        'Student-Teacher Ratio': ratio_num.text,\n",
    "        'Free-Reduced Lunch': lunch_num.text\n",
    "        }\n",
    "  extracted_records_d11.append(records)"
   ]
  },
  {
   "cell_type": "code",
   "execution_count": 12,
   "metadata": {},
   "outputs": [
    {
     "name": "stdout",
     "output_type": "stream",
     "text": [
      "62\n",
      "62\n"
     ]
    }
   ],
   "source": [
    "# checking the lens of everything to make sure it's ok\n",
    "print(len(extracted_records_d11))\n",
    "print(len(d11_list_links))"
   ]
  },
  {
   "cell_type": "code",
   "execution_count": 21,
   "metadata": {},
   "outputs": [
    {
     "data": {
      "text/html": [
       "<div>\n",
       "<style scoped>\n",
       "    .dataframe tbody tr th:only-of-type {\n",
       "        vertical-align: middle;\n",
       "    }\n",
       "\n",
       "    .dataframe tbody tr th {\n",
       "        vertical-align: top;\n",
       "    }\n",
       "\n",
       "    .dataframe thead th {\n",
       "        text-align: right;\n",
       "    }\n",
       "</style>\n",
       "<table border=\"1\" class=\"dataframe\">\n",
       "  <thead>\n",
       "    <tr style=\"text-align: right;\">\n",
       "      <th></th>\n",
       "      <th>Enrollment</th>\n",
       "      <th>Student-Teacher Ratio</th>\n",
       "      <th>Free-Reduced Lunch</th>\n",
       "    </tr>\n",
       "  </thead>\n",
       "  <tbody>\n",
       "    <tr>\n",
       "      <td>0</td>\n",
       "      <td>437</td>\n",
       "      <td>12.4</td>\n",
       "      <td>80.3%</td>\n",
       "    </tr>\n",
       "  </tbody>\n",
       "</table>\n",
       "</div>"
      ],
      "text/plain": [
       "  Enrollment Student-Teacher Ratio Free-Reduced Lunch\n",
       "0        437                  12.4              80.3%"
      ]
     },
     "execution_count": 21,
     "metadata": {},
     "output_type": "execute_result"
    }
   ],
   "source": [
    "# make extracted_records_d1 to a dataframe\n",
    "d11_df = pd.DataFrame(extracted_records_d11)\n",
    "d11_df.head(1)\n",
    "# looking through the data - need to replace a few numbers with it's correct numbers"
   ]
  },
  {
   "cell_type": "code",
   "execution_count": 22,
   "metadata": {},
   "outputs": [
    {
     "data": {
      "text/html": [
       "<div>\n",
       "<style scoped>\n",
       "    .dataframe tbody tr th:only-of-type {\n",
       "        vertical-align: middle;\n",
       "    }\n",
       "\n",
       "    .dataframe tbody tr th {\n",
       "        vertical-align: top;\n",
       "    }\n",
       "\n",
       "    .dataframe thead th {\n",
       "        text-align: right;\n",
       "    }\n",
       "</style>\n",
       "<table border=\"1\" class=\"dataframe\">\n",
       "  <thead>\n",
       "    <tr style=\"text-align: right;\">\n",
       "      <th></th>\n",
       "      <th>School Name</th>\n",
       "    </tr>\n",
       "  </thead>\n",
       "  <tbody>\n",
       "    <tr>\n",
       "      <td>0</td>\n",
       "      <td>Ps 178 Dr Selman Waksman</td>\n",
       "    </tr>\n",
       "  </tbody>\n",
       "</table>\n",
       "</div>"
      ],
      "text/plain": [
       "                School Name\n",
       "0  Ps 178 Dr Selman Waksman"
      ]
     },
     "execution_count": 22,
     "metadata": {},
     "output_type": "execute_result"
    }
   ],
   "source": [
    "d11_schools.head(1)"
   ]
  },
  {
   "cell_type": "code",
   "execution_count": 24,
   "metadata": {},
   "outputs": [],
   "source": [
    "d11_df.at[35,'Enrollment'] = 390\n",
    "d11_df.at[35,'Student-Teacher Ratio'] = 12.1\n",
    "d11_df.at[60,'Enrollment'] = 124\n",
    "d11_df.at[60,'Student-Teacher Ratio'] = 12.3\n",
    "d11_df.at[61,'Enrollment'] = 163\n",
    "d11_df.at[61,'Student-Teacher Ratio'] = 12.5"
   ]
  },
  {
   "cell_type": "code",
   "execution_count": 26,
   "metadata": {},
   "outputs": [
    {
     "data": {
      "text/html": [
       "<div>\n",
       "<style scoped>\n",
       "    .dataframe tbody tr th:only-of-type {\n",
       "        vertical-align: middle;\n",
       "    }\n",
       "\n",
       "    .dataframe tbody tr th {\n",
       "        vertical-align: top;\n",
       "    }\n",
       "\n",
       "    .dataframe thead th {\n",
       "        text-align: right;\n",
       "    }\n",
       "</style>\n",
       "<table border=\"1\" class=\"dataframe\">\n",
       "  <thead>\n",
       "    <tr style=\"text-align: right;\">\n",
       "      <th></th>\n",
       "      <th>School Name</th>\n",
       "      <th>Enrollment</th>\n",
       "      <th>Student-Teacher Ratio</th>\n",
       "      <th>Free-Reduced Lunch</th>\n",
       "    </tr>\n",
       "  </thead>\n",
       "  <tbody>\n",
       "    <tr>\n",
       "      <td>61</td>\n",
       "      <td>Stem Bridge School (The)</td>\n",
       "      <td>163</td>\n",
       "      <td>12.5</td>\n",
       "      <td>87.7%</td>\n",
       "    </tr>\n",
       "  </tbody>\n",
       "</table>\n",
       "</div>"
      ],
      "text/plain": [
       "                 School Name Enrollment Student-Teacher Ratio  \\\n",
       "61  Stem Bridge School (The)        163                  12.5   \n",
       "\n",
       "   Free-Reduced Lunch  \n",
       "61              87.7%  "
      ]
     },
     "execution_count": 26,
     "metadata": {},
     "output_type": "execute_result"
    }
   ],
   "source": [
    "district_11 = pd.concat([d11_schools, d11_df], axis=1)\n",
    "district_11.tail(1)"
   ]
  },
  {
   "cell_type": "code",
   "execution_count": 27,
   "metadata": {},
   "outputs": [],
   "source": [
    "# make df a csv file to be able to work with later\n",
    "# saving the dataframe \n",
    "district_11.to_csv('district_11.csv')"
   ]
  },
  {
   "cell_type": "markdown",
   "metadata": {},
   "source": [
    "### **New York District 12**"
   ]
  },
  {
   "cell_type": "code",
   "execution_count": 28,
   "metadata": {},
   "outputs": [],
   "source": [
    "# get the url of the site that you need (multiple urls now because I found the different districts)\n",
    "url_schools_d12 = \"https://www.schooldigger.com/go/NY/district/00090/search.aspx\"\n",
    "#download the URL and extract the content to the variable html \n",
    "request_schools_d12 = urllib.request.Request(url_schools_d12)\n",
    "html_schools_d12 = urllib.request.urlopen(request_schools_d12).read()"
   ]
  },
  {
   "cell_type": "code",
   "execution_count": 29,
   "metadata": {},
   "outputs": [],
   "source": [
    "# this will only give me the school names\n",
    "\n",
    "#pass the HTML to Beautifulsoup.\n",
    "soup_d12 = BeautifulSoup(html_schools_d12,'html.parser')\n",
    "main_table_d12 = soup_d12.find(\"div\",attrs={'class':'bsRTable'})\n",
    "school_names_d12 = main_table_d12.find_all(\"span\", class_=\"sName\")"
   ]
  },
  {
   "cell_type": "code",
   "execution_count": 30,
   "metadata": {},
   "outputs": [
    {
     "data": {
      "text/plain": [
       "46"
      ]
     },
     "execution_count": 30,
     "metadata": {},
     "output_type": "execute_result"
    }
   ],
   "source": [
    "schools_d12 = []\n",
    "for school in school_names_d12: \n",
    "    title = school.text\n",
    "    record = {\n",
    "        'School Name':title\n",
    "        }\n",
    "    schools_d12.append(record)\n",
    "# schools_d12\n",
    "len(schools_d12)"
   ]
  },
  {
   "cell_type": "code",
   "execution_count": 31,
   "metadata": {},
   "outputs": [],
   "source": [
    "# Make school list to a dataframe\n",
    "d12_schools = pd.DataFrame(schools_d12)"
   ]
  },
  {
   "cell_type": "code",
   "execution_count": 33,
   "metadata": {},
   "outputs": [
    {
     "name": "stdout",
     "output_type": "stream",
     "text": [
      "230\n"
     ]
    },
    {
     "data": {
      "text/plain": [
       "(54, 'https://www.schooldigger.com/go/NY/schools/0009000227/school.aspx')"
      ]
     },
     "execution_count": 33,
     "metadata": {},
     "output_type": "execute_result"
    }
   ],
   "source": [
    "# this gives me the links in the rows that go with the school names\n",
    "school_links_d12 = []\n",
    "link_list_d12 = main_table_d12.find_all('a',href=True)\n",
    "for data in link_list_d12:\n",
    "  link = data['href']\n",
    "  school_links_d12.append(link)\n",
    "print(len(school_links_d12))\n",
    "links_d12 = list(dict.fromkeys(school_links_d12)) # making a unique list from the dictionary of links\n",
    "len(links_d12), links_d12[0] # previewing size and first url"
   ]
  },
  {
   "cell_type": "code",
   "execution_count": 34,
   "metadata": {},
   "outputs": [],
   "source": [
    "# change the list to a dataframe to be able to filter out the links that I need and not the other links\n",
    "d12_links = pd.DataFrame(links_d12)"
   ]
  },
  {
   "cell_type": "code",
   "execution_count": 35,
   "metadata": {},
   "outputs": [],
   "source": [
    "links_needed_d12 = d12_links[d12_links[0].str.contains('https://www.schooldigger.com/go/NY/schools/')]"
   ]
  },
  {
   "cell_type": "code",
   "execution_count": 36,
   "metadata": {},
   "outputs": [
    {
     "data": {
      "text/plain": [
       "46"
      ]
     },
     "execution_count": 36,
     "metadata": {},
     "output_type": "execute_result"
    }
   ],
   "source": [
    "# this give me only the links as a list\n",
    "d12_list_links = links_needed_d12[0].values.tolist()\n",
    "len(d12_list_links)"
   ]
  },
  {
   "cell_type": "code",
   "execution_count": 37,
   "metadata": {},
   "outputs": [],
   "source": [
    "# split up the dataset to make it not time out\n",
    "extracted_records_d12 = []\n",
    "\n",
    "for each in d12_list_links:\n",
    "  # You can add a time sleep to pause between pulls\n",
    "\n",
    "\n",
    "  #download the URL and extract the content to the variable html \n",
    "  request_schools = urllib.request.Request(each)\n",
    "  html_schools = urllib.request.urlopen(request_schools).read()\n",
    "  soup = BeautifulSoup(html_schools,'html.parser')\n",
    "  table = soup.find_all('span', {'class':'bigOrange'})\n",
    "#   display(table)\n",
    "  enrollment_num = table[2]\n",
    "  ratio_num = table[1]\n",
    "  lunch_num = table[-1]\n",
    "  records = {\n",
    "        'Enrollment': enrollment_num.text,\n",
    "        'Student-Teacher Ratio': ratio_num.text,\n",
    "        'Free-Reduced Lunch': lunch_num.text\n",
    "        }\n",
    "  extracted_records_d12.append(records)"
   ]
  },
  {
   "cell_type": "code",
   "execution_count": 38,
   "metadata": {},
   "outputs": [
    {
     "name": "stdout",
     "output_type": "stream",
     "text": [
      "46\n",
      "46\n"
     ]
    }
   ],
   "source": [
    "# checking the lens of everything to make sure it's ok\n",
    "print(len(extracted_records_d12))\n",
    "print(len(d12_list_links))"
   ]
  },
  {
   "cell_type": "code",
   "execution_count": 45,
   "metadata": {},
   "outputs": [
    {
     "data": {
      "text/html": [
       "<div>\n",
       "<style scoped>\n",
       "    .dataframe tbody tr th:only-of-type {\n",
       "        vertical-align: middle;\n",
       "    }\n",
       "\n",
       "    .dataframe tbody tr th {\n",
       "        vertical-align: top;\n",
       "    }\n",
       "\n",
       "    .dataframe thead th {\n",
       "        text-align: right;\n",
       "    }\n",
       "</style>\n",
       "<table border=\"1\" class=\"dataframe\">\n",
       "  <thead>\n",
       "    <tr style=\"text-align: right;\">\n",
       "      <th></th>\n",
       "      <th>Enrollment</th>\n",
       "      <th>Student-Teacher Ratio</th>\n",
       "      <th>Free-Reduced Lunch</th>\n",
       "    </tr>\n",
       "  </thead>\n",
       "  <tbody>\n",
       "    <tr>\n",
       "      <td>0</td>\n",
       "      <td>1,084</td>\n",
       "      <td>15.0</td>\n",
       "      <td>87.5%</td>\n",
       "    </tr>\n",
       "  </tbody>\n",
       "</table>\n",
       "</div>"
      ],
      "text/plain": [
       "  Enrollment Student-Teacher Ratio Free-Reduced Lunch\n",
       "0      1,084                  15.0              87.5%"
      ]
     },
     "execution_count": 45,
     "metadata": {},
     "output_type": "execute_result"
    }
   ],
   "source": [
    "# make extracted_records_d1 to a dataframe\n",
    "d12_df = pd.DataFrame(extracted_records_d12)\n",
    "d12_df.head(1)\n",
    "# looking through the data - need to replace a few numbers with it's correct numbers"
   ]
  },
  {
   "cell_type": "code",
   "execution_count": 46,
   "metadata": {},
   "outputs": [
    {
     "data": {
      "text/html": [
       "<div>\n",
       "<style scoped>\n",
       "    .dataframe tbody tr th:only-of-type {\n",
       "        vertical-align: middle;\n",
       "    }\n",
       "\n",
       "    .dataframe tbody tr th {\n",
       "        vertical-align: top;\n",
       "    }\n",
       "\n",
       "    .dataframe thead th {\n",
       "        text-align: right;\n",
       "    }\n",
       "</style>\n",
       "<table border=\"1\" class=\"dataframe\">\n",
       "  <thead>\n",
       "    <tr style=\"text-align: right;\">\n",
       "      <th></th>\n",
       "      <th>School Name</th>\n",
       "    </tr>\n",
       "  </thead>\n",
       "  <tbody>\n",
       "    <tr>\n",
       "      <td>0</td>\n",
       "      <td>Ps 214</td>\n",
       "    </tr>\n",
       "  </tbody>\n",
       "</table>\n",
       "</div>"
      ],
      "text/plain": [
       "  School Name\n",
       "0      Ps 214"
      ]
     },
     "execution_count": 46,
     "metadata": {},
     "output_type": "execute_result"
    }
   ],
   "source": [
    "d12_schools.head(1)"
   ]
  },
  {
   "cell_type": "code",
   "execution_count": 48,
   "metadata": {},
   "outputs": [],
   "source": [
    "d12_df.at[3,'Enrollment'] = 458\n",
    "d12_df.at[3,'Student-Teacher Ratio'] = 14.3\n",
    "d12_df.at[35,'Enrollment'] = 470\n",
    "d12_df.at[35,'Student-Teacher Ratio'] = 14.6\n",
    "d12_df.at[39,'Enrollment'] = 180\n",
    "d12_df.at[39,'Student-Teacher Ratio'] = 15.0"
   ]
  },
  {
   "cell_type": "code",
   "execution_count": 50,
   "metadata": {},
   "outputs": [
    {
     "data": {
      "text/html": [
       "<div>\n",
       "<style scoped>\n",
       "    .dataframe tbody tr th:only-of-type {\n",
       "        vertical-align: middle;\n",
       "    }\n",
       "\n",
       "    .dataframe tbody tr th {\n",
       "        vertical-align: top;\n",
       "    }\n",
       "\n",
       "    .dataframe thead th {\n",
       "        text-align: right;\n",
       "    }\n",
       "</style>\n",
       "<table border=\"1\" class=\"dataframe\">\n",
       "  <thead>\n",
       "    <tr style=\"text-align: right;\">\n",
       "      <th></th>\n",
       "      <th>Enrollment</th>\n",
       "      <th>Student-Teacher Ratio</th>\n",
       "      <th>Free-Reduced Lunch</th>\n",
       "    </tr>\n",
       "  </thead>\n",
       "  <tbody>\n",
       "    <tr>\n",
       "      <td>0</td>\n",
       "      <td>1,084</td>\n",
       "      <td>15.0</td>\n",
       "      <td>87.5%</td>\n",
       "    </tr>\n",
       "  </tbody>\n",
       "</table>\n",
       "</div>"
      ],
      "text/plain": [
       "  Enrollment Student-Teacher Ratio Free-Reduced Lunch\n",
       "0      1,084                  15.0              87.5%"
      ]
     },
     "execution_count": 50,
     "metadata": {},
     "output_type": "execute_result"
    }
   ],
   "source": [
    "d12_df.head(1)"
   ]
  },
  {
   "cell_type": "code",
   "execution_count": 52,
   "metadata": {},
   "outputs": [
    {
     "data": {
      "text/html": [
       "<div>\n",
       "<style scoped>\n",
       "    .dataframe tbody tr th:only-of-type {\n",
       "        vertical-align: middle;\n",
       "    }\n",
       "\n",
       "    .dataframe tbody tr th {\n",
       "        vertical-align: top;\n",
       "    }\n",
       "\n",
       "    .dataframe thead th {\n",
       "        text-align: right;\n",
       "    }\n",
       "</style>\n",
       "<table border=\"1\" class=\"dataframe\">\n",
       "  <thead>\n",
       "    <tr style=\"text-align: right;\">\n",
       "      <th></th>\n",
       "      <th>School Name</th>\n",
       "      <th>Enrollment</th>\n",
       "      <th>Student-Teacher Ratio</th>\n",
       "      <th>Free-Reduced Lunch</th>\n",
       "    </tr>\n",
       "  </thead>\n",
       "  <tbody>\n",
       "    <tr>\n",
       "      <td>0</td>\n",
       "      <td>Ps 214</td>\n",
       "      <td>1,084</td>\n",
       "      <td>15.0</td>\n",
       "      <td>87.5%</td>\n",
       "    </tr>\n",
       "  </tbody>\n",
       "</table>\n",
       "</div>"
      ],
      "text/plain": [
       "  School Name Enrollment Student-Teacher Ratio Free-Reduced Lunch\n",
       "0      Ps 214      1,084                  15.0              87.5%"
      ]
     },
     "execution_count": 52,
     "metadata": {},
     "output_type": "execute_result"
    }
   ],
   "source": [
    "district_12 = pd.concat([d12_schools, d12_df], axis=1)\n",
    "district_12.head(1)"
   ]
  },
  {
   "cell_type": "code",
   "execution_count": 53,
   "metadata": {},
   "outputs": [],
   "source": [
    "# make df a csv file to be able to work with later\n",
    "# saving the dataframe \n",
    "district_12.to_csv('district_12.csv')"
   ]
  },
  {
   "cell_type": "markdown",
   "metadata": {},
   "source": [
    "### **New York District 13**"
   ]
  },
  {
   "cell_type": "code",
   "execution_count": 54,
   "metadata": {},
   "outputs": [],
   "source": [
    "# get the url of the site that you need (multiple urls now because I found the different districts)\n",
    "url_schools_d13 = \"https://www.schooldigger.com/go/NY/district/00091/search.aspx\"\n",
    "#download the URL and extract the content to the variable html \n",
    "request_schools_d13 = urllib.request.Request(url_schools_d13)\n",
    "html_schools_d13 = urllib.request.urlopen(request_schools_d13).read()"
   ]
  },
  {
   "cell_type": "code",
   "execution_count": 55,
   "metadata": {},
   "outputs": [],
   "source": [
    "# this will only give me the school names\n",
    "\n",
    "#pass the HTML to Beautifulsoup.\n",
    "soup_d13 = BeautifulSoup(html_schools_d13,'html.parser')\n",
    "main_table_d13 = soup_d13.find(\"div\",attrs={'class':'bsRTable'})\n",
    "school_names_d13 = main_table_d13.find_all(\"span\", class_=\"sName\")"
   ]
  },
  {
   "cell_type": "code",
   "execution_count": 56,
   "metadata": {},
   "outputs": [
    {
     "data": {
      "text/plain": [
       "40"
      ]
     },
     "execution_count": 56,
     "metadata": {},
     "output_type": "execute_result"
    }
   ],
   "source": [
    "schools_d13 = []\n",
    "for school in school_names_d13: \n",
    "    title = school.text\n",
    "    record = {\n",
    "        'School Name':title\n",
    "        }\n",
    "    schools_d13.append(record)\n",
    "# schools_d13\n",
    "len(schools_d13)"
   ]
  },
  {
   "cell_type": "code",
   "execution_count": 57,
   "metadata": {},
   "outputs": [],
   "source": [
    "# Make school list to a dataframe\n",
    "d13_schools = pd.DataFrame(schools_d13)"
   ]
  },
  {
   "cell_type": "code",
   "execution_count": 58,
   "metadata": {},
   "outputs": [
    {
     "name": "stdout",
     "output_type": "stream",
     "text": [
      "200\n"
     ]
    },
    {
     "data": {
      "text/plain": [
       "(49, 'https://www.schooldigger.com/go/NY/schools/0009100867/school.aspx')"
      ]
     },
     "execution_count": 58,
     "metadata": {},
     "output_type": "execute_result"
    }
   ],
   "source": [
    "# this gives me the links in the rows that go with the school names\n",
    "school_links_d13 = []\n",
    "link_list_d13 = main_table_d13.find_all('a',href=True)\n",
    "for data in link_list_d13:\n",
    "  link = data['href']\n",
    "  school_links_d13.append(link)\n",
    "print(len(school_links_d13))\n",
    "links_d13 = list(dict.fromkeys(school_links_d13)) # making a unique list from the dictionary of links\n",
    "len(links_d13), links_d13[0] # previewing size and first url"
   ]
  },
  {
   "cell_type": "code",
   "execution_count": 59,
   "metadata": {},
   "outputs": [],
   "source": [
    "# change the list to a dataframe to be able to filter out the links that I need and not the other links\n",
    "d13_links = pd.DataFrame(links_d13)"
   ]
  },
  {
   "cell_type": "code",
   "execution_count": 60,
   "metadata": {},
   "outputs": [],
   "source": [
    "links_needed_d13 = d13_links[d13_links[0].str.contains('https://www.schooldigger.com/go/NY/schools/')]"
   ]
  },
  {
   "cell_type": "code",
   "execution_count": 61,
   "metadata": {},
   "outputs": [
    {
     "data": {
      "text/plain": [
       "40"
      ]
     },
     "execution_count": 61,
     "metadata": {},
     "output_type": "execute_result"
    }
   ],
   "source": [
    "# this give me only the links as a list\n",
    "d13_list_links = links_needed_d13[0].values.tolist()\n",
    "len(d13_list_links)"
   ]
  },
  {
   "cell_type": "code",
   "execution_count": 62,
   "metadata": {},
   "outputs": [],
   "source": [
    "# split up the dataset to make it not time out\n",
    "extracted_records_d13 = []\n",
    "\n",
    "for each in d13_list_links:\n",
    "  # You can add a time sleep to pause between pulls\n",
    "\n",
    "\n",
    "  #download the URL and extract the content to the variable html \n",
    "  request_schools = urllib.request.Request(each)\n",
    "  html_schools = urllib.request.urlopen(request_schools).read()\n",
    "  soup = BeautifulSoup(html_schools,'html.parser')\n",
    "  table = soup.find_all('span', {'class':'bigOrange'})\n",
    "#   display(table)\n",
    "  enrollment_num = table[2]\n",
    "  ratio_num = table[1]\n",
    "  lunch_num = table[-1]\n",
    "  records = {\n",
    "        'Enrollment': enrollment_num.text,\n",
    "        'Student-Teacher Ratio': ratio_num.text,\n",
    "        'Free-Reduced Lunch': lunch_num.text\n",
    "        }\n",
    "  extracted_records_d13.append(records)"
   ]
  },
  {
   "cell_type": "code",
   "execution_count": 63,
   "metadata": {},
   "outputs": [
    {
     "name": "stdout",
     "output_type": "stream",
     "text": [
      "40\n",
      "40\n"
     ]
    }
   ],
   "source": [
    "# checking the lens of everything to make sure it's ok\n",
    "print(len(extracted_records_d13))\n",
    "print(len(d13_list_links))"
   ]
  },
  {
   "cell_type": "code",
   "execution_count": 65,
   "metadata": {},
   "outputs": [
    {
     "data": {
      "text/html": [
       "<div>\n",
       "<style scoped>\n",
       "    .dataframe tbody tr th:only-of-type {\n",
       "        vertical-align: middle;\n",
       "    }\n",
       "\n",
       "    .dataframe tbody tr th {\n",
       "        vertical-align: top;\n",
       "    }\n",
       "\n",
       "    .dataframe thead th {\n",
       "        text-align: right;\n",
       "    }\n",
       "</style>\n",
       "<table border=\"1\" class=\"dataframe\">\n",
       "  <thead>\n",
       "    <tr style=\"text-align: right;\">\n",
       "      <th></th>\n",
       "      <th>Enrollment</th>\n",
       "      <th>Student-Teacher Ratio</th>\n",
       "      <th>Free-Reduced Lunch</th>\n",
       "    </tr>\n",
       "  </thead>\n",
       "  <tbody>\n",
       "    <tr>\n",
       "      <td>0</td>\n",
       "      <td>557</td>\n",
       "      <td>15.5</td>\n",
       "      <td>82.6%</td>\n",
       "    </tr>\n",
       "    <tr>\n",
       "      <td>1</td>\n",
       "      <td>89.4%</td>\n",
       "      <td>354</td>\n",
       "      <td>80.8%</td>\n",
       "    </tr>\n",
       "  </tbody>\n",
       "</table>\n",
       "</div>"
      ],
      "text/plain": [
       "  Enrollment Student-Teacher Ratio Free-Reduced Lunch\n",
       "0        557                  15.5              82.6%\n",
       "1      89.4%                   354              80.8%"
      ]
     },
     "execution_count": 65,
     "metadata": {},
     "output_type": "execute_result"
    }
   ],
   "source": [
    "# make extracted_records_d1 to a dataframe\n",
    "d13_df = pd.DataFrame(extracted_records_d13)\n",
    "d13_df.head(2)\n",
    "# looking through the data - need to replace a few numbers with it's correct numbers"
   ]
  },
  {
   "cell_type": "code",
   "execution_count": 67,
   "metadata": {},
   "outputs": [
    {
     "data": {
      "text/html": [
       "<div>\n",
       "<style scoped>\n",
       "    .dataframe tbody tr th:only-of-type {\n",
       "        vertical-align: middle;\n",
       "    }\n",
       "\n",
       "    .dataframe tbody tr th {\n",
       "        vertical-align: top;\n",
       "    }\n",
       "\n",
       "    .dataframe thead th {\n",
       "        text-align: right;\n",
       "    }\n",
       "</style>\n",
       "<table border=\"1\" class=\"dataframe\">\n",
       "  <thead>\n",
       "    <tr style=\"text-align: right;\">\n",
       "      <th></th>\n",
       "      <th>School Name</th>\n",
       "    </tr>\n",
       "  </thead>\n",
       "  <tbody>\n",
       "    <tr>\n",
       "      <td>0</td>\n",
       "      <td>Science Skills Center High School</td>\n",
       "    </tr>\n",
       "    <tr>\n",
       "      <td>1</td>\n",
       "      <td>Brooklyn International High School</td>\n",
       "    </tr>\n",
       "  </tbody>\n",
       "</table>\n",
       "</div>"
      ],
      "text/plain": [
       "                          School Name\n",
       "0   Science Skills Center High School\n",
       "1  Brooklyn International High School"
      ]
     },
     "execution_count": 67,
     "metadata": {},
     "output_type": "execute_result"
    }
   ],
   "source": [
    "d13_schools.head(2)"
   ]
  },
  {
   "cell_type": "code",
   "execution_count": 68,
   "metadata": {},
   "outputs": [],
   "source": [
    "d13_df.at[1,'Enrollment'] = 354\n",
    "d13_df.at[1,'Student-Teacher Ratio'] = 15.0"
   ]
  },
  {
   "cell_type": "code",
   "execution_count": 69,
   "metadata": {},
   "outputs": [
    {
     "data": {
      "text/html": [
       "<div>\n",
       "<style scoped>\n",
       "    .dataframe tbody tr th:only-of-type {\n",
       "        vertical-align: middle;\n",
       "    }\n",
       "\n",
       "    .dataframe tbody tr th {\n",
       "        vertical-align: top;\n",
       "    }\n",
       "\n",
       "    .dataframe thead th {\n",
       "        text-align: right;\n",
       "    }\n",
       "</style>\n",
       "<table border=\"1\" class=\"dataframe\">\n",
       "  <thead>\n",
       "    <tr style=\"text-align: right;\">\n",
       "      <th></th>\n",
       "      <th>Enrollment</th>\n",
       "      <th>Student-Teacher Ratio</th>\n",
       "      <th>Free-Reduced Lunch</th>\n",
       "    </tr>\n",
       "  </thead>\n",
       "  <tbody>\n",
       "    <tr>\n",
       "      <td>0</td>\n",
       "      <td>557</td>\n",
       "      <td>15.5</td>\n",
       "      <td>82.6%</td>\n",
       "    </tr>\n",
       "    <tr>\n",
       "      <td>1</td>\n",
       "      <td>354</td>\n",
       "      <td>15</td>\n",
       "      <td>80.8%</td>\n",
       "    </tr>\n",
       "  </tbody>\n",
       "</table>\n",
       "</div>"
      ],
      "text/plain": [
       "  Enrollment Student-Teacher Ratio Free-Reduced Lunch\n",
       "0        557                  15.5              82.6%\n",
       "1        354                    15              80.8%"
      ]
     },
     "execution_count": 69,
     "metadata": {},
     "output_type": "execute_result"
    }
   ],
   "source": [
    "d13_df.head(2)"
   ]
  },
  {
   "cell_type": "code",
   "execution_count": 70,
   "metadata": {},
   "outputs": [
    {
     "data": {
      "text/html": [
       "<div>\n",
       "<style scoped>\n",
       "    .dataframe tbody tr th:only-of-type {\n",
       "        vertical-align: middle;\n",
       "    }\n",
       "\n",
       "    .dataframe tbody tr th {\n",
       "        vertical-align: top;\n",
       "    }\n",
       "\n",
       "    .dataframe thead th {\n",
       "        text-align: right;\n",
       "    }\n",
       "</style>\n",
       "<table border=\"1\" class=\"dataframe\">\n",
       "  <thead>\n",
       "    <tr style=\"text-align: right;\">\n",
       "      <th></th>\n",
       "      <th>School Name</th>\n",
       "      <th>Enrollment</th>\n",
       "      <th>Student-Teacher Ratio</th>\n",
       "      <th>Free-Reduced Lunch</th>\n",
       "    </tr>\n",
       "  </thead>\n",
       "  <tbody>\n",
       "    <tr>\n",
       "      <td>0</td>\n",
       "      <td>Science Skills Center High School</td>\n",
       "      <td>557</td>\n",
       "      <td>15.5</td>\n",
       "      <td>82.6%</td>\n",
       "    </tr>\n",
       "    <tr>\n",
       "      <td>1</td>\n",
       "      <td>Brooklyn International High School</td>\n",
       "      <td>354</td>\n",
       "      <td>15</td>\n",
       "      <td>80.8%</td>\n",
       "    </tr>\n",
       "  </tbody>\n",
       "</table>\n",
       "</div>"
      ],
      "text/plain": [
       "                          School Name Enrollment Student-Teacher Ratio  \\\n",
       "0   Science Skills Center High School        557                  15.5   \n",
       "1  Brooklyn International High School        354                    15   \n",
       "\n",
       "  Free-Reduced Lunch  \n",
       "0              82.6%  \n",
       "1              80.8%  "
      ]
     },
     "execution_count": 70,
     "metadata": {},
     "output_type": "execute_result"
    }
   ],
   "source": [
    "district_13 = pd.concat([d13_schools, d13_df], axis=1)\n",
    "district_13.head(2)"
   ]
  },
  {
   "cell_type": "code",
   "execution_count": 71,
   "metadata": {},
   "outputs": [],
   "source": [
    "# make df a csv file to be able to work with later\n",
    "# saving the dataframe \n",
    "district_13.to_csv('district_13.csv')"
   ]
  },
  {
   "cell_type": "markdown",
   "metadata": {},
   "source": [
    "### **New York District 14**"
   ]
  },
  {
   "cell_type": "code",
   "execution_count": 72,
   "metadata": {},
   "outputs": [],
   "source": [
    "# get the url of the site that you need (multiple urls now because I found the different districts)\n",
    "url_schools_d14 = \"https://www.schooldigger.com/go/NY/district/00119/search.aspx\"\n",
    "#download the URL and extract the content to the variable html \n",
    "request_schools_d14 = urllib.request.Request(url_schools_d14)\n",
    "html_schools_d14 = urllib.request.urlopen(request_schools_d14).read()"
   ]
  },
  {
   "cell_type": "code",
   "execution_count": 73,
   "metadata": {},
   "outputs": [],
   "source": [
    "# this will only give me the school names\n",
    "\n",
    "#pass the HTML to Beautifulsoup.\n",
    "soup_d14 = BeautifulSoup(html_schools_d14,'html.parser')\n",
    "main_table_d14 = soup_d14.find(\"div\",attrs={'class':'bsRTable'})\n",
    "school_names_d14 = main_table_d14.find_all(\"span\", class_=\"sName\")"
   ]
  },
  {
   "cell_type": "code",
   "execution_count": 74,
   "metadata": {},
   "outputs": [
    {
     "data": {
      "text/plain": [
       "38"
      ]
     },
     "execution_count": 74,
     "metadata": {},
     "output_type": "execute_result"
    }
   ],
   "source": [
    "schools_d14 = []\n",
    "for school in school_names_d14: \n",
    "    title = school.text\n",
    "    record = {\n",
    "        'School Name':title\n",
    "        }\n",
    "    schools_d14.append(record)\n",
    "# schools_d14\n",
    "len(schools_d14)"
   ]
  },
  {
   "cell_type": "code",
   "execution_count": 75,
   "metadata": {},
   "outputs": [],
   "source": [
    "# Make school list to a dataframe\n",
    "d14_schools = pd.DataFrame(schools_d14)"
   ]
  },
  {
   "cell_type": "code",
   "execution_count": 76,
   "metadata": {},
   "outputs": [
    {
     "name": "stdout",
     "output_type": "stream",
     "text": [
      "190\n"
     ]
    },
    {
     "data": {
      "text/plain": [
       "(46, 'https://www.schooldigger.com/go/NY/schools/0011900892/school.aspx')"
      ]
     },
     "execution_count": 76,
     "metadata": {},
     "output_type": "execute_result"
    }
   ],
   "source": [
    "# this gives me the links in the rows that go with the school names\n",
    "school_links_d14 = []\n",
    "link_list_d14 = main_table_d14.find_all('a',href=True)\n",
    "for data in link_list_d14:\n",
    "  link = data['href']\n",
    "  school_links_d14.append(link)\n",
    "print(len(school_links_d14))\n",
    "links_d14 = list(dict.fromkeys(school_links_d14)) # making a unique list from the dictionary of links\n",
    "len(links_d14), links_d14[0] # previewing size and first url"
   ]
  },
  {
   "cell_type": "code",
   "execution_count": 77,
   "metadata": {},
   "outputs": [],
   "source": [
    "# change the list to a dataframe to be able to filter out the links that I need and not the other links\n",
    "d14_links = pd.DataFrame(links_d14)"
   ]
  },
  {
   "cell_type": "code",
   "execution_count": 78,
   "metadata": {},
   "outputs": [],
   "source": [
    "links_needed_d14 = d14_links[d14_links[0].str.contains('https://www.schooldigger.com/go/NY/schools/')]"
   ]
  },
  {
   "cell_type": "code",
   "execution_count": 79,
   "metadata": {},
   "outputs": [
    {
     "data": {
      "text/plain": [
       "38"
      ]
     },
     "execution_count": 79,
     "metadata": {},
     "output_type": "execute_result"
    }
   ],
   "source": [
    "# this give me only the links as a list\n",
    "d14_list_links = links_needed_d14[0].values.tolist()\n",
    "len(d14_list_links)"
   ]
  },
  {
   "cell_type": "code",
   "execution_count": 80,
   "metadata": {},
   "outputs": [],
   "source": [
    "# split up the dataset to make it not time out\n",
    "extracted_records_d14 = []\n",
    "\n",
    "for each in d14_list_links:\n",
    "  # You can add a time sleep to pause between pulls\n",
    "\n",
    "\n",
    "  #download the URL and extract the content to the variable html \n",
    "  request_schools = urllib.request.Request(each)\n",
    "  html_schools = urllib.request.urlopen(request_schools).read()\n",
    "  soup = BeautifulSoup(html_schools,'html.parser')\n",
    "  table = soup.find_all('span', {'class':'bigOrange'})\n",
    "#   display(table)\n",
    "  enrollment_num = table[2]\n",
    "  ratio_num = table[1]\n",
    "  lunch_num = table[-1]\n",
    "  records = {\n",
    "        'Enrollment': enrollment_num.text,\n",
    "        'Student-Teacher Ratio': ratio_num.text,\n",
    "        'Free-Reduced Lunch': lunch_num.text\n",
    "        }\n",
    "  extracted_records_d14.append(records)"
   ]
  },
  {
   "cell_type": "code",
   "execution_count": 81,
   "metadata": {},
   "outputs": [
    {
     "name": "stdout",
     "output_type": "stream",
     "text": [
      "38\n",
      "38\n"
     ]
    }
   ],
   "source": [
    "# checking the lens of everything to make sure it's ok\n",
    "print(len(extracted_records_d14))\n",
    "print(len(d14_list_links))"
   ]
  },
  {
   "cell_type": "code",
   "execution_count": 84,
   "metadata": {},
   "outputs": [
    {
     "data": {
      "text/html": [
       "<div>\n",
       "<style scoped>\n",
       "    .dataframe tbody tr th:only-of-type {\n",
       "        vertical-align: middle;\n",
       "    }\n",
       "\n",
       "    .dataframe tbody tr th {\n",
       "        vertical-align: top;\n",
       "    }\n",
       "\n",
       "    .dataframe thead th {\n",
       "        text-align: right;\n",
       "    }\n",
       "</style>\n",
       "<table border=\"1\" class=\"dataframe\">\n",
       "  <thead>\n",
       "    <tr style=\"text-align: right;\">\n",
       "      <th></th>\n",
       "      <th>Enrollment</th>\n",
       "      <th>Student-Teacher Ratio</th>\n",
       "      <th>Free-Reduced Lunch</th>\n",
       "    </tr>\n",
       "  </thead>\n",
       "  <tbody>\n",
       "    <tr>\n",
       "      <td>0</td>\n",
       "      <td>100.0%</td>\n",
       "      <td>239</td>\n",
       "      <td>87%</td>\n",
       "    </tr>\n",
       "  </tbody>\n",
       "</table>\n",
       "</div>"
      ],
      "text/plain": [
       "  Enrollment Student-Teacher Ratio Free-Reduced Lunch\n",
       "0     100.0%                   239                87%"
      ]
     },
     "execution_count": 84,
     "metadata": {},
     "output_type": "execute_result"
    }
   ],
   "source": [
    "# make extracted_records_d1 to a dataframe\n",
    "d14_df = pd.DataFrame(extracted_records_d14)\n",
    "d14_df.head(1)\n",
    "# looking through the data - need to replace a few numbers with it's correct numbers"
   ]
  },
  {
   "cell_type": "code",
   "execution_count": 85,
   "metadata": {},
   "outputs": [
    {
     "data": {
      "text/html": [
       "<div>\n",
       "<style scoped>\n",
       "    .dataframe tbody tr th:only-of-type {\n",
       "        vertical-align: middle;\n",
       "    }\n",
       "\n",
       "    .dataframe tbody tr th {\n",
       "        vertical-align: top;\n",
       "    }\n",
       "\n",
       "    .dataframe thead th {\n",
       "        text-align: right;\n",
       "    }\n",
       "</style>\n",
       "<table border=\"1\" class=\"dataframe\">\n",
       "  <thead>\n",
       "    <tr style=\"text-align: right;\">\n",
       "      <th></th>\n",
       "      <th>School Name</th>\n",
       "    </tr>\n",
       "  </thead>\n",
       "  <tbody>\n",
       "    <tr>\n",
       "      <td>0</td>\n",
       "      <td>El Puente Academy For Peace And Justice</td>\n",
       "    </tr>\n",
       "  </tbody>\n",
       "</table>\n",
       "</div>"
      ],
      "text/plain": [
       "                               School Name\n",
       "0  El Puente Academy For Peace And Justice"
      ]
     },
     "execution_count": 85,
     "metadata": {},
     "output_type": "execute_result"
    }
   ],
   "source": [
    "d14_schools.head(1)"
   ]
  },
  {
   "cell_type": "code",
   "execution_count": 86,
   "metadata": {},
   "outputs": [],
   "source": [
    "d14_df.at[0,'Enrollment'] = 239\n",
    "d14_df.at[0,'Student-Teacher Ratio'] = 14.0\n",
    "d14_df.at[27,'Enrollment'] = 128\n",
    "d14_df.at[27,'Student-Teacher Ratio'] = 10.6\n",
    "d14_df.at[35,'Enrollment'] = 494\n",
    "d14_df.at[35,'Student-Teacher Ratio'] = 11.2"
   ]
  },
  {
   "cell_type": "code",
   "execution_count": 87,
   "metadata": {},
   "outputs": [
    {
     "data": {
      "text/html": [
       "<div>\n",
       "<style scoped>\n",
       "    .dataframe tbody tr th:only-of-type {\n",
       "        vertical-align: middle;\n",
       "    }\n",
       "\n",
       "    .dataframe tbody tr th {\n",
       "        vertical-align: top;\n",
       "    }\n",
       "\n",
       "    .dataframe thead th {\n",
       "        text-align: right;\n",
       "    }\n",
       "</style>\n",
       "<table border=\"1\" class=\"dataframe\">\n",
       "  <thead>\n",
       "    <tr style=\"text-align: right;\">\n",
       "      <th></th>\n",
       "      <th>Enrollment</th>\n",
       "      <th>Student-Teacher Ratio</th>\n",
       "      <th>Free-Reduced Lunch</th>\n",
       "    </tr>\n",
       "  </thead>\n",
       "  <tbody>\n",
       "    <tr>\n",
       "      <td>0</td>\n",
       "      <td>239</td>\n",
       "      <td>14</td>\n",
       "      <td>87%</td>\n",
       "    </tr>\n",
       "    <tr>\n",
       "      <td>1</td>\n",
       "      <td>404</td>\n",
       "      <td>10.9</td>\n",
       "      <td>80.4%</td>\n",
       "    </tr>\n",
       "  </tbody>\n",
       "</table>\n",
       "</div>"
      ],
      "text/plain": [
       "  Enrollment Student-Teacher Ratio Free-Reduced Lunch\n",
       "0        239                    14                87%\n",
       "1        404                  10.9              80.4%"
      ]
     },
     "execution_count": 87,
     "metadata": {},
     "output_type": "execute_result"
    }
   ],
   "source": [
    "d14_df.head(2)"
   ]
  },
  {
   "cell_type": "code",
   "execution_count": 88,
   "metadata": {},
   "outputs": [
    {
     "data": {
      "text/html": [
       "<div>\n",
       "<style scoped>\n",
       "    .dataframe tbody tr th:only-of-type {\n",
       "        vertical-align: middle;\n",
       "    }\n",
       "\n",
       "    .dataframe tbody tr th {\n",
       "        vertical-align: top;\n",
       "    }\n",
       "\n",
       "    .dataframe thead th {\n",
       "        text-align: right;\n",
       "    }\n",
       "</style>\n",
       "<table border=\"1\" class=\"dataframe\">\n",
       "  <thead>\n",
       "    <tr style=\"text-align: right;\">\n",
       "      <th></th>\n",
       "      <th>School Name</th>\n",
       "      <th>Enrollment</th>\n",
       "      <th>Student-Teacher Ratio</th>\n",
       "      <th>Free-Reduced Lunch</th>\n",
       "    </tr>\n",
       "  </thead>\n",
       "  <tbody>\n",
       "    <tr>\n",
       "      <td>0</td>\n",
       "      <td>El Puente Academy For Peace And Justice</td>\n",
       "      <td>239</td>\n",
       "      <td>14</td>\n",
       "      <td>87%</td>\n",
       "    </tr>\n",
       "    <tr>\n",
       "      <td>1</td>\n",
       "      <td>Automotive High School</td>\n",
       "      <td>404</td>\n",
       "      <td>10.9</td>\n",
       "      <td>80.4%</td>\n",
       "    </tr>\n",
       "  </tbody>\n",
       "</table>\n",
       "</div>"
      ],
      "text/plain": [
       "                               School Name Enrollment Student-Teacher Ratio  \\\n",
       "0  El Puente Academy For Peace And Justice        239                    14   \n",
       "1                   Automotive High School        404                  10.9   \n",
       "\n",
       "  Free-Reduced Lunch  \n",
       "0                87%  \n",
       "1              80.4%  "
      ]
     },
     "execution_count": 88,
     "metadata": {},
     "output_type": "execute_result"
    }
   ],
   "source": [
    "district_14 = pd.concat([d14_schools, d14_df], axis=1)\n",
    "district_14.head(2)"
   ]
  },
  {
   "cell_type": "code",
   "execution_count": 89,
   "metadata": {},
   "outputs": [],
   "source": [
    "# make df a csv file to be able to work with later\n",
    "# saving the dataframe \n",
    "district_14.to_csv('district_14.csv')"
   ]
  },
  {
   "cell_type": "markdown",
   "metadata": {},
   "source": [
    "### **New York District 15**"
   ]
  },
  {
   "cell_type": "code",
   "execution_count": 90,
   "metadata": {},
   "outputs": [],
   "source": [
    "# get the url of the site that you need (multiple urls now because I found the different districts)\n",
    "url_schools_d15 = \"https://www.schooldigger.com/go/NY/district/00092/search.aspx\"\n",
    "#download the URL and extract the content to the variable html \n",
    "request_schools_d15 = urllib.request.Request(url_schools_d15)\n",
    "html_schools_d15 = urllib.request.urlopen(request_schools_d15).read()"
   ]
  },
  {
   "cell_type": "code",
   "execution_count": 91,
   "metadata": {},
   "outputs": [],
   "source": [
    "# this will only give me the school names\n",
    "\n",
    "#pass the HTML to Beautifulsoup.\n",
    "soup_d15 = BeautifulSoup(html_schools_d15,'html.parser')\n",
    "main_table_d15 = soup_d15.find(\"div\",attrs={'class':'bsRTable'})\n",
    "school_names_d15 = main_table_d15.find_all(\"span\", class_=\"sName\")"
   ]
  },
  {
   "cell_type": "code",
   "execution_count": 92,
   "metadata": {},
   "outputs": [
    {
     "data": {
      "text/plain": [
       "47"
      ]
     },
     "execution_count": 92,
     "metadata": {},
     "output_type": "execute_result"
    }
   ],
   "source": [
    "schools_d15 = []\n",
    "for school in school_names_d15: \n",
    "    title = school.text\n",
    "    record = {\n",
    "        'School Name':title\n",
    "        }\n",
    "    schools_d15.append(record)\n",
    "# schools_d15\n",
    "len(schools_d15)"
   ]
  },
  {
   "cell_type": "code",
   "execution_count": 93,
   "metadata": {},
   "outputs": [],
   "source": [
    "# Make school list to a dataframe\n",
    "d15_schools = pd.DataFrame(schools_d15)"
   ]
  },
  {
   "cell_type": "code",
   "execution_count": 94,
   "metadata": {},
   "outputs": [
    {
     "name": "stdout",
     "output_type": "stream",
     "text": [
      "235\n"
     ]
    },
    {
     "data": {
      "text/plain": [
       "(58, 'https://www.schooldigger.com/go/NY/schools/0009201377/school.aspx')"
      ]
     },
     "execution_count": 94,
     "metadata": {},
     "output_type": "execute_result"
    }
   ],
   "source": [
    "# this gives me the links in the rows that go with the school names\n",
    "school_links_d15 = []\n",
    "link_list_d15 = main_table_d15.find_all('a',href=True)\n",
    "for data in link_list_d15:\n",
    "  link = data['href']\n",
    "  school_links_d15.append(link)\n",
    "print(len(school_links_d15))\n",
    "links_d15 = list(dict.fromkeys(school_links_d15)) # making a unique list from the dictionary of links\n",
    "len(links_d15), links_d15[0] # previewing size and first url"
   ]
  },
  {
   "cell_type": "code",
   "execution_count": 95,
   "metadata": {},
   "outputs": [],
   "source": [
    "# change the list to a dataframe to be able to filter out the links that I need and not the other links\n",
    "d15_links = pd.DataFrame(links_d15)"
   ]
  },
  {
   "cell_type": "code",
   "execution_count": 96,
   "metadata": {},
   "outputs": [],
   "source": [
    "links_needed_d15 = d15_links[d15_links[0].str.contains('https://www.schooldigger.com/go/NY/schools/')]"
   ]
  },
  {
   "cell_type": "code",
   "execution_count": 97,
   "metadata": {},
   "outputs": [
    {
     "data": {
      "text/plain": [
       "47"
      ]
     },
     "execution_count": 97,
     "metadata": {},
     "output_type": "execute_result"
    }
   ],
   "source": [
    "# this give me only the links as a list\n",
    "d15_list_links = links_needed_d15[0].values.tolist()\n",
    "len(d15_list_links)"
   ]
  },
  {
   "cell_type": "code",
   "execution_count": 98,
   "metadata": {},
   "outputs": [],
   "source": [
    "# split up the dataset to make it not time out\n",
    "extracted_records_d15 = []\n",
    "\n",
    "for each in d15_list_links:\n",
    "  # You can add a time sleep to pause between pulls\n",
    "\n",
    "\n",
    "  #download the URL and extract the content to the variable html \n",
    "  request_schools = urllib.request.Request(each)\n",
    "  html_schools = urllib.request.urlopen(request_schools).read()\n",
    "  soup = BeautifulSoup(html_schools,'html.parser')\n",
    "  table = soup.find_all('span', {'class':'bigOrange'})\n",
    "#   display(table)\n",
    "  enrollment_num = table[2]\n",
    "  ratio_num = table[1]\n",
    "  lunch_num = table[-1]\n",
    "  records = {\n",
    "        'Enrollment': enrollment_num.text,\n",
    "        'Student-Teacher Ratio': ratio_num.text,\n",
    "        'Free-Reduced Lunch': lunch_num.text\n",
    "        }\n",
    "  extracted_records_d15.append(records)"
   ]
  },
  {
   "cell_type": "code",
   "execution_count": 99,
   "metadata": {},
   "outputs": [
    {
     "name": "stdout",
     "output_type": "stream",
     "text": [
      "47\n",
      "47\n"
     ]
    }
   ],
   "source": [
    "# checking the lens of everything to make sure it's ok\n",
    "print(len(extracted_records_d15))\n",
    "print(len(d15_list_links))"
   ]
  },
  {
   "cell_type": "code",
   "execution_count": 103,
   "metadata": {},
   "outputs": [
    {
     "data": {
      "text/html": [
       "<div>\n",
       "<style scoped>\n",
       "    .dataframe tbody tr th:only-of-type {\n",
       "        vertical-align: middle;\n",
       "    }\n",
       "\n",
       "    .dataframe tbody tr th {\n",
       "        vertical-align: top;\n",
       "    }\n",
       "\n",
       "    .dataframe thead th {\n",
       "        text-align: right;\n",
       "    }\n",
       "</style>\n",
       "<table border=\"1\" class=\"dataframe\">\n",
       "  <thead>\n",
       "    <tr style=\"text-align: right;\">\n",
       "      <th></th>\n",
       "      <th>Enrollment</th>\n",
       "      <th>Student-Teacher Ratio</th>\n",
       "      <th>Free-Reduced Lunch</th>\n",
       "    </tr>\n",
       "  </thead>\n",
       "  <tbody>\n",
       "    <tr>\n",
       "      <td>30</td>\n",
       "      <td>97.9%</td>\n",
       "      <td>675</td>\n",
       "      <td>68.6%</td>\n",
       "    </tr>\n",
       "  </tbody>\n",
       "</table>\n",
       "</div>"
      ],
      "text/plain": [
       "   Enrollment Student-Teacher Ratio Free-Reduced Lunch\n",
       "30      97.9%                   675              68.6%"
      ]
     },
     "execution_count": 103,
     "metadata": {},
     "output_type": "execute_result"
    }
   ],
   "source": [
    "# make extracted_records_d1 to a dataframe\n",
    "d15_df = pd.DataFrame(extracted_records_d15)\n",
    "d15_df[30:31]\n",
    "# looking through the data - need to replace a few numbers with it's correct numbers"
   ]
  },
  {
   "cell_type": "code",
   "execution_count": 104,
   "metadata": {},
   "outputs": [
    {
     "data": {
      "text/html": [
       "<div>\n",
       "<style scoped>\n",
       "    .dataframe tbody tr th:only-of-type {\n",
       "        vertical-align: middle;\n",
       "    }\n",
       "\n",
       "    .dataframe tbody tr th {\n",
       "        vertical-align: top;\n",
       "    }\n",
       "\n",
       "    .dataframe thead th {\n",
       "        text-align: right;\n",
       "    }\n",
       "</style>\n",
       "<table border=\"1\" class=\"dataframe\">\n",
       "  <thead>\n",
       "    <tr style=\"text-align: right;\">\n",
       "      <th></th>\n",
       "      <th>School Name</th>\n",
       "    </tr>\n",
       "  </thead>\n",
       "  <tbody>\n",
       "    <tr>\n",
       "      <td>30</td>\n",
       "      <td>Brooklyn Collaborative Studies</td>\n",
       "    </tr>\n",
       "  </tbody>\n",
       "</table>\n",
       "</div>"
      ],
      "text/plain": [
       "                       School Name\n",
       "30  Brooklyn Collaborative Studies"
      ]
     },
     "execution_count": 104,
     "metadata": {},
     "output_type": "execute_result"
    }
   ],
   "source": [
    "d15_schools[30:31]"
   ]
  },
  {
   "cell_type": "code",
   "execution_count": 105,
   "metadata": {},
   "outputs": [],
   "source": [
    "d15_df.at[30,'Enrollment'] = 675\n",
    "d15_df.at[30,'Student-Teacher Ratio'] = 11.2"
   ]
  },
  {
   "cell_type": "code",
   "execution_count": 107,
   "metadata": {},
   "outputs": [
    {
     "data": {
      "text/html": [
       "<div>\n",
       "<style scoped>\n",
       "    .dataframe tbody tr th:only-of-type {\n",
       "        vertical-align: middle;\n",
       "    }\n",
       "\n",
       "    .dataframe tbody tr th {\n",
       "        vertical-align: top;\n",
       "    }\n",
       "\n",
       "    .dataframe thead th {\n",
       "        text-align: right;\n",
       "    }\n",
       "</style>\n",
       "<table border=\"1\" class=\"dataframe\">\n",
       "  <thead>\n",
       "    <tr style=\"text-align: right;\">\n",
       "      <th></th>\n",
       "      <th>Enrollment</th>\n",
       "      <th>Student-Teacher Ratio</th>\n",
       "      <th>Free-Reduced Lunch</th>\n",
       "    </tr>\n",
       "  </thead>\n",
       "  <tbody>\n",
       "    <tr>\n",
       "      <td>30</td>\n",
       "      <td>675</td>\n",
       "      <td>11.2</td>\n",
       "      <td>68.6%</td>\n",
       "    </tr>\n",
       "  </tbody>\n",
       "</table>\n",
       "</div>"
      ],
      "text/plain": [
       "   Enrollment Student-Teacher Ratio Free-Reduced Lunch\n",
       "30        675                  11.2              68.6%"
      ]
     },
     "execution_count": 107,
     "metadata": {},
     "output_type": "execute_result"
    }
   ],
   "source": [
    "d15_df[30:31]"
   ]
  },
  {
   "cell_type": "code",
   "execution_count": 109,
   "metadata": {},
   "outputs": [
    {
     "data": {
      "text/html": [
       "<div>\n",
       "<style scoped>\n",
       "    .dataframe tbody tr th:only-of-type {\n",
       "        vertical-align: middle;\n",
       "    }\n",
       "\n",
       "    .dataframe tbody tr th {\n",
       "        vertical-align: top;\n",
       "    }\n",
       "\n",
       "    .dataframe thead th {\n",
       "        text-align: right;\n",
       "    }\n",
       "</style>\n",
       "<table border=\"1\" class=\"dataframe\">\n",
       "  <thead>\n",
       "    <tr style=\"text-align: right;\">\n",
       "      <th></th>\n",
       "      <th>School Name</th>\n",
       "      <th>Enrollment</th>\n",
       "      <th>Student-Teacher Ratio</th>\n",
       "      <th>Free-Reduced Lunch</th>\n",
       "    </tr>\n",
       "  </thead>\n",
       "  <tbody>\n",
       "    <tr>\n",
       "      <td>30</td>\n",
       "      <td>Brooklyn Collaborative Studies</td>\n",
       "      <td>675</td>\n",
       "      <td>11.2</td>\n",
       "      <td>68.6%</td>\n",
       "    </tr>\n",
       "  </tbody>\n",
       "</table>\n",
       "</div>"
      ],
      "text/plain": [
       "                       School Name Enrollment Student-Teacher Ratio  \\\n",
       "30  Brooklyn Collaborative Studies        675                  11.2   \n",
       "\n",
       "   Free-Reduced Lunch  \n",
       "30              68.6%  "
      ]
     },
     "execution_count": 109,
     "metadata": {},
     "output_type": "execute_result"
    }
   ],
   "source": [
    "district_15 = pd.concat([d15_schools, d15_df], axis=1)\n",
    "district_15[30:31]"
   ]
  },
  {
   "cell_type": "code",
   "execution_count": 110,
   "metadata": {},
   "outputs": [],
   "source": [
    "# make df a csv file to be able to work with later\n",
    "# saving the dataframe \n",
    "district_15.to_csv('district_15.csv')"
   ]
  },
  {
   "cell_type": "markdown",
   "metadata": {},
   "source": [
    "### **New York District 16**"
   ]
  },
  {
   "cell_type": "code",
   "execution_count": 111,
   "metadata": {},
   "outputs": [],
   "source": [
    "# get the url of the site that you need (multiple urls now because I found the different districts)\n",
    "url_schools_d16 = \"https://www.schooldigger.com/go/NY/district/00094/search.aspx\"\n",
    "#download the URL and extract the content to the variable html \n",
    "request_schools_d16 = urllib.request.Request(url_schools_d16)\n",
    "html_schools_d16 = urllib.request.urlopen(request_schools_d16).read()"
   ]
  },
  {
   "cell_type": "code",
   "execution_count": 112,
   "metadata": {},
   "outputs": [],
   "source": [
    "# this will only give me the school names\n",
    "\n",
    "#pass the HTML to Beautifulsoup.\n",
    "soup_d16 = BeautifulSoup(html_schools_d16,'html.parser')\n",
    "main_table_d16 = soup_d16.find(\"div\",attrs={'class':'bsRTable'})\n",
    "school_names_d16 = main_table_d16.find_all(\"span\", class_=\"sName\")"
   ]
  },
  {
   "cell_type": "code",
   "execution_count": 113,
   "metadata": {},
   "outputs": [
    {
     "data": {
      "text/plain": [
       "24"
      ]
     },
     "execution_count": 113,
     "metadata": {},
     "output_type": "execute_result"
    }
   ],
   "source": [
    "schools_d16 = []\n",
    "for school in school_names_d16: \n",
    "    title = school.text\n",
    "    record = {\n",
    "        'School Name':title\n",
    "        }\n",
    "    schools_d16.append(record)\n",
    "# schools_d16\n",
    "len(schools_d16)"
   ]
  },
  {
   "cell_type": "code",
   "execution_count": 114,
   "metadata": {},
   "outputs": [],
   "source": [
    "# Make school list to a dataframe\n",
    "d16_schools = pd.DataFrame(schools_d16)"
   ]
  },
  {
   "cell_type": "code",
   "execution_count": 115,
   "metadata": {},
   "outputs": [
    {
     "name": "stdout",
     "output_type": "stream",
     "text": [
      "120\n"
     ]
    },
    {
     "data": {
      "text/plain": [
       "(32, 'https://www.schooldigger.com/go/NY/schools/0009401921/school.aspx')"
      ]
     },
     "execution_count": 115,
     "metadata": {},
     "output_type": "execute_result"
    }
   ],
   "source": [
    "# this gives me the links in the rows that go with the school names\n",
    "school_links_d16 = []\n",
    "link_list_d16 = main_table_d16.find_all('a',href=True)\n",
    "for data in link_list_d16:\n",
    "  link = data['href']\n",
    "  school_links_d16.append(link)\n",
    "print(len(school_links_d16))\n",
    "links_d16 = list(dict.fromkeys(school_links_d16)) # making a unique list from the dictionary of links\n",
    "len(links_d16), links_d16[0] # previewing size and first url"
   ]
  },
  {
   "cell_type": "code",
   "execution_count": 116,
   "metadata": {},
   "outputs": [],
   "source": [
    "# change the list to a dataframe to be able to filter out the links that I need and not the other links\n",
    "d16_links = pd.DataFrame(links_d16)"
   ]
  },
  {
   "cell_type": "code",
   "execution_count": 117,
   "metadata": {},
   "outputs": [],
   "source": [
    "links_needed_d16 = d16_links[d16_links[0].str.contains('https://www.schooldigger.com/go/NY/schools/')]"
   ]
  },
  {
   "cell_type": "code",
   "execution_count": 118,
   "metadata": {},
   "outputs": [
    {
     "data": {
      "text/plain": [
       "24"
      ]
     },
     "execution_count": 118,
     "metadata": {},
     "output_type": "execute_result"
    }
   ],
   "source": [
    "# this give me only the links as a list\n",
    "d16_list_links = links_needed_d16[0].values.tolist()\n",
    "len(d16_list_links)"
   ]
  },
  {
   "cell_type": "code",
   "execution_count": 119,
   "metadata": {},
   "outputs": [],
   "source": [
    "# split up the dataset to make it not time out\n",
    "extracted_records_d16 = []\n",
    "\n",
    "for each in d16_list_links:\n",
    "  # You can add a time sleep to pause between pulls\n",
    "\n",
    "\n",
    "  #download the URL and extract the content to the variable html \n",
    "  request_schools = urllib.request.Request(each)\n",
    "  html_schools = urllib.request.urlopen(request_schools).read()\n",
    "  soup = BeautifulSoup(html_schools,'html.parser')\n",
    "  table = soup.find_all('span', {'class':'bigOrange'})\n",
    "#   display(table)\n",
    "  enrollment_num = table[2]\n",
    "  ratio_num = table[1]\n",
    "  lunch_num = table[-1]\n",
    "  records = {\n",
    "        'Enrollment': enrollment_num.text,\n",
    "        'Student-Teacher Ratio': ratio_num.text,\n",
    "        'Free-Reduced Lunch': lunch_num.text\n",
    "        }\n",
    "  extracted_records_d16.append(records)"
   ]
  },
  {
   "cell_type": "code",
   "execution_count": 120,
   "metadata": {},
   "outputs": [
    {
     "name": "stdout",
     "output_type": "stream",
     "text": [
      "24\n",
      "24\n"
     ]
    }
   ],
   "source": [
    "# checking the lens of everything to make sure it's ok\n",
    "print(len(extracted_records_d16))\n",
    "print(len(d16_list_links))"
   ]
  },
  {
   "cell_type": "code",
   "execution_count": 122,
   "metadata": {},
   "outputs": [
    {
     "data": {
      "text/html": [
       "<div>\n",
       "<style scoped>\n",
       "    .dataframe tbody tr th:only-of-type {\n",
       "        vertical-align: middle;\n",
       "    }\n",
       "\n",
       "    .dataframe tbody tr th {\n",
       "        vertical-align: top;\n",
       "    }\n",
       "\n",
       "    .dataframe thead th {\n",
       "        text-align: right;\n",
       "    }\n",
       "</style>\n",
       "<table border=\"1\" class=\"dataframe\">\n",
       "  <thead>\n",
       "    <tr style=\"text-align: right;\">\n",
       "      <th></th>\n",
       "      <th>Enrollment</th>\n",
       "      <th>Student-Teacher Ratio</th>\n",
       "      <th>Free-Reduced Lunch</th>\n",
       "    </tr>\n",
       "  </thead>\n",
       "  <tbody>\n",
       "    <tr>\n",
       "      <td>17</td>\n",
       "      <td>100.0%</td>\n",
       "      <td>169</td>\n",
       "      <td>85.8%</td>\n",
       "    </tr>\n",
       "  </tbody>\n",
       "</table>\n",
       "</div>"
      ],
      "text/plain": [
       "   Enrollment Student-Teacher Ratio Free-Reduced Lunch\n",
       "17     100.0%                   169              85.8%"
      ]
     },
     "execution_count": 122,
     "metadata": {},
     "output_type": "execute_result"
    }
   ],
   "source": [
    "# make extracted_records_d1 to a dataframe\n",
    "d16_df = pd.DataFrame(extracted_records_d16)\n",
    "d16_df[17:18]\n",
    "# looking through the data - need to replace a few numbers with it's correct numbers"
   ]
  },
  {
   "cell_type": "code",
   "execution_count": 123,
   "metadata": {},
   "outputs": [
    {
     "data": {
      "text/html": [
       "<div>\n",
       "<style scoped>\n",
       "    .dataframe tbody tr th:only-of-type {\n",
       "        vertical-align: middle;\n",
       "    }\n",
       "\n",
       "    .dataframe tbody tr th {\n",
       "        vertical-align: top;\n",
       "    }\n",
       "\n",
       "    .dataframe thead th {\n",
       "        text-align: right;\n",
       "    }\n",
       "</style>\n",
       "<table border=\"1\" class=\"dataframe\">\n",
       "  <thead>\n",
       "    <tr style=\"text-align: right;\">\n",
       "      <th></th>\n",
       "      <th>School Name</th>\n",
       "    </tr>\n",
       "  </thead>\n",
       "  <tbody>\n",
       "    <tr>\n",
       "      <td>17</td>\n",
       "      <td>Gotham Professional Arts Academy</td>\n",
       "    </tr>\n",
       "  </tbody>\n",
       "</table>\n",
       "</div>"
      ],
      "text/plain": [
       "                         School Name\n",
       "17  Gotham Professional Arts Academy"
      ]
     },
     "execution_count": 123,
     "metadata": {},
     "output_type": "execute_result"
    }
   ],
   "source": [
    "d16_schools[17:18]"
   ]
  },
  {
   "cell_type": "code",
   "execution_count": 124,
   "metadata": {},
   "outputs": [],
   "source": [
    "d16_df.at[17,'Enrollment'] = 169\n",
    "d16_df.at[17,'Student-Teacher Ratio'] = 11.4"
   ]
  },
  {
   "cell_type": "code",
   "execution_count": 125,
   "metadata": {},
   "outputs": [
    {
     "data": {
      "text/html": [
       "<div>\n",
       "<style scoped>\n",
       "    .dataframe tbody tr th:only-of-type {\n",
       "        vertical-align: middle;\n",
       "    }\n",
       "\n",
       "    .dataframe tbody tr th {\n",
       "        vertical-align: top;\n",
       "    }\n",
       "\n",
       "    .dataframe thead th {\n",
       "        text-align: right;\n",
       "    }\n",
       "</style>\n",
       "<table border=\"1\" class=\"dataframe\">\n",
       "  <thead>\n",
       "    <tr style=\"text-align: right;\">\n",
       "      <th></th>\n",
       "      <th>Enrollment</th>\n",
       "      <th>Student-Teacher Ratio</th>\n",
       "      <th>Free-Reduced Lunch</th>\n",
       "    </tr>\n",
       "  </thead>\n",
       "  <tbody>\n",
       "    <tr>\n",
       "      <td>17</td>\n",
       "      <td>169</td>\n",
       "      <td>11.4</td>\n",
       "      <td>85.8%</td>\n",
       "    </tr>\n",
       "  </tbody>\n",
       "</table>\n",
       "</div>"
      ],
      "text/plain": [
       "   Enrollment Student-Teacher Ratio Free-Reduced Lunch\n",
       "17        169                  11.4              85.8%"
      ]
     },
     "execution_count": 125,
     "metadata": {},
     "output_type": "execute_result"
    }
   ],
   "source": [
    "d16_df[17:18]"
   ]
  },
  {
   "cell_type": "code",
   "execution_count": 126,
   "metadata": {},
   "outputs": [
    {
     "data": {
      "text/html": [
       "<div>\n",
       "<style scoped>\n",
       "    .dataframe tbody tr th:only-of-type {\n",
       "        vertical-align: middle;\n",
       "    }\n",
       "\n",
       "    .dataframe tbody tr th {\n",
       "        vertical-align: top;\n",
       "    }\n",
       "\n",
       "    .dataframe thead th {\n",
       "        text-align: right;\n",
       "    }\n",
       "</style>\n",
       "<table border=\"1\" class=\"dataframe\">\n",
       "  <thead>\n",
       "    <tr style=\"text-align: right;\">\n",
       "      <th></th>\n",
       "      <th>School Name</th>\n",
       "      <th>Enrollment</th>\n",
       "      <th>Student-Teacher Ratio</th>\n",
       "      <th>Free-Reduced Lunch</th>\n",
       "    </tr>\n",
       "  </thead>\n",
       "  <tbody>\n",
       "    <tr>\n",
       "      <td>17</td>\n",
       "      <td>Gotham Professional Arts Academy</td>\n",
       "      <td>169</td>\n",
       "      <td>11.4</td>\n",
       "      <td>85.8%</td>\n",
       "    </tr>\n",
       "  </tbody>\n",
       "</table>\n",
       "</div>"
      ],
      "text/plain": [
       "                         School Name Enrollment Student-Teacher Ratio  \\\n",
       "17  Gotham Professional Arts Academy        169                  11.4   \n",
       "\n",
       "   Free-Reduced Lunch  \n",
       "17              85.8%  "
      ]
     },
     "execution_count": 126,
     "metadata": {},
     "output_type": "execute_result"
    }
   ],
   "source": [
    "district_16 = pd.concat([d16_schools, d16_df], axis=1)\n",
    "district_16[17:18]"
   ]
  },
  {
   "cell_type": "code",
   "execution_count": 127,
   "metadata": {},
   "outputs": [],
   "source": [
    "# make df a csv file to be able to work with later\n",
    "# saving the dataframe \n",
    "district_16.to_csv('district_16.csv')"
   ]
  },
  {
   "cell_type": "markdown",
   "metadata": {},
   "source": [
    "### **New York District 17**"
   ]
  },
  {
   "cell_type": "code",
   "execution_count": 128,
   "metadata": {},
   "outputs": [],
   "source": [
    "# get the url of the site that you need (multiple urls now because I found the different districts)\n",
    "url_schools_d17 = \"https://www.schooldigger.com/go/NY/district/00095/search.aspx\"\n",
    "#download the URL and extract the content to the variable html \n",
    "request_schools_d17 = urllib.request.Request(url_schools_d17)\n",
    "html_schools_d17 = urllib.request.urlopen(request_schools_d17).read()"
   ]
  },
  {
   "cell_type": "code",
   "execution_count": 129,
   "metadata": {},
   "outputs": [],
   "source": [
    "# this will only give me the school names\n",
    "\n",
    "#pass the HTML to Beautifulsoup.\n",
    "soup_d17 = BeautifulSoup(html_schools_d17,'html.parser')\n",
    "main_table_d17 = soup_d17.find(\"div\",attrs={'class':'bsRTable'})\n",
    "school_names_d17 = main_table_d17.find_all(\"span\", class_=\"sName\")"
   ]
  },
  {
   "cell_type": "code",
   "execution_count": 130,
   "metadata": {},
   "outputs": [
    {
     "data": {
      "text/plain": [
       "48"
      ]
     },
     "execution_count": 130,
     "metadata": {},
     "output_type": "execute_result"
    }
   ],
   "source": [
    "schools_d17 = []\n",
    "for school in school_names_d17: \n",
    "    title = school.text\n",
    "    record = {\n",
    "        'School Name':title\n",
    "        }\n",
    "    schools_d17.append(record)\n",
    "# schools_d17\n",
    "len(schools_d17)"
   ]
  },
  {
   "cell_type": "code",
   "execution_count": 131,
   "metadata": {},
   "outputs": [],
   "source": [
    "# Make school list to a dataframe\n",
    "d17_schools = pd.DataFrame(schools_d17)"
   ]
  },
  {
   "cell_type": "code",
   "execution_count": 132,
   "metadata": {},
   "outputs": [
    {
     "name": "stdout",
     "output_type": "stream",
     "text": [
      "240\n"
     ]
    },
    {
     "data": {
      "text/plain": [
       "(59, 'https://www.schooldigger.com/go/NY/schools/0009500799/school.aspx')"
      ]
     },
     "execution_count": 132,
     "metadata": {},
     "output_type": "execute_result"
    }
   ],
   "source": [
    "# this gives me the links in the rows that go with the school names\n",
    "school_links_d17 = []\n",
    "link_list_d17 = main_table_d17.find_all('a',href=True)\n",
    "for data in link_list_d17:\n",
    "  link = data['href']\n",
    "  school_links_d17.append(link)\n",
    "print(len(school_links_d17))\n",
    "links_d17 = list(dict.fromkeys(school_links_d17)) # making a unique list from the dictionary of links\n",
    "len(links_d17), links_d17[0] # previewing size and first url"
   ]
  },
  {
   "cell_type": "code",
   "execution_count": 133,
   "metadata": {},
   "outputs": [],
   "source": [
    "# change the list to a dataframe to be able to filter out the links that I need and not the other links\n",
    "d17_links = pd.DataFrame(links_d17)"
   ]
  },
  {
   "cell_type": "code",
   "execution_count": 134,
   "metadata": {},
   "outputs": [],
   "source": [
    "links_needed_d17 = d17_links[d17_links[0].str.contains('https://www.schooldigger.com/go/NY/schools/')]"
   ]
  },
  {
   "cell_type": "code",
   "execution_count": 135,
   "metadata": {},
   "outputs": [
    {
     "data": {
      "text/plain": [
       "48"
      ]
     },
     "execution_count": 135,
     "metadata": {},
     "output_type": "execute_result"
    }
   ],
   "source": [
    "# this give me only the links as a list\n",
    "d17_list_links = links_needed_d17[0].values.tolist()\n",
    "len(d17_list_links)"
   ]
  },
  {
   "cell_type": "code",
   "execution_count": 136,
   "metadata": {},
   "outputs": [],
   "source": [
    "# split up the dataset to make it not time out\n",
    "extracted_records_d17 = []\n",
    "\n",
    "for each in d17_list_links:\n",
    "  # You can add a time sleep to pause between pulls\n",
    "\n",
    "\n",
    "  #download the URL and extract the content to the variable html \n",
    "  request_schools = urllib.request.Request(each)\n",
    "  html_schools = urllib.request.urlopen(request_schools).read()\n",
    "  soup = BeautifulSoup(html_schools,'html.parser')\n",
    "  table = soup.find_all('span', {'class':'bigOrange'})\n",
    "#   display(table)\n",
    "  enrollment_num = table[2]\n",
    "  ratio_num = table[1]\n",
    "  lunch_num = table[-1]\n",
    "  records = {\n",
    "        'Enrollment': enrollment_num.text,\n",
    "        'Student-Teacher Ratio': ratio_num.text,\n",
    "        'Free-Reduced Lunch': lunch_num.text\n",
    "        }\n",
    "  extracted_records_d17.append(records)"
   ]
  },
  {
   "cell_type": "code",
   "execution_count": 137,
   "metadata": {},
   "outputs": [
    {
     "name": "stdout",
     "output_type": "stream",
     "text": [
      "48\n",
      "48\n"
     ]
    }
   ],
   "source": [
    "# checking the lens of everything to make sure it's ok\n",
    "print(len(extracted_records_d17))\n",
    "print(len(d17_list_links))"
   ]
  },
  {
   "cell_type": "code",
   "execution_count": 139,
   "metadata": {},
   "outputs": [
    {
     "data": {
      "text/html": [
       "<div>\n",
       "<style scoped>\n",
       "    .dataframe tbody tr th:only-of-type {\n",
       "        vertical-align: middle;\n",
       "    }\n",
       "\n",
       "    .dataframe tbody tr th {\n",
       "        vertical-align: top;\n",
       "    }\n",
       "\n",
       "    .dataframe thead th {\n",
       "        text-align: right;\n",
       "    }\n",
       "</style>\n",
       "<table border=\"1\" class=\"dataframe\">\n",
       "  <thead>\n",
       "    <tr style=\"text-align: right;\">\n",
       "      <th></th>\n",
       "      <th>Enrollment</th>\n",
       "      <th>Student-Teacher Ratio</th>\n",
       "      <th>Free-Reduced Lunch</th>\n",
       "    </tr>\n",
       "  </thead>\n",
       "  <tbody>\n",
       "    <tr>\n",
       "      <td>30</td>\n",
       "      <td>78.7%</td>\n",
       "      <td>398</td>\n",
       "      <td>81.2%</td>\n",
       "    </tr>\n",
       "  </tbody>\n",
       "</table>\n",
       "</div>"
      ],
      "text/plain": [
       "   Enrollment Student-Teacher Ratio Free-Reduced Lunch\n",
       "30      78.7%                   398              81.2%"
      ]
     },
     "execution_count": 139,
     "metadata": {},
     "output_type": "execute_result"
    }
   ],
   "source": [
    "# make extracted_records_d1 to a dataframe\n",
    "d17_df = pd.DataFrame(extracted_records_d17)\n",
    "d17_df[30:31]\n",
    "# looking through the data - need to replace a few numbers with it's correct numbers"
   ]
  },
  {
   "cell_type": "code",
   "execution_count": 140,
   "metadata": {},
   "outputs": [
    {
     "data": {
      "text/html": [
       "<div>\n",
       "<style scoped>\n",
       "    .dataframe tbody tr th:only-of-type {\n",
       "        vertical-align: middle;\n",
       "    }\n",
       "\n",
       "    .dataframe tbody tr th {\n",
       "        vertical-align: top;\n",
       "    }\n",
       "\n",
       "    .dataframe thead th {\n",
       "        text-align: right;\n",
       "    }\n",
       "</style>\n",
       "<table border=\"1\" class=\"dataframe\">\n",
       "  <thead>\n",
       "    <tr style=\"text-align: right;\">\n",
       "      <th></th>\n",
       "      <th>School Name</th>\n",
       "    </tr>\n",
       "  </thead>\n",
       "  <tbody>\n",
       "    <tr>\n",
       "      <td>30</td>\n",
       "      <td>International High School At Prospect Heights</td>\n",
       "    </tr>\n",
       "  </tbody>\n",
       "</table>\n",
       "</div>"
      ],
      "text/plain": [
       "                                      School Name\n",
       "30  International High School At Prospect Heights"
      ]
     },
     "execution_count": 140,
     "metadata": {},
     "output_type": "execute_result"
    }
   ],
   "source": [
    "d17_schools[30:31]"
   ]
  },
  {
   "cell_type": "code",
   "execution_count": 141,
   "metadata": {},
   "outputs": [],
   "source": [
    "d17_df.at[30,'Enrollment'] = 398\n",
    "d17_df.at[30,'Student-Teacher Ratio'] = 13.7"
   ]
  },
  {
   "cell_type": "code",
   "execution_count": 142,
   "metadata": {},
   "outputs": [
    {
     "data": {
      "text/html": [
       "<div>\n",
       "<style scoped>\n",
       "    .dataframe tbody tr th:only-of-type {\n",
       "        vertical-align: middle;\n",
       "    }\n",
       "\n",
       "    .dataframe tbody tr th {\n",
       "        vertical-align: top;\n",
       "    }\n",
       "\n",
       "    .dataframe thead th {\n",
       "        text-align: right;\n",
       "    }\n",
       "</style>\n",
       "<table border=\"1\" class=\"dataframe\">\n",
       "  <thead>\n",
       "    <tr style=\"text-align: right;\">\n",
       "      <th></th>\n",
       "      <th>Enrollment</th>\n",
       "      <th>Student-Teacher Ratio</th>\n",
       "      <th>Free-Reduced Lunch</th>\n",
       "    </tr>\n",
       "  </thead>\n",
       "  <tbody>\n",
       "    <tr>\n",
       "      <td>30</td>\n",
       "      <td>398</td>\n",
       "      <td>13.7</td>\n",
       "      <td>81.2%</td>\n",
       "    </tr>\n",
       "  </tbody>\n",
       "</table>\n",
       "</div>"
      ],
      "text/plain": [
       "   Enrollment Student-Teacher Ratio Free-Reduced Lunch\n",
       "30        398                  13.7              81.2%"
      ]
     },
     "execution_count": 142,
     "metadata": {},
     "output_type": "execute_result"
    }
   ],
   "source": [
    "d17_df[30:31]"
   ]
  },
  {
   "cell_type": "code",
   "execution_count": 143,
   "metadata": {},
   "outputs": [
    {
     "data": {
      "text/html": [
       "<div>\n",
       "<style scoped>\n",
       "    .dataframe tbody tr th:only-of-type {\n",
       "        vertical-align: middle;\n",
       "    }\n",
       "\n",
       "    .dataframe tbody tr th {\n",
       "        vertical-align: top;\n",
       "    }\n",
       "\n",
       "    .dataframe thead th {\n",
       "        text-align: right;\n",
       "    }\n",
       "</style>\n",
       "<table border=\"1\" class=\"dataframe\">\n",
       "  <thead>\n",
       "    <tr style=\"text-align: right;\">\n",
       "      <th></th>\n",
       "      <th>School Name</th>\n",
       "      <th>Enrollment</th>\n",
       "      <th>Student-Teacher Ratio</th>\n",
       "      <th>Free-Reduced Lunch</th>\n",
       "    </tr>\n",
       "  </thead>\n",
       "  <tbody>\n",
       "    <tr>\n",
       "      <td>30</td>\n",
       "      <td>International High School At Prospect Heights</td>\n",
       "      <td>398</td>\n",
       "      <td>13.7</td>\n",
       "      <td>81.2%</td>\n",
       "    </tr>\n",
       "  </tbody>\n",
       "</table>\n",
       "</div>"
      ],
      "text/plain": [
       "                                      School Name Enrollment  \\\n",
       "30  International High School At Prospect Heights        398   \n",
       "\n",
       "   Student-Teacher Ratio Free-Reduced Lunch  \n",
       "30                  13.7              81.2%  "
      ]
     },
     "execution_count": 143,
     "metadata": {},
     "output_type": "execute_result"
    }
   ],
   "source": [
    "district_17 = pd.concat([d17_schools, d17_df], axis=1)\n",
    "district_17[30:31]"
   ]
  },
  {
   "cell_type": "code",
   "execution_count": 144,
   "metadata": {},
   "outputs": [],
   "source": [
    "# make df a csv file to be able to work with later\n",
    "# saving the dataframe \n",
    "district_17.to_csv('district_17.csv')"
   ]
  },
  {
   "cell_type": "markdown",
   "metadata": {},
   "source": [
    "### **New York District 18**"
   ]
  },
  {
   "cell_type": "code",
   "execution_count": 145,
   "metadata": {},
   "outputs": [],
   "source": [
    "# get the url of the site that you need (multiple urls now because I found the different districts)\n",
    "url_schools_d18 = \"https://www.schooldigger.com/go/NY/district/00096/search.aspx\"\n",
    "#download the URL and extract the content to the variable html \n",
    "request_schools_d18 = urllib.request.Request(url_schools_d18)\n",
    "html_schools_d18 = urllib.request.urlopen(request_schools_d18).read()"
   ]
  },
  {
   "cell_type": "code",
   "execution_count": 146,
   "metadata": {},
   "outputs": [],
   "source": [
    "# this will only give me the school names\n",
    "\n",
    "#pass the HTML to Beautifulsoup.\n",
    "soup_d18 = BeautifulSoup(html_schools_d18,'html.parser')\n",
    "main_table_d18 = soup_d18.find(\"div\",attrs={'class':'bsRTable'})\n",
    "school_names_d18 = main_table_d18.find_all(\"span\", class_=\"sName\")"
   ]
  },
  {
   "cell_type": "code",
   "execution_count": 147,
   "metadata": {},
   "outputs": [
    {
     "data": {
      "text/plain": [
       "33"
      ]
     },
     "execution_count": 147,
     "metadata": {},
     "output_type": "execute_result"
    }
   ],
   "source": [
    "schools_d18 = []\n",
    "for school in school_names_d18: \n",
    "    title = school.text\n",
    "    record = {\n",
    "        'School Name':title\n",
    "        }\n",
    "    schools_d18.append(record)\n",
    "# schools_d18\n",
    "len(schools_d18)"
   ]
  },
  {
   "cell_type": "code",
   "execution_count": 148,
   "metadata": {},
   "outputs": [],
   "source": [
    "# Make school list to a dataframe\n",
    "d18_schools = pd.DataFrame(schools_d18)"
   ]
  },
  {
   "cell_type": "code",
   "execution_count": 149,
   "metadata": {},
   "outputs": [
    {
     "name": "stdout",
     "output_type": "stream",
     "text": [
      "165\n"
     ]
    },
    {
     "data": {
      "text/plain": [
       "(39, 'https://www.schooldigger.com/go/NY/schools/0009602283/school.aspx')"
      ]
     },
     "execution_count": 149,
     "metadata": {},
     "output_type": "execute_result"
    }
   ],
   "source": [
    "# this gives me the links in the rows that go with the school names\n",
    "school_links_d18 = []\n",
    "link_list_d18 = main_table_d18.find_all('a',href=True)\n",
    "for data in link_list_d18:\n",
    "  link = data['href']\n",
    "  school_links_d18.append(link)\n",
    "print(len(school_links_d18))\n",
    "links_d18 = list(dict.fromkeys(school_links_d18)) # making a unique list from the dictionary of links\n",
    "len(links_d18), links_d18[0] # previewing size and first url"
   ]
  },
  {
   "cell_type": "code",
   "execution_count": 150,
   "metadata": {},
   "outputs": [],
   "source": [
    "# change the list to a dataframe to be able to filter out the links that I need and not the other links\n",
    "d18_links = pd.DataFrame(links_d18)"
   ]
  },
  {
   "cell_type": "code",
   "execution_count": 152,
   "metadata": {},
   "outputs": [],
   "source": [
    "links_needed_d18 = d18_links[d18_links[0].str.contains('https://www.schooldigger.com/go/NY/schools/')]"
   ]
  },
  {
   "cell_type": "code",
   "execution_count": 153,
   "metadata": {},
   "outputs": [
    {
     "data": {
      "text/plain": [
       "33"
      ]
     },
     "execution_count": 153,
     "metadata": {},
     "output_type": "execute_result"
    }
   ],
   "source": [
    "# this give me only the links as a list\n",
    "d18_list_links = links_needed_d18[0].values.tolist()\n",
    "len(d18_list_links)"
   ]
  },
  {
   "cell_type": "code",
   "execution_count": 154,
   "metadata": {},
   "outputs": [],
   "source": [
    "# split up the dataset to make it not time out\n",
    "extracted_records_d18 = []\n",
    "\n",
    "for each in d18_list_links:\n",
    "  # You can add a time sleep to pause between pulls\n",
    "\n",
    "\n",
    "  #download the URL and extract the content to the variable html \n",
    "  request_schools = urllib.request.Request(each)\n",
    "  html_schools = urllib.request.urlopen(request_schools).read()\n",
    "  soup = BeautifulSoup(html_schools,'html.parser')\n",
    "  table = soup.find_all('span', {'class':'bigOrange'})\n",
    "#   display(table)\n",
    "  enrollment_num = table[2]\n",
    "  ratio_num = table[1]\n",
    "  lunch_num = table[-1]\n",
    "  records = {\n",
    "        'Enrollment': enrollment_num.text,\n",
    "        'Student-Teacher Ratio': ratio_num.text,\n",
    "        'Free-Reduced Lunch': lunch_num.text\n",
    "        }\n",
    "  extracted_records_d18.append(records)"
   ]
  },
  {
   "cell_type": "code",
   "execution_count": 155,
   "metadata": {},
   "outputs": [
    {
     "name": "stdout",
     "output_type": "stream",
     "text": [
      "33\n",
      "33\n"
     ]
    }
   ],
   "source": [
    "# checking the lens of everything to make sure it's ok\n",
    "print(len(extracted_records_d18))\n",
    "print(len(d18_list_links))"
   ]
  },
  {
   "cell_type": "code",
   "execution_count": 157,
   "metadata": {},
   "outputs": [
    {
     "data": {
      "text/html": [
       "<div>\n",
       "<style scoped>\n",
       "    .dataframe tbody tr th:only-of-type {\n",
       "        vertical-align: middle;\n",
       "    }\n",
       "\n",
       "    .dataframe tbody tr th {\n",
       "        vertical-align: top;\n",
       "    }\n",
       "\n",
       "    .dataframe thead th {\n",
       "        text-align: right;\n",
       "    }\n",
       "</style>\n",
       "<table border=\"1\" class=\"dataframe\">\n",
       "  <thead>\n",
       "    <tr style=\"text-align: right;\">\n",
       "      <th></th>\n",
       "      <th>Enrollment</th>\n",
       "      <th>Student-Teacher Ratio</th>\n",
       "      <th>Free-Reduced Lunch</th>\n",
       "    </tr>\n",
       "  </thead>\n",
       "  <tbody>\n",
       "    <tr>\n",
       "      <td>17</td>\n",
       "      <td>98.4%</td>\n",
       "      <td>351</td>\n",
       "      <td>82.9%</td>\n",
       "    </tr>\n",
       "  </tbody>\n",
       "</table>\n",
       "</div>"
      ],
      "text/plain": [
       "   Enrollment Student-Teacher Ratio Free-Reduced Lunch\n",
       "17      98.4%                   351              82.9%"
      ]
     },
     "execution_count": 157,
     "metadata": {},
     "output_type": "execute_result"
    }
   ],
   "source": [
    "# make extracted_records_d1 to a dataframe\n",
    "d18_df = pd.DataFrame(extracted_records_d18)\n",
    "d18_df[17:18]\n",
    "# looking through the data - need to replace a few numbers with it's correct numbers"
   ]
  },
  {
   "cell_type": "code",
   "execution_count": 158,
   "metadata": {},
   "outputs": [
    {
     "data": {
      "text/html": [
       "<div>\n",
       "<style scoped>\n",
       "    .dataframe tbody tr th:only-of-type {\n",
       "        vertical-align: middle;\n",
       "    }\n",
       "\n",
       "    .dataframe tbody tr th {\n",
       "        vertical-align: top;\n",
       "    }\n",
       "\n",
       "    .dataframe thead th {\n",
       "        text-align: right;\n",
       "    }\n",
       "</style>\n",
       "<table border=\"1\" class=\"dataframe\">\n",
       "  <thead>\n",
       "    <tr style=\"text-align: right;\">\n",
       "      <th></th>\n",
       "      <th>School Name</th>\n",
       "    </tr>\n",
       "  </thead>\n",
       "  <tbody>\n",
       "    <tr>\n",
       "      <td>17</td>\n",
       "      <td>Kurt Hahn Expeditionary Learning School</td>\n",
       "    </tr>\n",
       "  </tbody>\n",
       "</table>\n",
       "</div>"
      ],
      "text/plain": [
       "                                School Name\n",
       "17  Kurt Hahn Expeditionary Learning School"
      ]
     },
     "execution_count": 158,
     "metadata": {},
     "output_type": "execute_result"
    }
   ],
   "source": [
    "d18_schools[17:18]"
   ]
  },
  {
   "cell_type": "code",
   "execution_count": 159,
   "metadata": {},
   "outputs": [],
   "source": [
    "d18_df.at[17,'Enrollment'] = 351\n",
    "d18_df.at[17,'Student-Teacher Ratio'] = 12.0"
   ]
  },
  {
   "cell_type": "code",
   "execution_count": 160,
   "metadata": {},
   "outputs": [
    {
     "data": {
      "text/html": [
       "<div>\n",
       "<style scoped>\n",
       "    .dataframe tbody tr th:only-of-type {\n",
       "        vertical-align: middle;\n",
       "    }\n",
       "\n",
       "    .dataframe tbody tr th {\n",
       "        vertical-align: top;\n",
       "    }\n",
       "\n",
       "    .dataframe thead th {\n",
       "        text-align: right;\n",
       "    }\n",
       "</style>\n",
       "<table border=\"1\" class=\"dataframe\">\n",
       "  <thead>\n",
       "    <tr style=\"text-align: right;\">\n",
       "      <th></th>\n",
       "      <th>Enrollment</th>\n",
       "      <th>Student-Teacher Ratio</th>\n",
       "      <th>Free-Reduced Lunch</th>\n",
       "    </tr>\n",
       "  </thead>\n",
       "  <tbody>\n",
       "    <tr>\n",
       "      <td>17</td>\n",
       "      <td>351</td>\n",
       "      <td>12</td>\n",
       "      <td>82.9%</td>\n",
       "    </tr>\n",
       "  </tbody>\n",
       "</table>\n",
       "</div>"
      ],
      "text/plain": [
       "   Enrollment Student-Teacher Ratio Free-Reduced Lunch\n",
       "17        351                    12              82.9%"
      ]
     },
     "execution_count": 160,
     "metadata": {},
     "output_type": "execute_result"
    }
   ],
   "source": [
    "d18_df[17:18]"
   ]
  },
  {
   "cell_type": "code",
   "execution_count": 161,
   "metadata": {},
   "outputs": [
    {
     "data": {
      "text/html": [
       "<div>\n",
       "<style scoped>\n",
       "    .dataframe tbody tr th:only-of-type {\n",
       "        vertical-align: middle;\n",
       "    }\n",
       "\n",
       "    .dataframe tbody tr th {\n",
       "        vertical-align: top;\n",
       "    }\n",
       "\n",
       "    .dataframe thead th {\n",
       "        text-align: right;\n",
       "    }\n",
       "</style>\n",
       "<table border=\"1\" class=\"dataframe\">\n",
       "  <thead>\n",
       "    <tr style=\"text-align: right;\">\n",
       "      <th></th>\n",
       "      <th>School Name</th>\n",
       "      <th>Enrollment</th>\n",
       "      <th>Student-Teacher Ratio</th>\n",
       "      <th>Free-Reduced Lunch</th>\n",
       "    </tr>\n",
       "  </thead>\n",
       "  <tbody>\n",
       "    <tr>\n",
       "      <td>17</td>\n",
       "      <td>Kurt Hahn Expeditionary Learning School</td>\n",
       "      <td>351</td>\n",
       "      <td>12</td>\n",
       "      <td>82.9%</td>\n",
       "    </tr>\n",
       "  </tbody>\n",
       "</table>\n",
       "</div>"
      ],
      "text/plain": [
       "                                School Name Enrollment Student-Teacher Ratio  \\\n",
       "17  Kurt Hahn Expeditionary Learning School        351                    12   \n",
       "\n",
       "   Free-Reduced Lunch  \n",
       "17              82.9%  "
      ]
     },
     "execution_count": 161,
     "metadata": {},
     "output_type": "execute_result"
    }
   ],
   "source": [
    "district_18 = pd.concat([d18_schools, d18_df], axis=1)\n",
    "district_18[17:18]"
   ]
  },
  {
   "cell_type": "code",
   "execution_count": 162,
   "metadata": {},
   "outputs": [],
   "source": [
    "# make df a csv file to be able to work with later\n",
    "# saving the dataframe \n",
    "district_18.to_csv('district_18.csv')"
   ]
  },
  {
   "cell_type": "markdown",
   "metadata": {},
   "source": [
    "### **New York District 19**"
   ]
  },
  {
   "cell_type": "code",
   "execution_count": 163,
   "metadata": {},
   "outputs": [],
   "source": [
    "# get the url of the site that you need (multiple urls now because I found the different districts)\n",
    "url_schools_d19 = \"https://www.schooldigger.com/go/NY/district/00120/search.aspx\"\n",
    "#download the URL and extract the content to the variable html \n",
    "request_schools_d19 = urllib.request.Request(url_schools_d19)\n",
    "html_schools_d19 = urllib.request.urlopen(request_schools_d19).read()"
   ]
  },
  {
   "cell_type": "code",
   "execution_count": 164,
   "metadata": {},
   "outputs": [],
   "source": [
    "# this will only give me the school names\n",
    "\n",
    "#pass the HTML to Beautifulsoup.\n",
    "soup_d19 = BeautifulSoup(html_schools_d19,'html.parser')\n",
    "main_table_d19 = soup_d19.find(\"div\",attrs={'class':'bsRTable'})\n",
    "school_names_d19 = main_table_d19.find_all(\"span\", class_=\"sName\")"
   ]
  },
  {
   "cell_type": "code",
   "execution_count": 165,
   "metadata": {},
   "outputs": [
    {
     "data": {
      "text/plain": [
       "48"
      ]
     },
     "execution_count": 165,
     "metadata": {},
     "output_type": "execute_result"
    }
   ],
   "source": [
    "schools_d19 = []\n",
    "for school in school_names_d19: \n",
    "    title = school.text\n",
    "    record = {\n",
    "        'School Name':title\n",
    "        }\n",
    "    schools_d19.append(record)\n",
    "# schools_d19\n",
    "len(schools_d19)"
   ]
  },
  {
   "cell_type": "code",
   "execution_count": 166,
   "metadata": {},
   "outputs": [],
   "source": [
    "# Make school list to a dataframe\n",
    "d19_schools = pd.DataFrame(schools_d19)"
   ]
  },
  {
   "cell_type": "code",
   "execution_count": 167,
   "metadata": {},
   "outputs": [
    {
     "name": "stdout",
     "output_type": "stream",
     "text": [
      "240\n"
     ]
    },
    {
     "data": {
      "text/plain": [
       "(54, 'https://www.schooldigger.com/go/NY/schools/0012000813/school.aspx')"
      ]
     },
     "execution_count": 167,
     "metadata": {},
     "output_type": "execute_result"
    }
   ],
   "source": [
    "# this gives me the links in the rows that go with the school names\n",
    "school_links_d19 = []\n",
    "link_list_d19 = main_table_d19.find_all('a',href=True)\n",
    "for data in link_list_d19:\n",
    "  link = data['href']\n",
    "  school_links_d19.append(link)\n",
    "print(len(school_links_d19))\n",
    "links_d19 = list(dict.fromkeys(school_links_d19)) # making a unique list from the dictionary of links\n",
    "len(links_d19), links_d19[0] # previewing size and first url"
   ]
  },
  {
   "cell_type": "code",
   "execution_count": 168,
   "metadata": {},
   "outputs": [],
   "source": [
    "# change the list to a dataframe to be able to filter out the links that I need and not the other links\n",
    "d19_links = pd.DataFrame(links_d19)"
   ]
  },
  {
   "cell_type": "code",
   "execution_count": 169,
   "metadata": {},
   "outputs": [],
   "source": [
    "links_needed_d19 = d19_links[d19_links[0].str.contains('https://www.schooldigger.com/go/NY/schools/')]"
   ]
  },
  {
   "cell_type": "code",
   "execution_count": 170,
   "metadata": {},
   "outputs": [
    {
     "data": {
      "text/plain": [
       "48"
      ]
     },
     "execution_count": 170,
     "metadata": {},
     "output_type": "execute_result"
    }
   ],
   "source": [
    "# this give me only the links as a list\n",
    "d19_list_links = links_needed_d19[0].values.tolist()\n",
    "len(d19_list_links)"
   ]
  },
  {
   "cell_type": "code",
   "execution_count": 171,
   "metadata": {},
   "outputs": [],
   "source": [
    "# split up the dataset to make it not time out\n",
    "extracted_records_d19 = []\n",
    "\n",
    "for each in d19_list_links:\n",
    "  # You can add a time sleep to pause between pulls\n",
    "\n",
    "\n",
    "  #download the URL and extract the content to the variable html \n",
    "  request_schools = urllib.request.Request(each)\n",
    "  html_schools = urllib.request.urlopen(request_schools).read()\n",
    "  soup = BeautifulSoup(html_schools,'html.parser')\n",
    "  table = soup.find_all('span', {'class':'bigOrange'})\n",
    "#   display(table)\n",
    "  enrollment_num = table[2]\n",
    "  ratio_num = table[1]\n",
    "  lunch_num = table[-1]\n",
    "  records = {\n",
    "        'Enrollment': enrollment_num.text,\n",
    "        'Student-Teacher Ratio': ratio_num.text,\n",
    "        'Free-Reduced Lunch': lunch_num.text\n",
    "        }\n",
    "  extracted_records_d19.append(records)"
   ]
  },
  {
   "cell_type": "code",
   "execution_count": 172,
   "metadata": {},
   "outputs": [
    {
     "name": "stdout",
     "output_type": "stream",
     "text": [
      "48\n",
      "48\n"
     ]
    }
   ],
   "source": [
    "# checking the lens of everything to make sure it's ok\n",
    "print(len(extracted_records_d19))\n",
    "print(len(d19_list_links))"
   ]
  },
  {
   "cell_type": "code",
   "execution_count": 174,
   "metadata": {},
   "outputs": [
    {
     "data": {
      "text/html": [
       "<div>\n",
       "<style scoped>\n",
       "    .dataframe tbody tr th:only-of-type {\n",
       "        vertical-align: middle;\n",
       "    }\n",
       "\n",
       "    .dataframe tbody tr th {\n",
       "        vertical-align: top;\n",
       "    }\n",
       "\n",
       "    .dataframe thead th {\n",
       "        text-align: right;\n",
       "    }\n",
       "</style>\n",
       "<table border=\"1\" class=\"dataframe\">\n",
       "  <thead>\n",
       "    <tr style=\"text-align: right;\">\n",
       "      <th></th>\n",
       "      <th>Enrollment</th>\n",
       "      <th>Student-Teacher Ratio</th>\n",
       "      <th>Free-Reduced Lunch</th>\n",
       "    </tr>\n",
       "  </thead>\n",
       "  <tbody>\n",
       "    <tr>\n",
       "      <td>0</td>\n",
       "      <td>501</td>\n",
       "      <td>12.0</td>\n",
       "      <td>87.6%</td>\n",
       "    </tr>\n",
       "  </tbody>\n",
       "</table>\n",
       "</div>"
      ],
      "text/plain": [
       "  Enrollment Student-Teacher Ratio Free-Reduced Lunch\n",
       "0        501                  12.0              87.6%"
      ]
     },
     "execution_count": 174,
     "metadata": {},
     "output_type": "execute_result"
    }
   ],
   "source": [
    "# make extracted_records_d1 to a dataframe\n",
    "d19_df = pd.DataFrame(extracted_records_d19)\n",
    "d19_df.head(1)\n",
    "# looking through the data - need to replace a few numbers with it's correct numbers"
   ]
  },
  {
   "cell_type": "code",
   "execution_count": 175,
   "metadata": {},
   "outputs": [
    {
     "data": {
      "text/html": [
       "<div>\n",
       "<style scoped>\n",
       "    .dataframe tbody tr th:only-of-type {\n",
       "        vertical-align: middle;\n",
       "    }\n",
       "\n",
       "    .dataframe tbody tr th {\n",
       "        vertical-align: top;\n",
       "    }\n",
       "\n",
       "    .dataframe thead th {\n",
       "        text-align: right;\n",
       "    }\n",
       "</style>\n",
       "<table border=\"1\" class=\"dataframe\">\n",
       "  <thead>\n",
       "    <tr style=\"text-align: right;\">\n",
       "      <th></th>\n",
       "      <th>School Name</th>\n",
       "      <th>Enrollment</th>\n",
       "      <th>Student-Teacher Ratio</th>\n",
       "      <th>Free-Reduced Lunch</th>\n",
       "    </tr>\n",
       "  </thead>\n",
       "  <tbody>\n",
       "    <tr>\n",
       "      <td>0</td>\n",
       "      <td>East New York Family Academy</td>\n",
       "      <td>501</td>\n",
       "      <td>12.0</td>\n",
       "      <td>87.6%</td>\n",
       "    </tr>\n",
       "    <tr>\n",
       "      <td>1</td>\n",
       "      <td>Transit Technical Career And Technical Educati...</td>\n",
       "      <td>705</td>\n",
       "      <td>12.3</td>\n",
       "      <td>76.9%</td>\n",
       "    </tr>\n",
       "  </tbody>\n",
       "</table>\n",
       "</div>"
      ],
      "text/plain": [
       "                                         School Name Enrollment  \\\n",
       "0                       East New York Family Academy        501   \n",
       "1  Transit Technical Career And Technical Educati...        705   \n",
       "\n",
       "  Student-Teacher Ratio Free-Reduced Lunch  \n",
       "0                  12.0              87.6%  \n",
       "1                  12.3              76.9%  "
      ]
     },
     "execution_count": 175,
     "metadata": {},
     "output_type": "execute_result"
    }
   ],
   "source": [
    "district_19 = pd.concat([d19_schools, d19_df], axis=1)\n",
    "district_19.head(2)"
   ]
  },
  {
   "cell_type": "code",
   "execution_count": 176,
   "metadata": {},
   "outputs": [],
   "source": [
    "# make df a csv file to be able to work with later\n",
    "# saving the dataframe \n",
    "district_19.to_csv('district_19.csv')"
   ]
  },
  {
   "cell_type": "markdown",
   "metadata": {},
   "source": [
    "### **New York District 20**"
   ]
  },
  {
   "cell_type": "code",
   "execution_count": 177,
   "metadata": {},
   "outputs": [],
   "source": [
    "# get the url of the site that you need (multiple urls now because I found the different districts)\n",
    "url_schools_d20 = \"https://www.schooldigger.com/go/NY/district/00151/search.aspx\"\n",
    "#download the URL and extract the content to the variable html \n",
    "request_schools_d20 = urllib.request.Request(url_schools_d20)\n",
    "html_schools_d20 = urllib.request.urlopen(request_schools_d20).read()"
   ]
  },
  {
   "cell_type": "code",
   "execution_count": 178,
   "metadata": {},
   "outputs": [],
   "source": [
    "# this will only give me the school names\n",
    "\n",
    "#pass the HTML to Beautifulsoup.\n",
    "soup_d20 = BeautifulSoup(html_schools_d20,'html.parser')\n",
    "main_table_d20 = soup_d20.find(\"div\",attrs={'class':'bsRTable'})\n",
    "school_names_d20 = main_table_d20.find_all(\"span\", class_=\"sName\")"
   ]
  },
  {
   "cell_type": "code",
   "execution_count": 179,
   "metadata": {},
   "outputs": [
    {
     "data": {
      "text/plain": [
       "43"
      ]
     },
     "execution_count": 179,
     "metadata": {},
     "output_type": "execute_result"
    }
   ],
   "source": [
    "schools_d20 = []\n",
    "for school in school_names_d20: \n",
    "    title = school.text\n",
    "    record = {\n",
    "        'School Name':title\n",
    "        }\n",
    "    schools_d20.append(record)\n",
    "# schools_d20\n",
    "len(schools_d20)"
   ]
  },
  {
   "cell_type": "code",
   "execution_count": 180,
   "metadata": {},
   "outputs": [],
   "source": [
    "# Make school list to a dataframe\n",
    "d20_schools = pd.DataFrame(schools_d20)"
   ]
  },
  {
   "cell_type": "code",
   "execution_count": 181,
   "metadata": {},
   "outputs": [
    {
     "name": "stdout",
     "output_type": "stream",
     "text": [
      "215\n"
     ]
    },
    {
     "data": {
      "text/plain": [
       "(53, 'https://www.schooldigger.com/go/NY/schools/0015101348/school.aspx')"
      ]
     },
     "execution_count": 181,
     "metadata": {},
     "output_type": "execute_result"
    }
   ],
   "source": [
    "# this gives me the links in the rows that go with the school names\n",
    "school_links_d20 = []\n",
    "link_list_d20 = main_table_d20.find_all('a',href=True)\n",
    "for data in link_list_d20:\n",
    "  link = data['href']\n",
    "  school_links_d20.append(link)\n",
    "print(len(school_links_d20))\n",
    "links_d20 = list(dict.fromkeys(school_links_d20)) # making a unique list from the dictionary of links\n",
    "len(links_d20), links_d20[0] # previewing size and first url"
   ]
  },
  {
   "cell_type": "code",
   "execution_count": 182,
   "metadata": {},
   "outputs": [],
   "source": [
    "# change the list to a dataframe to be able to filter out the links that I need and not the other links\n",
    "d20_links = pd.DataFrame(links_d20)"
   ]
  },
  {
   "cell_type": "code",
   "execution_count": 183,
   "metadata": {},
   "outputs": [],
   "source": [
    "links_needed_d20 = d20_links[d20_links[0].str.contains('https://www.schooldigger.com/go/NY/schools/')]"
   ]
  },
  {
   "cell_type": "code",
   "execution_count": 184,
   "metadata": {},
   "outputs": [
    {
     "data": {
      "text/plain": [
       "43"
      ]
     },
     "execution_count": 184,
     "metadata": {},
     "output_type": "execute_result"
    }
   ],
   "source": [
    "# this give me only the links as a list\n",
    "d20_list_links = links_needed_d20[0].values.tolist()\n",
    "len(d20_list_links)"
   ]
  },
  {
   "cell_type": "code",
   "execution_count": 185,
   "metadata": {},
   "outputs": [],
   "source": [
    "# split up the dataset to make it not time out\n",
    "extracted_records_d20 = []\n",
    "\n",
    "for each in d20_list_links:\n",
    "  # You can add a time sleep to pause between pulls\n",
    "\n",
    "\n",
    "  #download the URL and extract the content to the variable html \n",
    "  request_schools = urllib.request.Request(each)\n",
    "  html_schools = urllib.request.urlopen(request_schools).read()\n",
    "  soup = BeautifulSoup(html_schools,'html.parser')\n",
    "  table = soup.find_all('span', {'class':'bigOrange'})\n",
    "#   display(table)\n",
    "  enrollment_num = table[2]\n",
    "  ratio_num = table[1]\n",
    "  lunch_num = table[-1]\n",
    "  records = {\n",
    "        'Enrollment': enrollment_num.text,\n",
    "        'Student-Teacher Ratio': ratio_num.text,\n",
    "        'Free-Reduced Lunch': lunch_num.text\n",
    "        }\n",
    "  extracted_records_d20.append(records)"
   ]
  },
  {
   "cell_type": "code",
   "execution_count": 186,
   "metadata": {},
   "outputs": [
    {
     "name": "stdout",
     "output_type": "stream",
     "text": [
      "43\n",
      "43\n"
     ]
    }
   ],
   "source": [
    "# checking the lens of everything to make sure it's ok\n",
    "print(len(extracted_records_d20))\n",
    "print(len(d20_list_links))"
   ]
  },
  {
   "cell_type": "code",
   "execution_count": 188,
   "metadata": {},
   "outputs": [
    {
     "data": {
      "text/html": [
       "<div>\n",
       "<style scoped>\n",
       "    .dataframe tbody tr th:only-of-type {\n",
       "        vertical-align: middle;\n",
       "    }\n",
       "\n",
       "    .dataframe tbody tr th {\n",
       "        vertical-align: top;\n",
       "    }\n",
       "\n",
       "    .dataframe thead th {\n",
       "        text-align: right;\n",
       "    }\n",
       "</style>\n",
       "<table border=\"1\" class=\"dataframe\">\n",
       "  <thead>\n",
       "    <tr style=\"text-align: right;\">\n",
       "      <th></th>\n",
       "      <th>Enrollment</th>\n",
       "      <th>Student-Teacher Ratio</th>\n",
       "      <th>Free-Reduced Lunch</th>\n",
       "    </tr>\n",
       "  </thead>\n",
       "  <tbody>\n",
       "    <tr>\n",
       "      <td>0</td>\n",
       "      <td>874</td>\n",
       "      <td>16.8</td>\n",
       "      <td>66.1%</td>\n",
       "    </tr>\n",
       "  </tbody>\n",
       "</table>\n",
       "</div>"
      ],
      "text/plain": [
       "  Enrollment Student-Teacher Ratio Free-Reduced Lunch\n",
       "0        874                  16.8              66.1%"
      ]
     },
     "execution_count": 188,
     "metadata": {},
     "output_type": "execute_result"
    }
   ],
   "source": [
    "# make extracted_records_d1 to a dataframe\n",
    "d20_df = pd.DataFrame(extracted_records_d20)\n",
    "d20_df.head(1)\n",
    "# looking through the data - need to replace a few numbers with it's correct numbers"
   ]
  },
  {
   "cell_type": "code",
   "execution_count": 189,
   "metadata": {},
   "outputs": [
    {
     "data": {
      "text/html": [
       "<div>\n",
       "<style scoped>\n",
       "    .dataframe tbody tr th:only-of-type {\n",
       "        vertical-align: middle;\n",
       "    }\n",
       "\n",
       "    .dataframe tbody tr th {\n",
       "        vertical-align: top;\n",
       "    }\n",
       "\n",
       "    .dataframe thead th {\n",
       "        text-align: right;\n",
       "    }\n",
       "</style>\n",
       "<table border=\"1\" class=\"dataframe\">\n",
       "  <thead>\n",
       "    <tr style=\"text-align: right;\">\n",
       "      <th></th>\n",
       "      <th>School Name</th>\n",
       "      <th>Enrollment</th>\n",
       "      <th>Student-Teacher Ratio</th>\n",
       "      <th>Free-Reduced Lunch</th>\n",
       "    </tr>\n",
       "  </thead>\n",
       "  <tbody>\n",
       "    <tr>\n",
       "      <td>0</td>\n",
       "      <td>Is 187 Christa McAuliffe School (The)</td>\n",
       "      <td>874</td>\n",
       "      <td>16.8</td>\n",
       "      <td>66.1%</td>\n",
       "    </tr>\n",
       "    <tr>\n",
       "      <td>1</td>\n",
       "      <td>High School Of Telecommunication Arts And Tech...</td>\n",
       "      <td>1,273</td>\n",
       "      <td>15.5</td>\n",
       "      <td>75.8%</td>\n",
       "    </tr>\n",
       "  </tbody>\n",
       "</table>\n",
       "</div>"
      ],
      "text/plain": [
       "                                         School Name Enrollment  \\\n",
       "0              Is 187 Christa McAuliffe School (The)        874   \n",
       "1  High School Of Telecommunication Arts And Tech...      1,273   \n",
       "\n",
       "  Student-Teacher Ratio Free-Reduced Lunch  \n",
       "0                  16.8              66.1%  \n",
       "1                  15.5              75.8%  "
      ]
     },
     "execution_count": 189,
     "metadata": {},
     "output_type": "execute_result"
    }
   ],
   "source": [
    "district_20 = pd.concat([d20_schools, d20_df], axis=1)\n",
    "district_20.head(2)"
   ]
  },
  {
   "cell_type": "code",
   "execution_count": 190,
   "metadata": {},
   "outputs": [],
   "source": [
    "# make df a csv file to be able to work with later\n",
    "# saving the dataframe \n",
    "district_20.to_csv('district_20.csv')"
   ]
  },
  {
   "cell_type": "markdown",
   "metadata": {},
   "source": [
    "### **New York District 21**"
   ]
  },
  {
   "cell_type": "code",
   "execution_count": 191,
   "metadata": {},
   "outputs": [],
   "source": [
    "# get the url of the site that you need (multiple urls now because I found the different districts)\n",
    "url_schools_d21 = \"https://www.schooldigger.com/go/NY/district/00152/search.aspx\"\n",
    "#download the URL and extract the content to the variable html \n",
    "request_schools_d21 = urllib.request.Request(url_schools_d21)\n",
    "html_schools_d21 = urllib.request.urlopen(request_schools_d21).read()"
   ]
  },
  {
   "cell_type": "code",
   "execution_count": 192,
   "metadata": {},
   "outputs": [],
   "source": [
    "# this will only give me the school names\n",
    "\n",
    "#pass the HTML to Beautifulsoup.\n",
    "soup_d21 = BeautifulSoup(html_schools_d21,'html.parser')\n",
    "main_table_d21 = soup_d21.find(\"div\",attrs={'class':'bsRTable'})\n",
    "school_names_d21 = main_table_d21.find_all(\"span\", class_=\"sName\")"
   ]
  },
  {
   "cell_type": "code",
   "execution_count": 193,
   "metadata": {},
   "outputs": [
    {
     "data": {
      "text/plain": [
       "40"
      ]
     },
     "execution_count": 193,
     "metadata": {},
     "output_type": "execute_result"
    }
   ],
   "source": [
    "schools_d21 = []\n",
    "for school in school_names_d21: \n",
    "    title = school.text\n",
    "    record = {\n",
    "        'School Name':title\n",
    "        }\n",
    "    schools_d21.append(record)\n",
    "# schools_d21\n",
    "len(schools_d21)"
   ]
  },
  {
   "cell_type": "code",
   "execution_count": 194,
   "metadata": {},
   "outputs": [],
   "source": [
    "# Make school list to a dataframe\n",
    "d21_schools = pd.DataFrame(schools_d21)"
   ]
  },
  {
   "cell_type": "code",
   "execution_count": 195,
   "metadata": {},
   "outputs": [
    {
     "name": "stdout",
     "output_type": "stream",
     "text": [
      "200\n"
     ]
    },
    {
     "data": {
      "text/plain": [
       "(50, 'https://www.schooldigger.com/go/NY/schools/0015201906/school.aspx')"
      ]
     },
     "execution_count": 195,
     "metadata": {},
     "output_type": "execute_result"
    }
   ],
   "source": [
    "# this gives me the links in the rows that go with the school names\n",
    "school_links_d21 = []\n",
    "link_list_d21 = main_table_d21.find_all('a',href=True)\n",
    "for data in link_list_d21:\n",
    "  link = data['href']\n",
    "  school_links_d21.append(link)\n",
    "print(len(school_links_d21))\n",
    "links_d21 = list(dict.fromkeys(school_links_d21)) # making a unique list from the dictionary of links\n",
    "len(links_d21), links_d21[0] # previewing size and first url"
   ]
  },
  {
   "cell_type": "code",
   "execution_count": 196,
   "metadata": {},
   "outputs": [],
   "source": [
    "# change the list to a dataframe to be able to filter out the links that I need and not the other links\n",
    "d21_links = pd.DataFrame(links_d21)"
   ]
  },
  {
   "cell_type": "code",
   "execution_count": 197,
   "metadata": {},
   "outputs": [],
   "source": [
    "links_needed_d21 = d21_links[d21_links[0].str.contains('https://www.schooldigger.com/go/NY/schools/')]"
   ]
  },
  {
   "cell_type": "code",
   "execution_count": 198,
   "metadata": {},
   "outputs": [
    {
     "data": {
      "text/plain": [
       "40"
      ]
     },
     "execution_count": 198,
     "metadata": {},
     "output_type": "execute_result"
    }
   ],
   "source": [
    "# this give me only the links as a list\n",
    "d21_list_links = links_needed_d21[0].values.tolist()\n",
    "len(d21_list_links)"
   ]
  },
  {
   "cell_type": "code",
   "execution_count": 199,
   "metadata": {},
   "outputs": [],
   "source": [
    "# split up the dataset to make it not time out\n",
    "extracted_records_d21 = []\n",
    "\n",
    "for each in d21_list_links:\n",
    "  # You can add a time sleep to pause between pulls\n",
    "\n",
    "\n",
    "  #download the URL and extract the content to the variable html \n",
    "  request_schools = urllib.request.Request(each)\n",
    "  html_schools = urllib.request.urlopen(request_schools).read()\n",
    "  soup = BeautifulSoup(html_schools,'html.parser')\n",
    "  table = soup.find_all('span', {'class':'bigOrange'})\n",
    "#   display(table)\n",
    "  enrollment_num = table[2]\n",
    "  ratio_num = table[1]\n",
    "  lunch_num = table[-1]\n",
    "  records = {\n",
    "        'Enrollment': enrollment_num.text,\n",
    "        'Student-Teacher Ratio': ratio_num.text,\n",
    "        'Free-Reduced Lunch': lunch_num.text\n",
    "        }\n",
    "  extracted_records_d21.append(records)"
   ]
  },
  {
   "cell_type": "code",
   "execution_count": 200,
   "metadata": {},
   "outputs": [
    {
     "name": "stdout",
     "output_type": "stream",
     "text": [
      "40\n",
      "40\n"
     ]
    }
   ],
   "source": [
    "# checking the lens of everything to make sure it's ok\n",
    "print(len(extracted_records_d21))\n",
    "print(len(d21_list_links))"
   ]
  },
  {
   "cell_type": "code",
   "execution_count": 202,
   "metadata": {},
   "outputs": [
    {
     "data": {
      "text/html": [
       "<div>\n",
       "<style scoped>\n",
       "    .dataframe tbody tr th:only-of-type {\n",
       "        vertical-align: middle;\n",
       "    }\n",
       "\n",
       "    .dataframe tbody tr th {\n",
       "        vertical-align: top;\n",
       "    }\n",
       "\n",
       "    .dataframe thead th {\n",
       "        text-align: right;\n",
       "    }\n",
       "</style>\n",
       "<table border=\"1\" class=\"dataframe\">\n",
       "  <thead>\n",
       "    <tr style=\"text-align: right;\">\n",
       "      <th></th>\n",
       "      <th>Enrollment</th>\n",
       "      <th>Student-Teacher Ratio</th>\n",
       "      <th>Free-Reduced Lunch</th>\n",
       "    </tr>\n",
       "  </thead>\n",
       "  <tbody>\n",
       "    <tr>\n",
       "      <td>33</td>\n",
       "      <td>89.5%</td>\n",
       "      <td>331</td>\n",
       "      <td>94.3%</td>\n",
       "    </tr>\n",
       "    <tr>\n",
       "      <td>34</td>\n",
       "      <td>637</td>\n",
       "      <td>18.5</td>\n",
       "      <td>67.5%</td>\n",
       "    </tr>\n",
       "    <tr>\n",
       "      <td>35</td>\n",
       "      <td>247</td>\n",
       "      <td>18.9</td>\n",
       "      <td>80.6%</td>\n",
       "    </tr>\n",
       "    <tr>\n",
       "      <td>36</td>\n",
       "      <td>656</td>\n",
       "      <td>16.8</td>\n",
       "      <td>71.3%</td>\n",
       "    </tr>\n",
       "    <tr>\n",
       "      <td>37</td>\n",
       "      <td>302</td>\n",
       "      <td>14.3</td>\n",
       "      <td>77.2%</td>\n",
       "    </tr>\n",
       "    <tr>\n",
       "      <td>38</td>\n",
       "      <td>94.2%</td>\n",
       "      <td>340</td>\n",
       "      <td>82.1%</td>\n",
       "    </tr>\n",
       "  </tbody>\n",
       "</table>\n",
       "</div>"
      ],
      "text/plain": [
       "   Enrollment Student-Teacher Ratio Free-Reduced Lunch\n",
       "33      89.5%                   331              94.3%\n",
       "34        637                  18.5              67.5%\n",
       "35        247                  18.9              80.6%\n",
       "36        656                  16.8              71.3%\n",
       "37        302                  14.3              77.2%\n",
       "38      94.2%                   340              82.1%"
      ]
     },
     "execution_count": 202,
     "metadata": {},
     "output_type": "execute_result"
    }
   ],
   "source": [
    "# make extracted_records_d1 to a dataframe\n",
    "d21_df = pd.DataFrame(extracted_records_d21)\n",
    "d21_df[33:39]\n",
    "# looking through the data - need to replace a few numbers with it's correct numbers"
   ]
  },
  {
   "cell_type": "code",
   "execution_count": 203,
   "metadata": {},
   "outputs": [
    {
     "data": {
      "text/html": [
       "<div>\n",
       "<style scoped>\n",
       "    .dataframe tbody tr th:only-of-type {\n",
       "        vertical-align: middle;\n",
       "    }\n",
       "\n",
       "    .dataframe tbody tr th {\n",
       "        vertical-align: top;\n",
       "    }\n",
       "\n",
       "    .dataframe thead th {\n",
       "        text-align: right;\n",
       "    }\n",
       "</style>\n",
       "<table border=\"1\" class=\"dataframe\">\n",
       "  <thead>\n",
       "    <tr style=\"text-align: right;\">\n",
       "      <th></th>\n",
       "      <th>School Name</th>\n",
       "    </tr>\n",
       "  </thead>\n",
       "  <tbody>\n",
       "    <tr>\n",
       "      <td>33</td>\n",
       "      <td>International High School At Lafayette</td>\n",
       "    </tr>\n",
       "    <tr>\n",
       "      <td>34</td>\n",
       "      <td>Rachel Carson High School For Coastal Studies</td>\n",
       "    </tr>\n",
       "    <tr>\n",
       "      <td>35</td>\n",
       "      <td>High School Of Sports Management</td>\n",
       "    </tr>\n",
       "    <tr>\n",
       "      <td>36</td>\n",
       "      <td>Kingsborough Early College School</td>\n",
       "    </tr>\n",
       "    <tr>\n",
       "      <td>37</td>\n",
       "      <td>Life Academy High School For Film And Music</td>\n",
       "    </tr>\n",
       "    <tr>\n",
       "      <td>38</td>\n",
       "      <td>Expeditionary Learning School For Community Le...</td>\n",
       "    </tr>\n",
       "  </tbody>\n",
       "</table>\n",
       "</div>"
      ],
      "text/plain": [
       "                                          School Name\n",
       "33             International High School At Lafayette\n",
       "34      Rachel Carson High School For Coastal Studies\n",
       "35                   High School Of Sports Management\n",
       "36                  Kingsborough Early College School\n",
       "37        Life Academy High School For Film And Music\n",
       "38  Expeditionary Learning School For Community Le..."
      ]
     },
     "execution_count": 203,
     "metadata": {},
     "output_type": "execute_result"
    }
   ],
   "source": [
    "d21_schools[33:39]"
   ]
  },
  {
   "cell_type": "code",
   "execution_count": 204,
   "metadata": {},
   "outputs": [],
   "source": [
    "d21_df.at[33,'Enrollment'] = 331\n",
    "d21_df.at[33,'Student-Teacher Ratio'] = 13.5\n",
    "d21_df.at[38,'Enrollment'] = 340\n",
    "d21_df.at[38,'Student-Teacher Ratio'] = 14.7"
   ]
  },
  {
   "cell_type": "code",
   "execution_count": 205,
   "metadata": {},
   "outputs": [
    {
     "data": {
      "text/html": [
       "<div>\n",
       "<style scoped>\n",
       "    .dataframe tbody tr th:only-of-type {\n",
       "        vertical-align: middle;\n",
       "    }\n",
       "\n",
       "    .dataframe tbody tr th {\n",
       "        vertical-align: top;\n",
       "    }\n",
       "\n",
       "    .dataframe thead th {\n",
       "        text-align: right;\n",
       "    }\n",
       "</style>\n",
       "<table border=\"1\" class=\"dataframe\">\n",
       "  <thead>\n",
       "    <tr style=\"text-align: right;\">\n",
       "      <th></th>\n",
       "      <th>Enrollment</th>\n",
       "      <th>Student-Teacher Ratio</th>\n",
       "      <th>Free-Reduced Lunch</th>\n",
       "    </tr>\n",
       "  </thead>\n",
       "  <tbody>\n",
       "    <tr>\n",
       "      <td>33</td>\n",
       "      <td>331</td>\n",
       "      <td>13.5</td>\n",
       "      <td>94.3%</td>\n",
       "    </tr>\n",
       "    <tr>\n",
       "      <td>34</td>\n",
       "      <td>637</td>\n",
       "      <td>18.5</td>\n",
       "      <td>67.5%</td>\n",
       "    </tr>\n",
       "    <tr>\n",
       "      <td>35</td>\n",
       "      <td>247</td>\n",
       "      <td>18.9</td>\n",
       "      <td>80.6%</td>\n",
       "    </tr>\n",
       "    <tr>\n",
       "      <td>36</td>\n",
       "      <td>656</td>\n",
       "      <td>16.8</td>\n",
       "      <td>71.3%</td>\n",
       "    </tr>\n",
       "    <tr>\n",
       "      <td>37</td>\n",
       "      <td>302</td>\n",
       "      <td>14.3</td>\n",
       "      <td>77.2%</td>\n",
       "    </tr>\n",
       "    <tr>\n",
       "      <td>38</td>\n",
       "      <td>340</td>\n",
       "      <td>14.7</td>\n",
       "      <td>82.1%</td>\n",
       "    </tr>\n",
       "  </tbody>\n",
       "</table>\n",
       "</div>"
      ],
      "text/plain": [
       "   Enrollment Student-Teacher Ratio Free-Reduced Lunch\n",
       "33        331                  13.5              94.3%\n",
       "34        637                  18.5              67.5%\n",
       "35        247                  18.9              80.6%\n",
       "36        656                  16.8              71.3%\n",
       "37        302                  14.3              77.2%\n",
       "38        340                  14.7              82.1%"
      ]
     },
     "execution_count": 205,
     "metadata": {},
     "output_type": "execute_result"
    }
   ],
   "source": [
    "d21_df[33:39]"
   ]
  },
  {
   "cell_type": "code",
   "execution_count": 206,
   "metadata": {},
   "outputs": [
    {
     "data": {
      "text/html": [
       "<div>\n",
       "<style scoped>\n",
       "    .dataframe tbody tr th:only-of-type {\n",
       "        vertical-align: middle;\n",
       "    }\n",
       "\n",
       "    .dataframe tbody tr th {\n",
       "        vertical-align: top;\n",
       "    }\n",
       "\n",
       "    .dataframe thead th {\n",
       "        text-align: right;\n",
       "    }\n",
       "</style>\n",
       "<table border=\"1\" class=\"dataframe\">\n",
       "  <thead>\n",
       "    <tr style=\"text-align: right;\">\n",
       "      <th></th>\n",
       "      <th>School Name</th>\n",
       "      <th>Enrollment</th>\n",
       "      <th>Student-Teacher Ratio</th>\n",
       "      <th>Free-Reduced Lunch</th>\n",
       "    </tr>\n",
       "  </thead>\n",
       "  <tbody>\n",
       "    <tr>\n",
       "      <td>33</td>\n",
       "      <td>International High School At Lafayette</td>\n",
       "      <td>331</td>\n",
       "      <td>13.5</td>\n",
       "      <td>94.3%</td>\n",
       "    </tr>\n",
       "    <tr>\n",
       "      <td>34</td>\n",
       "      <td>Rachel Carson High School For Coastal Studies</td>\n",
       "      <td>637</td>\n",
       "      <td>18.5</td>\n",
       "      <td>67.5%</td>\n",
       "    </tr>\n",
       "    <tr>\n",
       "      <td>35</td>\n",
       "      <td>High School Of Sports Management</td>\n",
       "      <td>247</td>\n",
       "      <td>18.9</td>\n",
       "      <td>80.6%</td>\n",
       "    </tr>\n",
       "    <tr>\n",
       "      <td>36</td>\n",
       "      <td>Kingsborough Early College School</td>\n",
       "      <td>656</td>\n",
       "      <td>16.8</td>\n",
       "      <td>71.3%</td>\n",
       "    </tr>\n",
       "    <tr>\n",
       "      <td>37</td>\n",
       "      <td>Life Academy High School For Film And Music</td>\n",
       "      <td>302</td>\n",
       "      <td>14.3</td>\n",
       "      <td>77.2%</td>\n",
       "    </tr>\n",
       "    <tr>\n",
       "      <td>38</td>\n",
       "      <td>Expeditionary Learning School For Community Le...</td>\n",
       "      <td>340</td>\n",
       "      <td>14.7</td>\n",
       "      <td>82.1%</td>\n",
       "    </tr>\n",
       "  </tbody>\n",
       "</table>\n",
       "</div>"
      ],
      "text/plain": [
       "                                          School Name Enrollment  \\\n",
       "33             International High School At Lafayette        331   \n",
       "34      Rachel Carson High School For Coastal Studies        637   \n",
       "35                   High School Of Sports Management        247   \n",
       "36                  Kingsborough Early College School        656   \n",
       "37        Life Academy High School For Film And Music        302   \n",
       "38  Expeditionary Learning School For Community Le...        340   \n",
       "\n",
       "   Student-Teacher Ratio Free-Reduced Lunch  \n",
       "33                  13.5              94.3%  \n",
       "34                  18.5              67.5%  \n",
       "35                  18.9              80.6%  \n",
       "36                  16.8              71.3%  \n",
       "37                  14.3              77.2%  \n",
       "38                  14.7              82.1%  "
      ]
     },
     "execution_count": 206,
     "metadata": {},
     "output_type": "execute_result"
    }
   ],
   "source": [
    "district_21 = pd.concat([d21_schools, d21_df], axis=1)\n",
    "district_21[33:39]"
   ]
  },
  {
   "cell_type": "code",
   "execution_count": 207,
   "metadata": {},
   "outputs": [],
   "source": [
    "# make df a csv file to be able to work with later\n",
    "# saving the dataframe \n",
    "district_21.to_csv('district_21.csv')"
   ]
  },
  {
   "cell_type": "markdown",
   "metadata": {},
   "source": [
    "### **New York District 22**"
   ]
  },
  {
   "cell_type": "code",
   "execution_count": 208,
   "metadata": {},
   "outputs": [],
   "source": [
    "# get the url of the site that you need (multiple urls now because I found the different districts)\n",
    "url_schools_d22 = \"https://www.schooldigger.com/go/NY/district/00153/search.aspx\"\n",
    "#download the URL and extract the content to the variable html \n",
    "request_schools_d22 = urllib.request.Request(url_schools_d22)\n",
    "html_schools_d22 = urllib.request.urlopen(request_schools_d22).read()"
   ]
  },
  {
   "cell_type": "code",
   "execution_count": 209,
   "metadata": {},
   "outputs": [],
   "source": [
    "# this will only give me the school names\n",
    "\n",
    "#pass the HTML to Beautifulsoup.\n",
    "soup_d22 = BeautifulSoup(html_schools_d22,'html.parser')\n",
    "main_table_d22 = soup_d22.find(\"div\",attrs={'class':'bsRTable'})\n",
    "school_names_d22 = main_table_d22.find_all(\"span\", class_=\"sName\")"
   ]
  },
  {
   "cell_type": "code",
   "execution_count": 210,
   "metadata": {},
   "outputs": [
    {
     "data": {
      "text/plain": [
       "40"
      ]
     },
     "execution_count": 210,
     "metadata": {},
     "output_type": "execute_result"
    }
   ],
   "source": [
    "schools_d22 = []\n",
    "for school in school_names_d22: \n",
    "    title = school.text\n",
    "    record = {\n",
    "        'School Name':title\n",
    "        }\n",
    "    schools_d22.append(record)\n",
    "# schools_d22\n",
    "len(schools_d22)"
   ]
  },
  {
   "cell_type": "code",
   "execution_count": 211,
   "metadata": {},
   "outputs": [],
   "source": [
    "# Make school list to a dataframe\n",
    "d22_schools = pd.DataFrame(schools_d22)"
   ]
  },
  {
   "cell_type": "code",
   "execution_count": 212,
   "metadata": {},
   "outputs": [
    {
     "name": "stdout",
     "output_type": "stream",
     "text": [
      "200\n"
     ]
    },
    {
     "data": {
      "text/plain": [
       "(50, 'https://www.schooldigger.com/go/NY/schools/0015300800/school.aspx')"
      ]
     },
     "execution_count": 212,
     "metadata": {},
     "output_type": "execute_result"
    }
   ],
   "source": [
    "# this gives me the links in the rows that go with the school names\n",
    "school_links_d22 = []\n",
    "link_list_d22 = main_table_d22.find_all('a',href=True)\n",
    "for data in link_list_d22:\n",
    "  link = data['href']\n",
    "  school_links_d22.append(link)\n",
    "print(len(school_links_d22))\n",
    "links_d22 = list(dict.fromkeys(school_links_d22)) # making a unique list from the dictionary of links\n",
    "len(links_d22), links_d22[0] # previewing size and first url"
   ]
  },
  {
   "cell_type": "code",
   "execution_count": 214,
   "metadata": {},
   "outputs": [],
   "source": [
    "# change the list to a dataframe to be able to filter out the links that I need and not the other links\n",
    "d22_links = pd.DataFrame(links_d22)"
   ]
  },
  {
   "cell_type": "code",
   "execution_count": 215,
   "metadata": {},
   "outputs": [],
   "source": [
    "links_needed_d22 = d22_links[d22_links[0].str.contains('https://www.schooldigger.com/go/NY/schools/')]"
   ]
  },
  {
   "cell_type": "code",
   "execution_count": 216,
   "metadata": {},
   "outputs": [
    {
     "data": {
      "text/plain": [
       "40"
      ]
     },
     "execution_count": 216,
     "metadata": {},
     "output_type": "execute_result"
    }
   ],
   "source": [
    "# this give me only the links as a list\n",
    "d22_list_links = links_needed_d22[0].values.tolist()\n",
    "len(d22_list_links)"
   ]
  },
  {
   "cell_type": "code",
   "execution_count": 217,
   "metadata": {},
   "outputs": [],
   "source": [
    "# split up the dataset to make it not time out\n",
    "extracted_records_d22 = []\n",
    "\n",
    "for each in d22_list_links:\n",
    "  # You can add a time sleep to pause between pulls\n",
    "\n",
    "\n",
    "  #download the URL and extract the content to the variable html \n",
    "  request_schools = urllib.request.Request(each)\n",
    "  html_schools = urllib.request.urlopen(request_schools).read()\n",
    "  soup = BeautifulSoup(html_schools,'html.parser')\n",
    "  table = soup.find_all('span', {'class':'bigOrange'})\n",
    "#   display(table)\n",
    "  enrollment_num = table[2]\n",
    "  ratio_num = table[1]\n",
    "  lunch_num = table[-1]\n",
    "  records = {\n",
    "        'Enrollment': enrollment_num.text,\n",
    "        'Student-Teacher Ratio': ratio_num.text,\n",
    "        'Free-Reduced Lunch': lunch_num.text\n",
    "        }\n",
    "  extracted_records_d22.append(records)"
   ]
  },
  {
   "cell_type": "code",
   "execution_count": 218,
   "metadata": {},
   "outputs": [
    {
     "name": "stdout",
     "output_type": "stream",
     "text": [
      "40\n",
      "40\n"
     ]
    }
   ],
   "source": [
    "# checking the lens of everything to make sure it's ok\n",
    "print(len(extracted_records_d22))\n",
    "print(len(d22_list_links))"
   ]
  },
  {
   "cell_type": "code",
   "execution_count": 220,
   "metadata": {},
   "outputs": [
    {
     "data": {
      "text/html": [
       "<div>\n",
       "<style scoped>\n",
       "    .dataframe tbody tr th:only-of-type {\n",
       "        vertical-align: middle;\n",
       "    }\n",
       "\n",
       "    .dataframe tbody tr th {\n",
       "        vertical-align: top;\n",
       "    }\n",
       "\n",
       "    .dataframe thead th {\n",
       "        text-align: right;\n",
       "    }\n",
       "</style>\n",
       "<table border=\"1\" class=\"dataframe\">\n",
       "  <thead>\n",
       "    <tr style=\"text-align: right;\">\n",
       "      <th></th>\n",
       "      <th>Enrollment</th>\n",
       "      <th>Student-Teacher Ratio</th>\n",
       "      <th>Free-Reduced Lunch</th>\n",
       "    </tr>\n",
       "  </thead>\n",
       "  <tbody>\n",
       "    <tr>\n",
       "      <td>34</td>\n",
       "      <td>99.1%</td>\n",
       "      <td>190</td>\n",
       "      <td>84.2%</td>\n",
       "    </tr>\n",
       "    <tr>\n",
       "      <td>35</td>\n",
       "      <td>427</td>\n",
       "      <td>12.9</td>\n",
       "      <td>75.6%</td>\n",
       "    </tr>\n",
       "    <tr>\n",
       "      <td>36</td>\n",
       "      <td>197</td>\n",
       "      <td>11.5</td>\n",
       "      <td>80.7%</td>\n",
       "    </tr>\n",
       "    <tr>\n",
       "      <td>37</td>\n",
       "      <td>33.7%</td>\n",
       "      <td>83</td>\n",
       "      <td>73.5%</td>\n",
       "    </tr>\n",
       "  </tbody>\n",
       "</table>\n",
       "</div>"
      ],
      "text/plain": [
       "   Enrollment Student-Teacher Ratio Free-Reduced Lunch\n",
       "34      99.1%                   190              84.2%\n",
       "35        427                  12.9              75.6%\n",
       "36        197                  11.5              80.7%\n",
       "37      33.7%                    83              73.5%"
      ]
     },
     "execution_count": 220,
     "metadata": {},
     "output_type": "execute_result"
    }
   ],
   "source": [
    "# make extracted_records_d1 to a dataframe\n",
    "d22_df = pd.DataFrame(extracted_records_d22)\n",
    "d22_df[34:38]\n",
    "# looking through the data - need to replace a few numbers with it's correct numbers"
   ]
  },
  {
   "cell_type": "code",
   "execution_count": 221,
   "metadata": {},
   "outputs": [
    {
     "data": {
      "text/html": [
       "<div>\n",
       "<style scoped>\n",
       "    .dataframe tbody tr th:only-of-type {\n",
       "        vertical-align: middle;\n",
       "    }\n",
       "\n",
       "    .dataframe tbody tr th {\n",
       "        vertical-align: top;\n",
       "    }\n",
       "\n",
       "    .dataframe thead th {\n",
       "        text-align: right;\n",
       "    }\n",
       "</style>\n",
       "<table border=\"1\" class=\"dataframe\">\n",
       "  <thead>\n",
       "    <tr style=\"text-align: right;\">\n",
       "      <th></th>\n",
       "      <th>School Name</th>\n",
       "    </tr>\n",
       "  </thead>\n",
       "  <tbody>\n",
       "    <tr>\n",
       "      <td>34</td>\n",
       "      <td>Ps 326</td>\n",
       "    </tr>\n",
       "    <tr>\n",
       "      <td>35</td>\n",
       "      <td>Origins High School</td>\n",
       "    </tr>\n",
       "    <tr>\n",
       "      <td>36</td>\n",
       "      <td>Professional Pathways High School</td>\n",
       "    </tr>\n",
       "    <tr>\n",
       "      <td>37</td>\n",
       "      <td>Ps 889</td>\n",
       "    </tr>\n",
       "  </tbody>\n",
       "</table>\n",
       "</div>"
      ],
      "text/plain": [
       "                          School Name\n",
       "34                             Ps 326\n",
       "35                Origins High School\n",
       "36  Professional Pathways High School\n",
       "37                             Ps 889"
      ]
     },
     "execution_count": 221,
     "metadata": {},
     "output_type": "execute_result"
    }
   ],
   "source": [
    "d22_schools[34:38]"
   ]
  },
  {
   "cell_type": "code",
   "execution_count": 222,
   "metadata": {},
   "outputs": [],
   "source": [
    "d22_df.at[34,'Enrollment'] = 190\n",
    "d22_df.at[34,'Student-Teacher Ratio'] = 13.5\n",
    "d22_df.at[37,'Enrollment'] = 83\n",
    "d22_df.at[37,'Student-Teacher Ratio'] = 9.2"
   ]
  },
  {
   "cell_type": "code",
   "execution_count": 223,
   "metadata": {},
   "outputs": [
    {
     "data": {
      "text/html": [
       "<div>\n",
       "<style scoped>\n",
       "    .dataframe tbody tr th:only-of-type {\n",
       "        vertical-align: middle;\n",
       "    }\n",
       "\n",
       "    .dataframe tbody tr th {\n",
       "        vertical-align: top;\n",
       "    }\n",
       "\n",
       "    .dataframe thead th {\n",
       "        text-align: right;\n",
       "    }\n",
       "</style>\n",
       "<table border=\"1\" class=\"dataframe\">\n",
       "  <thead>\n",
       "    <tr style=\"text-align: right;\">\n",
       "      <th></th>\n",
       "      <th>Enrollment</th>\n",
       "      <th>Student-Teacher Ratio</th>\n",
       "      <th>Free-Reduced Lunch</th>\n",
       "    </tr>\n",
       "  </thead>\n",
       "  <tbody>\n",
       "    <tr>\n",
       "      <td>34</td>\n",
       "      <td>190</td>\n",
       "      <td>13.5</td>\n",
       "      <td>84.2%</td>\n",
       "    </tr>\n",
       "    <tr>\n",
       "      <td>35</td>\n",
       "      <td>427</td>\n",
       "      <td>12.9</td>\n",
       "      <td>75.6%</td>\n",
       "    </tr>\n",
       "    <tr>\n",
       "      <td>36</td>\n",
       "      <td>197</td>\n",
       "      <td>11.5</td>\n",
       "      <td>80.7%</td>\n",
       "    </tr>\n",
       "    <tr>\n",
       "      <td>37</td>\n",
       "      <td>83</td>\n",
       "      <td>9.2</td>\n",
       "      <td>73.5%</td>\n",
       "    </tr>\n",
       "  </tbody>\n",
       "</table>\n",
       "</div>"
      ],
      "text/plain": [
       "   Enrollment Student-Teacher Ratio Free-Reduced Lunch\n",
       "34        190                  13.5              84.2%\n",
       "35        427                  12.9              75.6%\n",
       "36        197                  11.5              80.7%\n",
       "37         83                   9.2              73.5%"
      ]
     },
     "execution_count": 223,
     "metadata": {},
     "output_type": "execute_result"
    }
   ],
   "source": [
    "d22_df[34:38]"
   ]
  },
  {
   "cell_type": "code",
   "execution_count": 224,
   "metadata": {},
   "outputs": [
    {
     "data": {
      "text/html": [
       "<div>\n",
       "<style scoped>\n",
       "    .dataframe tbody tr th:only-of-type {\n",
       "        vertical-align: middle;\n",
       "    }\n",
       "\n",
       "    .dataframe tbody tr th {\n",
       "        vertical-align: top;\n",
       "    }\n",
       "\n",
       "    .dataframe thead th {\n",
       "        text-align: right;\n",
       "    }\n",
       "</style>\n",
       "<table border=\"1\" class=\"dataframe\">\n",
       "  <thead>\n",
       "    <tr style=\"text-align: right;\">\n",
       "      <th></th>\n",
       "      <th>School Name</th>\n",
       "      <th>Enrollment</th>\n",
       "      <th>Student-Teacher Ratio</th>\n",
       "      <th>Free-Reduced Lunch</th>\n",
       "    </tr>\n",
       "  </thead>\n",
       "  <tbody>\n",
       "    <tr>\n",
       "      <td>34</td>\n",
       "      <td>Ps 326</td>\n",
       "      <td>190</td>\n",
       "      <td>13.5</td>\n",
       "      <td>84.2%</td>\n",
       "    </tr>\n",
       "    <tr>\n",
       "      <td>35</td>\n",
       "      <td>Origins High School</td>\n",
       "      <td>427</td>\n",
       "      <td>12.9</td>\n",
       "      <td>75.6%</td>\n",
       "    </tr>\n",
       "    <tr>\n",
       "      <td>36</td>\n",
       "      <td>Professional Pathways High School</td>\n",
       "      <td>197</td>\n",
       "      <td>11.5</td>\n",
       "      <td>80.7%</td>\n",
       "    </tr>\n",
       "    <tr>\n",
       "      <td>37</td>\n",
       "      <td>Ps 889</td>\n",
       "      <td>83</td>\n",
       "      <td>9.2</td>\n",
       "      <td>73.5%</td>\n",
       "    </tr>\n",
       "  </tbody>\n",
       "</table>\n",
       "</div>"
      ],
      "text/plain": [
       "                          School Name Enrollment Student-Teacher Ratio  \\\n",
       "34                             Ps 326        190                  13.5   \n",
       "35                Origins High School        427                  12.9   \n",
       "36  Professional Pathways High School        197                  11.5   \n",
       "37                             Ps 889         83                   9.2   \n",
       "\n",
       "   Free-Reduced Lunch  \n",
       "34              84.2%  \n",
       "35              75.6%  \n",
       "36              80.7%  \n",
       "37              73.5%  "
      ]
     },
     "execution_count": 224,
     "metadata": {},
     "output_type": "execute_result"
    }
   ],
   "source": [
    "district_22 = pd.concat([d22_schools, d22_df], axis=1)\n",
    "district_22[34:38]"
   ]
  },
  {
   "cell_type": "code",
   "execution_count": 225,
   "metadata": {},
   "outputs": [],
   "source": [
    "# make df a csv file to be able to work with later\n",
    "# saving the dataframe \n",
    "district_22.to_csv('district_22.csv')"
   ]
  },
  {
   "cell_type": "markdown",
   "metadata": {},
   "source": [
    "### **New York District 23**"
   ]
  },
  {
   "cell_type": "code",
   "execution_count": 226,
   "metadata": {},
   "outputs": [],
   "source": [
    "# get the url of the site that you need (multiple urls now because I found the different districts)\n",
    "url_schools_d23 = \"https://www.schooldigger.com/go/NY/district/00121/search.aspx\"\n",
    "#download the URL and extract the content to the variable html \n",
    "request_schools_d23 = urllib.request.Request(url_schools_d23)\n",
    "html_schools_d23 = urllib.request.urlopen(request_schools_d23).read()"
   ]
  },
  {
   "cell_type": "code",
   "execution_count": 227,
   "metadata": {},
   "outputs": [],
   "source": [
    "# this will only give me the school names\n",
    "\n",
    "#pass the HTML to Beautifulsoup.\n",
    "soup_d23 = BeautifulSoup(html_schools_d23,'html.parser')\n",
    "main_table_d23 = soup_d23.find(\"div\",attrs={'class':'bsRTable'})\n",
    "school_names_d23 = main_table_d23.find_all(\"span\", class_=\"sName\")"
   ]
  },
  {
   "cell_type": "code",
   "execution_count": 228,
   "metadata": {},
   "outputs": [
    {
     "data": {
      "text/plain": [
       "29"
      ]
     },
     "execution_count": 228,
     "metadata": {},
     "output_type": "execute_result"
    }
   ],
   "source": [
    "schools_d23 = []\n",
    "for school in school_names_d23: \n",
    "    title = school.text\n",
    "    record = {\n",
    "        'School Name':title\n",
    "        }\n",
    "    schools_d23.append(record)\n",
    "# schools_d23\n",
    "len(schools_d23)"
   ]
  },
  {
   "cell_type": "code",
   "execution_count": 229,
   "metadata": {},
   "outputs": [],
   "source": [
    "# Make school list to a dataframe\n",
    "d23_schools = pd.DataFrame(schools_d23)"
   ]
  },
  {
   "cell_type": "code",
   "execution_count": 230,
   "metadata": {},
   "outputs": [
    {
     "name": "stdout",
     "output_type": "stream",
     "text": [
      "145\n"
     ]
    },
    {
     "data": {
      "text/plain": [
       "(35, 'https://www.schooldigger.com/go/NY/schools/0012102182/school.aspx')"
      ]
     },
     "execution_count": 230,
     "metadata": {},
     "output_type": "execute_result"
    }
   ],
   "source": [
    "# this gives me the links in the rows that go with the school names\n",
    "school_links_d23 = []\n",
    "link_list_d23 = main_table_d23.find_all('a',href=True)\n",
    "for data in link_list_d23:\n",
    "  link = data['href']\n",
    "  school_links_d23.append(link)\n",
    "print(len(school_links_d23))\n",
    "links_d23 = list(dict.fromkeys(school_links_d23)) # making a unique list from the dictionary of links\n",
    "len(links_d23), links_d23[0] # previewing size and first url"
   ]
  },
  {
   "cell_type": "code",
   "execution_count": 232,
   "metadata": {},
   "outputs": [],
   "source": [
    "# change the list to a dataframe to be able to filter out the links that I need and not the other links\n",
    "d23_links = pd.DataFrame(links_d23)"
   ]
  },
  {
   "cell_type": "code",
   "execution_count": 233,
   "metadata": {},
   "outputs": [],
   "source": [
    "links_needed_d23 = d23_links[d23_links[0].str.contains('https://www.schooldigger.com/go/NY/schools/')]"
   ]
  },
  {
   "cell_type": "code",
   "execution_count": 234,
   "metadata": {},
   "outputs": [
    {
     "data": {
      "text/plain": [
       "29"
      ]
     },
     "execution_count": 234,
     "metadata": {},
     "output_type": "execute_result"
    }
   ],
   "source": [
    "# this give me only the links as a list\n",
    "d23_list_links = links_needed_d23[0].values.tolist()\n",
    "len(d23_list_links)"
   ]
  },
  {
   "cell_type": "code",
   "execution_count": 235,
   "metadata": {},
   "outputs": [],
   "source": [
    "# split up the dataset to make it not time out\n",
    "extracted_records_d23 = []\n",
    "\n",
    "for each in d23_list_links:\n",
    "  # You can add a time sleep to pause between pulls\n",
    "\n",
    "\n",
    "  #download the URL and extract the content to the variable html \n",
    "  request_schools = urllib.request.Request(each)\n",
    "  html_schools = urllib.request.urlopen(request_schools).read()\n",
    "  soup = BeautifulSoup(html_schools,'html.parser')\n",
    "  table = soup.find_all('span', {'class':'bigOrange'})\n",
    "#   display(table)\n",
    "  enrollment_num = table[2]\n",
    "  ratio_num = table[1]\n",
    "  lunch_num = table[-1]\n",
    "  records = {\n",
    "        'Enrollment': enrollment_num.text,\n",
    "        'Student-Teacher Ratio': ratio_num.text,\n",
    "        'Free-Reduced Lunch': lunch_num.text\n",
    "        }\n",
    "  extracted_records_d23.append(records)"
   ]
  },
  {
   "cell_type": "code",
   "execution_count": 236,
   "metadata": {},
   "outputs": [
    {
     "name": "stdout",
     "output_type": "stream",
     "text": [
      "29\n",
      "29\n"
     ]
    }
   ],
   "source": [
    "# checking the lens of everything to make sure it's ok\n",
    "print(len(extracted_records_d23))\n",
    "print(len(d23_list_links))"
   ]
  },
  {
   "cell_type": "code",
   "execution_count": 238,
   "metadata": {},
   "outputs": [
    {
     "data": {
      "text/html": [
       "<div>\n",
       "<style scoped>\n",
       "    .dataframe tbody tr th:only-of-type {\n",
       "        vertical-align: middle;\n",
       "    }\n",
       "\n",
       "    .dataframe tbody tr th {\n",
       "        vertical-align: top;\n",
       "    }\n",
       "\n",
       "    .dataframe thead th {\n",
       "        text-align: right;\n",
       "    }\n",
       "</style>\n",
       "<table border=\"1\" class=\"dataframe\">\n",
       "  <thead>\n",
       "    <tr style=\"text-align: right;\">\n",
       "      <th></th>\n",
       "      <th>Enrollment</th>\n",
       "      <th>Student-Teacher Ratio</th>\n",
       "      <th>Free-Reduced Lunch</th>\n",
       "    </tr>\n",
       "  </thead>\n",
       "  <tbody>\n",
       "    <tr>\n",
       "      <td>0</td>\n",
       "      <td>461</td>\n",
       "      <td>11.8</td>\n",
       "      <td>98.3%</td>\n",
       "    </tr>\n",
       "  </tbody>\n",
       "</table>\n",
       "</div>"
      ],
      "text/plain": [
       "  Enrollment Student-Teacher Ratio Free-Reduced Lunch\n",
       "0        461                  11.8              98.3%"
      ]
     },
     "execution_count": 238,
     "metadata": {},
     "output_type": "execute_result"
    }
   ],
   "source": [
    "# make extracted_records_d1 to a dataframe\n",
    "d23_df = pd.DataFrame(extracted_records_d23)\n",
    "d23_df.head(1)\n",
    "# looking through the data - need to replace a few numbers with it's correct numbers"
   ]
  },
  {
   "cell_type": "code",
   "execution_count": 239,
   "metadata": {},
   "outputs": [
    {
     "data": {
      "text/html": [
       "<div>\n",
       "<style scoped>\n",
       "    .dataframe tbody tr th:only-of-type {\n",
       "        vertical-align: middle;\n",
       "    }\n",
       "\n",
       "    .dataframe tbody tr th {\n",
       "        vertical-align: top;\n",
       "    }\n",
       "\n",
       "    .dataframe thead th {\n",
       "        text-align: right;\n",
       "    }\n",
       "</style>\n",
       "<table border=\"1\" class=\"dataframe\">\n",
       "  <thead>\n",
       "    <tr style=\"text-align: right;\">\n",
       "      <th></th>\n",
       "      <th>School Name</th>\n",
       "      <th>Enrollment</th>\n",
       "      <th>Student-Teacher Ratio</th>\n",
       "      <th>Free-Reduced Lunch</th>\n",
       "    </tr>\n",
       "  </thead>\n",
       "  <tbody>\n",
       "    <tr>\n",
       "      <td>0</td>\n",
       "      <td>Ps 41 Francis White</td>\n",
       "      <td>461</td>\n",
       "      <td>11.8</td>\n",
       "      <td>98.3%</td>\n",
       "    </tr>\n",
       "    <tr>\n",
       "      <td>1</td>\n",
       "      <td>Ps/Is 137 Rachael Jean Mitchell</td>\n",
       "      <td>304</td>\n",
       "      <td>11.2</td>\n",
       "      <td>92.8%</td>\n",
       "    </tr>\n",
       "  </tbody>\n",
       "</table>\n",
       "</div>"
      ],
      "text/plain": [
       "                       School Name Enrollment Student-Teacher Ratio  \\\n",
       "0              Ps 41 Francis White        461                  11.8   \n",
       "1  Ps/Is 137 Rachael Jean Mitchell        304                  11.2   \n",
       "\n",
       "  Free-Reduced Lunch  \n",
       "0              98.3%  \n",
       "1              92.8%  "
      ]
     },
     "execution_count": 239,
     "metadata": {},
     "output_type": "execute_result"
    }
   ],
   "source": [
    "district_23 = pd.concat([d23_schools, d23_df], axis=1)\n",
    "district_23.head(2)"
   ]
  },
  {
   "cell_type": "code",
   "execution_count": 240,
   "metadata": {},
   "outputs": [],
   "source": [
    "# make df a csv file to be able to work with later\n",
    "# saving the dataframe \n",
    "district_23.to_csv('district_23.csv')"
   ]
  },
  {
   "cell_type": "markdown",
   "metadata": {},
   "source": [
    "### **New York District 24**"
   ]
  },
  {
   "cell_type": "code",
   "execution_count": 241,
   "metadata": {},
   "outputs": [],
   "source": [
    "# get the url of the site that you need (multiple urls now because I found the different districts)\n",
    "url_schools_d24 = \"https://www.schooldigger.com/go/NY/district/00098/search.aspx\"\n",
    "#download the URL and extract the content to the variable html \n",
    "request_schools_d24 = urllib.request.Request(url_schools_d24)\n",
    "html_schools_d24 = urllib.request.urlopen(request_schools_d24).read()"
   ]
  },
  {
   "cell_type": "code",
   "execution_count": 243,
   "metadata": {},
   "outputs": [],
   "source": [
    "# this will only give me the school names\n",
    "\n",
    "#pass the HTML to Beautifulsoup.\n",
    "soup_d24= BeautifulSoup(html_schools_d24,'html.parser')\n",
    "main_table_d24 = soup_d24.find(\"div\",attrs={'class':'bsRTable'})\n",
    "school_names_d24 = main_table_d24.find_all(\"span\", class_=\"sName\")"
   ]
  },
  {
   "cell_type": "code",
   "execution_count": 244,
   "metadata": {},
   "outputs": [
    {
     "data": {
      "text/plain": [
       "56"
      ]
     },
     "execution_count": 244,
     "metadata": {},
     "output_type": "execute_result"
    }
   ],
   "source": [
    "schools_d24 = []\n",
    "for school in school_names_d24: \n",
    "    title = school.text\n",
    "    record = {\n",
    "        'School Name':title\n",
    "        }\n",
    "    schools_d24.append(record)\n",
    "# schools_d24\n",
    "len(schools_d24)"
   ]
  },
  {
   "cell_type": "code",
   "execution_count": 245,
   "metadata": {},
   "outputs": [],
   "source": [
    "# Make school list to a dataframe\n",
    "d24_schools = pd.DataFrame(schools_d24)"
   ]
  },
  {
   "cell_type": "code",
   "execution_count": 246,
   "metadata": {},
   "outputs": [
    {
     "name": "stdout",
     "output_type": "stream",
     "text": [
      "280\n"
     ]
    },
    {
     "data": {
      "text/plain": [
       "(76, 'https://www.schooldigger.com/go/NY/schools/0009801406/school.aspx')"
      ]
     },
     "execution_count": 246,
     "metadata": {},
     "output_type": "execute_result"
    }
   ],
   "source": [
    "# this gives me the links in the rows that go with the school names\n",
    "school_links_d24 = []\n",
    "link_list_d24 = main_table_d24.find_all('a',href=True)\n",
    "for data in link_list_d24:\n",
    "  link = data['href']\n",
    "  school_links_d24.append(link)\n",
    "print(len(school_links_d24))\n",
    "links_d24 = list(dict.fromkeys(school_links_d24)) # making a unique list from the dictionary of links\n",
    "len(links_d24), links_d24[0] # previewing size and first url"
   ]
  },
  {
   "cell_type": "code",
   "execution_count": 247,
   "metadata": {},
   "outputs": [],
   "source": [
    "# change the list to a dataframe to be able to filter out the links that I need and not the other links\n",
    "d24_links = pd.DataFrame(links_d24)"
   ]
  },
  {
   "cell_type": "code",
   "execution_count": 248,
   "metadata": {},
   "outputs": [],
   "source": [
    "links_needed_d24 = d24_links[d24_links[0].str.contains('https://www.schooldigger.com/go/NY/schools/')]"
   ]
  },
  {
   "cell_type": "code",
   "execution_count": 249,
   "metadata": {},
   "outputs": [
    {
     "data": {
      "text/plain": [
       "56"
      ]
     },
     "execution_count": 249,
     "metadata": {},
     "output_type": "execute_result"
    }
   ],
   "source": [
    "# this give me only the links as a list\n",
    "d24_list_links = links_needed_d24[0].values.tolist()\n",
    "len(d24_list_links)"
   ]
  },
  {
   "cell_type": "code",
   "execution_count": 250,
   "metadata": {},
   "outputs": [],
   "source": [
    "# split up the dataset to make it not time out\n",
    "extracted_records_d24 = []\n",
    "\n",
    "for each in d24_list_links:\n",
    "  # You can add a time sleep to pause between pulls\n",
    "\n",
    "\n",
    "  #download the URL and extract the content to the variable html \n",
    "  request_schools = urllib.request.Request(each)\n",
    "  html_schools = urllib.request.urlopen(request_schools).read()\n",
    "  soup = BeautifulSoup(html_schools,'html.parser')\n",
    "  table = soup.find_all('span', {'class':'bigOrange'})\n",
    "#   display(table)\n",
    "  enrollment_num = table[2]\n",
    "  ratio_num = table[1]\n",
    "  lunch_num = table[-1]\n",
    "  records = {\n",
    "        'Enrollment': enrollment_num.text,\n",
    "        'Student-Teacher Ratio': ratio_num.text,\n",
    "        'Free-Reduced Lunch': lunch_num.text\n",
    "        }\n",
    "  extracted_records_d24.append(records)"
   ]
  },
  {
   "cell_type": "code",
   "execution_count": 251,
   "metadata": {},
   "outputs": [
    {
     "name": "stdout",
     "output_type": "stream",
     "text": [
      "56\n",
      "56\n"
     ]
    }
   ],
   "source": [
    "# checking the lens of everything to make sure it's ok\n",
    "print(len(extracted_records_d24))\n",
    "print(len(d24_list_links))"
   ]
  },
  {
   "cell_type": "code",
   "execution_count": 253,
   "metadata": {},
   "outputs": [
    {
     "data": {
      "text/html": [
       "<div>\n",
       "<style scoped>\n",
       "    .dataframe tbody tr th:only-of-type {\n",
       "        vertical-align: middle;\n",
       "    }\n",
       "\n",
       "    .dataframe tbody tr th {\n",
       "        vertical-align: top;\n",
       "    }\n",
       "\n",
       "    .dataframe thead th {\n",
       "        text-align: right;\n",
       "    }\n",
       "</style>\n",
       "<table border=\"1\" class=\"dataframe\">\n",
       "  <thead>\n",
       "    <tr style=\"text-align: right;\">\n",
       "      <th></th>\n",
       "      <th>Enrollment</th>\n",
       "      <th>Student-Teacher Ratio</th>\n",
       "      <th>Free-Reduced Lunch</th>\n",
       "    </tr>\n",
       "  </thead>\n",
       "  <tbody>\n",
       "    <tr>\n",
       "      <td>34</td>\n",
       "      <td>99.5%</td>\n",
       "      <td>507</td>\n",
       "      <td>69.6%</td>\n",
       "    </tr>\n",
       "    <tr>\n",
       "      <td>35</td>\n",
       "      <td>97.3%</td>\n",
       "      <td>525</td>\n",
       "      <td>68.8%</td>\n",
       "    </tr>\n",
       "    <tr>\n",
       "      <td>36</td>\n",
       "      <td>99.3%</td>\n",
       "      <td>506</td>\n",
       "      <td>83%</td>\n",
       "    </tr>\n",
       "    <tr>\n",
       "      <td>37</td>\n",
       "      <td>1,029</td>\n",
       "      <td>14.9</td>\n",
       "      <td>76.4%</td>\n",
       "    </tr>\n",
       "    <tr>\n",
       "      <td>38</td>\n",
       "      <td>557</td>\n",
       "      <td>12.6</td>\n",
       "      <td>93.5%</td>\n",
       "    </tr>\n",
       "    <tr>\n",
       "      <td>39</td>\n",
       "      <td>601</td>\n",
       "      <td>19.3</td>\n",
       "      <td>82%</td>\n",
       "    </tr>\n",
       "    <tr>\n",
       "      <td>40</td>\n",
       "      <td>417</td>\n",
       "      <td>16.6</td>\n",
       "      <td>77.7%</td>\n",
       "    </tr>\n",
       "    <tr>\n",
       "      <td>41</td>\n",
       "      <td>622</td>\n",
       "      <td>17.2</td>\n",
       "      <td>40.5%</td>\n",
       "    </tr>\n",
       "    <tr>\n",
       "      <td>42</td>\n",
       "      <td>529</td>\n",
       "      <td>16.0</td>\n",
       "      <td>76.6%</td>\n",
       "    </tr>\n",
       "    <tr>\n",
       "      <td>43</td>\n",
       "      <td>617</td>\n",
       "      <td>12.0</td>\n",
       "      <td>86.7%</td>\n",
       "    </tr>\n",
       "    <tr>\n",
       "      <td>44</td>\n",
       "      <td>933</td>\n",
       "      <td>14.8</td>\n",
       "      <td>97.3%</td>\n",
       "    </tr>\n",
       "    <tr>\n",
       "      <td>45</td>\n",
       "      <td>100.0%</td>\n",
       "      <td>255</td>\n",
       "      <td>75.3%</td>\n",
       "    </tr>\n",
       "    <tr>\n",
       "      <td>46</td>\n",
       "      <td>87.6%</td>\n",
       "      <td>437</td>\n",
       "      <td>90.2%</td>\n",
       "    </tr>\n",
       "    <tr>\n",
       "      <td>47</td>\n",
       "      <td>592</td>\n",
       "      <td>13.4</td>\n",
       "      <td>93.1%</td>\n",
       "    </tr>\n",
       "    <tr>\n",
       "      <td>48</td>\n",
       "      <td>548</td>\n",
       "      <td>15.6</td>\n",
       "      <td>65.7%</td>\n",
       "    </tr>\n",
       "    <tr>\n",
       "      <td>49</td>\n",
       "      <td>1,194</td>\n",
       "      <td>18.6</td>\n",
       "      <td>63.7%</td>\n",
       "    </tr>\n",
       "    <tr>\n",
       "      <td>50</td>\n",
       "      <td>786</td>\n",
       "      <td>14.0</td>\n",
       "      <td>93.8%</td>\n",
       "    </tr>\n",
       "    <tr>\n",
       "      <td>51</td>\n",
       "      <td>300</td>\n",
       "      <td>11.5</td>\n",
       "      <td>96%</td>\n",
       "    </tr>\n",
       "    <tr>\n",
       "      <td>52</td>\n",
       "      <td>726</td>\n",
       "      <td>14.8</td>\n",
       "      <td>97.5%</td>\n",
       "    </tr>\n",
       "    <tr>\n",
       "      <td>53</td>\n",
       "      <td>76.6%</td>\n",
       "      <td>299</td>\n",
       "      <td>95%</td>\n",
       "    </tr>\n",
       "    <tr>\n",
       "      <td>54</td>\n",
       "      <td>371</td>\n",
       "      <td>12.7</td>\n",
       "      <td>82.7%</td>\n",
       "    </tr>\n",
       "    <tr>\n",
       "      <td>55</td>\n",
       "      <td>56.7%</td>\n",
       "      <td>217</td>\n",
       "      <td>0%</td>\n",
       "    </tr>\n",
       "  </tbody>\n",
       "</table>\n",
       "</div>"
      ],
      "text/plain": [
       "   Enrollment Student-Teacher Ratio Free-Reduced Lunch\n",
       "34      99.5%                   507              69.6%\n",
       "35      97.3%                   525              68.8%\n",
       "36      99.3%                   506                83%\n",
       "37      1,029                  14.9              76.4%\n",
       "38        557                  12.6              93.5%\n",
       "39        601                  19.3                82%\n",
       "40        417                  16.6              77.7%\n",
       "41        622                  17.2              40.5%\n",
       "42        529                  16.0              76.6%\n",
       "43        617                  12.0              86.7%\n",
       "44        933                  14.8              97.3%\n",
       "45     100.0%                   255              75.3%\n",
       "46      87.6%                   437              90.2%\n",
       "47        592                  13.4              93.1%\n",
       "48        548                  15.6              65.7%\n",
       "49      1,194                  18.6              63.7%\n",
       "50        786                  14.0              93.8%\n",
       "51        300                  11.5                96%\n",
       "52        726                  14.8              97.5%\n",
       "53      76.6%                   299                95%\n",
       "54        371                  12.7              82.7%\n",
       "55      56.7%                   217                 0%"
      ]
     },
     "execution_count": 253,
     "metadata": {},
     "output_type": "execute_result"
    }
   ],
   "source": [
    "# make extracted_records_d1 to a dataframe\n",
    "d24_df = pd.DataFrame(extracted_records_d24)\n",
    "d24_df[34:56]\n",
    "# looking through the data - need to replace a few numbers with it's correct numbers"
   ]
  },
  {
   "cell_type": "code",
   "execution_count": 254,
   "metadata": {},
   "outputs": [
    {
     "data": {
      "text/html": [
       "<div>\n",
       "<style scoped>\n",
       "    .dataframe tbody tr th:only-of-type {\n",
       "        vertical-align: middle;\n",
       "    }\n",
       "\n",
       "    .dataframe tbody tr th {\n",
       "        vertical-align: top;\n",
       "    }\n",
       "\n",
       "    .dataframe thead th {\n",
       "        text-align: right;\n",
       "    }\n",
       "</style>\n",
       "<table border=\"1\" class=\"dataframe\">\n",
       "  <thead>\n",
       "    <tr style=\"text-align: right;\">\n",
       "      <th></th>\n",
       "      <th>School Name</th>\n",
       "    </tr>\n",
       "  </thead>\n",
       "  <tbody>\n",
       "    <tr>\n",
       "      <td>34</td>\n",
       "      <td>Middle College High School At Laguardia Commun...</td>\n",
       "    </tr>\n",
       "    <tr>\n",
       "      <td>35</td>\n",
       "      <td>International High School At Laguardia Communi...</td>\n",
       "    </tr>\n",
       "    <tr>\n",
       "      <td>36</td>\n",
       "      <td>Ps 28 Thomas Emanuel Early Childhood Center (The)</td>\n",
       "    </tr>\n",
       "    <tr>\n",
       "      <td>37</td>\n",
       "      <td>Ps 58 School Of Heroes (The)</td>\n",
       "    </tr>\n",
       "    <tr>\n",
       "      <td>38</td>\n",
       "      <td>Ps 239</td>\n",
       "    </tr>\n",
       "    <tr>\n",
       "      <td>39</td>\n",
       "      <td>Academy Of Finance And Enterprise</td>\n",
       "    </tr>\n",
       "    <tr>\n",
       "      <td>40</td>\n",
       "      <td>High School Of Applied Communications</td>\n",
       "    </tr>\n",
       "    <tr>\n",
       "      <td>41</td>\n",
       "      <td>Bard High School Early College Queens</td>\n",
       "    </tr>\n",
       "    <tr>\n",
       "      <td>42</td>\n",
       "      <td>Civic Leadership Academy</td>\n",
       "    </tr>\n",
       "    <tr>\n",
       "      <td>43</td>\n",
       "      <td>Learners And Leaders</td>\n",
       "    </tr>\n",
       "    <tr>\n",
       "      <td>44</td>\n",
       "      <td>Pioneer Academy</td>\n",
       "    </tr>\n",
       "    <tr>\n",
       "      <td>45</td>\n",
       "      <td>Voyages Preparatory</td>\n",
       "    </tr>\n",
       "    <tr>\n",
       "      <td>46</td>\n",
       "      <td>Pan American International High School</td>\n",
       "    </tr>\n",
       "    <tr>\n",
       "      <td>47</td>\n",
       "      <td>Helen M Marshall School</td>\n",
       "    </tr>\n",
       "    <tr>\n",
       "      <td>48</td>\n",
       "      <td>Ace Academy For Scholars At The Geraldine Ferr...</td>\n",
       "    </tr>\n",
       "    <tr>\n",
       "      <td>49</td>\n",
       "      <td>Maspeth High School</td>\n",
       "    </tr>\n",
       "    <tr>\n",
       "      <td>50</td>\n",
       "      <td>Ps 110</td>\n",
       "    </tr>\n",
       "    <tr>\n",
       "      <td>51</td>\n",
       "      <td>Elm Tree Elementary School</td>\n",
       "    </tr>\n",
       "    <tr>\n",
       "      <td>52</td>\n",
       "      <td>Corona Arts And Sciences Academy</td>\n",
       "    </tr>\n",
       "    <tr>\n",
       "      <td>53</td>\n",
       "      <td>International High School For Health Sciences</td>\n",
       "    </tr>\n",
       "    <tr>\n",
       "      <td>54</td>\n",
       "      <td>Children's Lab School (The)</td>\n",
       "    </tr>\n",
       "    <tr>\n",
       "      <td>55</td>\n",
       "      <td>Rose M Singer Center</td>\n",
       "    </tr>\n",
       "  </tbody>\n",
       "</table>\n",
       "</div>"
      ],
      "text/plain": [
       "                                          School Name\n",
       "34  Middle College High School At Laguardia Commun...\n",
       "35  International High School At Laguardia Communi...\n",
       "36  Ps 28 Thomas Emanuel Early Childhood Center (The)\n",
       "37                       Ps 58 School Of Heroes (The)\n",
       "38                                             Ps 239\n",
       "39                  Academy Of Finance And Enterprise\n",
       "40              High School Of Applied Communications\n",
       "41              Bard High School Early College Queens\n",
       "42                           Civic Leadership Academy\n",
       "43                               Learners And Leaders\n",
       "44                                    Pioneer Academy\n",
       "45                                Voyages Preparatory\n",
       "46             Pan American International High School\n",
       "47                            Helen M Marshall School\n",
       "48  Ace Academy For Scholars At The Geraldine Ferr...\n",
       "49                                Maspeth High School\n",
       "50                                             Ps 110\n",
       "51                         Elm Tree Elementary School\n",
       "52                   Corona Arts And Sciences Academy\n",
       "53      International High School For Health Sciences\n",
       "54                        Children's Lab School (The)\n",
       "55                               Rose M Singer Center"
      ]
     },
     "execution_count": 254,
     "metadata": {},
     "output_type": "execute_result"
    }
   ],
   "source": [
    "d24_schools[34:56]"
   ]
  },
  {
   "cell_type": "code",
   "execution_count": 255,
   "metadata": {},
   "outputs": [],
   "source": [
    "d24_df.at[34,'Enrollment'] = 507\n",
    "d24_df.at[34,'Student-Teacher Ratio'] = 21.1\n",
    "d24_df.at[35,'Enrollment'] = 525\n",
    "d24_df.at[35,'Student-Teacher Ratio'] = 18.1\n",
    "d24_df.at[36,'Enrollment'] = 506\n",
    "d24_df.at[36,'Student-Teacher Ratio'] = 12.0\n",
    "d24_df.at[45,'Enrollment'] = 255\n",
    "d24_df.at[45,'Student-Teacher Ratio'] = 17.3\n",
    "d24_df.at[46,'Enrollment'] = 437\n",
    "d24_df.at[46,'Student-Teacher Ratio'] = 10.6\n",
    "d24_df.at[53,'Enrollment'] = 299\n",
    "d24_df.at[53,'Student-Teacher Ratio'] = 13.5\n",
    "d24_df.at[55,'Enrollment'] = 217\n",
    "d24_df.at[55,'Student-Teacher Ratio'] = 14.7"
   ]
  },
  {
   "cell_type": "code",
   "execution_count": 256,
   "metadata": {},
   "outputs": [
    {
     "data": {
      "text/html": [
       "<div>\n",
       "<style scoped>\n",
       "    .dataframe tbody tr th:only-of-type {\n",
       "        vertical-align: middle;\n",
       "    }\n",
       "\n",
       "    .dataframe tbody tr th {\n",
       "        vertical-align: top;\n",
       "    }\n",
       "\n",
       "    .dataframe thead th {\n",
       "        text-align: right;\n",
       "    }\n",
       "</style>\n",
       "<table border=\"1\" class=\"dataframe\">\n",
       "  <thead>\n",
       "    <tr style=\"text-align: right;\">\n",
       "      <th></th>\n",
       "      <th>Enrollment</th>\n",
       "      <th>Student-Teacher Ratio</th>\n",
       "      <th>Free-Reduced Lunch</th>\n",
       "    </tr>\n",
       "  </thead>\n",
       "  <tbody>\n",
       "    <tr>\n",
       "      <td>34</td>\n",
       "      <td>507</td>\n",
       "      <td>21.1</td>\n",
       "      <td>69.6%</td>\n",
       "    </tr>\n",
       "    <tr>\n",
       "      <td>35</td>\n",
       "      <td>525</td>\n",
       "      <td>18.1</td>\n",
       "      <td>68.8%</td>\n",
       "    </tr>\n",
       "    <tr>\n",
       "      <td>36</td>\n",
       "      <td>506</td>\n",
       "      <td>12</td>\n",
       "      <td>83%</td>\n",
       "    </tr>\n",
       "    <tr>\n",
       "      <td>37</td>\n",
       "      <td>1,029</td>\n",
       "      <td>14.9</td>\n",
       "      <td>76.4%</td>\n",
       "    </tr>\n",
       "    <tr>\n",
       "      <td>38</td>\n",
       "      <td>557</td>\n",
       "      <td>12.6</td>\n",
       "      <td>93.5%</td>\n",
       "    </tr>\n",
       "    <tr>\n",
       "      <td>39</td>\n",
       "      <td>601</td>\n",
       "      <td>19.3</td>\n",
       "      <td>82%</td>\n",
       "    </tr>\n",
       "    <tr>\n",
       "      <td>40</td>\n",
       "      <td>417</td>\n",
       "      <td>16.6</td>\n",
       "      <td>77.7%</td>\n",
       "    </tr>\n",
       "    <tr>\n",
       "      <td>41</td>\n",
       "      <td>622</td>\n",
       "      <td>17.2</td>\n",
       "      <td>40.5%</td>\n",
       "    </tr>\n",
       "    <tr>\n",
       "      <td>42</td>\n",
       "      <td>529</td>\n",
       "      <td>16.0</td>\n",
       "      <td>76.6%</td>\n",
       "    </tr>\n",
       "    <tr>\n",
       "      <td>43</td>\n",
       "      <td>617</td>\n",
       "      <td>12.0</td>\n",
       "      <td>86.7%</td>\n",
       "    </tr>\n",
       "    <tr>\n",
       "      <td>44</td>\n",
       "      <td>933</td>\n",
       "      <td>14.8</td>\n",
       "      <td>97.3%</td>\n",
       "    </tr>\n",
       "    <tr>\n",
       "      <td>45</td>\n",
       "      <td>255</td>\n",
       "      <td>17.3</td>\n",
       "      <td>75.3%</td>\n",
       "    </tr>\n",
       "    <tr>\n",
       "      <td>46</td>\n",
       "      <td>437</td>\n",
       "      <td>10.6</td>\n",
       "      <td>90.2%</td>\n",
       "    </tr>\n",
       "    <tr>\n",
       "      <td>47</td>\n",
       "      <td>592</td>\n",
       "      <td>13.4</td>\n",
       "      <td>93.1%</td>\n",
       "    </tr>\n",
       "    <tr>\n",
       "      <td>48</td>\n",
       "      <td>548</td>\n",
       "      <td>15.6</td>\n",
       "      <td>65.7%</td>\n",
       "    </tr>\n",
       "    <tr>\n",
       "      <td>49</td>\n",
       "      <td>1,194</td>\n",
       "      <td>18.6</td>\n",
       "      <td>63.7%</td>\n",
       "    </tr>\n",
       "    <tr>\n",
       "      <td>50</td>\n",
       "      <td>786</td>\n",
       "      <td>14.0</td>\n",
       "      <td>93.8%</td>\n",
       "    </tr>\n",
       "    <tr>\n",
       "      <td>51</td>\n",
       "      <td>300</td>\n",
       "      <td>11.5</td>\n",
       "      <td>96%</td>\n",
       "    </tr>\n",
       "    <tr>\n",
       "      <td>52</td>\n",
       "      <td>726</td>\n",
       "      <td>14.8</td>\n",
       "      <td>97.5%</td>\n",
       "    </tr>\n",
       "    <tr>\n",
       "      <td>53</td>\n",
       "      <td>299</td>\n",
       "      <td>13.5</td>\n",
       "      <td>95%</td>\n",
       "    </tr>\n",
       "    <tr>\n",
       "      <td>54</td>\n",
       "      <td>371</td>\n",
       "      <td>12.7</td>\n",
       "      <td>82.7%</td>\n",
       "    </tr>\n",
       "    <tr>\n",
       "      <td>55</td>\n",
       "      <td>217</td>\n",
       "      <td>14.7</td>\n",
       "      <td>0%</td>\n",
       "    </tr>\n",
       "  </tbody>\n",
       "</table>\n",
       "</div>"
      ],
      "text/plain": [
       "   Enrollment Student-Teacher Ratio Free-Reduced Lunch\n",
       "34        507                  21.1              69.6%\n",
       "35        525                  18.1              68.8%\n",
       "36        506                    12                83%\n",
       "37      1,029                  14.9              76.4%\n",
       "38        557                  12.6              93.5%\n",
       "39        601                  19.3                82%\n",
       "40        417                  16.6              77.7%\n",
       "41        622                  17.2              40.5%\n",
       "42        529                  16.0              76.6%\n",
       "43        617                  12.0              86.7%\n",
       "44        933                  14.8              97.3%\n",
       "45        255                  17.3              75.3%\n",
       "46        437                  10.6              90.2%\n",
       "47        592                  13.4              93.1%\n",
       "48        548                  15.6              65.7%\n",
       "49      1,194                  18.6              63.7%\n",
       "50        786                  14.0              93.8%\n",
       "51        300                  11.5                96%\n",
       "52        726                  14.8              97.5%\n",
       "53        299                  13.5                95%\n",
       "54        371                  12.7              82.7%\n",
       "55        217                  14.7                 0%"
      ]
     },
     "execution_count": 256,
     "metadata": {},
     "output_type": "execute_result"
    }
   ],
   "source": [
    "d24_df[34:56]"
   ]
  },
  {
   "cell_type": "code",
   "execution_count": 257,
   "metadata": {},
   "outputs": [
    {
     "data": {
      "text/html": [
       "<div>\n",
       "<style scoped>\n",
       "    .dataframe tbody tr th:only-of-type {\n",
       "        vertical-align: middle;\n",
       "    }\n",
       "\n",
       "    .dataframe tbody tr th {\n",
       "        vertical-align: top;\n",
       "    }\n",
       "\n",
       "    .dataframe thead th {\n",
       "        text-align: right;\n",
       "    }\n",
       "</style>\n",
       "<table border=\"1\" class=\"dataframe\">\n",
       "  <thead>\n",
       "    <tr style=\"text-align: right;\">\n",
       "      <th></th>\n",
       "      <th>School Name</th>\n",
       "      <th>Enrollment</th>\n",
       "      <th>Student-Teacher Ratio</th>\n",
       "      <th>Free-Reduced Lunch</th>\n",
       "    </tr>\n",
       "  </thead>\n",
       "  <tbody>\n",
       "    <tr>\n",
       "      <td>0</td>\n",
       "      <td>Ps 7 Louis F Simeone</td>\n",
       "      <td>1,002</td>\n",
       "      <td>14.7</td>\n",
       "      <td>88.2%</td>\n",
       "    </tr>\n",
       "    <tr>\n",
       "      <td>1</td>\n",
       "      <td>Robert F Wagner Junior Secondary School For Ar...</td>\n",
       "      <td>666</td>\n",
       "      <td>17.5</td>\n",
       "      <td>77.6%</td>\n",
       "    </tr>\n",
       "  </tbody>\n",
       "</table>\n",
       "</div>"
      ],
      "text/plain": [
       "                                         School Name Enrollment  \\\n",
       "0                               Ps 7 Louis F Simeone      1,002   \n",
       "1  Robert F Wagner Junior Secondary School For Ar...        666   \n",
       "\n",
       "  Student-Teacher Ratio Free-Reduced Lunch  \n",
       "0                  14.7              88.2%  \n",
       "1                  17.5              77.6%  "
      ]
     },
     "execution_count": 257,
     "metadata": {},
     "output_type": "execute_result"
    }
   ],
   "source": [
    "district_24 = pd.concat([d24_schools, d24_df], axis=1)\n",
    "district_24.head(2)"
   ]
  },
  {
   "cell_type": "code",
   "execution_count": 258,
   "metadata": {},
   "outputs": [],
   "source": [
    "# make df a csv file to be able to work with later\n",
    "# saving the dataframe \n",
    "district_24.to_csv('district_24.csv')"
   ]
  },
  {
   "cell_type": "markdown",
   "metadata": {},
   "source": [
    "### **New York District 25**"
   ]
  },
  {
   "cell_type": "code",
   "execution_count": 259,
   "metadata": {},
   "outputs": [],
   "source": [
    "# get the url of the site that you need (multiple urls now because I found the different districts)\n",
    "url_schools_d25 = \"https://www.schooldigger.com/go/NY/district/00122/search.aspx\"\n",
    "#download the URL and extract the content to the variable html \n",
    "request_schools_d25 = urllib.request.Request(url_schools_d25)\n",
    "html_schools_d25 = urllib.request.urlopen(request_schools_d25).read()"
   ]
  },
  {
   "cell_type": "code",
   "execution_count": 260,
   "metadata": {},
   "outputs": [],
   "source": [
    "# this will only give me the school names\n",
    "\n",
    "#pass the HTML to Beautifulsoup.\n",
    "soup_d25 = BeautifulSoup(html_schools_d25,'html.parser')\n",
    "main_table_d25 = soup_d25.find(\"div\",attrs={'class':'bsRTable'})\n",
    "school_names_d25 = main_table_d25.find_all(\"span\", class_=\"sName\")"
   ]
  },
  {
   "cell_type": "code",
   "execution_count": 261,
   "metadata": {},
   "outputs": [
    {
     "data": {
      "text/plain": [
       "45"
      ]
     },
     "execution_count": 261,
     "metadata": {},
     "output_type": "execute_result"
    }
   ],
   "source": [
    "schools_d25 = []\n",
    "for school in school_names_d25: \n",
    "    title = school.text\n",
    "    record = {\n",
    "        'School Name':title\n",
    "        }\n",
    "    schools_d25.append(record)\n",
    "# schools_d25\n",
    "len(schools_d25)"
   ]
  },
  {
   "cell_type": "code",
   "execution_count": 262,
   "metadata": {},
   "outputs": [],
   "source": [
    "# Make school list to a dataframe\n",
    "d25_schools = pd.DataFrame(schools_d25)"
   ]
  },
  {
   "cell_type": "code",
   "execution_count": 263,
   "metadata": {},
   "outputs": [
    {
     "name": "stdout",
     "output_type": "stream",
     "text": [
      "225\n"
     ]
    },
    {
     "data": {
      "text/plain": [
       "(61, 'https://www.schooldigger.com/go/NY/schools/0012200249/school.aspx')"
      ]
     },
     "execution_count": 263,
     "metadata": {},
     "output_type": "execute_result"
    }
   ],
   "source": [
    "# this gives me the links in the rows that go with the school names\n",
    "school_links_d25 = []\n",
    "link_list_d25 = main_table_d25.find_all('a',href=True)\n",
    "for data in link_list_d25:\n",
    "  link = data['href']\n",
    "  school_links_d25.append(link)\n",
    "print(len(school_links_d25))\n",
    "links_d25 = list(dict.fromkeys(school_links_d25)) # making a unique list from the dictionary of links\n",
    "len(links_d25), links_d25[0] # previewing size and first url"
   ]
  },
  {
   "cell_type": "code",
   "execution_count": 264,
   "metadata": {},
   "outputs": [],
   "source": [
    "# change the list to a dataframe to be able to filter out the links that I need and not the other links\n",
    "d25_links = pd.DataFrame(links_d25)"
   ]
  },
  {
   "cell_type": "code",
   "execution_count": 265,
   "metadata": {},
   "outputs": [],
   "source": [
    "links_needed_d25 = d25_links[d25_links[0].str.contains('https://www.schooldigger.com/go/NY/schools/')]"
   ]
  },
  {
   "cell_type": "code",
   "execution_count": 266,
   "metadata": {},
   "outputs": [
    {
     "data": {
      "text/plain": [
       "45"
      ]
     },
     "execution_count": 266,
     "metadata": {},
     "output_type": "execute_result"
    }
   ],
   "source": [
    "# this give me only the links as a list\n",
    "d25_list_links = links_needed_d25[0].values.tolist()\n",
    "len(d25_list_links)"
   ]
  },
  {
   "cell_type": "code",
   "execution_count": 267,
   "metadata": {},
   "outputs": [],
   "source": [
    "# split up the dataset to make it not time out\n",
    "extracted_records_d25 = []\n",
    "\n",
    "for each in d25_list_links:\n",
    "  # You can add a time sleep to pause between pulls\n",
    "\n",
    "\n",
    "  #download the URL and extract the content to the variable html \n",
    "  request_schools = urllib.request.Request(each)\n",
    "  html_schools = urllib.request.urlopen(request_schools).read()\n",
    "  soup = BeautifulSoup(html_schools,'html.parser')\n",
    "  table = soup.find_all('span', {'class':'bigOrange'})\n",
    "#   display(table)\n",
    "  enrollment_num = table[2]\n",
    "  ratio_num = table[1]\n",
    "  lunch_num = table[-1]\n",
    "  records = {\n",
    "        'Enrollment': enrollment_num.text,\n",
    "        'Student-Teacher Ratio': ratio_num.text,\n",
    "        'Free-Reduced Lunch': lunch_num.text\n",
    "        }\n",
    "  extracted_records_d25.append(records)"
   ]
  },
  {
   "cell_type": "code",
   "execution_count": 268,
   "metadata": {},
   "outputs": [
    {
     "name": "stdout",
     "output_type": "stream",
     "text": [
      "45\n",
      "45\n"
     ]
    }
   ],
   "source": [
    "# checking the lens of everything to make sure it's ok\n",
    "print(len(extracted_records_d25))\n",
    "print(len(d25_list_links))"
   ]
  },
  {
   "cell_type": "code",
   "execution_count": 270,
   "metadata": {},
   "outputs": [
    {
     "data": {
      "text/html": [
       "<div>\n",
       "<style scoped>\n",
       "    .dataframe tbody tr th:only-of-type {\n",
       "        vertical-align: middle;\n",
       "    }\n",
       "\n",
       "    .dataframe tbody tr th {\n",
       "        vertical-align: top;\n",
       "    }\n",
       "\n",
       "    .dataframe thead th {\n",
       "        text-align: right;\n",
       "    }\n",
       "</style>\n",
       "<table border=\"1\" class=\"dataframe\">\n",
       "  <thead>\n",
       "    <tr style=\"text-align: right;\">\n",
       "      <th></th>\n",
       "      <th>Enrollment</th>\n",
       "      <th>Student-Teacher Ratio</th>\n",
       "      <th>Free-Reduced Lunch</th>\n",
       "    </tr>\n",
       "  </thead>\n",
       "  <tbody>\n",
       "    <tr>\n",
       "      <td>34</td>\n",
       "      <td>100.0%</td>\n",
       "      <td>394</td>\n",
       "      <td>64.5%</td>\n",
       "    </tr>\n",
       "    <tr>\n",
       "      <td>35</td>\n",
       "      <td>302</td>\n",
       "      <td>15.8</td>\n",
       "      <td>66.2%</td>\n",
       "    </tr>\n",
       "    <tr>\n",
       "      <td>36</td>\n",
       "      <td>92.2%</td>\n",
       "      <td>435</td>\n",
       "      <td>92.6%</td>\n",
       "    </tr>\n",
       "    <tr>\n",
       "      <td>37</td>\n",
       "      <td>580</td>\n",
       "      <td>12.3</td>\n",
       "      <td>60.2%</td>\n",
       "    </tr>\n",
       "    <tr>\n",
       "      <td>38</td>\n",
       "      <td>568</td>\n",
       "      <td>14.9</td>\n",
       "      <td>56.9%</td>\n",
       "    </tr>\n",
       "    <tr>\n",
       "      <td>39</td>\n",
       "      <td>655</td>\n",
       "      <td>11.4</td>\n",
       "      <td>86.4%</td>\n",
       "    </tr>\n",
       "    <tr>\n",
       "      <td>40</td>\n",
       "      <td>374</td>\n",
       "      <td>13.8</td>\n",
       "      <td>48.4%</td>\n",
       "    </tr>\n",
       "    <tr>\n",
       "      <td>41</td>\n",
       "      <td>192</td>\n",
       "      <td>17.4</td>\n",
       "      <td>71.9%</td>\n",
       "    </tr>\n",
       "    <tr>\n",
       "      <td>42</td>\n",
       "      <td>99.8%</td>\n",
       "      <td>460</td>\n",
       "      <td>79.1%</td>\n",
       "    </tr>\n",
       "  </tbody>\n",
       "</table>\n",
       "</div>"
      ],
      "text/plain": [
       "   Enrollment Student-Teacher Ratio Free-Reduced Lunch\n",
       "34     100.0%                   394              64.5%\n",
       "35        302                  15.8              66.2%\n",
       "36      92.2%                   435              92.6%\n",
       "37        580                  12.3              60.2%\n",
       "38        568                  14.9              56.9%\n",
       "39        655                  11.4              86.4%\n",
       "40        374                  13.8              48.4%\n",
       "41        192                  17.4              71.9%\n",
       "42      99.8%                   460              79.1%"
      ]
     },
     "execution_count": 270,
     "metadata": {},
     "output_type": "execute_result"
    }
   ],
   "source": [
    "# make extracted_records_d1 to a dataframe\n",
    "d25_df = pd.DataFrame(extracted_records_d25)\n",
    "d25_df[34:43]\n",
    "# looking through the data - need to replace a few numbers with it's correct numbers"
   ]
  },
  {
   "cell_type": "code",
   "execution_count": 271,
   "metadata": {},
   "outputs": [
    {
     "data": {
      "text/html": [
       "<div>\n",
       "<style scoped>\n",
       "    .dataframe tbody tr th:only-of-type {\n",
       "        vertical-align: middle;\n",
       "    }\n",
       "\n",
       "    .dataframe tbody tr th {\n",
       "        vertical-align: top;\n",
       "    }\n",
       "\n",
       "    .dataframe thead th {\n",
       "        text-align: right;\n",
       "    }\n",
       "</style>\n",
       "<table border=\"1\" class=\"dataframe\">\n",
       "  <thead>\n",
       "    <tr style=\"text-align: right;\">\n",
       "      <th></th>\n",
       "      <th>School Name</th>\n",
       "    </tr>\n",
       "  </thead>\n",
       "  <tbody>\n",
       "    <tr>\n",
       "      <td>34</td>\n",
       "      <td>Ps 242 Leonard P Stavisky Early Childhood School</td>\n",
       "    </tr>\n",
       "    <tr>\n",
       "      <td>35</td>\n",
       "      <td>Queens Academy High School</td>\n",
       "    </tr>\n",
       "    <tr>\n",
       "      <td>36</td>\n",
       "      <td>Flushing International High School</td>\n",
       "    </tr>\n",
       "    <tr>\n",
       "      <td>37</td>\n",
       "      <td>Queens School Of Inquiry (The)</td>\n",
       "    </tr>\n",
       "    <tr>\n",
       "      <td>38</td>\n",
       "      <td>World Journalism Preparatory: A College Board ...</td>\n",
       "    </tr>\n",
       "    <tr>\n",
       "      <td>39</td>\n",
       "      <td>East-West School Of International Studies</td>\n",
       "    </tr>\n",
       "    <tr>\n",
       "      <td>40</td>\n",
       "      <td>Bell Academy</td>\n",
       "    </tr>\n",
       "    <tr>\n",
       "      <td>41</td>\n",
       "      <td>North Queens Community High School</td>\n",
       "    </tr>\n",
       "    <tr>\n",
       "      <td>42</td>\n",
       "      <td>Active Learning Elementary School (The)</td>\n",
       "    </tr>\n",
       "  </tbody>\n",
       "</table>\n",
       "</div>"
      ],
      "text/plain": [
       "                                          School Name\n",
       "34   Ps 242 Leonard P Stavisky Early Childhood School\n",
       "35                         Queens Academy High School\n",
       "36                 Flushing International High School\n",
       "37                     Queens School Of Inquiry (The)\n",
       "38  World Journalism Preparatory: A College Board ...\n",
       "39          East-West School Of International Studies\n",
       "40                                       Bell Academy\n",
       "41                 North Queens Community High School\n",
       "42            Active Learning Elementary School (The)"
      ]
     },
     "execution_count": 271,
     "metadata": {},
     "output_type": "execute_result"
    }
   ],
   "source": [
    "d25_schools[34:43]"
   ]
  },
  {
   "cell_type": "code",
   "execution_count": 272,
   "metadata": {},
   "outputs": [],
   "source": [
    "d25_df.at[34,'Enrollment'] = 394\n",
    "d25_df.at[34,'Student-Teacher Ratio'] = 11.9\n",
    "d25_df.at[36,'Enrollment'] = 435\n",
    "d25_df.at[36,'Student-Teacher Ratio'] = 15.5\n",
    "d25_df.at[42,'Enrollment'] = 460\n",
    "d25_df.at[42,'Student-Teacher Ratio'] = 15.3"
   ]
  },
  {
   "cell_type": "code",
   "execution_count": 273,
   "metadata": {},
   "outputs": [
    {
     "data": {
      "text/html": [
       "<div>\n",
       "<style scoped>\n",
       "    .dataframe tbody tr th:only-of-type {\n",
       "        vertical-align: middle;\n",
       "    }\n",
       "\n",
       "    .dataframe tbody tr th {\n",
       "        vertical-align: top;\n",
       "    }\n",
       "\n",
       "    .dataframe thead th {\n",
       "        text-align: right;\n",
       "    }\n",
       "</style>\n",
       "<table border=\"1\" class=\"dataframe\">\n",
       "  <thead>\n",
       "    <tr style=\"text-align: right;\">\n",
       "      <th></th>\n",
       "      <th>Enrollment</th>\n",
       "      <th>Student-Teacher Ratio</th>\n",
       "      <th>Free-Reduced Lunch</th>\n",
       "    </tr>\n",
       "  </thead>\n",
       "  <tbody>\n",
       "    <tr>\n",
       "      <td>34</td>\n",
       "      <td>394</td>\n",
       "      <td>11.9</td>\n",
       "      <td>64.5%</td>\n",
       "    </tr>\n",
       "    <tr>\n",
       "      <td>35</td>\n",
       "      <td>302</td>\n",
       "      <td>15.8</td>\n",
       "      <td>66.2%</td>\n",
       "    </tr>\n",
       "    <tr>\n",
       "      <td>36</td>\n",
       "      <td>435</td>\n",
       "      <td>15.5</td>\n",
       "      <td>92.6%</td>\n",
       "    </tr>\n",
       "    <tr>\n",
       "      <td>37</td>\n",
       "      <td>580</td>\n",
       "      <td>12.3</td>\n",
       "      <td>60.2%</td>\n",
       "    </tr>\n",
       "    <tr>\n",
       "      <td>38</td>\n",
       "      <td>568</td>\n",
       "      <td>14.9</td>\n",
       "      <td>56.9%</td>\n",
       "    </tr>\n",
       "    <tr>\n",
       "      <td>39</td>\n",
       "      <td>655</td>\n",
       "      <td>11.4</td>\n",
       "      <td>86.4%</td>\n",
       "    </tr>\n",
       "    <tr>\n",
       "      <td>40</td>\n",
       "      <td>374</td>\n",
       "      <td>13.8</td>\n",
       "      <td>48.4%</td>\n",
       "    </tr>\n",
       "    <tr>\n",
       "      <td>41</td>\n",
       "      <td>192</td>\n",
       "      <td>17.4</td>\n",
       "      <td>71.9%</td>\n",
       "    </tr>\n",
       "    <tr>\n",
       "      <td>42</td>\n",
       "      <td>460</td>\n",
       "      <td>15.3</td>\n",
       "      <td>79.1%</td>\n",
       "    </tr>\n",
       "  </tbody>\n",
       "</table>\n",
       "</div>"
      ],
      "text/plain": [
       "   Enrollment Student-Teacher Ratio Free-Reduced Lunch\n",
       "34        394                  11.9              64.5%\n",
       "35        302                  15.8              66.2%\n",
       "36        435                  15.5              92.6%\n",
       "37        580                  12.3              60.2%\n",
       "38        568                  14.9              56.9%\n",
       "39        655                  11.4              86.4%\n",
       "40        374                  13.8              48.4%\n",
       "41        192                  17.4              71.9%\n",
       "42        460                  15.3              79.1%"
      ]
     },
     "execution_count": 273,
     "metadata": {},
     "output_type": "execute_result"
    }
   ],
   "source": [
    "d25_df[34:43]"
   ]
  },
  {
   "cell_type": "code",
   "execution_count": 274,
   "metadata": {},
   "outputs": [
    {
     "data": {
      "text/html": [
       "<div>\n",
       "<style scoped>\n",
       "    .dataframe tbody tr th:only-of-type {\n",
       "        vertical-align: middle;\n",
       "    }\n",
       "\n",
       "    .dataframe tbody tr th {\n",
       "        vertical-align: top;\n",
       "    }\n",
       "\n",
       "    .dataframe thead th {\n",
       "        text-align: right;\n",
       "    }\n",
       "</style>\n",
       "<table border=\"1\" class=\"dataframe\">\n",
       "  <thead>\n",
       "    <tr style=\"text-align: right;\">\n",
       "      <th></th>\n",
       "      <th>School Name</th>\n",
       "      <th>Enrollment</th>\n",
       "      <th>Student-Teacher Ratio</th>\n",
       "      <th>Free-Reduced Lunch</th>\n",
       "    </tr>\n",
       "  </thead>\n",
       "  <tbody>\n",
       "    <tr>\n",
       "      <td>34</td>\n",
       "      <td>Ps 242 Leonard P Stavisky Early Childhood School</td>\n",
       "      <td>394</td>\n",
       "      <td>11.9</td>\n",
       "      <td>64.5%</td>\n",
       "    </tr>\n",
       "    <tr>\n",
       "      <td>35</td>\n",
       "      <td>Queens Academy High School</td>\n",
       "      <td>302</td>\n",
       "      <td>15.8</td>\n",
       "      <td>66.2%</td>\n",
       "    </tr>\n",
       "    <tr>\n",
       "      <td>36</td>\n",
       "      <td>Flushing International High School</td>\n",
       "      <td>435</td>\n",
       "      <td>15.5</td>\n",
       "      <td>92.6%</td>\n",
       "    </tr>\n",
       "    <tr>\n",
       "      <td>37</td>\n",
       "      <td>Queens School Of Inquiry (The)</td>\n",
       "      <td>580</td>\n",
       "      <td>12.3</td>\n",
       "      <td>60.2%</td>\n",
       "    </tr>\n",
       "    <tr>\n",
       "      <td>38</td>\n",
       "      <td>World Journalism Preparatory: A College Board ...</td>\n",
       "      <td>568</td>\n",
       "      <td>14.9</td>\n",
       "      <td>56.9%</td>\n",
       "    </tr>\n",
       "    <tr>\n",
       "      <td>39</td>\n",
       "      <td>East-West School Of International Studies</td>\n",
       "      <td>655</td>\n",
       "      <td>11.4</td>\n",
       "      <td>86.4%</td>\n",
       "    </tr>\n",
       "    <tr>\n",
       "      <td>40</td>\n",
       "      <td>Bell Academy</td>\n",
       "      <td>374</td>\n",
       "      <td>13.8</td>\n",
       "      <td>48.4%</td>\n",
       "    </tr>\n",
       "    <tr>\n",
       "      <td>41</td>\n",
       "      <td>North Queens Community High School</td>\n",
       "      <td>192</td>\n",
       "      <td>17.4</td>\n",
       "      <td>71.9%</td>\n",
       "    </tr>\n",
       "    <tr>\n",
       "      <td>42</td>\n",
       "      <td>Active Learning Elementary School (The)</td>\n",
       "      <td>460</td>\n",
       "      <td>15.3</td>\n",
       "      <td>79.1%</td>\n",
       "    </tr>\n",
       "  </tbody>\n",
       "</table>\n",
       "</div>"
      ],
      "text/plain": [
       "                                          School Name Enrollment  \\\n",
       "34   Ps 242 Leonard P Stavisky Early Childhood School        394   \n",
       "35                         Queens Academy High School        302   \n",
       "36                 Flushing International High School        435   \n",
       "37                     Queens School Of Inquiry (The)        580   \n",
       "38  World Journalism Preparatory: A College Board ...        568   \n",
       "39          East-West School Of International Studies        655   \n",
       "40                                       Bell Academy        374   \n",
       "41                 North Queens Community High School        192   \n",
       "42            Active Learning Elementary School (The)        460   \n",
       "\n",
       "   Student-Teacher Ratio Free-Reduced Lunch  \n",
       "34                  11.9              64.5%  \n",
       "35                  15.8              66.2%  \n",
       "36                  15.5              92.6%  \n",
       "37                  12.3              60.2%  \n",
       "38                  14.9              56.9%  \n",
       "39                  11.4              86.4%  \n",
       "40                  13.8              48.4%  \n",
       "41                  17.4              71.9%  \n",
       "42                  15.3              79.1%  "
      ]
     },
     "execution_count": 274,
     "metadata": {},
     "output_type": "execute_result"
    }
   ],
   "source": [
    "district_25 = pd.concat([d25_schools, d25_df], axis=1)\n",
    "district_25[34:43]"
   ]
  },
  {
   "cell_type": "code",
   "execution_count": 275,
   "metadata": {},
   "outputs": [],
   "source": [
    "# make df a csv file to be able to work with later\n",
    "# saving the dataframe \n",
    "district_25.to_csv('district_25.csv')"
   ]
  },
  {
   "cell_type": "markdown",
   "metadata": {},
   "source": [
    "### **New York District 26**"
   ]
  },
  {
   "cell_type": "code",
   "execution_count": 276,
   "metadata": {},
   "outputs": [],
   "source": [
    "# get the url of the site that you need (multiple urls now because I found the different districts)\n",
    "url_schools_d26 = \"https://www.schooldigger.com/go/NY/district/00099/search.aspx\"\n",
    "#download the URL and extract the content to the variable html \n",
    "request_schools_d26 = urllib.request.Request(url_schools_d26)\n",
    "html_schools_d26 = urllib.request.urlopen(request_schools_d26).read()"
   ]
  },
  {
   "cell_type": "code",
   "execution_count": 277,
   "metadata": {},
   "outputs": [],
   "source": [
    "# this will only give me the school names\n",
    "\n",
    "#pass the HTML to Beautifulsoup.\n",
    "soup_d26 = BeautifulSoup(html_schools_d26,'html.parser')\n",
    "main_table_d26 = soup_d26.find(\"div\",attrs={'class':'bsRTable'})\n",
    "school_names_d26 = main_table_d26.find_all(\"span\", class_=\"sName\")"
   ]
  },
  {
   "cell_type": "code",
   "execution_count": 278,
   "metadata": {},
   "outputs": [
    {
     "data": {
      "text/plain": [
       "33"
      ]
     },
     "execution_count": 278,
     "metadata": {},
     "output_type": "execute_result"
    }
   ],
   "source": [
    "schools_d26 = []\n",
    "for school in school_names_d26: \n",
    "    title = school.text\n",
    "    record = {\n",
    "        'School Name':title\n",
    "        }\n",
    "    schools_d26.append(record)\n",
    "# schools_d26\n",
    "len(schools_d26)"
   ]
  },
  {
   "cell_type": "code",
   "execution_count": 279,
   "metadata": {},
   "outputs": [],
   "source": [
    "# Make school list to a dataframe\n",
    "d26_schools = pd.DataFrame(schools_d26)"
   ]
  },
  {
   "cell_type": "code",
   "execution_count": 280,
   "metadata": {},
   "outputs": [
    {
     "name": "stdout",
     "output_type": "stream",
     "text": [
      "165\n"
     ]
    },
    {
     "data": {
      "text/plain": [
       "(54, 'https://www.schooldigger.com/go/NY/schools/0009901917/school.aspx')"
      ]
     },
     "execution_count": 280,
     "metadata": {},
     "output_type": "execute_result"
    }
   ],
   "source": [
    "# this gives me the links in the rows that go with the school names\n",
    "school_links_d26 = []\n",
    "link_list_d26 = main_table_d26.find_all('a',href=True)\n",
    "for data in link_list_d26:\n",
    "  link = data['href']\n",
    "  school_links_d26.append(link)\n",
    "print(len(school_links_d26))\n",
    "links_d26 = list(dict.fromkeys(school_links_d26)) # making a unique list from the dictionary of links\n",
    "len(links_d26), links_d26[0] # previewing size and first url"
   ]
  },
  {
   "cell_type": "code",
   "execution_count": 281,
   "metadata": {},
   "outputs": [],
   "source": [
    "# change the list to a dataframe to be able to filter out the links that I need and not the other links\n",
    "d26_links = pd.DataFrame(links_d26)"
   ]
  },
  {
   "cell_type": "code",
   "execution_count": 282,
   "metadata": {},
   "outputs": [],
   "source": [
    "links_needed_d26 = d26_links[d26_links[0].str.contains('https://www.schooldigger.com/go/NY/schools/')]"
   ]
  },
  {
   "cell_type": "code",
   "execution_count": 283,
   "metadata": {},
   "outputs": [
    {
     "data": {
      "text/plain": [
       "33"
      ]
     },
     "execution_count": 283,
     "metadata": {},
     "output_type": "execute_result"
    }
   ],
   "source": [
    "# this give me only the links as a list\n",
    "d26_list_links = links_needed_d26[0].values.tolist()\n",
    "len(d26_list_links)"
   ]
  },
  {
   "cell_type": "code",
   "execution_count": 284,
   "metadata": {},
   "outputs": [],
   "source": [
    "# split up the dataset to make it not time out\n",
    "extracted_records_d26 = []\n",
    "\n",
    "for each in d26_list_links:\n",
    "  # You can add a time sleep to pause between pulls\n",
    "\n",
    "\n",
    "  #download the URL and extract the content to the variable html \n",
    "  request_schools = urllib.request.Request(each)\n",
    "  html_schools = urllib.request.urlopen(request_schools).read()\n",
    "  soup = BeautifulSoup(html_schools,'html.parser')\n",
    "  table = soup.find_all('span', {'class':'bigOrange'})\n",
    "#   display(table)\n",
    "  enrollment_num = table[2]\n",
    "  ratio_num = table[1]\n",
    "  lunch_num = table[-1]\n",
    "  records = {\n",
    "        'Enrollment': enrollment_num.text,\n",
    "        'Student-Teacher Ratio': ratio_num.text,\n",
    "        'Free-Reduced Lunch': lunch_num.text\n",
    "        }\n",
    "  extracted_records_d26.append(records)"
   ]
  },
  {
   "cell_type": "code",
   "execution_count": 285,
   "metadata": {},
   "outputs": [
    {
     "name": "stdout",
     "output_type": "stream",
     "text": [
      "33\n",
      "33\n"
     ]
    }
   ],
   "source": [
    "# checking the lens of everything to make sure it's ok\n",
    "print(len(extracted_records_d26))\n",
    "print(len(d26_list_links))"
   ]
  },
  {
   "cell_type": "code",
   "execution_count": 287,
   "metadata": {},
   "outputs": [
    {
     "data": {
      "text/html": [
       "<div>\n",
       "<style scoped>\n",
       "    .dataframe tbody tr th:only-of-type {\n",
       "        vertical-align: middle;\n",
       "    }\n",
       "\n",
       "    .dataframe tbody tr th {\n",
       "        vertical-align: top;\n",
       "    }\n",
       "\n",
       "    .dataframe thead th {\n",
       "        text-align: right;\n",
       "    }\n",
       "</style>\n",
       "<table border=\"1\" class=\"dataframe\">\n",
       "  <thead>\n",
       "    <tr style=\"text-align: right;\">\n",
       "      <th></th>\n",
       "      <th>Enrollment</th>\n",
       "      <th>Student-Teacher Ratio</th>\n",
       "      <th>Free-Reduced Lunch</th>\n",
       "    </tr>\n",
       "  </thead>\n",
       "  <tbody>\n",
       "    <tr>\n",
       "      <td>32</td>\n",
       "      <td>60.2%</td>\n",
       "      <td>98</td>\n",
       "      <td>52%</td>\n",
       "    </tr>\n",
       "  </tbody>\n",
       "</table>\n",
       "</div>"
      ],
      "text/plain": [
       "   Enrollment Student-Teacher Ratio Free-Reduced Lunch\n",
       "32      60.2%                    98                52%"
      ]
     },
     "execution_count": 287,
     "metadata": {},
     "output_type": "execute_result"
    }
   ],
   "source": [
    "# make extracted_records_d1 to a dataframe\n",
    "d26_df = pd.DataFrame(extracted_records_d26)\n",
    "d26_df[32:33]\n",
    "# looking through the data - need to replace a few numbers with it's correct numbers"
   ]
  },
  {
   "cell_type": "code",
   "execution_count": 288,
   "metadata": {},
   "outputs": [
    {
     "data": {
      "text/html": [
       "<div>\n",
       "<style scoped>\n",
       "    .dataframe tbody tr th:only-of-type {\n",
       "        vertical-align: middle;\n",
       "    }\n",
       "\n",
       "    .dataframe tbody tr th {\n",
       "        vertical-align: top;\n",
       "    }\n",
       "\n",
       "    .dataframe thead th {\n",
       "        text-align: right;\n",
       "    }\n",
       "</style>\n",
       "<table border=\"1\" class=\"dataframe\">\n",
       "  <thead>\n",
       "    <tr style=\"text-align: right;\">\n",
       "      <th></th>\n",
       "      <th>School Name</th>\n",
       "    </tr>\n",
       "  </thead>\n",
       "  <tbody>\n",
       "    <tr>\n",
       "      <td>32</td>\n",
       "      <td>Ps 376</td>\n",
       "    </tr>\n",
       "  </tbody>\n",
       "</table>\n",
       "</div>"
      ],
      "text/plain": [
       "   School Name\n",
       "32      Ps 376"
      ]
     },
     "execution_count": 288,
     "metadata": {},
     "output_type": "execute_result"
    }
   ],
   "source": [
    "d26_schools[32:33]"
   ]
  },
  {
   "cell_type": "code",
   "execution_count": 289,
   "metadata": {},
   "outputs": [],
   "source": [
    "d26_df.at[32,'Enrollment'] = 98\n",
    "d26_df.at[32,'Student-Teacher Ratio'] = 9.8"
   ]
  },
  {
   "cell_type": "code",
   "execution_count": 290,
   "metadata": {},
   "outputs": [
    {
     "data": {
      "text/html": [
       "<div>\n",
       "<style scoped>\n",
       "    .dataframe tbody tr th:only-of-type {\n",
       "        vertical-align: middle;\n",
       "    }\n",
       "\n",
       "    .dataframe tbody tr th {\n",
       "        vertical-align: top;\n",
       "    }\n",
       "\n",
       "    .dataframe thead th {\n",
       "        text-align: right;\n",
       "    }\n",
       "</style>\n",
       "<table border=\"1\" class=\"dataframe\">\n",
       "  <thead>\n",
       "    <tr style=\"text-align: right;\">\n",
       "      <th></th>\n",
       "      <th>Enrollment</th>\n",
       "      <th>Student-Teacher Ratio</th>\n",
       "      <th>Free-Reduced Lunch</th>\n",
       "    </tr>\n",
       "  </thead>\n",
       "  <tbody>\n",
       "    <tr>\n",
       "      <td>32</td>\n",
       "      <td>98</td>\n",
       "      <td>9.8</td>\n",
       "      <td>52%</td>\n",
       "    </tr>\n",
       "  </tbody>\n",
       "</table>\n",
       "</div>"
      ],
      "text/plain": [
       "   Enrollment Student-Teacher Ratio Free-Reduced Lunch\n",
       "32         98                   9.8                52%"
      ]
     },
     "execution_count": 290,
     "metadata": {},
     "output_type": "execute_result"
    }
   ],
   "source": [
    "d26_df[32:33]"
   ]
  },
  {
   "cell_type": "code",
   "execution_count": 291,
   "metadata": {},
   "outputs": [
    {
     "data": {
      "text/html": [
       "<div>\n",
       "<style scoped>\n",
       "    .dataframe tbody tr th:only-of-type {\n",
       "        vertical-align: middle;\n",
       "    }\n",
       "\n",
       "    .dataframe tbody tr th {\n",
       "        vertical-align: top;\n",
       "    }\n",
       "\n",
       "    .dataframe thead th {\n",
       "        text-align: right;\n",
       "    }\n",
       "</style>\n",
       "<table border=\"1\" class=\"dataframe\">\n",
       "  <thead>\n",
       "    <tr style=\"text-align: right;\">\n",
       "      <th></th>\n",
       "      <th>School Name</th>\n",
       "      <th>Enrollment</th>\n",
       "      <th>Student-Teacher Ratio</th>\n",
       "      <th>Free-Reduced Lunch</th>\n",
       "    </tr>\n",
       "  </thead>\n",
       "  <tbody>\n",
       "    <tr>\n",
       "      <td>32</td>\n",
       "      <td>Ps 376</td>\n",
       "      <td>98</td>\n",
       "      <td>9.8</td>\n",
       "      <td>52%</td>\n",
       "    </tr>\n",
       "  </tbody>\n",
       "</table>\n",
       "</div>"
      ],
      "text/plain": [
       "   School Name Enrollment Student-Teacher Ratio Free-Reduced Lunch\n",
       "32      Ps 376         98                   9.8                52%"
      ]
     },
     "execution_count": 291,
     "metadata": {},
     "output_type": "execute_result"
    }
   ],
   "source": [
    "district_26 = pd.concat([d26_schools, d26_df], axis=1)\n",
    "district_26[32:33]"
   ]
  },
  {
   "cell_type": "code",
   "execution_count": 292,
   "metadata": {},
   "outputs": [],
   "source": [
    "# make df a csv file to be able to work with later\n",
    "# saving the dataframe \n",
    "district_26.to_csv('district_26.csv')"
   ]
  },
  {
   "cell_type": "markdown",
   "metadata": {},
   "source": [
    "### **New York District 27**"
   ]
  },
  {
   "cell_type": "code",
   "execution_count": 293,
   "metadata": {},
   "outputs": [],
   "source": [
    "# get the url of the site that you need (multiple urls now because I found the different districts)\n",
    "url_schools_d27 = \"https://www.schooldigger.com/go/NY/district/00123/search.aspx\"\n",
    "#download the URL and extract the content to the variable html \n",
    "request_schools_d27 = urllib.request.Request(url_schools_d27)\n",
    "html_schools_d27 = urllib.request.urlopen(request_schools_d27).read()"
   ]
  },
  {
   "cell_type": "code",
   "execution_count": 294,
   "metadata": {},
   "outputs": [],
   "source": [
    "# this will only give me the school names\n",
    "\n",
    "#pass the HTML to Beautifulsoup.\n",
    "soup_d27 = BeautifulSoup(html_schools_d27,'html.parser')\n",
    "main_table_d27 = soup_d27.find(\"div\",attrs={'class':'bsRTable'})\n",
    "school_names_d27 = main_table_d27.find_all(\"span\", class_=\"sName\")"
   ]
  },
  {
   "cell_type": "code",
   "execution_count": 295,
   "metadata": {},
   "outputs": [
    {
     "data": {
      "text/plain": [
       "63"
      ]
     },
     "execution_count": 295,
     "metadata": {},
     "output_type": "execute_result"
    }
   ],
   "source": [
    "schools_d27 = []\n",
    "for school in school_names_d27: \n",
    "    title = school.text\n",
    "    record = {\n",
    "        'School Name':title\n",
    "        }\n",
    "    schools_d27.append(record)\n",
    "# schools_d27\n",
    "len(schools_d27)"
   ]
  },
  {
   "cell_type": "code",
   "execution_count": 296,
   "metadata": {},
   "outputs": [],
   "source": [
    "# Make school list to a dataframe\n",
    "d27_schools = pd.DataFrame(schools_d27)"
   ]
  },
  {
   "cell_type": "code",
   "execution_count": 297,
   "metadata": {},
   "outputs": [
    {
     "name": "stdout",
     "output_type": "stream",
     "text": [
      "315\n"
     ]
    },
    {
     "data": {
      "text/plain": [
       "(90, 'https://www.schooldigger.com/go/NY/schools/0012301790/school.aspx')"
      ]
     },
     "execution_count": 297,
     "metadata": {},
     "output_type": "execute_result"
    }
   ],
   "source": [
    "# this gives me the links in the rows that go with the school names\n",
    "school_links_d27 = []\n",
    "link_list_d27 = main_table_d27.find_all('a',href=True)\n",
    "for data in link_list_d27:\n",
    "  link = data['href']\n",
    "  school_links_d27.append(link)\n",
    "print(len(school_links_d27))\n",
    "links_d27 = list(dict.fromkeys(school_links_d27)) # making a unique list from the dictionary of links\n",
    "len(links_d27), links_d27[0] # previewing size and first url"
   ]
  },
  {
   "cell_type": "code",
   "execution_count": 298,
   "metadata": {},
   "outputs": [],
   "source": [
    "# change the list to a dataframe to be able to filter out the links that I need and not the other links\n",
    "d27_links = pd.DataFrame(links_d27)"
   ]
  },
  {
   "cell_type": "code",
   "execution_count": 299,
   "metadata": {},
   "outputs": [],
   "source": [
    "links_needed_d27 = d27_links[d27_links[0].str.contains('https://www.schooldigger.com/go/NY/schools/')]"
   ]
  },
  {
   "cell_type": "code",
   "execution_count": 300,
   "metadata": {},
   "outputs": [
    {
     "data": {
      "text/plain": [
       "63"
      ]
     },
     "execution_count": 300,
     "metadata": {},
     "output_type": "execute_result"
    }
   ],
   "source": [
    "# this give me only the links as a list\n",
    "d27_list_links = links_needed_d27[0].values.tolist()\n",
    "len(d27_list_links)"
   ]
  },
  {
   "cell_type": "code",
   "execution_count": 301,
   "metadata": {},
   "outputs": [],
   "source": [
    "# split up the dataset to make it not time out\n",
    "extracted_records_d27 = []\n",
    "\n",
    "for each in d27_list_links:\n",
    "  # You can add a time sleep to pause between pulls\n",
    "\n",
    "\n",
    "  #download the URL and extract the content to the variable html \n",
    "  request_schools = urllib.request.Request(each)\n",
    "  html_schools = urllib.request.urlopen(request_schools).read()\n",
    "  soup = BeautifulSoup(html_schools,'html.parser')\n",
    "  table = soup.find_all('span', {'class':'bigOrange'})\n",
    "#   display(table)\n",
    "  enrollment_num = table[2]\n",
    "  ratio_num = table[1]\n",
    "  lunch_num = table[-1]\n",
    "  records = {\n",
    "        'Enrollment': enrollment_num.text,\n",
    "        'Student-Teacher Ratio': ratio_num.text,\n",
    "        'Free-Reduced Lunch': lunch_num.text\n",
    "        }\n",
    "  extracted_records_d27.append(records)"
   ]
  },
  {
   "cell_type": "code",
   "execution_count": 302,
   "metadata": {},
   "outputs": [
    {
     "name": "stdout",
     "output_type": "stream",
     "text": [
      "63\n",
      "63\n"
     ]
    }
   ],
   "source": [
    "# checking the lens of everything to make sure it's ok\n",
    "print(len(extracted_records_d27))\n",
    "print(len(d27_list_links))"
   ]
  },
  {
   "cell_type": "code",
   "execution_count": 319,
   "metadata": {},
   "outputs": [
    {
     "data": {
      "text/html": [
       "<div>\n",
       "<style scoped>\n",
       "    .dataframe tbody tr th:only-of-type {\n",
       "        vertical-align: middle;\n",
       "    }\n",
       "\n",
       "    .dataframe tbody tr th {\n",
       "        vertical-align: top;\n",
       "    }\n",
       "\n",
       "    .dataframe thead th {\n",
       "        text-align: right;\n",
       "    }\n",
       "</style>\n",
       "<table border=\"1\" class=\"dataframe\">\n",
       "  <thead>\n",
       "    <tr style=\"text-align: right;\">\n",
       "      <th></th>\n",
       "      <th>Enrollment</th>\n",
       "      <th>Student-Teacher Ratio</th>\n",
       "      <th>Free-Reduced Lunch</th>\n",
       "    </tr>\n",
       "  </thead>\n",
       "  <tbody>\n",
       "    <tr>\n",
       "      <td>0</td>\n",
       "      <td>98.8%</td>\n",
       "      <td>250</td>\n",
       "      <td>79.6%</td>\n",
       "    </tr>\n",
       "    <tr>\n",
       "      <td>1</td>\n",
       "      <td>328</td>\n",
       "      <td>13.1</td>\n",
       "      <td>86.3%</td>\n",
       "    </tr>\n",
       "    <tr>\n",
       "      <td>2</td>\n",
       "      <td>271</td>\n",
       "      <td>11.2</td>\n",
       "      <td>80.4%</td>\n",
       "    </tr>\n",
       "    <tr>\n",
       "      <td>3</td>\n",
       "      <td>911</td>\n",
       "      <td>18.2</td>\n",
       "      <td>90.7%</td>\n",
       "    </tr>\n",
       "    <tr>\n",
       "      <td>4</td>\n",
       "      <td>2,270</td>\n",
       "      <td>14.0</td>\n",
       "      <td>79.9%</td>\n",
       "    </tr>\n",
       "  </tbody>\n",
       "</table>\n",
       "</div>"
      ],
      "text/plain": [
       "  Enrollment Student-Teacher Ratio Free-Reduced Lunch\n",
       "0      98.8%                   250              79.6%\n",
       "1        328                  13.1              86.3%\n",
       "2        271                  11.2              80.4%\n",
       "3        911                  18.2              90.7%\n",
       "4      2,270                  14.0              79.9%"
      ]
     },
     "execution_count": 319,
     "metadata": {},
     "output_type": "execute_result"
    }
   ],
   "source": [
    "# make extracted_records_d1 to a dataframe\n",
    "d27_df = pd.DataFrame(extracted_records_d27)\n",
    "d27_df.head()\n",
    "# looking through the data - need to replace a few numbers with it's correct numbers"
   ]
  },
  {
   "cell_type": "code",
   "execution_count": 311,
   "metadata": {},
   "outputs": [
    {
     "data": {
      "text/html": [
       "<div>\n",
       "<style scoped>\n",
       "    .dataframe tbody tr th:only-of-type {\n",
       "        vertical-align: middle;\n",
       "    }\n",
       "\n",
       "    .dataframe tbody tr th {\n",
       "        vertical-align: top;\n",
       "    }\n",
       "\n",
       "    .dataframe thead th {\n",
       "        text-align: right;\n",
       "    }\n",
       "</style>\n",
       "<table border=\"1\" class=\"dataframe\">\n",
       "  <thead>\n",
       "    <tr style=\"text-align: right;\">\n",
       "      <th></th>\n",
       "      <th>School Name</th>\n",
       "    </tr>\n",
       "  </thead>\n",
       "  <tbody>\n",
       "    <tr>\n",
       "      <td>62</td>\n",
       "      <td>Ps 377</td>\n",
       "    </tr>\n",
       "  </tbody>\n",
       "</table>\n",
       "</div>"
      ],
      "text/plain": [
       "   School Name\n",
       "62      Ps 377"
      ]
     },
     "execution_count": 311,
     "metadata": {},
     "output_type": "execute_result"
    }
   ],
   "source": [
    "d27_schools[62:63]"
   ]
  },
  {
   "cell_type": "code",
   "execution_count": 320,
   "metadata": {},
   "outputs": [],
   "source": [
    "d27_df.at[0,'Enrollment'] = 250\n",
    "d27_df.at[0,'Student-Teacher Ratio'] = 15.0\n",
    "d27_df.at[62,'Enrollment'] = 135\n",
    "d27_df.at[62,'Student-Teacher Ratio'] = 9.0"
   ]
  },
  {
   "cell_type": "code",
   "execution_count": 321,
   "metadata": {},
   "outputs": [
    {
     "data": {
      "text/html": [
       "<div>\n",
       "<style scoped>\n",
       "    .dataframe tbody tr th:only-of-type {\n",
       "        vertical-align: middle;\n",
       "    }\n",
       "\n",
       "    .dataframe tbody tr th {\n",
       "        vertical-align: top;\n",
       "    }\n",
       "\n",
       "    .dataframe thead th {\n",
       "        text-align: right;\n",
       "    }\n",
       "</style>\n",
       "<table border=\"1\" class=\"dataframe\">\n",
       "  <thead>\n",
       "    <tr style=\"text-align: right;\">\n",
       "      <th></th>\n",
       "      <th>Enrollment</th>\n",
       "      <th>Student-Teacher Ratio</th>\n",
       "      <th>Free-Reduced Lunch</th>\n",
       "    </tr>\n",
       "  </thead>\n",
       "  <tbody>\n",
       "    <tr>\n",
       "      <td>0</td>\n",
       "      <td>250</td>\n",
       "      <td>15</td>\n",
       "      <td>79.6%</td>\n",
       "    </tr>\n",
       "    <tr>\n",
       "      <td>1</td>\n",
       "      <td>328</td>\n",
       "      <td>13.1</td>\n",
       "      <td>86.3%</td>\n",
       "    </tr>\n",
       "    <tr>\n",
       "      <td>2</td>\n",
       "      <td>271</td>\n",
       "      <td>11.2</td>\n",
       "      <td>80.4%</td>\n",
       "    </tr>\n",
       "    <tr>\n",
       "      <td>3</td>\n",
       "      <td>911</td>\n",
       "      <td>18.2</td>\n",
       "      <td>90.7%</td>\n",
       "    </tr>\n",
       "    <tr>\n",
       "      <td>4</td>\n",
       "      <td>2,270</td>\n",
       "      <td>14.0</td>\n",
       "      <td>79.9%</td>\n",
       "    </tr>\n",
       "  </tbody>\n",
       "</table>\n",
       "</div>"
      ],
      "text/plain": [
       "  Enrollment Student-Teacher Ratio Free-Reduced Lunch\n",
       "0        250                    15              79.6%\n",
       "1        328                  13.1              86.3%\n",
       "2        271                  11.2              80.4%\n",
       "3        911                  18.2              90.7%\n",
       "4      2,270                  14.0              79.9%"
      ]
     },
     "execution_count": 321,
     "metadata": {},
     "output_type": "execute_result"
    }
   ],
   "source": [
    "d27_df.head()"
   ]
  },
  {
   "cell_type": "code",
   "execution_count": 322,
   "metadata": {},
   "outputs": [
    {
     "data": {
      "text/html": [
       "<div>\n",
       "<style scoped>\n",
       "    .dataframe tbody tr th:only-of-type {\n",
       "        vertical-align: middle;\n",
       "    }\n",
       "\n",
       "    .dataframe tbody tr th {\n",
       "        vertical-align: top;\n",
       "    }\n",
       "\n",
       "    .dataframe thead th {\n",
       "        text-align: right;\n",
       "    }\n",
       "</style>\n",
       "<table border=\"1\" class=\"dataframe\">\n",
       "  <thead>\n",
       "    <tr style=\"text-align: right;\">\n",
       "      <th></th>\n",
       "      <th>School Name</th>\n",
       "      <th>Enrollment</th>\n",
       "      <th>Student-Teacher Ratio</th>\n",
       "      <th>Free-Reduced Lunch</th>\n",
       "    </tr>\n",
       "  </thead>\n",
       "  <tbody>\n",
       "    <tr>\n",
       "      <td>0</td>\n",
       "      <td>Ps 51</td>\n",
       "      <td>250</td>\n",
       "      <td>15</td>\n",
       "      <td>79.6%</td>\n",
       "    </tr>\n",
       "  </tbody>\n",
       "</table>\n",
       "</div>"
      ],
      "text/plain": [
       "  School Name Enrollment Student-Teacher Ratio Free-Reduced Lunch\n",
       "0       Ps 51        250                    15              79.6%"
      ]
     },
     "execution_count": 322,
     "metadata": {},
     "output_type": "execute_result"
    }
   ],
   "source": [
    "district_27 = pd.concat([d27_schools, d27_df], axis=1)\n",
    "district_27.head(1)"
   ]
  },
  {
   "cell_type": "code",
   "execution_count": 323,
   "metadata": {},
   "outputs": [],
   "source": [
    "# make df a csv file to be able to work with later\n",
    "# saving the dataframe \n",
    "district_27.to_csv('district_27.csv')"
   ]
  },
  {
   "cell_type": "markdown",
   "metadata": {},
   "source": [
    "### **New York District 28**"
   ]
  },
  {
   "cell_type": "code",
   "execution_count": 324,
   "metadata": {},
   "outputs": [],
   "source": [
    "# get the url of the site that you need (multiple urls now because I found the different districts)\n",
    "url_schools_d28 = \"https://www.schooldigger.com/go/NY/district/00100/search.aspx\"\n",
    "#download the URL and extract the content to the variable html \n",
    "request_schools_d28 = urllib.request.Request(url_schools_d28)\n",
    "html_schools_d28 = urllib.request.urlopen(request_schools_d28).read()"
   ]
  },
  {
   "cell_type": "code",
   "execution_count": 325,
   "metadata": {},
   "outputs": [],
   "source": [
    "# this will only give me the school names\n",
    "\n",
    "#pass the HTML to Beautifulsoup.\n",
    "soup_d28 = BeautifulSoup(html_schools_d28,'html.parser')\n",
    "main_table_d28 = soup_d28.find(\"div\",attrs={'class':'bsRTable'})\n",
    "school_names_d28 = main_table_d28.find_all(\"span\", class_=\"sName\")"
   ]
  },
  {
   "cell_type": "code",
   "execution_count": 326,
   "metadata": {},
   "outputs": [
    {
     "data": {
      "text/plain": [
       "50"
      ]
     },
     "execution_count": 326,
     "metadata": {},
     "output_type": "execute_result"
    }
   ],
   "source": [
    "schools_d28 = []\n",
    "for school in school_names_d28: \n",
    "    title = school.text\n",
    "    record = {\n",
    "        'School Name':title\n",
    "        }\n",
    "    schools_d28.append(record)\n",
    "# schools_d28\n",
    "len(schools_d28)"
   ]
  },
  {
   "cell_type": "code",
   "execution_count": 327,
   "metadata": {},
   "outputs": [],
   "source": [
    "# Make school list to a dataframe\n",
    "d28_schools = pd.DataFrame(schools_d28)"
   ]
  },
  {
   "cell_type": "code",
   "execution_count": 328,
   "metadata": {},
   "outputs": [
    {
     "name": "stdout",
     "output_type": "stream",
     "text": [
      "250\n"
     ]
    },
    {
     "data": {
      "text/plain": [
       "(69, 'https://www.schooldigger.com/go/NY/schools/0010001414/school.aspx')"
      ]
     },
     "execution_count": 328,
     "metadata": {},
     "output_type": "execute_result"
    }
   ],
   "source": [
    "# this gives me the links in the rows that go with the school names\n",
    "school_links_d28 = []\n",
    "link_list_d28 = main_table_d28.find_all('a',href=True)\n",
    "for data in link_list_d28:\n",
    "  link = data['href']\n",
    "  school_links_d28.append(link)\n",
    "print(len(school_links_d28))\n",
    "links_d28 = list(dict.fromkeys(school_links_d28)) # making a unique list from the dictionary of links\n",
    "len(links_d28), links_d28[0] # previewing size and first url"
   ]
  },
  {
   "cell_type": "code",
   "execution_count": 329,
   "metadata": {},
   "outputs": [],
   "source": [
    "# change the list to a dataframe to be able to filter out the links that I need and not the other links\n",
    "d28_links = pd.DataFrame(links_d28)"
   ]
  },
  {
   "cell_type": "code",
   "execution_count": 330,
   "metadata": {},
   "outputs": [],
   "source": [
    "links_needed_d28 = d28_links[d28_links[0].str.contains('https://www.schooldigger.com/go/NY/schools/')]"
   ]
  },
  {
   "cell_type": "code",
   "execution_count": 331,
   "metadata": {},
   "outputs": [
    {
     "data": {
      "text/plain": [
       "50"
      ]
     },
     "execution_count": 331,
     "metadata": {},
     "output_type": "execute_result"
    }
   ],
   "source": [
    "# this give me only the links as a list\n",
    "d28_list_links = links_needed_d28[0].values.tolist()\n",
    "len(d28_list_links)"
   ]
  },
  {
   "cell_type": "code",
   "execution_count": 332,
   "metadata": {},
   "outputs": [],
   "source": [
    "# split up the dataset to make it not time out\n",
    "extracted_records_d28 = []\n",
    "\n",
    "for each in d28_list_links:\n",
    "  # You can add a time sleep to pause between pulls\n",
    "\n",
    "\n",
    "  #download the URL and extract the content to the variable html \n",
    "  request_schools = urllib.request.Request(each)\n",
    "  html_schools = urllib.request.urlopen(request_schools).read()\n",
    "  soup = BeautifulSoup(html_schools,'html.parser')\n",
    "  table = soup.find_all('span', {'class':'bigOrange'})\n",
    "#   display(table)\n",
    "  enrollment_num = table[2]\n",
    "  ratio_num = table[1]\n",
    "  lunch_num = table[-1]\n",
    "  records = {\n",
    "        'Enrollment': enrollment_num.text,\n",
    "        'Student-Teacher Ratio': ratio_num.text,\n",
    "        'Free-Reduced Lunch': lunch_num.text\n",
    "        }\n",
    "  extracted_records_d28.append(records)"
   ]
  },
  {
   "cell_type": "code",
   "execution_count": 333,
   "metadata": {},
   "outputs": [
    {
     "name": "stdout",
     "output_type": "stream",
     "text": [
      "50\n",
      "50\n"
     ]
    }
   ],
   "source": [
    "# checking the lens of everything to make sure it's ok\n",
    "print(len(extracted_records_d28))\n",
    "print(len(d28_list_links))"
   ]
  },
  {
   "cell_type": "code",
   "execution_count": 335,
   "metadata": {},
   "outputs": [
    {
     "data": {
      "text/html": [
       "<div>\n",
       "<style scoped>\n",
       "    .dataframe tbody tr th:only-of-type {\n",
       "        vertical-align: middle;\n",
       "    }\n",
       "\n",
       "    .dataframe tbody tr th {\n",
       "        vertical-align: top;\n",
       "    }\n",
       "\n",
       "    .dataframe thead th {\n",
       "        text-align: right;\n",
       "    }\n",
       "</style>\n",
       "<table border=\"1\" class=\"dataframe\">\n",
       "  <thead>\n",
       "    <tr style=\"text-align: right;\">\n",
       "      <th></th>\n",
       "      <th>Enrollment</th>\n",
       "      <th>Student-Teacher Ratio</th>\n",
       "      <th>Free-Reduced Lunch</th>\n",
       "    </tr>\n",
       "  </thead>\n",
       "  <tbody>\n",
       "    <tr>\n",
       "      <td>37</td>\n",
       "      <td>99.0%</td>\n",
       "      <td>205</td>\n",
       "      <td>24.4%</td>\n",
       "    </tr>\n",
       "    <tr>\n",
       "      <td>38</td>\n",
       "      <td>471</td>\n",
       "      <td>18.1</td>\n",
       "      <td>80.9%</td>\n",
       "    </tr>\n",
       "    <tr>\n",
       "      <td>39</td>\n",
       "      <td>100.0%</td>\n",
       "      <td>188</td>\n",
       "      <td>89.4%</td>\n",
       "    </tr>\n",
       "    <tr>\n",
       "      <td>40</td>\n",
       "      <td>841</td>\n",
       "      <td>12.7</td>\n",
       "      <td>71.5%</td>\n",
       "    </tr>\n",
       "    <tr>\n",
       "      <td>41</td>\n",
       "      <td>1,088</td>\n",
       "      <td>16.7</td>\n",
       "      <td>60.3%</td>\n",
       "    </tr>\n",
       "    <tr>\n",
       "      <td>42</td>\n",
       "      <td>465</td>\n",
       "      <td>14.9</td>\n",
       "      <td>81.7%</td>\n",
       "    </tr>\n",
       "    <tr>\n",
       "      <td>43</td>\n",
       "      <td>510</td>\n",
       "      <td>18.1</td>\n",
       "      <td>74.5%</td>\n",
       "    </tr>\n",
       "    <tr>\n",
       "      <td>44</td>\n",
       "      <td>619</td>\n",
       "      <td>15.8</td>\n",
       "      <td>76.9%</td>\n",
       "    </tr>\n",
       "    <tr>\n",
       "      <td>45</td>\n",
       "      <td>362</td>\n",
       "      <td>12.0</td>\n",
       "      <td>85.9%</td>\n",
       "    </tr>\n",
       "    <tr>\n",
       "      <td>46</td>\n",
       "      <td>152</td>\n",
       "      <td>10.8</td>\n",
       "      <td>91.4%</td>\n",
       "    </tr>\n",
       "    <tr>\n",
       "      <td>47</td>\n",
       "      <td>313</td>\n",
       "      <td>12.0</td>\n",
       "      <td>69.3%</td>\n",
       "    </tr>\n",
       "    <tr>\n",
       "      <td>48</td>\n",
       "      <td>383</td>\n",
       "      <td>15.3</td>\n",
       "      <td>88.3%</td>\n",
       "    </tr>\n",
       "    <tr>\n",
       "      <td>49</td>\n",
       "      <td>41.0%</td>\n",
       "      <td>315</td>\n",
       "      <td>88.3%</td>\n",
       "    </tr>\n",
       "  </tbody>\n",
       "</table>\n",
       "</div>"
      ],
      "text/plain": [
       "   Enrollment Student-Teacher Ratio Free-Reduced Lunch\n",
       "37      99.0%                   205              24.4%\n",
       "38        471                  18.1              80.9%\n",
       "39     100.0%                   188              89.4%\n",
       "40        841                  12.7              71.5%\n",
       "41      1,088                  16.7              60.3%\n",
       "42        465                  14.9              81.7%\n",
       "43        510                  18.1              74.5%\n",
       "44        619                  15.8              76.9%\n",
       "45        362                  12.0              85.9%\n",
       "46        152                  10.8              91.4%\n",
       "47        313                  12.0              69.3%\n",
       "48        383                  15.3              88.3%\n",
       "49      41.0%                   315              88.3%"
      ]
     },
     "execution_count": 335,
     "metadata": {},
     "output_type": "execute_result"
    }
   ],
   "source": [
    "# make extracted_records_d1 to a dataframe\n",
    "d28_df = pd.DataFrame(extracted_records_d28)\n",
    "d28_df[37:50]\n",
    "# looking through the data - need to replace a few numbers with it's correct numbers"
   ]
  },
  {
   "cell_type": "code",
   "execution_count": 336,
   "metadata": {},
   "outputs": [
    {
     "data": {
      "text/html": [
       "<div>\n",
       "<style scoped>\n",
       "    .dataframe tbody tr th:only-of-type {\n",
       "        vertical-align: middle;\n",
       "    }\n",
       "\n",
       "    .dataframe tbody tr th {\n",
       "        vertical-align: top;\n",
       "    }\n",
       "\n",
       "    .dataframe thead th {\n",
       "        text-align: right;\n",
       "    }\n",
       "</style>\n",
       "<table border=\"1\" class=\"dataframe\">\n",
       "  <thead>\n",
       "    <tr style=\"text-align: right;\">\n",
       "      <th></th>\n",
       "      <th>School Name</th>\n",
       "    </tr>\n",
       "  </thead>\n",
       "  <tbody>\n",
       "    <tr>\n",
       "      <td>37</td>\n",
       "      <td>Academy For Excellence Through The Arts (The)</td>\n",
       "    </tr>\n",
       "    <tr>\n",
       "      <td>38</td>\n",
       "      <td>Hillside Arts &amp; Letters Academy</td>\n",
       "    </tr>\n",
       "    <tr>\n",
       "      <td>39</td>\n",
       "      <td>Queens Satellite High School For Opportunity</td>\n",
       "    </tr>\n",
       "    <tr>\n",
       "      <td>40</td>\n",
       "      <td>Metropolitan Expeditionary Learning School</td>\n",
       "    </tr>\n",
       "    <tr>\n",
       "      <td>41</td>\n",
       "      <td>Queens Metropolitan High School</td>\n",
       "    </tr>\n",
       "    <tr>\n",
       "      <td>42</td>\n",
       "      <td>High School For Community Leadership</td>\n",
       "    </tr>\n",
       "    <tr>\n",
       "      <td>43</td>\n",
       "      <td>Jamaica Gateway To The Sciences</td>\n",
       "    </tr>\n",
       "    <tr>\n",
       "      <td>44</td>\n",
       "      <td>Jermaine L Green Stem Institute In Queens (The)</td>\n",
       "    </tr>\n",
       "    <tr>\n",
       "      <td>45</td>\n",
       "      <td>Emerson School (The)</td>\n",
       "    </tr>\n",
       "    <tr>\n",
       "      <td>46</td>\n",
       "      <td>Jamaica Children's School</td>\n",
       "    </tr>\n",
       "    <tr>\n",
       "      <td>47</td>\n",
       "      <td>Redwood Middle School</td>\n",
       "    </tr>\n",
       "    <tr>\n",
       "      <td>48</td>\n",
       "      <td>Middle School 358</td>\n",
       "    </tr>\n",
       "    <tr>\n",
       "      <td>49</td>\n",
       "      <td>Queens School For Leadership And Excellence (The)</td>\n",
       "    </tr>\n",
       "  </tbody>\n",
       "</table>\n",
       "</div>"
      ],
      "text/plain": [
       "                                          School Name\n",
       "37      Academy For Excellence Through The Arts (The)\n",
       "38                    Hillside Arts & Letters Academy\n",
       "39       Queens Satellite High School For Opportunity\n",
       "40         Metropolitan Expeditionary Learning School\n",
       "41                    Queens Metropolitan High School\n",
       "42               High School For Community Leadership\n",
       "43                    Jamaica Gateway To The Sciences\n",
       "44    Jermaine L Green Stem Institute In Queens (The)\n",
       "45                               Emerson School (The)\n",
       "46                          Jamaica Children's School\n",
       "47                              Redwood Middle School\n",
       "48                                  Middle School 358\n",
       "49  Queens School For Leadership And Excellence (The)"
      ]
     },
     "execution_count": 336,
     "metadata": {},
     "output_type": "execute_result"
    }
   ],
   "source": [
    "d28_schools[37:50]"
   ]
  },
  {
   "cell_type": "code",
   "execution_count": 337,
   "metadata": {},
   "outputs": [],
   "source": [
    "d28_df.at[37,'Enrollment'] = 205\n",
    "d28_df.at[37,'Student-Teacher Ratio'] = 14.6\n",
    "d28_df.at[39,'Enrollment'] = 188\n",
    "d28_df.at[39,'Student-Teacher Ratio'] = 15.6\n",
    "d28_df.at[49,'Enrollment'] = 315\n",
    "d28_df.at[49,'Student-Teacher Ratio'] = 14.3"
   ]
  },
  {
   "cell_type": "code",
   "execution_count": 338,
   "metadata": {},
   "outputs": [
    {
     "data": {
      "text/html": [
       "<div>\n",
       "<style scoped>\n",
       "    .dataframe tbody tr th:only-of-type {\n",
       "        vertical-align: middle;\n",
       "    }\n",
       "\n",
       "    .dataframe tbody tr th {\n",
       "        vertical-align: top;\n",
       "    }\n",
       "\n",
       "    .dataframe thead th {\n",
       "        text-align: right;\n",
       "    }\n",
       "</style>\n",
       "<table border=\"1\" class=\"dataframe\">\n",
       "  <thead>\n",
       "    <tr style=\"text-align: right;\">\n",
       "      <th></th>\n",
       "      <th>Enrollment</th>\n",
       "      <th>Student-Teacher Ratio</th>\n",
       "      <th>Free-Reduced Lunch</th>\n",
       "    </tr>\n",
       "  </thead>\n",
       "  <tbody>\n",
       "    <tr>\n",
       "      <td>37</td>\n",
       "      <td>205</td>\n",
       "      <td>14.6</td>\n",
       "      <td>24.4%</td>\n",
       "    </tr>\n",
       "    <tr>\n",
       "      <td>38</td>\n",
       "      <td>471</td>\n",
       "      <td>18.1</td>\n",
       "      <td>80.9%</td>\n",
       "    </tr>\n",
       "    <tr>\n",
       "      <td>39</td>\n",
       "      <td>188</td>\n",
       "      <td>15.6</td>\n",
       "      <td>89.4%</td>\n",
       "    </tr>\n",
       "    <tr>\n",
       "      <td>40</td>\n",
       "      <td>841</td>\n",
       "      <td>12.7</td>\n",
       "      <td>71.5%</td>\n",
       "    </tr>\n",
       "    <tr>\n",
       "      <td>41</td>\n",
       "      <td>1,088</td>\n",
       "      <td>16.7</td>\n",
       "      <td>60.3%</td>\n",
       "    </tr>\n",
       "    <tr>\n",
       "      <td>42</td>\n",
       "      <td>465</td>\n",
       "      <td>14.9</td>\n",
       "      <td>81.7%</td>\n",
       "    </tr>\n",
       "    <tr>\n",
       "      <td>43</td>\n",
       "      <td>510</td>\n",
       "      <td>18.1</td>\n",
       "      <td>74.5%</td>\n",
       "    </tr>\n",
       "    <tr>\n",
       "      <td>44</td>\n",
       "      <td>619</td>\n",
       "      <td>15.8</td>\n",
       "      <td>76.9%</td>\n",
       "    </tr>\n",
       "    <tr>\n",
       "      <td>45</td>\n",
       "      <td>362</td>\n",
       "      <td>12.0</td>\n",
       "      <td>85.9%</td>\n",
       "    </tr>\n",
       "    <tr>\n",
       "      <td>46</td>\n",
       "      <td>152</td>\n",
       "      <td>10.8</td>\n",
       "      <td>91.4%</td>\n",
       "    </tr>\n",
       "    <tr>\n",
       "      <td>47</td>\n",
       "      <td>313</td>\n",
       "      <td>12.0</td>\n",
       "      <td>69.3%</td>\n",
       "    </tr>\n",
       "    <tr>\n",
       "      <td>48</td>\n",
       "      <td>383</td>\n",
       "      <td>15.3</td>\n",
       "      <td>88.3%</td>\n",
       "    </tr>\n",
       "    <tr>\n",
       "      <td>49</td>\n",
       "      <td>315</td>\n",
       "      <td>14.3</td>\n",
       "      <td>88.3%</td>\n",
       "    </tr>\n",
       "  </tbody>\n",
       "</table>\n",
       "</div>"
      ],
      "text/plain": [
       "   Enrollment Student-Teacher Ratio Free-Reduced Lunch\n",
       "37        205                  14.6              24.4%\n",
       "38        471                  18.1              80.9%\n",
       "39        188                  15.6              89.4%\n",
       "40        841                  12.7              71.5%\n",
       "41      1,088                  16.7              60.3%\n",
       "42        465                  14.9              81.7%\n",
       "43        510                  18.1              74.5%\n",
       "44        619                  15.8              76.9%\n",
       "45        362                  12.0              85.9%\n",
       "46        152                  10.8              91.4%\n",
       "47        313                  12.0              69.3%\n",
       "48        383                  15.3              88.3%\n",
       "49        315                  14.3              88.3%"
      ]
     },
     "execution_count": 338,
     "metadata": {},
     "output_type": "execute_result"
    }
   ],
   "source": [
    "d28_df[37:50]"
   ]
  },
  {
   "cell_type": "code",
   "execution_count": 339,
   "metadata": {},
   "outputs": [
    {
     "data": {
      "text/html": [
       "<div>\n",
       "<style scoped>\n",
       "    .dataframe tbody tr th:only-of-type {\n",
       "        vertical-align: middle;\n",
       "    }\n",
       "\n",
       "    .dataframe tbody tr th {\n",
       "        vertical-align: top;\n",
       "    }\n",
       "\n",
       "    .dataframe thead th {\n",
       "        text-align: right;\n",
       "    }\n",
       "</style>\n",
       "<table border=\"1\" class=\"dataframe\">\n",
       "  <thead>\n",
       "    <tr style=\"text-align: right;\">\n",
       "      <th></th>\n",
       "      <th>School Name</th>\n",
       "      <th>Enrollment</th>\n",
       "      <th>Student-Teacher Ratio</th>\n",
       "      <th>Free-Reduced Lunch</th>\n",
       "    </tr>\n",
       "  </thead>\n",
       "  <tbody>\n",
       "    <tr>\n",
       "      <td>37</td>\n",
       "      <td>Academy For Excellence Through The Arts (The)</td>\n",
       "      <td>205</td>\n",
       "      <td>14.6</td>\n",
       "      <td>24.4%</td>\n",
       "    </tr>\n",
       "    <tr>\n",
       "      <td>38</td>\n",
       "      <td>Hillside Arts &amp; Letters Academy</td>\n",
       "      <td>471</td>\n",
       "      <td>18.1</td>\n",
       "      <td>80.9%</td>\n",
       "    </tr>\n",
       "    <tr>\n",
       "      <td>39</td>\n",
       "      <td>Queens Satellite High School For Opportunity</td>\n",
       "      <td>188</td>\n",
       "      <td>15.6</td>\n",
       "      <td>89.4%</td>\n",
       "    </tr>\n",
       "    <tr>\n",
       "      <td>40</td>\n",
       "      <td>Metropolitan Expeditionary Learning School</td>\n",
       "      <td>841</td>\n",
       "      <td>12.7</td>\n",
       "      <td>71.5%</td>\n",
       "    </tr>\n",
       "    <tr>\n",
       "      <td>41</td>\n",
       "      <td>Queens Metropolitan High School</td>\n",
       "      <td>1,088</td>\n",
       "      <td>16.7</td>\n",
       "      <td>60.3%</td>\n",
       "    </tr>\n",
       "    <tr>\n",
       "      <td>42</td>\n",
       "      <td>High School For Community Leadership</td>\n",
       "      <td>465</td>\n",
       "      <td>14.9</td>\n",
       "      <td>81.7%</td>\n",
       "    </tr>\n",
       "    <tr>\n",
       "      <td>43</td>\n",
       "      <td>Jamaica Gateway To The Sciences</td>\n",
       "      <td>510</td>\n",
       "      <td>18.1</td>\n",
       "      <td>74.5%</td>\n",
       "    </tr>\n",
       "    <tr>\n",
       "      <td>44</td>\n",
       "      <td>Jermaine L Green Stem Institute In Queens (The)</td>\n",
       "      <td>619</td>\n",
       "      <td>15.8</td>\n",
       "      <td>76.9%</td>\n",
       "    </tr>\n",
       "    <tr>\n",
       "      <td>45</td>\n",
       "      <td>Emerson School (The)</td>\n",
       "      <td>362</td>\n",
       "      <td>12.0</td>\n",
       "      <td>85.9%</td>\n",
       "    </tr>\n",
       "    <tr>\n",
       "      <td>46</td>\n",
       "      <td>Jamaica Children's School</td>\n",
       "      <td>152</td>\n",
       "      <td>10.8</td>\n",
       "      <td>91.4%</td>\n",
       "    </tr>\n",
       "    <tr>\n",
       "      <td>47</td>\n",
       "      <td>Redwood Middle School</td>\n",
       "      <td>313</td>\n",
       "      <td>12.0</td>\n",
       "      <td>69.3%</td>\n",
       "    </tr>\n",
       "    <tr>\n",
       "      <td>48</td>\n",
       "      <td>Middle School 358</td>\n",
       "      <td>383</td>\n",
       "      <td>15.3</td>\n",
       "      <td>88.3%</td>\n",
       "    </tr>\n",
       "    <tr>\n",
       "      <td>49</td>\n",
       "      <td>Queens School For Leadership And Excellence (The)</td>\n",
       "      <td>315</td>\n",
       "      <td>14.3</td>\n",
       "      <td>88.3%</td>\n",
       "    </tr>\n",
       "  </tbody>\n",
       "</table>\n",
       "</div>"
      ],
      "text/plain": [
       "                                          School Name Enrollment  \\\n",
       "37      Academy For Excellence Through The Arts (The)        205   \n",
       "38                    Hillside Arts & Letters Academy        471   \n",
       "39       Queens Satellite High School For Opportunity        188   \n",
       "40         Metropolitan Expeditionary Learning School        841   \n",
       "41                    Queens Metropolitan High School      1,088   \n",
       "42               High School For Community Leadership        465   \n",
       "43                    Jamaica Gateway To The Sciences        510   \n",
       "44    Jermaine L Green Stem Institute In Queens (The)        619   \n",
       "45                               Emerson School (The)        362   \n",
       "46                          Jamaica Children's School        152   \n",
       "47                              Redwood Middle School        313   \n",
       "48                                  Middle School 358        383   \n",
       "49  Queens School For Leadership And Excellence (The)        315   \n",
       "\n",
       "   Student-Teacher Ratio Free-Reduced Lunch  \n",
       "37                  14.6              24.4%  \n",
       "38                  18.1              80.9%  \n",
       "39                  15.6              89.4%  \n",
       "40                  12.7              71.5%  \n",
       "41                  16.7              60.3%  \n",
       "42                  14.9              81.7%  \n",
       "43                  18.1              74.5%  \n",
       "44                  15.8              76.9%  \n",
       "45                  12.0              85.9%  \n",
       "46                  10.8              91.4%  \n",
       "47                  12.0              69.3%  \n",
       "48                  15.3              88.3%  \n",
       "49                  14.3              88.3%  "
      ]
     },
     "execution_count": 339,
     "metadata": {},
     "output_type": "execute_result"
    }
   ],
   "source": [
    "district_28 = pd.concat([d28_schools, d28_df], axis=1)\n",
    "district_28[37:50]"
   ]
  },
  {
   "cell_type": "code",
   "execution_count": 340,
   "metadata": {},
   "outputs": [],
   "source": [
    "# make df a csv file to be able to work with later\n",
    "# saving the dataframe \n",
    "district_28.to_csv('district_28.csv')"
   ]
  },
  {
   "cell_type": "markdown",
   "metadata": {},
   "source": [
    "### **New York District 29**"
   ]
  },
  {
   "cell_type": "code",
   "execution_count": 341,
   "metadata": {},
   "outputs": [],
   "source": [
    "# get the url of the site that you need (multiple urls now because I found the different districts)\n",
    "url_schools_d29 = \"https://www.schooldigger.com/go/NY/district/00101/search.aspx\"\n",
    "#download the URL and extract the content to the variable html \n",
    "request_schools_d29 = urllib.request.Request(url_schools_d29)\n",
    "html_schools_d29 = urllib.request.urlopen(request_schools_d29).read()"
   ]
  },
  {
   "cell_type": "code",
   "execution_count": 342,
   "metadata": {},
   "outputs": [],
   "source": [
    "# this will only give me the school names\n",
    "\n",
    "#pass the HTML to Beautifulsoup.\n",
    "soup_d29 = BeautifulSoup(html_schools_d29,'html.parser')\n",
    "main_table_d29 = soup_d29.find(\"div\",attrs={'class':'bsRTable'})\n",
    "school_names_d29 = main_table_d29.find_all(\"span\", class_=\"sName\")"
   ]
  },
  {
   "cell_type": "code",
   "execution_count": 343,
   "metadata": {},
   "outputs": [
    {
     "data": {
      "text/plain": [
       "46"
      ]
     },
     "execution_count": 343,
     "metadata": {},
     "output_type": "execute_result"
    }
   ],
   "source": [
    "schools_d29 = []\n",
    "for school in school_names_d29: \n",
    "    title = school.text\n",
    "    record = {\n",
    "        'School Name':title\n",
    "        }\n",
    "    schools_d29.append(record)\n",
    "# schools_d29\n",
    "len(schools_d29)"
   ]
  },
  {
   "cell_type": "code",
   "execution_count": 344,
   "metadata": {},
   "outputs": [],
   "source": [
    "# Make school list to a dataframe\n",
    "d29_schools = pd.DataFrame(schools_d29)"
   ]
  },
  {
   "cell_type": "code",
   "execution_count": 345,
   "metadata": {},
   "outputs": [
    {
     "name": "stdout",
     "output_type": "stream",
     "text": [
      "230\n"
     ]
    },
    {
     "data": {
      "text/plain": [
       "(67, 'https://www.schooldigger.com/go/NY/schools/0010101408/school.aspx')"
      ]
     },
     "execution_count": 345,
     "metadata": {},
     "output_type": "execute_result"
    }
   ],
   "source": [
    "# this gives me the links in the rows that go with the school names\n",
    "school_links_d29 = []\n",
    "link_list_d29 = main_table_d29.find_all('a',href=True)\n",
    "for data in link_list_d29:\n",
    "  link = data['href']\n",
    "  school_links_d29.append(link)\n",
    "print(len(school_links_d29))\n",
    "links_d29 = list(dict.fromkeys(school_links_d29)) # making a unique list from the dictionary of links\n",
    "len(links_d29), links_d29[0] # previewing size and first url"
   ]
  },
  {
   "cell_type": "code",
   "execution_count": 346,
   "metadata": {},
   "outputs": [],
   "source": [
    "# change the list to a dataframe to be able to filter out the links that I need and not the other links\n",
    "d29_links = pd.DataFrame(links_d29)"
   ]
  },
  {
   "cell_type": "code",
   "execution_count": 347,
   "metadata": {},
   "outputs": [],
   "source": [
    "links_needed_d29 = d29_links[d29_links[0].str.contains('https://www.schooldigger.com/go/NY/schools/')]"
   ]
  },
  {
   "cell_type": "code",
   "execution_count": 348,
   "metadata": {},
   "outputs": [
    {
     "data": {
      "text/plain": [
       "46"
      ]
     },
     "execution_count": 348,
     "metadata": {},
     "output_type": "execute_result"
    }
   ],
   "source": [
    "# this give me only the links as a list\n",
    "d29_list_links = links_needed_d29[0].values.tolist()\n",
    "len(d29_list_links)"
   ]
  },
  {
   "cell_type": "code",
   "execution_count": 349,
   "metadata": {},
   "outputs": [],
   "source": [
    "# split up the dataset to make it not time out\n",
    "extracted_records_d29 = []\n",
    "\n",
    "for each in d29_list_links:\n",
    "  # You can add a time sleep to pause between pulls\n",
    "\n",
    "\n",
    "  #download the URL and extract the content to the variable html \n",
    "  request_schools = urllib.request.Request(each)\n",
    "  html_schools = urllib.request.urlopen(request_schools).read()\n",
    "  soup = BeautifulSoup(html_schools,'html.parser')\n",
    "  table = soup.find_all('span', {'class':'bigOrange'})\n",
    "#   display(table)\n",
    "  enrollment_num = table[2]\n",
    "  ratio_num = table[1]\n",
    "  lunch_num = table[-1]\n",
    "  records = {\n",
    "        'Enrollment': enrollment_num.text,\n",
    "        'Student-Teacher Ratio': ratio_num.text,\n",
    "        'Free-Reduced Lunch': lunch_num.text\n",
    "        }\n",
    "  extracted_records_d29.append(records)"
   ]
  },
  {
   "cell_type": "code",
   "execution_count": 350,
   "metadata": {},
   "outputs": [
    {
     "name": "stdout",
     "output_type": "stream",
     "text": [
      "46\n",
      "46\n"
     ]
    }
   ],
   "source": [
    "# checking the lens of everything to make sure it's ok\n",
    "print(len(extracted_records_d29))\n",
    "print(len(d29_list_links))"
   ]
  },
  {
   "cell_type": "code",
   "execution_count": 352,
   "metadata": {},
   "outputs": [
    {
     "data": {
      "text/html": [
       "<div>\n",
       "<style scoped>\n",
       "    .dataframe tbody tr th:only-of-type {\n",
       "        vertical-align: middle;\n",
       "    }\n",
       "\n",
       "    .dataframe tbody tr th {\n",
       "        vertical-align: top;\n",
       "    }\n",
       "\n",
       "    .dataframe thead th {\n",
       "        text-align: right;\n",
       "    }\n",
       "</style>\n",
       "<table border=\"1\" class=\"dataframe\">\n",
       "  <thead>\n",
       "    <tr style=\"text-align: right;\">\n",
       "      <th></th>\n",
       "      <th>Enrollment</th>\n",
       "      <th>Student-Teacher Ratio</th>\n",
       "      <th>Free-Reduced Lunch</th>\n",
       "    </tr>\n",
       "  </thead>\n",
       "  <tbody>\n",
       "    <tr>\n",
       "      <td>43</td>\n",
       "      <td>94.1%</td>\n",
       "      <td>418</td>\n",
       "      <td>75.8%</td>\n",
       "    </tr>\n",
       "    <tr>\n",
       "      <td>44</td>\n",
       "      <td>397</td>\n",
       "      <td>14.1</td>\n",
       "      <td>84.1%</td>\n",
       "    </tr>\n",
       "    <tr>\n",
       "      <td>45</td>\n",
       "      <td>95.5%</td>\n",
       "      <td>176</td>\n",
       "      <td>59.7%</td>\n",
       "    </tr>\n",
       "  </tbody>\n",
       "</table>\n",
       "</div>"
      ],
      "text/plain": [
       "   Enrollment Student-Teacher Ratio Free-Reduced Lunch\n",
       "43      94.1%                   418              75.8%\n",
       "44        397                  14.1              84.1%\n",
       "45      95.5%                   176              59.7%"
      ]
     },
     "execution_count": 352,
     "metadata": {},
     "output_type": "execute_result"
    }
   ],
   "source": [
    "# make extracted_records_d1 to a dataframe\n",
    "d29_df = pd.DataFrame(extracted_records_d29)\n",
    "d29_df[43:46]\n",
    "# looking through the data - need to replace a few numbers with it's correct numbers"
   ]
  },
  {
   "cell_type": "code",
   "execution_count": 353,
   "metadata": {},
   "outputs": [
    {
     "data": {
      "text/html": [
       "<div>\n",
       "<style scoped>\n",
       "    .dataframe tbody tr th:only-of-type {\n",
       "        vertical-align: middle;\n",
       "    }\n",
       "\n",
       "    .dataframe tbody tr th {\n",
       "        vertical-align: top;\n",
       "    }\n",
       "\n",
       "    .dataframe thead th {\n",
       "        text-align: right;\n",
       "    }\n",
       "</style>\n",
       "<table border=\"1\" class=\"dataframe\">\n",
       "  <thead>\n",
       "    <tr style=\"text-align: right;\">\n",
       "      <th></th>\n",
       "      <th>School Name</th>\n",
       "    </tr>\n",
       "  </thead>\n",
       "  <tbody>\n",
       "    <tr>\n",
       "      <td>43</td>\n",
       "      <td>Institute For Health Professions At Cambria He...</td>\n",
       "    </tr>\n",
       "    <tr>\n",
       "      <td>44</td>\n",
       "      <td>Benjamin Franklin High School-Finance-Info</td>\n",
       "    </tr>\n",
       "    <tr>\n",
       "      <td>45</td>\n",
       "      <td>Ps 360</td>\n",
       "    </tr>\n",
       "  </tbody>\n",
       "</table>\n",
       "</div>"
      ],
      "text/plain": [
       "                                          School Name\n",
       "43  Institute For Health Professions At Cambria He...\n",
       "44         Benjamin Franklin High School-Finance-Info\n",
       "45                                             Ps 360"
      ]
     },
     "execution_count": 353,
     "metadata": {},
     "output_type": "execute_result"
    }
   ],
   "source": [
    "d29_schools[43:46]"
   ]
  },
  {
   "cell_type": "code",
   "execution_count": 354,
   "metadata": {},
   "outputs": [],
   "source": [
    "d29_df.at[43,'Enrollment'] = 418\n",
    "d29_df.at[43,'Student-Teacher Ratio'] = 13.4\n",
    "d29_df.at[45,'Enrollment'] = 176\n",
    "d29_df.at[45,'Student-Teacher Ratio'] = 14.6"
   ]
  },
  {
   "cell_type": "code",
   "execution_count": 355,
   "metadata": {},
   "outputs": [
    {
     "data": {
      "text/html": [
       "<div>\n",
       "<style scoped>\n",
       "    .dataframe tbody tr th:only-of-type {\n",
       "        vertical-align: middle;\n",
       "    }\n",
       "\n",
       "    .dataframe tbody tr th {\n",
       "        vertical-align: top;\n",
       "    }\n",
       "\n",
       "    .dataframe thead th {\n",
       "        text-align: right;\n",
       "    }\n",
       "</style>\n",
       "<table border=\"1\" class=\"dataframe\">\n",
       "  <thead>\n",
       "    <tr style=\"text-align: right;\">\n",
       "      <th></th>\n",
       "      <th>Enrollment</th>\n",
       "      <th>Student-Teacher Ratio</th>\n",
       "      <th>Free-Reduced Lunch</th>\n",
       "    </tr>\n",
       "  </thead>\n",
       "  <tbody>\n",
       "    <tr>\n",
       "      <td>43</td>\n",
       "      <td>418</td>\n",
       "      <td>13.4</td>\n",
       "      <td>75.8%</td>\n",
       "    </tr>\n",
       "    <tr>\n",
       "      <td>44</td>\n",
       "      <td>397</td>\n",
       "      <td>14.1</td>\n",
       "      <td>84.1%</td>\n",
       "    </tr>\n",
       "    <tr>\n",
       "      <td>45</td>\n",
       "      <td>176</td>\n",
       "      <td>14.6</td>\n",
       "      <td>59.7%</td>\n",
       "    </tr>\n",
       "  </tbody>\n",
       "</table>\n",
       "</div>"
      ],
      "text/plain": [
       "   Enrollment Student-Teacher Ratio Free-Reduced Lunch\n",
       "43        418                  13.4              75.8%\n",
       "44        397                  14.1              84.1%\n",
       "45        176                  14.6              59.7%"
      ]
     },
     "execution_count": 355,
     "metadata": {},
     "output_type": "execute_result"
    }
   ],
   "source": [
    "d29_df[43:46]"
   ]
  },
  {
   "cell_type": "code",
   "execution_count": 356,
   "metadata": {},
   "outputs": [
    {
     "data": {
      "text/html": [
       "<div>\n",
       "<style scoped>\n",
       "    .dataframe tbody tr th:only-of-type {\n",
       "        vertical-align: middle;\n",
       "    }\n",
       "\n",
       "    .dataframe tbody tr th {\n",
       "        vertical-align: top;\n",
       "    }\n",
       "\n",
       "    .dataframe thead th {\n",
       "        text-align: right;\n",
       "    }\n",
       "</style>\n",
       "<table border=\"1\" class=\"dataframe\">\n",
       "  <thead>\n",
       "    <tr style=\"text-align: right;\">\n",
       "      <th></th>\n",
       "      <th>School Name</th>\n",
       "      <th>Enrollment</th>\n",
       "      <th>Student-Teacher Ratio</th>\n",
       "      <th>Free-Reduced Lunch</th>\n",
       "    </tr>\n",
       "  </thead>\n",
       "  <tbody>\n",
       "    <tr>\n",
       "      <td>43</td>\n",
       "      <td>Institute For Health Professions At Cambria He...</td>\n",
       "      <td>418</td>\n",
       "      <td>13.4</td>\n",
       "      <td>75.8%</td>\n",
       "    </tr>\n",
       "    <tr>\n",
       "      <td>44</td>\n",
       "      <td>Benjamin Franklin High School-Finance-Info</td>\n",
       "      <td>397</td>\n",
       "      <td>14.1</td>\n",
       "      <td>84.1%</td>\n",
       "    </tr>\n",
       "    <tr>\n",
       "      <td>45</td>\n",
       "      <td>Ps 360</td>\n",
       "      <td>176</td>\n",
       "      <td>14.6</td>\n",
       "      <td>59.7%</td>\n",
       "    </tr>\n",
       "  </tbody>\n",
       "</table>\n",
       "</div>"
      ],
      "text/plain": [
       "                                          School Name Enrollment  \\\n",
       "43  Institute For Health Professions At Cambria He...        418   \n",
       "44         Benjamin Franklin High School-Finance-Info        397   \n",
       "45                                             Ps 360        176   \n",
       "\n",
       "   Student-Teacher Ratio Free-Reduced Lunch  \n",
       "43                  13.4              75.8%  \n",
       "44                  14.1              84.1%  \n",
       "45                  14.6              59.7%  "
      ]
     },
     "execution_count": 356,
     "metadata": {},
     "output_type": "execute_result"
    }
   ],
   "source": [
    "district_29 = pd.concat([d29_schools, d29_df], axis=1)\n",
    "district_29[43:46]"
   ]
  },
  {
   "cell_type": "code",
   "execution_count": 357,
   "metadata": {},
   "outputs": [],
   "source": [
    "# make df a csv file to be able to work with later\n",
    "# saving the dataframe \n",
    "district_29.to_csv('district_29.csv')"
   ]
  },
  {
   "cell_type": "markdown",
   "metadata": {},
   "source": [
    "### **New York District 30**"
   ]
  },
  {
   "cell_type": "code",
   "execution_count": 358,
   "metadata": {},
   "outputs": [],
   "source": [
    "# get the url of the site that you need (multiple urls now because I found the different districts)\n",
    "url_schools_d30 = \"https://www.schooldigger.com/go/NY/district/00102/search.aspx\"\n",
    "#download the URL and extract the content to the variable html \n",
    "request_schools_d30 = urllib.request.Request(url_schools_d30)\n",
    "html_schools_d30 = urllib.request.urlopen(request_schools_d30).read()"
   ]
  },
  {
   "cell_type": "code",
   "execution_count": 359,
   "metadata": {},
   "outputs": [],
   "source": [
    "# this will only give me the school names\n",
    "\n",
    "#pass the HTML to Beautifulsoup.\n",
    "soup_d30 = BeautifulSoup(html_schools_d30,'html.parser')\n",
    "main_table_d30 = soup_d30.find(\"div\",attrs={'class':'bsRTable'})\n",
    "school_names_d30 = main_table_d30.find_all(\"span\", class_=\"sName\")"
   ]
  },
  {
   "cell_type": "code",
   "execution_count": 360,
   "metadata": {},
   "outputs": [
    {
     "data": {
      "text/plain": [
       "48"
      ]
     },
     "execution_count": 360,
     "metadata": {},
     "output_type": "execute_result"
    }
   ],
   "source": [
    "schools_d30 = []\n",
    "for school in school_names_d30: \n",
    "    title = school.text\n",
    "    record = {\n",
    "        'School Name':title\n",
    "        }\n",
    "    schools_d30.append(record)\n",
    "# schools_d30\n",
    "len(schools_d30)"
   ]
  },
  {
   "cell_type": "code",
   "execution_count": 361,
   "metadata": {},
   "outputs": [],
   "source": [
    "# Make school list to a dataframe\n",
    "d30_schools = pd.DataFrame(schools_d30)"
   ]
  },
  {
   "cell_type": "code",
   "execution_count": 362,
   "metadata": {},
   "outputs": [
    {
     "name": "stdout",
     "output_type": "stream",
     "text": [
      "240\n"
     ]
    },
    {
     "data": {
      "text/plain": [
       "(69, 'https://www.schooldigger.com/go/NY/schools/0010201821/school.aspx')"
      ]
     },
     "execution_count": 362,
     "metadata": {},
     "output_type": "execute_result"
    }
   ],
   "source": [
    "# this gives me the links in the rows that go with the school names\n",
    "school_links_d30 = []\n",
    "link_list_d30 = main_table_d30.find_all('a',href=True)\n",
    "for data in link_list_d30:\n",
    "  link = data['href']\n",
    "  school_links_d30.append(link)\n",
    "print(len(school_links_d30))\n",
    "links_d30 = list(dict.fromkeys(school_links_d30)) # making a unique list from the dictionary of links\n",
    "len(links_d30), links_d30[0] # previewing size and first url"
   ]
  },
  {
   "cell_type": "code",
   "execution_count": 363,
   "metadata": {},
   "outputs": [],
   "source": [
    "# change the list to a dataframe to be able to filter out the links that I need and not the other links\n",
    "d30_links = pd.DataFrame(links_d30)"
   ]
  },
  {
   "cell_type": "code",
   "execution_count": 364,
   "metadata": {},
   "outputs": [],
   "source": [
    "links_needed_d30 = d30_links[d30_links[0].str.contains('https://www.schooldigger.com/go/NY/schools/')]"
   ]
  },
  {
   "cell_type": "code",
   "execution_count": 365,
   "metadata": {},
   "outputs": [
    {
     "data": {
      "text/plain": [
       "48"
      ]
     },
     "execution_count": 365,
     "metadata": {},
     "output_type": "execute_result"
    }
   ],
   "source": [
    "# this give me only the links as a list\n",
    "d30_list_links = links_needed_d30[0].values.tolist()\n",
    "len(d30_list_links)"
   ]
  },
  {
   "cell_type": "code",
   "execution_count": 366,
   "metadata": {},
   "outputs": [],
   "source": [
    "# split up the dataset to make it not time out\n",
    "extracted_records_d30 = []\n",
    "\n",
    "for each in d30_list_links:\n",
    "  # You can add a time sleep to pause between pulls\n",
    "\n",
    "\n",
    "  #download the URL and extract the content to the variable html \n",
    "  request_schools = urllib.request.Request(each)\n",
    "  html_schools = urllib.request.urlopen(request_schools).read()\n",
    "  soup = BeautifulSoup(html_schools,'html.parser')\n",
    "  table = soup.find_all('span', {'class':'bigOrange'})\n",
    "#   display(table)\n",
    "  enrollment_num = table[2]\n",
    "  ratio_num = table[1]\n",
    "  lunch_num = table[-1]\n",
    "  records = {\n",
    "        'Enrollment': enrollment_num.text,\n",
    "        'Student-Teacher Ratio': ratio_num.text,\n",
    "        'Free-Reduced Lunch': lunch_num.text\n",
    "        }\n",
    "  extracted_records_d30.append(records)"
   ]
  },
  {
   "cell_type": "code",
   "execution_count": 367,
   "metadata": {},
   "outputs": [
    {
     "name": "stdout",
     "output_type": "stream",
     "text": [
      "48\n",
      "48\n"
     ]
    }
   ],
   "source": [
    "# checking the lens of everything to make sure it's ok\n",
    "print(len(extracted_records_d30))\n",
    "print(len(d30_list_links))"
   ]
  },
  {
   "cell_type": "code",
   "execution_count": 369,
   "metadata": {},
   "outputs": [
    {
     "data": {
      "text/html": [
       "<div>\n",
       "<style scoped>\n",
       "    .dataframe tbody tr th:only-of-type {\n",
       "        vertical-align: middle;\n",
       "    }\n",
       "\n",
       "    .dataframe tbody tr th {\n",
       "        vertical-align: top;\n",
       "    }\n",
       "\n",
       "    .dataframe thead th {\n",
       "        text-align: right;\n",
       "    }\n",
       "</style>\n",
       "<table border=\"1\" class=\"dataframe\">\n",
       "  <thead>\n",
       "    <tr style=\"text-align: right;\">\n",
       "      <th></th>\n",
       "      <th>Enrollment</th>\n",
       "      <th>Student-Teacher Ratio</th>\n",
       "      <th>Free-Reduced Lunch</th>\n",
       "    </tr>\n",
       "  </thead>\n",
       "  <tbody>\n",
       "    <tr>\n",
       "      <td>33</td>\n",
       "      <td>100.0%</td>\n",
       "      <td>313</td>\n",
       "      <td>89.5%</td>\n",
       "    </tr>\n",
       "    <tr>\n",
       "      <td>34</td>\n",
       "      <td>834</td>\n",
       "      <td>16.6</td>\n",
       "      <td>40.6%</td>\n",
       "    </tr>\n",
       "    <tr>\n",
       "      <td>35</td>\n",
       "      <td>1,090</td>\n",
       "      <td>16.0</td>\n",
       "      <td>53.8%</td>\n",
       "    </tr>\n",
       "    <tr>\n",
       "      <td>36</td>\n",
       "      <td>97.3%</td>\n",
       "      <td>283</td>\n",
       "      <td>77%</td>\n",
       "    </tr>\n",
       "    <tr>\n",
       "      <td>37</td>\n",
       "      <td>999</td>\n",
       "      <td>16.9</td>\n",
       "      <td>84.5%</td>\n",
       "    </tr>\n",
       "    <tr>\n",
       "      <td>38</td>\n",
       "      <td>516</td>\n",
       "      <td>14.3</td>\n",
       "      <td>82.6%</td>\n",
       "    </tr>\n",
       "    <tr>\n",
       "      <td>39</td>\n",
       "      <td>539</td>\n",
       "      <td>17.6</td>\n",
       "      <td>43.4%</td>\n",
       "    </tr>\n",
       "    <tr>\n",
       "      <td>40</td>\n",
       "      <td>561</td>\n",
       "      <td>16.9</td>\n",
       "      <td>85.4%</td>\n",
       "    </tr>\n",
       "    <tr>\n",
       "      <td>41</td>\n",
       "      <td>563</td>\n",
       "      <td>14.4</td>\n",
       "      <td>50.1%</td>\n",
       "    </tr>\n",
       "    <tr>\n",
       "      <td>42</td>\n",
       "      <td>686</td>\n",
       "      <td>15.2</td>\n",
       "      <td>94.6%</td>\n",
       "    </tr>\n",
       "    <tr>\n",
       "      <td>43</td>\n",
       "      <td>421</td>\n",
       "      <td>12.0</td>\n",
       "      <td>52.5%</td>\n",
       "    </tr>\n",
       "    <tr>\n",
       "      <td>44</td>\n",
       "      <td>383</td>\n",
       "      <td>14.1</td>\n",
       "      <td>93.2%</td>\n",
       "    </tr>\n",
       "    <tr>\n",
       "      <td>45</td>\n",
       "      <td>512</td>\n",
       "      <td>15.0</td>\n",
       "      <td>76%</td>\n",
       "    </tr>\n",
       "    <tr>\n",
       "      <td>46</td>\n",
       "      <td>444</td>\n",
       "      <td>18.4</td>\n",
       "      <td>26.8%</td>\n",
       "    </tr>\n",
       "    <tr>\n",
       "      <td>47</td>\n",
       "      <td>59.5%</td>\n",
       "      <td>262</td>\n",
       "      <td>80.9%</td>\n",
       "    </tr>\n",
       "  </tbody>\n",
       "</table>\n",
       "</div>"
      ],
      "text/plain": [
       "   Enrollment Student-Teacher Ratio Free-Reduced Lunch\n",
       "33     100.0%                   313              89.5%\n",
       "34        834                  16.6              40.6%\n",
       "35      1,090                  16.0              53.8%\n",
       "36      97.3%                   283                77%\n",
       "37        999                  16.9              84.5%\n",
       "38        516                  14.3              82.6%\n",
       "39        539                  17.6              43.4%\n",
       "40        561                  16.9              85.4%\n",
       "41        563                  14.4              50.1%\n",
       "42        686                  15.2              94.6%\n",
       "43        421                  12.0              52.5%\n",
       "44        383                  14.1              93.2%\n",
       "45        512                  15.0                76%\n",
       "46        444                  18.4              26.8%\n",
       "47      59.5%                   262              80.9%"
      ]
     },
     "execution_count": 369,
     "metadata": {},
     "output_type": "execute_result"
    }
   ],
   "source": [
    "# make extracted_records_d1 to a dataframe\n",
    "d30_df = pd.DataFrame(extracted_records_d30)\n",
    "d30_df[33:48]\n",
    "# looking through the data - need to replace a few numbers with it's correct numbers"
   ]
  },
  {
   "cell_type": "code",
   "execution_count": 370,
   "metadata": {},
   "outputs": [
    {
     "data": {
      "text/html": [
       "<div>\n",
       "<style scoped>\n",
       "    .dataframe tbody tr th:only-of-type {\n",
       "        vertical-align: middle;\n",
       "    }\n",
       "\n",
       "    .dataframe tbody tr th {\n",
       "        vertical-align: top;\n",
       "    }\n",
       "\n",
       "    .dataframe thead th {\n",
       "        text-align: right;\n",
       "    }\n",
       "</style>\n",
       "<table border=\"1\" class=\"dataframe\">\n",
       "  <thead>\n",
       "    <tr style=\"text-align: right;\">\n",
       "      <th></th>\n",
       "      <th>School Name</th>\n",
       "    </tr>\n",
       "  </thead>\n",
       "  <tbody>\n",
       "    <tr>\n",
       "      <td>33</td>\n",
       "      <td>Ivan Lafayette Early Childhood School Of The A...</td>\n",
       "    </tr>\n",
       "    <tr>\n",
       "      <td>34</td>\n",
       "      <td>Frank Sinatra School Of The Arts High School</td>\n",
       "    </tr>\n",
       "    <tr>\n",
       "      <td>35</td>\n",
       "      <td>Ps 150</td>\n",
       "    </tr>\n",
       "    <tr>\n",
       "      <td>36</td>\n",
       "      <td>Ps 222-Fire Fighter Christopher A Santora School</td>\n",
       "    </tr>\n",
       "    <tr>\n",
       "      <td>37</td>\n",
       "      <td>Information Technology High School</td>\n",
       "    </tr>\n",
       "    <tr>\n",
       "      <td>38</td>\n",
       "      <td>Ps 234</td>\n",
       "    </tr>\n",
       "    <tr>\n",
       "      <td>39</td>\n",
       "      <td>Baccalaureate School For Global Education</td>\n",
       "    </tr>\n",
       "    <tr>\n",
       "      <td>40</td>\n",
       "      <td>Young Womens Leadership School - Astoria</td>\n",
       "    </tr>\n",
       "    <tr>\n",
       "      <td>41</td>\n",
       "      <td>Academy For Careers In Television And Film</td>\n",
       "    </tr>\n",
       "    <tr>\n",
       "      <td>42</td>\n",
       "      <td>Ps 280</td>\n",
       "    </tr>\n",
       "    <tr>\n",
       "      <td>43</td>\n",
       "      <td>Hunters Point Community Middle School</td>\n",
       "    </tr>\n",
       "    <tr>\n",
       "      <td>44</td>\n",
       "      <td>East Elmhurst Community School</td>\n",
       "    </tr>\n",
       "    <tr>\n",
       "      <td>45</td>\n",
       "      <td>Energy Technical High School</td>\n",
       "    </tr>\n",
       "    <tr>\n",
       "      <td>46</td>\n",
       "      <td>30th Avenue School (The) (G &amp; T Citywide)</td>\n",
       "    </tr>\n",
       "    <tr>\n",
       "      <td>47</td>\n",
       "      <td>Woodside Community School (The)</td>\n",
       "    </tr>\n",
       "  </tbody>\n",
       "</table>\n",
       "</div>"
      ],
      "text/plain": [
       "                                          School Name\n",
       "33  Ivan Lafayette Early Childhood School Of The A...\n",
       "34       Frank Sinatra School Of The Arts High School\n",
       "35                                             Ps 150\n",
       "36   Ps 222-Fire Fighter Christopher A Santora School\n",
       "37                 Information Technology High School\n",
       "38                                             Ps 234\n",
       "39          Baccalaureate School For Global Education\n",
       "40           Young Womens Leadership School - Astoria\n",
       "41         Academy For Careers In Television And Film\n",
       "42                                             Ps 280\n",
       "43              Hunters Point Community Middle School\n",
       "44                     East Elmhurst Community School\n",
       "45                       Energy Technical High School\n",
       "46          30th Avenue School (The) (G & T Citywide)\n",
       "47                    Woodside Community School (The)"
      ]
     },
     "execution_count": 370,
     "metadata": {},
     "output_type": "execute_result"
    }
   ],
   "source": [
    "d30_schools[33:48]"
   ]
  },
  {
   "cell_type": "code",
   "execution_count": 371,
   "metadata": {},
   "outputs": [],
   "source": [
    "d30_df.at[33,'Enrollment'] = 313\n",
    "d30_df.at[33,'Student-Teacher Ratio'] = 13.6\n",
    "d30_df.at[36,'Enrollment'] = 283\n",
    "d30_df.at[36,'Student-Teacher Ratio'] = 14.1\n",
    "d30_df.at[47,'Enrollment'] = 262\n",
    "d30_df.at[47,'Student-Teacher Ratio'] = 14.5"
   ]
  },
  {
   "cell_type": "code",
   "execution_count": 372,
   "metadata": {},
   "outputs": [
    {
     "data": {
      "text/html": [
       "<div>\n",
       "<style scoped>\n",
       "    .dataframe tbody tr th:only-of-type {\n",
       "        vertical-align: middle;\n",
       "    }\n",
       "\n",
       "    .dataframe tbody tr th {\n",
       "        vertical-align: top;\n",
       "    }\n",
       "\n",
       "    .dataframe thead th {\n",
       "        text-align: right;\n",
       "    }\n",
       "</style>\n",
       "<table border=\"1\" class=\"dataframe\">\n",
       "  <thead>\n",
       "    <tr style=\"text-align: right;\">\n",
       "      <th></th>\n",
       "      <th>Enrollment</th>\n",
       "      <th>Student-Teacher Ratio</th>\n",
       "      <th>Free-Reduced Lunch</th>\n",
       "    </tr>\n",
       "  </thead>\n",
       "  <tbody>\n",
       "    <tr>\n",
       "      <td>33</td>\n",
       "      <td>313</td>\n",
       "      <td>13.6</td>\n",
       "      <td>89.5%</td>\n",
       "    </tr>\n",
       "    <tr>\n",
       "      <td>34</td>\n",
       "      <td>834</td>\n",
       "      <td>16.6</td>\n",
       "      <td>40.6%</td>\n",
       "    </tr>\n",
       "    <tr>\n",
       "      <td>35</td>\n",
       "      <td>1,090</td>\n",
       "      <td>16.0</td>\n",
       "      <td>53.8%</td>\n",
       "    </tr>\n",
       "    <tr>\n",
       "      <td>36</td>\n",
       "      <td>283</td>\n",
       "      <td>14.1</td>\n",
       "      <td>77%</td>\n",
       "    </tr>\n",
       "    <tr>\n",
       "      <td>37</td>\n",
       "      <td>999</td>\n",
       "      <td>16.9</td>\n",
       "      <td>84.5%</td>\n",
       "    </tr>\n",
       "    <tr>\n",
       "      <td>38</td>\n",
       "      <td>516</td>\n",
       "      <td>14.3</td>\n",
       "      <td>82.6%</td>\n",
       "    </tr>\n",
       "    <tr>\n",
       "      <td>39</td>\n",
       "      <td>539</td>\n",
       "      <td>17.6</td>\n",
       "      <td>43.4%</td>\n",
       "    </tr>\n",
       "    <tr>\n",
       "      <td>40</td>\n",
       "      <td>561</td>\n",
       "      <td>16.9</td>\n",
       "      <td>85.4%</td>\n",
       "    </tr>\n",
       "    <tr>\n",
       "      <td>41</td>\n",
       "      <td>563</td>\n",
       "      <td>14.4</td>\n",
       "      <td>50.1%</td>\n",
       "    </tr>\n",
       "    <tr>\n",
       "      <td>42</td>\n",
       "      <td>686</td>\n",
       "      <td>15.2</td>\n",
       "      <td>94.6%</td>\n",
       "    </tr>\n",
       "    <tr>\n",
       "      <td>43</td>\n",
       "      <td>421</td>\n",
       "      <td>12.0</td>\n",
       "      <td>52.5%</td>\n",
       "    </tr>\n",
       "    <tr>\n",
       "      <td>44</td>\n",
       "      <td>383</td>\n",
       "      <td>14.1</td>\n",
       "      <td>93.2%</td>\n",
       "    </tr>\n",
       "    <tr>\n",
       "      <td>45</td>\n",
       "      <td>512</td>\n",
       "      <td>15.0</td>\n",
       "      <td>76%</td>\n",
       "    </tr>\n",
       "    <tr>\n",
       "      <td>46</td>\n",
       "      <td>444</td>\n",
       "      <td>18.4</td>\n",
       "      <td>26.8%</td>\n",
       "    </tr>\n",
       "    <tr>\n",
       "      <td>47</td>\n",
       "      <td>262</td>\n",
       "      <td>14.5</td>\n",
       "      <td>80.9%</td>\n",
       "    </tr>\n",
       "  </tbody>\n",
       "</table>\n",
       "</div>"
      ],
      "text/plain": [
       "   Enrollment Student-Teacher Ratio Free-Reduced Lunch\n",
       "33        313                  13.6              89.5%\n",
       "34        834                  16.6              40.6%\n",
       "35      1,090                  16.0              53.8%\n",
       "36        283                  14.1                77%\n",
       "37        999                  16.9              84.5%\n",
       "38        516                  14.3              82.6%\n",
       "39        539                  17.6              43.4%\n",
       "40        561                  16.9              85.4%\n",
       "41        563                  14.4              50.1%\n",
       "42        686                  15.2              94.6%\n",
       "43        421                  12.0              52.5%\n",
       "44        383                  14.1              93.2%\n",
       "45        512                  15.0                76%\n",
       "46        444                  18.4              26.8%\n",
       "47        262                  14.5              80.9%"
      ]
     },
     "execution_count": 372,
     "metadata": {},
     "output_type": "execute_result"
    }
   ],
   "source": [
    "d30_df[33:48]"
   ]
  },
  {
   "cell_type": "code",
   "execution_count": 373,
   "metadata": {},
   "outputs": [
    {
     "data": {
      "text/html": [
       "<div>\n",
       "<style scoped>\n",
       "    .dataframe tbody tr th:only-of-type {\n",
       "        vertical-align: middle;\n",
       "    }\n",
       "\n",
       "    .dataframe tbody tr th {\n",
       "        vertical-align: top;\n",
       "    }\n",
       "\n",
       "    .dataframe thead th {\n",
       "        text-align: right;\n",
       "    }\n",
       "</style>\n",
       "<table border=\"1\" class=\"dataframe\">\n",
       "  <thead>\n",
       "    <tr style=\"text-align: right;\">\n",
       "      <th></th>\n",
       "      <th>School Name</th>\n",
       "      <th>Enrollment</th>\n",
       "      <th>Student-Teacher Ratio</th>\n",
       "      <th>Free-Reduced Lunch</th>\n",
       "    </tr>\n",
       "  </thead>\n",
       "  <tbody>\n",
       "    <tr>\n",
       "      <td>33</td>\n",
       "      <td>Ivan Lafayette Early Childhood School Of The A...</td>\n",
       "      <td>313</td>\n",
       "      <td>13.6</td>\n",
       "      <td>89.5%</td>\n",
       "    </tr>\n",
       "    <tr>\n",
       "      <td>34</td>\n",
       "      <td>Frank Sinatra School Of The Arts High School</td>\n",
       "      <td>834</td>\n",
       "      <td>16.6</td>\n",
       "      <td>40.6%</td>\n",
       "    </tr>\n",
       "    <tr>\n",
       "      <td>35</td>\n",
       "      <td>Ps 150</td>\n",
       "      <td>1,090</td>\n",
       "      <td>16.0</td>\n",
       "      <td>53.8%</td>\n",
       "    </tr>\n",
       "    <tr>\n",
       "      <td>36</td>\n",
       "      <td>Ps 222-Fire Fighter Christopher A Santora School</td>\n",
       "      <td>283</td>\n",
       "      <td>14.1</td>\n",
       "      <td>77%</td>\n",
       "    </tr>\n",
       "    <tr>\n",
       "      <td>37</td>\n",
       "      <td>Information Technology High School</td>\n",
       "      <td>999</td>\n",
       "      <td>16.9</td>\n",
       "      <td>84.5%</td>\n",
       "    </tr>\n",
       "    <tr>\n",
       "      <td>38</td>\n",
       "      <td>Ps 234</td>\n",
       "      <td>516</td>\n",
       "      <td>14.3</td>\n",
       "      <td>82.6%</td>\n",
       "    </tr>\n",
       "    <tr>\n",
       "      <td>39</td>\n",
       "      <td>Baccalaureate School For Global Education</td>\n",
       "      <td>539</td>\n",
       "      <td>17.6</td>\n",
       "      <td>43.4%</td>\n",
       "    </tr>\n",
       "    <tr>\n",
       "      <td>40</td>\n",
       "      <td>Young Womens Leadership School - Astoria</td>\n",
       "      <td>561</td>\n",
       "      <td>16.9</td>\n",
       "      <td>85.4%</td>\n",
       "    </tr>\n",
       "    <tr>\n",
       "      <td>41</td>\n",
       "      <td>Academy For Careers In Television And Film</td>\n",
       "      <td>563</td>\n",
       "      <td>14.4</td>\n",
       "      <td>50.1%</td>\n",
       "    </tr>\n",
       "    <tr>\n",
       "      <td>42</td>\n",
       "      <td>Ps 280</td>\n",
       "      <td>686</td>\n",
       "      <td>15.2</td>\n",
       "      <td>94.6%</td>\n",
       "    </tr>\n",
       "    <tr>\n",
       "      <td>43</td>\n",
       "      <td>Hunters Point Community Middle School</td>\n",
       "      <td>421</td>\n",
       "      <td>12.0</td>\n",
       "      <td>52.5%</td>\n",
       "    </tr>\n",
       "    <tr>\n",
       "      <td>44</td>\n",
       "      <td>East Elmhurst Community School</td>\n",
       "      <td>383</td>\n",
       "      <td>14.1</td>\n",
       "      <td>93.2%</td>\n",
       "    </tr>\n",
       "    <tr>\n",
       "      <td>45</td>\n",
       "      <td>Energy Technical High School</td>\n",
       "      <td>512</td>\n",
       "      <td>15.0</td>\n",
       "      <td>76%</td>\n",
       "    </tr>\n",
       "    <tr>\n",
       "      <td>46</td>\n",
       "      <td>30th Avenue School (The) (G &amp; T Citywide)</td>\n",
       "      <td>444</td>\n",
       "      <td>18.4</td>\n",
       "      <td>26.8%</td>\n",
       "    </tr>\n",
       "    <tr>\n",
       "      <td>47</td>\n",
       "      <td>Woodside Community School (The)</td>\n",
       "      <td>262</td>\n",
       "      <td>14.5</td>\n",
       "      <td>80.9%</td>\n",
       "    </tr>\n",
       "  </tbody>\n",
       "</table>\n",
       "</div>"
      ],
      "text/plain": [
       "                                          School Name Enrollment  \\\n",
       "33  Ivan Lafayette Early Childhood School Of The A...        313   \n",
       "34       Frank Sinatra School Of The Arts High School        834   \n",
       "35                                             Ps 150      1,090   \n",
       "36   Ps 222-Fire Fighter Christopher A Santora School        283   \n",
       "37                 Information Technology High School        999   \n",
       "38                                             Ps 234        516   \n",
       "39          Baccalaureate School For Global Education        539   \n",
       "40           Young Womens Leadership School - Astoria        561   \n",
       "41         Academy For Careers In Television And Film        563   \n",
       "42                                             Ps 280        686   \n",
       "43              Hunters Point Community Middle School        421   \n",
       "44                     East Elmhurst Community School        383   \n",
       "45                       Energy Technical High School        512   \n",
       "46          30th Avenue School (The) (G & T Citywide)        444   \n",
       "47                    Woodside Community School (The)        262   \n",
       "\n",
       "   Student-Teacher Ratio Free-Reduced Lunch  \n",
       "33                  13.6              89.5%  \n",
       "34                  16.6              40.6%  \n",
       "35                  16.0              53.8%  \n",
       "36                  14.1                77%  \n",
       "37                  16.9              84.5%  \n",
       "38                  14.3              82.6%  \n",
       "39                  17.6              43.4%  \n",
       "40                  16.9              85.4%  \n",
       "41                  14.4              50.1%  \n",
       "42                  15.2              94.6%  \n",
       "43                  12.0              52.5%  \n",
       "44                  14.1              93.2%  \n",
       "45                  15.0                76%  \n",
       "46                  18.4              26.8%  \n",
       "47                  14.5              80.9%  "
      ]
     },
     "execution_count": 373,
     "metadata": {},
     "output_type": "execute_result"
    }
   ],
   "source": [
    "district_30 = pd.concat([d30_schools, d30_df], axis=1)\n",
    "district_30[33:48]"
   ]
  },
  {
   "cell_type": "code",
   "execution_count": 374,
   "metadata": {},
   "outputs": [],
   "source": [
    "# make df a csv file to be able to work with later\n",
    "# saving the dataframe \n",
    "district_30.to_csv('district_30.csv')"
   ]
  },
  {
   "cell_type": "markdown",
   "metadata": {},
   "source": [
    "### **New York District 31**"
   ]
  },
  {
   "cell_type": "code",
   "execution_count": 375,
   "metadata": {},
   "outputs": [],
   "source": [
    "# get the url of the site that you need (multiple urls now because I found the different districts)\n",
    "url_schools_d31 = \"https://www.schooldigger.com/go/NY/district/00103/search.aspx\"\n",
    "#download the URL and extract the content to the variable html \n",
    "request_schools_d31 = urllib.request.Request(url_schools_d31)\n",
    "html_schools_d31 = urllib.request.urlopen(request_schools_d31).read()"
   ]
  },
  {
   "cell_type": "code",
   "execution_count": 376,
   "metadata": {},
   "outputs": [],
   "source": [
    "# this will only give me the school names\n",
    "\n",
    "#pass the HTML to Beautifulsoup.\n",
    "soup_d31 = BeautifulSoup(html_schools_d31,'html.parser')\n",
    "main_table_d31 = soup_d31.find(\"div\",attrs={'class':'bsRTable'})\n",
    "school_names_d31 = main_table_d31.find_all(\"span\", class_=\"sName\")"
   ]
  },
  {
   "cell_type": "code",
   "execution_count": 377,
   "metadata": {},
   "outputs": [
    {
     "data": {
      "text/plain": [
       "72"
      ]
     },
     "execution_count": 377,
     "metadata": {},
     "output_type": "execute_result"
    }
   ],
   "source": [
    "schools_d31 = []\n",
    "for school in school_names_d31: \n",
    "    title = school.text\n",
    "    record = {\n",
    "        'School Name':title\n",
    "        }\n",
    "    schools_d31.append(record)\n",
    "# schools_d31\n",
    "len(schools_d31)"
   ]
  },
  {
   "cell_type": "code",
   "execution_count": 378,
   "metadata": {},
   "outputs": [],
   "source": [
    "# Make school list to a dataframe\n",
    "d31_schools = pd.DataFrame(schools_d31)"
   ]
  },
  {
   "cell_type": "code",
   "execution_count": 379,
   "metadata": {},
   "outputs": [
    {
     "name": "stdout",
     "output_type": "stream",
     "text": [
      "360\n"
     ]
    },
    {
     "data": {
      "text/plain": [
       "(87, 'https://www.schooldigger.com/go/NY/schools/0010300962/school.aspx')"
      ]
     },
     "execution_count": 379,
     "metadata": {},
     "output_type": "execute_result"
    }
   ],
   "source": [
    "# this gives me the links in the rows that go with the school names\n",
    "school_links_d31 = []\n",
    "link_list_d31 = main_table_d31.find_all('a',href=True)\n",
    "for data in link_list_d31:\n",
    "  link = data['href']\n",
    "  school_links_d31.append(link)\n",
    "print(len(school_links_d31))\n",
    "links_d31 = list(dict.fromkeys(school_links_d31)) # making a unique list from the dictionary of links\n",
    "len(links_d31), links_d31[0] # previewing size and first url"
   ]
  },
  {
   "cell_type": "code",
   "execution_count": 380,
   "metadata": {},
   "outputs": [],
   "source": [
    "# change the list to a dataframe to be able to filter out the links that I need and not the other links\n",
    "d31_links = pd.DataFrame(links_d31)"
   ]
  },
  {
   "cell_type": "code",
   "execution_count": 381,
   "metadata": {},
   "outputs": [],
   "source": [
    "links_needed_d31 = d31_links[d31_links[0].str.contains('https://www.schooldigger.com/go/NY/schools/')]"
   ]
  },
  {
   "cell_type": "code",
   "execution_count": 382,
   "metadata": {},
   "outputs": [
    {
     "data": {
      "text/plain": [
       "72"
      ]
     },
     "execution_count": 382,
     "metadata": {},
     "output_type": "execute_result"
    }
   ],
   "source": [
    "# this give me only the links as a list\n",
    "d31_list_links = links_needed_d31[0].values.tolist()\n",
    "len(d31_list_links)"
   ]
  },
  {
   "cell_type": "code",
   "execution_count": 383,
   "metadata": {},
   "outputs": [],
   "source": [
    "# split up the dataset to make it not time out\n",
    "extracted_records_d31 = []\n",
    "\n",
    "for each in d31_list_links:\n",
    "  # You can add a time sleep to pause between pulls\n",
    "\n",
    "\n",
    "  #download the URL and extract the content to the variable html \n",
    "  request_schools = urllib.request.Request(each)\n",
    "  html_schools = urllib.request.urlopen(request_schools).read()\n",
    "  soup = BeautifulSoup(html_schools,'html.parser')\n",
    "  table = soup.find_all('span', {'class':'bigOrange'})\n",
    "#   display(table)\n",
    "  enrollment_num = table[2]\n",
    "  ratio_num = table[1]\n",
    "  lunch_num = table[-1]\n",
    "  records = {\n",
    "        'Enrollment': enrollment_num.text,\n",
    "        'Student-Teacher Ratio': ratio_num.text,\n",
    "        'Free-Reduced Lunch': lunch_num.text\n",
    "        }\n",
    "  extracted_records_d31.append(records)"
   ]
  },
  {
   "cell_type": "code",
   "execution_count": 384,
   "metadata": {},
   "outputs": [
    {
     "name": "stdout",
     "output_type": "stream",
     "text": [
      "72\n",
      "72\n"
     ]
    }
   ],
   "source": [
    "# checking the lens of everything to make sure it's ok\n",
    "print(len(extracted_records_d31))\n",
    "print(len(d31_list_links))"
   ]
  },
  {
   "cell_type": "code",
   "execution_count": 390,
   "metadata": {},
   "outputs": [
    {
     "data": {
      "text/html": [
       "<div>\n",
       "<style scoped>\n",
       "    .dataframe tbody tr th:only-of-type {\n",
       "        vertical-align: middle;\n",
       "    }\n",
       "\n",
       "    .dataframe tbody tr th {\n",
       "        vertical-align: top;\n",
       "    }\n",
       "\n",
       "    .dataframe thead th {\n",
       "        text-align: right;\n",
       "    }\n",
       "</style>\n",
       "<table border=\"1\" class=\"dataframe\">\n",
       "  <thead>\n",
       "    <tr style=\"text-align: right;\">\n",
       "      <th></th>\n",
       "      <th>Enrollment</th>\n",
       "      <th>Student-Teacher Ratio</th>\n",
       "      <th>Free-Reduced Lunch</th>\n",
       "    </tr>\n",
       "  </thead>\n",
       "  <tbody>\n",
       "    <tr>\n",
       "      <td>70</td>\n",
       "      <td>83.7%</td>\n",
       "      <td>215</td>\n",
       "      <td>27.4%</td>\n",
       "    </tr>\n",
       "    <tr>\n",
       "      <td>71</td>\n",
       "      <td>47.7%</td>\n",
       "      <td>153</td>\n",
       "      <td>79.1%</td>\n",
       "    </tr>\n",
       "  </tbody>\n",
       "</table>\n",
       "</div>"
      ],
      "text/plain": [
       "   Enrollment Student-Teacher Ratio Free-Reduced Lunch\n",
       "70      83.7%                   215              27.4%\n",
       "71      47.7%                   153              79.1%"
      ]
     },
     "execution_count": 390,
     "metadata": {},
     "output_type": "execute_result"
    }
   ],
   "source": [
    "# make extracted_records_d1 to a dataframe\n",
    "d31_df = pd.DataFrame(extracted_records_d31)\n",
    "d31_df[70:72]\n",
    "# looking through the data - need to replace a few numbers with it's correct numbers"
   ]
  },
  {
   "cell_type": "code",
   "execution_count": 391,
   "metadata": {},
   "outputs": [
    {
     "data": {
      "text/html": [
       "<div>\n",
       "<style scoped>\n",
       "    .dataframe tbody tr th:only-of-type {\n",
       "        vertical-align: middle;\n",
       "    }\n",
       "\n",
       "    .dataframe tbody tr th {\n",
       "        vertical-align: top;\n",
       "    }\n",
       "\n",
       "    .dataframe thead th {\n",
       "        text-align: right;\n",
       "    }\n",
       "</style>\n",
       "<table border=\"1\" class=\"dataframe\">\n",
       "  <thead>\n",
       "    <tr style=\"text-align: right;\">\n",
       "      <th></th>\n",
       "      <th>School Name</th>\n",
       "    </tr>\n",
       "  </thead>\n",
       "  <tbody>\n",
       "    <tr>\n",
       "      <td>70</td>\n",
       "      <td>Kathleen Grimm School For Leadership</td>\n",
       "    </tr>\n",
       "    <tr>\n",
       "      <td>71</td>\n",
       "      <td>Port Richmond School For Visionary Learning</td>\n",
       "    </tr>\n",
       "  </tbody>\n",
       "</table>\n",
       "</div>"
      ],
      "text/plain": [
       "                                    School Name\n",
       "70         Kathleen Grimm School For Leadership\n",
       "71  Port Richmond School For Visionary Learning"
      ]
     },
     "execution_count": 391,
     "metadata": {},
     "output_type": "execute_result"
    }
   ],
   "source": [
    "d31_schools[70:72]"
   ]
  },
  {
   "cell_type": "code",
   "execution_count": 394,
   "metadata": {},
   "outputs": [],
   "source": [
    "d31_df.at[1,'Enrollment'] = 1313\n",
    "d31_df.at[1,'Student-Teacher Ratio'] = 15.2\n",
    "d31_df.at[70,'Enrollment'] = 215\n",
    "d31_df.at[70,'Student-Teacher Ratio'] = 11.3\n",
    "d31_df.at[71,'Enrollment'] = 153\n",
    "d31_df.at[71,'Student-Teacher Ratio'] = 13.9"
   ]
  },
  {
   "cell_type": "code",
   "execution_count": 395,
   "metadata": {},
   "outputs": [
    {
     "data": {
      "text/html": [
       "<div>\n",
       "<style scoped>\n",
       "    .dataframe tbody tr th:only-of-type {\n",
       "        vertical-align: middle;\n",
       "    }\n",
       "\n",
       "    .dataframe tbody tr th {\n",
       "        vertical-align: top;\n",
       "    }\n",
       "\n",
       "    .dataframe thead th {\n",
       "        text-align: right;\n",
       "    }\n",
       "</style>\n",
       "<table border=\"1\" class=\"dataframe\">\n",
       "  <thead>\n",
       "    <tr style=\"text-align: right;\">\n",
       "      <th></th>\n",
       "      <th>Enrollment</th>\n",
       "      <th>Student-Teacher Ratio</th>\n",
       "      <th>Free-Reduced Lunch</th>\n",
       "    </tr>\n",
       "  </thead>\n",
       "  <tbody>\n",
       "    <tr>\n",
       "      <td>0</td>\n",
       "      <td>166</td>\n",
       "      <td>12.9</td>\n",
       "      <td>71.7%</td>\n",
       "    </tr>\n",
       "    <tr>\n",
       "      <td>1</td>\n",
       "      <td>1313</td>\n",
       "      <td>15.2</td>\n",
       "      <td>47.1%</td>\n",
       "    </tr>\n",
       "  </tbody>\n",
       "</table>\n",
       "</div>"
      ],
      "text/plain": [
       "  Enrollment Student-Teacher Ratio Free-Reduced Lunch\n",
       "0        166                  12.9              71.7%\n",
       "1       1313                  15.2              47.1%"
      ]
     },
     "execution_count": 395,
     "metadata": {},
     "output_type": "execute_result"
    }
   ],
   "source": [
    "d31_df.head(2)"
   ]
  },
  {
   "cell_type": "code",
   "execution_count": 396,
   "metadata": {},
   "outputs": [
    {
     "data": {
      "text/html": [
       "<div>\n",
       "<style scoped>\n",
       "    .dataframe tbody tr th:only-of-type {\n",
       "        vertical-align: middle;\n",
       "    }\n",
       "\n",
       "    .dataframe tbody tr th {\n",
       "        vertical-align: top;\n",
       "    }\n",
       "\n",
       "    .dataframe thead th {\n",
       "        text-align: right;\n",
       "    }\n",
       "</style>\n",
       "<table border=\"1\" class=\"dataframe\">\n",
       "  <thead>\n",
       "    <tr style=\"text-align: right;\">\n",
       "      <th></th>\n",
       "      <th>School Name</th>\n",
       "      <th>Enrollment</th>\n",
       "      <th>Student-Teacher Ratio</th>\n",
       "      <th>Free-Reduced Lunch</th>\n",
       "    </tr>\n",
       "  </thead>\n",
       "  <tbody>\n",
       "    <tr>\n",
       "      <td>0</td>\n",
       "      <td>Concord High School</td>\n",
       "      <td>166</td>\n",
       "      <td>12.9</td>\n",
       "      <td>71.7%</td>\n",
       "    </tr>\n",
       "    <tr>\n",
       "      <td>1</td>\n",
       "      <td>Michael J Petrides School (The)</td>\n",
       "      <td>1313</td>\n",
       "      <td>15.2</td>\n",
       "      <td>47.1%</td>\n",
       "    </tr>\n",
       "  </tbody>\n",
       "</table>\n",
       "</div>"
      ],
      "text/plain": [
       "                       School Name Enrollment Student-Teacher Ratio  \\\n",
       "0              Concord High School        166                  12.9   \n",
       "1  Michael J Petrides School (The)       1313                  15.2   \n",
       "\n",
       "  Free-Reduced Lunch  \n",
       "0              71.7%  \n",
       "1              47.1%  "
      ]
     },
     "execution_count": 396,
     "metadata": {},
     "output_type": "execute_result"
    }
   ],
   "source": [
    "district_31 = pd.concat([d31_schools, d31_df], axis=1)\n",
    "district_31.head(2)"
   ]
  },
  {
   "cell_type": "code",
   "execution_count": 397,
   "metadata": {},
   "outputs": [],
   "source": [
    "# make df a csv file to be able to work with later\n",
    "# saving the dataframe \n",
    "district_31.to_csv('district_31.csv')"
   ]
  },
  {
   "cell_type": "markdown",
   "metadata": {},
   "source": [
    "### **New York District 32**"
   ]
  },
  {
   "cell_type": "code",
   "execution_count": 398,
   "metadata": {},
   "outputs": [],
   "source": [
    "# get the url of the site that you need (multiple urls now because I found the different districts)\n",
    "url_schools_d32 = \"https://www.schooldigger.com/go/NY/district/00097/search.aspx\"\n",
    "#download the URL and extract the content to the variable html \n",
    "request_schools_d32 = urllib.request.Request(url_schools_d32)\n",
    "html_schools_d32 = urllib.request.urlopen(request_schools_d32).read()"
   ]
  },
  {
   "cell_type": "code",
   "execution_count": 399,
   "metadata": {},
   "outputs": [],
   "source": [
    "# this will only give me the school names\n",
    "\n",
    "#pass the HTML to Beautifulsoup.\n",
    "soup_d32 = BeautifulSoup(html_schools_d32,'html.parser')\n",
    "main_table_d32 = soup_d32.find(\"div\",attrs={'class':'bsRTable'})\n",
    "school_names_d32 = main_table_d32.find_all(\"span\", class_=\"sName\")"
   ]
  },
  {
   "cell_type": "code",
   "execution_count": 400,
   "metadata": {},
   "outputs": [
    {
     "data": {
      "text/plain": [
       "27"
      ]
     },
     "execution_count": 400,
     "metadata": {},
     "output_type": "execute_result"
    }
   ],
   "source": [
    "schools_d32 = []\n",
    "for school in school_names_d32: \n",
    "    title = school.text\n",
    "    record = {\n",
    "        'School Name':title\n",
    "        }\n",
    "    schools_d32.append(record)\n",
    "# schools_d32\n",
    "len(schools_d32)"
   ]
  },
  {
   "cell_type": "code",
   "execution_count": 401,
   "metadata": {},
   "outputs": [],
   "source": [
    "# Make school list to a dataframe\n",
    "d32_schools = pd.DataFrame(schools_d32)"
   ]
  },
  {
   "cell_type": "code",
   "execution_count": 402,
   "metadata": {},
   "outputs": [
    {
     "name": "stdout",
     "output_type": "stream",
     "text": [
      "135\n"
     ]
    },
    {
     "data": {
      "text/plain": [
       "(35, 'https://www.schooldigger.com/go/NY/schools/0009700827/school.aspx')"
      ]
     },
     "execution_count": 402,
     "metadata": {},
     "output_type": "execute_result"
    }
   ],
   "source": [
    "# this gives me the links in the rows that go with the school names\n",
    "school_links_d32 = []\n",
    "link_list_d32 = main_table_d32.find_all('a',href=True)\n",
    "for data in link_list_d32:\n",
    "  link = data['href']\n",
    "  school_links_d32.append(link)\n",
    "print(len(school_links_d32))\n",
    "links_d32 = list(dict.fromkeys(school_links_d32)) # making a unique list from the dictionary of links\n",
    "len(links_d32), links_d32[0] # previewing size and first url"
   ]
  },
  {
   "cell_type": "code",
   "execution_count": 403,
   "metadata": {},
   "outputs": [],
   "source": [
    "# change the list to a dataframe to be able to filter out the links that I need and not the other links\n",
    "d32_links = pd.DataFrame(links_d32)"
   ]
  },
  {
   "cell_type": "code",
   "execution_count": 404,
   "metadata": {},
   "outputs": [],
   "source": [
    "links_needed_d32 = d32_links[d32_links[0].str.contains('https://www.schooldigger.com/go/NY/schools/')]"
   ]
  },
  {
   "cell_type": "code",
   "execution_count": 405,
   "metadata": {},
   "outputs": [
    {
     "data": {
      "text/plain": [
       "27"
      ]
     },
     "execution_count": 405,
     "metadata": {},
     "output_type": "execute_result"
    }
   ],
   "source": [
    "# this give me only the links as a list\n",
    "d32_list_links = links_needed_d32[0].values.tolist()\n",
    "len(d32_list_links)"
   ]
  },
  {
   "cell_type": "code",
   "execution_count": 406,
   "metadata": {},
   "outputs": [],
   "source": [
    "# split up the dataset to make it not time out\n",
    "extracted_records_d32 = []\n",
    "\n",
    "for each in d32_list_links:\n",
    "  # You can add a time sleep to pause between pulls\n",
    "\n",
    "\n",
    "  #download the URL and extract the content to the variable html \n",
    "  request_schools = urllib.request.Request(each)\n",
    "  html_schools = urllib.request.urlopen(request_schools).read()\n",
    "  soup = BeautifulSoup(html_schools,'html.parser')\n",
    "  table = soup.find_all('span', {'class':'bigOrange'})\n",
    "#   display(table)\n",
    "  enrollment_num = table[2]\n",
    "  ratio_num = table[1]\n",
    "  lunch_num = table[-1]\n",
    "  records = {\n",
    "        'Enrollment': enrollment_num.text,\n",
    "        'Student-Teacher Ratio': ratio_num.text,\n",
    "        'Free-Reduced Lunch': lunch_num.text\n",
    "        }\n",
    "  extracted_records_d32.append(records)"
   ]
  },
  {
   "cell_type": "code",
   "execution_count": 408,
   "metadata": {},
   "outputs": [
    {
     "name": "stdout",
     "output_type": "stream",
     "text": [
      "27\n",
      "27\n"
     ]
    }
   ],
   "source": [
    "# checking the lens of everything to make sure it's ok\n",
    "print(len(extracted_records_d32))\n",
    "print(len(d32_list_links))"
   ]
  },
  {
   "cell_type": "code",
   "execution_count": 410,
   "metadata": {},
   "outputs": [
    {
     "data": {
      "text/html": [
       "<div>\n",
       "<style scoped>\n",
       "    .dataframe tbody tr th:only-of-type {\n",
       "        vertical-align: middle;\n",
       "    }\n",
       "\n",
       "    .dataframe tbody tr th {\n",
       "        vertical-align: top;\n",
       "    }\n",
       "\n",
       "    .dataframe thead th {\n",
       "        text-align: right;\n",
       "    }\n",
       "</style>\n",
       "<table border=\"1\" class=\"dataframe\">\n",
       "  <thead>\n",
       "    <tr style=\"text-align: right;\">\n",
       "      <th></th>\n",
       "      <th>Enrollment</th>\n",
       "      <th>Student-Teacher Ratio</th>\n",
       "      <th>Free-Reduced Lunch</th>\n",
       "    </tr>\n",
       "  </thead>\n",
       "  <tbody>\n",
       "    <tr>\n",
       "      <td>0</td>\n",
       "      <td>488</td>\n",
       "      <td>12.4</td>\n",
       "      <td>89.3%</td>\n",
       "    </tr>\n",
       "  </tbody>\n",
       "</table>\n",
       "</div>"
      ],
      "text/plain": [
       "  Enrollment Student-Teacher Ratio Free-Reduced Lunch\n",
       "0        488                  12.4              89.3%"
      ]
     },
     "execution_count": 410,
     "metadata": {},
     "output_type": "execute_result"
    }
   ],
   "source": [
    "# make extracted_records_d1 to a dataframe\n",
    "d32_df = pd.DataFrame(extracted_records_d32)\n",
    "d32_df.head(1)\n",
    "# looking through the data - need to replace a few numbers with it's correct numbers"
   ]
  },
  {
   "cell_type": "code",
   "execution_count": 411,
   "metadata": {},
   "outputs": [
    {
     "data": {
      "text/html": [
       "<div>\n",
       "<style scoped>\n",
       "    .dataframe tbody tr th:only-of-type {\n",
       "        vertical-align: middle;\n",
       "    }\n",
       "\n",
       "    .dataframe tbody tr th {\n",
       "        vertical-align: top;\n",
       "    }\n",
       "\n",
       "    .dataframe thead th {\n",
       "        text-align: right;\n",
       "    }\n",
       "</style>\n",
       "<table border=\"1\" class=\"dataframe\">\n",
       "  <thead>\n",
       "    <tr style=\"text-align: right;\">\n",
       "      <th></th>\n",
       "      <th>School Name</th>\n",
       "      <th>Enrollment</th>\n",
       "      <th>Student-Teacher Ratio</th>\n",
       "      <th>Free-Reduced Lunch</th>\n",
       "    </tr>\n",
       "  </thead>\n",
       "  <tbody>\n",
       "    <tr>\n",
       "      <td>0</td>\n",
       "      <td>Ebc High School For Public Service-Bushwick</td>\n",
       "      <td>488</td>\n",
       "      <td>12.4</td>\n",
       "      <td>89.3%</td>\n",
       "    </tr>\n",
       "    <tr>\n",
       "      <td>1</td>\n",
       "      <td>Ps 376</td>\n",
       "      <td>518</td>\n",
       "      <td>15.6</td>\n",
       "      <td>87.1%</td>\n",
       "    </tr>\n",
       "  </tbody>\n",
       "</table>\n",
       "</div>"
      ],
      "text/plain": [
       "                                   School Name Enrollment  \\\n",
       "0  Ebc High School For Public Service-Bushwick        488   \n",
       "1                                       Ps 376        518   \n",
       "\n",
       "  Student-Teacher Ratio Free-Reduced Lunch  \n",
       "0                  12.4              89.3%  \n",
       "1                  15.6              87.1%  "
      ]
     },
     "execution_count": 411,
     "metadata": {},
     "output_type": "execute_result"
    }
   ],
   "source": [
    "district_32 = pd.concat([d32_schools, d32_df], axis=1)\n",
    "district_32.head(2)"
   ]
  },
  {
   "cell_type": "code",
   "execution_count": 412,
   "metadata": {},
   "outputs": [],
   "source": [
    "# make df a csv file to be able to work with later\n",
    "# saving the dataframe \n",
    "district_32.to_csv('district_32.csv')"
   ]
  },
  {
   "cell_type": "code",
   "execution_count": null,
   "metadata": {},
   "outputs": [],
   "source": [
    "# checking the lens of everything to make sure it's ok\n",
    "print(len(extracted_records))\n",
    "print(len(extracted_records2))\n",
    "print(len(extracted_records)+len(extracted_records2))\n",
    "print(len(list_links))"
   ]
  },
  {
   "cell_type": "code",
   "execution_count": null,
   "metadata": {},
   "outputs": [],
   "source": [
    "# working it out to put in it's own dataframe\n",
    "info1 = pd.DataFrame(extracted_records)\n",
    "info2 = pd.DataFrame(extracted_records2)\n",
    "\n",
    "df_info = pd.concat([info1, info2], ignore_index=True)"
   ]
  }
 ],
 "metadata": {
  "kernelspec": {
   "display_name": "Python [conda env:learn-env] *",
   "language": "python",
   "name": "conda-env-learn-env-py"
  },
  "language_info": {
   "codemirror_mode": {
    "name": "ipython",
    "version": 3
   },
   "file_extension": ".py",
   "mimetype": "text/x-python",
   "name": "python",
   "nbconvert_exporter": "python",
   "pygments_lexer": "ipython3",
   "version": "3.6.9"
  }
 },
 "nbformat": 4,
 "nbformat_minor": 2
}
